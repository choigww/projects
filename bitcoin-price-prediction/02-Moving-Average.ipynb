{
 "cells": [
  {
   "cell_type": "markdown",
   "id": "round-carroll",
   "metadata": {},
   "source": [
    "# Bitcoin Price Prediction\n",
    "using time series analysis\n",
    "\n",
    "## 평활화 모형\n",
    "- 이동평균 (Moving Average)\n",
    "- 지수평활\n",
    "- 윈터스 모형\n",
    "- 분해법"
   ]
  },
  {
   "cell_type": "code",
   "execution_count": 2,
   "id": "ultimate-dress",
   "metadata": {},
   "outputs": [],
   "source": [
    "import numpy as np # linear algebra\n",
    "import pandas as pd # data processing, CSV file I/O (e.g. pd.read_csv)\n",
    "import matplotlib.pyplot as plt \n",
    "\n",
    "# Input data files are available in the \"../input/\" directory.\n",
    "# For example, running this (by clicking run or pressing Shift+Enter) will list the files in the input directory\n",
    "\n",
    "from chart_studio import tools\n",
    "from chart_studio.plotly import plot, iplot\n",
    "import chart_studio.plotly as py\n",
    "import plotly.graph_objects as go\n",
    "import gc\n",
    "\n",
    "import matplotlib.pyplot as plt\n",
    "import seaborn as sns\n",
    "import re"
   ]
  },
  {
   "cell_type": "code",
   "execution_count": 3,
   "id": "needed-number",
   "metadata": {},
   "outputs": [
    {
     "data": {
      "text/html": [
       "<div>\n",
       "<style scoped>\n",
       "    .dataframe tbody tr th:only-of-type {\n",
       "        vertical-align: middle;\n",
       "    }\n",
       "\n",
       "    .dataframe tbody tr th {\n",
       "        vertical-align: top;\n",
       "    }\n",
       "\n",
       "    .dataframe thead th {\n",
       "        text-align: right;\n",
       "    }\n",
       "</style>\n",
       "<table border=\"1\" class=\"dataframe\">\n",
       "  <thead>\n",
       "    <tr style=\"text-align: right;\">\n",
       "      <th></th>\n",
       "      <th>date</th>\n",
       "      <th>close</th>\n",
       "      <th>volume</th>\n",
       "      <th>fluctuation</th>\n",
       "      <th>weighted_close</th>\n",
       "      <th>close_log</th>\n",
       "      <th>close_norm</th>\n",
       "      <th>volume_norm</th>\n",
       "      <th>weighted_close_norm</th>\n",
       "    </tr>\n",
       "  </thead>\n",
       "  <tbody>\n",
       "    <tr>\n",
       "      <th>0</th>\n",
       "      <td>2013-01-01</td>\n",
       "      <td>13.3</td>\n",
       "      <td>28410.0</td>\n",
       "      <td>-1.55</td>\n",
       "      <td>377853.0</td>\n",
       "      <td>2.587764</td>\n",
       "      <td>0.000000</td>\n",
       "      <td>0.028034</td>\n",
       "      <td>0.000000e+00</td>\n",
       "    </tr>\n",
       "    <tr>\n",
       "      <th>1</th>\n",
       "      <td>2013-01-02</td>\n",
       "      <td>13.3</td>\n",
       "      <td>17970.0</td>\n",
       "      <td>0.00</td>\n",
       "      <td>239001.0</td>\n",
       "      <td>2.587764</td>\n",
       "      <td>0.000000</td>\n",
       "      <td>0.017585</td>\n",
       "      <td>0.000000e+00</td>\n",
       "    </tr>\n",
       "    <tr>\n",
       "      <th>2</th>\n",
       "      <td>2013-01-03</td>\n",
       "      <td>13.4</td>\n",
       "      <td>18030.0</td>\n",
       "      <td>0.90</td>\n",
       "      <td>241602.0</td>\n",
       "      <td>2.595255</td>\n",
       "      <td>0.000002</td>\n",
       "      <td>0.017645</td>\n",
       "      <td>3.073006e-08</td>\n",
       "    </tr>\n",
       "    <tr>\n",
       "      <th>3</th>\n",
       "      <td>2013-01-04</td>\n",
       "      <td>13.5</td>\n",
       "      <td>29640.0</td>\n",
       "      <td>0.75</td>\n",
       "      <td>400140.0</td>\n",
       "      <td>2.602690</td>\n",
       "      <td>0.000003</td>\n",
       "      <td>0.029265</td>\n",
       "      <td>1.019338e-07</td>\n",
       "    </tr>\n",
       "    <tr>\n",
       "      <th>4</th>\n",
       "      <td>2013-01-05</td>\n",
       "      <td>13.4</td>\n",
       "      <td>21330.0</td>\n",
       "      <td>-0.44</td>\n",
       "      <td>285822.0</td>\n",
       "      <td>2.595255</td>\n",
       "      <td>0.000002</td>\n",
       "      <td>0.020948</td>\n",
       "      <td>3.648214e-08</td>\n",
       "    </tr>\n",
       "  </tbody>\n",
       "</table>\n",
       "</div>"
      ],
      "text/plain": [
       "         date  close   volume  fluctuation  weighted_close  close_log  \\\n",
       "0  2013-01-01   13.3  28410.0        -1.55        377853.0   2.587764   \n",
       "1  2013-01-02   13.3  17970.0         0.00        239001.0   2.587764   \n",
       "2  2013-01-03   13.4  18030.0         0.90        241602.0   2.595255   \n",
       "3  2013-01-04   13.5  29640.0         0.75        400140.0   2.602690   \n",
       "4  2013-01-05   13.4  21330.0        -0.44        285822.0   2.595255   \n",
       "\n",
       "   close_norm  volume_norm  weighted_close_norm  \n",
       "0    0.000000     0.028034         0.000000e+00  \n",
       "1    0.000000     0.017585         0.000000e+00  \n",
       "2    0.000002     0.017645         3.073006e-08  \n",
       "3    0.000003     0.029265         1.019338e-07  \n",
       "4    0.000002     0.020948         3.648214e-08  "
      ]
     },
     "execution_count": 3,
     "metadata": {},
     "output_type": "execute_result"
    }
   ],
   "source": [
    "df = pd.read_csv('./data/bitcoin_eda.csv', index_col=0)\n",
    "df.head()"
   ]
  },
  {
   "cell_type": "markdown",
   "id": "natural-supervision",
   "metadata": {},
   "source": [
    "### 단순이동평균 (Simple Moving Average)\n",
    "- 시계열 데이터 $\\{X_1, X_2, ...\\}$가 수평적 패턴일 때 사용\n",
    "- $M_t = \\frac{1}{N}(X_{t-N+1}+...+X_t)$"
   ]
  },
  {
   "cell_type": "code",
   "execution_count": 14,
   "id": "freelance-connection",
   "metadata": {},
   "outputs": [],
   "source": [
    "# Simple Moving Average, N=4\n",
    "close_MA4 = df.iloc[:,1].rolling(window=4).mean()\n",
    "close_MA8 = df.iloc[:,1].rolling(window=8).mean()"
   ]
  },
  {
   "cell_type": "code",
   "execution_count": 19,
   "id": "italian-remove",
   "metadata": {},
   "outputs": [
    {
     "data": {
      "text/html": [
       "<div>\n",
       "<style scoped>\n",
       "    .dataframe tbody tr th:only-of-type {\n",
       "        vertical-align: middle;\n",
       "    }\n",
       "\n",
       "    .dataframe tbody tr th {\n",
       "        vertical-align: top;\n",
       "    }\n",
       "\n",
       "    .dataframe thead th {\n",
       "        text-align: right;\n",
       "    }\n",
       "</style>\n",
       "<table border=\"1\" class=\"dataframe\">\n",
       "  <thead>\n",
       "    <tr style=\"text-align: right;\">\n",
       "      <th></th>\n",
       "      <th>close</th>\n",
       "      <th>close</th>\n",
       "    </tr>\n",
       "  </thead>\n",
       "  <tbody>\n",
       "    <tr>\n",
       "      <th>2971</th>\n",
       "      <td>52184.425</td>\n",
       "      <td>49982.2250</td>\n",
       "    </tr>\n",
       "    <tr>\n",
       "      <th>2972</th>\n",
       "      <td>53872.925</td>\n",
       "      <td>51051.2250</td>\n",
       "    </tr>\n",
       "    <tr>\n",
       "      <th>2973</th>\n",
       "      <td>55211.575</td>\n",
       "      <td>52334.3625</td>\n",
       "    </tr>\n",
       "    <tr>\n",
       "      <th>2974</th>\n",
       "      <td>55843.975</td>\n",
       "      <td>53017.9125</td>\n",
       "    </tr>\n",
       "    <tr>\n",
       "      <th>2975</th>\n",
       "      <td>54095.125</td>\n",
       "      <td>53139.7750</td>\n",
       "    </tr>\n",
       "    <tr>\n",
       "      <th>2976</th>\n",
       "      <td>52538.575</td>\n",
       "      <td>53205.7500</td>\n",
       "    </tr>\n",
       "    <tr>\n",
       "      <th>2977</th>\n",
       "      <td>49912.250</td>\n",
       "      <td>52561.9125</td>\n",
       "    </tr>\n",
       "    <tr>\n",
       "      <th>2978</th>\n",
       "      <td>47970.700</td>\n",
       "      <td>51907.3375</td>\n",
       "    </tr>\n",
       "    <tr>\n",
       "      <th>2979</th>\n",
       "      <td>47277.075</td>\n",
       "      <td>50686.1000</td>\n",
       "    </tr>\n",
       "    <tr>\n",
       "      <th>2980</th>\n",
       "      <td>46143.700</td>\n",
       "      <td>49341.1375</td>\n",
       "    </tr>\n",
       "  </tbody>\n",
       "</table>\n",
       "</div>"
      ],
      "text/plain": [
       "          close       close\n",
       "2971  52184.425  49982.2250\n",
       "2972  53872.925  51051.2250\n",
       "2973  55211.575  52334.3625\n",
       "2974  55843.975  53017.9125\n",
       "2975  54095.125  53139.7750\n",
       "2976  52538.575  53205.7500\n",
       "2977  49912.250  52561.9125\n",
       "2978  47970.700  51907.3375\n",
       "2979  47277.075  50686.1000\n",
       "2980  46143.700  49341.1375"
      ]
     },
     "execution_count": 19,
     "metadata": {},
     "output_type": "execute_result"
    }
   ],
   "source": [
    "pd.concat([close_MA4, close_MA8], axis=1).tail(10)"
   ]
  },
  {
   "cell_type": "code",
   "execution_count": null,
   "id": "afraid-denmark",
   "metadata": {},
   "outputs": [],
   "source": []
  },
  {
   "cell_type": "code",
   "execution_count": 15,
   "id": "political-density",
   "metadata": {},
   "outputs": [
    {
     "data": {
      "text/plain": [
       "<matplotlib.legend.Legend at 0x1a1ac7fc50>"
      ]
     },
     "execution_count": 15,
     "metadata": {},
     "output_type": "execute_result"
    },
    {
     "data": {
      "image/png": "[encoded data removed]",
      "text/plain": [
       "<Figure size 720x360 with 1 Axes>"
      ]
     },
     "metadata": {
      "needs_background": "light"
     },
     "output_type": "display_data"
    }
   ],
   "source": [
    "plt.figure(figsize=(10, 5))\n",
    "df['close'].plot()\n",
    "close_MA4.plot()\n",
    "close_MA8.plot()\n",
    "plt.legend(['close', 'close_MA4', 'close_MA8'])"
   ]
  },
  {
   "cell_type": "code",
   "execution_count": null,
   "id": "experimental-actress",
   "metadata": {},
   "outputs": [],
   "source": []
  },
  {
   "cell_type": "markdown",
   "id": "spread-classic",
   "metadata": {},
   "source": [
    "* N이 커질수록 평활 효과가 커짐\n",
    "    - 더 완만한 곡선"
   ]
  },
  {
   "cell_type": "code",
   "execution_count": 29,
   "id": "behind-projection",
   "metadata": {},
   "outputs": [
    {
     "data": {
      "text/plain": [
       "(2954.0, 2981.0)"
      ]
     },
     "execution_count": 29,
     "metadata": {},
     "output_type": "execute_result"
    },
    {
     "data": {
      "image/png": "[encoded data removed]",
      "text/plain": [
       "<Figure size 720x360 with 1 Axes>"
      ]
     },
     "metadata": {
      "needs_background": "light"
     },
     "output_type": "display_data"
    }
   ],
   "source": [
    "# 21.02.01 - 21.02.28\n",
    "plt.figure(figsize=(10, 5))\n",
    "df['close'].plot()\n",
    "close_MA4.plot()\n",
    "close_MA8.plot()\n",
    "plt.legend(['close', 'close_MA4', 'close_MA8'])\n",
    "plt.xlim(2954, len(df))"
   ]
  },
  {
   "cell_type": "code",
   "execution_count": null,
   "id": "cultural-delight",
   "metadata": {},
   "outputs": [],
   "source": []
  },
  {
   "cell_type": "markdown",
   "id": "premium-surrey",
   "metadata": {},
   "source": [
    "### Double Moving Average\n",
    "이중이동평균 (Double Moving Average)\n",
    "- 시계열 데이터 $\\{X_1, X_2, ...\\}$가 추세 패턴을 따를 때 사용\n",
    "\n",
    "시계열이 다음과 같이 선형추세를 갖는다고 가정하자.\n",
    "\n",
    "$$X_t = c + bt + a_t$$\n",
    "- 단순이동평균 $M_t$는 추세를 늦게 따라감\n",
    "    - $E[M_t] = c + bt - \\frac{N-1}{2}b \\Rightarrow E[M_t]+\\frac{N-1}{2}b=c+bt$\n",
    "- 이를 보정하기 위해 이중 이동평균을 활용\n",
    "  \n",
    "$$M_t = \\frac{1}{N}(X_{t-N+1}+...+X_t)$$\n",
    "$$M_t^{(2)} = \\frac{1}{N}(X_{t-N+1}+...+X_t)$$\n"
   ]
  },
  {
   "cell_type": "code",
   "execution_count": null,
   "id": "settled-gravity",
   "metadata": {},
   "outputs": [],
   "source": []
  },
  {
   "cell_type": "code",
   "execution_count": null,
   "id": "temporal-anxiety",
   "metadata": {},
   "outputs": [],
   "source": []
  },
  {
   "cell_type": "code",
   "execution_count": null,
   "id": "outstanding-infection",
   "metadata": {},
   "outputs": [],
   "source": []
  },
  {
   "cell_type": "code",
   "execution_count": null,
   "id": "essential-ballot",
   "metadata": {},
   "outputs": [],
   "source": []
  },
  {
   "cell_type": "code",
   "execution_count": null,
   "id": "exact-veteran",
   "metadata": {},
   "outputs": [],
   "source": []
  },
  {
   "cell_type": "code",
   "execution_count": null,
   "id": "engaging-tulsa",
   "metadata": {},
   "outputs": [],
   "source": []
  }
 ],
 "metadata": {
  "kernelspec": {
   "display_name": "Python 3",
   "language": "python",
   "name": "python3"
  },
  "language_info": {
   "codemirror_mode": {
    "name": "ipython",
    "version": 3
   },
   "file_extension": ".py",
   "mimetype": "text/x-python",
   "name": "python",
   "nbconvert_exporter": "python",
   "pygments_lexer": "ipython3",
   "version": "3.7.9"
  }
 },
 "nbformat": 4,
 "nbformat_minor": 5
}

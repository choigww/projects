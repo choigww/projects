{
 "cells": [
  {
   "cell_type": "markdown",
   "metadata": {},
   "source": [
    "# Forest Cover Type Prediction\n",
    "### 3. Further Experiments to Improve Model Performance (1)\n",
    "![forest-cover-type-coverimage](https://kaggle2.blob.core.windows.net/competitions/kaggle/3936/logos/front_page.png)\n",
    "<center>https://www.kaggle.com/c/forest-cover-type-prediction</center>\n"
   ]
  },
  {
   "cell_type": "code",
   "execution_count": 1,
   "metadata": {},
   "outputs": [
    {
     "name": "stderr",
     "output_type": "stream",
     "text": [
      "/usr/local/lib/python3.6/site-packages/sklearn/cross_validation.py:41: DeprecationWarning: This module was deprecated in version 0.18 in favor of the model_selection module into which all the refactored classes and functions are moved. Also note that the interface of the new CV iterators are different from that of this module. This module will be removed in 0.20.\n",
      "  \"This module will be removed in 0.20.\", DeprecationWarning)\n",
      "/usr/local/lib/python3.6/site-packages/sklearn/learning_curve.py:22: DeprecationWarning: This module was deprecated in version 0.18 in favor of the model_selection module into which all the functions are moved. This module will be removed in 0.20\n",
      "  DeprecationWarning)\n"
     ]
    }
   ],
   "source": [
    "import random\n",
    "import pandas as pd\n",
    "import numpy as np\n",
    "\n",
    "from sklearn.svm import SVC\n",
    "from sklearn.ensemble import ExtraTreesClassifier\n",
    "from sklearn.ensemble import RandomForestClassifier\n",
    "from sklearn.ensemble import VotingClassifier\n",
    "from sklearn.ensemble import AdaBoostClassifier\n",
    "from sklearn.neighbors import KNeighborsClassifier\n",
    "from sklearn.tree import DecisionTreeClassifier\n",
    "from sklearn.linear_model import LogisticRegression\n",
    "from sklearn.naive_bayes import GaussianNB\n",
    "from xgboost import XGBClassifier\n",
    "from mlxtend.classifier import EnsembleVoteClassifier\n",
    "\n",
    "from sklearn.preprocessing import StandardScaler\n",
    "from sklearn.preprocessing import LabelEncoder\n",
    "from sklearn.preprocessing import LabelBinarizer\n",
    "from sklearn.feature_selection import RFE\n",
    "from sklearn.feature_selection import RFECV\n",
    "from sklearn.learning_curve import learning_curve\n",
    "from sklearn.pipeline import Pipeline\n",
    "\n",
    "from sklearn.model_selection import train_test_split\n",
    "from sklearn.model_selection import cross_val_score\n",
    "from sklearn.model_selection import KFold\n",
    "from sklearn.model_selection import RandomizedSearchCV\n",
    "from sklearn.model_selection import GridSearchCV\n",
    "\n",
    "from sklearn.decomposition import PCA\n",
    "from sklearn.decomposition import KernelPCA\n",
    "from sklearn.discriminant_analysis import LinearDiscriminantAnalysis as LDA\n",
    "from sklearn.decomposition import TruncatedSVD\n",
    "from sklearn.metrics import confusion_matrix\n",
    "from sklearn.utils import shuffle\n",
    "\n",
    "import matplotlib as mpl\n",
    "from matplotlib import pyplot as plt\n",
    "import seaborn as sns"
   ]
  },
  {
   "cell_type": "code",
   "execution_count": 2,
   "metadata": {
    "collapsed": true
   },
   "outputs": [],
   "source": [
    "X_scaled_train = pd.read_csv('data/X_scaled_train.csv')\n",
    "X_scaled_test = pd.read_csv('data/X_scaled_test.csv')\n",
    "y_train = pd.read_csv('data/train.csv', usecols=['Cover_Type']).values.ravel()\n",
    "etc_gini_rfecv = pd.read_csv('data/rfecv_etc_gini.csv').values.ravel().tolist()\n",
    "X_scaled_train_best = X_scaled_train[etc_gini_rfecv]\n",
    "etc_best_params = {'class_weight': 'balanced',\n",
    "                     'criterion': 'gini',\n",
    "                     'max_depth': 50,\n",
    "                     'max_features': 0.3,\n",
    "                     'max_leaf_nodes': None,\n",
    "                     'min_impurity_decrease': 0,\n",
    "                     'min_samples_leaf': 1,\n",
    "                     'min_samples_split': 2,\n",
    "                     'n_estimators': 200}\n",
    "\n",
    "etc_best = ExtraTreesClassifier(**etc_best_params, random_state=0)"
   ]
  },
  {
   "cell_type": "code",
   "execution_count": null,
   "metadata": {
    "collapsed": true
   },
   "outputs": [],
   "source": []
  },
  {
   "cell_type": "markdown",
   "metadata": {},
   "source": [
    "## Experiment 1. Class Weights\n",
    "\n",
    "* Analyze which labels our best model do not predict well\n",
    "* Add more weights to the labels found as week points"
   ]
  },
  {
   "cell_type": "code",
   "execution_count": 29,
   "metadata": {
    "collapsed": true
   },
   "outputs": [],
   "source": [
    "def cv_kfold(dfX, dfy, model, num_splits, print_=0):\n",
    "    \n",
    "    scores = cross_val_score(model, dfX, dfy, scoring='accuracy',cv=num_splits)\n",
    "    \n",
    "    if print_:\n",
    "        print(scores)\n",
    "        print(np.mean(scores), np.std(scores))\n",
    "    \n",
    "    return (np.mean(scores))"
   ]
  },
  {
   "cell_type": "code",
   "execution_count": 30,
   "metadata": {
    "collapsed": true
   },
   "outputs": [],
   "source": [
    "def draw_confmat(confmat):\n",
    "    \n",
    "    fig, ax = plt.subplots(figsize=(8, 8))\n",
    "    ax.matshow(confmat, cmap=plt.cm.Blues, alpha=0.3)\n",
    "    for i in range(confmat.shape[0]):\n",
    "        for j in range(confmat.shape[1]):\n",
    "            ax.text(x=j, y=i, s=confmat[i, j], va='center', ha='center')\n",
    "    plt.xlabel('predicted label')\n",
    "    plt.ylabel('true label')\n",
    "    plt.show()"
   ]
  },
  {
   "cell_type": "code",
   "execution_count": 31,
   "metadata": {
    "collapsed": true
   },
   "outputs": [],
   "source": [
    "wrongs_tn = {'1':0, '2':0, '3':0, '4':0, '5':0, '6':0, '7':0}\n",
    "wrongs_fp = {'1':0, '2':0, '3':0, '4':0, '5':0, '6':0, '7':0}\n",
    "confmat_summed = []\n",
    "wrongs_indices = {}\n",
    "\n",
    "for i in range(10):\n",
    "    X_train_, X_test_, y_train_, y_test_ = train_test_split(\n",
    "                            X_scaled_train_best, y_train, test_size=0.1, random_state=i)\n",
    "    \n",
    "    etc_best_fit = etc_best.fit(X_train_, y_train_)\n",
    "    y_hat = etc_best_fit.predict(X_test_)\n",
    "    \n",
    "    compare = pd.Series(y_test_ == y_hat)\n",
    "\n",
    "    wrongs_idx = compare[compare==False].index\n",
    "    wrongs = pd.Series(y_test_)[wrongs_idx].value_counts()\n",
    "    \n",
    "    for i in range(1, 8):\n",
    "        wrongs_tn[str(i)] += wrongs[i]\n",
    "        \n",
    "    for widx in wrongs_idx:\n",
    "        if widx in wrongs_indices:\n",
    "            wrongs_indices[widx] += 1\n",
    "        else:\n",
    "            wrongs_indices[widx] = 1\n",
    "    \n",
    "    confmat = confusion_matrix(y_true=y_test_, y_pred=y_hat)\n",
    "    \n",
    "    if type(confmat_summed) != list:\n",
    "        confmat_summed = np.add(confmat, confmat_summed)\n",
    "    else:\n",
    "        confmat_summed = confmat\n",
    "    "
   ]
  },
  {
   "cell_type": "code",
   "execution_count": 32,
   "metadata": {},
   "outputs": [
    {
     "data": {
      "image/png": "[encoded data removed]",
      "text/plain": [
       "<matplotlib.figure.Figure at 0x109bec7f0>"
      ]
     },
     "metadata": {},
     "output_type": "display_data"
    }
   ],
   "source": [
    "draw_confmat(confmat_summed/50)"
   ]
  },
  {
   "cell_type": "code",
   "execution_count": 33,
   "metadata": {
    "collapsed": true
   },
   "outputs": [],
   "source": [
    "# each number is average number from 50 tests\n",
    "confmat_avg = confmat_summed/50"
   ]
  },
  {
   "cell_type": "code",
   "execution_count": 34,
   "metadata": {
    "collapsed": true
   },
   "outputs": [],
   "source": [
    "# average number of true negatives\n",
    "tn = confmat_avg.sum(axis=1) - confmat_summed.diagonal()/50\n",
    "tn_reg = tn / np.min(tn)"
   ]
  },
  {
   "cell_type": "code",
   "execution_count": 35,
   "metadata": {
    "collapsed": true
   },
   "outputs": [],
   "source": [
    "# average number of false positives\n",
    "fp = confmat_avg.sum(axis=0) - confmat_summed.diagonal()/50\n",
    "fp_reg = fp / np.min(fp)"
   ]
  },
  {
   "cell_type": "code",
   "execution_count": 36,
   "metadata": {
    "collapsed": true
   },
   "outputs": [],
   "source": [
    "# test weight 1 : calculate weights based on true negatives\n",
    "# test weight 2 : calculate weights based on false positives\n",
    "\n",
    "test_weight_1 = {i+1 : tn for i, tn in enumerate(tn_reg)}\n",
    "test_weight_2 = {i+1 : fp for i, fp in enumerate(fp_reg)}"
   ]
  },
  {
   "cell_type": "code",
   "execution_count": 37,
   "metadata": {},
   "outputs": [
    {
     "data": {
      "text/plain": [
       "{1: 10.571428571428532,\n",
       " 2: 11.999999999999948,\n",
       " 3: 5.8571428571428354,\n",
       " 4: 1.5238095238095191,\n",
       " 5: 1.5952380952380845,\n",
       " 6: 3.7619047619047512,\n",
       " 7: 1.0}"
      ]
     },
     "execution_count": 37,
     "metadata": {},
     "output_type": "execute_result"
    }
   ],
   "source": [
    "test_weight_1"
   ]
  },
  {
   "cell_type": "code",
   "execution_count": 38,
   "metadata": {},
   "outputs": [
    {
     "data": {
      "text/plain": [
       "{1: 3.0458715596330284,\n",
       " 2: 3.467889908256879,\n",
       " 3: 1.9266055045871575,\n",
       " 4: 1.0,\n",
       " 5: 1.4587155963302754,\n",
       " 6: 2.0366972477064214,\n",
       " 7: 1.0550458715596318}"
      ]
     },
     "execution_count": 38,
     "metadata": {},
     "output_type": "execute_result"
    }
   ],
   "source": [
    "test_weight_2"
   ]
  },
  {
   "cell_type": "code",
   "execution_count": 39,
   "metadata": {},
   "outputs": [
    {
     "data": {
      "text/plain": [
       "{1: 32.199213630406177,\n",
       " 2: 41.614678899082371,\n",
       " 3: 11.284403669724737,\n",
       " 4: 1.5238095238095191,\n",
       " 5: 2.3269986893839949,\n",
       " 6: 7.6618610747050875,\n",
       " 7: 1.0550458715596318}"
      ]
     },
     "execution_count": 39,
     "metadata": {},
     "output_type": "execute_result"
    }
   ],
   "source": [
    "test_weight_3 = {v1[0] : v1[1]*v2[1] for v1, v2  in zip(list(test_weight_1.items()), list(test_weight_2.items()))}\n",
    "test_weight_3"
   ]
  },
  {
   "cell_type": "code",
   "execution_count": null,
   "metadata": {
    "collapsed": true
   },
   "outputs": [],
   "source": []
  },
  {
   "cell_type": "markdown",
   "metadata": {},
   "source": [
    "### Most of wrong predictions are found in class label `1`, `2`, `3` and `6`.\n",
    "* Applying the class weights to our best model and see the score again\n",
    "* `Blue` and `green` dots in the pca/lda graph below."
   ]
  },
  {
   "cell_type": "code",
   "execution_count": 14,
   "metadata": {
    "collapsed": true
   },
   "outputs": [],
   "source": [
    "def draw_pca_lda_2d(X_, y_):\n",
    "    pca = PCA(n_components=2)\n",
    "    X_selected_2d = pca.fit_transform(X_)\n",
    "    plt.scatter(X_selected_2d[:,0], X_selected_2d[:,1], c=y_train, s=50, cmap=plt.cm.Paired)\n",
    "    plt.colorbar()\n",
    "    plt.xlabel('Principal Component 1')\n",
    "    plt.ylabel('Principal Component 2')\n",
    "    plt.title('First two PCs using digits data')\n",
    "    plt.show()\n",
    "\n",
    "    lda = LDA(n_components=2)\n",
    "    X_selected_2d = lda.fit_transform(X_, y_)\n",
    "\n",
    "    plt.scatter(X_selected_2d[:,0], X_selected_2d[:,1], c=y_train, s=50, cmap=plt.cm.Paired)\n",
    "    plt.colorbar()\n",
    "    plt.xlabel('Principal Component 1')\n",
    "    plt.ylabel('Principal Component 2')\n",
    "    plt.title('First two PCs using digits data')\n",
    "    plt.show()"
   ]
  },
  {
   "cell_type": "code",
   "execution_count": 15,
   "metadata": {},
   "outputs": [
    {
     "data": {
      "image/png": "[encoded data removed]",
      "text/plain": [
       "<matplotlib.figure.Figure at 0x109f66940>"
      ]
     },
     "metadata": {},
     "output_type": "display_data"
    },
    {
     "name": "stderr",
     "output_type": "stream",
     "text": [
      "/usr/local/lib/python3.6/site-packages/sklearn/discriminant_analysis.py:442: UserWarning: The priors do not sum to 1. Renormalizing\n",
      "  UserWarning)\n",
      "/usr/local/lib/python3.6/site-packages/sklearn/discriminant_analysis.py:388: UserWarning: Variables are collinear.\n",
      "  warnings.warn(\"Variables are collinear.\")\n"
     ]
    },
    {
     "data": {
      "image/png": "[encoded data removed]",
      "text/plain": [
       "<matplotlib.figure.Figure at 0x109fd17b8>"
      ]
     },
     "metadata": {},
     "output_type": "display_data"
    }
   ],
   "source": [
    "draw_pca_lda_2d(X_scaled_train_best, y_train)"
   ]
  },
  {
   "cell_type": "code",
   "execution_count": 18,
   "metadata": {},
   "outputs": [
    {
     "data": {
      "text/plain": [
       "ExtraTreesClassifier(bootstrap=False,\n",
       "           class_weight={1: 32.199213630406177, 2: 41.614678899082371, 3: 11.284403669724737, 4: 1.5238095238095191, 5: 2.3269986893839949, 6: 7.6618610747050875, 7: 1.0550458715596318},\n",
       "           criterion='gini', max_depth=50, max_features=0.3,\n",
       "           max_leaf_nodes=None, min_impurity_decrease=0,\n",
       "           min_impurity_split=None, min_samples_leaf=1,\n",
       "           min_samples_split=2, min_weight_fraction_leaf=0.0,\n",
       "           n_estimators=200, n_jobs=1, oob_score=False, random_state=0,\n",
       "           verbose=0, warm_start=False)"
      ]
     },
     "execution_count": 18,
     "metadata": {},
     "output_type": "execute_result"
    }
   ],
   "source": [
    "etc_best.set_params(class_weight = test_weight_3)"
   ]
  },
  {
   "cell_type": "code",
   "execution_count": 22,
   "metadata": {},
   "outputs": [
    {
     "data": {
      "text/plain": [
       "0.81990740740740742"
      ]
     },
     "execution_count": 22,
     "metadata": {},
     "output_type": "execute_result"
    }
   ],
   "source": [
    "cv_kfold(X_scaled_train_best, y_train, etc_best, 5)"
   ]
  },
  {
   "cell_type": "code",
   "execution_count": 23,
   "metadata": {},
   "outputs": [
    {
     "data": {
      "text/plain": [
       "0.81990740740740742"
      ]
     },
     "execution_count": 23,
     "metadata": {},
     "output_type": "execute_result"
    }
   ],
   "source": [
    "# reset params and cross validate again\n",
    "etc_best.set_params(class_weight = 'balanced')\n",
    "cv_kfold(X_scaled_train_best, y_train, etc_best, 5)"
   ]
  },
  {
   "cell_type": "code",
   "execution_count": null,
   "metadata": {
    "collapsed": true
   },
   "outputs": [],
   "source": []
  },
  {
   "cell_type": "markdown",
   "metadata": {},
   "source": [
    "### Not improved.\n",
    "* Try again with bigger weights."
   ]
  },
  {
   "cell_type": "code",
   "execution_count": 43,
   "metadata": {},
   "outputs": [
    {
     "data": {
      "text/plain": [
       "{1: 1036.7893584165349,\n",
       " 2: 1731.7814998737315,\n",
       " 3: 127.33776618129711,\n",
       " 4: 2.3219954648525931,\n",
       " 5: 5.4149229003948296,\n",
       " 6: 58.704115128081,\n",
       " 7: 1.1131217910950231}"
      ]
     },
     "execution_count": 43,
     "metadata": {},
     "output_type": "execute_result"
    }
   ],
   "source": [
    "test_weight_3_sqrd = {k:v**2 for k,v in test_weight_3.items()}\n",
    "test_weight_3_sqrd"
   ]
  },
  {
   "cell_type": "code",
   "execution_count": 25,
   "metadata": {},
   "outputs": [
    {
     "data": {
      "text/plain": [
       "0.812037037037037"
      ]
     },
     "execution_count": 25,
     "metadata": {},
     "output_type": "execute_result"
    }
   ],
   "source": [
    "# set params and cross validate again - score dropped more.\n",
    "etc_best.set_params(class_weight = test_weight_3_sqrd)\n",
    "cv_kfold(X_scaled_train_best, y_train, etc_best, 5)"
   ]
  },
  {
   "cell_type": "code",
   "execution_count": null,
   "metadata": {
    "collapsed": true
   },
   "outputs": [],
   "source": []
  },
  {
   "cell_type": "markdown",
   "metadata": {},
   "source": [
    "### Following Assumtion.\n",
    "\n",
    "* Each data sample is not properly divided due to the duplicated / collinear columns\n",
    "* **`What if we exclude the correlated columns(numerical)?`**\n",
    "\n",
    "### In the tree-based model, when using the columns representing same information in multiple times, it means that the model is to `focus more` on the information.\n",
    "\n",
    "### We will group columns like `[original_column, original_column_log, original_column_sqrd, original_column_cube]` and randomly choose one to put into the model."
   ]
  },
  {
   "cell_type": "code",
   "execution_count": 3,
   "metadata": {
    "collapsed": true
   },
   "outputs": [],
   "source": [
    "import re"
   ]
  },
  {
   "cell_type": "code",
   "execution_count": 4,
   "metadata": {
    "collapsed": true
   },
   "outputs": [],
   "source": [
    "columns_excluding_dups = X_scaled_train_best.columns.tolist()\n",
    "cols_ex_cups_joined = ' '.join(columns_excluding_dups)"
   ]
  },
  {
   "cell_type": "code",
   "execution_count": 5,
   "metadata": {
    "collapsed": true
   },
   "outputs": [],
   "source": [
    "# original columns with log version\n",
    "original_cols_with_log = pd.Series(re.findall(r'[A-Za-z0-9_]+_log', cols_ex_cups_joined))\\\n",
    "                                    .apply(lambda x: x[:-4]).tolist()"
   ]
  },
  {
   "cell_type": "code",
   "execution_count": 6,
   "metadata": {
    "collapsed": true
   },
   "outputs": [],
   "source": [
    "# original columns with sqrd version\n",
    "original_cols_with_sqrd = pd.Series(re.findall(r'[A-Za-z0-9_]+_sqrd', cols_ex_cups_joined))\\\n",
    "                                    .apply(lambda x: x[:-5]).tolist()"
   ]
  },
  {
   "cell_type": "code",
   "execution_count": 7,
   "metadata": {
    "collapsed": true
   },
   "outputs": [],
   "source": [
    "# original columns with cube version\n",
    "original_cols_with_cube = pd.Series(re.findall(r'[A-Za-z0-9_]+_cube', cols_ex_cups_joined))\\\n",
    "                                    .apply(lambda x: x[:-5]).tolist()"
   ]
  },
  {
   "cell_type": "code",
   "execution_count": 8,
   "metadata": {
    "collapsed": true
   },
   "outputs": [],
   "source": [
    "original_cols_with_sqrd_or_cube_or_log = list(set(original_cols_with_sqrd\\\n",
    "                                                   + original_cols_with_cube\\\n",
    "                                                   + original_cols_with_log))"
   ]
  },
  {
   "cell_type": "code",
   "execution_count": 9,
   "metadata": {
    "collapsed": true
   },
   "outputs": [],
   "source": [
    "def find_dup_cols(orgcol):\n",
    "    cols_to_return = [orgcol]\n",
    "    \n",
    "    if orgcol + '_sqrd' in columns_excluding_dups:\n",
    "        cols_to_return.append(orgcol + '_sqrd')\n",
    "    if orgcol + '_cube' in columns_excluding_dups:\n",
    "        cols_to_return.append(orgcol + '_cube')\n",
    "    if orgcol + '_log' in columns_excluding_dups:\n",
    "        cols_to_return.append(orgcol + '_log')\n",
    "            \n",
    "    return cols_to_return"
   ]
  },
  {
   "cell_type": "code",
   "execution_count": 10,
   "metadata": {},
   "outputs": [
    {
     "data": {
      "text/plain": [
       "[['Hillshade_Mult_0912',\n",
       "  'Hillshade_Mult_0912_sqrd',\n",
       "  'Hillshade_Mult_0912_cube'],\n",
       " ['Horizontal_Distance_To_Hydrology',\n",
       "  'Horizontal_Distance_To_Hydrology_sqrd',\n",
       "  'Horizontal_Distance_To_Hydrology_log'],\n",
       " ['Horizontal_Distance_Sum_RF',\n",
       "  'Horizontal_Distance_Sum_RF_sqrd',\n",
       "  'Horizontal_Distance_Sum_RF_cube'],\n",
       " ['Horizontal_Distance_Sum_HRF', 'Horizontal_Distance_Sum_HRF_sqrd'],\n",
       " ['Horizontal_Distance_Diff_RF',\n",
       "  'Horizontal_Distance_Diff_RF_sqrd',\n",
       "  'Horizontal_Distance_Diff_RF_cube'],\n",
       " ['Hillshade_Diff', 'Hillshade_Diff_cube'],\n",
       " ['Hillshade_9am', 'Hillshade_9am_sqrd', 'Hillshade_9am_cube'],\n",
       " ['Horizontal_Distance_Diff_HF', 'Horizontal_Distance_Diff_HF_sqrd'],\n",
       " ['Horizontal_Distance_To_Fire_Points',\n",
       "  'Horizontal_Distance_To_Fire_Points_sqrd',\n",
       "  'Horizontal_Distance_To_Fire_Points_cube',\n",
       "  'Horizontal_Distance_To_Fire_Points_log'],\n",
       " ['Vertical_Distance_Diff_EH',\n",
       "  'Vertical_Distance_Diff_EH_sqrd',\n",
       "  'Vertical_Distance_Diff_EH_cube'],\n",
       " ['Horizontal_Distance_Sum_HR',\n",
       "  'Horizontal_Distance_Sum_HR_sqrd',\n",
       "  'Horizontal_Distance_Sum_HR_cube'],\n",
       " ['Horizontal_Distance_Mult_RF', 'Horizontal_Distance_Mult_RF_sqrd'],\n",
       " ['Horizontal_Distance_Diff_HR',\n",
       "  'Horizontal_Distance_Diff_HR_sqrd',\n",
       "  'Horizontal_Distance_Diff_HR_cube'],\n",
       " ['Elevation', 'Elevation_cube', 'Elevation_log'],\n",
       " ['Horizontal_Distance_To_Roadways',\n",
       "  'Horizontal_Distance_To_Roadways_sqrd',\n",
       "  'Horizontal_Distance_To_Roadways_cube',\n",
       "  'Horizontal_Distance_To_Roadways_log'],\n",
       " ['Hillshade_Diff_1215',\n",
       "  'Hillshade_Diff_1215_sqrd',\n",
       "  'Hillshade_Diff_1215_cube'],\n",
       " ['Hillshade_Noon', 'Hillshade_Noon_sqrd', 'Hillshade_Noon_cube'],\n",
       " ['Horizontal_Distance_Sum_HF',\n",
       "  'Horizontal_Distance_Sum_HF_sqrd',\n",
       "  'Horizontal_Distance_Sum_HF_cube'],\n",
       " ['Horizontal_Distance_Diff_HRF',\n",
       "  'Horizontal_Distance_Diff_HRF_sqrd',\n",
       "  'Horizontal_Distance_Diff_HRF_cube'],\n",
       " ['Vertical_Distance_Sum_EH',\n",
       "  'Vertical_Distance_Sum_EH_sqrd',\n",
       "  'Vertical_Distance_Sum_EH_cube'],\n",
       " ['Aspect', 'Aspect_sqrd'],\n",
       " ['Vertical_Distance_To_Hydrology', 'Vertical_Distance_To_Hydrology_log'],\n",
       " ['Hillshade_Sum', 'Hillshade_Sum_cube'],\n",
       " ['Hillshade_Sum_0912', 'Hillshade_Sum_0912_sqrd', 'Hillshade_Sum_0912_cube']]"
      ]
     },
     "execution_count": 10,
     "metadata": {},
     "output_type": "execute_result"
    }
   ],
   "source": [
    "dupcols_grouped = pd.Series(original_cols_with_sqrd_or_cube_or_log).apply(find_dup_cols).tolist()\n",
    "dupcols_grouped"
   ]
  },
  {
   "cell_type": "code",
   "execution_count": 11,
   "metadata": {
    "collapsed": true
   },
   "outputs": [],
   "source": [
    "import random\n",
    "\n",
    "columns_nodups = [col for col in X_scaled_train_best.columns.tolist()\n",
    "                     if col not in [dupcol for group in dupcols_grouped for dupcol in group]]\n",
    "\n",
    "def select_cols_nodups(seednum):\n",
    "    random.seed(seednum)\n",
    "    columns_nodups_ = columns_nodups[:]\n",
    "    for dupcol in dupcols_grouped:\n",
    "        dupcol_leng = len(dupcol)\n",
    "        rand_index = random.randint(0, dupcol_leng-1)\n",
    "        columns_nodups_.append(dupcol[rand_index])\n",
    "        \n",
    "    return columns_nodups_\n",
    "\n",
    "def cv_kfold(dfX, dfy, model, num_splits, print_=0):\n",
    "    \n",
    "    scores = cross_val_score(model, dfX, dfy, scoring='accuracy',cv=num_splits)\n",
    "    \n",
    "    if print_:\n",
    "        print(scores)\n",
    "        print(np.mean(scores), np.std(scores))\n",
    "    \n",
    "    return (np.mean(scores))\n",
    "\n",
    "def cv_with_random_nodups(seednum):\n",
    "    selected_cols = select_cols_nodups(seednum)\n",
    "    return selected_cols, cv_kfold(X_scaled_train[selected_cols], y_train, etc_best, 5)"
   ]
  },
  {
   "cell_type": "code",
   "execution_count": 12,
   "metadata": {
    "collapsed": true
   },
   "outputs": [],
   "source": [
    "# Test for 10 times\n",
    "ran_test_cols, ran_test_scores = [], []\n",
    "\n",
    "for i in range(10):\n",
    "\n",
    "    col, score = cv_with_random_nodups(i)\n",
    "    ran_test_cols.append(col)\n",
    "    ran_test_scores.append(score)\n",
    "    "
   ]
  },
  {
   "cell_type": "code",
   "execution_count": 13,
   "metadata": {},
   "outputs": [
    {
     "data": {
      "text/plain": [
       "[0.81111111111111112,\n",
       " 0.81197089947089951,\n",
       " 0.812037037037037,\n",
       " 0.81269841269841281,\n",
       " 0.81078042328042321,\n",
       " 0.81104497354497362,\n",
       " 0.80932539682539684,\n",
       " 0.8127645502645503,\n",
       " 0.81097883597883613,\n",
       " 0.81111111111111112]"
      ]
     },
     "execution_count": 13,
     "metadata": {},
     "output_type": "execute_result"
    }
   ],
   "source": [
    "ran_test_scores"
   ]
  },
  {
   "cell_type": "code",
   "execution_count": null,
   "metadata": {
    "collapsed": true
   },
   "outputs": [],
   "source": []
  },
  {
   "cell_type": "markdown",
   "metadata": {},
   "source": [
    "### Not improved."
   ]
  },
  {
   "cell_type": "code",
   "execution_count": 14,
   "metadata": {},
   "outputs": [
    {
     "data": {
      "text/plain": [
       "ExtraTreesClassifier(bootstrap=False, class_weight='balanced',\n",
       "           criterion='gini', max_depth=50, max_features=0.3,\n",
       "           max_leaf_nodes=None, min_impurity_decrease=0,\n",
       "           min_impurity_split=None, min_samples_leaf=1,\n",
       "           min_samples_split=2, min_weight_fraction_leaf=0.0,\n",
       "           n_estimators=200, n_jobs=1, oob_score=False, random_state=0,\n",
       "           verbose=0, warm_start=False)"
      ]
     },
     "execution_count": 14,
     "metadata": {},
     "output_type": "execute_result"
    }
   ],
   "source": [
    "etc_best"
   ]
  },
  {
   "cell_type": "code",
   "execution_count": null,
   "metadata": {
    "collapsed": true
   },
   "outputs": [],
   "source": []
  },
  {
   "cell_type": "markdown",
   "metadata": {},
   "source": [
    "## Experiment 2. Supplement data\n",
    "* Duplicate samples with target label `1`, `2` in the train data to increase the class importance\n",
    "  * This approach is based on the same logic with setting `class_weight` - since class weights do not seem to work, we will try this way."
   ]
  },
  {
   "cell_type": "code",
   "execution_count": 15,
   "metadata": {
    "collapsed": true
   },
   "outputs": [],
   "source": [
    "y_train_srs = pd.Series(y_train)"
   ]
  },
  {
   "cell_type": "code",
   "execution_count": 16,
   "metadata": {
    "collapsed": true
   },
   "outputs": [],
   "source": [
    "y_train_srs_c12 = y_train_srs[(y_train_srs==1) | (y_train_srs == 2)]"
   ]
  },
  {
   "cell_type": "code",
   "execution_count": 17,
   "metadata": {
    "collapsed": true
   },
   "outputs": [],
   "source": [
    "X_scaled_train_best_c12 = X_scaled_train_best.iloc[y_train_srs_c12.index]"
   ]
  },
  {
   "cell_type": "code",
   "execution_count": 18,
   "metadata": {
    "collapsed": true
   },
   "outputs": [],
   "source": [
    "X_scaled_train_concat = pd.concat([X_scaled_train_best, X_scaled_train_best_c12], axis=0).reset_index(drop=True)\n",
    "y_train_concat = pd.concat([y_train_srs, y_train_srs_c12], axis=0).reset_index(drop=True)"
   ]
  },
  {
   "cell_type": "code",
   "execution_count": 58,
   "metadata": {
    "scrolled": true
   },
   "outputs": [
    {
     "data": {
      "text/plain": [
       "ExtraTreesClassifier(bootstrap=False,\n",
       "           class_weight={1: 1036.7893584165349, 2: 1731.7814998737315, 3: 127.33776618129711, 4: 2.3219954648525931, 5: 5.4149229003948296, 6: 58.704115128081, 7: 1.1131217910950231},\n",
       "           criterion='gini', max_depth=50, max_features=0.3,\n",
       "           max_leaf_nodes=None, min_impurity_decrease=0,\n",
       "           min_impurity_split=None, min_samples_leaf=1,\n",
       "           min_samples_split=2, min_weight_fraction_leaf=0.0,\n",
       "           n_estimators=200, n_jobs=1, oob_score=False, random_state=0,\n",
       "           verbose=0, warm_start=False)"
      ]
     },
     "execution_count": 58,
     "metadata": {},
     "output_type": "execute_result"
    }
   ],
   "source": [
    "etc_best"
   ]
  },
  {
   "cell_type": "code",
   "execution_count": 60,
   "metadata": {},
   "outputs": [
    {
     "name": "stdout",
     "output_type": "stream",
     "text": [
      "[ 0.89660494  0.92386831  0.91306584  0.93441358  0.97170782]\n",
      "0.927932098765 0.0252080707769\n"
     ]
    },
    {
     "data": {
      "text/plain": [
       "0.92793209876543215"
      ]
     },
     "execution_count": 60,
     "metadata": {},
     "output_type": "execute_result"
    }
   ],
   "source": [
    "# class_weight = test_weight_3_sqrd\n",
    "cv_kfold(X_scaled_train_concat,\n",
    "        y_train_concat,\n",
    "        etc_best, 5, print_ = 1)"
   ]
  },
  {
   "cell_type": "code",
   "execution_count": 63,
   "metadata": {},
   "outputs": [
    {
     "name": "stdout",
     "output_type": "stream",
     "text": [
      "[ 0.89326132  0.92926955  0.91692387  0.93389918  0.97016461]\n",
      "0.928703703704 0.0250649041485\n"
     ]
    },
    {
     "data": {
      "text/plain": [
       "0.92870370370370381"
      ]
     },
     "execution_count": 63,
     "metadata": {},
     "output_type": "execute_result"
    }
   ],
   "source": [
    "# class_weight = test_weight_3\n",
    "etc_best.set_params(class_weight=test_weight_3)\n",
    "cv_kfold(X_scaled_train_concat,\n",
    "        y_train_concat,\n",
    "        etc_best, 5, print_ = 1)"
   ]
  },
  {
   "cell_type": "code",
   "execution_count": 64,
   "metadata": {},
   "outputs": [
    {
     "name": "stdout",
     "output_type": "stream",
     "text": [
      "[ 0.89866255  0.92978395  0.91949588  0.93081276  0.9688786 ]\n",
      "0.929526748971 0.0228188743798\n"
     ]
    },
    {
     "data": {
      "text/plain": [
       "0.92952674897119336"
      ]
     },
     "execution_count": 64,
     "metadata": {},
     "output_type": "execute_result"
    }
   ],
   "source": [
    "# class_weight = test_weight_2\n",
    "etc_best.set_params(class_weight=test_weight_2)\n",
    "cv_kfold(X_scaled_train_concat,\n",
    "        y_train_concat,\n",
    "        etc_best, 5, print_ = 1)"
   ]
  },
  {
   "cell_type": "code",
   "execution_count": 65,
   "metadata": {},
   "outputs": [
    {
     "name": "stdout",
     "output_type": "stream",
     "text": [
      "[ 0.89583333  0.92669753  0.91718107  0.93467078  0.9683642 ]\n",
      "0.928549382716 0.0237726682729\n"
     ]
    },
    {
     "data": {
      "text/plain": [
       "0.92854938271604937"
      ]
     },
     "execution_count": 65,
     "metadata": {},
     "output_type": "execute_result"
    }
   ],
   "source": [
    "# class_weight = test_weight_1\n",
    "etc_best.set_params(class_weight=test_weight_1)\n",
    "cv_kfold(X_scaled_train_concat,\n",
    "        y_train_concat,\n",
    "        etc_best, 5, print_ = 1)"
   ]
  },
  {
   "cell_type": "code",
   "execution_count": 61,
   "metadata": {},
   "outputs": [
    {
     "name": "stdout",
     "output_type": "stream",
     "text": [
      "[ 0.90226337  0.92772634  0.91615226  0.93055556  0.9691358 ]\n",
      "0.929166666667 0.0223369523464\n"
     ]
    },
    {
     "data": {
      "text/plain": [
       "0.92916666666666681"
      ]
     },
     "execution_count": 61,
     "metadata": {},
     "output_type": "execute_result"
    }
   ],
   "source": [
    "# class_weight = balanced\n",
    "etc_best.set_params(class_weight='balanced')\n",
    "cv_kfold(X_scaled_train_concat,\n",
    "        y_train_concat,\n",
    "        etc_best, 5, print_ = 1)"
   ]
  },
  {
   "cell_type": "code",
   "execution_count": null,
   "metadata": {
    "collapsed": true
   },
   "outputs": [],
   "source": []
  },
  {
   "cell_type": "markdown",
   "metadata": {},
   "source": [
    "### Best 2 test weight = `test_weight_2`, `'balanced'`\n",
    "* What if we add more samples having `class = 1, 2`?"
   ]
  },
  {
   "cell_type": "code",
   "execution_count": 66,
   "metadata": {
    "collapsed": true
   },
   "outputs": [],
   "source": [
    "X_scaled_train_concat2 = pd.concat([X_scaled_train_concat, X_scaled_train_best_c12], axis=0).reset_index(drop=True)\n",
    "y_train_concat2 = pd.concat([y_train_concat, y_train_srs_c12], axis=0).reset_index(drop=True)"
   ]
  },
  {
   "cell_type": "code",
   "execution_count": 67,
   "metadata": {},
   "outputs": [
    {
     "name": "stdout",
     "output_type": "stream",
     "text": [
      "[ 0.91940236  0.94023569  0.92950337  0.94149832  0.97411616]\n",
      "0.940951178451 0.0184180970182\n"
     ]
    },
    {
     "data": {
      "text/plain": [
       "0.94095117845117859"
      ]
     },
     "execution_count": 67,
     "metadata": {},
     "output_type": "execute_result"
    }
   ],
   "source": [
    "etc_best.set_params(class_weight='balanced')\n",
    "cv_kfold(X_scaled_train_concat2,\n",
    "        y_train_concat2,\n",
    "        etc_best, 5, print_ = 1)"
   ]
  },
  {
   "cell_type": "code",
   "execution_count": 68,
   "metadata": {
    "scrolled": true
   },
   "outputs": [
    {
     "name": "stdout",
     "output_type": "stream",
     "text": [
      "[ 0.89866255  0.92978395  0.91949588  0.93081276  0.9688786 ]\n",
      "0.929526748971 0.0228188743798\n"
     ]
    },
    {
     "data": {
      "text/plain": [
       "0.92952674897119336"
      ]
     },
     "execution_count": 68,
     "metadata": {},
     "output_type": "execute_result"
    }
   ],
   "source": [
    "# class_weight = test_weight_2\n",
    "etc_best.set_params(class_weight=test_weight_2)\n",
    "cv_kfold(X_scaled_train_concat,\n",
    "        y_train_concat,\n",
    "        etc_best, 5, print_ = 1)"
   ]
  },
  {
   "cell_type": "code",
   "execution_count": null,
   "metadata": {
    "collapsed": true
   },
   "outputs": [],
   "source": []
  },
  {
   "cell_type": "markdown",
   "metadata": {},
   "source": [
    "It seems `balanced` weights are the best in both performances and stability.\n",
    "* Add one more time and cross validate again!"
   ]
  },
  {
   "cell_type": "code",
   "execution_count": 70,
   "metadata": {},
   "outputs": [
    {
     "name": "stdout",
     "output_type": "stream",
     "text": [
      "[ 0.93198006  0.9480057   0.94123932  0.95352564  0.98023504]\n",
      "0.950997150997 0.0162914797985\n"
     ]
    },
    {
     "data": {
      "text/plain": [
       "0.9509971509971511"
      ]
     },
     "execution_count": 70,
     "metadata": {},
     "output_type": "execute_result"
    }
   ],
   "source": [
    "X_scaled_train_concat3 = pd.concat([X_scaled_train_concat2, X_scaled_train_best_c12], axis=0).reset_index(drop=True)\n",
    "y_train_concat3 = pd.concat([y_train_concat2, y_train_srs_c12], axis=0).reset_index(drop=True)\n",
    "\n",
    "etc_best.set_params(class_weight='balanced')\n",
    "cv_kfold(X_scaled_train_concat3,\n",
    "        y_train_concat3,\n",
    "        etc_best, 5, print_ = 1)"
   ]
  },
  {
   "cell_type": "code",
   "execution_count": null,
   "metadata": {
    "collapsed": true
   },
   "outputs": [],
   "source": []
  },
  {
   "cell_type": "markdown",
   "metadata": {},
   "source": [
    "The CV Kfold=5 score keeps rising\n",
    "* Test until the CV Kfold=5 accuracy drops"
   ]
  },
  {
   "cell_type": "code",
   "execution_count": 77,
   "metadata": {
    "scrolled": false
   },
   "outputs": [
    {
     "name": "stdout",
     "output_type": "stream",
     "text": [
      "loopnum : 0\n",
      "[ 0.94151235  0.95848765  0.94876543  0.95864198  0.98194444]\n",
      "0.95787037037 0.0136456757173\n",
      "loopnum : 1\n",
      "[ 0.94730392  0.96160131  0.95438453  0.96377996  0.98434096]\n",
      "0.962282135076 0.0124580713725\n",
      "loopnum : 2\n",
      "[ 0.95321637  0.9661306   0.95930799  0.96734893  0.98611111]\n",
      "0.966423001949 0.01107793172\n",
      "loopnum : 3\n",
      "[ 0.95690035  0.96880511  0.96439594  0.97012787  0.98688272]\n",
      "0.969422398589 0.00987733053047\n",
      "loopnum : 4\n",
      "[ 0.96115137  0.97121578  0.96759259  0.97322866  0.98812399]\n",
      "0.972262479871 0.00893175618802\n",
      "loopnum : 5\n",
      "[ 0.96416667  0.97435185  0.96907407  0.97481481  0.98925926]\n",
      "0.974333333333 0.00841470559397\n",
      "loopnum : 6\n",
      "[ 0.96724966  0.97530864  0.97127915  0.97676612  0.9901406 ]\n",
      "0.976148834019 0.00774294200942\n",
      "loopnum : 7\n",
      "[ 0.96958812  0.97780971  0.97349936  0.97940613  0.99066092]\n",
      "0.97819284802 0.00711536049242\n",
      "loopnum : 8\n",
      "[ 0.97095281  0.97916667  0.97580645  0.98028674  0.99103943]\n",
      "0.97945041816 0.00664188132768\n",
      "loopnum : 9\n",
      "[ 0.97250281  0.98042929  0.976922    0.9812009   0.99186308]\n",
      "0.980583613917 0.00642398619786\n",
      "loopnum : 10\n",
      "[ 0.97460317  0.98167989  0.97804233  0.98220899  0.99239418]\n",
      "0.981785714286 0.00597213066896\n"
     ]
    }
   ],
   "source": [
    "etc_best.set_params(class_weight='balanced')\n",
    "\n",
    "looptimes = 0\n",
    "cv_scores = [0, 0.1]\n",
    "cv_Xs = []\n",
    "cv_ys = []\n",
    "\n",
    "X_scaled_train_concat_ = X_scaled_train_concat3\n",
    "y_train_concat_ = y_train_concat3\n",
    "\n",
    "best_xy_trainset = []\n",
    "best_result = []\n",
    "\n",
    "while True:\n",
    "    # For each loop, keep adding the samples with target class 1,2\n",
    "    # and execute cross validation test with KFold=5\n",
    "    \n",
    "    print('loopnum : {}'.format(looptimes))\n",
    "    X_scaled_train_concat_ = pd.concat([X_scaled_train_concat_, X_scaled_train_best_c12], axis=0).reset_index(drop=True)\n",
    "    y_train_concat_ = pd.concat([y_train_concat_, y_train_srs_c12], axis=0).reset_index(drop=True)\n",
    "    \n",
    "    cv_Xs.append(X_scaled_train_concat_)\n",
    "    cv_ys.append(y_train_concat_)    \n",
    "    \n",
    "    cv_score = cv_kfold(X_scaled_train_concat_,\n",
    "                        y_train_concat_,\n",
    "                        etc_best, 5, print_ = 1)\n",
    "    cv_scores.append(cv_score)\n",
    "    \n",
    "    # If CV result decreases from the previous one,\n",
    "    # store the best dataset and result and break the while loop\n",
    "    if cv_scores[-1] <= cv_scores[-2]:\n",
    "        \n",
    "        best_xy_trainset.append(cv_Xy[-2])\n",
    "        best_result.append(cv_scores[-2])\n",
    "        \n",
    "        break\n",
    "        \n",
    "    looptimes += 1\n",
    "    \n",
    "    # if the loop count is over 10,\n",
    "    # we will consider it as being overfit more and more\n",
    "    # so break the loop.\n",
    "    \n",
    "    if looptimes > 10:\n",
    "        \n",
    "        best_xy_trainset.append(cv_Xy[-1])\n",
    "        best_result.append(cv_scores[-1])\n",
    "        \n",
    "        break"
   ]
  },
  {
   "cell_type": "code",
   "execution_count": null,
   "metadata": {
    "collapsed": true
   },
   "outputs": [],
   "source": []
  },
  {
   "cell_type": "markdown",
   "metadata": {},
   "source": [
    "### Submit to Kaggle\n",
    "* We will predict test data using 10 models trained by 10 concatenated train dataframes."
   ]
  },
  {
   "cell_type": "code",
   "execution_count": 21,
   "metadata": {
    "collapsed": true
   },
   "outputs": [],
   "source": [
    "def make_submission_csv(model, Xtrain, y, Xtest, filename):\n",
    "    model_fit = model.fit(Xtrain, y)\n",
    "    submit_df = pd.read_csv('data/sampleSubmission.csv')\n",
    "    submit_df['Cover_Type'] = model_fit.predict(Xtest)\n",
    "    submit_df.to_csv(filename, index=False)"
   ]
  },
  {
   "cell_type": "code",
   "execution_count": 22,
   "metadata": {
    "collapsed": true
   },
   "outputs": [],
   "source": [
    "#concat_trainX_dfs = [X_scaled_train_concat, X_scaled_train_concat2,\n",
    "#                    X_scaled_train_concat3] + cv_Xs\n",
    "#concat_trainy_dfs = [y_train_concat, y_train_concat2, y_train_concat3] + cv_ys"
   ]
  },
  {
   "cell_type": "code",
   "execution_count": 19,
   "metadata": {
    "collapsed": true
   },
   "outputs": [],
   "source": [
    "concat_trainX_dfs = [X_scaled_train_concat]\n",
    "concat_trainy_dfs = [y_train_concat]\n",
    "for i in range(10):\n",
    "    \n",
    "    concat_trainX_dfs.append(\n",
    "        pd.concat([concat_trainX_dfs[i], X_scaled_train_best_c12], axis=0).reset_index(drop=True)\n",
    "    )\n",
    "    concat_trainy_dfs.append(\n",
    "        pd.concat([concat_trainy_dfs[i], y_train_srs_c12], axis=0).reset_index(drop=True)\n",
    "    )"
   ]
  },
  {
   "cell_type": "code",
   "execution_count": 23,
   "metadata": {},
   "outputs": [
    {
     "name": "stdout",
     "output_type": "stream",
     "text": [
      "19440 19440\n",
      "23760 23760\n",
      "28080 28080\n",
      "32400 32400\n",
      "36720 36720\n",
      "41040 41040\n",
      "45360 45360\n",
      "49680 49680\n",
      "54000 54000\n",
      "58320 58320\n",
      "62640 62640\n"
     ]
    }
   ],
   "source": [
    "for dfX, dfy in zip(concat_trainX_dfs, concat_trainy_dfs):\n",
    "    print(len(dfX), len(dfy))"
   ]
  },
  {
   "cell_type": "code",
   "execution_count": 24,
   "metadata": {
    "scrolled": true
   },
   "outputs": [
    {
     "name": "stdout",
     "output_type": "stream",
     "text": [
      "0/1/2/3/4/5/6/7/8/9/10/"
     ]
    }
   ],
   "source": [
    "for i, (X_t, y_t) in enumerate(zip(concat_trainX_dfs, concat_trainy_dfs)):\n",
    "    print(i, end='/')\n",
    "    make_submission_csv(etc_best, X_t, y_t, X_scaled_test[X_t.columns],\n",
    "                       'data/submit_etc_best_c12_concat_'+str(i)+'.csv')\n",
    "    "
   ]
  },
  {
   "cell_type": "markdown",
   "metadata": {},
   "source": [
    "#### Using Kaggle API\n",
    "\n",
    "`kaggle competitions submit -c forest-cover-type-prediction -f submission.csv -m \"Message\"`\n",
    "\n",
    "* Due to the limit on submit count, we will submit the `first` / `fourth` / `seventh` / `tenth`"
   ]
  },
  {
   "cell_type": "code",
   "execution_count": 25,
   "metadata": {},
   "outputs": [
    {
     "name": "stdout",
     "output_type": "stream",
     "text": [
      "Successfully submitted to Forest Cover Type PredictionSuccessfully submitted to Forest Cover Type PredictionSuccessfully submitted to Forest Cover Type PredictionSuccessfully submitted to Forest Cover Type Prediction"
     ]
    }
   ],
   "source": [
    "!kaggle competitions submit -c forest-cover-type-prediction -f data/submit_etc_best_c12_concat_0.csv -m 'submit_etc_best_c12_concat_0'\n",
    "!kaggle competitions submit -c forest-cover-type-prediction -f data/submit_etc_best_c12_concat_3.csv -m 'submit_etc_best_c12_concat_3'\n",
    "!kaggle competitions submit -c forest-cover-type-prediction -f data/submit_etc_best_c12_concat_6.csv -m 'submit_etc_best_c12_concat_6'\n",
    "!kaggle competitions submit -c forest-cover-type-prediction -f data/submit_etc_best_c12_concat_9.csv -m 'submit_etc_best_c12_concat_9'"
   ]
  },
  {
   "cell_type": "code",
   "execution_count": null,
   "metadata": {
    "collapsed": true
   },
   "outputs": [],
   "source": []
  },
  {
   "cell_type": "markdown",
   "metadata": {},
   "source": [
    "### Submission Results from Experiment 2\n",
    "\n",
    "![kaggle_accuracy_result](img/kaggle_acc_result.png)"
   ]
  },
  {
   "cell_type": "markdown",
   "metadata": {},
   "source": [
    "### Submission Results from Experiment 2 with `class_weight` in Experiment 1"
   ]
  },
  {
   "cell_type": "code",
   "execution_count": 42,
   "metadata": {},
   "outputs": [
    {
     "name": "stdout",
     "output_type": "stream",
     "text": [
      "Successfully submitted to Forest Cover Type Prediction"
     ]
    }
   ],
   "source": [
    "# class_weight = test_weight_1\n",
    "# using the first dataframe in concat_trainX_dfs, concat_trainy_dfs\n",
    "\n",
    "etc_best.set_params(class_weight = test_weight_1)\n",
    "make_submission_csv(etc_best, \n",
    "                    concat_trainX_dfs[0], \n",
    "                    concat_trainy_dfs[0], \n",
    "                    X_scaled_test[concat_trainX_dfs[0].columns],\n",
    "                    'data/submit_etc_best_c12_concat_0_weight1.csv')\n",
    "!kaggle competitions submit -c forest-cover-type-prediction -f data/submit_etc_best_c12_concat_0_weight1.csv -m 'submit_etc_best_c12_concat_0_weight1'"
   ]
  },
  {
   "cell_type": "code",
   "execution_count": 45,
   "metadata": {},
   "outputs": [
    {
     "name": "stdout",
     "output_type": "stream",
     "text": [
      "Successfully submitted to Forest Cover Type Prediction"
     ]
    }
   ],
   "source": [
    "# class_weight = test_weight_3_sqrd\n",
    "# using the first dataframe in concat_trainX_dfs, concat_trainy_dfs\n",
    "\n",
    "etc_best.set_params(class_weight = test_weight_3_sqrd)\n",
    "make_submission_csv(etc_best, \n",
    "                    concat_trainX_dfs[0], \n",
    "                    concat_trainy_dfs[0], \n",
    "                    X_scaled_test[concat_trainX_dfs[0].columns],\n",
    "                    'data/submit_etc_best_c12_concat_0_weight3_sqrd.csv')\n",
    "!kaggle competitions submit -c forest-cover-type-prediction -f data/submit_etc_best_c12_concat_0_weight3_sqrd.csv -m 'submit_etc_best_c12_concat_0_weight3_sqrd'"
   ]
  },
  {
   "cell_type": "markdown",
   "metadata": {},
   "source": [
    "![kaggle_acc_result3](img/kaggle_acc_result3.png)"
   ]
  },
  {
   "cell_type": "code",
   "execution_count": null,
   "metadata": {
    "collapsed": true
   },
   "outputs": [],
   "source": []
  },
  {
   "cell_type": "markdown",
   "metadata": {},
   "source": [
    "### Submissoin Results from Experiment 1"
   ]
  },
  {
   "cell_type": "code",
   "execution_count": 46,
   "metadata": {},
   "outputs": [
    {
     "name": "stdout",
     "output_type": "stream",
     "text": [
      "Successfully submitted to Forest Cover Type Prediction"
     ]
    }
   ],
   "source": [
    "# class_weight = test_weight_1\n",
    "# using the original best train set & features\n",
    "\n",
    "etc_best.set_params(class_weight = test_weight_1)\n",
    "make_submission_csv(etc_best, \n",
    "                    X_scaled_train_best, \n",
    "                    y_train, \n",
    "                    X_scaled_test[X_scaled_train_best.columns],\n",
    "                    'data/submit_etc_best_weight1.csv')\n",
    "!kaggle competitions submit -c forest-cover-type-prediction -f data/submit_etc_best_weight1.csv -m 'submit_etc_best_weight1'"
   ]
  },
  {
   "cell_type": "code",
   "execution_count": 47,
   "metadata": {},
   "outputs": [
    {
     "name": "stdout",
     "output_type": "stream",
     "text": [
      "Successfully submitted to Forest Cover Type Prediction"
     ]
    }
   ],
   "source": [
    "# class_weight = test_weight_3_sqrd\n",
    "# using the original best train set & features\n",
    "\n",
    "etc_best.set_params(class_weight = test_weight_3_sqrd)\n",
    "make_submission_csv(etc_best, \n",
    "                    X_scaled_train_best, \n",
    "                    y_train, \n",
    "                    X_scaled_test[X_scaled_train_best.columns],\n",
    "                    'data/submit_etc_best_weight3_sqrd.csv')\n",
    "!kaggle competitions submit -c forest-cover-type-prediction -f data/submit_etc_best_weight3_sqrd.csv -m 'submit_etc_best_weight3_sqrd'"
   ]
  },
  {
   "cell_type": "markdown",
   "metadata": {},
   "source": [
    "![kaggle_acc_result4](img/kaggle_acc_result4.png)"
   ]
  },
  {
   "cell_type": "code",
   "execution_count": null,
   "metadata": {
    "collapsed": true
   },
   "outputs": [],
   "source": []
  },
  {
   "cell_type": "markdown",
   "metadata": {},
   "source": [
    "### If submitting predictions from the original best model"
   ]
  },
  {
   "cell_type": "code",
   "execution_count": 27,
   "metadata": {
    "scrolled": true
   },
   "outputs": [
    {
     "name": "stdout",
     "output_type": "stream",
     "text": [
      "Successfully submitted to Forest Cover Type Prediction"
     ]
    }
   ],
   "source": [
    "# If submitting the original best model\n",
    "make_submission_csv(etc_best, \n",
    "                    X_scaled_train_best, \n",
    "                    y_train, \n",
    "                    X_scaled_test[X_scaled_train_best.columns], \n",
    "                    'data/submit_etc_best_without_treatment.csv')\n",
    "!kaggle competitions submit -c forest-cover-type-prediction -f data/submit_etc_best_without_treatment.csv -m 'submit_etc_best_without_treatment'"
   ]
  },
  {
   "cell_type": "markdown",
   "metadata": {},
   "source": [
    "![kaggle-acc-best-model](img/kaggle_acc_result2.png)"
   ]
  },
  {
   "cell_type": "code",
   "execution_count": null,
   "metadata": {
    "collapsed": true
   },
   "outputs": [],
   "source": []
  },
  {
   "cell_type": "markdown",
   "metadata": {},
   "source": [
    "### Analyze results from Experiment 2\n",
    "\n",
    "#### `Hypothesis 1`\n",
    "* Did we really get the best model & feature set?\n",
    "  * Our  model `ExtraTreesClassifier` seems to face a kind of cap for its performance.\n",
    "\n",
    "#### `Hypothesis 2`\n",
    "* From the feature engineering & feature generating, the expected effects from experiment 1 and 2 are already accomplished.\n",
    "  * We need to find other approaches other than those (adding more importance on certain features, adding new dimensions, etc...)\n",
    "\n",
    "#### `Hypothesis 3`\n",
    "* The feature engineering could have been better.\n",
    "  * We need to find other approaches to seperate target class `1` and `2` more effectively.\n",
    "\n",
    "#### Close experiment 1 and 2."
   ]
  },
  {
   "cell_type": "code",
   "execution_count": null,
   "metadata": {
    "collapsed": true
   },
   "outputs": [],
   "source": []
  },
  {
   "cell_type": "code",
   "execution_count": null,
   "metadata": {
    "collapsed": true
   },
   "outputs": [],
   "source": []
  },
  {
   "cell_type": "code",
   "execution_count": null,
   "metadata": {
    "collapsed": true
   },
   "outputs": [],
   "source": []
  },
  {
   "cell_type": "code",
   "execution_count": null,
   "metadata": {
    "collapsed": true
   },
   "outputs": [],
   "source": []
  },
  {
   "cell_type": "markdown",
   "metadata": {},
   "source": [
    "From **`Hypothesis 1`**\n",
    "## Experiment 3. Custom Voting Classifier\n",
    "* Create multiple models that show relatively high performance where our best model show low performance.\n",
    "  * Manually train those models - `models participating in votes will have different points of view.`\n",
    "* Extract the predictions manually using `.predict_proba` method\n",
    "  * Gridsearch the best parameter that determine how much each model's score reflects to the combined score"
   ]
  },
  {
   "cell_type": "code",
   "execution_count": null,
   "metadata": {
    "collapsed": true
   },
   "outputs": [],
   "source": [
    "# KNeighbors\n",
    "# 그리드 검색을 통한 하이퍼파라미터 튜닝\n",
    "\n",
    "pipe_svc = Pipeline([('dim', PCA()),\n",
    "                     ('clf', KNeighborsClassifier(n_neighbors=7))])\n",
    "\n",
    "param_grid = [{'dim__n_components' : range(2, 50),\n",
    "              'clf__algorithm': ['auto'],\n",
    "              'clf__weights':['uniform', 'distance'],\n",
    "              'clf__metric': ['minkowski'],\n",
    "              'clf__p' : [1, 2]}]\n",
    "\n",
    "gs_test_knn = GridSearchCV(estimator=pipe_svc,\n",
    "                             param_grid = param_grid,\n",
    "                              scoring='accuracy',\n",
    "                             cv=5, n_jobs=-1)\n",
    "\n",
    "gs_test_knn = gs_test_knn.fit(X_scaled_train_best, y_train)\n",
    "\n",
    "print(gs_test_knn.best_score_)\n",
    "print(gs_test_knn.best_params_)\n",
    "print('#####')"
   ]
  },
  {
   "cell_type": "code",
   "execution_count": 2,
   "metadata": {
    "collapsed": true
   },
   "outputs": [],
   "source": []
  },
  {
   "cell_type": "code",
   "execution_count": 5,
   "metadata": {},
   "outputs": [
    {
     "data": {
      "text/plain": [
       "True"
      ]
     },
     "execution_count": 5,
     "metadata": {},
     "output_type": "execute_result"
    }
   ],
   "source": [
    "cols_rfecv_xgboost_softmax == cols_rfecv_xgboost"
   ]
  },
  {
   "cell_type": "code",
   "execution_count": null,
   "metadata": {
    "collapsed": true
   },
   "outputs": [],
   "source": []
  },
  {
   "cell_type": "markdown",
   "metadata": {},
   "source": [
    "From **`Hypothesis 2`**\n",
    "\n",
    "## ~"
   ]
  },
  {
   "cell_type": "code",
   "execution_count": null,
   "metadata": {
    "collapsed": true
   },
   "outputs": [],
   "source": []
  },
  {
   "cell_type": "code",
   "execution_count": null,
   "metadata": {
    "collapsed": true
   },
   "outputs": [],
   "source": []
  },
  {
   "cell_type": "code",
   "execution_count": null,
   "metadata": {
    "collapsed": true
   },
   "outputs": [],
   "source": []
  },
  {
   "cell_type": "code",
   "execution_count": null,
   "metadata": {
    "collapsed": true
   },
   "outputs": [],
   "source": []
  }
 ],
 "metadata": {
  "kernelspec": {
   "display_name": "Python 3",
   "language": "python",
   "name": "python3"
  },
  "language_info": {
   "codemirror_mode": {
    "name": "ipython",
    "version": 3
   },
   "file_extension": ".py",
   "mimetype": "text/x-python",
   "name": "python",
   "nbconvert_exporter": "python",
   "pygments_lexer": "ipython3",
   "version": "3.6.2"
  }
 },
 "nbformat": 4,
 "nbformat_minor": 2
}

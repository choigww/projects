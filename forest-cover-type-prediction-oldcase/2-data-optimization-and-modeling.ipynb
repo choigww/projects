{
 "cells": [
  {
   "cell_type": "markdown",
   "metadata": {},
   "source": [
    "# Forest Cover Type Prediction\n",
    "### 2. Data Optimization and Modeling\n",
    "![forest-cover-type-coverimage](https://kaggle2.blob.core.windows.net/competitions/kaggle/3936/logos/front_page.png)\n",
    "<center>https://www.kaggle.com/c/forest-cover-type-prediction</center>\n"
   ]
  },
  {
   "cell_type": "code",
   "execution_count": 58,
   "metadata": {
    "collapsed": false
   },
   "outputs": [],
   "source": [
    "import random\n",
    "import pandas as pd\n",
    "import numpy as np\n",
    "\n",
    "from sklearn.svm import SVC\n",
    "from sklearn.ensemble import ExtraTreesClassifier\n",
    "from sklearn.ensemble import RandomForestClassifier\n",
    "from sklearn.ensemble import VotingClassifier\n",
    "from sklearn.ensemble import AdaBoostClassifier\n",
    "from sklearn.neighbors import KNeighborsClassifier\n",
    "from sklearn.tree import DecisionTreeClassifier\n",
    "from sklearn.linear_model import LogisticRegression\n",
    "from sklearn.naive_bayes import GaussianNB\n",
    "from xgboost import XGBClassifier\n",
    "from mlxtend.classifier import EnsembleVoteClassifier\n",
    "\n",
    "from sklearn.preprocessing import StandardScaler\n",
    "from sklearn.preprocessing import LabelEncoder\n",
    "from sklearn.preprocessing import LabelBinarizer\n",
    "from sklearn.feature_selection import RFE\n",
    "from sklearn.feature_selection import RFECV\n",
    "from sklearn.learning_curve import learning_curve\n",
    "from sklearn.pipeline import Pipeline\n",
    "\n",
    "from sklearn.model_selection import train_test_split\n",
    "from sklearn.model_selection import cross_val_score\n",
    "from sklearn.model_selection import KFold\n",
    "from sklearn.model_selection import RandomizedSearchCV\n",
    "from sklearn.model_selection import GridSearchCV\n",
    "\n",
    "from sklearn.decomposition import PCA\n",
    "from sklearn.decomposition import KernelPCA\n",
    "from sklearn.discriminant_analysis import LinearDiscriminantAnalysis as LDA\n",
    "from sklearn.decomposition import TruncatedSVD\n",
    "from sklearn.metrics import confusion_matrix\n",
    "from sklearn.pipeline import Pipeline\n",
    "from sklearn.utils import shuffle\n",
    "\n",
    "import matplotlib as mpl\n",
    "from matplotlib import pyplot as plt\n",
    "import seaborn as sns"
   ]
  },
  {
   "cell_type": "code",
   "execution_count": 25,
   "metadata": {
    "collapsed": true
   },
   "outputs": [],
   "source": [
    "from mlxtend.feature_selection import SequentialFeatureSelector\n",
    "from mlxtend.classifier import EnsembleVoteClassifier\n",
    "from sklearn.decomposition import PCA\n",
    "from sklearn.discriminant_analysis import LinearDiscriminantAnalysis as LDA\n",
    "from sklearn.decomposition import TruncatedSVD"
   ]
  },
  {
   "cell_type": "code",
   "execution_count": 26,
   "metadata": {
    "collapsed": true
   },
   "outputs": [],
   "source": [
    "X_scaled_train = pd.read_csv('data/X_scaled_train.csv')\n",
    "X_scaled_test = pd.read_csv('data/X_scaled_test.csv')"
   ]
  },
  {
   "cell_type": "code",
   "execution_count": 27,
   "metadata": {
    "collapsed": false
   },
   "outputs": [],
   "source": [
    "y_train = pd.read_csv('data/train.csv', usecols=['Cover_Type'])"
   ]
  },
  {
   "cell_type": "code",
   "execution_count": null,
   "metadata": {
    "collapsed": true
   },
   "outputs": [],
   "source": []
  },
  {
   "cell_type": "markdown",
   "metadata": {},
   "source": [
    "## Optimize data\n",
    "**Memory Optimization**\n",
    "* for faster processing like feature selection, model learning, etc.\n",
    "\n",
    "**Structure Optimization**\n",
    "* for better performance using `Tree-based model`"
   ]
  },
  {
   "cell_type": "code",
   "execution_count": 28,
   "metadata": {
    "collapsed": false,
    "scrolled": true
   },
   "outputs": [
    {
     "name": "stdout",
     "output_type": "stream",
     "text": [
      "<class 'pandas.core.frame.DataFrame'>\n",
      "RangeIndex: 15120 entries, 0 to 15119\n",
      "Columns: 326 entries, Aspect to Radians_To_Hydrology_cube\n",
      "dtypes: float64(326)\n",
      "memory usage: 37.6 MB\n"
     ]
    }
   ],
   "source": [
    "X_scaled_train.info(memory_usage='deep')"
   ]
  },
  {
   "cell_type": "code",
   "execution_count": 29,
   "metadata": {
    "collapsed": false
   },
   "outputs": [
    {
     "name": "stdout",
     "output_type": "stream",
     "text": [
      "<class 'pandas.core.frame.DataFrame'>\n",
      "RangeIndex: 565892 entries, 0 to 565891\n",
      "Columns: 326 entries, Aspect to Radians_To_Hydrology_cube\n",
      "dtypes: float64(326)\n",
      "memory usage: 1.4 GB\n"
     ]
    }
   ],
   "source": [
    "X_scaled_test.info(memory_usage='deep')"
   ]
  },
  {
   "cell_type": "code",
   "execution_count": 48,
   "metadata": {
    "collapsed": false
   },
   "outputs": [],
   "source": [
    "for col in X_scaled_train.columns:\n",
    "    if len(X_scaled_train[col].unique()) <= 2:\n",
    "        X_scaled_train[col] = pd.to_numeric(X_scaled_train[col].astype(int),\n",
    "                                       downcast='integer')\n",
    "    else:\n",
    "        X_scaled_train[col] = pd.to_numeric(X_scaled_train[col],\n",
    "                                       downcast='float')\n",
    "    \n",
    "    if len(X_scaled_test[col].unique()) <= 2:\n",
    "        X_scaled_test[col] = pd.to_numeric(X_scaled_test[col].astype(int),\n",
    "                                       downcast='integer')\n",
    "    else:\n",
    "        X_scaled_test[col] = pd.to_numeric(X_scaled_test[col],\n",
    "                                       downcast='float')"
   ]
  },
  {
   "cell_type": "code",
   "execution_count": 49,
   "metadata": {
    "collapsed": false,
    "scrolled": false
   },
   "outputs": [
    {
     "name": "stdout",
     "output_type": "stream",
     "text": [
      "<class 'pandas.core.frame.DataFrame'>\n",
      "RangeIndex: 15120 entries, 0 to 15119\n",
      "Columns: 326 entries, Aspect to Radians_To_Hydrology_cube\n",
      "dtypes: float32(229), int8(97)\n",
      "memory usage: 14.6 MB\n"
     ]
    }
   ],
   "source": [
    "X_scaled_train.info(memory_usage='deep')"
   ]
  },
  {
   "cell_type": "code",
   "execution_count": 50,
   "metadata": {
    "collapsed": false,
    "scrolled": false
   },
   "outputs": [
    {
     "name": "stdout",
     "output_type": "stream",
     "text": [
      "<class 'pandas.core.frame.DataFrame'>\n",
      "RangeIndex: 565892 entries, 0 to 565891\n",
      "Columns: 326 entries, Aspect to Radians_To_Hydrology_cube\n",
      "dtypes: float32(229), int8(97)\n",
      "memory usage: 546.7 MB\n"
     ]
    }
   ],
   "source": [
    "X_scaled_test.info(memory_usage='deep')"
   ]
  },
  {
   "cell_type": "code",
   "execution_count": null,
   "metadata": {
    "collapsed": true
   },
   "outputs": [],
   "source": []
  },
  {
   "cell_type": "markdown",
   "metadata": {},
   "source": [
    "## `Soil_Type7` and `Soil_Type15`\n",
    "* Train set has only one (`0`) class in the `Soil_Type7` and `Soil_Type15` columns\n",
    "* Test set has two classes (`0`, `1`) in the `Soil_Type7` and `Soil_Type15` columns\n",
    "* Since our model will not learn the coefficient from the train set given, we drop two columns."
   ]
  },
  {
   "cell_type": "code",
   "execution_count": 51,
   "metadata": {
    "collapsed": true
   },
   "outputs": [
    {
     "name": "stdout",
     "output_type": "stream",
     "text": [
      "Aspect 361\n",
      "Aspect_log 361\n",
      "Aspect_log_cdf_1 361\n",
      "Aspect_log_cdf_2 361\n",
      "Aspect_log_cdf_3 361\n",
      "Aspect_log_cdf_4 361\n",
      "Aspect_log_cdf_5 361\n",
      "Aspect_log_cdf_6 361\n",
      "Aspect_log_cdf_7 361\n",
      "Aspect_log_pdf_1 361\n",
      "Aspect_log_pdf_2 361\n",
      "Aspect_log_pdf_3 361\n",
      "Aspect_log_pdf_4 361\n",
      "Aspect_log_pdf_5 361\n",
      "Aspect_log_pdf_6 361\n",
      "Aspect_log_pdf_7 361\n",
      "Aspect_log_wild_cdf_11 361\n",
      "Aspect_log_wild_cdf_21 361\n",
      "Aspect_log_wild_cdf_31 361\n",
      "Aspect_log_wild_cdf_41 361\n",
      "Aspect_log_wild_cdf_51 361\n",
      "Aspect_log_wild_cdf_61 361\n",
      "Aspect_log_wild_cdf_71 361\n",
      "Aspect_log_wild_pdf_11 361\n",
      "Aspect_log_wild_pdf_21 361\n",
      "Aspect_log_wild_pdf_31 361\n",
      "Aspect_log_wild_pdf_41 361\n",
      "Aspect_log_wild_pdf_51 361\n",
      "Aspect_log_wild_pdf_61 361\n",
      "Aspect_log_wild_pdf_71 361\n",
      "Elevation 1974\n",
      "Elevation_log 1974\n",
      "Elevation_log_cdf_1 1426\n",
      "Elevation_log_cdf_2 1732\n",
      "Elevation_log_cdf_3 1713\n",
      "Elevation_log_cdf_4 970\n",
      "Elevation_log_cdf_5 967\n",
      "Elevation_log_cdf_6 1710\n",
      "Elevation_log_cdf_7 1013\n",
      "Elevation_log_pdf_1 1488\n",
      "Elevation_log_pdf_2 1801\n",
      "Elevation_log_pdf_3 1855\n",
      "Elevation_log_pdf_4 1013\n",
      "Elevation_log_pdf_5 1063\n",
      "Elevation_log_pdf_6 1851\n",
      "Elevation_log_pdf_7 1049\n",
      "Elevation_log_wild_cdf_11 1426\n",
      "Elevation_log_wild_cdf_21 1732\n",
      "Elevation_log_wild_cdf_31 1713\n",
      "Elevation_log_wild_cdf_41 970\n",
      "Elevation_log_wild_cdf_51 967\n",
      "Elevation_log_wild_cdf_61 1710\n",
      "Elevation_log_wild_cdf_71 1013\n",
      "Elevation_log_wild_pdf_11 1488\n",
      "Elevation_log_wild_pdf_21 1801\n",
      "Elevation_log_wild_pdf_31 1855\n",
      "Elevation_log_wild_pdf_41 1013\n",
      "Elevation_log_wild_pdf_51 1063\n",
      "Elevation_log_wild_pdf_61 1851\n",
      "Elevation_log_wild_pdf_71 1049\n",
      "Hillshade_3pm 255\n",
      "Hillshade_3pm_log 255\n",
      "Hillshade_9am 207\n",
      "Hillshade_9am_log 207\n",
      "Hillshade_Noon 185\n",
      "Hillshade_Noon_log 185\n",
      "Horizontal_Distance_To_Fire_Points 5826\n",
      "Horizontal_Distance_To_Fire_Points_log 5826\n",
      "Horizontal_Distance_To_Hydrology 551\n",
      "Horizontal_Distance_To_Hydrology_log 551\n",
      "Horizontal_Distance_To_Roadways 5785\n",
      "Horizontal_Distance_To_Roadways_log 5785\n",
      "Slope 67\n",
      "Slope_log 67\n",
      "Slope_log_cdf_1 67\n",
      "Slope_log_cdf_2 67\n",
      "Slope_log_cdf_3 67\n",
      "Slope_log_cdf_4 67\n",
      "Slope_log_cdf_5 67\n",
      "Slope_log_cdf_6 67\n",
      "Slope_log_cdf_7 67\n",
      "Slope_log_pdf_1 67\n",
      "Slope_log_pdf_2 67\n",
      "Slope_log_pdf_3 67\n",
      "Slope_log_pdf_4 67\n",
      "Slope_log_pdf_5 67\n",
      "Slope_log_pdf_6 67\n",
      "Slope_log_pdf_7 67\n",
      "Slope_log_wild_cdf_11 67\n",
      "Slope_log_wild_cdf_21 67\n",
      "Slope_log_wild_cdf_31 67\n",
      "Slope_log_wild_cdf_41 67\n",
      "Slope_log_wild_cdf_51 67\n",
      "Slope_log_wild_cdf_61 67\n",
      "Slope_log_wild_cdf_71 67\n",
      "Slope_log_wild_pdf_11 67\n",
      "Slope_log_wild_pdf_21 67\n",
      "Slope_log_wild_pdf_31 67\n",
      "Slope_log_wild_pdf_41 67\n",
      "Slope_log_wild_pdf_51 67\n",
      "Slope_log_wild_pdf_61 67\n",
      "Slope_log_wild_pdf_71 67\n",
      "Soil_Type1 2\n",
      "Soil_Type10 2\n",
      "Soil_Type11 2\n",
      "Soil_Type12 2\n",
      "Soil_Type13 2\n",
      "Soil_Type14 2\n",
      "Soil_Type15 2\n",
      "Soil_Type16 2\n",
      "Soil_Type17 2\n",
      "Soil_Type18 2\n",
      "Soil_Type19 2\n",
      "Soil_Type2 2\n",
      "Soil_Type20 2\n",
      "Soil_Type21 2\n",
      "Soil_Type22 2\n",
      "Soil_Type23 2\n",
      "Soil_Type24 2\n",
      "Soil_Type25 2\n",
      "Soil_Type26 2\n",
      "Soil_Type27 2\n",
      "Soil_Type28 2\n",
      "Soil_Type29 2\n",
      "Soil_Type3 2\n",
      "Soil_Type30 2\n",
      "Soil_Type31 2\n",
      "Soil_Type32 2\n",
      "Soil_Type33 2\n",
      "Soil_Type34 2\n",
      "Soil_Type35 2\n",
      "Soil_Type36 2\n",
      "Soil_Type37 2\n",
      "Soil_Type38 2\n",
      "Soil_Type39 2\n",
      "Soil_Type4 2\n",
      "Soil_Type40 2\n",
      "Soil_Type5 2\n",
      "Soil_Type6 2\n",
      "Soil_Type7 2\n",
      "Soil_Type8 2\n",
      "Soil_Type9 2\n",
      "Vertical_Distance_To_Hydrology 700\n",
      "Vertical_Distance_To_Hydrology_log 700\n",
      "Wilderness_Area 4\n",
      "Wilderness_Area1 2\n",
      "Wilderness_Area2 2\n",
      "Wilderness_Area3 2\n",
      "Wilderness_Area4 2\n",
      "Slope_Direction 8\n",
      "Slope_Direction_1 2\n",
      "Slope_Direction_2 2\n",
      "Slope_Direction_3 2\n",
      "Slope_Direction_4 2\n",
      "Slope_Direction_5 2\n",
      "Slope_Direction_6 2\n",
      "Slope_Direction_7 2\n",
      "Slope_Direction_8 2\n",
      "Soil_Type 40\n",
      "Soils_Cover1 2\n",
      "Soils_Cover2 2\n",
      "Soils_Cover3 2\n",
      "Soils_Cover4 2\n",
      "Soils_Cover5 2\n",
      "Soils_Cover6 2\n",
      "Soils_Cover7 2\n",
      "Elevation_Cover1 2\n",
      "Elevation_Cover2 2\n",
      "Elevation_Cover3 2\n",
      "Elevation_Cover4 2\n",
      "Elevation_Cover5 2\n",
      "Elevation_Cover6 2\n",
      "Elevation_Cover7 2\n",
      "Slope_Cover1 2\n",
      "Slope_Cover2 2\n",
      "Slope_Cover3 2\n",
      "Slope_Cover4 2\n",
      "Slope_Cover5 2\n",
      "Slope_Cover6 2\n",
      "Slope_Cover7 2\n",
      "Hillshade_9am_Cover1 2\n",
      "Hillshade_9am_Cover2 2\n",
      "Hillshade_9am_Cover3 2\n",
      "Hillshade_9am_Cover4 2\n",
      "Hillshade_9am_Cover5 2\n",
      "Hillshade_9am_Cover6 2\n",
      "Hillshade_9am_Cover7 2\n",
      "Hillshade_Noon_Cover1 2\n",
      "Hillshade_Noon_Cover2 2\n",
      "Hillshade_Noon_Cover3 2\n",
      "Hillshade_Noon_Cover4 2\n",
      "Hillshade_Noon_Cover5 2\n",
      "Hillshade_Noon_Cover6 2\n",
      "Hillshade_Noon_Cover7 2\n",
      "Hillshade_3pm_Cover1 2\n",
      "Hillshade_3pm_Cover2 2\n",
      "Hillshade_3pm_Cover3 2\n",
      "Hillshade_3pm_Cover4 2\n",
      "Hillshade_3pm_Cover5 2\n",
      "Hillshade_3pm_Cover6 2\n",
      "Hillshade_3pm_Cover7 2\n",
      "Elevation_sqrd 1974\n",
      "Elevation_cube 1974\n",
      "Aspect_sqrd 361\n",
      "Aspect_cube 361\n",
      "Slope_sqrd 67\n",
      "Slope_cube 67\n",
      "Horizontal_Distance_To_Hydrology_sqrd 551\n",
      "Horizontal_Distance_To_Hydrology_cube 551\n",
      "Vertical_Distance_To_Hydrology_sqrd 537\n",
      "Vertical_Distance_To_Hydrology_cube 700\n",
      "Horizontal_Distance_To_Roadways_sqrd 5785\n",
      "Horizontal_Distance_To_Roadways_cube 5785\n",
      "Hillshade_9am_sqrd 207\n",
      "Hillshade_9am_cube 207\n",
      "Hillshade_Noon_sqrd 185\n",
      "Hillshade_Noon_cube 185\n",
      "Hillshade_3pm_sqrd 255\n",
      "Hillshade_3pm_cube 255\n",
      "Horizontal_Distance_To_Fire_Points_sqrd 5826\n",
      "Horizontal_Distance_To_Fire_Points_cube 5826\n",
      "Diagnoal_Distance_To_Hydrology 51725\n",
      "Vertical_Distance_Sum_EH 2281\n",
      "Vertical_Distance_Diff_EH 1620\n",
      "Vertical_Distance_Div_EH 142395\n",
      "Vertical_Distance_Mult_EH 131278\n",
      "Binary_Distance_To_Hydrology 2\n",
      "Horizontal_Distance_Sum_HRF 12693\n",
      "Horizontal_Distance_Sum_HR 7049\n",
      "Horizontal_Distance_Sum_HF 7085\n",
      "Horizontal_Distance_Sum_RF 12112\n",
      "Horizontal_Distance_Diff_HRF 11790\n",
      "Horizontal_Distance_Diff_HR 7475\n",
      "Horizontal_Distance_Diff_HF 7567\n",
      "Horizontal_Distance_Diff_RF 11627\n",
      "Horizontal_Distance_Mult_HRF 520736\n",
      "Horizontal_Distance_Mult_HR 198102\n",
      "Horizontal_Distance_Mult_HF 179143\n",
      "Horizontal_Distance_Mult_RF 432220\n",
      "Hillshade_Sum 384\n",
      "Hillshade_Sum_0912 304\n",
      "Hillshade_Sum_1215 399\n",
      "Hillshade_Sum_0915 228\n",
      "Hillshade_Diff 493\n",
      "Hillshade_Diff_0912 294\n",
      "Hillshade_Diff_1215 300\n",
      "Hillshade_Diff_0915 462\n",
      "Hillshade_Mult_091215 21966\n",
      "Hillshade_Mult_0912 8210\n",
      "Hillshade_Mult_1215 11943\n",
      "Hillshade_Mult_0915 8415\n",
      "Hillshade_ratio_091215 28778\n",
      "Hillshade_ratio_0912 13871\n",
      "Hillshade_ratio_1215 14999\n",
      "Hillshade_ratio_0915 15710\n",
      "Radians_To_Hydrology 50299\n",
      "Diagnoal_Distance_To_Hydrology_sqrd 51725\n",
      "Diagnoal_Distance_To_Hydrology_cube 51725\n",
      "Vertical_Distance_Sum_EH_sqrd 2281\n",
      "Vertical_Distance_Sum_EH_cube 2281\n",
      "Vertical_Distance_Diff_EH_sqrd 1620\n",
      "Vertical_Distance_Diff_EH_cube 1620\n",
      "Vertical_Distance_Div_EH_sqrd 124468\n",
      "Vertical_Distance_Div_EH_cube 134897\n",
      "Vertical_Distance_Mult_EH_sqrd 113406\n",
      "Vertical_Distance_Mult_EH_cube 124147\n",
      "Binary_Distance_To_Hydrology_sqrd 2\n",
      "Binary_Distance_To_Hydrology_cube 2\n",
      "Horizontal_Distance_Sum_HRF_sqrd 12693\n",
      "Horizontal_Distance_Sum_HRF_cube 12693\n",
      "Horizontal_Distance_Sum_HR_sqrd 7049\n",
      "Horizontal_Distance_Sum_HR_cube 7049\n",
      "Horizontal_Distance_Sum_HF_sqrd 7085\n",
      "Horizontal_Distance_Sum_HF_cube 7085\n",
      "Horizontal_Distance_Sum_RF_sqrd 12112\n",
      "Horizontal_Distance_Sum_RF_cube 12112\n",
      "Horizontal_Distance_Diff_HRF_sqrd 11759\n",
      "Horizontal_Distance_Diff_HRF_cube 11758\n",
      "Horizontal_Distance_Diff_HR_sqrd 6852\n",
      "Horizontal_Distance_Diff_HR_cube 7451\n",
      "Horizontal_Distance_Diff_HF_sqrd 6910\n",
      "Horizontal_Distance_Diff_HF_cube 7546\n",
      "Horizontal_Distance_Diff_RF_sqrd 6101\n",
      "Horizontal_Distance_Diff_RF_cube 11619\n",
      "Horizontal_Distance_Mult_HRF_sqrd 430781\n",
      "Horizontal_Distance_Mult_HRF_cube 576\n",
      "Horizontal_Distance_Mult_HR_sqrd 198098\n",
      "Horizontal_Distance_Mult_HR_cube 165394\n",
      "Horizontal_Distance_Mult_HF_sqrd 179143\n",
      "Horizontal_Distance_Mult_HF_cube 161096\n",
      "Horizontal_Distance_Mult_RF_sqrd 427900\n",
      "Horizontal_Distance_Mult_RF_cube 125703\n",
      "Hillshade_Sum_sqrd 384\n",
      "Hillshade_Sum_cube 384\n",
      "Hillshade_Sum_0912_sqrd 304\n",
      "Hillshade_Sum_0912_cube 304\n",
      "Hillshade_Sum_1215_sqrd 399\n",
      "Hillshade_Sum_1215_cube 399\n",
      "Hillshade_Sum_0915_sqrd 228\n",
      "Hillshade_Sum_0915_cube 228\n",
      "Hillshade_Diff_sqrd 474\n",
      "Hillshade_Diff_cube 493\n",
      "Hillshade_Diff_0912_sqrd 161\n",
      "Hillshade_Diff_0912_cube 294\n",
      "Hillshade_Diff_1215_sqrd 233\n",
      "Hillshade_Diff_1215_cube 300\n",
      "Hillshade_Diff_0915_sqrd 255\n",
      "Hillshade_Diff_0915_cube 462\n",
      "Hillshade_Mult_091215_sqrd 21651\n",
      "Hillshade_Mult_091215_cube 3886\n",
      "Hillshade_Mult_0912_sqrd 8210\n",
      "Hillshade_Mult_0912_cube 8197\n",
      "Hillshade_Mult_1215_sqrd 11943\n",
      "Hillshade_Mult_1215_cube 11780\n",
      "Hillshade_Mult_0915_sqrd 8415\n",
      "Hillshade_Mult_0915_cube 8336\n",
      "Hillshade_ratio_091215_sqrd 27972\n",
      "Hillshade_ratio_091215_cube 12069\n",
      "Hillshade_ratio_0912_sqrd 13871\n",
      "Hillshade_ratio_0912_cube 13847\n",
      "Hillshade_ratio_1215_sqrd 14999\n",
      "Hillshade_ratio_1215_cube 14900\n",
      "Hillshade_ratio_0915_sqrd 15674\n",
      "Hillshade_ratio_0915_cube 11096\n",
      "Radians_To_Hydrology_sqrd 42725\n",
      "Radians_To_Hydrology_cube 49420\n"
     ]
    }
   ],
   "source": [
    "for col in X_scaled_test.columns:\n",
    "    print(col, len(X_scaled_test[col].unique()))"
   ]
  },
  {
   "cell_type": "code",
   "execution_count": 42,
   "metadata": {
    "collapsed": false
   },
   "outputs": [
    {
     "data": {
      "text/plain": [
       "array([0], dtype=int64)"
      ]
     },
     "execution_count": 42,
     "metadata": {},
     "output_type": "execute_result"
    }
   ],
   "source": [
    "pd.read_csv('data/train.csv', usecols=['Soil_Type7', 'Soil_Type15'])['Soil_Type7'].unique()"
   ]
  },
  {
   "cell_type": "code",
   "execution_count": 52,
   "metadata": {
    "collapsed": false
   },
   "outputs": [
    {
     "data": {
      "text/plain": [
       "array([0], dtype=int64)"
      ]
     },
     "execution_count": 52,
     "metadata": {},
     "output_type": "execute_result"
    }
   ],
   "source": [
    "pd.read_csv('data/train.csv', usecols=['Soil_Type7', 'Soil_Type15'])['Soil_Type15'].unique()"
   ]
  },
  {
   "cell_type": "code",
   "execution_count": 55,
   "metadata": {
    "collapsed": false
   },
   "outputs": [
    {
     "name": "stdout",
     "output_type": "stream",
     "text": [
      "[0]\n",
      "[0]\n",
      "[0 1]\n",
      "[0 1]\n"
     ]
    }
   ],
   "source": [
    "print(X_scaled_train['Soil_Type7'].unique())\n",
    "print(X_scaled_train['Soil_Type15'].unique())\n",
    "print(X_scaled_test['Soil_Type7'].unique())\n",
    "print(X_scaled_test['Soil_Type15'].unique())"
   ]
  },
  {
   "cell_type": "code",
   "execution_count": 56,
   "metadata": {
    "collapsed": true
   },
   "outputs": [],
   "source": [
    "X_scaled_train = X_scaled_train.drop(['Soil_Type7', 'Soil_Type15'], axis=1)\n",
    "X_scaled_test = X_scaled_test.drop(['Soil_Type7', 'Soil_Type15'], axis=1)"
   ]
  },
  {
   "cell_type": "code",
   "execution_count": null,
   "metadata": {
    "collapsed": true
   },
   "outputs": [],
   "source": []
  },
  {
   "cell_type": "markdown",
   "metadata": {},
   "source": [
    "## Additional Feature Generation\n",
    "**Concatenation with binary columns**\n",
    "* We can also generate combined binary columns from many binary columns just like adding conditions\n",
    "\n",
    "#### Example (combined binary column = `pclass_sex`)\n",
    "pclass|sex|**pclass_sex**\n",
    "---|---|---\n",
    "3|male|**3male**\n",
    "1|female|**1female**\n",
    "3|female|**3female**\n",
    "1|female|**1female**\n"
   ]
  },
  {
   "cell_type": "code",
   "execution_count": null,
   "metadata": {
    "collapsed": true
   },
   "outputs": [],
   "source": [
    "binary_columns = X_scaled_test.select_dtypes(include=['integer']).columns\n"
   ]
  },
  {
   "cell_type": "code",
   "execution_count": null,
   "metadata": {
    "collapsed": true
   },
   "outputs": [],
   "source": []
  },
  {
   "cell_type": "code",
   "execution_count": null,
   "metadata": {
    "collapsed": true
   },
   "outputs": [],
   "source": []
  },
  {
   "cell_type": "markdown",
   "metadata": {},
   "source": [
    "# Extract Feature Ranking using `sklearn.feature_selection.RFECV`\n",
    "* LinearRegression\n",
    "* RandomForest"
   ]
  },
  {
   "cell_type": "code",
   "execution_count": null,
   "metadata": {
    "collapsed": true
   },
   "outputs": [],
   "source": [
    "lr = LogisticRegression()\n",
    "selector_lr = RFECV(lr, cv=5)\n",
    "selector_lr.fit(X_scaled_train, y_train.values.ravel())"
   ]
  },
  {
   "cell_type": "code",
   "execution_count": 64,
   "metadata": {
    "collapsed": false
   },
   "outputs": [
    {
     "ename": "KeyboardInterrupt",
     "evalue": "",
     "output_type": "error",
     "traceback": [
      "\u001b[0;31m---------------------------------------------------------------------------\u001b[0m",
      "\u001b[0;31mKeyboardInterrupt\u001b[0m                         Traceback (most recent call last)",
      "\u001b[0;32m<ipython-input-64-986e791f6dee>\u001b[0m in \u001b[0;36m<module>\u001b[0;34m()\u001b[0m\n\u001b[1;32m      1\u001b[0m \u001b[0mrf\u001b[0m \u001b[1;33m=\u001b[0m \u001b[0mRandomForestClassifier\u001b[0m\u001b[1;33m(\u001b[0m\u001b[0mrandom_state\u001b[0m\u001b[1;33m=\u001b[0m\u001b[1;36m0\u001b[0m\u001b[1;33m)\u001b[0m\u001b[1;33m\u001b[0m\u001b[0m\n\u001b[1;32m      2\u001b[0m \u001b[0mselector\u001b[0m \u001b[1;33m=\u001b[0m \u001b[0mRFECV\u001b[0m\u001b[1;33m(\u001b[0m\u001b[0mrf\u001b[0m\u001b[1;33m,\u001b[0m \u001b[0mcv\u001b[0m\u001b[1;33m=\u001b[0m\u001b[1;36m5\u001b[0m\u001b[1;33m)\u001b[0m\u001b[1;33m\u001b[0m\u001b[0m\n\u001b[0;32m----> 3\u001b[0;31m \u001b[0mselector\u001b[0m\u001b[1;33m.\u001b[0m\u001b[0mfit\u001b[0m\u001b[1;33m(\u001b[0m\u001b[0mX_scaled_train\u001b[0m\u001b[1;33m,\u001b[0m \u001b[0my_train\u001b[0m\u001b[1;33m.\u001b[0m\u001b[0mvalues\u001b[0m\u001b[1;33m.\u001b[0m\u001b[0mravel\u001b[0m\u001b[1;33m(\u001b[0m\u001b[1;33m)\u001b[0m\u001b[1;33m)\u001b[0m\u001b[1;33m\u001b[0m\u001b[0m\n\u001b[0m",
      "\u001b[0;32mC:\\Users\\Administrator\\Anaconda3\\lib\\site-packages\\sklearn\\feature_selection\\rfe.py\u001b[0m in \u001b[0;36mfit\u001b[0;34m(self, X, y)\u001b[0m\n\u001b[1;32m    434\u001b[0m         scores = parallel(\n\u001b[1;32m    435\u001b[0m             \u001b[0mfunc\u001b[0m\u001b[1;33m(\u001b[0m\u001b[0mrfe\u001b[0m\u001b[1;33m,\u001b[0m \u001b[0mself\u001b[0m\u001b[1;33m.\u001b[0m\u001b[0mestimator\u001b[0m\u001b[1;33m,\u001b[0m \u001b[0mX\u001b[0m\u001b[1;33m,\u001b[0m \u001b[0my\u001b[0m\u001b[1;33m,\u001b[0m \u001b[0mtrain\u001b[0m\u001b[1;33m,\u001b[0m \u001b[0mtest\u001b[0m\u001b[1;33m,\u001b[0m \u001b[0mscorer\u001b[0m\u001b[1;33m)\u001b[0m\u001b[1;33m\u001b[0m\u001b[0m\n\u001b[0;32m--> 436\u001b[0;31m             for train, test in cv.split(X, y))\n\u001b[0m\u001b[1;32m    437\u001b[0m \u001b[1;33m\u001b[0m\u001b[0m\n\u001b[1;32m    438\u001b[0m         \u001b[0mscores\u001b[0m \u001b[1;33m=\u001b[0m \u001b[0mnp\u001b[0m\u001b[1;33m.\u001b[0m\u001b[0msum\u001b[0m\u001b[1;33m(\u001b[0m\u001b[0mscores\u001b[0m\u001b[1;33m,\u001b[0m \u001b[0maxis\u001b[0m\u001b[1;33m=\u001b[0m\u001b[1;36m0\u001b[0m\u001b[1;33m)\u001b[0m\u001b[1;33m\u001b[0m\u001b[0m\n",
      "\u001b[0;32mC:\\Users\\Administrator\\Anaconda3\\lib\\site-packages\\sklearn\\feature_selection\\rfe.py\u001b[0m in \u001b[0;36m<genexpr>\u001b[0;34m(.0)\u001b[0m\n\u001b[1;32m    434\u001b[0m         scores = parallel(\n\u001b[1;32m    435\u001b[0m             \u001b[0mfunc\u001b[0m\u001b[1;33m(\u001b[0m\u001b[0mrfe\u001b[0m\u001b[1;33m,\u001b[0m \u001b[0mself\u001b[0m\u001b[1;33m.\u001b[0m\u001b[0mestimator\u001b[0m\u001b[1;33m,\u001b[0m \u001b[0mX\u001b[0m\u001b[1;33m,\u001b[0m \u001b[0my\u001b[0m\u001b[1;33m,\u001b[0m \u001b[0mtrain\u001b[0m\u001b[1;33m,\u001b[0m \u001b[0mtest\u001b[0m\u001b[1;33m,\u001b[0m \u001b[0mscorer\u001b[0m\u001b[1;33m)\u001b[0m\u001b[1;33m\u001b[0m\u001b[0m\n\u001b[0;32m--> 436\u001b[0;31m             for train, test in cv.split(X, y))\n\u001b[0m\u001b[1;32m    437\u001b[0m \u001b[1;33m\u001b[0m\u001b[0m\n\u001b[1;32m    438\u001b[0m         \u001b[0mscores\u001b[0m \u001b[1;33m=\u001b[0m \u001b[0mnp\u001b[0m\u001b[1;33m.\u001b[0m\u001b[0msum\u001b[0m\u001b[1;33m(\u001b[0m\u001b[0mscores\u001b[0m\u001b[1;33m,\u001b[0m \u001b[0maxis\u001b[0m\u001b[1;33m=\u001b[0m\u001b[1;36m0\u001b[0m\u001b[1;33m)\u001b[0m\u001b[1;33m\u001b[0m\u001b[0m\n",
      "\u001b[0;32mC:\\Users\\Administrator\\Anaconda3\\lib\\site-packages\\sklearn\\feature_selection\\rfe.py\u001b[0m in \u001b[0;36m_rfe_single_fit\u001b[0;34m(rfe, estimator, X, y, train, test, scorer)\u001b[0m\n\u001b[1;32m     29\u001b[0m     \u001b[0mX_test\u001b[0m\u001b[1;33m,\u001b[0m \u001b[0my_test\u001b[0m \u001b[1;33m=\u001b[0m \u001b[0m_safe_split\u001b[0m\u001b[1;33m(\u001b[0m\u001b[0mestimator\u001b[0m\u001b[1;33m,\u001b[0m \u001b[0mX\u001b[0m\u001b[1;33m,\u001b[0m \u001b[0my\u001b[0m\u001b[1;33m,\u001b[0m \u001b[0mtest\u001b[0m\u001b[1;33m,\u001b[0m \u001b[0mtrain\u001b[0m\u001b[1;33m)\u001b[0m\u001b[1;33m\u001b[0m\u001b[0m\n\u001b[1;32m     30\u001b[0m     return rfe._fit(\n\u001b[0;32m---> 31\u001b[0;31m         \u001b[0mX_train\u001b[0m\u001b[1;33m,\u001b[0m \u001b[0my_train\u001b[0m\u001b[1;33m,\u001b[0m \u001b[1;32mlambda\u001b[0m \u001b[0mestimator\u001b[0m\u001b[1;33m,\u001b[0m \u001b[0mfeatures\u001b[0m\u001b[1;33m:\u001b[0m\u001b[1;33m\u001b[0m\u001b[0m\n\u001b[0m\u001b[1;32m     32\u001b[0m         _score(estimator, X_test[:, features], y_test, scorer)).scores_\n\u001b[1;32m     33\u001b[0m \u001b[1;33m\u001b[0m\u001b[0m\n",
      "\u001b[0;32mC:\\Users\\Administrator\\Anaconda3\\lib\\site-packages\\sklearn\\feature_selection\\rfe.py\u001b[0m in \u001b[0;36m_fit\u001b[0;34m(self, X, y, step_score)\u001b[0m\n\u001b[1;32m    171\u001b[0m                 \u001b[0mprint\u001b[0m\u001b[1;33m(\u001b[0m\u001b[1;34m\"Fitting estimator with %d features.\"\u001b[0m \u001b[1;33m%\u001b[0m \u001b[0mnp\u001b[0m\u001b[1;33m.\u001b[0m\u001b[0msum\u001b[0m\u001b[1;33m(\u001b[0m\u001b[0msupport_\u001b[0m\u001b[1;33m)\u001b[0m\u001b[1;33m)\u001b[0m\u001b[1;33m\u001b[0m\u001b[0m\n\u001b[1;32m    172\u001b[0m \u001b[1;33m\u001b[0m\u001b[0m\n\u001b[0;32m--> 173\u001b[0;31m             \u001b[0mestimator\u001b[0m\u001b[1;33m.\u001b[0m\u001b[0mfit\u001b[0m\u001b[1;33m(\u001b[0m\u001b[0mX\u001b[0m\u001b[1;33m[\u001b[0m\u001b[1;33m:\u001b[0m\u001b[1;33m,\u001b[0m \u001b[0mfeatures\u001b[0m\u001b[1;33m]\u001b[0m\u001b[1;33m,\u001b[0m \u001b[0my\u001b[0m\u001b[1;33m)\u001b[0m\u001b[1;33m\u001b[0m\u001b[0m\n\u001b[0m\u001b[1;32m    174\u001b[0m \u001b[1;33m\u001b[0m\u001b[0m\n\u001b[1;32m    175\u001b[0m             \u001b[1;31m# Get coefs\u001b[0m\u001b[1;33m\u001b[0m\u001b[1;33m\u001b[0m\u001b[0m\n",
      "\u001b[0;32mC:\\Users\\Administrator\\Anaconda3\\lib\\site-packages\\sklearn\\ensemble\\forest.py\u001b[0m in \u001b[0;36mfit\u001b[0;34m(self, X, y, sample_weight)\u001b[0m\n\u001b[1;32m    326\u001b[0m                     \u001b[0mt\u001b[0m\u001b[1;33m,\u001b[0m \u001b[0mself\u001b[0m\u001b[1;33m,\u001b[0m \u001b[0mX\u001b[0m\u001b[1;33m,\u001b[0m \u001b[0my\u001b[0m\u001b[1;33m,\u001b[0m \u001b[0msample_weight\u001b[0m\u001b[1;33m,\u001b[0m \u001b[0mi\u001b[0m\u001b[1;33m,\u001b[0m \u001b[0mlen\u001b[0m\u001b[1;33m(\u001b[0m\u001b[0mtrees\u001b[0m\u001b[1;33m)\u001b[0m\u001b[1;33m,\u001b[0m\u001b[1;33m\u001b[0m\u001b[0m\n\u001b[1;32m    327\u001b[0m                     verbose=self.verbose, class_weight=self.class_weight)\n\u001b[0;32m--> 328\u001b[0;31m                 for i, t in enumerate(trees))\n\u001b[0m\u001b[1;32m    329\u001b[0m \u001b[1;33m\u001b[0m\u001b[0m\n\u001b[1;32m    330\u001b[0m             \u001b[1;31m# Collect newly grown trees\u001b[0m\u001b[1;33m\u001b[0m\u001b[1;33m\u001b[0m\u001b[0m\n",
      "\u001b[0;32mC:\\Users\\Administrator\\Anaconda3\\lib\\site-packages\\sklearn\\externals\\joblib\\parallel.py\u001b[0m in \u001b[0;36m__call__\u001b[0;34m(self, iterable)\u001b[0m\n\u001b[1;32m    777\u001b[0m             \u001b[1;31m# was dispatched. In particular this covers the edge\u001b[0m\u001b[1;33m\u001b[0m\u001b[1;33m\u001b[0m\u001b[0m\n\u001b[1;32m    778\u001b[0m             \u001b[1;31m# case of Parallel used with an exhausted iterator.\u001b[0m\u001b[1;33m\u001b[0m\u001b[1;33m\u001b[0m\u001b[0m\n\u001b[0;32m--> 779\u001b[0;31m             \u001b[1;32mwhile\u001b[0m \u001b[0mself\u001b[0m\u001b[1;33m.\u001b[0m\u001b[0mdispatch_one_batch\u001b[0m\u001b[1;33m(\u001b[0m\u001b[0miterator\u001b[0m\u001b[1;33m)\u001b[0m\u001b[1;33m:\u001b[0m\u001b[1;33m\u001b[0m\u001b[0m\n\u001b[0m\u001b[1;32m    780\u001b[0m                 \u001b[0mself\u001b[0m\u001b[1;33m.\u001b[0m\u001b[0m_iterating\u001b[0m \u001b[1;33m=\u001b[0m \u001b[1;32mTrue\u001b[0m\u001b[1;33m\u001b[0m\u001b[0m\n\u001b[1;32m    781\u001b[0m             \u001b[1;32melse\u001b[0m\u001b[1;33m:\u001b[0m\u001b[1;33m\u001b[0m\u001b[0m\n",
      "\u001b[0;32mC:\\Users\\Administrator\\Anaconda3\\lib\\site-packages\\sklearn\\externals\\joblib\\parallel.py\u001b[0m in \u001b[0;36mdispatch_one_batch\u001b[0;34m(self, iterator)\u001b[0m\n\u001b[1;32m    623\u001b[0m                 \u001b[1;32mreturn\u001b[0m \u001b[1;32mFalse\u001b[0m\u001b[1;33m\u001b[0m\u001b[0m\n\u001b[1;32m    624\u001b[0m             \u001b[1;32melse\u001b[0m\u001b[1;33m:\u001b[0m\u001b[1;33m\u001b[0m\u001b[0m\n\u001b[0;32m--> 625\u001b[0;31m                 \u001b[0mself\u001b[0m\u001b[1;33m.\u001b[0m\u001b[0m_dispatch\u001b[0m\u001b[1;33m(\u001b[0m\u001b[0mtasks\u001b[0m\u001b[1;33m)\u001b[0m\u001b[1;33m\u001b[0m\u001b[0m\n\u001b[0m\u001b[1;32m    626\u001b[0m                 \u001b[1;32mreturn\u001b[0m \u001b[1;32mTrue\u001b[0m\u001b[1;33m\u001b[0m\u001b[0m\n\u001b[1;32m    627\u001b[0m \u001b[1;33m\u001b[0m\u001b[0m\n",
      "\u001b[0;32mC:\\Users\\Administrator\\Anaconda3\\lib\\site-packages\\sklearn\\externals\\joblib\\parallel.py\u001b[0m in \u001b[0;36m_dispatch\u001b[0;34m(self, batch)\u001b[0m\n\u001b[1;32m    586\u001b[0m         \u001b[0mdispatch_timestamp\u001b[0m \u001b[1;33m=\u001b[0m \u001b[0mtime\u001b[0m\u001b[1;33m.\u001b[0m\u001b[0mtime\u001b[0m\u001b[1;33m(\u001b[0m\u001b[1;33m)\u001b[0m\u001b[1;33m\u001b[0m\u001b[0m\n\u001b[1;32m    587\u001b[0m         \u001b[0mcb\u001b[0m \u001b[1;33m=\u001b[0m \u001b[0mBatchCompletionCallBack\u001b[0m\u001b[1;33m(\u001b[0m\u001b[0mdispatch_timestamp\u001b[0m\u001b[1;33m,\u001b[0m \u001b[0mlen\u001b[0m\u001b[1;33m(\u001b[0m\u001b[0mbatch\u001b[0m\u001b[1;33m)\u001b[0m\u001b[1;33m,\u001b[0m \u001b[0mself\u001b[0m\u001b[1;33m)\u001b[0m\u001b[1;33m\u001b[0m\u001b[0m\n\u001b[0;32m--> 588\u001b[0;31m         \u001b[0mjob\u001b[0m \u001b[1;33m=\u001b[0m \u001b[0mself\u001b[0m\u001b[1;33m.\u001b[0m\u001b[0m_backend\u001b[0m\u001b[1;33m.\u001b[0m\u001b[0mapply_async\u001b[0m\u001b[1;33m(\u001b[0m\u001b[0mbatch\u001b[0m\u001b[1;33m,\u001b[0m \u001b[0mcallback\u001b[0m\u001b[1;33m=\u001b[0m\u001b[0mcb\u001b[0m\u001b[1;33m)\u001b[0m\u001b[1;33m\u001b[0m\u001b[0m\n\u001b[0m\u001b[1;32m    589\u001b[0m         \u001b[0mself\u001b[0m\u001b[1;33m.\u001b[0m\u001b[0m_jobs\u001b[0m\u001b[1;33m.\u001b[0m\u001b[0mappend\u001b[0m\u001b[1;33m(\u001b[0m\u001b[0mjob\u001b[0m\u001b[1;33m)\u001b[0m\u001b[1;33m\u001b[0m\u001b[0m\n\u001b[1;32m    590\u001b[0m \u001b[1;33m\u001b[0m\u001b[0m\n",
      "\u001b[0;32mC:\\Users\\Administrator\\Anaconda3\\lib\\site-packages\\sklearn\\externals\\joblib\\_parallel_backends.py\u001b[0m in \u001b[0;36mapply_async\u001b[0;34m(self, func, callback)\u001b[0m\n\u001b[1;32m    109\u001b[0m     \u001b[1;32mdef\u001b[0m \u001b[0mapply_async\u001b[0m\u001b[1;33m(\u001b[0m\u001b[0mself\u001b[0m\u001b[1;33m,\u001b[0m \u001b[0mfunc\u001b[0m\u001b[1;33m,\u001b[0m \u001b[0mcallback\u001b[0m\u001b[1;33m=\u001b[0m\u001b[1;32mNone\u001b[0m\u001b[1;33m)\u001b[0m\u001b[1;33m:\u001b[0m\u001b[1;33m\u001b[0m\u001b[0m\n\u001b[1;32m    110\u001b[0m         \u001b[1;34m\"\"\"Schedule a func to be run\"\"\"\u001b[0m\u001b[1;33m\u001b[0m\u001b[0m\n\u001b[0;32m--> 111\u001b[0;31m         \u001b[0mresult\u001b[0m \u001b[1;33m=\u001b[0m \u001b[0mImmediateResult\u001b[0m\u001b[1;33m(\u001b[0m\u001b[0mfunc\u001b[0m\u001b[1;33m)\u001b[0m\u001b[1;33m\u001b[0m\u001b[0m\n\u001b[0m\u001b[1;32m    112\u001b[0m         \u001b[1;32mif\u001b[0m \u001b[0mcallback\u001b[0m\u001b[1;33m:\u001b[0m\u001b[1;33m\u001b[0m\u001b[0m\n\u001b[1;32m    113\u001b[0m             \u001b[0mcallback\u001b[0m\u001b[1;33m(\u001b[0m\u001b[0mresult\u001b[0m\u001b[1;33m)\u001b[0m\u001b[1;33m\u001b[0m\u001b[0m\n",
      "\u001b[0;32mC:\\Users\\Administrator\\Anaconda3\\lib\\site-packages\\sklearn\\externals\\joblib\\_parallel_backends.py\u001b[0m in \u001b[0;36m__init__\u001b[0;34m(self, batch)\u001b[0m\n\u001b[1;32m    330\u001b[0m         \u001b[1;31m# Don't delay the application, to avoid keeping the input\u001b[0m\u001b[1;33m\u001b[0m\u001b[1;33m\u001b[0m\u001b[0m\n\u001b[1;32m    331\u001b[0m         \u001b[1;31m# arguments in memory\u001b[0m\u001b[1;33m\u001b[0m\u001b[1;33m\u001b[0m\u001b[0m\n\u001b[0;32m--> 332\u001b[0;31m         \u001b[0mself\u001b[0m\u001b[1;33m.\u001b[0m\u001b[0mresults\u001b[0m \u001b[1;33m=\u001b[0m \u001b[0mbatch\u001b[0m\u001b[1;33m(\u001b[0m\u001b[1;33m)\u001b[0m\u001b[1;33m\u001b[0m\u001b[0m\n\u001b[0m\u001b[1;32m    333\u001b[0m \u001b[1;33m\u001b[0m\u001b[0m\n\u001b[1;32m    334\u001b[0m     \u001b[1;32mdef\u001b[0m \u001b[0mget\u001b[0m\u001b[1;33m(\u001b[0m\u001b[0mself\u001b[0m\u001b[1;33m)\u001b[0m\u001b[1;33m:\u001b[0m\u001b[1;33m\u001b[0m\u001b[0m\n",
      "\u001b[0;32mC:\\Users\\Administrator\\Anaconda3\\lib\\site-packages\\sklearn\\externals\\joblib\\parallel.py\u001b[0m in \u001b[0;36m__call__\u001b[0;34m(self)\u001b[0m\n\u001b[1;32m    129\u001b[0m \u001b[1;33m\u001b[0m\u001b[0m\n\u001b[1;32m    130\u001b[0m     \u001b[1;32mdef\u001b[0m \u001b[0m__call__\u001b[0m\u001b[1;33m(\u001b[0m\u001b[0mself\u001b[0m\u001b[1;33m)\u001b[0m\u001b[1;33m:\u001b[0m\u001b[1;33m\u001b[0m\u001b[0m\n\u001b[0;32m--> 131\u001b[0;31m         \u001b[1;32mreturn\u001b[0m \u001b[1;33m[\u001b[0m\u001b[0mfunc\u001b[0m\u001b[1;33m(\u001b[0m\u001b[1;33m*\u001b[0m\u001b[0margs\u001b[0m\u001b[1;33m,\u001b[0m \u001b[1;33m**\u001b[0m\u001b[0mkwargs\u001b[0m\u001b[1;33m)\u001b[0m \u001b[1;32mfor\u001b[0m \u001b[0mfunc\u001b[0m\u001b[1;33m,\u001b[0m \u001b[0margs\u001b[0m\u001b[1;33m,\u001b[0m \u001b[0mkwargs\u001b[0m \u001b[1;32min\u001b[0m \u001b[0mself\u001b[0m\u001b[1;33m.\u001b[0m\u001b[0mitems\u001b[0m\u001b[1;33m]\u001b[0m\u001b[1;33m\u001b[0m\u001b[0m\n\u001b[0m\u001b[1;32m    132\u001b[0m \u001b[1;33m\u001b[0m\u001b[0m\n\u001b[1;32m    133\u001b[0m     \u001b[1;32mdef\u001b[0m \u001b[0m__len__\u001b[0m\u001b[1;33m(\u001b[0m\u001b[0mself\u001b[0m\u001b[1;33m)\u001b[0m\u001b[1;33m:\u001b[0m\u001b[1;33m\u001b[0m\u001b[0m\n",
      "\u001b[0;32mC:\\Users\\Administrator\\Anaconda3\\lib\\site-packages\\sklearn\\externals\\joblib\\parallel.py\u001b[0m in \u001b[0;36m<listcomp>\u001b[0;34m(.0)\u001b[0m\n\u001b[1;32m    129\u001b[0m \u001b[1;33m\u001b[0m\u001b[0m\n\u001b[1;32m    130\u001b[0m     \u001b[1;32mdef\u001b[0m \u001b[0m__call__\u001b[0m\u001b[1;33m(\u001b[0m\u001b[0mself\u001b[0m\u001b[1;33m)\u001b[0m\u001b[1;33m:\u001b[0m\u001b[1;33m\u001b[0m\u001b[0m\n\u001b[0;32m--> 131\u001b[0;31m         \u001b[1;32mreturn\u001b[0m \u001b[1;33m[\u001b[0m\u001b[0mfunc\u001b[0m\u001b[1;33m(\u001b[0m\u001b[1;33m*\u001b[0m\u001b[0margs\u001b[0m\u001b[1;33m,\u001b[0m \u001b[1;33m**\u001b[0m\u001b[0mkwargs\u001b[0m\u001b[1;33m)\u001b[0m \u001b[1;32mfor\u001b[0m \u001b[0mfunc\u001b[0m\u001b[1;33m,\u001b[0m \u001b[0margs\u001b[0m\u001b[1;33m,\u001b[0m \u001b[0mkwargs\u001b[0m \u001b[1;32min\u001b[0m \u001b[0mself\u001b[0m\u001b[1;33m.\u001b[0m\u001b[0mitems\u001b[0m\u001b[1;33m]\u001b[0m\u001b[1;33m\u001b[0m\u001b[0m\n\u001b[0m\u001b[1;32m    132\u001b[0m \u001b[1;33m\u001b[0m\u001b[0m\n\u001b[1;32m    133\u001b[0m     \u001b[1;32mdef\u001b[0m \u001b[0m__len__\u001b[0m\u001b[1;33m(\u001b[0m\u001b[0mself\u001b[0m\u001b[1;33m)\u001b[0m\u001b[1;33m:\u001b[0m\u001b[1;33m\u001b[0m\u001b[0m\n",
      "\u001b[0;32mC:\\Users\\Administrator\\Anaconda3\\lib\\site-packages\\sklearn\\ensemble\\forest.py\u001b[0m in \u001b[0;36m_parallel_build_trees\u001b[0;34m(tree, forest, X, y, sample_weight, tree_idx, n_trees, verbose, class_weight)\u001b[0m\n\u001b[1;32m    119\u001b[0m             \u001b[0mcurr_sample_weight\u001b[0m \u001b[1;33m*=\u001b[0m \u001b[0mcompute_sample_weight\u001b[0m\u001b[1;33m(\u001b[0m\u001b[1;34m'balanced'\u001b[0m\u001b[1;33m,\u001b[0m \u001b[0my\u001b[0m\u001b[1;33m,\u001b[0m \u001b[0mindices\u001b[0m\u001b[1;33m)\u001b[0m\u001b[1;33m\u001b[0m\u001b[0m\n\u001b[1;32m    120\u001b[0m \u001b[1;33m\u001b[0m\u001b[0m\n\u001b[0;32m--> 121\u001b[0;31m         \u001b[0mtree\u001b[0m\u001b[1;33m.\u001b[0m\u001b[0mfit\u001b[0m\u001b[1;33m(\u001b[0m\u001b[0mX\u001b[0m\u001b[1;33m,\u001b[0m \u001b[0my\u001b[0m\u001b[1;33m,\u001b[0m \u001b[0msample_weight\u001b[0m\u001b[1;33m=\u001b[0m\u001b[0mcurr_sample_weight\u001b[0m\u001b[1;33m,\u001b[0m \u001b[0mcheck_input\u001b[0m\u001b[1;33m=\u001b[0m\u001b[1;32mFalse\u001b[0m\u001b[1;33m)\u001b[0m\u001b[1;33m\u001b[0m\u001b[0m\n\u001b[0m\u001b[1;32m    122\u001b[0m     \u001b[1;32melse\u001b[0m\u001b[1;33m:\u001b[0m\u001b[1;33m\u001b[0m\u001b[0m\n\u001b[1;32m    123\u001b[0m         \u001b[0mtree\u001b[0m\u001b[1;33m.\u001b[0m\u001b[0mfit\u001b[0m\u001b[1;33m(\u001b[0m\u001b[0mX\u001b[0m\u001b[1;33m,\u001b[0m \u001b[0my\u001b[0m\u001b[1;33m,\u001b[0m \u001b[0msample_weight\u001b[0m\u001b[1;33m=\u001b[0m\u001b[0msample_weight\u001b[0m\u001b[1;33m,\u001b[0m \u001b[0mcheck_input\u001b[0m\u001b[1;33m=\u001b[0m\u001b[1;32mFalse\u001b[0m\u001b[1;33m)\u001b[0m\u001b[1;33m\u001b[0m\u001b[0m\n",
      "\u001b[0;32mC:\\Users\\Administrator\\Anaconda3\\lib\\site-packages\\sklearn\\tree\\tree.py\u001b[0m in \u001b[0;36mfit\u001b[0;34m(self, X, y, sample_weight, check_input, X_idx_sorted)\u001b[0m\n\u001b[1;32m    788\u001b[0m             \u001b[0msample_weight\u001b[0m\u001b[1;33m=\u001b[0m\u001b[0msample_weight\u001b[0m\u001b[1;33m,\u001b[0m\u001b[1;33m\u001b[0m\u001b[0m\n\u001b[1;32m    789\u001b[0m             \u001b[0mcheck_input\u001b[0m\u001b[1;33m=\u001b[0m\u001b[0mcheck_input\u001b[0m\u001b[1;33m,\u001b[0m\u001b[1;33m\u001b[0m\u001b[0m\n\u001b[0;32m--> 790\u001b[0;31m             X_idx_sorted=X_idx_sorted)\n\u001b[0m\u001b[1;32m    791\u001b[0m         \u001b[1;32mreturn\u001b[0m \u001b[0mself\u001b[0m\u001b[1;33m\u001b[0m\u001b[0m\n\u001b[1;32m    792\u001b[0m \u001b[1;33m\u001b[0m\u001b[0m\n",
      "\u001b[0;32mC:\\Users\\Administrator\\Anaconda3\\lib\\site-packages\\sklearn\\tree\\tree.py\u001b[0m in \u001b[0;36mfit\u001b[0;34m(self, X, y, sample_weight, check_input, X_idx_sorted)\u001b[0m\n\u001b[1;32m    360\u001b[0m                                            min_impurity_split)\n\u001b[1;32m    361\u001b[0m \u001b[1;33m\u001b[0m\u001b[0m\n\u001b[0;32m--> 362\u001b[0;31m         \u001b[0mbuilder\u001b[0m\u001b[1;33m.\u001b[0m\u001b[0mbuild\u001b[0m\u001b[1;33m(\u001b[0m\u001b[0mself\u001b[0m\u001b[1;33m.\u001b[0m\u001b[0mtree_\u001b[0m\u001b[1;33m,\u001b[0m \u001b[0mX\u001b[0m\u001b[1;33m,\u001b[0m \u001b[0my\u001b[0m\u001b[1;33m,\u001b[0m \u001b[0msample_weight\u001b[0m\u001b[1;33m,\u001b[0m \u001b[0mX_idx_sorted\u001b[0m\u001b[1;33m)\u001b[0m\u001b[1;33m\u001b[0m\u001b[0m\n\u001b[0m\u001b[1;32m    363\u001b[0m \u001b[1;33m\u001b[0m\u001b[0m\n\u001b[1;32m    364\u001b[0m         \u001b[1;32mif\u001b[0m \u001b[0mself\u001b[0m\u001b[1;33m.\u001b[0m\u001b[0mn_outputs_\u001b[0m \u001b[1;33m==\u001b[0m \u001b[1;36m1\u001b[0m\u001b[1;33m:\u001b[0m\u001b[1;33m\u001b[0m\u001b[0m\n",
      "\u001b[0;31mKeyboardInterrupt\u001b[0m: "
     ]
    }
   ],
   "source": [
    "rf = RandomForestClassifier(random_state=0)\n",
    "selector_rf = RFECV(rf, cv=5)\n",
    "selector_rf.fit(X_scaled_train, y_train.values.ravel())"
   ]
  },
  {
   "cell_type": "code",
   "execution_count": null,
   "metadata": {
    "collapsed": true
   },
   "outputs": [],
   "source": [
    "optimized_columns = X_scaled_train[selector.support_]\n",
    "print(optimized_columns)"
   ]
  },
  {
   "cell_type": "code",
   "execution_count": null,
   "metadata": {
    "collapsed": true
   },
   "outputs": [],
   "source": []
  },
  {
   "cell_type": "markdown",
   "metadata": {},
   "source": [
    "### Using frequency encoding\n",
    "\n",
    "example\n",
    "```python\n",
    "encoding = titanic.groupby('Embarked').size() / len(titanic)\n",
    "titanic['Embarked_encoded'] = titanic['Embarked'].map(encoding)\n",
    "```"
   ]
  },
  {
   "cell_type": "code",
   "execution_count": null,
   "metadata": {
    "collapsed": true
   },
   "outputs": [],
   "source": []
  },
  {
   "cell_type": "code",
   "execution_count": null,
   "metadata": {
    "collapsed": true
   },
   "outputs": [],
   "source": []
  },
  {
   "cell_type": "code",
   "execution_count": null,
   "metadata": {
    "collapsed": true
   },
   "outputs": [],
   "source": []
  },
  {
   "cell_type": "code",
   "execution_count": null,
   "metadata": {
    "collapsed": true
   },
   "outputs": [],
   "source": []
  },
  {
   "cell_type": "code",
   "execution_count": null,
   "metadata": {
    "collapsed": true
   },
   "outputs": [],
   "source": []
  },
  {
   "cell_type": "code",
   "execution_count": null,
   "metadata": {
    "collapsed": true
   },
   "outputs": [],
   "source": []
  },
  {
   "cell_type": "code",
   "execution_count": null,
   "metadata": {
    "collapsed": true
   },
   "outputs": [],
   "source": []
  },
  {
   "cell_type": "code",
   "execution_count": null,
   "metadata": {
    "collapsed": true
   },
   "outputs": [],
   "source": []
  }
 ],
 "metadata": {
  "kernelspec": {
   "display_name": "Python [default]",
   "language": "python",
   "name": "python3"
  },
  "language_info": {
   "codemirror_mode": {
    "name": "ipython",
    "version": 3
   },
   "file_extension": ".py",
   "mimetype": "text/x-python",
   "name": "python",
   "nbconvert_exporter": "python",
   "pygments_lexer": "ipython3",
   "version": "3.5.4"
  }
 },
 "nbformat": 4,
 "nbformat_minor": 2
}

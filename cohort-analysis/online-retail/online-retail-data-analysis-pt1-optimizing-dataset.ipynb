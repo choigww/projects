{
 "cells": [
  {
   "cell_type": "markdown",
   "metadata": {},
   "source": [
    "# Online Retail Data Set from UCI ML repo\n",
    "### Business Data Analysis by [Kyuhyung Choi](https://headstartup.tistory.com)\n",
    "\n",
    "last update: 2019.04.05"
   ]
  },
  {
   "cell_type": "code",
   "execution_count": null,
   "metadata": {},
   "outputs": [],
   "source": []
  },
  {
   "cell_type": "markdown",
   "metadata": {},
   "source": [
    "#### Description\n",
    "* A transactional data which contains all the transactions occurring between 01/12/2010 and 09/12/2011 for a UK-based and registered non-store online retail.\n",
    "\n",
    "#### Data Content\n",
    "* Data Set Charateristics: Multivariate, Sequential, Time-Series\n",
    "* Number of Instances: 541909\n",
    "* Area: Business\n",
    "* Attribute Characteristics: Integer, Real Num\n",
    "* Number of Attributes: 8\n",
    "* Data Donated: 2015-11-06\n",
    "* Associated Tasks: Classification, Clustering\n",
    "* Missing Values: N/A\n",
    "\n",
    "#### Source\n",
    "* Dr Daqing Chen, Director: Public Analytics group. chend '@' lsbu.ac.uk, School of Engineering, London South Bank University, London SE1 0AA, UK.\n",
    "\n",
    "#### Relevant Papers\n",
    "* **The evolution of direct, data and digital marketing**, Richard Webber, Journal of Direct, Data and Digital Marketing Practice (2013) 14, 291-309. \n",
    "* **Clustering Experiments on Big Transaction Data for Market Segmentation**, Ashishkumar Singh, Grace Rumantir, Annie South, Blair Bethwaite, Proceedings of the 2014 International Conference on Big Data Science and Computing. \n",
    "* **A decision-making framework for precision marketing**, Zhen You, Yain-Whar Si, Defu Zhang, XiangXiang Zeng, Stephen C.H. Leung c, Tao Li, Expert Systems with Applications, 42 (2015) 3357-3367.\n",
    "\n",
    "## Features \n",
    "* `InvoiceNo` = Invoice number, Nominal, 6-digit integral number uniquely assigned to each transaction.\n",
    "  * If this code starts with letter 'c', it indicates a cancellation.\n",
    "* `StockCode` = Product (item) code. Nominal, 5-digit integral number uniquely assigned to each distinct product.\n",
    "* `Description` = Product (item) name. Nominal. \n",
    "* `Quatity` = The quantities of each product (item) per transaction. Numeric. \n",
    "* `InvoiceDate` = Invice Date and time. Numeric, the day and time when each transaction was generated.\n",
    "* `UnitPrice` = Unit price. Numeric, Product price per unit in sterling.\n",
    "* `CustomerID` = Customer number. Nominal, a 5-digit integral number uniquely assigned to each customer.\n",
    "* `Country` = Country name. Nominal, the name of the country where each customer resides.\n",
    "\n"
   ]
  },
  {
   "cell_type": "code",
   "execution_count": null,
   "metadata": {},
   "outputs": [],
   "source": []
  },
  {
   "cell_type": "code",
   "execution_count": null,
   "metadata": {},
   "outputs": [],
   "source": []
  },
  {
   "cell_type": "markdown",
   "metadata": {},
   "source": [
    "# 1. Optimizing Dataset"
   ]
  },
  {
   "cell_type": "code",
   "execution_count": 4,
   "metadata": {},
   "outputs": [],
   "source": [
    "import numpy as np\n",
    "import pandas as pd\n",
    "import matplotlib.pyplot as plt"
   ]
  },
  {
   "cell_type": "code",
   "execution_count": 102,
   "metadata": {},
   "outputs": [],
   "source": [
    "data = pd.read_excel('Online Retail.xlsx')"
   ]
  },
  {
   "cell_type": "code",
   "execution_count": 103,
   "metadata": {},
   "outputs": [
    {
     "name": "stdout",
     "output_type": "stream",
     "text": [
      "<class 'pandas.core.frame.DataFrame'>\n",
      "RangeIndex: 541909 entries, 0 to 541908\n",
      "Data columns (total 8 columns):\n",
      "InvoiceNo      541909 non-null object\n",
      "StockCode      541909 non-null object\n",
      "Description    540455 non-null object\n",
      "Quantity       541909 non-null int64\n",
      "InvoiceDate    541909 non-null datetime64[ns]\n",
      "UnitPrice      541909 non-null float64\n",
      "CustomerID     406829 non-null float64\n",
      "Country        541909 non-null object\n",
      "dtypes: datetime64[ns](1), float64(2), int64(1), object(4)\n",
      "memory usage: 33.1+ MB\n"
     ]
    }
   ],
   "source": [
    "data.info()"
   ]
  },
  {
   "cell_type": "code",
   "execution_count": null,
   "metadata": {},
   "outputs": [],
   "source": []
  },
  {
   "cell_type": "markdown",
   "metadata": {},
   "source": [
    "## Optimizing Dataframe Memory Footprint\n",
    "* Assuming that this dataset size is much more bigger, we optimize dataframe memory footprint and accelerate the speed to load the data."
   ]
  },
  {
   "cell_type": "code",
   "execution_count": 104,
   "metadata": {
    "scrolled": true
   },
   "outputs": [
    {
     "data": {
      "text/plain": [
       "BlockManager\n",
       "Items: Index(['InvoiceNo', 'StockCode', 'Description', 'Quantity', 'InvoiceDate',\n",
       "       'UnitPrice', 'CustomerID', 'Country'],\n",
       "      dtype='object')\n",
       "Axis 1: RangeIndex(start=0, stop=541909, step=1)\n",
       "FloatBlock: slice(5, 7, 1), 2 x 541909, dtype: float64\n",
       "IntBlock: slice(3, 4, 1), 1 x 541909, dtype: int64\n",
       "DatetimeBlock: slice(4, 5, 1), 1 x 541909, dtype: datetime64[ns]\n",
       "ObjectBlock: [0, 1, 2, 7], 4 x 541909, dtype: object"
      ]
     },
     "execution_count": 104,
     "metadata": {},
     "output_type": "execute_result"
    }
   ],
   "source": [
    "data._data"
   ]
  },
  {
   "cell_type": "code",
   "execution_count": 105,
   "metadata": {},
   "outputs": [
    {
     "name": "stdout",
     "output_type": "stream",
     "text": [
      "<class 'pandas.core.frame.DataFrame'>\n",
      "RangeIndex: 541909 entries, 0 to 541908\n",
      "Data columns (total 8 columns):\n",
      "InvoiceNo      541909 non-null object\n",
      "StockCode      541909 non-null object\n",
      "Description    540455 non-null object\n",
      "Quantity       541909 non-null int64\n",
      "InvoiceDate    541909 non-null datetime64[ns]\n",
      "UnitPrice      541909 non-null float64\n",
      "CustomerID     406829 non-null float64\n",
      "Country        541909 non-null object\n",
      "dtypes: datetime64[ns](1), float64(2), int64(1), object(4)\n",
      "memory usage: 134.9 MB\n"
     ]
    }
   ],
   "source": [
    "# True memory footprint = 134.9MB\n",
    "data.info(memory_usage='deep')"
   ]
  },
  {
   "cell_type": "code",
   "execution_count": 106,
   "metadata": {},
   "outputs": [
    {
     "data": {
      "text/plain": [
       "Index                80\n",
       "InvoiceNo      19768872\n",
       "StockCode      20988204\n",
       "Description    45252969\n",
       "Quantity        4335272\n",
       "InvoiceDate     4335272\n",
       "UnitPrice       4335272\n",
       "CustomerID      4335272\n",
       "Country        38137498\n",
       "dtype: int64"
      ]
     },
     "execution_count": 106,
     "metadata": {},
     "output_type": "execute_result"
    }
   ],
   "source": [
    "# deep memory footprint of each column\n",
    "data.memory_usage(deep=True)"
   ]
  },
  {
   "cell_type": "code",
   "execution_count": 107,
   "metadata": {},
   "outputs": [
    {
     "name": "stdout",
     "output_type": "stream",
     "text": [
      "134.934149742\n"
     ]
    }
   ],
   "source": [
    "# total deep memory footprints\n",
    "tot_mem_megabytes = data.memory_usage(deep=True).sum() / 2**20\n",
    "print(tot_mem_megabytes)"
   ]
  },
  {
   "cell_type": "code",
   "execution_count": null,
   "metadata": {},
   "outputs": [],
   "source": []
  },
  {
   "cell_type": "code",
   "execution_count": 108,
   "metadata": {
    "scrolled": true
   },
   "outputs": [
    {
     "name": "stdout",
     "output_type": "stream",
     "text": [
      "Index                80\n",
      "InvoiceNo      19768872\n",
      "StockCode      20988204\n",
      "Description    45252969\n",
      "Country        38137498\n",
      "dtype: int64\n",
      "Total memory footprints for string columns: 118.396399498\n"
     ]
    }
   ],
   "source": [
    "# deep memory footprints for string columns\n",
    "obj_cols = data.select_dtypes(include=['object'])\n",
    "obj_cols_mem = obj_cols.memory_usage(deep=True)\n",
    "print(obj_cols_mem)\n",
    "\n",
    "obj_cols_mem_tot_megabytes = obj_cols_mem.sum() / 2**20\n",
    "print('Total memory footprints for string columns:', obj_cols_mem_tot_megabytes)"
   ]
  },
  {
   "cell_type": "code",
   "execution_count": 109,
   "metadata": {},
   "outputs": [
    {
     "name": "stdout",
     "output_type": "stream",
     "text": [
      "87.7438363263\n"
     ]
    }
   ],
   "source": [
    "# String columns take nearly 90% of total memory footprints\n",
    "print(obj_cols_mem_tot_megabytes/tot_mem_megabytes*100)"
   ]
  },
  {
   "cell_type": "code",
   "execution_count": null,
   "metadata": {},
   "outputs": [],
   "source": []
  },
  {
   "cell_type": "markdown",
   "metadata": {},
   "source": [
    "## If the number of unique values are less than 50% of the total length of each string column, we convert string(object) dtype to categorical dtype.\n",
    "\n",
    "```\n",
    "Converting each column to the category dtype reduced the memory footprint to just 6.4 mb. While converting all of the columns to this type is appealing, it's important to be aware of the trade-offs.\n",
    "\n",
    "The biggest one is the inability to perform numerical computations.\n",
    "We can't do arithmetic with category columns or use methods like Series.min() and Series.max() without converting to a true numeric dtype first.\n",
    "\n",
    "We should stick to using the category type primarily for object columns where less than 50% of the values are unique.\n",
    "If all of the values in a column are unique, the category type will end up using more memory.\n",
    "```"
   ]
  },
  {
   "cell_type": "code",
   "execution_count": 110,
   "metadata": {},
   "outputs": [
    {
     "name": "stdout",
     "output_type": "stream",
     "text": [
      "InvoiceNo converted to category dtype.\n",
      "StockCode converted to category dtype.\n",
      "Description converted to category dtype.\n",
      "Country converted to category dtype.\n"
     ]
    }
   ],
   "source": [
    "for oc in obj_cols.columns:\n",
    "    if len(data[oc])*.5 > len(data[oc].unique()):\n",
    "        data[oc] = data[oc].astype('category')\n",
    "        print(oc, 'converted to category dtype.')"
   ]
  },
  {
   "cell_type": "code",
   "execution_count": 111,
   "metadata": {
    "scrolled": true
   },
   "outputs": [
    {
     "name": "stdout",
     "output_type": "stream",
     "text": [
      "<class 'pandas.core.frame.DataFrame'>\n",
      "RangeIndex: 541909 entries, 0 to 541908\n",
      "Data columns (total 4 columns):\n",
      "InvoiceNo      541909 non-null category\n",
      "StockCode      541909 non-null category\n",
      "Description    540455 non-null category\n",
      "Country        541909 non-null category\n",
      "dtypes: category(4)\n",
      "memory usage: 5.4 MB\n"
     ]
    }
   ],
   "source": [
    "# All the string columns converted to category dtype columns.\n",
    "data[obj_cols.columns].info()"
   ]
  },
  {
   "cell_type": "code",
   "execution_count": null,
   "metadata": {},
   "outputs": [],
   "source": []
  },
  {
   "cell_type": "code",
   "execution_count": 112,
   "metadata": {},
   "outputs": [
    {
     "data": {
      "text/plain": [
       "dtype('int64')"
      ]
     },
     "execution_count": 112,
     "metadata": {},
     "output_type": "execute_result"
    }
   ],
   "source": [
    "data['Quantity'].dtype"
   ]
  },
  {
   "cell_type": "code",
   "execution_count": 113,
   "metadata": {},
   "outputs": [],
   "source": [
    "# convert 'Quantity' dtype from int64 to float64\n",
    "data['Quantity'] = data['Quantity'].astype('float64')"
   ]
  },
  {
   "cell_type": "code",
   "execution_count": 114,
   "metadata": {},
   "outputs": [
    {
     "name": "stdout",
     "output_type": "stream",
     "text": [
      "Index              80\n",
      "Quantity      4335272\n",
      "UnitPrice     4335272\n",
      "CustomerID    4335272\n",
      "dtype: int64\n",
      "Total memory footprints for float columns: 12.4033889771\n"
     ]
    }
   ],
   "source": [
    "# deep memory footprints for float columns\n",
    "float_cols = data.select_dtypes(include=['float'])\n",
    "float_cols_mem = float_cols.memory_usage(deep=True)\n",
    "print(float_cols_mem)\n",
    "\n",
    "float_cols_mem_tot_megabytes = float_cols_mem.sum() / 2**20\n",
    "print('Total memory footprints for float columns:', float_cols_mem_tot_megabytes)"
   ]
  },
  {
   "cell_type": "code",
   "execution_count": 115,
   "metadata": {},
   "outputs": [
    {
     "name": "stdout",
     "output_type": "stream",
     "text": [
      "Quantity -80995.0 80995.0\n",
      "UnitPrice -11062.06 38970.0\n",
      "CustomerID 12346.0 18287.0\n"
     ]
    }
   ],
   "source": [
    "# check the min/max of each float column\n",
    "print('Quantity', data['Quantity'].min(), data['Quantity'].max())\n",
    "print('UnitPrice', data['UnitPrice'].min(), data['UnitPrice'].max())\n",
    "print('CustomerID', data['CustomerID'].min(), data['CustomerID'].max())"
   ]
  },
  {
   "cell_type": "code",
   "execution_count": 116,
   "metadata": {},
   "outputs": [
    {
     "name": "stdout",
     "output_type": "stream",
     "text": [
      "num of rows before dropping 541909\n",
      "num of rows after dropping 530104\n"
     ]
    }
   ],
   "source": [
    "# drop the zero or minus values in 'Quantity' and 'UnitPrice'\n",
    "\n",
    "print('num of rows before dropping', len(data))\n",
    "\n",
    "quantity_col_minus_index = data[data['Quantity']<=0].index\n",
    "unitprice_col_minus_index = data[data['UnitPrice']<=0].index\n",
    "data = data.drop(quantity_col_minus_index | unitprice_col_minus_index)\n",
    "\n",
    "print('num of rows after dropping', len(data))"
   ]
  },
  {
   "cell_type": "code",
   "execution_count": 118,
   "metadata": {},
   "outputs": [
    {
     "name": "stdout",
     "output_type": "stream",
     "text": [
      "Quantity float32\n",
      "UnitPrice float32\n",
      "CustomerID float32\n"
     ]
    }
   ],
   "source": [
    "for float_colname in float_cols.columns:\n",
    "    data[float_colname] = pd.to_numeric(data[float_colname], downcast='float')\n",
    "    print(float_colname, data[float_colname].dtype)"
   ]
  },
  {
   "cell_type": "code",
   "execution_count": null,
   "metadata": {},
   "outputs": [],
   "source": []
  },
  {
   "cell_type": "markdown",
   "metadata": {},
   "source": [
    "## Optimization Result\n",
    "* Original deep memory footprints = **134.9MB**\n",
    "* Optimized deep memory footprints = **20.8MB**"
   ]
  },
  {
   "cell_type": "code",
   "execution_count": 119,
   "metadata": {
    "scrolled": true
   },
   "outputs": [
    {
     "name": "stdout",
     "output_type": "stream",
     "text": [
      "<class 'pandas.core.frame.DataFrame'>\n",
      "Int64Index: 530104 entries, 0 to 541908\n",
      "Data columns (total 8 columns):\n",
      "InvoiceNo      530104 non-null category\n",
      "StockCode      530104 non-null category\n",
      "Description    530104 non-null category\n",
      "Quantity       530104 non-null float32\n",
      "InvoiceDate    530104 non-null datetime64[ns]\n",
      "UnitPrice      530104 non-null float32\n",
      "CustomerID     397884 non-null float32\n",
      "Country        530104 non-null category\n",
      "dtypes: category(4), datetime64[ns](1), float32(3)\n",
      "memory usage: 20.8 MB\n"
     ]
    }
   ],
   "source": [
    "data.info(memory_usage='deep')"
   ]
  },
  {
   "cell_type": "code",
   "execution_count": null,
   "metadata": {},
   "outputs": [],
   "source": []
  },
  {
   "cell_type": "markdown",
   "metadata": {},
   "source": [
    "# Now we're ready to dig in - let's go to Part 2."
   ]
  },
  {
   "cell_type": "code",
   "execution_count": null,
   "metadata": {},
   "outputs": [],
   "source": []
  }
 ],
 "metadata": {
  "kernelspec": {
   "display_name": "Python 3",
   "language": "python",
   "name": "python3"
  },
  "language_info": {
   "codemirror_mode": {
    "name": "ipython",
    "version": 3
   },
   "file_extension": ".py",
   "mimetype": "text/x-python",
   "name": "python",
   "nbconvert_exporter": "python",
   "pygments_lexer": "ipython3",
   "version": "3.6.2"
  }
 },
 "nbformat": 4,
 "nbformat_minor": 2
}

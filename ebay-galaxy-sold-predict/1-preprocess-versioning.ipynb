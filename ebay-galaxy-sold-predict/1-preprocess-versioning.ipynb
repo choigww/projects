{
 "cells": [
  {
   "cell_type": "code",
   "execution_count": 1,
   "id": "powerful-relationship",
   "metadata": {},
   "outputs": [
    {
     "name": "stderr",
     "output_type": "stream",
     "text": [
      "/opt/anaconda3/envs/AI_dev/lib/python3.7/site-packages/sklearn/utils/deprecation.py:144: FutureWarning: The sklearn.neighbors.base module is  deprecated in version 0.22 and will be removed in version 0.24. The corresponding classes / functions should instead be imported from sklearn.neighbors. Anything that cannot be imported from sklearn.neighbors is now part of the private API.\n",
      "  warnings.warn(message, FutureWarning)\n"
     ]
    }
   ],
   "source": [
    "import pandas as pd\n",
    "import numpy as np\n",
    "import matplotlib.pyplot as plt\n",
    "import seaborn as sns\n",
    "\n",
    "from sklearn.model_selection import train_test_split, GridSearchCV\n",
    "from sklearn.metrics import accuracy_score, precision_score, recall_score, confusion_matrix, f1_score\n",
    "\n",
    "from sklearn.linear_model import LogisticRegression\n",
    "from sklearn.naive_bayes import GaussianNB\n",
    "from sklearn.ensemble import RandomForestClassifier, VotingClassifier\n",
    "from sklearn.tree import DecisionTreeClassifier\n",
    "\n",
    "from sklearn import preprocessing\n",
    "from sklearn.preprocessing import LabelEncoder\n",
    "import datawig\n",
    "from missingpy import MissForest"
   ]
  },
  {
   "cell_type": "code",
   "execution_count": null,
   "id": "advisory-letter",
   "metadata": {},
   "outputs": [],
   "source": []
  },
  {
   "cell_type": "code",
   "execution_count": 2,
   "id": "recreational-refrigerator",
   "metadata": {},
   "outputs": [],
   "source": [
    "df = pd.read_csv('./data/galaxy.csv')"
   ]
  },
  {
   "cell_type": "code",
   "execution_count": 3,
   "id": "renewable-withdrawal",
   "metadata": {},
   "outputs": [
    {
     "data": {
      "text/html": [
       "<div>\n",
       "<style scoped>\n",
       "    .dataframe tbody tr th:only-of-type {\n",
       "        vertical-align: middle;\n",
       "    }\n",
       "\n",
       "    .dataframe tbody tr th {\n",
       "        vertical-align: top;\n",
       "    }\n",
       "\n",
       "    .dataframe thead th {\n",
       "        text-align: right;\n",
       "    }\n",
       "</style>\n",
       "<table border=\"1\" class=\"dataframe\">\n",
       "  <thead>\n",
       "    <tr style=\"text-align: right;\">\n",
       "      <th></th>\n",
       "      <th>BuyItNow</th>\n",
       "      <th>startprice</th>\n",
       "      <th>carrier</th>\n",
       "      <th>color</th>\n",
       "      <th>productline</th>\n",
       "      <th>noDescription</th>\n",
       "      <th>charCountDescription</th>\n",
       "      <th>upperCaseDescription</th>\n",
       "      <th>sold</th>\n",
       "    </tr>\n",
       "  </thead>\n",
       "  <tbody>\n",
       "    <tr>\n",
       "      <th>0</th>\n",
       "      <td>0</td>\n",
       "      <td>199.99</td>\n",
       "      <td>None</td>\n",
       "      <td>White</td>\n",
       "      <td>Galaxy_S9</td>\n",
       "      <td>contains description</td>\n",
       "      <td>0</td>\n",
       "      <td>0</td>\n",
       "      <td>1</td>\n",
       "    </tr>\n",
       "    <tr>\n",
       "      <th>1</th>\n",
       "      <td>0</td>\n",
       "      <td>235.00</td>\n",
       "      <td>None</td>\n",
       "      <td>NaN</td>\n",
       "      <td>Galaxy_Note9</td>\n",
       "      <td>contains description</td>\n",
       "      <td>0</td>\n",
       "      <td>0</td>\n",
       "      <td>0</td>\n",
       "    </tr>\n",
       "    <tr>\n",
       "      <th>2</th>\n",
       "      <td>0</td>\n",
       "      <td>199.99</td>\n",
       "      <td>NaN</td>\n",
       "      <td>NaN</td>\n",
       "      <td>Unknown</td>\n",
       "      <td>no description</td>\n",
       "      <td>100</td>\n",
       "      <td>2</td>\n",
       "      <td>0</td>\n",
       "    </tr>\n",
       "    <tr>\n",
       "      <th>3</th>\n",
       "      <td>1</td>\n",
       "      <td>175.00</td>\n",
       "      <td>AT&amp;T</td>\n",
       "      <td>Space Gray</td>\n",
       "      <td>Galaxy_Note9</td>\n",
       "      <td>contains description</td>\n",
       "      <td>0</td>\n",
       "      <td>0</td>\n",
       "      <td>1</td>\n",
       "    </tr>\n",
       "    <tr>\n",
       "      <th>4</th>\n",
       "      <td>1</td>\n",
       "      <td>100.00</td>\n",
       "      <td>None</td>\n",
       "      <td>Space Gray</td>\n",
       "      <td>Galaxy_S8</td>\n",
       "      <td>contains description</td>\n",
       "      <td>0</td>\n",
       "      <td>0</td>\n",
       "      <td>1</td>\n",
       "    </tr>\n",
       "  </tbody>\n",
       "</table>\n",
       "</div>"
      ],
      "text/plain": [
       "   BuyItNow  startprice carrier       color   productline  \\\n",
       "0         0      199.99    None       White     Galaxy_S9   \n",
       "1         0      235.00    None         NaN  Galaxy_Note9   \n",
       "2         0      199.99     NaN         NaN       Unknown   \n",
       "3         1      175.00    AT&T  Space Gray  Galaxy_Note9   \n",
       "4         1      100.00    None  Space Gray     Galaxy_S8   \n",
       "\n",
       "          noDescription  charCountDescription  upperCaseDescription  sold  \n",
       "0  contains description                     0                     0     1  \n",
       "1  contains description                     0                     0     0  \n",
       "2        no description                   100                     2     0  \n",
       "3  contains description                     0                     0     1  \n",
       "4  contains description                     0                     0     1  "
      ]
     },
     "execution_count": 3,
     "metadata": {},
     "output_type": "execute_result"
    }
   ],
   "source": [
    "df.head()"
   ]
  },
  {
   "cell_type": "code",
   "execution_count": 4,
   "id": "organic-millennium",
   "metadata": {},
   "outputs": [
    {
     "data": {
      "text/plain": [
       "1485"
      ]
     },
     "execution_count": 4,
     "metadata": {},
     "output_type": "execute_result"
    }
   ],
   "source": [
    "len(df)"
   ]
  },
  {
   "cell_type": "code",
   "execution_count": 170,
   "id": "equivalent-tumor",
   "metadata": {},
   "outputs": [
    {
     "data": {
      "text/plain": [
       "Index(['BuyItNow', 'startprice', 'carrier', 'color', 'productline',\n",
       "       'noDescription', 'charCountDescription', 'upperCaseDescription',\n",
       "       'sold'],\n",
       "      dtype='object')"
      ]
     },
     "execution_count": 170,
     "metadata": {},
     "output_type": "execute_result"
    }
   ],
   "source": [
    "df.columns"
   ]
  },
  {
   "cell_type": "code",
   "execution_count": 171,
   "id": "outdoor-prediction",
   "metadata": {},
   "outputs": [
    {
     "data": {
      "text/plain": [
       "array(['White', nan, 'Space Gray', 'Midnight Black', 'Aura Black', 'Gold',\n",
       "       'Black', 'Prism Black'], dtype=object)"
      ]
     },
     "execution_count": 171,
     "metadata": {},
     "output_type": "execute_result"
    }
   ],
   "source": [
    "df.color.unique()"
   ]
  },
  {
   "cell_type": "code",
   "execution_count": 172,
   "id": "individual-cabinet",
   "metadata": {},
   "outputs": [
    {
     "data": {
      "text/plain": [
       "array(['None', nan, 'AT&T', 'Sprint/T-Mobile', 'Verizon'], dtype=object)"
      ]
     },
     "execution_count": 172,
     "metadata": {},
     "output_type": "execute_result"
    }
   ],
   "source": [
    "df.carrier.unique()"
   ]
  },
  {
   "cell_type": "code",
   "execution_count": null,
   "id": "animated-capture",
   "metadata": {},
   "outputs": [],
   "source": []
  },
  {
   "cell_type": "markdown",
   "id": "working-novel",
   "metadata": {},
   "source": [
    "# Ebay auction sales for Samsung Galaxy\n",
    "\n",
    "Webpage : http://ebay.auction.co.kr/shop/itms?sk_idx=0&q=galaxy&sk=galaxy&ltype=Auction\n",
    "\n",
    "### Feature\n",
    "\n",
    "- BuyItNow\n",
    "    - 즉시구매상품 여부 (즉시구매상품이면 1, 경매 상품이면 0)\n",
    "        - 즉시구매상품일 경우, `startprice`와 함께 즉시구매가격이 설정됨 (즉시구매가 정보는 데이터 미포함)\n",
    "    - source: https://pics.ebay.com/aw/pics/pdf/us/file_exchange/File_Exchange_Advanced_Instructions.pdf\n",
    "- color\n",
    "    - 핸드폰 색상\n",
    "    - 모든 모델에 대해 공통적으로 적용되는 색상이 아님\n",
    "        - Prism Black은 S10 라인업에서 처음 등장한 색상\n",
    "    - 희소성 측면에서, 일부 색상은 가격과 관련된 정보를 일부 포함할 가능성이 존재함\n",
    "        - research 진행하여, 희소성이 존재하는 한정 색상일 경우 별도 컬럼으로 구분하는 방법을 검토\n",
    "- carrier\n",
    "    - 통신사 정보\n",
    "        - 통신사 요금제는 Verizon > AT&T > Sprint/T-Mobile 순으로 가격이 비쌈\n",
    "        - 크레딧 스토어가 없거나 계좌 개설이 어려운 상황일 경우, 무제한 데이터 요금을 쓰지 않을 경우 통신사를 사용하지 않음\n",
    "        - source https://miguksaram.tistory.com/19\n",
    "    - 통신사 정보가 핸드폰 사용자의 경제력 또는 구매력에 대한 정보를 일부 포함할 가능성이 존재함"
   ]
  },
  {
   "cell_type": "code",
   "execution_count": 173,
   "id": "editorial-payment",
   "metadata": {
    "scrolled": false
   },
   "outputs": [
    {
     "data": {
      "text/plain": [
       "<AxesSubplot:>"
      ]
     },
     "execution_count": 173,
     "metadata": {},
     "output_type": "execute_result"
    },
    {
     "data": {
      "image/png": "[encoded data removed]",
      "text/plain": [
       "<Figure size 432x288 with 2 Axes>"
      ]
     },
     "metadata": {
      "needs_background": "light"
     },
     "output_type": "display_data"
    }
   ],
   "source": [
    "sns.heatmap(df.corr(), annot=True)"
   ]
  },
  {
   "cell_type": "code",
   "execution_count": null,
   "id": "italic-province",
   "metadata": {},
   "outputs": [],
   "source": []
  },
  {
   "cell_type": "markdown",
   "id": "identified-russian",
   "metadata": {},
   "source": [
    "# `BuyItNow` & `startprice`\n",
    "- 즉시구매상품과 경매상품 간에 명확한 startprice 분포 차이가 존재함"
   ]
  },
  {
   "cell_type": "code",
   "execution_count": 174,
   "id": "systematic-chocolate",
   "metadata": {},
   "outputs": [],
   "source": [
    "df_buyitnow_0 = df[df['BuyItNow']==0]\n",
    "df_buyitnow_1 = df[df['BuyItNow']==1]"
   ]
  },
  {
   "cell_type": "code",
   "execution_count": 175,
   "id": "complimentary-uniform",
   "metadata": {},
   "outputs": [
    {
     "data": {
      "text/plain": [
       "<matplotlib.legend.Legend at 0x1a2dec95d0>"
      ]
     },
     "execution_count": 175,
     "metadata": {},
     "output_type": "execute_result"
    },
    {
     "data": {
      "image/png": "[encoded data removed]",
      "text/plain": [
       "<Figure size 432x288 with 1 Axes>"
      ]
     },
     "metadata": {
      "needs_background": "light"
     },
     "output_type": "display_data"
    }
   ],
   "source": [
    "sns.histplot(df_buyitnow_0['startprice'])\n",
    "sns.histplot(df_buyitnow_1['startprice'], color='skyblue')\n",
    "plt.legend(['Auction Price', 'BuyItNow Price'])"
   ]
  },
  {
   "cell_type": "markdown",
   "id": "eligible-discretion",
   "metadata": {},
   "source": [
    "### 모델별 평균가를 기준으로 분포를 비교해 본다면?"
   ]
  },
  {
   "cell_type": "code",
   "execution_count": 120,
   "id": "obvious-destination",
   "metadata": {},
   "outputs": [
    {
     "data": {
      "text/plain": [
       "Index(['BuyItNow', 'startprice', 'carrier', 'color', 'productline',\n",
       "       'noDescription', 'charCountDescription', 'upperCaseDescription',\n",
       "       'sold'],\n",
       "      dtype='object')"
      ]
     },
     "execution_count": 120,
     "metadata": {},
     "output_type": "execute_result"
    }
   ],
   "source": [
    "df.columns"
   ]
  },
  {
   "cell_type": "code",
   "execution_count": 257,
   "id": "renewable-confidence",
   "metadata": {},
   "outputs": [
    {
     "data": {
      "text/plain": [
       "<AxesSubplot:xlabel='productline', ylabel='startprice'>"
      ]
     },
     "execution_count": 257,
     "metadata": {},
     "output_type": "execute_result"
    },
    {
     "data": {
      "image/png": "[encoded data removed]",
      "text/plain": [
       "<Figure size 720x360 with 1 Axes>"
      ]
     },
     "metadata": {
      "needs_background": "light"
     },
     "output_type": "display_data"
    }
   ],
   "source": [
    "plt.figure(figsize=(10, 5))\n",
    "sns.barplot(data=df,\n",
    "            x=\"productline\",\n",
    "            y=\"startprice\",\n",
    "            hue=\"BuyItNow\")"
   ]
  },
  {
   "cell_type": "code",
   "execution_count": 125,
   "id": "useful-timeline",
   "metadata": {},
   "outputs": [
    {
     "data": {
      "text/plain": [
       "Galaxy_Note10    211\n",
       "Galaxy_S8        141\n",
       "Unknown          120\n",
       "Galaxy_S7        109\n",
       "Galaxy_S9         93\n",
       "Galaxy_Note8      76\n",
       "Galaxy_Note9      61\n",
       "Galaxy_S10         7\n",
       "Name: productline, dtype: int64"
      ]
     },
     "execution_count": 125,
     "metadata": {},
     "output_type": "execute_result"
    }
   ],
   "source": [
    "df_buyitnow_0['productline'].value_counts()"
   ]
  },
  {
   "cell_type": "code",
   "execution_count": 126,
   "id": "premier-trinity",
   "metadata": {},
   "outputs": [
    {
     "data": {
      "text/plain": [
       "Galaxy_Note10    140\n",
       "Galaxy_S8        136\n",
       "Galaxy_S7        118\n",
       "Unknown           84\n",
       "Galaxy_Note8      77\n",
       "Galaxy_S9         65\n",
       "Galaxy_Note9      46\n",
       "Galaxy_S10         1\n",
       "Name: productline, dtype: int64"
      ]
     },
     "execution_count": 126,
     "metadata": {},
     "output_type": "execute_result"
    }
   ],
   "source": [
    "df_buyitnow_1['productline'].value_counts()"
   ]
  },
  {
   "cell_type": "code",
   "execution_count": null,
   "id": "different-google",
   "metadata": {},
   "outputs": [],
   "source": []
  },
  {
   "cell_type": "markdown",
   "id": "described-elimination",
   "metadata": {},
   "source": [
    "### takeaways\n",
    "- BuyItNow=1일 때의 startprice가 BuyItNow=0일 때의 startprice보다 2배 가량 낮다.\n",
    "    - 즉시구매가격을 설정한 셀러는 즉시구매가에 팔고 싶은 사람들\n",
    "    - 높은 가격을 받기에는 경매가 유리한데, 왜 즉시구매가격을 설정할까?\n",
    "- [웹사이트 확인 결과](http://ebay.auction.co.kr/shop/itms?sk_idx=0&q=galaxy%20s7&sk=galaxy%20s7&ltype=Auction), 즉시구매가 설정된 제품 대부분은 \"중고 제품\", 경매 only 제품 대부분은 \"미사용 제품\"\n",
    "    - 일정한 중고거래가 consensus 형성되어 있으므로 즉시구매가를 설정\n",
    "    - 중고 제품이므로 미사용 제품 대비 가격대가 낮게 설정됨\n",
    "    \n",
    "> BuyItNow는 중고 매물 여부 정보를 포함하며, 가격에 중요한 설명력을 갖는 변수."
   ]
  },
  {
   "cell_type": "code",
   "execution_count": null,
   "id": "offshore-salon",
   "metadata": {},
   "outputs": [],
   "source": []
  },
  {
   "cell_type": "markdown",
   "id": "guilty-sense",
   "metadata": {},
   "source": [
    "# Description 관련 변수들\n",
    "- `noDescription`\n",
    "- `charCountDescription`\n",
    "- `upperCaseDescription`"
   ]
  },
  {
   "cell_type": "code",
   "execution_count": 13,
   "id": "modular-agreement",
   "metadata": {},
   "outputs": [
    {
     "data": {
      "text/plain": [
       "array([  0, 100,  92,  96,  98,  84,  16, 101,  71,  77,  20,  14,  81,\n",
       "        11,   8,  31,  70,  93,  86,  25,  99,  37,  95,  21,  43,  33,\n",
       "       105, 102,  61,  44,  75,  40,  55,  19,  78,  58,  13,  87,  54,\n",
       "        46,  80,  50,  89,  73,  18,  41,  49,  30,  97,  94,  39,  68,\n",
       "        26,  15,  88,  34, 108,  57,  59,  32,  62,  38, 103,  17,  47,\n",
       "        69,  82,  24,  67,  83,  91,   9,  45,  72,  76,  52,  35,  79,\n",
       "       106,  29,  48,  12,   4,  56,  65,  64,  27,  60,  63,  74,   3,\n",
       "        36,  28,  22,  85,   5, 104,  90,  42,   6, 109, 111,  10,  53,\n",
       "        51])"
      ]
     },
     "execution_count": 13,
     "metadata": {},
     "output_type": "execute_result"
    }
   ],
   "source": [
    "df['charCountDescription'].unique()"
   ]
  },
  {
   "cell_type": "code",
   "execution_count": 14,
   "id": "figured-jacob",
   "metadata": {},
   "outputs": [
    {
     "data": {
      "text/plain": [
       "0      856\n",
       "99      56\n",
       "100     50\n",
       "101     43\n",
       "98      40\n",
       "      ... \n",
       "28       1\n",
       "63       1\n",
       "109      1\n",
       "53       1\n",
       "111      1\n",
       "Name: charCountDescription, Length: 105, dtype: int64"
      ]
     },
     "execution_count": 14,
     "metadata": {},
     "output_type": "execute_result"
    }
   ],
   "source": [
    "df['charCountDescription'].value_counts()"
   ]
  },
  {
   "cell_type": "code",
   "execution_count": 37,
   "id": "criminal-professor",
   "metadata": {},
   "outputs": [
    {
     "data": {
      "text/html": [
       "<div>\n",
       "<style scoped>\n",
       "    .dataframe tbody tr th:only-of-type {\n",
       "        vertical-align: middle;\n",
       "    }\n",
       "\n",
       "    .dataframe tbody tr th {\n",
       "        vertical-align: top;\n",
       "    }\n",
       "\n",
       "    .dataframe thead th {\n",
       "        text-align: right;\n",
       "    }\n",
       "</style>\n",
       "<table border=\"1\" class=\"dataframe\">\n",
       "  <thead>\n",
       "    <tr style=\"text-align: right;\">\n",
       "      <th></th>\n",
       "      <th>BuyItNow</th>\n",
       "      <th>startprice</th>\n",
       "      <th>charCountDescription</th>\n",
       "      <th>upperCaseDescription</th>\n",
       "      <th>sold</th>\n",
       "    </tr>\n",
       "  </thead>\n",
       "  <tbody>\n",
       "    <tr>\n",
       "      <th>count</th>\n",
       "      <td>1485.000000</td>\n",
       "      <td>1485.000000</td>\n",
       "      <td>1485.000000</td>\n",
       "      <td>1485.000000</td>\n",
       "      <td>1485.000000</td>\n",
       "    </tr>\n",
       "    <tr>\n",
       "      <th>mean</th>\n",
       "      <td>0.449158</td>\n",
       "      <td>216.844162</td>\n",
       "      <td>31.184512</td>\n",
       "      <td>2.863300</td>\n",
       "      <td>0.461953</td>\n",
       "    </tr>\n",
       "    <tr>\n",
       "      <th>std</th>\n",
       "      <td>0.497576</td>\n",
       "      <td>172.893308</td>\n",
       "      <td>41.744518</td>\n",
       "      <td>9.418585</td>\n",
       "      <td>0.498718</td>\n",
       "    </tr>\n",
       "    <tr>\n",
       "      <th>min</th>\n",
       "      <td>0.000000</td>\n",
       "      <td>0.010000</td>\n",
       "      <td>0.000000</td>\n",
       "      <td>0.000000</td>\n",
       "      <td>0.000000</td>\n",
       "    </tr>\n",
       "    <tr>\n",
       "      <th>25%</th>\n",
       "      <td>0.000000</td>\n",
       "      <td>80.000000</td>\n",
       "      <td>0.000000</td>\n",
       "      <td>0.000000</td>\n",
       "      <td>0.000000</td>\n",
       "    </tr>\n",
       "    <tr>\n",
       "      <th>50%</th>\n",
       "      <td>0.000000</td>\n",
       "      <td>198.000000</td>\n",
       "      <td>0.000000</td>\n",
       "      <td>0.000000</td>\n",
       "      <td>0.000000</td>\n",
       "    </tr>\n",
       "    <tr>\n",
       "      <th>75%</th>\n",
       "      <td>1.000000</td>\n",
       "      <td>310.000000</td>\n",
       "      <td>79.000000</td>\n",
       "      <td>2.000000</td>\n",
       "      <td>1.000000</td>\n",
       "    </tr>\n",
       "    <tr>\n",
       "      <th>max</th>\n",
       "      <td>1.000000</td>\n",
       "      <td>999.000000</td>\n",
       "      <td>111.000000</td>\n",
       "      <td>81.000000</td>\n",
       "      <td>1.000000</td>\n",
       "    </tr>\n",
       "  </tbody>\n",
       "</table>\n",
       "</div>"
      ],
      "text/plain": [
       "          BuyItNow   startprice  charCountDescription  upperCaseDescription  \\\n",
       "count  1485.000000  1485.000000           1485.000000           1485.000000   \n",
       "mean      0.449158   216.844162             31.184512              2.863300   \n",
       "std       0.497576   172.893308             41.744518              9.418585   \n",
       "min       0.000000     0.010000              0.000000              0.000000   \n",
       "25%       0.000000    80.000000              0.000000              0.000000   \n",
       "50%       0.000000   198.000000              0.000000              0.000000   \n",
       "75%       1.000000   310.000000             79.000000              2.000000   \n",
       "max       1.000000   999.000000            111.000000             81.000000   \n",
       "\n",
       "              sold  \n",
       "count  1485.000000  \n",
       "mean      0.461953  \n",
       "std       0.498718  \n",
       "min       0.000000  \n",
       "25%       0.000000  \n",
       "50%       0.000000  \n",
       "75%       1.000000  \n",
       "max       1.000000  "
      ]
     },
     "execution_count": 37,
     "metadata": {},
     "output_type": "execute_result"
    }
   ],
   "source": [
    "df.describe()"
   ]
  },
  {
   "cell_type": "code",
   "execution_count": 69,
   "id": "informative-begin",
   "metadata": {},
   "outputs": [],
   "source": [
    "df_has_char_desc = df[df['charCountDescription'] > 0]\n",
    "df_no_char_desc = df[df['charCountDescription'] == 0]"
   ]
  },
  {
   "cell_type": "code",
   "execution_count": 70,
   "id": "incorporated-exception",
   "metadata": {},
   "outputs": [
    {
     "data": {
      "text/plain": [
       "(629, 856)"
      ]
     },
     "execution_count": 70,
     "metadata": {},
     "output_type": "execute_result"
    }
   ],
   "source": [
    "len(df_has_char_desc), len(df_no_char_desc)"
   ]
  },
  {
   "cell_type": "code",
   "execution_count": 71,
   "id": "thorough-boards",
   "metadata": {},
   "outputs": [
    {
     "data": {
      "text/plain": [
       "0.43402225755166934"
      ]
     },
     "execution_count": 71,
     "metadata": {},
     "output_type": "execute_result"
    }
   ],
   "source": [
    "df_has_char_desc['sold'].sum() / len(df[df['charCountDescription'] > 0])"
   ]
  },
  {
   "cell_type": "code",
   "execution_count": 72,
   "id": "weird-design",
   "metadata": {},
   "outputs": [
    {
     "data": {
      "text/plain": [
       "0.4824766355140187"
      ]
     },
     "execution_count": 72,
     "metadata": {},
     "output_type": "execute_result"
    }
   ],
   "source": [
    "df_no_char_desc['sold'].sum() / len(df_no_char_desc)"
   ]
  },
  {
   "cell_type": "markdown",
   "id": "chubby-huntington",
   "metadata": {},
   "source": [
    "### startprice에 대해서 유의미한 분포 차이를 보임"
   ]
  },
  {
   "cell_type": "code",
   "execution_count": 73,
   "id": "breathing-ranking",
   "metadata": {},
   "outputs": [
    {
     "data": {
      "text/plain": [
       "<AxesSubplot:xlabel='startprice', ylabel='Count'>"
      ]
     },
     "execution_count": 73,
     "metadata": {},
     "output_type": "execute_result"
    },
    {
     "data": {
      "image/png": "[encoded data removed]",
      "text/plain": [
       "<Figure size 432x288 with 1 Axes>"
      ]
     },
     "metadata": {
      "needs_background": "light"
     },
     "output_type": "display_data"
    }
   ],
   "source": [
    "sns.histplot(df_has_char_desc['startprice'])\n",
    "sns.histplot(df_no_char_desc['startprice'], color='skyblue')"
   ]
  },
  {
   "cell_type": "code",
   "execution_count": null,
   "id": "respective-referral",
   "metadata": {},
   "outputs": [],
   "source": []
  },
  {
   "cell_type": "markdown",
   "id": "clean-jungle",
   "metadata": {},
   "source": [
    "### `charCountDescription`, `charCountDescription`\n",
    "- 있냐, 없냐 정보만을 표시하는 binary type으로 변경\n",
    "    - binary 변경할 경우, `charCountDescription`은 `noDescription`과 동일한 정보이므로 삭제\n",
    "    \n",
    "### `noDescription` -> binarize\n",
    "- 데이터 표현이 직관적이지 않은 상태\n",
    "    - 설명 텍스트가 존재하지 않을 경우 'contains description'라고 표현\n",
    "    - 설명 텍스트가 존재할 경우 'no description'라고 표현\n",
    "    > contains description = 0 (실제로는 설명 문구가 없으므로)\n",
    "    \n",
    "    > no description = 1 (실제로는 설명 문구가 있으므로)"
   ]
  },
  {
   "cell_type": "code",
   "execution_count": 176,
   "id": "identified-latvia",
   "metadata": {},
   "outputs": [],
   "source": [
    "df = df.drop('charCountDescription', axis=1)\n",
    "df['upperCaseDescription'] = df['upperCaseDescription'].apply(lambda x: 0 if x == 0 else 1)\n",
    "df['noDescription'] = df['noDescription'].apply(lambda x: 0 if x.startswith('c') else 1)\n",
    "df.rename(columns={'noDescription':'hasDescription'}, inplace=True)"
   ]
  },
  {
   "cell_type": "code",
   "execution_count": 178,
   "id": "severe-yesterday",
   "metadata": {},
   "outputs": [
    {
     "data": {
      "text/html": [
       "<div>\n",
       "<style scoped>\n",
       "    .dataframe tbody tr th:only-of-type {\n",
       "        vertical-align: middle;\n",
       "    }\n",
       "\n",
       "    .dataframe tbody tr th {\n",
       "        vertical-align: top;\n",
       "    }\n",
       "\n",
       "    .dataframe thead th {\n",
       "        text-align: right;\n",
       "    }\n",
       "</style>\n",
       "<table border=\"1\" class=\"dataframe\">\n",
       "  <thead>\n",
       "    <tr style=\"text-align: right;\">\n",
       "      <th></th>\n",
       "      <th>BuyItNow</th>\n",
       "      <th>startprice</th>\n",
       "      <th>carrier</th>\n",
       "      <th>color</th>\n",
       "      <th>productline</th>\n",
       "      <th>hasDescription</th>\n",
       "      <th>upperCaseDescription</th>\n",
       "      <th>sold</th>\n",
       "    </tr>\n",
       "  </thead>\n",
       "  <tbody>\n",
       "    <tr>\n",
       "      <th>0</th>\n",
       "      <td>0</td>\n",
       "      <td>199.99</td>\n",
       "      <td>None</td>\n",
       "      <td>White</td>\n",
       "      <td>Galaxy_S9</td>\n",
       "      <td>0</td>\n",
       "      <td>0</td>\n",
       "      <td>1</td>\n",
       "    </tr>\n",
       "    <tr>\n",
       "      <th>1</th>\n",
       "      <td>0</td>\n",
       "      <td>235.00</td>\n",
       "      <td>None</td>\n",
       "      <td>NaN</td>\n",
       "      <td>Galaxy_Note9</td>\n",
       "      <td>0</td>\n",
       "      <td>0</td>\n",
       "      <td>0</td>\n",
       "    </tr>\n",
       "    <tr>\n",
       "      <th>2</th>\n",
       "      <td>0</td>\n",
       "      <td>199.99</td>\n",
       "      <td>NaN</td>\n",
       "      <td>NaN</td>\n",
       "      <td>Unknown</td>\n",
       "      <td>1</td>\n",
       "      <td>1</td>\n",
       "      <td>0</td>\n",
       "    </tr>\n",
       "    <tr>\n",
       "      <th>3</th>\n",
       "      <td>1</td>\n",
       "      <td>175.00</td>\n",
       "      <td>AT&amp;T</td>\n",
       "      <td>Space Gray</td>\n",
       "      <td>Galaxy_Note9</td>\n",
       "      <td>0</td>\n",
       "      <td>0</td>\n",
       "      <td>1</td>\n",
       "    </tr>\n",
       "    <tr>\n",
       "      <th>4</th>\n",
       "      <td>1</td>\n",
       "      <td>100.00</td>\n",
       "      <td>None</td>\n",
       "      <td>Space Gray</td>\n",
       "      <td>Galaxy_S8</td>\n",
       "      <td>0</td>\n",
       "      <td>0</td>\n",
       "      <td>1</td>\n",
       "    </tr>\n",
       "    <tr>\n",
       "      <th>...</th>\n",
       "      <td>...</td>\n",
       "      <td>...</td>\n",
       "      <td>...</td>\n",
       "      <td>...</td>\n",
       "      <td>...</td>\n",
       "      <td>...</td>\n",
       "      <td>...</td>\n",
       "      <td>...</td>\n",
       "    </tr>\n",
       "    <tr>\n",
       "      <th>1480</th>\n",
       "      <td>0</td>\n",
       "      <td>89.50</td>\n",
       "      <td>AT&amp;T</td>\n",
       "      <td>NaN</td>\n",
       "      <td>Galaxy_S7</td>\n",
       "      <td>1</td>\n",
       "      <td>1</td>\n",
       "      <td>0</td>\n",
       "    </tr>\n",
       "    <tr>\n",
       "      <th>1481</th>\n",
       "      <td>0</td>\n",
       "      <td>239.95</td>\n",
       "      <td>None</td>\n",
       "      <td>Midnight Black</td>\n",
       "      <td>Galaxy_S9</td>\n",
       "      <td>1</td>\n",
       "      <td>1</td>\n",
       "      <td>1</td>\n",
       "    </tr>\n",
       "    <tr>\n",
       "      <th>1482</th>\n",
       "      <td>0</td>\n",
       "      <td>329.99</td>\n",
       "      <td>None</td>\n",
       "      <td>Space Gray</td>\n",
       "      <td>Galaxy_Note10</td>\n",
       "      <td>1</td>\n",
       "      <td>1</td>\n",
       "      <td>0</td>\n",
       "    </tr>\n",
       "    <tr>\n",
       "      <th>1483</th>\n",
       "      <td>0</td>\n",
       "      <td>89.00</td>\n",
       "      <td>None</td>\n",
       "      <td>Midnight Black</td>\n",
       "      <td>Galaxy_S7</td>\n",
       "      <td>1</td>\n",
       "      <td>1</td>\n",
       "      <td>1</td>\n",
       "    </tr>\n",
       "    <tr>\n",
       "      <th>1484</th>\n",
       "      <td>0</td>\n",
       "      <td>119.99</td>\n",
       "      <td>AT&amp;T</td>\n",
       "      <td>Midnight Black</td>\n",
       "      <td>Galaxy_S7</td>\n",
       "      <td>1</td>\n",
       "      <td>1</td>\n",
       "      <td>0</td>\n",
       "    </tr>\n",
       "  </tbody>\n",
       "</table>\n",
       "<p>1485 rows × 8 columns</p>\n",
       "</div>"
      ],
      "text/plain": [
       "      BuyItNow  startprice carrier           color    productline  \\\n",
       "0            0      199.99    None           White      Galaxy_S9   \n",
       "1            0      235.00    None             NaN   Galaxy_Note9   \n",
       "2            0      199.99     NaN             NaN        Unknown   \n",
       "3            1      175.00    AT&T      Space Gray   Galaxy_Note9   \n",
       "4            1      100.00    None      Space Gray      Galaxy_S8   \n",
       "...        ...         ...     ...             ...            ...   \n",
       "1480         0       89.50    AT&T             NaN      Galaxy_S7   \n",
       "1481         0      239.95    None  Midnight Black      Galaxy_S9   \n",
       "1482         0      329.99    None      Space Gray  Galaxy_Note10   \n",
       "1483         0       89.00    None  Midnight Black      Galaxy_S7   \n",
       "1484         0      119.99    AT&T  Midnight Black      Galaxy_S7   \n",
       "\n",
       "      hasDescription  upperCaseDescription  sold  \n",
       "0                  0                     0     1  \n",
       "1                  0                     0     0  \n",
       "2                  1                     1     0  \n",
       "3                  0                     0     1  \n",
       "4                  0                     0     1  \n",
       "...              ...                   ...   ...  \n",
       "1480               1                     1     0  \n",
       "1481               1                     1     1  \n",
       "1482               1                     1     0  \n",
       "1483               1                     1     1  \n",
       "1484               1                     1     0  \n",
       "\n",
       "[1485 rows x 8 columns]"
      ]
     },
     "execution_count": 178,
     "metadata": {},
     "output_type": "execute_result"
    }
   ],
   "source": [
    "df"
   ]
  },
  {
   "cell_type": "code",
   "execution_count": null,
   "id": "south-blend",
   "metadata": {},
   "outputs": [],
   "source": []
  },
  {
   "cell_type": "markdown",
   "id": "overall-creation",
   "metadata": {},
   "source": [
    "# `productline`\n",
    "제품 모델(기종 라인업) 정보\n",
    "- 각각의 productline 문자열 값\n",
    "    - 출시 순서 정보를 포함하고 있음 (with order = ordinal)\n",
    "    - Note 모델인지, Non-Note 모델인지 정보를 포함하고 있음 (binary)\n",
    "- 'unknown' 값은 결측치에 해당\n",
    "    - **204개**, 전체 데이터 샘플(1500개) 대비 무시할 수 없는 수준\n",
    "    - 'unknown' 자체를 하나의 정보로 사용할 수도 있고, nan으로 변환한 뒤 imputation 할 수도 있음\n",
    "\n",
    "> 출시 순서 정보와 Note 모델 여부 정보를 2개의 컬럼으로 별도 구분\n"
   ]
  },
  {
   "cell_type": "code",
   "execution_count": 77,
   "id": "accredited-spencer",
   "metadata": {},
   "outputs": [
    {
     "data": {
      "text/plain": [
       "array(['Galaxy_S9', 'Galaxy_Note9', 'Unknown', 'Galaxy_S8', 'Galaxy_S7',\n",
       "       'Galaxy_Note10', 'Galaxy_Note8', 'Galaxy_S10'], dtype=object)"
      ]
     },
     "execution_count": 77,
     "metadata": {},
     "output_type": "execute_result"
    }
   ],
   "source": [
    "df['productline'].unique()"
   ]
  },
  {
   "cell_type": "code",
   "execution_count": 78,
   "id": "collectible-payroll",
   "metadata": {},
   "outputs": [
    {
     "data": {
      "text/plain": [
       "204"
      ]
     },
     "execution_count": 78,
     "metadata": {},
     "output_type": "execute_result"
    }
   ],
   "source": [
    "len(df[df['productline']=='Unknown'])"
   ]
  },
  {
   "cell_type": "code",
   "execution_count": 363,
   "id": "raised-federal",
   "metadata": {},
   "outputs": [],
   "source": [
    "# 출시 시기와 모델 정보, 2개의 정보를 별도의 컬럼으로 구분\n",
    "\n",
    "# 출시 시기 정보\n",
    "# 빨리 나온 순서대로 1부터 ++1 순차 넘버링 (ordinal type)\n",
    "df['modelNumber'] = df['productline'].apply(lambda x: int(x.split('_')[1].strip('S').strip('Note'))-6\n",
    "                                            if x != 'Unknown' else x)\n",
    "\n",
    "# 노트 모델인지 일반 모델인지 정보 (binary type)\n",
    "df['isNote'] = df['productline'].apply(lambda x: x if x == 'Unknown' else 1 if 'Note' in x else 0)\n"
   ]
  },
  {
   "cell_type": "code",
   "execution_count": 84,
   "id": "underlying-schema",
   "metadata": {},
   "outputs": [],
   "source": [
    "# 일단 결측치임을 표시하기 위하여 'Unknown'값은 nan으로 변환\n",
    "# df.loc[df['productline']=='Unknown', 'productline'] = np.nan\n",
    "\n",
    "# productline 칼럼 드랍 --- 나중에 한번에 드랍?\n",
    "# df = df.drop('productline', axis=1)"
   ]
  },
  {
   "cell_type": "code",
   "execution_count": 181,
   "id": "refined-miniature",
   "metadata": {},
   "outputs": [
    {
     "data": {
      "text/html": [
       "<div>\n",
       "<style scoped>\n",
       "    .dataframe tbody tr th:only-of-type {\n",
       "        vertical-align: middle;\n",
       "    }\n",
       "\n",
       "    .dataframe tbody tr th {\n",
       "        vertical-align: top;\n",
       "    }\n",
       "\n",
       "    .dataframe thead th {\n",
       "        text-align: right;\n",
       "    }\n",
       "</style>\n",
       "<table border=\"1\" class=\"dataframe\">\n",
       "  <thead>\n",
       "    <tr style=\"text-align: right;\">\n",
       "      <th></th>\n",
       "      <th>BuyItNow</th>\n",
       "      <th>startprice</th>\n",
       "      <th>carrier</th>\n",
       "      <th>color</th>\n",
       "      <th>productline</th>\n",
       "      <th>hasDescription</th>\n",
       "      <th>upperCaseDescription</th>\n",
       "      <th>sold</th>\n",
       "      <th>modelNumber</th>\n",
       "      <th>isNote</th>\n",
       "    </tr>\n",
       "  </thead>\n",
       "  <tbody>\n",
       "    <tr>\n",
       "      <th>0</th>\n",
       "      <td>0</td>\n",
       "      <td>199.99</td>\n",
       "      <td>None</td>\n",
       "      <td>White</td>\n",
       "      <td>Galaxy_S9</td>\n",
       "      <td>0</td>\n",
       "      <td>0</td>\n",
       "      <td>1</td>\n",
       "      <td>3</td>\n",
       "      <td>0</td>\n",
       "    </tr>\n",
       "    <tr>\n",
       "      <th>1</th>\n",
       "      <td>0</td>\n",
       "      <td>235.00</td>\n",
       "      <td>None</td>\n",
       "      <td>NaN</td>\n",
       "      <td>Galaxy_Note9</td>\n",
       "      <td>0</td>\n",
       "      <td>0</td>\n",
       "      <td>0</td>\n",
       "      <td>3</td>\n",
       "      <td>1</td>\n",
       "    </tr>\n",
       "    <tr>\n",
       "      <th>2</th>\n",
       "      <td>0</td>\n",
       "      <td>199.99</td>\n",
       "      <td>NaN</td>\n",
       "      <td>NaN</td>\n",
       "      <td>Unknown</td>\n",
       "      <td>1</td>\n",
       "      <td>1</td>\n",
       "      <td>0</td>\n",
       "      <td>Unknown</td>\n",
       "      <td>Unknown</td>\n",
       "    </tr>\n",
       "    <tr>\n",
       "      <th>3</th>\n",
       "      <td>1</td>\n",
       "      <td>175.00</td>\n",
       "      <td>AT&amp;T</td>\n",
       "      <td>Space Gray</td>\n",
       "      <td>Galaxy_Note9</td>\n",
       "      <td>0</td>\n",
       "      <td>0</td>\n",
       "      <td>1</td>\n",
       "      <td>3</td>\n",
       "      <td>1</td>\n",
       "    </tr>\n",
       "    <tr>\n",
       "      <th>4</th>\n",
       "      <td>1</td>\n",
       "      <td>100.00</td>\n",
       "      <td>None</td>\n",
       "      <td>Space Gray</td>\n",
       "      <td>Galaxy_S8</td>\n",
       "      <td>0</td>\n",
       "      <td>0</td>\n",
       "      <td>1</td>\n",
       "      <td>2</td>\n",
       "      <td>0</td>\n",
       "    </tr>\n",
       "  </tbody>\n",
       "</table>\n",
       "</div>"
      ],
      "text/plain": [
       "   BuyItNow  startprice carrier       color   productline  hasDescription  \\\n",
       "0         0      199.99    None       White     Galaxy_S9               0   \n",
       "1         0      235.00    None         NaN  Galaxy_Note9               0   \n",
       "2         0      199.99     NaN         NaN       Unknown               1   \n",
       "3         1      175.00    AT&T  Space Gray  Galaxy_Note9               0   \n",
       "4         1      100.00    None  Space Gray     Galaxy_S8               0   \n",
       "\n",
       "   upperCaseDescription  sold modelNumber   isNote  \n",
       "0                     0     1           3        0  \n",
       "1                     0     0           3        1  \n",
       "2                     1     0     Unknown  Unknown  \n",
       "3                     0     1           3        1  \n",
       "4                     0     1           2        0  "
      ]
     },
     "execution_count": 181,
     "metadata": {},
     "output_type": "execute_result"
    }
   ],
   "source": [
    "df.head() # productline은 추후 필요에 따라 drop하거나 포함하여 사용한다."
   ]
  },
  {
   "cell_type": "code",
   "execution_count": 95,
   "id": "comprehensive-australia",
   "metadata": {},
   "outputs": [
    {
     "data": {
      "text/plain": [
       "<AxesSubplot:xlabel='startprice', ylabel='Count'>"
      ]
     },
     "execution_count": 95,
     "metadata": {},
     "output_type": "execute_result"
    },
    {
     "data": {
      "image/png": "[encoded data removed]",
      "text/plain": [
       "<Figure size 576x432 with 4 Axes>"
      ]
     },
     "metadata": {
      "needs_background": "light"
     },
     "output_type": "display_data"
    }
   ],
   "source": [
    "f, axes = plt.subplots(2, 2, figsize=(8, 6), sharex=True)\n",
    "sns.histplot(df[df['modelNumber']==1].startprice, ax=axes[0][0])\n",
    "sns.histplot(df[df['modelNumber']==2].startprice, ax=axes[0][1])\n",
    "sns.histplot(df[df['modelNumber']==3].startprice, ax=axes[1][0])\n",
    "sns.histplot(df[df['modelNumber']==4].startprice, ax=axes[1][1])"
   ]
  },
  {
   "cell_type": "code",
   "execution_count": 96,
   "id": "younger-vacuum",
   "metadata": {},
   "outputs": [
    {
     "data": {
      "text/plain": [
       "<AxesSubplot:xlabel='startprice', ylabel='Count'>"
      ]
     },
     "execution_count": 96,
     "metadata": {},
     "output_type": "execute_result"
    },
    {
     "data": {
      "image/png": "[encoded data removed]",
      "text/plain": [
       "<Figure size 576x432 with 2 Axes>"
      ]
     },
     "metadata": {
      "needs_background": "light"
     },
     "output_type": "display_data"
    }
   ],
   "source": [
    "# isNote는 가격 수준에 대하여 유의미한 분포 차이를 나타냄\n",
    "f, axes = plt.subplots(1, 2, figsize=(8, 6), sharex=True)\n",
    "sns.histplot(df[df['isNote']==1].startprice, ax=axes[0])\n",
    "sns.histplot(df[df['isNote']==0].startprice, ax=axes[1])"
   ]
  },
  {
   "cell_type": "code",
   "execution_count": null,
   "id": "foster-strategy",
   "metadata": {},
   "outputs": [],
   "source": []
  },
  {
   "cell_type": "markdown",
   "id": "patient-array",
   "metadata": {},
   "source": [
    "# `carrier`\n",
    "- `None`, `AT&T`, `Verizon`, `Sprint/T-Mobile` 간 유의미한 차이가 존재하는가?"
   ]
  },
  {
   "cell_type": "code",
   "execution_count": 130,
   "id": "single-monday",
   "metadata": {},
   "outputs": [
    {
     "data": {
      "text/plain": [
       "<AxesSubplot:xlabel='startprice', ylabel='Count'>"
      ]
     },
     "execution_count": 130,
     "metadata": {},
     "output_type": "execute_result"
    },
    {
     "data": {
      "image/png": "[encoded data removed]",
      "text/plain": [
       "<Figure size 576x432 with 4 Axes>"
      ]
     },
     "metadata": {
      "needs_background": "light"
     },
     "output_type": "display_data"
    }
   ],
   "source": [
    "f, axes = plt.subplots(2, 2, figsize=(8, 6), sharex=True)\n",
    "sns.histplot(df[df['carrier']=='None'].startprice, ax=axes[0][0])\n",
    "sns.histplot(df[df['carrier']=='AT&T'].startprice, ax=axes[0][1])\n",
    "sns.histplot(df[df['carrier']=='Verizon'].startprice, ax=axes[1][0])\n",
    "sns.histplot(df[df['carrier']=='Sprint/T-Mobile'].startprice, ax=axes[1][1])"
   ]
  },
  {
   "cell_type": "code",
   "execution_count": 161,
   "id": "serious-token",
   "metadata": {},
   "outputs": [],
   "source": [
    "def draw_carrier_user_startprice_by_productline(carrier_name, exclude=False):\n",
    "    \n",
    "    if not exclude:\n",
    "        df_carrier = df[df['carrier']==carrier_name]\n",
    "    else:\n",
    "        df_carrier = df[df['carrier']!=carrier_name]\n",
    "    df_productline_unique = ['Galaxy_Note10', 'Galaxy_S10', 'Galaxy_Note9', 'Galaxy_S9',\n",
    "                             'Galaxy_Note8', 'Galaxy_S8', 'Galaxy_S7', 'Unknown']\n",
    "    print(df_productline_unique)\n",
    "    f, axes = plt.subplots(4, 2, figsize=(8, 6), sharex=True)\n",
    "    for i in range(4):\n",
    "        for j in range(2):\n",
    "            idx = 2*(i+1) + (j-2)\n",
    "            sns.histplot(df_carrier[df_carrier['productline']==df_productline_unique[idx]].startprice, ax=axes[i][j])\n"
   ]
  },
  {
   "cell_type": "code",
   "execution_count": 162,
   "id": "pleasant-belle",
   "metadata": {},
   "outputs": [
    {
     "name": "stdout",
     "output_type": "stream",
     "text": [
      "['Galaxy_Note10', 'Galaxy_S10', 'Galaxy_Note9', 'Galaxy_S9', 'Galaxy_Note8', 'Galaxy_S8', 'Galaxy_S7', 'Unknown']\n"
     ]
    },
    {
     "data": {
      "image/png": "[encoded data removed]",
      "text/plain": [
       "<Figure size 576x432 with 8 Axes>"
      ]
     },
     "metadata": {
      "needs_background": "light"
     },
     "output_type": "display_data"
    }
   ],
   "source": [
    "draw_carrier_user_startprice_by_productline('None')"
   ]
  },
  {
   "cell_type": "code",
   "execution_count": 145,
   "id": "frank-london",
   "metadata": {},
   "outputs": [
    {
     "name": "stdout",
     "output_type": "stream",
     "text": [
      "['Galaxy_Note10', 'Galaxy_S10', 'Galaxy_Note9', 'Galaxy_S9', 'Galaxy_Note8', 'Galaxy_S8', 'Galaxy_S7', 'Unknown']\n"
     ]
    },
    {
     "data": {
      "image/png": "[encoded data removed]",
      "text/plain": [
       "<Figure size 576x432 with 8 Axes>"
      ]
     },
     "metadata": {
      "needs_background": "light"
     },
     "output_type": "display_data"
    }
   ],
   "source": [
    "draw_carrier_user_startprice_by_productline('AT&T')"
   ]
  },
  {
   "cell_type": "code",
   "execution_count": 146,
   "id": "reasonable-religious",
   "metadata": {},
   "outputs": [
    {
     "name": "stdout",
     "output_type": "stream",
     "text": [
      "['Galaxy_Note10', 'Galaxy_S10', 'Galaxy_Note9', 'Galaxy_S9', 'Galaxy_Note8', 'Galaxy_S8', 'Galaxy_S7', 'Unknown']\n"
     ]
    },
    {
     "data": {
      "image/png": "[encoded data removed]",
      "text/plain": [
       "<Figure size 576x432 with 8 Axes>"
      ]
     },
     "metadata": {
      "needs_background": "light"
     },
     "output_type": "display_data"
    }
   ],
   "source": [
    "draw_carrier_user_startprice_by_productline('Verizon')"
   ]
  },
  {
   "cell_type": "code",
   "execution_count": 147,
   "id": "electoral-hearing",
   "metadata": {},
   "outputs": [
    {
     "name": "stdout",
     "output_type": "stream",
     "text": [
      "['Galaxy_Note10', 'Galaxy_S10', 'Galaxy_Note9', 'Galaxy_S9', 'Galaxy_Note8', 'Galaxy_S8', 'Galaxy_S7', 'Unknown']\n"
     ]
    },
    {
     "data": {
      "image/png": "[encoded data removed]",
      "text/plain": [
       "<Figure size 576x432 with 8 Axes>"
      ]
     },
     "metadata": {
      "needs_background": "light"
     },
     "output_type": "display_data"
    }
   ],
   "source": [
    "draw_carrier_user_startprice_by_productline('Sprint/T-Mobile')"
   ]
  },
  {
   "cell_type": "code",
   "execution_count": null,
   "id": "creative-utilization",
   "metadata": {},
   "outputs": [],
   "source": []
  },
  {
   "cell_type": "code",
   "execution_count": 155,
   "id": "pressing-andrews",
   "metadata": {},
   "outputs": [
    {
     "name": "stdout",
     "output_type": "stream",
     "text": [
      "\n",
      "None users buying rate = 0.4820393974507532\n",
      "\n",
      "AT&T users buying rate = 0.4293785310734463\n",
      "\n",
      "Verizon users buying rate = 0.5287356321839081\n",
      "\n",
      "Sprint/T-Mobile users buying rate = 0.46153846153846156\n",
      "\n"
     ]
    }
   ],
   "source": [
    "# 구매를 결정한 비율의 차이는?\n",
    "print(f'''\n",
    "None users buying rate = {df[df['carrier'] == 'None']['sold'].mean()}\\n\n",
    "AT&T users buying rate = {df[df['carrier'] == 'AT&T']['sold'].mean()}\\n\n",
    "Verizon users buying rate = {df[df['carrier'] == 'Verizon']['sold'].mean()}\\n\n",
    "Sprint/T-Mobile users buying rate = {df[df['carrier'] == 'Sprint/T-Mobile']['sold'].mean()}\n",
    "''')"
   ]
  },
  {
   "cell_type": "code",
   "execution_count": null,
   "id": "dedicated-mozambique",
   "metadata": {},
   "outputs": [],
   "source": []
  },
  {
   "cell_type": "markdown",
   "id": "respective-nation",
   "metadata": {},
   "source": [
    "### 차이가 있는지 잘 모르겠다...\n",
    "- 데이터 갯수 비중에서 `None`이 압도적이므로 엄밀한 비교가 어려움\n",
    "- `None` vs. `AT&T` + `Verizon` + `Sprint/T-Mobile`은 어떨까?\n",
    "    - 갯수는 863개 vs. 622개로 대략 비슷한 수준이 됨"
   ]
  },
  {
   "cell_type": "code",
   "execution_count": 157,
   "id": "listed-variation",
   "metadata": {},
   "outputs": [
    {
     "data": {
      "text/plain": [
       "(863, 622)"
      ]
     },
     "execution_count": 157,
     "metadata": {},
     "output_type": "execute_result"
    }
   ],
   "source": [
    "df_carrier_none = df[df['carrier'] == 'None']\n",
    "df_carrier_else = df[df['carrier'] != 'None']\n",
    "\n",
    "len(df_carrier_none), len(df_carrier_else)"
   ]
  },
  {
   "cell_type": "code",
   "execution_count": 160,
   "id": "rapid-pavilion",
   "metadata": {},
   "outputs": [
    {
     "data": {
      "text/plain": [
       "(0.4820393974507532, 0.4340836012861736)"
      ]
     },
     "execution_count": 160,
     "metadata": {},
     "output_type": "execute_result"
    }
   ],
   "source": [
    "# buying rate\n",
    "df_carrier_none['sold'].mean(), df_carrier_else['sold'].mean()"
   ]
  },
  {
   "cell_type": "code",
   "execution_count": 163,
   "id": "correct-blair",
   "metadata": {},
   "outputs": [
    {
     "name": "stdout",
     "output_type": "stream",
     "text": [
      "['Galaxy_Note10', 'Galaxy_S10', 'Galaxy_Note9', 'Galaxy_S9', 'Galaxy_Note8', 'Galaxy_S8', 'Galaxy_S7', 'Unknown']\n"
     ]
    },
    {
     "data": {
      "image/png": "[encoded data removed]",
      "text/plain": [
       "<Figure size 576x432 with 8 Axes>"
      ]
     },
     "metadata": {
      "needs_background": "light"
     },
     "output_type": "display_data"
    }
   ],
   "source": [
    "draw_carrier_user_startprice_by_productline('None')"
   ]
  },
  {
   "cell_type": "code",
   "execution_count": 164,
   "id": "nutritional-communist",
   "metadata": {},
   "outputs": [
    {
     "name": "stdout",
     "output_type": "stream",
     "text": [
      "['Galaxy_Note10', 'Galaxy_S10', 'Galaxy_Note9', 'Galaxy_S9', 'Galaxy_Note8', 'Galaxy_S8', 'Galaxy_S7', 'Unknown']\n"
     ]
    },
    {
     "data": {
      "image/png": "[encoded data removed]",
      "text/plain": [
       "<Figure size 576x432 with 8 Axes>"
      ]
     },
     "metadata": {
      "needs_background": "light"
     },
     "output_type": "display_data"
    }
   ],
   "source": [
    "draw_carrier_user_startprice_by_productline('None', exclude=True)"
   ]
  },
  {
   "cell_type": "code",
   "execution_count": 165,
   "id": "pharmaceutical-strain",
   "metadata": {},
   "outputs": [
    {
     "name": "stdout",
     "output_type": "stream",
     "text": [
      "['Galaxy_Note10', 'Galaxy_S10', 'Galaxy_Note9', 'Galaxy_S9', 'Galaxy_Note8', 'Galaxy_S8', 'Galaxy_S7', 'Unknown']\n"
     ]
    },
    {
     "data": {
      "image/png": "[encoded data removed]",
      "text/plain": [
       "<Figure size 576x432 with 8 Axes>"
      ]
     },
     "metadata": {
      "needs_background": "light"
     },
     "output_type": "display_data"
    }
   ],
   "source": [
    "# 통신사를 구분하지 않고 전체 데이터로 그려보면?\n",
    "draw_carrier_user_startprice_by_productline('', exclude=True)"
   ]
  },
  {
   "cell_type": "code",
   "execution_count": 166,
   "id": "simple-citation",
   "metadata": {},
   "outputs": [
    {
     "name": "stdout",
     "output_type": "stream",
     "text": [
      "['Galaxy_Note10', 'Galaxy_S10', 'Galaxy_Note9', 'Galaxy_S9', 'Galaxy_Note8', 'Galaxy_S8', 'Galaxy_S7', 'Unknown']\n"
     ]
    },
    {
     "data": {
      "image/png": "[encoded data removed]",
      "text/plain": [
       "<Figure size 576x432 with 8 Axes>"
      ]
     },
     "metadata": {
      "needs_background": "light"
     },
     "output_type": "display_data"
    }
   ],
   "source": [
    "# 모두 겹쳐서 그려보면?\n",
    "df_productline_unique = ['Galaxy_Note10', 'Galaxy_S10', 'Galaxy_Note9', 'Galaxy_S9',\n",
    "                         'Galaxy_Note8', 'Galaxy_S8', 'Galaxy_S7', 'Unknown']\n",
    "print(df_productline_unique)\n",
    "\n",
    "df_carrier_none = df[df['carrier']=='None']\n",
    "df_carrier_else_none = df[df['carrier']!='None']\n",
    "df_carrier_all = df.copy()\n",
    "\n",
    "f, axes = plt.subplots(4, 2, figsize=(8, 6), sharex=True)\n",
    "for i in range(4):\n",
    "    for j in range(2):\n",
    "        idx = 2*(i+1) + (j-2)\n",
    "        sns.histplot(df_carrier_none[df_carrier_none['productline']==df_productline_unique[idx]].startprice, ax=axes[i][j])\n",
    "        sns.histplot(df_carrier_else_none[df_carrier_else_none['productline']==df_productline_unique[idx]].startprice, ax=axes[i][j])\n",
    "        sns.histplot(df_carrier_all[df_carrier_all['productline']==df_productline_unique[idx]].startprice, ax=axes[i][j])\n"
   ]
  },
  {
   "cell_type": "code",
   "execution_count": 364,
   "id": "historic-dispatch",
   "metadata": {},
   "outputs": [
    {
     "name": "stdout",
     "output_type": "stream",
     "text": [
      "\n",
      "None users buying rate = 0.4820393974507532\n",
      "\n",
      "Not-None users buying rate = 0.4340836012861736\n",
      "\n",
      "\n"
     ]
    }
   ],
   "source": [
    "# 구매를 결정한 비율의 차이는?\n",
    "print(f'''\n",
    "None users buying rate = {df[df['carrier'] == 'None']['sold'].mean()}\\n\n",
    "Not-None users buying rate = {df[df['carrier'] != 'None']['sold'].mean()}\\n\n",
    "''')"
   ]
  },
  {
   "cell_type": "code",
   "execution_count": 366,
   "id": "dynamic-victorian",
   "metadata": {},
   "outputs": [
    {
     "data": {
      "text/plain": [
       "Galaxy_Note10    219\n",
       "Galaxy_S8        206\n",
       "Galaxy_S7        138\n",
       "Galaxy_Note8      94\n",
       "Galaxy_S9         87\n",
       "Galaxy_Note9      71\n",
       "Unknown           41\n",
       "Galaxy_S10         7\n",
       "Name: productline, dtype: int64"
      ]
     },
     "execution_count": 366,
     "metadata": {},
     "output_type": "execute_result"
    }
   ],
   "source": [
    "df[df['carrier']=='None']['productline'].value_counts()"
   ]
  },
  {
   "cell_type": "code",
   "execution_count": 367,
   "id": "dangerous-table",
   "metadata": {},
   "outputs": [
    {
     "data": {
      "text/plain": [
       "Unknown          163\n",
       "Galaxy_Note10    132\n",
       "Galaxy_S7         89\n",
       "Galaxy_S9         71\n",
       "Galaxy_S8         71\n",
       "Galaxy_Note8      59\n",
       "Galaxy_Note9      36\n",
       "Galaxy_S10         1\n",
       "Name: productline, dtype: int64"
      ]
     },
     "execution_count": 367,
     "metadata": {},
     "output_type": "execute_result"
    }
   ],
   "source": [
    "df[df['carrier']!='None']['productline'].value_counts()"
   ]
  },
  {
   "cell_type": "code",
   "execution_count": 369,
   "id": "entitled-citizen",
   "metadata": {},
   "outputs": [
    {
     "name": "stdout",
     "output_type": "stream",
     "text": [
      "207.88530706836613 229.27421221864952\n"
     ]
    }
   ],
   "source": [
    "print(df[df['carrier']=='None']['startprice'].mean(),\n",
    "      df[df['carrier']!='None']['startprice'].mean())"
   ]
  },
  {
   "cell_type": "code",
   "execution_count": 370,
   "id": "canadian-bangkok",
   "metadata": {},
   "outputs": [
    {
     "data": {
      "text/plain": [
       "<AxesSubplot:xlabel='startprice', ylabel='Count'>"
      ]
     },
     "execution_count": 370,
     "metadata": {},
     "output_type": "execute_result"
    },
    {
     "data": {
      "image/png": "[encoded data removed]",
      "text/plain": [
       "<Figure size 432x288 with 1 Axes>"
      ]
     },
     "metadata": {
      "needs_background": "light"
     },
     "output_type": "display_data"
    }
   ],
   "source": [
    "sns.histplot(df[df['carrier']=='None']['startprice'])"
   ]
  },
  {
   "cell_type": "code",
   "execution_count": 371,
   "id": "coordinate-venezuela",
   "metadata": {},
   "outputs": [
    {
     "data": {
      "text/plain": [
       "<AxesSubplot:xlabel='startprice', ylabel='Count'>"
      ]
     },
     "execution_count": 371,
     "metadata": {},
     "output_type": "execute_result"
    },
    {
     "data": {
      "image/png": "[encoded data removed]",
      "text/plain": [
       "<Figure size 432x288 with 1 Axes>"
      ]
     },
     "metadata": {
      "needs_background": "light"
     },
     "output_type": "display_data"
    }
   ],
   "source": [
    "sns.histplot(df[df['carrier']!='None']['startprice'])"
   ]
  },
  {
   "cell_type": "markdown",
   "id": "technical-grocery",
   "metadata": {},
   "source": [
    "### Takeaways on `carrier`\n",
    "- 유의미한 정보를 갖고 있지 않음\n",
    "- 충분한 설명력을 갖고 있지 않음\n",
    "- missing value imputation 가치 없음\n",
    "\n",
    "> DROP"
   ]
  },
  {
   "cell_type": "code",
   "execution_count": null,
   "id": "secondary-simple",
   "metadata": {},
   "outputs": [],
   "source": []
  },
  {
   "cell_type": "markdown",
   "id": "confused-connecticut",
   "metadata": {},
   "source": [
    "# `color`\n",
    "색상 자체의 의미보다는 기종 또는 가격 관련 정보를 추출하는 방향을 고민.\n",
    "\n",
    "galaxy model|colors available (official name)|colors available (simplified name)\n",
    "-|-|-\n",
    "S7|Pink Gold, Black Onyx, Gold Platinum, White Pearl, Silver Titanium|Black, Gold, White, Silver\n",
    "S8|Midnight Black, Arctic Silver, Maple Gold, Coral Blue, Orchid Gray|Black, Gold, Silver, Blue, Gray\n",
    "Note8|Midnight Black, Arctic Silver, Orchid Gray/Violet, Coral Blue, Dark Blue, Deep Sea Blue, Pink, Gold|Black, Gold, Silver, Blue, Gray, Pink\n",
    "S9|Sunrise Gold, Midnight Black, Titanium Gray, Coral Blue, Lilac Purple|Black, Gold, Gray, Blue, Silver\n",
    "Note9|Midnight Black, Cloud Silver, Lavender Purple, Ocean Blue|Black, Blue, Silver, Purple\n",
    "S10|Prism White, Prism Black, Prism Green, Prism Blue|Black, White, Blue, Green\n",
    "Note10|Aura Black, Aura Red, Aura Glow, Aura White|Black, White, Red, Glow\n",
    "\n",
    "- `Space Gray` = 이런 색은 사용된 적이 없음\n",
    "    - 단, 회색 색상은 S10 이전 모델만 포함\n",
    "- `Gold`\n",
    "    - S10 이전 모델만 포함\n",
    "- `White`\n",
    "    - S7, S10, Note10 모델만 포함\n",
    "- `Midnight Black` = S8, Note8, S9, Note9 고유 블랙 색상\n",
    "- `Aura Black` = Note10 고유 블랙 색상\n",
    "- `Prism Black` = Note10+ 고유 블랙 색상\n",
    "\n",
    "> white, silver, gray 색상은 혼용되어 사용되었을 가능성 높음\n",
    "\n",
    "> 시그니쳐 컬러인 블랙의 경우에만 일부의 기억하는 응답자가 기록하고, 그 외는 자신이 인식하는 대략적인 색상을 white, gray, black으로 표현한 것으로 보임\n",
    "\n",
    "> 신뢰할 수 있는 색상은 시그니쳐 컬러인 블랙과 골드 색상\n",
    "\n",
    "> 그러나 색상이 Gold인 데이터를 조회한 결과, 대부분이 S10/ Note10으로 확인\n",
    "\n",
    "> color 컬럼의 데이터는 신뢰할 수 없다고 판단하고 삭제"
   ]
  },
  {
   "cell_type": "code",
   "execution_count": 352,
   "id": "passing-camcorder",
   "metadata": {},
   "outputs": [
    {
     "data": {
      "text/plain": [
       "White             328\n",
       "Midnight Black    274\n",
       "Space Gray        180\n",
       "Gold               52\n",
       "Black              38\n",
       "Aura Black         19\n",
       "Prism Black         1\n",
       "Name: color, dtype: int64"
      ]
     },
     "execution_count": 352,
     "metadata": {},
     "output_type": "execute_result"
    }
   ],
   "source": [
    "df['color'].value_counts()"
   ]
  },
  {
   "cell_type": "code",
   "execution_count": 344,
   "id": "reverse-potter",
   "metadata": {},
   "outputs": [
    {
     "data": {
      "text/plain": [
       "array(['White', nan, 'Space Gray', 'Midnight Black', 'Aura Black', 'Gold',\n",
       "       'Black', 'Prism Black'], dtype=object)"
      ]
     },
     "execution_count": 344,
     "metadata": {},
     "output_type": "execute_result"
    }
   ],
   "source": [
    "df['color'].unique()"
   ]
  },
  {
   "cell_type": "code",
   "execution_count": 353,
   "id": "intimate-marine",
   "metadata": {},
   "outputs": [
    {
     "data": {
      "text/plain": [
       "array(['Galaxy_S9', 'Galaxy_S7', 'Galaxy_Note9', 'Galaxy_Note10',\n",
       "       'Galaxy_Note8', 'Galaxy_S8', 'Unknown', 'Galaxy_S10'], dtype=object)"
      ]
     },
     "execution_count": 353,
     "metadata": {},
     "output_type": "execute_result"
    }
   ],
   "source": [
    "df[df['color']=='White']['productline'].unique()"
   ]
  },
  {
   "cell_type": "code",
   "execution_count": 360,
   "id": "advanced-madagascar",
   "metadata": {},
   "outputs": [
    {
     "data": {
      "text/html": [
       "<div>\n",
       "<style scoped>\n",
       "    .dataframe tbody tr th:only-of-type {\n",
       "        vertical-align: middle;\n",
       "    }\n",
       "\n",
       "    .dataframe tbody tr th {\n",
       "        vertical-align: top;\n",
       "    }\n",
       "\n",
       "    .dataframe thead th {\n",
       "        text-align: right;\n",
       "    }\n",
       "</style>\n",
       "<table border=\"1\" class=\"dataframe\">\n",
       "  <thead>\n",
       "    <tr style=\"text-align: right;\">\n",
       "      <th></th>\n",
       "      <th>productline</th>\n",
       "      <th>startprice</th>\n",
       "    </tr>\n",
       "  </thead>\n",
       "  <tbody>\n",
       "    <tr>\n",
       "      <th>56</th>\n",
       "      <td>Unknown</td>\n",
       "      <td>319.00</td>\n",
       "    </tr>\n",
       "    <tr>\n",
       "      <th>71</th>\n",
       "      <td>Galaxy_Note10</td>\n",
       "      <td>550.00</td>\n",
       "    </tr>\n",
       "    <tr>\n",
       "      <th>182</th>\n",
       "      <td>Galaxy_Note10</td>\n",
       "      <td>480.00</td>\n",
       "    </tr>\n",
       "    <tr>\n",
       "      <th>208</th>\n",
       "      <td>Unknown</td>\n",
       "      <td>334.99</td>\n",
       "    </tr>\n",
       "    <tr>\n",
       "      <th>213</th>\n",
       "      <td>Galaxy_Note10</td>\n",
       "      <td>320.00</td>\n",
       "    </tr>\n",
       "    <tr>\n",
       "      <th>221</th>\n",
       "      <td>Galaxy_Note10</td>\n",
       "      <td>399.00</td>\n",
       "    </tr>\n",
       "    <tr>\n",
       "      <th>347</th>\n",
       "      <td>Galaxy_Note10</td>\n",
       "      <td>1.00</td>\n",
       "    </tr>\n",
       "    <tr>\n",
       "      <th>407</th>\n",
       "      <td>Galaxy_Note10</td>\n",
       "      <td>425.00</td>\n",
       "    </tr>\n",
       "    <tr>\n",
       "      <th>424</th>\n",
       "      <td>Galaxy_Note10</td>\n",
       "      <td>475.00</td>\n",
       "    </tr>\n",
       "    <tr>\n",
       "      <th>439</th>\n",
       "      <td>Galaxy_Note10</td>\n",
       "      <td>399.99</td>\n",
       "    </tr>\n",
       "    <tr>\n",
       "      <th>441</th>\n",
       "      <td>Galaxy_Note10</td>\n",
       "      <td>499.00</td>\n",
       "    </tr>\n",
       "    <tr>\n",
       "      <th>501</th>\n",
       "      <td>Galaxy_Note10</td>\n",
       "      <td>549.90</td>\n",
       "    </tr>\n",
       "    <tr>\n",
       "      <th>505</th>\n",
       "      <td>Galaxy_Note10</td>\n",
       "      <td>785.00</td>\n",
       "    </tr>\n",
       "    <tr>\n",
       "      <th>543</th>\n",
       "      <td>Galaxy_Note10</td>\n",
       "      <td>1.00</td>\n",
       "    </tr>\n",
       "    <tr>\n",
       "      <th>557</th>\n",
       "      <td>Galaxy_Note8</td>\n",
       "      <td>89.99</td>\n",
       "    </tr>\n",
       "    <tr>\n",
       "      <th>616</th>\n",
       "      <td>Galaxy_Note10</td>\n",
       "      <td>550.00</td>\n",
       "    </tr>\n",
       "    <tr>\n",
       "      <th>617</th>\n",
       "      <td>Galaxy_Note10</td>\n",
       "      <td>800.00</td>\n",
       "    </tr>\n",
       "    <tr>\n",
       "      <th>641</th>\n",
       "      <td>Galaxy_Note10</td>\n",
       "      <td>0.99</td>\n",
       "    </tr>\n",
       "    <tr>\n",
       "      <th>721</th>\n",
       "      <td>Unknown</td>\n",
       "      <td>349.99</td>\n",
       "    </tr>\n",
       "    <tr>\n",
       "      <th>742</th>\n",
       "      <td>Galaxy_Note10</td>\n",
       "      <td>829.99</td>\n",
       "    </tr>\n",
       "    <tr>\n",
       "      <th>778</th>\n",
       "      <td>Unknown</td>\n",
       "      <td>550.00</td>\n",
       "    </tr>\n",
       "    <tr>\n",
       "      <th>827</th>\n",
       "      <td>Galaxy_Note10</td>\n",
       "      <td>429.99</td>\n",
       "    </tr>\n",
       "    <tr>\n",
       "      <th>828</th>\n",
       "      <td>Galaxy_Note10</td>\n",
       "      <td>99.99</td>\n",
       "    </tr>\n",
       "    <tr>\n",
       "      <th>829</th>\n",
       "      <td>Galaxy_Note10</td>\n",
       "      <td>549.99</td>\n",
       "    </tr>\n",
       "    <tr>\n",
       "      <th>852</th>\n",
       "      <td>Galaxy_Note10</td>\n",
       "      <td>449.00</td>\n",
       "    </tr>\n",
       "    <tr>\n",
       "      <th>862</th>\n",
       "      <td>Galaxy_S10</td>\n",
       "      <td>303.67</td>\n",
       "    </tr>\n",
       "    <tr>\n",
       "      <th>909</th>\n",
       "      <td>Galaxy_Note10</td>\n",
       "      <td>299.99</td>\n",
       "    </tr>\n",
       "    <tr>\n",
       "      <th>939</th>\n",
       "      <td>Galaxy_Note10</td>\n",
       "      <td>450.00</td>\n",
       "    </tr>\n",
       "    <tr>\n",
       "      <th>959</th>\n",
       "      <td>Galaxy_Note10</td>\n",
       "      <td>624.99</td>\n",
       "    </tr>\n",
       "    <tr>\n",
       "      <th>967</th>\n",
       "      <td>Galaxy_Note10</td>\n",
       "      <td>499.99</td>\n",
       "    </tr>\n",
       "    <tr>\n",
       "      <th>972</th>\n",
       "      <td>Galaxy_Note10</td>\n",
       "      <td>199.99</td>\n",
       "    </tr>\n",
       "    <tr>\n",
       "      <th>974</th>\n",
       "      <td>Galaxy_Note10</td>\n",
       "      <td>0.99</td>\n",
       "    </tr>\n",
       "    <tr>\n",
       "      <th>985</th>\n",
       "      <td>Galaxy_Note10</td>\n",
       "      <td>0.99</td>\n",
       "    </tr>\n",
       "    <tr>\n",
       "      <th>993</th>\n",
       "      <td>Galaxy_Note10</td>\n",
       "      <td>260.00</td>\n",
       "    </tr>\n",
       "    <tr>\n",
       "      <th>994</th>\n",
       "      <td>Galaxy_Note10</td>\n",
       "      <td>575.00</td>\n",
       "    </tr>\n",
       "    <tr>\n",
       "      <th>1000</th>\n",
       "      <td>Galaxy_Note10</td>\n",
       "      <td>439.99</td>\n",
       "    </tr>\n",
       "    <tr>\n",
       "      <th>1002</th>\n",
       "      <td>Galaxy_Note10</td>\n",
       "      <td>939.00</td>\n",
       "    </tr>\n",
       "    <tr>\n",
       "      <th>1004</th>\n",
       "      <td>Galaxy_Note10</td>\n",
       "      <td>575.00</td>\n",
       "    </tr>\n",
       "    <tr>\n",
       "      <th>1014</th>\n",
       "      <td>Galaxy_Note10</td>\n",
       "      <td>424.55</td>\n",
       "    </tr>\n",
       "    <tr>\n",
       "      <th>1018</th>\n",
       "      <td>Galaxy_Note10</td>\n",
       "      <td>100.00</td>\n",
       "    </tr>\n",
       "    <tr>\n",
       "      <th>1020</th>\n",
       "      <td>Galaxy_Note10</td>\n",
       "      <td>425.00</td>\n",
       "    </tr>\n",
       "    <tr>\n",
       "      <th>1024</th>\n",
       "      <td>Galaxy_Note10</td>\n",
       "      <td>650.00</td>\n",
       "    </tr>\n",
       "    <tr>\n",
       "      <th>1029</th>\n",
       "      <td>Galaxy_Note10</td>\n",
       "      <td>798.00</td>\n",
       "    </tr>\n",
       "    <tr>\n",
       "      <th>1065</th>\n",
       "      <td>Galaxy_Note10</td>\n",
       "      <td>589.00</td>\n",
       "    </tr>\n",
       "    <tr>\n",
       "      <th>1078</th>\n",
       "      <td>Galaxy_Note10</td>\n",
       "      <td>459.95</td>\n",
       "    </tr>\n",
       "    <tr>\n",
       "      <th>1087</th>\n",
       "      <td>Galaxy_Note10</td>\n",
       "      <td>440.00</td>\n",
       "    </tr>\n",
       "    <tr>\n",
       "      <th>1089</th>\n",
       "      <td>Galaxy_Note10</td>\n",
       "      <td>439.99</td>\n",
       "    </tr>\n",
       "    <tr>\n",
       "      <th>1091</th>\n",
       "      <td>Galaxy_Note10</td>\n",
       "      <td>598.98</td>\n",
       "    </tr>\n",
       "    <tr>\n",
       "      <th>1171</th>\n",
       "      <td>Galaxy_Note10</td>\n",
       "      <td>645.00</td>\n",
       "    </tr>\n",
       "    <tr>\n",
       "      <th>1177</th>\n",
       "      <td>Galaxy_Note10</td>\n",
       "      <td>749.00</td>\n",
       "    </tr>\n",
       "    <tr>\n",
       "      <th>1226</th>\n",
       "      <td>Galaxy_Note10</td>\n",
       "      <td>710.00</td>\n",
       "    </tr>\n",
       "    <tr>\n",
       "      <th>1461</th>\n",
       "      <td>Galaxy_Note10</td>\n",
       "      <td>629.00</td>\n",
       "    </tr>\n",
       "  </tbody>\n",
       "</table>\n",
       "</div>"
      ],
      "text/plain": [
       "        productline  startprice\n",
       "56          Unknown      319.00\n",
       "71    Galaxy_Note10      550.00\n",
       "182   Galaxy_Note10      480.00\n",
       "208         Unknown      334.99\n",
       "213   Galaxy_Note10      320.00\n",
       "221   Galaxy_Note10      399.00\n",
       "347   Galaxy_Note10        1.00\n",
       "407   Galaxy_Note10      425.00\n",
       "424   Galaxy_Note10      475.00\n",
       "439   Galaxy_Note10      399.99\n",
       "441   Galaxy_Note10      499.00\n",
       "501   Galaxy_Note10      549.90\n",
       "505   Galaxy_Note10      785.00\n",
       "543   Galaxy_Note10        1.00\n",
       "557    Galaxy_Note8       89.99\n",
       "616   Galaxy_Note10      550.00\n",
       "617   Galaxy_Note10      800.00\n",
       "641   Galaxy_Note10        0.99\n",
       "721         Unknown      349.99\n",
       "742   Galaxy_Note10      829.99\n",
       "778         Unknown      550.00\n",
       "827   Galaxy_Note10      429.99\n",
       "828   Galaxy_Note10       99.99\n",
       "829   Galaxy_Note10      549.99\n",
       "852   Galaxy_Note10      449.00\n",
       "862      Galaxy_S10      303.67\n",
       "909   Galaxy_Note10      299.99\n",
       "939   Galaxy_Note10      450.00\n",
       "959   Galaxy_Note10      624.99\n",
       "967   Galaxy_Note10      499.99\n",
       "972   Galaxy_Note10      199.99\n",
       "974   Galaxy_Note10        0.99\n",
       "985   Galaxy_Note10        0.99\n",
       "993   Galaxy_Note10      260.00\n",
       "994   Galaxy_Note10      575.00\n",
       "1000  Galaxy_Note10      439.99\n",
       "1002  Galaxy_Note10      939.00\n",
       "1004  Galaxy_Note10      575.00\n",
       "1014  Galaxy_Note10      424.55\n",
       "1018  Galaxy_Note10      100.00\n",
       "1020  Galaxy_Note10      425.00\n",
       "1024  Galaxy_Note10      650.00\n",
       "1029  Galaxy_Note10      798.00\n",
       "1065  Galaxy_Note10      589.00\n",
       "1078  Galaxy_Note10      459.95\n",
       "1087  Galaxy_Note10      440.00\n",
       "1089  Galaxy_Note10      439.99\n",
       "1091  Galaxy_Note10      598.98\n",
       "1171  Galaxy_Note10      645.00\n",
       "1177  Galaxy_Note10      749.00\n",
       "1226  Galaxy_Note10      710.00\n",
       "1461  Galaxy_Note10      629.00"
      ]
     },
     "execution_count": 360,
     "metadata": {},
     "output_type": "execute_result"
    }
   ],
   "source": [
    "df.loc[df['color']=='Gold', ['productline', 'startprice']]"
   ]
  },
  {
   "cell_type": "code",
   "execution_count": 191,
   "id": "social-aluminum",
   "metadata": {},
   "outputs": [
    {
     "data": {
      "text/plain": [
       "['White',\n",
       " 'Midnight Black',\n",
       " 'Space Gray',\n",
       " 'Gold',\n",
       " 'Black',\n",
       " 'Aura Black',\n",
       " 'Prism Black',\n",
       " nan]"
      ]
     },
     "execution_count": 191,
     "metadata": {},
     "output_type": "execute_result"
    }
   ],
   "source": [
    "df['color'].value_counts().index.tolist() + [np.nan]"
   ]
  },
  {
   "cell_type": "code",
   "execution_count": null,
   "id": "minor-advance",
   "metadata": {},
   "outputs": [],
   "source": []
  },
  {
   "cell_type": "markdown",
   "id": "suspected-pharmacology",
   "metadata": {},
   "source": [
    "### 각각의 색상은 얼마나 모델 별 startprice에 영향을 미칠까?"
   ]
  },
  {
   "cell_type": "code",
   "execution_count": 206,
   "id": "printable-perth",
   "metadata": {},
   "outputs": [],
   "source": [
    "def draw_startprice_distribution_by_color(color_name, exclude=False):\n",
    "    \n",
    "    if not exclude:\n",
    "        df_ = df[df['color']==color_name]\n",
    "    else:\n",
    "        df_ = df[df['color']!=color_name]\n",
    "    #df_color_unq = df['color'].value_counts().index.tolist() + [np.nan]\n",
    "    df_productline_unique = ['Galaxy_Note10', 'Galaxy_S10', 'Galaxy_Note9', 'Galaxy_S9',\n",
    "                             'Galaxy_Note8', 'Galaxy_S8', 'Galaxy_S7', 'Unknown']\n",
    "    print(df_productline_unique)\n",
    "    f, axes = plt.subplots(4, 2, figsize=(8, 6), sharex=True)\n",
    "    for i in range(4):\n",
    "        for j in range(2):\n",
    "            idx = 2*(i+1) + (j-2)\n",
    "            sns.histplot(df_[df_['productline']==df_productline_unique[idx]].startprice, ax=axes[i][j])"
   ]
  },
  {
   "cell_type": "code",
   "execution_count": 207,
   "id": "appreciated-hardwood",
   "metadata": {},
   "outputs": [
    {
     "name": "stdout",
     "output_type": "stream",
     "text": [
      "['Galaxy_Note10', 'Galaxy_S10', 'Galaxy_Note9', 'Galaxy_S9', 'Galaxy_Note8', 'Galaxy_S8', 'Galaxy_S7', 'Unknown']\n"
     ]
    },
    {
     "data": {
      "image/png": "[encoded data removed]",
      "text/plain": [
       "<Figure size 576x432 with 8 Axes>"
      ]
     },
     "metadata": {
      "needs_background": "light"
     },
     "output_type": "display_data"
    }
   ],
   "source": [
    "draw_startprice_distribution_by_color('White')"
   ]
  },
  {
   "cell_type": "code",
   "execution_count": 208,
   "id": "manufactured-guidance",
   "metadata": {},
   "outputs": [
    {
     "name": "stdout",
     "output_type": "stream",
     "text": [
      "['Galaxy_Note10', 'Galaxy_S10', 'Galaxy_Note9', 'Galaxy_S9', 'Galaxy_Note8', 'Galaxy_S8', 'Galaxy_S7', 'Unknown']\n"
     ]
    },
    {
     "data": {
      "image/png": "[encoded data removed]",
      "text/plain": [
       "<Figure size 576x432 with 8 Axes>"
      ]
     },
     "metadata": {
      "needs_background": "light"
     },
     "output_type": "display_data"
    }
   ],
   "source": [
    "draw_startprice_distribution_by_color('Midnight Black')"
   ]
  },
  {
   "cell_type": "code",
   "execution_count": 209,
   "id": "individual-hebrew",
   "metadata": {},
   "outputs": [
    {
     "name": "stdout",
     "output_type": "stream",
     "text": [
      "['Galaxy_Note10', 'Galaxy_S10', 'Galaxy_Note9', 'Galaxy_S9', 'Galaxy_Note8', 'Galaxy_S8', 'Galaxy_S7', 'Unknown']\n"
     ]
    },
    {
     "data": {
      "image/png": "[encoded data removed]",
      "text/plain": [
       "<Figure size 576x432 with 8 Axes>"
      ]
     },
     "metadata": {
      "needs_background": "light"
     },
     "output_type": "display_data"
    }
   ],
   "source": [
    "draw_startprice_distribution_by_color('Space Gray')"
   ]
  },
  {
   "cell_type": "code",
   "execution_count": 210,
   "id": "quality-norwegian",
   "metadata": {},
   "outputs": [
    {
     "name": "stdout",
     "output_type": "stream",
     "text": [
      "['Galaxy_Note10', 'Galaxy_S10', 'Galaxy_Note9', 'Galaxy_S9', 'Galaxy_Note8', 'Galaxy_S8', 'Galaxy_S7', 'Unknown']\n"
     ]
    },
    {
     "data": {
      "image/png": "[encoded data removed]",
      "text/plain": [
       "<Figure size 576x432 with 8 Axes>"
      ]
     },
     "metadata": {
      "needs_background": "light"
     },
     "output_type": "display_data"
    }
   ],
   "source": [
    "draw_startprice_distribution_by_color('Gold')"
   ]
  },
  {
   "cell_type": "code",
   "execution_count": 211,
   "id": "eight-development",
   "metadata": {},
   "outputs": [
    {
     "name": "stdout",
     "output_type": "stream",
     "text": [
      "['Galaxy_Note10', 'Galaxy_S10', 'Galaxy_Note9', 'Galaxy_S9', 'Galaxy_Note8', 'Galaxy_S8', 'Galaxy_S7', 'Unknown']\n"
     ]
    },
    {
     "data": {
      "image/png": "[encoded data removed]",
      "text/plain": [
       "<Figure size 576x432 with 8 Axes>"
      ]
     },
     "metadata": {
      "needs_background": "light"
     },
     "output_type": "display_data"
    }
   ],
   "source": [
    "draw_startprice_distribution_by_color('Black')"
   ]
  },
  {
   "cell_type": "code",
   "execution_count": 212,
   "id": "floating-secondary",
   "metadata": {},
   "outputs": [
    {
     "name": "stdout",
     "output_type": "stream",
     "text": [
      "['Galaxy_Note10', 'Galaxy_S10', 'Galaxy_Note9', 'Galaxy_S9', 'Galaxy_Note8', 'Galaxy_S8', 'Galaxy_S7', 'Unknown']\n"
     ]
    },
    {
     "data": {
      "image/png": "[encoded data removed]",
      "text/plain": [
       "<Figure size 576x432 with 8 Axes>"
      ]
     },
     "metadata": {
      "needs_background": "light"
     },
     "output_type": "display_data"
    }
   ],
   "source": [
    "draw_startprice_distribution_by_color('Aura Black')"
   ]
  },
  {
   "cell_type": "code",
   "execution_count": 213,
   "id": "manufactured-relevance",
   "metadata": {},
   "outputs": [
    {
     "name": "stdout",
     "output_type": "stream",
     "text": [
      "['Galaxy_Note10', 'Galaxy_S10', 'Galaxy_Note9', 'Galaxy_S9', 'Galaxy_Note8', 'Galaxy_S8', 'Galaxy_S7', 'Unknown']\n"
     ]
    },
    {
     "data": {
      "image/png": "[encoded data removed]",
      "text/plain": [
       "<Figure size 576x432 with 8 Axes>"
      ]
     },
     "metadata": {
      "needs_background": "light"
     },
     "output_type": "display_data"
    }
   ],
   "source": [
    "draw_startprice_distribution_by_color('Prism Black')"
   ]
  },
  {
   "cell_type": "markdown",
   "id": "parental-granny",
   "metadata": {},
   "source": [
    "### 색상 변수를 배제한 순수 모델별 디바이스의 startprice 분포"
   ]
  },
  {
   "cell_type": "code",
   "execution_count": 215,
   "id": "executive-chapel",
   "metadata": {},
   "outputs": [
    {
     "name": "stdout",
     "output_type": "stream",
     "text": [
      "['Galaxy_Note10', 'Galaxy_S10', 'Galaxy_Note9', 'Galaxy_S9', 'Galaxy_Note8', 'Galaxy_S8', 'Galaxy_S7', 'Unknown']\n"
     ]
    },
    {
     "data": {
      "image/png": "[encoded data removed]",
      "text/plain": [
       "<Figure size 576x432 with 8 Axes>"
      ]
     },
     "metadata": {
      "needs_background": "light"
     },
     "output_type": "display_data"
    }
   ],
   "source": [
    "draw_startprice_distribution_by_color('', exclude=True)"
   ]
  },
  {
   "cell_type": "code",
   "execution_count": null,
   "id": "included-climate",
   "metadata": {},
   "outputs": [],
   "source": []
  },
  {
   "cell_type": "markdown",
   "id": "bizarre-phone",
   "metadata": {},
   "source": [
    "### 색상별로 buying rate 차이는 존재할까?"
   ]
  },
  {
   "cell_type": "code",
   "execution_count": 219,
   "id": "three-consumption",
   "metadata": {},
   "outputs": [
    {
     "data": {
      "text/plain": [
       "[('White', 0.43597560975609756),\n",
       " (nan, nan),\n",
       " ('Space Gray', 0.45),\n",
       " ('Midnight Black', 0.5583941605839416),\n",
       " ('Aura Black', 0.3157894736842105),\n",
       " ('Gold', 0.34615384615384615),\n",
       " ('Black', 0.42105263157894735),\n",
       " ('Prism Black', 0.0)]"
      ]
     },
     "execution_count": 219,
     "metadata": {},
     "output_type": "execute_result"
    }
   ],
   "source": [
    "[(unq, df[df['color']==unq]['sold'].mean()) for unq in df.color.unique()]"
   ]
  },
  {
   "cell_type": "code",
   "execution_count": null,
   "id": "norman-amount",
   "metadata": {},
   "outputs": [],
   "source": []
  },
  {
   "cell_type": "markdown",
   "id": "constitutional-press",
   "metadata": {},
   "source": [
    "# `startprice` & `sold`\n",
    "- `sold` = target label\n",
    "- 경매 낙찰되거나 즉시구매가 지불하면 1, 낙찰에 실패하면 0\n",
    "    - 경매참여자들이 제시한 금액이 마감시한까지 판매자 기대에 못 미치면 판매 실패\n",
    "    - 경매에 성공한 상품 vs. 경매에 실패한 상품\n",
    "    \n",
    "> 각 제품 모델 및 중고여부에 따른 startprice 싯가가 존재할 것이라고 가정\n",
    "\n",
    "> 각 제품 모델 및 중고여부에 따른 startprice 싯가에 대한 up & down 정보를 변수로 만들어보면 어떨까?"
   ]
  },
  {
   "cell_type": "code",
   "execution_count": 222,
   "id": "supreme-policy",
   "metadata": {},
   "outputs": [],
   "source": [
    "df_sold = df[df['sold']==1]\n",
    "df_not_sold = df[df['sold']==0]"
   ]
  },
  {
   "cell_type": "code",
   "execution_count": null,
   "id": "fleet-magic",
   "metadata": {},
   "outputs": [],
   "source": []
  },
  {
   "cell_type": "code",
   "execution_count": 239,
   "id": "royal-object",
   "metadata": {},
   "outputs": [
    {
     "data": {
      "text/plain": [
       "<AxesSubplot:xlabel='productline', ylabel='startprice'>"
      ]
     },
     "execution_count": 239,
     "metadata": {},
     "output_type": "execute_result"
    },
    {
     "data": {
      "image/png": "[encoded data removed]",
      "text/plain": [
       "<Figure size 720x360 with 1 Axes>"
      ]
     },
     "metadata": {
      "needs_background": "light"
     },
     "output_type": "display_data"
    }
   ],
   "source": [
    "# startprice 평균값 기준으로 비교\n",
    "plt.figure(figsize=(10, 5))\n",
    "sns.barplot(data=df,\n",
    "            x=\"productline\",\n",
    "            y=\"startprice\",\n",
    "            hue=\"sold\")"
   ]
  },
  {
   "cell_type": "code",
   "execution_count": 240,
   "id": "specialized-operation",
   "metadata": {},
   "outputs": [
    {
     "data": {
      "text/plain": [
       "<AxesSubplot:xlabel='productline', ylabel='startprice'>"
      ]
     },
     "execution_count": 240,
     "metadata": {},
     "output_type": "execute_result"
    },
    {
     "data": {
      "image/png": "[encoded data removed]",
      "text/plain": [
       "<Figure size 720x360 with 1 Axes>"
      ]
     },
     "metadata": {
      "needs_background": "light"
     },
     "output_type": "display_data"
    }
   ],
   "source": [
    "# startprice 최대값 기준 비교\n",
    "plt.figure(figsize=(10, 5))\n",
    "sns.barplot(data=df,\n",
    "            x=\"productline\",\n",
    "            y=\"startprice\",\n",
    "            hue=\"sold\",\n",
    "           estimator=np.max)"
   ]
  },
  {
   "cell_type": "code",
   "execution_count": 241,
   "id": "superb-institute",
   "metadata": {},
   "outputs": [
    {
     "data": {
      "text/plain": [
       "<AxesSubplot:xlabel='productline', ylabel='startprice'>"
      ]
     },
     "execution_count": 241,
     "metadata": {},
     "output_type": "execute_result"
    },
    {
     "data": {
      "image/png": "[encoded data removed]",
      "text/plain": [
       "<Figure size 720x360 with 1 Axes>"
      ]
     },
     "metadata": {
      "needs_background": "light"
     },
     "output_type": "display_data"
    }
   ],
   "source": [
    "# startprice 최소 기준 비교\n",
    "plt.figure(figsize=(10, 5))\n",
    "sns.barplot(data=df,\n",
    "            x=\"productline\",\n",
    "            y=\"startprice\",\n",
    "            hue=\"sold\",\n",
    "           estimator=np.min)"
   ]
  },
  {
   "cell_type": "code",
   "execution_count": null,
   "id": "young-conducting",
   "metadata": {},
   "outputs": [],
   "source": []
  },
  {
   "cell_type": "code",
   "execution_count": 266,
   "id": "collectible-macro",
   "metadata": {},
   "outputs": [
    {
     "data": {
      "text/plain": [
       "productline    BuyItNow\n",
       "Galaxy_Note10  0           456.760190\n",
       "               1           231.546357\n",
       "Galaxy_Note8   0           244.691316\n",
       "               1           108.330000\n",
       "Galaxy_Note9   0           319.772131\n",
       "               1           168.086304\n",
       "Galaxy_S10     0           313.810000\n",
       "               1           160.000000\n",
       "Galaxy_S7      0           115.739633\n",
       "               1            55.046695\n",
       "Galaxy_S8      0           232.980426\n",
       "               1            96.319412\n",
       "Galaxy_S9      0           300.376237\n",
       "               1           132.390308\n",
       "Unknown        0           213.413583\n",
       "               1           112.823810\n",
       "Name: startprice, dtype: float64"
      ]
     },
     "execution_count": 266,
     "metadata": {},
     "output_type": "execute_result"
    }
   ],
   "source": [
    "df.groupby(['productline', 'BuyItNow'])['startprice'].mean()"
   ]
  },
  {
   "cell_type": "code",
   "execution_count": null,
   "id": "neutral-september",
   "metadata": {},
   "outputs": [],
   "source": []
  },
  {
   "cell_type": "code",
   "execution_count": 252,
   "id": "brown-inspection",
   "metadata": {},
   "outputs": [
    {
     "data": {
      "text/html": [
       "<div>\n",
       "<style scoped>\n",
       "    .dataframe tbody tr th:only-of-type {\n",
       "        vertical-align: middle;\n",
       "    }\n",
       "\n",
       "    .dataframe tbody tr th {\n",
       "        vertical-align: top;\n",
       "    }\n",
       "\n",
       "    .dataframe thead th {\n",
       "        text-align: right;\n",
       "    }\n",
       "</style>\n",
       "<table border=\"1\" class=\"dataframe\">\n",
       "  <thead>\n",
       "    <tr style=\"text-align: right;\">\n",
       "      <th></th>\n",
       "      <th>BuyItNow</th>\n",
       "      <th>startprice</th>\n",
       "      <th>color</th>\n",
       "      <th>productline</th>\n",
       "      <th>hasDescription</th>\n",
       "      <th>upperCaseDescription</th>\n",
       "      <th>sold</th>\n",
       "      <th>modelNumber</th>\n",
       "      <th>isNote</th>\n",
       "    </tr>\n",
       "  </thead>\n",
       "  <tbody>\n",
       "    <tr>\n",
       "      <th>5</th>\n",
       "      <td>1</td>\n",
       "      <td>0.99</td>\n",
       "      <td>White</td>\n",
       "      <td>Galaxy_S7</td>\n",
       "      <td>0</td>\n",
       "      <td>0</td>\n",
       "      <td>1</td>\n",
       "      <td>1</td>\n",
       "      <td>0</td>\n",
       "    </tr>\n",
       "    <tr>\n",
       "      <th>9</th>\n",
       "      <td>1</td>\n",
       "      <td>20.00</td>\n",
       "      <td>Midnight Black</td>\n",
       "      <td>Galaxy_S7</td>\n",
       "      <td>1</td>\n",
       "      <td>1</td>\n",
       "      <td>1</td>\n",
       "      <td>1</td>\n",
       "      <td>0</td>\n",
       "    </tr>\n",
       "    <tr>\n",
       "      <th>28</th>\n",
       "      <td>1</td>\n",
       "      <td>49.00</td>\n",
       "      <td>Aura Black</td>\n",
       "      <td>Galaxy_Note10</td>\n",
       "      <td>0</td>\n",
       "      <td>0</td>\n",
       "      <td>1</td>\n",
       "      <td>4</td>\n",
       "      <td>1</td>\n",
       "    </tr>\n",
       "    <tr>\n",
       "      <th>79</th>\n",
       "      <td>1</td>\n",
       "      <td>45.00</td>\n",
       "      <td>NaN</td>\n",
       "      <td>Galaxy_Note8</td>\n",
       "      <td>1</td>\n",
       "      <td>1</td>\n",
       "      <td>1</td>\n",
       "      <td>2</td>\n",
       "      <td>1</td>\n",
       "    </tr>\n",
       "    <tr>\n",
       "      <th>103</th>\n",
       "      <td>1</td>\n",
       "      <td>9.99</td>\n",
       "      <td>White</td>\n",
       "      <td>Galaxy_Note8</td>\n",
       "      <td>0</td>\n",
       "      <td>0</td>\n",
       "      <td>1</td>\n",
       "      <td>2</td>\n",
       "      <td>1</td>\n",
       "    </tr>\n",
       "    <tr>\n",
       "      <th>...</th>\n",
       "      <td>...</td>\n",
       "      <td>...</td>\n",
       "      <td>...</td>\n",
       "      <td>...</td>\n",
       "      <td>...</td>\n",
       "      <td>...</td>\n",
       "      <td>...</td>\n",
       "      <td>...</td>\n",
       "      <td>...</td>\n",
       "    </tr>\n",
       "    <tr>\n",
       "      <th>1439</th>\n",
       "      <td>1</td>\n",
       "      <td>49.99</td>\n",
       "      <td>Midnight Black</td>\n",
       "      <td>Galaxy_S7</td>\n",
       "      <td>1</td>\n",
       "      <td>1</td>\n",
       "      <td>1</td>\n",
       "      <td>1</td>\n",
       "      <td>0</td>\n",
       "    </tr>\n",
       "    <tr>\n",
       "      <th>1441</th>\n",
       "      <td>0</td>\n",
       "      <td>36.95</td>\n",
       "      <td>NaN</td>\n",
       "      <td>Galaxy_S7</td>\n",
       "      <td>1</td>\n",
       "      <td>1</td>\n",
       "      <td>1</td>\n",
       "      <td>1</td>\n",
       "      <td>0</td>\n",
       "    </tr>\n",
       "    <tr>\n",
       "      <th>1458</th>\n",
       "      <td>1</td>\n",
       "      <td>49.95</td>\n",
       "      <td>White</td>\n",
       "      <td>Galaxy_S8</td>\n",
       "      <td>1</td>\n",
       "      <td>1</td>\n",
       "      <td>1</td>\n",
       "      <td>2</td>\n",
       "      <td>0</td>\n",
       "    </tr>\n",
       "    <tr>\n",
       "      <th>1460</th>\n",
       "      <td>1</td>\n",
       "      <td>0.99</td>\n",
       "      <td>White</td>\n",
       "      <td>Galaxy_S9</td>\n",
       "      <td>1</td>\n",
       "      <td>1</td>\n",
       "      <td>1</td>\n",
       "      <td>3</td>\n",
       "      <td>0</td>\n",
       "    </tr>\n",
       "    <tr>\n",
       "      <th>1472</th>\n",
       "      <td>0</td>\n",
       "      <td>36.95</td>\n",
       "      <td>NaN</td>\n",
       "      <td>Galaxy_S7</td>\n",
       "      <td>1</td>\n",
       "      <td>1</td>\n",
       "      <td>0</td>\n",
       "      <td>1</td>\n",
       "      <td>0</td>\n",
       "    </tr>\n",
       "  </tbody>\n",
       "</table>\n",
       "<p>252 rows × 9 columns</p>\n",
       "</div>"
      ],
      "text/plain": [
       "      BuyItNow  startprice           color    productline  hasDescription  \\\n",
       "5            1        0.99           White      Galaxy_S7               0   \n",
       "9            1       20.00  Midnight Black      Galaxy_S7               1   \n",
       "28           1       49.00      Aura Black  Galaxy_Note10               0   \n",
       "79           1       45.00             NaN   Galaxy_Note8               1   \n",
       "103          1        9.99           White   Galaxy_Note8               0   \n",
       "...        ...         ...             ...            ...             ...   \n",
       "1439         1       49.99  Midnight Black      Galaxy_S7               1   \n",
       "1441         0       36.95             NaN      Galaxy_S7               1   \n",
       "1458         1       49.95           White      Galaxy_S8               1   \n",
       "1460         1        0.99           White      Galaxy_S9               1   \n",
       "1472         0       36.95             NaN      Galaxy_S7               1   \n",
       "\n",
       "      upperCaseDescription  sold modelNumber isNote  \n",
       "5                        0     1           1      0  \n",
       "9                        1     1           1      0  \n",
       "28                       0     1           4      1  \n",
       "79                       1     1           2      1  \n",
       "103                      0     1           2      1  \n",
       "...                    ...   ...         ...    ...  \n",
       "1439                     1     1           1      0  \n",
       "1441                     1     1           1      0  \n",
       "1458                     1     1           2      0  \n",
       "1460                     1     1           3      0  \n",
       "1472                     1     0           1      0  \n",
       "\n",
       "[252 rows x 9 columns]"
      ]
     },
     "execution_count": 252,
     "metadata": {},
     "output_type": "execute_result"
    }
   ],
   "source": [
    "df[df['startprice'] < 50]"
   ]
  },
  {
   "cell_type": "code",
   "execution_count": null,
   "id": "straight-familiar",
   "metadata": {},
   "outputs": [],
   "source": []
  },
  {
   "cell_type": "markdown",
   "id": "grave-cedar",
   "metadata": {},
   "source": [
    "# Missing Value Analysis\n",
    "- productline `Unknown`\n",
    "    - 신품 상태의 mean startprice = 213\n",
    "    - 중고 상태의 mean startprice = 112\n",
    "    > mean startprice 기준으로 Galaxy_S8(신품232, 중고96)과 매우 유사함\n",
    "- manual imputation 가능한지 추가적인 조사를 진행"
   ]
  },
  {
   "cell_type": "code",
   "execution_count": 268,
   "id": "robust-expense",
   "metadata": {},
   "outputs": [
    {
     "data": {
      "text/plain": [
       "productline    BuyItNow\n",
       "Galaxy_Note10  0           456.760190\n",
       "               1           231.546357\n",
       "Galaxy_Note8   0           244.691316\n",
       "               1           108.330000\n",
       "Galaxy_Note9   0           319.772131\n",
       "               1           168.086304\n",
       "Galaxy_S10     0           313.810000\n",
       "               1           160.000000\n",
       "Galaxy_S7      0           115.739633\n",
       "               1            55.046695\n",
       "Galaxy_S8      0           232.980426\n",
       "               1            96.319412\n",
       "Galaxy_S9      0           300.376237\n",
       "               1           132.390308\n",
       "Unknown        0           213.413583\n",
       "               1           112.823810\n",
       "Name: startprice, dtype: float64"
      ]
     },
     "execution_count": 268,
     "metadata": {},
     "output_type": "execute_result"
    }
   ],
   "source": [
    "df.groupby(['productline', 'BuyItNow'])['startprice'].mean()"
   ]
  },
  {
   "cell_type": "code",
   "execution_count": 291,
   "id": "systematic-arrow",
   "metadata": {},
   "outputs": [
    {
     "data": {
      "text/plain": [
       "productline    BuyItNow\n",
       "Galaxy_Note10  0           211\n",
       "               1           140\n",
       "Galaxy_Note8   0            76\n",
       "               1            77\n",
       "Galaxy_Note9   0            61\n",
       "               1            46\n",
       "Galaxy_S10     0             7\n",
       "               1             1\n",
       "Galaxy_S7      0           109\n",
       "               1           118\n",
       "Galaxy_S8      0           141\n",
       "               1           136\n",
       "Galaxy_S9      0            93\n",
       "               1            65\n",
       "Unknown        0           120\n",
       "               1            84\n",
       "Name: startprice, dtype: int64"
      ]
     },
     "execution_count": 291,
     "metadata": {},
     "output_type": "execute_result"
    }
   ],
   "source": [
    "df.groupby(['productline', 'BuyItNow'])['startprice'].count()"
   ]
  },
  {
   "cell_type": "code",
   "execution_count": 273,
   "id": "prepared-script",
   "metadata": {},
   "outputs": [
    {
     "data": {
      "text/plain": [
       "array(['Galaxy_S9', 'Galaxy_Note9', 'Unknown', 'Galaxy_S8', 'Galaxy_S7',\n",
       "       'Galaxy_Note10', 'Galaxy_Note8', 'Galaxy_S10'], dtype=object)"
      ]
     },
     "execution_count": 273,
     "metadata": {},
     "output_type": "execute_result"
    }
   ],
   "source": [
    "df['productline'].unique()"
   ]
  },
  {
   "cell_type": "code",
   "execution_count": 312,
   "id": "quality-reason",
   "metadata": {},
   "outputs": [
    {
     "data": {
      "text/html": [
       "<div>\n",
       "<style scoped>\n",
       "    .dataframe tbody tr th:only-of-type {\n",
       "        vertical-align: middle;\n",
       "    }\n",
       "\n",
       "    .dataframe tbody tr th {\n",
       "        vertical-align: top;\n",
       "    }\n",
       "\n",
       "    .dataframe thead th {\n",
       "        text-align: right;\n",
       "    }\n",
       "</style>\n",
       "<table border=\"1\" class=\"dataframe\">\n",
       "  <thead>\n",
       "    <tr style=\"text-align: right;\">\n",
       "      <th></th>\n",
       "      <th>startprice</th>\n",
       "      <th>startprice</th>\n",
       "    </tr>\n",
       "  </thead>\n",
       "  <tbody>\n",
       "    <tr>\n",
       "      <th>count</th>\n",
       "      <td>277.000000</td>\n",
       "      <td>204.000000</td>\n",
       "    </tr>\n",
       "    <tr>\n",
       "      <th>mean</th>\n",
       "      <td>165.883321</td>\n",
       "      <td>171.994265</td>\n",
       "    </tr>\n",
       "    <tr>\n",
       "      <th>std</th>\n",
       "      <td>123.743959</td>\n",
       "      <td>156.092171</td>\n",
       "    </tr>\n",
       "    <tr>\n",
       "      <th>min</th>\n",
       "      <td>0.010000</td>\n",
       "      <td>0.990000</td>\n",
       "    </tr>\n",
       "    <tr>\n",
       "      <th>25%</th>\n",
       "      <td>89.990000</td>\n",
       "      <td>44.997500</td>\n",
       "    </tr>\n",
       "    <tr>\n",
       "      <th>50%</th>\n",
       "      <td>155.000000</td>\n",
       "      <td>149.990000</td>\n",
       "    </tr>\n",
       "    <tr>\n",
       "      <th>75%</th>\n",
       "      <td>230.000000</td>\n",
       "      <td>259.992500</td>\n",
       "    </tr>\n",
       "    <tr>\n",
       "      <th>max</th>\n",
       "      <td>999.000000</td>\n",
       "      <td>700.000000</td>\n",
       "    </tr>\n",
       "  </tbody>\n",
       "</table>\n",
       "</div>"
      ],
      "text/plain": [
       "       startprice  startprice\n",
       "count  277.000000  204.000000\n",
       "mean   165.883321  171.994265\n",
       "std    123.743959  156.092171\n",
       "min      0.010000    0.990000\n",
       "25%     89.990000   44.997500\n",
       "50%    155.000000  149.990000\n",
       "75%    230.000000  259.992500\n",
       "max    999.000000  700.000000"
      ]
     },
     "execution_count": 312,
     "metadata": {},
     "output_type": "execute_result"
    }
   ],
   "source": [
    "pd.concat([df[df['productline']=='Galaxy_S8']['startprice'].describe(),\n",
    "           df[df['productline']=='Unknown']['startprice'].describe()],\n",
    "          axis=1)"
   ]
  },
  {
   "cell_type": "code",
   "execution_count": 347,
   "id": "collected-killing",
   "metadata": {},
   "outputs": [
    {
     "data": {
      "text/plain": [
       "<AxesSubplot:xlabel='startprice', ylabel='Count'>"
      ]
     },
     "execution_count": 347,
     "metadata": {},
     "output_type": "execute_result"
    },
    {
     "data": {
      "image/png": "[encoded data removed]",
      "text/plain": [
       "<Figure size 432x288 with 1 Axes>"
      ]
     },
     "metadata": {
      "needs_background": "light"
     },
     "output_type": "display_data"
    }
   ],
   "source": [
    "sns.histplot(data=df, x='startprice', hue='BuyItNow')"
   ]
  },
  {
   "cell_type": "code",
   "execution_count": 361,
   "id": "athletic-swaziland",
   "metadata": {},
   "outputs": [
    {
     "data": {
      "text/plain": [
       "<AxesSubplot:xlabel='startprice', ylabel='Count'>"
      ]
     },
     "execution_count": 361,
     "metadata": {},
     "output_type": "execute_result"
    },
    {
     "data": {
      "image/png": "[encoded data removed]",
      "text/plain": [
       "<Figure size 432x288 with 1 Axes>"
      ]
     },
     "metadata": {
      "needs_background": "light"
     },
     "output_type": "display_data"
    }
   ],
   "source": [
    "sns.histplot(data=df[df['productline']=='Unknown'], x='startprice')"
   ]
  },
  {
   "cell_type": "code",
   "execution_count": 338,
   "id": "boolean-invasion",
   "metadata": {},
   "outputs": [
    {
     "data": {
      "text/plain": [
       "<AxesSubplot:xlabel='startprice', ylabel='Count'>"
      ]
     },
     "execution_count": 338,
     "metadata": {},
     "output_type": "execute_result"
    },
    {
     "data": {
      "image/png": "[encoded data removed]",
      "text/plain": [
       "<Figure size 432x288 with 1 Axes>"
      ]
     },
     "metadata": {
      "needs_background": "light"
     },
     "output_type": "display_data"
    }
   ],
   "source": [
    "sns.histplot(data=df[df['productline']=='Unknown'], x='startprice', hue='BuyItNow')"
   ]
  },
  {
   "cell_type": "code",
   "execution_count": 348,
   "id": "positive-riverside",
   "metadata": {},
   "outputs": [
    {
     "data": {
      "text/plain": [
       "<AxesSubplot:xlabel='startprice', ylabel='Count'>"
      ]
     },
     "execution_count": 348,
     "metadata": {},
     "output_type": "execute_result"
    },
    {
     "data": {
      "image/png": "[encoded data removed]",
      "text/plain": [
       "<Figure size 432x288 with 1 Axes>"
      ]
     },
     "metadata": {
      "needs_background": "light"
     },
     "output_type": "display_data"
    }
   ],
   "source": [
    "sns.histplot(data=df[df['productline']=='Galaxy_S7'], x='startprice', hue='BuyItNow')"
   ]
  },
  {
   "cell_type": "code",
   "execution_count": 285,
   "id": "single-cartoon",
   "metadata": {},
   "outputs": [
    {
     "data": {
      "text/plain": [
       "<AxesSubplot:xlabel='startprice', ylabel='Count'>"
      ]
     },
     "execution_count": 285,
     "metadata": {},
     "output_type": "execute_result"
    },
    {
     "data": {
      "image/png": "[encoded data removed]",
      "text/plain": [
       "<Figure size 432x288 with 1 Axes>"
      ]
     },
     "metadata": {
      "needs_background": "light"
     },
     "output_type": "display_data"
    }
   ],
   "source": [
    "sns.histplot(data=df[df['productline']=='Galaxy_S8'], x='startprice', hue='BuyItNow')"
   ]
  },
  {
   "cell_type": "code",
   "execution_count": 350,
   "id": "unable-variable",
   "metadata": {},
   "outputs": [
    {
     "data": {
      "text/plain": [
       "<AxesSubplot:xlabel='startprice', ylabel='Count'>"
      ]
     },
     "execution_count": 350,
     "metadata": {},
     "output_type": "execute_result"
    },
    {
     "data": {
      "image/png": "[encoded data removed]",
      "text/plain": [
       "<Figure size 432x288 with 1 Axes>"
      ]
     },
     "metadata": {
      "needs_background": "light"
     },
     "output_type": "display_data"
    }
   ],
   "source": [
    "sns.histplot(data=df[df['productline']=='Galaxy_Note8'], x='startprice', hue='BuyItNow')"
   ]
  },
  {
   "cell_type": "code",
   "execution_count": 351,
   "id": "following-george",
   "metadata": {},
   "outputs": [
    {
     "data": {
      "text/plain": [
       "<AxesSubplot:xlabel='startprice', ylabel='Count'>"
      ]
     },
     "execution_count": 351,
     "metadata": {},
     "output_type": "execute_result"
    },
    {
     "data": {
      "image/png": "[encoded data removed]",
      "text/plain": [
       "<Figure size 432x288 with 1 Axes>"
      ]
     },
     "metadata": {
      "needs_background": "light"
     },
     "output_type": "display_data"
    }
   ],
   "source": [
    "sns.histplot(data=df[df['productline']=='Galaxy_S9'], x='startprice', hue='BuyItNow')"
   ]
  },
  {
   "cell_type": "code",
   "execution_count": 292,
   "id": "sublime-egyptian",
   "metadata": {},
   "outputs": [
    {
     "data": {
      "text/plain": [
       "<AxesSubplot:xlabel='startprice', ylabel='Count'>"
      ]
     },
     "execution_count": 292,
     "metadata": {},
     "output_type": "execute_result"
    },
    {
     "data": {
      "image/png": "[encoded data removed]",
      "text/plain": [
       "<Figure size 432x288 with 1 Axes>"
      ]
     },
     "metadata": {
      "needs_background": "light"
     },
     "output_type": "display_data"
    }
   ],
   "source": [
    "sns.histplot(data=df[df['productline']=='Galaxy_S10'], x='startprice', hue='BuyItNow')"
   ]
  },
  {
   "cell_type": "code",
   "execution_count": 290,
   "id": "iraqi-algeria",
   "metadata": {},
   "outputs": [
    {
     "data": {
      "text/plain": [
       "<AxesSubplot:xlabel='startprice', ylabel='Count'>"
      ]
     },
     "execution_count": 290,
     "metadata": {},
     "output_type": "execute_result"
    },
    {
     "data": {
      "image/png": "[encoded data removed]",
      "text/plain": [
       "<Figure size 432x288 with 1 Axes>"
      ]
     },
     "metadata": {
      "needs_background": "light"
     },
     "output_type": "display_data"
    }
   ],
   "source": [
    "sns.histplot(data=df[df['productline']=='Galaxy_Note10'], x='startprice', hue='BuyItNow')"
   ]
  },
  {
   "cell_type": "code",
   "execution_count": null,
   "id": "naked-butterfly",
   "metadata": {},
   "outputs": [],
   "source": []
  },
  {
   "cell_type": "markdown",
   "id": "colored-georgia",
   "metadata": {},
   "source": [
    "### `productline`='Unknown'과 유사하다고 보여지는 후보 모델:\n",
    "- Galaxy S10\n",
    "    - 이상할 정도로 전체 데이터에서 표본량이 적음 (약 1500개 중 8개)\n",
    "    - Galaxy Note10의 startprice 분포가 unknown model의 startprice 분포와 유사\n",
    "- Galaxy S8\n",
    "    - 평균, 최대, 최소, 표준편차 등 통계량이 유사함\n"
   ]
  },
  {
   "cell_type": "code",
   "execution_count": null,
   "id": "successful-pitch",
   "metadata": {},
   "outputs": [],
   "source": []
  },
  {
   "cell_type": "markdown",
   "id": "modular-strike",
   "metadata": {},
   "source": [
    "\n",
    "# 분포 간 거리 계산 (scipy.stats)\n",
    "https://data-newbie.tistory.com/172\n",
    "- https://www.youtube.com/watch?v=U7xdiGc7IRU&feature=youtu.be"
   ]
  },
  {
   "cell_type": "code",
   "execution_count": 328,
   "id": "unusual-mileage",
   "metadata": {},
   "outputs": [
    {
     "data": {
      "text/plain": [
       "KstestResult(statistic=0.06666666666666667, pvalue=0.6434024642847775)"
      ]
     },
     "execution_count": 328,
     "metadata": {},
     "output_type": "execute_result"
    }
   ],
   "source": [
    "from scipy import stats\n",
    "#np.random.seed(12345678)  #fix random seed to get the same result\n",
    "n1 = 200  # size of first sample\n",
    "n2 = 300  # size of second sample\n",
    "rvs1 = stats.norm.rvs(size=n1, loc=0., scale=1)\n",
    "rvs2 = stats.norm.rvs(size=n2, loc=0, scale=1)\n",
    "stats.ks_2samp(rvs1, rvs2)"
   ]
  },
  {
   "cell_type": "code",
   "execution_count": 329,
   "id": "smaller-thought",
   "metadata": {},
   "outputs": [
    {
     "data": {
      "text/plain": [
       "KstestResult(statistic=0.0, pvalue=1.0)"
      ]
     },
     "execution_count": 329,
     "metadata": {},
     "output_type": "execute_result"
    }
   ],
   "source": [
    "stats.ks_2samp([1,2,3,4,5], [1,2,3,4,5])"
   ]
  },
  {
   "cell_type": "code",
   "execution_count": 337,
   "id": "earlier-conversion",
   "metadata": {},
   "outputs": [
    {
     "data": {
      "text/plain": [
       "KstestResult(statistic=0.1484452366805308, pvalue=0.0006448479755540859)"
      ]
     },
     "execution_count": 337,
     "metadata": {},
     "output_type": "execute_result"
    }
   ],
   "source": [
    "# 전체 startprice 분포 vs. unknown product의 startprice 분포\n",
    "stats.ks_2samp(df[df['productline']=='Unknown']['startprice'],\n",
    "              df['startprice'])"
   ]
  },
  {
   "cell_type": "code",
   "execution_count": 334,
   "id": "decreased-girlfriend",
   "metadata": {},
   "outputs": [],
   "source": [
    "df_product_unknown_startprice = df[df['productline']=='Unknown']['startprice']\n",
    "df_product_S8_startprice = df[df['productline']=='Galaxy_S8']['startprice']\n",
    "df_product_Note8_startprice = df[df['productline']=='Galaxy_Note8']['startprice']\n",
    "df_product_S9_startprice = df[df['productline']=='Galaxy_S9']['startprice']\n",
    "df_product_Note9_startprice = df[df['productline']=='Galaxy_Note9']['startprice']\n",
    "df_product_S10_startprice = df[df['productline']=='Galaxy_S10']['startprice']\n",
    "df_product_Note10_startprice = df[df['productline']=='Galaxy_Note10']['startprice']\n",
    "\n",
    "statprices_to_compare = [df_product_S8_startprice,\n",
    "                        df_product_Note8_startprice,\n",
    "                        df_product_S9_startprice,\n",
    "                        df_product_Note9_startprice,\n",
    "                        df_product_S10_startprice,\n",
    "                        df_product_Note10_startprice\n",
    "                        ]\n",
    "statprices_to_compare_modelnames = ['S8', 'Note8', 'S9', 'Note9', 'S10', 'Note10']"
   ]
  },
  {
   "cell_type": "code",
   "execution_count": 335,
   "id": "intermediate-granny",
   "metadata": {},
   "outputs": [],
   "source": [
    "from scipy.stats import ks_2samp, wasserstein_distance, energy_distance"
   ]
  },
  {
   "cell_type": "code",
   "execution_count": 336,
   "id": "indie-orientation",
   "metadata": {},
   "outputs": [
    {
     "name": "stdout",
     "output_type": "stream",
     "text": [
      "S8\n",
      "\n",
      "        Kolmogorov-Smirnov Distance : KstestResult(statistic=0.1234515466836554, pvalue=0.04998390093987126)\n",
      "        Wasserstein Distance : 35.03334058894317\n",
      "        Crammer Distance : 2.139009164130903\n",
      "    \n",
      "---\n",
      "Note8\n",
      "\n",
      "        Kolmogorov-Smirnov Distance : KstestResult(statistic=0.19281045751633988, pvalue=0.002622834864688839)\n",
      "        Wasserstein Distance : 43.01949346405228\n",
      "        Crammer Distance : 3.0233393832860145\n",
      "    \n",
      "---\n",
      "S9\n",
      "\n",
      "        Kolmogorov-Smirnov Distance : KstestResult(statistic=0.3277488210474063, pvalue=5.478415943116488e-09)\n",
      "        Wasserstein Distance : 63.28339600397121\n",
      "        Crammer Distance : 5.306616928008235\n",
      "    \n",
      "---\n",
      "Note9\n",
      "\n",
      "        Kolmogorov-Smirnov Distance : KstestResult(statistic=0.38308594465823714, pvalue=1.0124366900399195e-09)\n",
      "        Wasserstein Distance : 91.14758979292652\n",
      "        Crammer Distance : 6.780660799426887\n",
      "    \n",
      "---\n",
      "S10\n",
      "\n",
      "        Kolmogorov-Smirnov Distance : KstestResult(statistic=0.5857843137254902, pvalue=0.004992728514796263)\n",
      "        Wasserstein Distance : 141.91291666666666\n",
      "        Crammer Distance : 10.517274430322447\n",
      "    \n",
      "---\n",
      "Note10\n",
      "\n",
      "        Kolmogorov-Smirnov Distance : KstestResult(statistic=0.4904055639349757, pvalue=6.661338147750939e-16)\n",
      "        Wasserstein Distance : 194.9370458354282\n",
      "        Crammer Distance : 11.767970579847901\n",
      "    \n",
      "---\n"
     ]
    }
   ],
   "source": [
    "for (name, sp) in zip(statprices_to_compare_modelnames, statprices_to_compare):\n",
    "    print(name)\n",
    "    print(f'''\n",
    "        Kolmogorov-Smirnov Distance : {ks_2samp(df_product_unknown_startprice, sp)}\n",
    "        Wasserstein Distance : {wasserstein_distance(df_product_unknown_startprice, sp)}\n",
    "        Crammer Distance : {energy_distance(df_product_unknown_startprice, sp)}\n",
    "    ''')\n",
    "    print('---')\n",
    "    \n",
    "### S8이 startprice 분포 기준으로 가장 유사한 것으로 나타남."
   ]
  },
  {
   "cell_type": "code",
   "execution_count": null,
   "id": "eligible-completion",
   "metadata": {},
   "outputs": [],
   "source": []
  },
  {
   "cell_type": "markdown",
   "id": "cheap-jenny",
   "metadata": {},
   "source": [
    "# Summary.\n",
    "- `BuyItNow`\n",
    "    - BuyItNow=1일 때의 startprice가 BuyItNow=0일 때의 startprice보다 2배 가량 낮다.\n",
    "        - 즉시구매가격을 설정한 셀러는 즉시구매가에 팔고 싶은 사람들\n",
    "        - 높은 가격을 받기에는 경매가 유리한데, 왜 즉시구매가격을 설정할까?\n",
    "    - [웹사이트 확인 결과](http://ebay.auction.co.kr/shop/itms?sk_idx=0&q=galaxy%20s7&sk=galaxy%20s7&ltype=Auction), 즉시구매가 설정된 제품 대부분은 \"중고 제품\", 경매 only 제품 대부분은 \"미사용 제품\"\n",
    "        - 일정한 중고거래가 consensus 형성되어 있으므로 즉시구매가를 설정\n",
    "        - 중고 제품이므로 미사용 제품 대비 가격대가 낮게 설정됨\n",
    "    > BuyItNow는 중고 매물 여부 정보를 포함하며, 가격에 중요한 설명력을 갖는 변수.\n",
    "- `productline`\n",
    "    - productline `Unknown` = 결측치 (약 200개 존재)\n",
    "        - (BuyItNow=0, productline=Unknown) mean startprice = 213\n",
    "        - (BuyItNow=1, productline=Unknown) mean startprice = 112\n",
    "        - mean startprice 기준 Galaxy_S8(신품232, 중고96)과 유사\n",
    "        - 분포 유사도 측정 척도(Kolmogorov-Smirnov Distance 등)에서도 S8과 가장 유사한 결과\n",
    "    - 'Unknown'을 'Galaxy_S8'로 imputation 진행\n",
    "    - productline 정보는 모델이 출시된 시간 정보와 제품 정보가 혼합된 상태\n",
    "        - 결측치 대체 후 `modelNumber`(ordinal), `isNote`(binary) 2개 컬럼을 생성\n",
    "        - DROP\n",
    "- `charCountDescription`, `charCountDescription`\n",
    "    - 있냐, 없냐 정보만을 표시하는 binary type으로 변경\n",
    "    - 따라서 `charCountDescription`은 `noDescription`과 동일한 정보가 되므로 drop\n",
    "- `noDescription`\n",
    "    - 설명 텍스트가 없으면 'contains description', 있으면 'no description'으로 표현\n",
    "    - binarize\n",
    "        - contains description = 0\n",
    "        - no description = 1\n",
    "- `carrier`\n",
    "    - 유의미한 정보를 갖고 있지 않음\n",
    "    - missing value imputation 가치 없음\n",
    "    > DROP\n",
    "- `startprice` & `sold`\n",
    "    - `sold` = target label\n",
    "    - 경매 낙찰되거나 즉시구매가 지불하면 1, 낙찰에 실패하면 0\n",
    "        - 경매참여자들이 제시한 금액이 마감시한까지 판매자 기대에 못 미치면 판매 실패\n",
    "        - 경매에 성공한 상품 vs. 경매에 실패한 상품\n",
    "    - 경매 시장에서 각 모델군(신품/중고)에 대한 기대가격이 존재할 것으로 생각할 수 있음\n",
    "    - 낙찰 제품(sold=1)의 startprice는 미낙찰 제품(sold=0)의 startprice보다 낮은 수준을 형성\n",
    "        - 기대가격(싯가)보다 비싸서 낙찰되지 않았다 OR 판매자의 기대가격이 싯가보다 높은 수준이었다\n",
    "- `color`\n",
    "    - 제품군별 공식 제품출시정보(domain knowledge)와 비교대조를 통한 정보 신뢰성 검증\n",
    "    - 부정확한 데이터가 많으며, 결측치도 상당한 수준으로 판단됨\n",
    "    - DROP\n",
    "\n",
    "\n",
    "### 혹시 모를 가능성 위해\n",
    "- `carrier`와 `color`가 결측치인지 아닌지를 구분하는 컬럼을 생성\n",
    "    - `has_carrier`\n",
    "    - `has_color`"
   ]
  },
  {
   "cell_type": "code",
   "execution_count": 403,
   "id": "civil-toolbox",
   "metadata": {},
   "outputs": [],
   "source": [
    "df = pd.read_csv('./data/galaxy.csv')"
   ]
  },
  {
   "cell_type": "code",
   "execution_count": 404,
   "id": "medium-kuwait",
   "metadata": {},
   "outputs": [],
   "source": [
    "df['has_carrier'] = df['carrier'].apply(lambda x: 0 if type(x) != str else 1)\n",
    "df['has_color'] = df['color'].apply(lambda x: 0 if type(x) != str else 1)"
   ]
  },
  {
   "cell_type": "code",
   "execution_count": 407,
   "id": "weekly-journalism",
   "metadata": {},
   "outputs": [],
   "source": [
    "# productline 결측값 대치 전에 has_productline도 별도 컬럼으로 생성\n",
    "df['has_productline'] = df['productline'].apply(lambda x: 0 if str(x).startswith('U') else 1)"
   ]
  },
  {
   "cell_type": "code",
   "execution_count": 408,
   "id": "eleven-berkeley",
   "metadata": {},
   "outputs": [],
   "source": [
    "df.loc[df['productline']=='Unknown', 'productline'] = 'Galaxy_S8'\n",
    "# 출시 시기 정보 - 빨리 나온 순서대로 1부터 ++1 순차 넘버링 (ordinal type)\n",
    "df['modelNumber'] = df['productline'].apply(lambda x: int(x.split('_')[1].strip('S').strip('Note'))-6\n",
    "                                            if x != 'Unknown' else x)\n",
    "# 노트 모델인지 일반 모델인지 정보 (binary type)\n",
    "df['isNote'] = df['productline'].apply(lambda x: x if x == 'Unknown' else 1 if 'Note' in x else 0)"
   ]
  },
  {
   "cell_type": "code",
   "execution_count": 409,
   "id": "institutional-builder",
   "metadata": {},
   "outputs": [],
   "source": [
    "df = df.drop('charCountDescription', axis=1)\n",
    "df['upperCaseDescription'] = df['upperCaseDescription'].apply(lambda x: 0 if x == 0 else 1)\n",
    "df['noDescription'] = df['noDescription'].apply(lambda x: 0 if x.startswith('c') else 1)\n",
    "df.rename(columns={'noDescription':'hasDescription'}, inplace=True)"
   ]
  },
  {
   "cell_type": "code",
   "execution_count": 410,
   "id": "disturbed-honor",
   "metadata": {},
   "outputs": [
    {
     "data": {
      "text/html": [
       "<div>\n",
       "<style scoped>\n",
       "    .dataframe tbody tr th:only-of-type {\n",
       "        vertical-align: middle;\n",
       "    }\n",
       "\n",
       "    .dataframe tbody tr th {\n",
       "        vertical-align: top;\n",
       "    }\n",
       "\n",
       "    .dataframe thead th {\n",
       "        text-align: right;\n",
       "    }\n",
       "</style>\n",
       "<table border=\"1\" class=\"dataframe\">\n",
       "  <thead>\n",
       "    <tr style=\"text-align: right;\">\n",
       "      <th></th>\n",
       "      <th>BuyItNow</th>\n",
       "      <th>startprice</th>\n",
       "      <th>hasDescription</th>\n",
       "      <th>upperCaseDescription</th>\n",
       "      <th>sold</th>\n",
       "      <th>has_carrier</th>\n",
       "      <th>has_color</th>\n",
       "      <th>has_productline</th>\n",
       "      <th>modelNumber</th>\n",
       "      <th>isNote</th>\n",
       "    </tr>\n",
       "  </thead>\n",
       "  <tbody>\n",
       "    <tr>\n",
       "      <th>0</th>\n",
       "      <td>0</td>\n",
       "      <td>199.99</td>\n",
       "      <td>0</td>\n",
       "      <td>0</td>\n",
       "      <td>1</td>\n",
       "      <td>1</td>\n",
       "      <td>1</td>\n",
       "      <td>1</td>\n",
       "      <td>3</td>\n",
       "      <td>0</td>\n",
       "    </tr>\n",
       "    <tr>\n",
       "      <th>1</th>\n",
       "      <td>0</td>\n",
       "      <td>235.00</td>\n",
       "      <td>0</td>\n",
       "      <td>0</td>\n",
       "      <td>0</td>\n",
       "      <td>1</td>\n",
       "      <td>0</td>\n",
       "      <td>1</td>\n",
       "      <td>3</td>\n",
       "      <td>1</td>\n",
       "    </tr>\n",
       "    <tr>\n",
       "      <th>2</th>\n",
       "      <td>0</td>\n",
       "      <td>199.99</td>\n",
       "      <td>1</td>\n",
       "      <td>1</td>\n",
       "      <td>0</td>\n",
       "      <td>0</td>\n",
       "      <td>0</td>\n",
       "      <td>0</td>\n",
       "      <td>2</td>\n",
       "      <td>0</td>\n",
       "    </tr>\n",
       "    <tr>\n",
       "      <th>3</th>\n",
       "      <td>1</td>\n",
       "      <td>175.00</td>\n",
       "      <td>0</td>\n",
       "      <td>0</td>\n",
       "      <td>1</td>\n",
       "      <td>1</td>\n",
       "      <td>1</td>\n",
       "      <td>1</td>\n",
       "      <td>3</td>\n",
       "      <td>1</td>\n",
       "    </tr>\n",
       "    <tr>\n",
       "      <th>4</th>\n",
       "      <td>1</td>\n",
       "      <td>100.00</td>\n",
       "      <td>0</td>\n",
       "      <td>0</td>\n",
       "      <td>1</td>\n",
       "      <td>1</td>\n",
       "      <td>1</td>\n",
       "      <td>1</td>\n",
       "      <td>2</td>\n",
       "      <td>0</td>\n",
       "    </tr>\n",
       "  </tbody>\n",
       "</table>\n",
       "</div>"
      ],
      "text/plain": [
       "   BuyItNow  startprice  hasDescription  upperCaseDescription  sold  \\\n",
       "0         0      199.99               0                     0     1   \n",
       "1         0      235.00               0                     0     0   \n",
       "2         0      199.99               1                     1     0   \n",
       "3         1      175.00               0                     0     1   \n",
       "4         1      100.00               0                     0     1   \n",
       "\n",
       "   has_carrier  has_color  has_productline  modelNumber  isNote  \n",
       "0            1          1                1            3       0  \n",
       "1            1          0                1            3       1  \n",
       "2            0          0                0            2       0  \n",
       "3            1          1                1            3       1  \n",
       "4            1          1                1            2       0  "
      ]
     },
     "execution_count": 410,
     "metadata": {},
     "output_type": "execute_result"
    }
   ],
   "source": [
    "df = df.drop(['carrier', 'color', 'productline'], axis=1)\n",
    "df.head()"
   ]
  },
  {
   "cell_type": "code",
   "execution_count": 411,
   "id": "clear-atlas",
   "metadata": {},
   "outputs": [
    {
     "data": {
      "text/plain": [
       "<AxesSubplot:>"
      ]
     },
     "execution_count": 411,
     "metadata": {},
     "output_type": "execute_result"
    },
    {
     "data": {
      "image/png": "[encoded data removed]",
      "text/plain": [
       "<Figure size 432x288 with 2 Axes>"
      ]
     },
     "metadata": {
      "needs_background": "light"
     },
     "output_type": "display_data"
    }
   ],
   "source": [
    "sns.heatmap(df.corr(), annot=True)"
   ]
  },
  {
   "cell_type": "code",
   "execution_count": 413,
   "id": "abandoned-practitioner",
   "metadata": {},
   "outputs": [],
   "source": [
    "df.to_csv('./data/galaxy-cleaned.csv', encoding='utf-8-sig')"
   ]
  },
  {
   "cell_type": "code",
   "execution_count": 418,
   "id": "controlled-banking",
   "metadata": {},
   "outputs": [],
   "source": [
    "df_scaled = pd.concat([df.drop('startprice', axis=1), scaled_df], axis=1)\n",
    "df_scaled.to_csv('./data/galaxy-cleaned-scaled.csv', encoding='utf-8-sig')"
   ]
  },
  {
   "cell_type": "code",
   "execution_count": null,
   "id": "certain-playback",
   "metadata": {},
   "outputs": [],
   "source": []
  },
  {
   "cell_type": "code",
   "execution_count": null,
   "id": "actual-engineering",
   "metadata": {},
   "outputs": [],
   "source": []
  },
  {
   "cell_type": "markdown",
   "id": "determined-abuse",
   "metadata": {},
   "source": [
    "# Standardize"
   ]
  },
  {
   "cell_type": "code",
   "execution_count": 414,
   "id": "latest-absorption",
   "metadata": {},
   "outputs": [],
   "source": [
    "# Get column names first\n",
    "columns_to_standardize = ['startprice']\n",
    "scaler = preprocessing.StandardScaler()\n",
    "scaled_df = scaler.fit_transform(df[columns_to_standardize])\n",
    "scaled_df = pd.DataFrame(scaled_df, columns=columns_to_standardize)"
   ]
  },
  {
   "cell_type": "code",
   "execution_count": 415,
   "id": "selected-medication",
   "metadata": {},
   "outputs": [
    {
     "data": {
      "text/html": [
       "<div>\n",
       "<style scoped>\n",
       "    .dataframe tbody tr th:only-of-type {\n",
       "        vertical-align: middle;\n",
       "    }\n",
       "\n",
       "    .dataframe tbody tr th {\n",
       "        vertical-align: top;\n",
       "    }\n",
       "\n",
       "    .dataframe thead th {\n",
       "        text-align: right;\n",
       "    }\n",
       "</style>\n",
       "<table border=\"1\" class=\"dataframe\">\n",
       "  <thead>\n",
       "    <tr style=\"text-align: right;\">\n",
       "      <th></th>\n",
       "      <th>startprice</th>\n",
       "    </tr>\n",
       "  </thead>\n",
       "  <tbody>\n",
       "    <tr>\n",
       "      <th>0</th>\n",
       "      <td>-0.097516</td>\n",
       "    </tr>\n",
       "    <tr>\n",
       "      <th>1</th>\n",
       "      <td>0.105047</td>\n",
       "    </tr>\n",
       "    <tr>\n",
       "      <th>2</th>\n",
       "      <td>-0.097516</td>\n",
       "    </tr>\n",
       "    <tr>\n",
       "      <th>3</th>\n",
       "      <td>-0.242105</td>\n",
       "    </tr>\n",
       "    <tr>\n",
       "      <th>4</th>\n",
       "      <td>-0.676044</td>\n",
       "    </tr>\n",
       "    <tr>\n",
       "      <th>...</th>\n",
       "      <td>...</td>\n",
       "    </tr>\n",
       "    <tr>\n",
       "      <th>1480</th>\n",
       "      <td>-0.736796</td>\n",
       "    </tr>\n",
       "    <tr>\n",
       "      <th>1481</th>\n",
       "      <td>0.133687</td>\n",
       "    </tr>\n",
       "    <tr>\n",
       "      <th>1482</th>\n",
       "      <td>0.654646</td>\n",
       "    </tr>\n",
       "    <tr>\n",
       "      <th>1483</th>\n",
       "      <td>-0.739689</td>\n",
       "    </tr>\n",
       "    <tr>\n",
       "      <th>1484</th>\n",
       "      <td>-0.560385</td>\n",
       "    </tr>\n",
       "  </tbody>\n",
       "</table>\n",
       "<p>1485 rows × 1 columns</p>\n",
       "</div>"
      ],
      "text/plain": [
       "      startprice\n",
       "0      -0.097516\n",
       "1       0.105047\n",
       "2      -0.097516\n",
       "3      -0.242105\n",
       "4      -0.676044\n",
       "...          ...\n",
       "1480   -0.736796\n",
       "1481    0.133687\n",
       "1482    0.654646\n",
       "1483   -0.739689\n",
       "1484   -0.560385\n",
       "\n",
       "[1485 rows x 1 columns]"
      ]
     },
     "execution_count": 415,
     "metadata": {},
     "output_type": "execute_result"
    }
   ],
   "source": [
    "scaled_df"
   ]
  },
  {
   "cell_type": "code",
   "execution_count": 416,
   "id": "streaming-figure",
   "metadata": {},
   "outputs": [
    {
     "data": {
      "text/plain": [
       "<AxesSubplot:xlabel='startprice', ylabel='Count'>"
      ]
     },
     "execution_count": 416,
     "metadata": {},
     "output_type": "execute_result"
    },
    {
     "data": {
      "image/png": "[encoded data removed]",
      "text/plain": [
       "<Figure size 432x288 with 1 Axes>"
      ]
     },
     "metadata": {
      "needs_background": "light"
     },
     "output_type": "display_data"
    }
   ],
   "source": [
    "sns.histplot(scaled_df['startprice'])"
   ]
  },
  {
   "cell_type": "code",
   "execution_count": 417,
   "id": "roman-portsmouth",
   "metadata": {},
   "outputs": [
    {
     "data": {
      "text/plain": [
       "<AxesSubplot:xlabel='startprice', ylabel='Count'>"
      ]
     },
     "execution_count": 417,
     "metadata": {},
     "output_type": "execute_result"
    },
    {
     "data": {
      "image/png": "[encoded data removed]",
      "text/plain": [
       "<Figure size 432x288 with 1 Axes>"
      ]
     },
     "metadata": {
      "needs_background": "light"
     },
     "output_type": "display_data"
    }
   ],
   "source": [
    "sns.histplot(df['startprice'])"
   ]
  },
  {
   "cell_type": "code",
   "execution_count": null,
   "id": "catholic-honolulu",
   "metadata": {},
   "outputs": [],
   "source": []
  },
  {
   "cell_type": "code",
   "execution_count": 8,
   "id": "negative-quality",
   "metadata": {},
   "outputs": [
    {
     "data": {
      "text/plain": [
       "<AxesSubplot:xlabel='charCountDescription', ylabel='Count'>"
      ]
     },
     "execution_count": 8,
     "metadata": {},
     "output_type": "execute_result"
    },
    {
     "data": {
      "image/png": "[encoded data removed]",
      "text/plain": [
       "<Figure size 432x288 with 1 Axes>"
      ]
     },
     "metadata": {
      "needs_background": "light"
     },
     "output_type": "display_data"
    }
   ],
   "source": [
    "sns.histplot(scaled_df['charCountDescription'])"
   ]
  },
  {
   "cell_type": "code",
   "execution_count": 9,
   "id": "operating-combining",
   "metadata": {},
   "outputs": [
    {
     "data": {
      "text/plain": [
       "<AxesSubplot:xlabel='upperCaseDescription', ylabel='Count'>"
      ]
     },
     "execution_count": 9,
     "metadata": {},
     "output_type": "execute_result"
    },
    {
     "data": {
      "image/png": "[encoded data removed]",
      "text/plain": [
       "<Figure size 432x288 with 1 Axes>"
      ]
     },
     "metadata": {
      "needs_background": "light"
     },
     "output_type": "display_data"
    }
   ],
   "source": [
    "sns.histplot(scaled_df['upperCaseDescription'])"
   ]
  },
  {
   "cell_type": "code",
   "execution_count": null,
   "id": "sunrise-fraud",
   "metadata": {},
   "outputs": [],
   "source": []
  },
  {
   "cell_type": "code",
   "execution_count": null,
   "id": "exact-taste",
   "metadata": {},
   "outputs": [],
   "source": []
  }
 ],
 "metadata": {
  "kernelspec": {
   "display_name": "Python 3",
   "language": "python",
   "name": "python3"
  },
  "language_info": {
   "codemirror_mode": {
    "name": "ipython",
    "version": 3
   },
   "file_extension": ".py",
   "mimetype": "text/x-python",
   "name": "python",
   "nbconvert_exporter": "python",
   "pygments_lexer": "ipython3",
   "version": "3.7.9"
  }
 },
 "nbformat": 4,
 "nbformat_minor": 5
}

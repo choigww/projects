{
 "cells": [
  {
   "cell_type": "code",
   "execution_count": 152,
   "id": "unknown-vegetation",
   "metadata": {},
   "outputs": [],
   "source": [
    "import pandas as pd\n",
    "import numpy as np\n",
    "import matplotlib.pyplot as plt\n",
    "import seaborn as sns\n",
    "\n",
    "from sklearn.linear_model import LogisticRegression\n",
    "from sklearn.naive_bayes import GaussianNB\n",
    "from sklearn.ensemble import RandomForestClassifier, VotingClassifier\n",
    "from sklearn.ensemble import GradientBoostingClassifier\n",
    "from xgboost import XGBClassifier\n",
    "\n",
    "from sklearn.model_selection import StratifiedKFold\n",
    "from sklearn.model_selection import train_test_split, GridSearchCV\n",
    "\n",
    "from sklearn.metrics import accuracy_score, precision_score, recall_score, confusion_matrix, f1_score\n",
    "\n",
    "from missingpy import MissForest"
   ]
  },
  {
   "cell_type": "code",
   "execution_count": 2,
   "id": "angry-nurse",
   "metadata": {},
   "outputs": [],
   "source": [
    "df = pd.read_csv('./data/galaxy.csv')\n",
    "df_cleaned = pd.read_csv('./data/galaxy-cleaned.csv', index_col=0)\n",
    "df_cleaned_scaled = pd.read_csv('./data/galaxy-cleaned-scaled.csv', index_col=0)"
   ]
  },
  {
   "cell_type": "code",
   "execution_count": null,
   "id": "promising-precipitation",
   "metadata": {},
   "outputs": [],
   "source": []
  },
  {
   "cell_type": "code",
   "execution_count": null,
   "id": "continental-archive",
   "metadata": {},
   "outputs": [],
   "source": []
  },
  {
   "cell_type": "markdown",
   "id": "southern-frontier",
   "metadata": {},
   "source": [
    "# 만족스럽지 못한 성능!\n",
    "- 각 model에 대한 '싯가' 관련 feature engineering을 추가하면 어떨까?\n",
    "    - 각 model에 대한 싯가 분포를 구하고, startprice 관측값이 해당 분포에서 확률이 어떻게 되는지 알 수 있을까?\n",
    "    "
   ]
  },
  {
   "cell_type": "code",
   "execution_count": 3,
   "id": "comfortable-allowance",
   "metadata": {},
   "outputs": [
    {
     "data": {
      "text/html": [
       "<div>\n",
       "<style scoped>\n",
       "    .dataframe tbody tr th:only-of-type {\n",
       "        vertical-align: middle;\n",
       "    }\n",
       "\n",
       "    .dataframe tbody tr th {\n",
       "        vertical-align: top;\n",
       "    }\n",
       "\n",
       "    .dataframe thead th {\n",
       "        text-align: right;\n",
       "    }\n",
       "</style>\n",
       "<table border=\"1\" class=\"dataframe\">\n",
       "  <thead>\n",
       "    <tr style=\"text-align: right;\">\n",
       "      <th></th>\n",
       "      <th>BuyItNow</th>\n",
       "      <th>startprice</th>\n",
       "      <th>hasDescription</th>\n",
       "      <th>upperCaseDescription</th>\n",
       "      <th>sold</th>\n",
       "      <th>has_carrier</th>\n",
       "      <th>has_color</th>\n",
       "      <th>has_productline</th>\n",
       "      <th>modelNumber</th>\n",
       "      <th>isNote</th>\n",
       "    </tr>\n",
       "  </thead>\n",
       "  <tbody>\n",
       "    <tr>\n",
       "      <th>0</th>\n",
       "      <td>0</td>\n",
       "      <td>199.99</td>\n",
       "      <td>0</td>\n",
       "      <td>0</td>\n",
       "      <td>1</td>\n",
       "      <td>1</td>\n",
       "      <td>1</td>\n",
       "      <td>1</td>\n",
       "      <td>3</td>\n",
       "      <td>0</td>\n",
       "    </tr>\n",
       "    <tr>\n",
       "      <th>1</th>\n",
       "      <td>0</td>\n",
       "      <td>235.00</td>\n",
       "      <td>0</td>\n",
       "      <td>0</td>\n",
       "      <td>0</td>\n",
       "      <td>1</td>\n",
       "      <td>0</td>\n",
       "      <td>1</td>\n",
       "      <td>3</td>\n",
       "      <td>1</td>\n",
       "    </tr>\n",
       "    <tr>\n",
       "      <th>2</th>\n",
       "      <td>0</td>\n",
       "      <td>199.99</td>\n",
       "      <td>1</td>\n",
       "      <td>1</td>\n",
       "      <td>0</td>\n",
       "      <td>0</td>\n",
       "      <td>0</td>\n",
       "      <td>0</td>\n",
       "      <td>2</td>\n",
       "      <td>0</td>\n",
       "    </tr>\n",
       "    <tr>\n",
       "      <th>3</th>\n",
       "      <td>1</td>\n",
       "      <td>175.00</td>\n",
       "      <td>0</td>\n",
       "      <td>0</td>\n",
       "      <td>1</td>\n",
       "      <td>1</td>\n",
       "      <td>1</td>\n",
       "      <td>1</td>\n",
       "      <td>3</td>\n",
       "      <td>1</td>\n",
       "    </tr>\n",
       "    <tr>\n",
       "      <th>4</th>\n",
       "      <td>1</td>\n",
       "      <td>100.00</td>\n",
       "      <td>0</td>\n",
       "      <td>0</td>\n",
       "      <td>1</td>\n",
       "      <td>1</td>\n",
       "      <td>1</td>\n",
       "      <td>1</td>\n",
       "      <td>2</td>\n",
       "      <td>0</td>\n",
       "    </tr>\n",
       "    <tr>\n",
       "      <th>...</th>\n",
       "      <td>...</td>\n",
       "      <td>...</td>\n",
       "      <td>...</td>\n",
       "      <td>...</td>\n",
       "      <td>...</td>\n",
       "      <td>...</td>\n",
       "      <td>...</td>\n",
       "      <td>...</td>\n",
       "      <td>...</td>\n",
       "      <td>...</td>\n",
       "    </tr>\n",
       "    <tr>\n",
       "      <th>1480</th>\n",
       "      <td>0</td>\n",
       "      <td>89.50</td>\n",
       "      <td>1</td>\n",
       "      <td>1</td>\n",
       "      <td>0</td>\n",
       "      <td>1</td>\n",
       "      <td>0</td>\n",
       "      <td>1</td>\n",
       "      <td>1</td>\n",
       "      <td>0</td>\n",
       "    </tr>\n",
       "    <tr>\n",
       "      <th>1481</th>\n",
       "      <td>0</td>\n",
       "      <td>239.95</td>\n",
       "      <td>1</td>\n",
       "      <td>1</td>\n",
       "      <td>1</td>\n",
       "      <td>1</td>\n",
       "      <td>1</td>\n",
       "      <td>1</td>\n",
       "      <td>3</td>\n",
       "      <td>0</td>\n",
       "    </tr>\n",
       "    <tr>\n",
       "      <th>1482</th>\n",
       "      <td>0</td>\n",
       "      <td>329.99</td>\n",
       "      <td>1</td>\n",
       "      <td>1</td>\n",
       "      <td>0</td>\n",
       "      <td>1</td>\n",
       "      <td>1</td>\n",
       "      <td>1</td>\n",
       "      <td>4</td>\n",
       "      <td>1</td>\n",
       "    </tr>\n",
       "    <tr>\n",
       "      <th>1483</th>\n",
       "      <td>0</td>\n",
       "      <td>89.00</td>\n",
       "      <td>1</td>\n",
       "      <td>1</td>\n",
       "      <td>1</td>\n",
       "      <td>1</td>\n",
       "      <td>1</td>\n",
       "      <td>1</td>\n",
       "      <td>1</td>\n",
       "      <td>0</td>\n",
       "    </tr>\n",
       "    <tr>\n",
       "      <th>1484</th>\n",
       "      <td>0</td>\n",
       "      <td>119.99</td>\n",
       "      <td>1</td>\n",
       "      <td>1</td>\n",
       "      <td>0</td>\n",
       "      <td>1</td>\n",
       "      <td>1</td>\n",
       "      <td>1</td>\n",
       "      <td>1</td>\n",
       "      <td>0</td>\n",
       "    </tr>\n",
       "  </tbody>\n",
       "</table>\n",
       "<p>1485 rows × 10 columns</p>\n",
       "</div>"
      ],
      "text/plain": [
       "      BuyItNow  startprice  hasDescription  upperCaseDescription  sold  \\\n",
       "0            0      199.99               0                     0     1   \n",
       "1            0      235.00               0                     0     0   \n",
       "2            0      199.99               1                     1     0   \n",
       "3            1      175.00               0                     0     1   \n",
       "4            1      100.00               0                     0     1   \n",
       "...        ...         ...             ...                   ...   ...   \n",
       "1480         0       89.50               1                     1     0   \n",
       "1481         0      239.95               1                     1     1   \n",
       "1482         0      329.99               1                     1     0   \n",
       "1483         0       89.00               1                     1     1   \n",
       "1484         0      119.99               1                     1     0   \n",
       "\n",
       "      has_carrier  has_color  has_productline  modelNumber  isNote  \n",
       "0               1          1                1            3       0  \n",
       "1               1          0                1            3       1  \n",
       "2               0          0                0            2       0  \n",
       "3               1          1                1            3       1  \n",
       "4               1          1                1            2       0  \n",
       "...           ...        ...              ...          ...     ...  \n",
       "1480            1          0                1            1       0  \n",
       "1481            1          1                1            3       0  \n",
       "1482            1          1                1            4       1  \n",
       "1483            1          1                1            1       0  \n",
       "1484            1          1                1            1       0  \n",
       "\n",
       "[1485 rows x 10 columns]"
      ]
     },
     "execution_count": 3,
     "metadata": {},
     "output_type": "execute_result"
    }
   ],
   "source": [
    "df_cleaned"
   ]
  },
  {
   "cell_type": "code",
   "execution_count": 28,
   "id": "theoretical-bible",
   "metadata": {},
   "outputs": [
    {
     "data": {
      "text/plain": [
       "<AxesSubplot:>"
      ]
     },
     "execution_count": 28,
     "metadata": {},
     "output_type": "execute_result"
    },
    {
     "data": {
      "image/png": "[encoded data removed]",
      "text/plain": [
       "<Figure size 576x576 with 2 Axes>"
      ]
     },
     "metadata": {
      "needs_background": "light"
     },
     "output_type": "display_data"
    }
   ],
   "source": [
    "plt.figure(figsize=(8,8))\n",
    "sns.heatmap(df_cleaned.corr(), annot=True)"
   ]
  },
  {
   "cell_type": "code",
   "execution_count": 29,
   "id": "sixth-slovakia",
   "metadata": {},
   "outputs": [],
   "source": []
  },
  {
   "cell_type": "code",
   "execution_count": 28,
   "id": "separated-spirit",
   "metadata": {},
   "outputs": [],
   "source": [
    "# has_color, has_carrier, has_productline 정보\n",
    "hasColor = df_cleaned['has_color']\n",
    "hasProduct = df_cleaned['has_productline']\n",
    "hasCarrier = df_cleaned['has_carrier']\n",
    "\n",
    "perfectInfo = ((hasColor==1) & (hasProduct==1) & (hasCarrier==1))\n",
    "leastInfo = ((hasColor==1) | (hasProduct==1) | (hasCarrier==1))\n",
    "zeroInfo = ((hasColor==0) & (hasProduct==0) & (hasCarrier==0))"
   ]
  },
  {
   "cell_type": "code",
   "execution_count": 22,
   "id": "powerful-curtis",
   "metadata": {},
   "outputs": [
    {
     "data": {
      "text/plain": [
       "(2.6251748251748253, 2.0)"
      ]
     },
     "execution_count": 22,
     "metadata": {},
     "output_type": "execute_result"
    }
   ],
   "source": [
    "df_cleaned[perfectInfo]['modelNumber'].mean(), df_cleaned[zeroInfo]['modelNumber'].mean()"
   ]
  },
  {
   "cell_type": "code",
   "execution_count": 23,
   "id": "invalid-highway",
   "metadata": {},
   "outputs": [
    {
     "data": {
      "text/plain": [
       "(0.4937062937062937, 0.41509433962264153)"
      ]
     },
     "execution_count": 23,
     "metadata": {},
     "output_type": "execute_result"
    }
   ],
   "source": [
    "df_cleaned[perfectInfo]['sold'].mean(), df_cleaned[zeroInfo]['sold'].mean()"
   ]
  },
  {
   "cell_type": "code",
   "execution_count": 36,
   "id": "lucky-police",
   "metadata": {},
   "outputs": [
    {
     "name": "stderr",
     "output_type": "stream",
     "text": [
      "/opt/anaconda3/envs/AI_dev/lib/python3.7/site-packages/ipykernel_launcher.py:1: UserWarning: Boolean Series key will be reindexed to match DataFrame index.\n",
      "  \"\"\"Entry point for launching an IPython kernel.\n",
      "/opt/anaconda3/envs/AI_dev/lib/python3.7/site-packages/ipykernel_launcher.py:2: UserWarning: Boolean Series key will be reindexed to match DataFrame index.\n",
      "  \n"
     ]
    },
    {
     "data": {
      "text/plain": [
       "<matplotlib.legend.Legend at 0x1a1c942250>"
      ]
     },
     "execution_count": 36,
     "metadata": {},
     "output_type": "execute_result"
    },
    {
     "data": {
      "image/png": "[encoded data removed]",
      "text/plain": [
       "<Figure size 432x288 with 1 Axes>"
      ]
     },
     "metadata": {
      "needs_background": "light"
     },
     "output_type": "display_data"
    }
   ],
   "source": [
    "sns.histplot(df_cleaned[perfectInfo][df_cleaned['sold']==1]['startprice'], color='red')\n",
    "sns.histplot(df_cleaned[perfectInfo][df_cleaned['sold']==0]['startprice'])\n",
    "plt.legend(['perfectInfo, Sold=1', 'perfectInfo, Sold=0'])"
   ]
  },
  {
   "cell_type": "code",
   "execution_count": 34,
   "id": "inner-resident",
   "metadata": {},
   "outputs": [
    {
     "name": "stderr",
     "output_type": "stream",
     "text": [
      "/opt/anaconda3/envs/AI_dev/lib/python3.7/site-packages/ipykernel_launcher.py:1: UserWarning: Boolean Series key will be reindexed to match DataFrame index.\n",
      "  \"\"\"Entry point for launching an IPython kernel.\n",
      "/opt/anaconda3/envs/AI_dev/lib/python3.7/site-packages/ipykernel_launcher.py:2: UserWarning: Boolean Series key will be reindexed to match DataFrame index.\n",
      "  \n",
      "/opt/anaconda3/envs/AI_dev/lib/python3.7/site-packages/ipykernel_launcher.py:3: UserWarning: Boolean Series key will be reindexed to match DataFrame index.\n",
      "  This is separate from the ipykernel package so we can avoid doing imports until\n",
      "/opt/anaconda3/envs/AI_dev/lib/python3.7/site-packages/ipykernel_launcher.py:4: UserWarning: Boolean Series key will be reindexed to match DataFrame index.\n",
      "  after removing the cwd from sys.path.\n"
     ]
    },
    {
     "name": "stdout",
     "output_type": "stream",
     "text": [
      "642 737\n"
     ]
    },
    {
     "data": {
      "image/png": "[encoded data removed]",
      "text/plain": [
       "<Figure size 432x288 with 1 Axes>"
      ]
     },
     "metadata": {
      "needs_background": "light"
     },
     "output_type": "display_data"
    }
   ],
   "source": [
    "print(len(df_cleaned[leastInfo][df_cleaned['sold']==1]['startprice']),\n",
    "         len(df_cleaned[leastInfo][df_cleaned['sold']==0]['startprice']))\n",
    "sns.histplot(df_cleaned[leastInfo][df_cleaned['sold']==1]['startprice'], color='red')\n",
    "sns.histplot(df_cleaned[leastInfo][df_cleaned['sold']==0]['startprice'])\n",
    "plt.legend(['leastInfo, Sold=1', 'leastInfo, Sold=0'])\n",
    "plt.show()"
   ]
  },
  {
   "cell_type": "code",
   "execution_count": 35,
   "id": "neutral-virginia",
   "metadata": {},
   "outputs": [
    {
     "name": "stdout",
     "output_type": "stream",
     "text": [
      "44 62\n"
     ]
    },
    {
     "name": "stderr",
     "output_type": "stream",
     "text": [
      "/opt/anaconda3/envs/AI_dev/lib/python3.7/site-packages/ipykernel_launcher.py:1: UserWarning: Boolean Series key will be reindexed to match DataFrame index.\n",
      "  \"\"\"Entry point for launching an IPython kernel.\n",
      "/opt/anaconda3/envs/AI_dev/lib/python3.7/site-packages/ipykernel_launcher.py:2: UserWarning: Boolean Series key will be reindexed to match DataFrame index.\n",
      "  \n",
      "/opt/anaconda3/envs/AI_dev/lib/python3.7/site-packages/ipykernel_launcher.py:3: UserWarning: Boolean Series key will be reindexed to match DataFrame index.\n",
      "  This is separate from the ipykernel package so we can avoid doing imports until\n",
      "/opt/anaconda3/envs/AI_dev/lib/python3.7/site-packages/ipykernel_launcher.py:4: UserWarning: Boolean Series key will be reindexed to match DataFrame index.\n",
      "  after removing the cwd from sys.path.\n"
     ]
    },
    {
     "data": {
      "image/png": "[encoded data removed]",
      "text/plain": [
       "<Figure size 432x288 with 1 Axes>"
      ]
     },
     "metadata": {
      "needs_background": "light"
     },
     "output_type": "display_data"
    }
   ],
   "source": [
    "print(len(df_cleaned[zeroInfo][df_cleaned['sold']==1]['startprice']),\n",
    "         len(df_cleaned[zeroInfo][df_cleaned['sold']==0]['startprice']))\n",
    "sns.histplot(df_cleaned[zeroInfo][df_cleaned['sold']==1]['startprice'], color='red')\n",
    "sns.histplot(df_cleaned[zeroInfo][df_cleaned['sold']==0]['startprice'])\n",
    "plt.legend(['zeroInfo, Sold=1', 'zeroInfo, Sold=0'])\n",
    "plt.show()"
   ]
  },
  {
   "cell_type": "code",
   "execution_count": null,
   "id": "trying-greek",
   "metadata": {},
   "outputs": [],
   "source": []
  },
  {
   "cell_type": "markdown",
   "id": "unlimited-cleaner",
   "metadata": {},
   "source": [
    "# Additional Drop & one-hot-encode `modelNumber`\n",
    "`drop_first`=True or False?\n",
    "- https://towardsdatascience.com/one-hot-encoding-multicollinearity-and-the-dummy-variable-trap-b5840be3c41a"
   ]
  },
  {
   "cell_type": "code",
   "execution_count": 37,
   "id": "configured-officer",
   "metadata": {},
   "outputs": [
    {
     "data": {
      "text/html": [
       "<div>\n",
       "<style scoped>\n",
       "    .dataframe tbody tr th:only-of-type {\n",
       "        vertical-align: middle;\n",
       "    }\n",
       "\n",
       "    .dataframe tbody tr th {\n",
       "        vertical-align: top;\n",
       "    }\n",
       "\n",
       "    .dataframe thead th {\n",
       "        text-align: right;\n",
       "    }\n",
       "</style>\n",
       "<table border=\"1\" class=\"dataframe\">\n",
       "  <thead>\n",
       "    <tr style=\"text-align: right;\">\n",
       "      <th></th>\n",
       "      <th>BuyItNow</th>\n",
       "      <th>startprice</th>\n",
       "      <th>hasDescription</th>\n",
       "      <th>sold</th>\n",
       "      <th>modelNumber</th>\n",
       "      <th>isNote</th>\n",
       "    </tr>\n",
       "  </thead>\n",
       "  <tbody>\n",
       "    <tr>\n",
       "      <th>0</th>\n",
       "      <td>0</td>\n",
       "      <td>199.99</td>\n",
       "      <td>0</td>\n",
       "      <td>1</td>\n",
       "      <td>3</td>\n",
       "      <td>0</td>\n",
       "    </tr>\n",
       "    <tr>\n",
       "      <th>1</th>\n",
       "      <td>0</td>\n",
       "      <td>235.00</td>\n",
       "      <td>0</td>\n",
       "      <td>0</td>\n",
       "      <td>3</td>\n",
       "      <td>1</td>\n",
       "    </tr>\n",
       "    <tr>\n",
       "      <th>2</th>\n",
       "      <td>0</td>\n",
       "      <td>199.99</td>\n",
       "      <td>1</td>\n",
       "      <td>0</td>\n",
       "      <td>2</td>\n",
       "      <td>0</td>\n",
       "    </tr>\n",
       "    <tr>\n",
       "      <th>3</th>\n",
       "      <td>1</td>\n",
       "      <td>175.00</td>\n",
       "      <td>0</td>\n",
       "      <td>1</td>\n",
       "      <td>3</td>\n",
       "      <td>1</td>\n",
       "    </tr>\n",
       "    <tr>\n",
       "      <th>4</th>\n",
       "      <td>1</td>\n",
       "      <td>100.00</td>\n",
       "      <td>0</td>\n",
       "      <td>1</td>\n",
       "      <td>2</td>\n",
       "      <td>0</td>\n",
       "    </tr>\n",
       "  </tbody>\n",
       "</table>\n",
       "</div>"
      ],
      "text/plain": [
       "   BuyItNow  startprice  hasDescription  sold  modelNumber  isNote\n",
       "0         0      199.99               0     1            3       0\n",
       "1         0      235.00               0     0            3       1\n",
       "2         0      199.99               1     0            2       0\n",
       "3         1      175.00               0     1            3       1\n",
       "4         1      100.00               0     1            2       0"
      ]
     },
     "execution_count": 37,
     "metadata": {},
     "output_type": "execute_result"
    }
   ],
   "source": [
    "# hasDescription과 upperCaseDescription은 거의 동일한 정보\n",
    "df_cleaned = df_cleaned.drop('upperCaseDescription', axis=1)\n",
    "\n",
    "# has_color, has_productline, has_carrier는 가격과 거의 상관없는 정보\n",
    "df_cleaned = df_cleaned.drop(['has_color',\n",
    "                              'has_productline',\n",
    "                              'has_carrier'], axis=1)\n",
    "\n",
    "df_cleaned.head()"
   ]
  },
  {
   "cell_type": "code",
   "execution_count": 40,
   "id": "boolean-ranch",
   "metadata": {},
   "outputs": [],
   "source": [
    "modelNumber_dummies = pd.get_dummies(df_cleaned['modelNumber'], prefix='modelNumber')\n",
    "modelNumber_dummies_df = pd.get_dummies(df_cleaned['modelNumber'], drop_first=True, prefix='modelNumber')\n",
    "\n",
    "df_cleaned1 = pd.concat([df_cleaned,modelNumber_dummies], axis=1).drop('modelNumber', axis=1)\n",
    "df_cleaned2 = pd.concat([df_cleaned,modelNumber_dummies_df], axis=1).drop('modelNumber', axis=1)"
   ]
  },
  {
   "cell_type": "code",
   "execution_count": 41,
   "id": "received-airline",
   "metadata": {},
   "outputs": [
    {
     "data": {
      "text/html": [
       "<div>\n",
       "<style scoped>\n",
       "    .dataframe tbody tr th:only-of-type {\n",
       "        vertical-align: middle;\n",
       "    }\n",
       "\n",
       "    .dataframe tbody tr th {\n",
       "        vertical-align: top;\n",
       "    }\n",
       "\n",
       "    .dataframe thead th {\n",
       "        text-align: right;\n",
       "    }\n",
       "</style>\n",
       "<table border=\"1\" class=\"dataframe\">\n",
       "  <thead>\n",
       "    <tr style=\"text-align: right;\">\n",
       "      <th></th>\n",
       "      <th>BuyItNow</th>\n",
       "      <th>startprice</th>\n",
       "      <th>hasDescription</th>\n",
       "      <th>sold</th>\n",
       "      <th>isNote</th>\n",
       "      <th>modelNumber_1</th>\n",
       "      <th>modelNumber_2</th>\n",
       "      <th>modelNumber_3</th>\n",
       "      <th>modelNumber_4</th>\n",
       "    </tr>\n",
       "  </thead>\n",
       "  <tbody>\n",
       "    <tr>\n",
       "      <th>0</th>\n",
       "      <td>0</td>\n",
       "      <td>199.99</td>\n",
       "      <td>0</td>\n",
       "      <td>1</td>\n",
       "      <td>0</td>\n",
       "      <td>0</td>\n",
       "      <td>0</td>\n",
       "      <td>1</td>\n",
       "      <td>0</td>\n",
       "    </tr>\n",
       "    <tr>\n",
       "      <th>1</th>\n",
       "      <td>0</td>\n",
       "      <td>235.00</td>\n",
       "      <td>0</td>\n",
       "      <td>0</td>\n",
       "      <td>1</td>\n",
       "      <td>0</td>\n",
       "      <td>0</td>\n",
       "      <td>1</td>\n",
       "      <td>0</td>\n",
       "    </tr>\n",
       "    <tr>\n",
       "      <th>2</th>\n",
       "      <td>0</td>\n",
       "      <td>199.99</td>\n",
       "      <td>1</td>\n",
       "      <td>0</td>\n",
       "      <td>0</td>\n",
       "      <td>0</td>\n",
       "      <td>1</td>\n",
       "      <td>0</td>\n",
       "      <td>0</td>\n",
       "    </tr>\n",
       "    <tr>\n",
       "      <th>3</th>\n",
       "      <td>1</td>\n",
       "      <td>175.00</td>\n",
       "      <td>0</td>\n",
       "      <td>1</td>\n",
       "      <td>1</td>\n",
       "      <td>0</td>\n",
       "      <td>0</td>\n",
       "      <td>1</td>\n",
       "      <td>0</td>\n",
       "    </tr>\n",
       "    <tr>\n",
       "      <th>4</th>\n",
       "      <td>1</td>\n",
       "      <td>100.00</td>\n",
       "      <td>0</td>\n",
       "      <td>1</td>\n",
       "      <td>0</td>\n",
       "      <td>0</td>\n",
       "      <td>1</td>\n",
       "      <td>0</td>\n",
       "      <td>0</td>\n",
       "    </tr>\n",
       "  </tbody>\n",
       "</table>\n",
       "</div>"
      ],
      "text/plain": [
       "   BuyItNow  startprice  hasDescription  sold  isNote  modelNumber_1  \\\n",
       "0         0      199.99               0     1       0              0   \n",
       "1         0      235.00               0     0       1              0   \n",
       "2         0      199.99               1     0       0              0   \n",
       "3         1      175.00               0     1       1              0   \n",
       "4         1      100.00               0     1       0              0   \n",
       "\n",
       "   modelNumber_2  modelNumber_3  modelNumber_4  \n",
       "0              0              1              0  \n",
       "1              0              1              0  \n",
       "2              1              0              0  \n",
       "3              0              1              0  \n",
       "4              1              0              0  "
      ]
     },
     "execution_count": 41,
     "metadata": {},
     "output_type": "execute_result"
    }
   ],
   "source": [
    "df_cleaned1.head()"
   ]
  },
  {
   "cell_type": "code",
   "execution_count": 42,
   "id": "norwegian-folder",
   "metadata": {},
   "outputs": [
    {
     "data": {
      "text/html": [
       "<div>\n",
       "<style scoped>\n",
       "    .dataframe tbody tr th:only-of-type {\n",
       "        vertical-align: middle;\n",
       "    }\n",
       "\n",
       "    .dataframe tbody tr th {\n",
       "        vertical-align: top;\n",
       "    }\n",
       "\n",
       "    .dataframe thead th {\n",
       "        text-align: right;\n",
       "    }\n",
       "</style>\n",
       "<table border=\"1\" class=\"dataframe\">\n",
       "  <thead>\n",
       "    <tr style=\"text-align: right;\">\n",
       "      <th></th>\n",
       "      <th>BuyItNow</th>\n",
       "      <th>startprice</th>\n",
       "      <th>hasDescription</th>\n",
       "      <th>sold</th>\n",
       "      <th>isNote</th>\n",
       "      <th>modelNumber_2</th>\n",
       "      <th>modelNumber_3</th>\n",
       "      <th>modelNumber_4</th>\n",
       "    </tr>\n",
       "  </thead>\n",
       "  <tbody>\n",
       "    <tr>\n",
       "      <th>0</th>\n",
       "      <td>0</td>\n",
       "      <td>199.99</td>\n",
       "      <td>0</td>\n",
       "      <td>1</td>\n",
       "      <td>0</td>\n",
       "      <td>0</td>\n",
       "      <td>1</td>\n",
       "      <td>0</td>\n",
       "    </tr>\n",
       "    <tr>\n",
       "      <th>1</th>\n",
       "      <td>0</td>\n",
       "      <td>235.00</td>\n",
       "      <td>0</td>\n",
       "      <td>0</td>\n",
       "      <td>1</td>\n",
       "      <td>0</td>\n",
       "      <td>1</td>\n",
       "      <td>0</td>\n",
       "    </tr>\n",
       "    <tr>\n",
       "      <th>2</th>\n",
       "      <td>0</td>\n",
       "      <td>199.99</td>\n",
       "      <td>1</td>\n",
       "      <td>0</td>\n",
       "      <td>0</td>\n",
       "      <td>1</td>\n",
       "      <td>0</td>\n",
       "      <td>0</td>\n",
       "    </tr>\n",
       "    <tr>\n",
       "      <th>3</th>\n",
       "      <td>1</td>\n",
       "      <td>175.00</td>\n",
       "      <td>0</td>\n",
       "      <td>1</td>\n",
       "      <td>1</td>\n",
       "      <td>0</td>\n",
       "      <td>1</td>\n",
       "      <td>0</td>\n",
       "    </tr>\n",
       "    <tr>\n",
       "      <th>4</th>\n",
       "      <td>1</td>\n",
       "      <td>100.00</td>\n",
       "      <td>0</td>\n",
       "      <td>1</td>\n",
       "      <td>0</td>\n",
       "      <td>1</td>\n",
       "      <td>0</td>\n",
       "      <td>0</td>\n",
       "    </tr>\n",
       "  </tbody>\n",
       "</table>\n",
       "</div>"
      ],
      "text/plain": [
       "   BuyItNow  startprice  hasDescription  sold  isNote  modelNumber_2  \\\n",
       "0         0      199.99               0     1       0              0   \n",
       "1         0      235.00               0     0       1              0   \n",
       "2         0      199.99               1     0       0              1   \n",
       "3         1      175.00               0     1       1              0   \n",
       "4         1      100.00               0     1       0              1   \n",
       "\n",
       "   modelNumber_3  modelNumber_4  \n",
       "0              1              0  \n",
       "1              1              0  \n",
       "2              0              0  \n",
       "3              1              0  \n",
       "4              0              0  "
      ]
     },
     "execution_count": 42,
     "metadata": {},
     "output_type": "execute_result"
    }
   ],
   "source": [
    "df_cleaned2.head()"
   ]
  },
  {
   "cell_type": "code",
   "execution_count": null,
   "id": "contrary-indiana",
   "metadata": {},
   "outputs": [],
   "source": []
  },
  {
   "cell_type": "code",
   "execution_count": 91,
   "id": "suited-formation",
   "metadata": {},
   "outputs": [
    {
     "data": {
      "text/plain": [
       "0.760119940029985"
      ]
     },
     "execution_count": 91,
     "metadata": {},
     "output_type": "execute_result"
    }
   ],
   "source": [
    "df[df['BuyItNow']==1].sold.mean()"
   ]
  },
  {
   "cell_type": "code",
   "execution_count": 92,
   "id": "brutal-sitting",
   "metadata": {},
   "outputs": [
    {
     "data": {
      "text/plain": [
       "0.21882640586797067"
      ]
     },
     "execution_count": 92,
     "metadata": {},
     "output_type": "execute_result"
    }
   ],
   "source": [
    "df[df['BuyItNow']==0].sold.mean()"
   ]
  },
  {
   "cell_type": "code",
   "execution_count": null,
   "id": "marine-showcase",
   "metadata": {},
   "outputs": [],
   "source": []
  },
  {
   "cell_type": "markdown",
   "id": "republican-distribution",
   "metadata": {},
   "source": [
    "# Ideation.\n",
    "### Implement A Gaussian Process From Scratch\n",
    "https://towardsdatascience.com/implement-a-gaussian-process-from-scratch-2a074a470bce"
   ]
  },
  {
   "cell_type": "code",
   "execution_count": 7,
   "id": "million-shepherd",
   "metadata": {},
   "outputs": [
    {
     "data": {
      "text/plain": [
       "productline    BuyItNow  sold\n",
       "Galaxy_Note10  0         0       468.784540\n",
       "               1         0       416.711071\n",
       "               0         1       400.213243\n",
       "Galaxy_S10     0         1       336.333333\n",
       "Galaxy_Note9   0         1       325.262000\n",
       "                         0       317.981957\n",
       "Galaxy_S9      0         0       317.914054\n",
       "Galaxy_S10     0         0       296.917500\n",
       "Galaxy_Note9   1         0       267.911667\n",
       "Galaxy_Note8   0         0       258.026102\n",
       "Galaxy_S8      0         0       248.551759\n",
       "Galaxy_S9      1         0       236.517368\n",
       "Unknown        0         1       232.497692\n",
       "Galaxy_S9      0         1       232.071053\n",
       "Unknown        1         0       216.254286\n",
       "               0         0       208.135000\n",
       "Galaxy_Note8   1         0       198.855000\n",
       "               0         1       198.411765\n",
       "Galaxy_Note10  1         1       185.255179\n",
       "Galaxy_S8      0         1       182.019697\n",
       "               1         0       173.103243\n",
       "Galaxy_S10     1         1       160.000000\n",
       "Galaxy_Note9   1         1       132.853824\n",
       "Galaxy_S7      0         0       126.981750\n",
       "               1         0       122.860000\n",
       "Galaxy_S9      1         1        89.381304\n",
       "Galaxy_Note8   1         1        88.213333\n",
       "Galaxy_S7      0         1        84.726897\n",
       "Galaxy_S8      1         1        67.622424\n",
       "Unknown        1         1        61.108571\n",
       "Galaxy_S7      1         1        39.506146\n",
       "Name: startprice, dtype: float64"
      ]
     },
     "execution_count": 7,
     "metadata": {},
     "output_type": "execute_result"
    }
   ],
   "source": [
    "df.groupby(['productline', 'BuyItNow', 'sold'])['startprice'].mean().sort_values(ascending=False)"
   ]
  },
  {
   "cell_type": "code",
   "execution_count": 25,
   "id": "instant-minister",
   "metadata": {},
   "outputs": [
    {
     "data": {
      "text/plain": [
       "(134.09725947521866, 287.88843554443054)"
      ]
     },
     "execution_count": 25,
     "metadata": {},
     "output_type": "execute_result"
    }
   ],
   "source": [
    "df[(df['sold']==1)]['startprice'].mean(), df[(df['sold']==0)]['startprice'].mean()"
   ]
  },
  {
   "cell_type": "code",
   "execution_count": null,
   "id": "neither-championship",
   "metadata": {},
   "outputs": [],
   "source": []
  },
  {
   "cell_type": "code",
   "execution_count": null,
   "id": "beautiful-quest",
   "metadata": {},
   "outputs": [],
   "source": []
  },
  {
   "cell_type": "code",
   "execution_count": 15,
   "id": "unnecessary-closer",
   "metadata": {},
   "outputs": [
    {
     "data": {
      "text/plain": [
       "Index(['BuyItNow', 'startprice', 'hasDescription', 'upperCaseDescription',\n",
       "       'sold', 'has_carrier', 'has_color', 'has_productline', 'modelNumber',\n",
       "       'isNote'],\n",
       "      dtype='object')"
      ]
     },
     "execution_count": 15,
     "metadata": {},
     "output_type": "execute_result"
    }
   ],
   "source": [
    "df_cleaned.columns"
   ]
  },
  {
   "cell_type": "code",
   "execution_count": 17,
   "id": "coral-agent",
   "metadata": {},
   "outputs": [
    {
     "data": {
      "text/plain": [
       "modelNumber  isNote  BuyItNow  sold  hasDescription\n",
       "4            1       0         0     0                 506.064762\n",
       "                     1         0     0                 470.747500\n",
       "                     0         1     0                 415.646667\n",
       "                               0     1                 412.053768\n",
       "             0       0         1     0                 379.500000\n",
       "             1       0         1     1                 358.543000\n",
       "3            1       0         1     0                 343.999091\n",
       "             0       0         0     0                 333.422083\n",
       "             1       0         0     0                 322.983333\n",
       "             0       0         0     1                 310.470200\n",
       "             1       0         0     1                 308.604375\n",
       "4            0       0         0     1                 303.670000\n",
       "                                     0                 294.666667\n",
       "             1       1         0     1                 281.620000\n",
       "2            1       0         0     0                 275.867500\n",
       "3            1       0         1     1                 273.735000\n",
       "                     1         0     1                 268.990000\n",
       "                                     0                 267.141429\n",
       "2            1       0         0     1                 251.387442\n",
       "4            0       0         1     1                 250.000000\n",
       "3            0       0         1     0                 249.270000\n",
       "2            0       0         0     0                 247.778293\n",
       "3            0       1         0     1                 237.885000\n",
       "                                     0                 234.997778\n",
       "4            1       1         1     0                 221.894412\n",
       "2            0       0         1     1                 220.493750\n",
       "             1       1         0     1                 209.998000\n",
       "3            0       0         1     1                 208.422500\n",
       "2            1       0         1     0                 208.330000\n",
       "             0       0         0     1                 201.665190\n",
       "                     1         0     0                 200.349767\n",
       "             1       0         1     1                 196.286429\n",
       "             0       0         1     0                 193.135429\n",
       "             1       1         0     0                 192.664444\n",
       "             0       1         0     1                 174.768182\n",
       "4            0       1         1     0                 160.000000\n",
       "3            1       1         1     1                 153.160833\n",
       "1            0       1         0     0                 147.413333\n",
       "                     0         0     0                 131.533810\n",
       "4            1       1         1     1                 128.630909\n",
       "1            0       0         0     1                 121.950526\n",
       "3            1       1         1     0                 121.777273\n",
       "1            0       0         1     0                 106.355000\n",
       "3            0       1         1     0                 103.953333\n",
       "2            1       1         1     0                  97.872093\n",
       "1            0       1         0     1                  93.396000\n",
       "2            0       1         1     0                  71.083846\n",
       "             1       1         1     1                  67.447000\n",
       "1            0       0         1     1                  64.540667\n",
       "3            0       1         1     1                  62.058750\n",
       "2            0       1         1     1                  57.001094\n",
       "1            0       1         1     0                  41.077273\n",
       "                                     1                  37.398537\n",
       "Name: startprice, dtype: float64"
      ]
     },
     "execution_count": 17,
     "metadata": {},
     "output_type": "execute_result"
    }
   ],
   "source": [
    "df_cleaned.groupby(['modelNumber',\n",
    "                    'isNote', \n",
    "                    'BuyItNow',\n",
    "                    'sold',\n",
    "                    'hasDescription'])['startprice'].mean().sort_values(ascending=False)"
   ]
  },
  {
   "cell_type": "code",
   "execution_count": 18,
   "id": "purple-advertiser",
   "metadata": {},
   "outputs": [
    {
     "data": {
      "text/plain": [
       "modelNumber  isNote  BuyItNow  sold  hasDescription\n",
       "4            1       1         1     0                 171.453448\n",
       "                     0         0     0                 166.988778\n",
       "2            0       0         0     0                 160.156469\n",
       "                     1         0     0                 155.752636\n",
       "4            1       1         0     0                 150.443857\n",
       "3            0       0         0     0                 144.901914\n",
       "4            1       0         1     1                 135.192013\n",
       "                     1         1     1                 132.495070\n",
       "2            1       0         0     0                 132.234681\n",
       "             0       0         1     0                 132.228203\n",
       "3            0       1         0     0                 125.691229\n",
       "1            0       1         0     0                 123.533952\n",
       "4            1       0         1     0                 121.607757\n",
       "3            1       1         1     1                 119.884418\n",
       "                               0     0                 112.021873\n",
       "2            1       0         0     1                 109.660045\n",
       "             0       0         1     1                 107.754038\n",
       "             1       1         0     0                 105.087884\n",
       "3            0       0         1     1                 104.603160\n",
       "             1       0         1     0                 101.215651\n",
       "4            1       0         0     1                  99.987963\n",
       "3            1       0         1     1                  97.007391\n",
       "2            0       0         0     1                  92.791847\n",
       "3            1       0         0     1                  91.573846\n",
       "                                     0                  91.258581\n",
       "2            1       1         0     1                  89.445794\n",
       "3            0       1         0     1                  89.073922\n",
       "2            1       1         1     0                  85.806539\n",
       "3            0       1         1     0                  83.337652\n",
       "                     0         0     1                  83.203193\n",
       "             1       1         0     1                  82.190179\n",
       "                               1     0                  81.645215\n",
       "2            0       1         0     1                  79.750146\n",
       "             1       1         1     1                  71.724966\n",
       "             0       1         1     0                  69.210574\n",
       "4            1       1         0     1                  69.079463\n",
       "3            0       1         1     1                  67.667159\n",
       "2            0       1         1     1                  66.777705\n",
       "1            0       0         0     0                  64.173963\n",
       "2            1       0         1     1                  61.614799\n",
       "4            0       0         0     0                  57.622334\n",
       "                               1     0                  57.275649\n",
       "3            0       0         1     0                  53.332671\n",
       "1            0       1         1     1                  49.179559\n",
       "                     0         1     0                  47.274644\n",
       "                               0     1                  45.254266\n",
       "                     1         0     1                  40.343900\n",
       "2            1       0         1     0                  38.189222\n",
       "1            0       0         1     1                  26.818852\n",
       "                     1         1     0                  25.617080\n",
       "4            0       0         0     1                        NaN\n",
       "                               1     1                        NaN\n",
       "                     1         1     0                        NaN\n",
       "Name: startprice, dtype: float64"
      ]
     },
     "execution_count": 18,
     "metadata": {},
     "output_type": "execute_result"
    }
   ],
   "source": [
    "df_cleaned.groupby(['modelNumber',\n",
    "                    'isNote', \n",
    "                    'BuyItNow',\n",
    "                    'sold',\n",
    "                    'hasDescription'])['startprice'].std().sort_values(ascending=False)"
   ]
  },
  {
   "cell_type": "code",
   "execution_count": null,
   "id": "infinite-yugoslavia",
   "metadata": {},
   "outputs": [],
   "source": []
  },
  {
   "cell_type": "code",
   "execution_count": null,
   "id": "unlike-elder",
   "metadata": {},
   "outputs": [],
   "source": []
  },
  {
   "cell_type": "markdown",
   "id": "happy-draft",
   "metadata": {},
   "source": [
    "# Data Split"
   ]
  },
  {
   "cell_type": "code",
   "execution_count": 48,
   "id": "molecular-fetish",
   "metadata": {},
   "outputs": [],
   "source": [
    "X = df_cleaned.drop('sold', axis=1)\n",
    "y = df_cleaned['sold']\n",
    "X_train, X_test, y_train, y_test = train_test_split(X, y, test_size=0.2, random_state=11)"
   ]
  },
  {
   "cell_type": "code",
   "execution_count": 69,
   "id": "structural-lawyer",
   "metadata": {},
   "outputs": [],
   "source": [
    "# X0 = df.drop('sold', axis=1)\n",
    "# y0 = df['sold']\n",
    "# X0_train, X0_test, y0_train, y0_test = train_test_split(X0, y0, test_size=0.2, random_state=11)"
   ]
  },
  {
   "cell_type": "code",
   "execution_count": 49,
   "id": "imposed-blocking",
   "metadata": {},
   "outputs": [],
   "source": [
    "X1 = df_cleaned1.drop('sold', axis=1)\n",
    "y1 = df_cleaned1.sold\n",
    "X1_train, X1_test, y1_train, y1_test = train_test_split(X1, y1, test_size=0.2, random_state=11)"
   ]
  },
  {
   "cell_type": "code",
   "execution_count": 53,
   "id": "interpreted-footwear",
   "metadata": {},
   "outputs": [],
   "source": [
    "X2 = df_cleaned2.drop('sold', axis=1)\n",
    "y2 = df_cleaned2.sold\n",
    "X2_train, X2_test, y2_train, y2_test = train_test_split(X2, y2, test_size=0.2, random_state=11)"
   ]
  },
  {
   "cell_type": "markdown",
   "id": "seventh-greene",
   "metadata": {},
   "source": [
    "### X3/y3 -> `robustscaler` 검토... 그전에 이상치에 대해 검토해보자."
   ]
  },
  {
   "cell_type": "code",
   "execution_count": 165,
   "id": "plain-reward",
   "metadata": {},
   "outputs": [
    {
     "data": {
      "text/plain": [
       "array([[ 0.        ,  0.00865217,  0.        ,  0.        ,  1.        ,\n",
       "         0.        ],\n",
       "       [ 0.        ,  0.16086957,  1.        ,  0.        ,  1.        ,\n",
       "         0.        ],\n",
       "       [ 0.        ,  0.00865217,  0.        ,  1.        ,  0.        ,\n",
       "         0.        ],\n",
       "       ...,\n",
       "       [ 0.        ,  0.57386957,  1.        ,  0.        ,  0.        ,\n",
       "         1.        ],\n",
       "       [ 0.        , -0.47391304,  0.        ,  0.        ,  0.        ,\n",
       "         0.        ],\n",
       "       [ 0.        , -0.33917391,  0.        ,  0.        ,  0.        ,\n",
       "         0.        ]])"
      ]
     },
     "execution_count": 165,
     "metadata": {},
     "output_type": "execute_result"
    }
   ],
   "source": [
    "from sklearn.preprocessing import RobustScaler\n",
    "robustScaler = RobustScaler()\n",
    "robustScaler.fit(X3)\n",
    "robustScaler.transform(X3)"
   ]
  },
  {
   "cell_type": "markdown",
   "id": "characteristic-afternoon",
   "metadata": {},
   "source": [
    "### log를 취하여 작은 차이를 상대적으로 더 크게?\n",
    "- np.log(startprice)"
   ]
  },
  {
   "cell_type": "code",
   "execution_count": 192,
   "id": "surprising-seven",
   "metadata": {},
   "outputs": [],
   "source": [
    "X3 = df_cleaned2.drop(['sold', 'hasDescription'], axis=1)\n",
    "#X3['startprice'] = np.log(X3['startprice'])\n",
    "y3 = df_cleaned2.sold\n",
    "X3_train, X3_test, y3_train, y3_test = train_test_split(X3, y3, test_size=0.2, random_state=11)"
   ]
  },
  {
   "cell_type": "code",
   "execution_count": 193,
   "id": "bound-instrumentation",
   "metadata": {},
   "outputs": [
    {
     "data": {
      "text/html": [
       "<div>\n",
       "<style scoped>\n",
       "    .dataframe tbody tr th:only-of-type {\n",
       "        vertical-align: middle;\n",
       "    }\n",
       "\n",
       "    .dataframe tbody tr th {\n",
       "        vertical-align: top;\n",
       "    }\n",
       "\n",
       "    .dataframe thead th {\n",
       "        text-align: right;\n",
       "    }\n",
       "</style>\n",
       "<table border=\"1\" class=\"dataframe\">\n",
       "  <thead>\n",
       "    <tr style=\"text-align: right;\">\n",
       "      <th></th>\n",
       "      <th>BuyItNow</th>\n",
       "      <th>startprice</th>\n",
       "      <th>isNote</th>\n",
       "      <th>modelNumber_2</th>\n",
       "      <th>modelNumber_3</th>\n",
       "      <th>modelNumber_4</th>\n",
       "    </tr>\n",
       "  </thead>\n",
       "  <tbody>\n",
       "    <tr>\n",
       "      <th>0</th>\n",
       "      <td>0</td>\n",
       "      <td>199.99</td>\n",
       "      <td>0</td>\n",
       "      <td>0</td>\n",
       "      <td>1</td>\n",
       "      <td>0</td>\n",
       "    </tr>\n",
       "    <tr>\n",
       "      <th>1</th>\n",
       "      <td>0</td>\n",
       "      <td>235.00</td>\n",
       "      <td>1</td>\n",
       "      <td>0</td>\n",
       "      <td>1</td>\n",
       "      <td>0</td>\n",
       "    </tr>\n",
       "    <tr>\n",
       "      <th>2</th>\n",
       "      <td>0</td>\n",
       "      <td>199.99</td>\n",
       "      <td>0</td>\n",
       "      <td>1</td>\n",
       "      <td>0</td>\n",
       "      <td>0</td>\n",
       "    </tr>\n",
       "    <tr>\n",
       "      <th>3</th>\n",
       "      <td>1</td>\n",
       "      <td>175.00</td>\n",
       "      <td>1</td>\n",
       "      <td>0</td>\n",
       "      <td>1</td>\n",
       "      <td>0</td>\n",
       "    </tr>\n",
       "    <tr>\n",
       "      <th>4</th>\n",
       "      <td>1</td>\n",
       "      <td>100.00</td>\n",
       "      <td>0</td>\n",
       "      <td>1</td>\n",
       "      <td>0</td>\n",
       "      <td>0</td>\n",
       "    </tr>\n",
       "  </tbody>\n",
       "</table>\n",
       "</div>"
      ],
      "text/plain": [
       "   BuyItNow  startprice  isNote  modelNumber_2  modelNumber_3  modelNumber_4\n",
       "0         0      199.99       0              0              1              0\n",
       "1         0      235.00       1              0              1              0\n",
       "2         0      199.99       0              1              0              0\n",
       "3         1      175.00       1              0              1              0\n",
       "4         1      100.00       0              1              0              0"
      ]
     },
     "execution_count": 193,
     "metadata": {},
     "output_type": "execute_result"
    }
   ],
   "source": [
    "X3.head()"
   ]
  },
  {
   "cell_type": "code",
   "execution_count": 194,
   "id": "assigned-guest",
   "metadata": {},
   "outputs": [
    {
     "data": {
      "text/plain": [
       "<AxesSubplot:xlabel='startprice', ylabel='Count'>"
      ]
     },
     "execution_count": 194,
     "metadata": {},
     "output_type": "execute_result"
    },
    {
     "data": {
      "image/png": "[encoded data removed]",
      "text/plain": [
       "<Figure size 432x288 with 1 Axes>"
      ]
     },
     "metadata": {
      "needs_background": "light"
     },
     "output_type": "display_data"
    }
   ],
   "source": [
    "sns.histplot(X3['startprice'], color='red')"
   ]
  },
  {
   "cell_type": "code",
   "execution_count": 196,
   "id": "absent-judgment",
   "metadata": {},
   "outputs": [
    {
     "data": {
      "text/plain": [
       "<AxesSubplot:xlabel='startprice', ylabel='Count'>"
      ]
     },
     "execution_count": 196,
     "metadata": {},
     "output_type": "execute_result"
    },
    {
     "data": {
      "image/png": "[encoded data removed]",
      "text/plain": [
       "<Figure size 432x288 with 1 Axes>"
      ]
     },
     "metadata": {
      "needs_background": "light"
     },
     "output_type": "display_data"
    }
   ],
   "source": [
    "sns.histplot(np.log(df['startprice']))"
   ]
  },
  {
   "cell_type": "code",
   "execution_count": null,
   "id": "practical-filter",
   "metadata": {},
   "outputs": [],
   "source": []
  },
  {
   "cell_type": "code",
   "execution_count": null,
   "id": "banned-apartment",
   "metadata": {},
   "outputs": [],
   "source": []
  },
  {
   "cell_type": "markdown",
   "id": "senior-editing",
   "metadata": {},
   "source": [
    "# Modeling_Ensemble"
   ]
  },
  {
   "cell_type": "code",
   "execution_count": 54,
   "id": "chicken-karaoke",
   "metadata": {},
   "outputs": [],
   "source": [
    "def test_ensemble(X_train, y_train, X_test, y_test):\n",
    "    clf1 = LogisticRegression(multi_class='multinomial', random_state=1)\n",
    "    clf2 = RandomForestClassifier(n_estimators=50, random_state=1)\n",
    "    clf3 = GaussianNB()\n",
    "    # X = np.array([[-1, -1], [-2, -1], [-3, -2], [1, 1], [2, 1], [3, 2]])\n",
    "    # y = np.array([1, 1, 1, 2, 2, 2])\n",
    "\n",
    "    eclf1 = VotingClassifier(estimators=[\n",
    "             ('lr', clf1), ('rf', clf2), ('gnb', clf3)],\n",
    "                             voting='hard')\n",
    "    eclf1 = eclf1.fit(X_train, y_train)\n",
    "    eclf1_pred = eclf1.predict(X_test)\n",
    "\n",
    "    np.array_equal(eclf1.named_estimators_.lr.predict(X_test),\n",
    "                    eclf1.named_estimators_['lr'].predict(X_test))\n",
    "\n",
    "    eclf2 = VotingClassifier(estimators=[\n",
    "             ('lr', clf1), ('rf', clf2), ('gnb', clf3)],\n",
    "             voting='soft')\n",
    "    eclf2 = eclf2.fit(X_train, y_train)\n",
    "    eclf2_pred = eclf2.predict(X_test)\n",
    "\n",
    "\n",
    "    eclf3 = VotingClassifier(estimators=[\n",
    "            ('lr', clf1), ('rf', clf2), ('gnb', clf3)],\n",
    "            voting='soft', weights=[2,1,1],\n",
    "            flatten_transform=True)\n",
    "    eclf3 = eclf3.fit(X_train, y_train)\n",
    "    eclf3_pred = eclf3.predict(X_test)\n",
    "    #print(eclf3.transform(X_test).shape)\n",
    "    \n",
    "    return accuracy_score(y_test, eclf1_pred), accuracy_score(y_test, eclf2_pred), accuracy_score(y_test, eclf3_pred)"
   ]
  },
  {
   "cell_type": "code",
   "execution_count": 55,
   "id": "linear-nepal",
   "metadata": {},
   "outputs": [
    {
     "data": {
      "text/plain": [
       "(0.7845117845117845, 0.7912457912457912, 0.7811447811447811)"
      ]
     },
     "execution_count": 55,
     "metadata": {},
     "output_type": "execute_result"
    }
   ],
   "source": [
    "test_ensemble(X_train, y_train, X_test, y_test)"
   ]
  },
  {
   "cell_type": "code",
   "execution_count": 56,
   "id": "acting-tender",
   "metadata": {},
   "outputs": [
    {
     "data": {
      "text/plain": [
       "(0.7777777777777778, 0.7845117845117845, 0.7811447811447811)"
      ]
     },
     "execution_count": 56,
     "metadata": {},
     "output_type": "execute_result"
    }
   ],
   "source": [
    "test_ensemble(X1_train, y1_train, X1_test, y1_test)"
   ]
  },
  {
   "cell_type": "code",
   "execution_count": 57,
   "id": "massive-style",
   "metadata": {},
   "outputs": [
    {
     "name": "stderr",
     "output_type": "stream",
     "text": [
      "/opt/anaconda3/envs/AI_dev/lib/python3.7/site-packages/sklearn/linear_model/_logistic.py:940: ConvergenceWarning: lbfgs failed to converge (status=1):\n",
      "STOP: TOTAL NO. of ITERATIONS REACHED LIMIT.\n",
      "\n",
      "Increase the number of iterations (max_iter) or scale the data as shown in:\n",
      "    https://scikit-learn.org/stable/modules/preprocessing.html\n",
      "Please also refer to the documentation for alternative solver options:\n",
      "    https://scikit-learn.org/stable/modules/linear_model.html#logistic-regression\n",
      "  extra_warning_msg=_LOGISTIC_SOLVER_CONVERGENCE_MSG)\n",
      "/opt/anaconda3/envs/AI_dev/lib/python3.7/site-packages/sklearn/linear_model/_logistic.py:940: ConvergenceWarning: lbfgs failed to converge (status=1):\n",
      "STOP: TOTAL NO. of ITERATIONS REACHED LIMIT.\n",
      "\n",
      "Increase the number of iterations (max_iter) or scale the data as shown in:\n",
      "    https://scikit-learn.org/stable/modules/preprocessing.html\n",
      "Please also refer to the documentation for alternative solver options:\n",
      "    https://scikit-learn.org/stable/modules/linear_model.html#logistic-regression\n",
      "  extra_warning_msg=_LOGISTIC_SOLVER_CONVERGENCE_MSG)\n",
      "/opt/anaconda3/envs/AI_dev/lib/python3.7/site-packages/sklearn/linear_model/_logistic.py:940: ConvergenceWarning: lbfgs failed to converge (status=1):\n",
      "STOP: TOTAL NO. of ITERATIONS REACHED LIMIT.\n",
      "\n",
      "Increase the number of iterations (max_iter) or scale the data as shown in:\n",
      "    https://scikit-learn.org/stable/modules/preprocessing.html\n",
      "Please also refer to the documentation for alternative solver options:\n",
      "    https://scikit-learn.org/stable/modules/linear_model.html#logistic-regression\n",
      "  extra_warning_msg=_LOGISTIC_SOLVER_CONVERGENCE_MSG)\n"
     ]
    },
    {
     "data": {
      "text/plain": [
       "(0.7811447811447811, 0.7811447811447811, 0.7811447811447811)"
      ]
     },
     "execution_count": 57,
     "metadata": {},
     "output_type": "execute_result"
    }
   ],
   "source": [
    "test_ensemble(X2_train, y2_train, X2_test, y2_test)"
   ]
  },
  {
   "cell_type": "code",
   "execution_count": 188,
   "id": "gross-football",
   "metadata": {},
   "outputs": [
    {
     "data": {
      "text/plain": [
       "(0.7744107744107744, 0.7777777777777778, 0.7912457912457912)"
      ]
     },
     "execution_count": 188,
     "metadata": {},
     "output_type": "execute_result"
    }
   ],
   "source": [
    "test_ensemble(X3_train, y3_train, X3_test, y3_test)"
   ]
  },
  {
   "cell_type": "code",
   "execution_count": null,
   "id": "afraid-benefit",
   "metadata": {},
   "outputs": [],
   "source": []
  },
  {
   "cell_type": "markdown",
   "id": "following-correction",
   "metadata": {},
   "source": [
    "# Modeling_RandomForest"
   ]
  },
  {
   "cell_type": "code",
   "execution_count": 58,
   "id": "clear-floating",
   "metadata": {},
   "outputs": [],
   "source": [
    "params = {\n",
    "    'n_estimators':[50, 100, 150],\n",
    "    'criterion':['gini', 'entropy'],\n",
    "    'max_depth':[6, 8, 10, 12],\n",
    "    'min_samples_leaf':[8, 12, 18],\n",
    "    'min_samples_split':[8, 16, 20]\n",
    "}"
   ]
  },
  {
   "cell_type": "code",
   "execution_count": 63,
   "id": "literary-sellers",
   "metadata": {},
   "outputs": [],
   "source": [
    "def test_rf(X_train, y_train, X_test, y_test, p):\n",
    "    params = p\n",
    "    rf_clf = RandomForestClassifier(random_state=0, n_jobs=-1)\n",
    "    grid_cv = GridSearchCV(rf_clf, param_grid=params, cv=2, n_jobs=-1)\n",
    "    grid_cv.fit(X_train, y_train)\n",
    "\n",
    "    pred = grid_cv.best_estimator_.predict(X_test)\n",
    "    accuracy = accuracy_score(y_test, pred)\n",
    "    print(accuracy)\n",
    "    return grid_cv\n",
    "\n",
    "def show_feature_importances(grid_cv):\n",
    "    ftr_importances_values = grid_cv.best_estimator_.feature_importances_\n",
    "    ftr_importances_values = pd.Series(ftr_importances_values, index=X_train.columns)\n",
    "\n",
    "    ftr_top20 = ftr_importances_values.sort_values(ascending=False)[:20]\n",
    "    plt.figure(figsize=(8,6))\n",
    "    plt.title('feature importance top 20')\n",
    "    sns.barplot(x=ftr_top20, y=ftr_top20.index)\n",
    "    plt.show()"
   ]
  },
  {
   "cell_type": "code",
   "execution_count": 64,
   "id": "protected-minutes",
   "metadata": {},
   "outputs": [
    {
     "name": "stdout",
     "output_type": "stream",
     "text": [
      "0.8013468013468014\n",
      "0.7946127946127947\n",
      "0.797979797979798\n"
     ]
    }
   ],
   "source": [
    "X_rf_grid = test_rf(X_train, y_train, X_test, y_test, params)\n",
    "X1_rf_grid = test_rf(X1_train, y1_train, X1_test, y1_test, params)\n",
    "X2_rf_grid = test_rf(X2_train, y2_train, X2_test, y2_test, params)"
   ]
  },
  {
   "cell_type": "code",
   "execution_count": 189,
   "id": "religious-development",
   "metadata": {},
   "outputs": [
    {
     "name": "stdout",
     "output_type": "stream",
     "text": [
      "0.7946127946127947\n"
     ]
    }
   ],
   "source": [
    "X3_rf_grid = test_rf(X3_train, y3_train, X3_test, y3_test, params)"
   ]
  },
  {
   "cell_type": "code",
   "execution_count": null,
   "id": "governmental-burden",
   "metadata": {},
   "outputs": [],
   "source": []
  },
  {
   "cell_type": "markdown",
   "id": "historic-richardson",
   "metadata": {},
   "source": [
    "# Logistic Regressor"
   ]
  },
  {
   "cell_type": "code",
   "execution_count": 154,
   "id": "compound-stress",
   "metadata": {},
   "outputs": [],
   "source": [
    "def get_test_acc(model, X_train, y_train, X_test, y_test):\n",
    "    model.fit(X_train, y_train)\n",
    "    return model, accuracy_score(y_test, model.predict(X_test))\n",
    "\n",
    "def test_grid(model, X_train, y_train, X_test, y_test, p):\n",
    "    params = p\n",
    "    model = model #RandomForestClassifier(random_state=0, n_jobs=-1)\n",
    "    grid_cv = GridSearchCV(model, param_grid=params,\n",
    "                           cv=StratifiedKFold(n_splits=5),\n",
    "                           n_jobs=-1)\n",
    "    grid_cv.fit(X_train, y_train)\n",
    "    pred = grid_cv.best_estimator_.predict(X_test)\n",
    "    accuracy = accuracy_score(y_test, pred)\n",
    "    print(accuracy)\n",
    "    return grid_cv"
   ]
  },
  {
   "cell_type": "code",
   "execution_count": 180,
   "id": "silver-tokyo",
   "metadata": {},
   "outputs": [
    {
     "name": "stdout",
     "output_type": "stream",
     "text": [
      "0.7912457912457912\n"
     ]
    },
    {
     "name": "stderr",
     "output_type": "stream",
     "text": [
      "/opt/anaconda3/envs/AI_dev/lib/python3.7/site-packages/sklearn/linear_model/_logistic.py:940: ConvergenceWarning: lbfgs failed to converge (status=1):\n",
      "STOP: TOTAL NO. of ITERATIONS REACHED LIMIT.\n",
      "\n",
      "Increase the number of iterations (max_iter) or scale the data as shown in:\n",
      "    https://scikit-learn.org/stable/modules/preprocessing.html\n",
      "Please also refer to the documentation for alternative solver options:\n",
      "    https://scikit-learn.org/stable/modules/linear_model.html#logistic-regression\n",
      "  extra_warning_msg=_LOGISTIC_SOLVER_CONVERGENCE_MSG)\n"
     ]
    }
   ],
   "source": [
    "logreg_p = {\"C\":np.logspace(-3, 3, 10),\n",
    "             \"penalty\":[\"l1\",\"l2\"]}# l1 lasso l2 ridge\n",
    "lr = LogisticRegression(multi_class='multinomial', random_state=1)\n",
    "\n",
    "logreg_grid = test_grid(lr, X3_train, y3_train, X3_test, y3_test, logreg_p)"
   ]
  },
  {
   "cell_type": "code",
   "execution_count": 181,
   "id": "upset-battlefield",
   "metadata": {},
   "outputs": [
    {
     "data": {
      "text/plain": [
       "{'C': 46.41588833612773, 'penalty': 'l2'}"
      ]
     },
     "execution_count": 181,
     "metadata": {},
     "output_type": "execute_result"
    }
   ],
   "source": [
    "logreg_grid.best_params_"
   ]
  },
  {
   "cell_type": "code",
   "execution_count": null,
   "id": "expressed-syndicate",
   "metadata": {},
   "outputs": [],
   "source": []
  },
  {
   "cell_type": "code",
   "execution_count": null,
   "id": "acting-myanmar",
   "metadata": {},
   "outputs": [],
   "source": []
  },
  {
   "cell_type": "markdown",
   "id": "brilliant-nursery",
   "metadata": {},
   "source": [
    "# Error Analysis"
   ]
  },
  {
   "cell_type": "code",
   "execution_count": 90,
   "id": "quality-course",
   "metadata": {},
   "outputs": [],
   "source": [
    "def result_df(grid_cv_fit, X, y):\n",
    "    \n",
    "    X_pred = pd.DataFrame(grid_cv_fit.predict(X),\n",
    "                          columns=['sold_pred'])\n",
    "    X_pred_proba = pd.DataFrame(grid_cv_fit.predict_proba(X),\n",
    "                                columns=['sold0_proba', 'sold1_proba'])\n",
    "    y = pd.DataFrame(y, columns=['sold'])\n",
    "    \n",
    "    res_df = pd.concat([X, y, X_pred, X_pred_proba], axis=1)\n",
    "    res_df['wrong_pred'] = res_df['sold'] != res_df['sold_pred']\n",
    "    \n",
    "    return res_df"
   ]
  },
  {
   "cell_type": "code",
   "execution_count": 92,
   "id": "standing-meaning",
   "metadata": {},
   "outputs": [
    {
     "data": {
      "text/html": [
       "<div>\n",
       "<style scoped>\n",
       "    .dataframe tbody tr th:only-of-type {\n",
       "        vertical-align: middle;\n",
       "    }\n",
       "\n",
       "    .dataframe tbody tr th {\n",
       "        vertical-align: top;\n",
       "    }\n",
       "\n",
       "    .dataframe thead th {\n",
       "        text-align: right;\n",
       "    }\n",
       "</style>\n",
       "<table border=\"1\" class=\"dataframe\">\n",
       "  <thead>\n",
       "    <tr style=\"text-align: right;\">\n",
       "      <th></th>\n",
       "      <th>BuyItNow</th>\n",
       "      <th>startprice</th>\n",
       "      <th>hasDescription</th>\n",
       "      <th>isNote</th>\n",
       "      <th>modelNumber_2</th>\n",
       "      <th>modelNumber_3</th>\n",
       "      <th>modelNumber_4</th>\n",
       "      <th>sold</th>\n",
       "      <th>sold_pred</th>\n",
       "      <th>sold0_proba</th>\n",
       "      <th>sold1_proba</th>\n",
       "      <th>wrong_pred</th>\n",
       "    </tr>\n",
       "  </thead>\n",
       "  <tbody>\n",
       "    <tr>\n",
       "      <th>0</th>\n",
       "      <td>0</td>\n",
       "      <td>199.99</td>\n",
       "      <td>0</td>\n",
       "      <td>0</td>\n",
       "      <td>0</td>\n",
       "      <td>1</td>\n",
       "      <td>0</td>\n",
       "      <td>1</td>\n",
       "      <td>0</td>\n",
       "      <td>0.566777</td>\n",
       "      <td>0.433223</td>\n",
       "      <td>True</td>\n",
       "    </tr>\n",
       "    <tr>\n",
       "      <th>1</th>\n",
       "      <td>0</td>\n",
       "      <td>235.00</td>\n",
       "      <td>0</td>\n",
       "      <td>1</td>\n",
       "      <td>0</td>\n",
       "      <td>1</td>\n",
       "      <td>0</td>\n",
       "      <td>0</td>\n",
       "      <td>0</td>\n",
       "      <td>0.762824</td>\n",
       "      <td>0.237176</td>\n",
       "      <td>False</td>\n",
       "    </tr>\n",
       "    <tr>\n",
       "      <th>2</th>\n",
       "      <td>0</td>\n",
       "      <td>199.99</td>\n",
       "      <td>1</td>\n",
       "      <td>0</td>\n",
       "      <td>1</td>\n",
       "      <td>0</td>\n",
       "      <td>0</td>\n",
       "      <td>0</td>\n",
       "      <td>0</td>\n",
       "      <td>0.826537</td>\n",
       "      <td>0.173463</td>\n",
       "      <td>False</td>\n",
       "    </tr>\n",
       "    <tr>\n",
       "      <th>3</th>\n",
       "      <td>1</td>\n",
       "      <td>175.00</td>\n",
       "      <td>0</td>\n",
       "      <td>1</td>\n",
       "      <td>0</td>\n",
       "      <td>1</td>\n",
       "      <td>0</td>\n",
       "      <td>1</td>\n",
       "      <td>1</td>\n",
       "      <td>0.192680</td>\n",
       "      <td>0.807320</td>\n",
       "      <td>False</td>\n",
       "    </tr>\n",
       "    <tr>\n",
       "      <th>4</th>\n",
       "      <td>1</td>\n",
       "      <td>100.00</td>\n",
       "      <td>0</td>\n",
       "      <td>0</td>\n",
       "      <td>1</td>\n",
       "      <td>0</td>\n",
       "      <td>0</td>\n",
       "      <td>1</td>\n",
       "      <td>1</td>\n",
       "      <td>0.304329</td>\n",
       "      <td>0.695671</td>\n",
       "      <td>False</td>\n",
       "    </tr>\n",
       "  </tbody>\n",
       "</table>\n",
       "</div>"
      ],
      "text/plain": [
       "   BuyItNow  startprice  hasDescription  isNote  modelNumber_2  modelNumber_3  \\\n",
       "0         0      199.99               0       0              0              1   \n",
       "1         0      235.00               0       1              0              1   \n",
       "2         0      199.99               1       0              1              0   \n",
       "3         1      175.00               0       1              0              1   \n",
       "4         1      100.00               0       0              1              0   \n",
       "\n",
       "   modelNumber_4  sold  sold_pred  sold0_proba  sold1_proba  wrong_pred  \n",
       "0              0     1          0     0.566777     0.433223        True  \n",
       "1              0     0          0     0.762824     0.237176       False  \n",
       "2              0     0          0     0.826537     0.173463       False  \n",
       "3              0     1          1     0.192680     0.807320       False  \n",
       "4              0     1          1     0.304329     0.695671       False  "
      ]
     },
     "execution_count": 92,
     "metadata": {},
     "output_type": "execute_result"
    }
   ],
   "source": [
    "X2_rf_result = result_df(X2_rf_grid, X2, y2)\n",
    "X2_rf_result.head()"
   ]
  },
  {
   "cell_type": "code",
   "execution_count": 93,
   "id": "funded-mathematics",
   "metadata": {},
   "outputs": [
    {
     "data": {
      "text/html": [
       "<div>\n",
       "<style scoped>\n",
       "    .dataframe tbody tr th:only-of-type {\n",
       "        vertical-align: middle;\n",
       "    }\n",
       "\n",
       "    .dataframe tbody tr th {\n",
       "        vertical-align: top;\n",
       "    }\n",
       "\n",
       "    .dataframe thead th {\n",
       "        text-align: right;\n",
       "    }\n",
       "</style>\n",
       "<table border=\"1\" class=\"dataframe\">\n",
       "  <thead>\n",
       "    <tr style=\"text-align: right;\">\n",
       "      <th></th>\n",
       "      <th>BuyItNow</th>\n",
       "      <th>startprice</th>\n",
       "      <th>hasDescription</th>\n",
       "      <th>isNote</th>\n",
       "      <th>modelNumber_2</th>\n",
       "      <th>modelNumber_3</th>\n",
       "      <th>modelNumber_4</th>\n",
       "      <th>sold</th>\n",
       "      <th>sold_pred</th>\n",
       "      <th>sold0_proba</th>\n",
       "      <th>sold1_proba</th>\n",
       "      <th>wrong_pred</th>\n",
       "    </tr>\n",
       "  </thead>\n",
       "  <tbody>\n",
       "    <tr>\n",
       "      <th>0</th>\n",
       "      <td>0</td>\n",
       "      <td>199.99</td>\n",
       "      <td>0</td>\n",
       "      <td>0</td>\n",
       "      <td>0</td>\n",
       "      <td>1</td>\n",
       "      <td>0</td>\n",
       "      <td>1</td>\n",
       "      <td>0</td>\n",
       "      <td>0.566777</td>\n",
       "      <td>0.433223</td>\n",
       "      <td>True</td>\n",
       "    </tr>\n",
       "    <tr>\n",
       "      <th>7</th>\n",
       "      <td>0</td>\n",
       "      <td>199.99</td>\n",
       "      <td>1</td>\n",
       "      <td>0</td>\n",
       "      <td>0</td>\n",
       "      <td>1</td>\n",
       "      <td>0</td>\n",
       "      <td>1</td>\n",
       "      <td>0</td>\n",
       "      <td>0.676896</td>\n",
       "      <td>0.323104</td>\n",
       "      <td>True</td>\n",
       "    </tr>\n",
       "    <tr>\n",
       "      <th>10</th>\n",
       "      <td>0</td>\n",
       "      <td>75.00</td>\n",
       "      <td>0</td>\n",
       "      <td>0</td>\n",
       "      <td>0</td>\n",
       "      <td>0</td>\n",
       "      <td>0</td>\n",
       "      <td>1</td>\n",
       "      <td>0</td>\n",
       "      <td>0.550112</td>\n",
       "      <td>0.449888</td>\n",
       "      <td>True</td>\n",
       "    </tr>\n",
       "    <tr>\n",
       "      <th>11</th>\n",
       "      <td>0</td>\n",
       "      <td>199.99</td>\n",
       "      <td>1</td>\n",
       "      <td>0</td>\n",
       "      <td>0</td>\n",
       "      <td>1</td>\n",
       "      <td>0</td>\n",
       "      <td>1</td>\n",
       "      <td>0</td>\n",
       "      <td>0.676896</td>\n",
       "      <td>0.323104</td>\n",
       "      <td>True</td>\n",
       "    </tr>\n",
       "    <tr>\n",
       "      <th>13</th>\n",
       "      <td>0</td>\n",
       "      <td>184.50</td>\n",
       "      <td>1</td>\n",
       "      <td>1</td>\n",
       "      <td>1</td>\n",
       "      <td>0</td>\n",
       "      <td>0</td>\n",
       "      <td>1</td>\n",
       "      <td>0</td>\n",
       "      <td>0.704286</td>\n",
       "      <td>0.295714</td>\n",
       "      <td>True</td>\n",
       "    </tr>\n",
       "    <tr>\n",
       "      <th>...</th>\n",
       "      <td>...</td>\n",
       "      <td>...</td>\n",
       "      <td>...</td>\n",
       "      <td>...</td>\n",
       "      <td>...</td>\n",
       "      <td>...</td>\n",
       "      <td>...</td>\n",
       "      <td>...</td>\n",
       "      <td>...</td>\n",
       "      <td>...</td>\n",
       "      <td>...</td>\n",
       "      <td>...</td>\n",
       "    </tr>\n",
       "    <tr>\n",
       "      <th>1469</th>\n",
       "      <td>0</td>\n",
       "      <td>249.99</td>\n",
       "      <td>0</td>\n",
       "      <td>1</td>\n",
       "      <td>0</td>\n",
       "      <td>0</td>\n",
       "      <td>1</td>\n",
       "      <td>1</td>\n",
       "      <td>0</td>\n",
       "      <td>0.637298</td>\n",
       "      <td>0.362702</td>\n",
       "      <td>True</td>\n",
       "    </tr>\n",
       "    <tr>\n",
       "      <th>1472</th>\n",
       "      <td>0</td>\n",
       "      <td>36.95</td>\n",
       "      <td>1</td>\n",
       "      <td>0</td>\n",
       "      <td>0</td>\n",
       "      <td>0</td>\n",
       "      <td>0</td>\n",
       "      <td>0</td>\n",
       "      <td>1</td>\n",
       "      <td>0.428929</td>\n",
       "      <td>0.571071</td>\n",
       "      <td>True</td>\n",
       "    </tr>\n",
       "    <tr>\n",
       "      <th>1479</th>\n",
       "      <td>0</td>\n",
       "      <td>424.99</td>\n",
       "      <td>1</td>\n",
       "      <td>1</td>\n",
       "      <td>0</td>\n",
       "      <td>0</td>\n",
       "      <td>1</td>\n",
       "      <td>1</td>\n",
       "      <td>0</td>\n",
       "      <td>0.813536</td>\n",
       "      <td>0.186464</td>\n",
       "      <td>True</td>\n",
       "    </tr>\n",
       "    <tr>\n",
       "      <th>1481</th>\n",
       "      <td>0</td>\n",
       "      <td>239.95</td>\n",
       "      <td>1</td>\n",
       "      <td>0</td>\n",
       "      <td>0</td>\n",
       "      <td>1</td>\n",
       "      <td>0</td>\n",
       "      <td>1</td>\n",
       "      <td>0</td>\n",
       "      <td>0.737616</td>\n",
       "      <td>0.262384</td>\n",
       "      <td>True</td>\n",
       "    </tr>\n",
       "    <tr>\n",
       "      <th>1483</th>\n",
       "      <td>0</td>\n",
       "      <td>89.00</td>\n",
       "      <td>1</td>\n",
       "      <td>0</td>\n",
       "      <td>0</td>\n",
       "      <td>0</td>\n",
       "      <td>0</td>\n",
       "      <td>1</td>\n",
       "      <td>0</td>\n",
       "      <td>0.621513</td>\n",
       "      <td>0.378487</td>\n",
       "      <td>True</td>\n",
       "    </tr>\n",
       "  </tbody>\n",
       "</table>\n",
       "<p>282 rows × 12 columns</p>\n",
       "</div>"
      ],
      "text/plain": [
       "      BuyItNow  startprice  hasDescription  isNote  modelNumber_2  \\\n",
       "0            0      199.99               0       0              0   \n",
       "7            0      199.99               1       0              0   \n",
       "10           0       75.00               0       0              0   \n",
       "11           0      199.99               1       0              0   \n",
       "13           0      184.50               1       1              1   \n",
       "...        ...         ...             ...     ...            ...   \n",
       "1469         0      249.99               0       1              0   \n",
       "1472         0       36.95               1       0              0   \n",
       "1479         0      424.99               1       1              0   \n",
       "1481         0      239.95               1       0              0   \n",
       "1483         0       89.00               1       0              0   \n",
       "\n",
       "      modelNumber_3  modelNumber_4  sold  sold_pred  sold0_proba  sold1_proba  \\\n",
       "0                 1              0     1          0     0.566777     0.433223   \n",
       "7                 1              0     1          0     0.676896     0.323104   \n",
       "10                0              0     1          0     0.550112     0.449888   \n",
       "11                1              0     1          0     0.676896     0.323104   \n",
       "13                0              0     1          0     0.704286     0.295714   \n",
       "...             ...            ...   ...        ...          ...          ...   \n",
       "1469              0              1     1          0     0.637298     0.362702   \n",
       "1472              0              0     0          1     0.428929     0.571071   \n",
       "1479              0              1     1          0     0.813536     0.186464   \n",
       "1481              1              0     1          0     0.737616     0.262384   \n",
       "1483              0              0     1          0     0.621513     0.378487   \n",
       "\n",
       "      wrong_pred  \n",
       "0           True  \n",
       "7           True  \n",
       "10          True  \n",
       "11          True  \n",
       "13          True  \n",
       "...          ...  \n",
       "1469        True  \n",
       "1472        True  \n",
       "1479        True  \n",
       "1481        True  \n",
       "1483        True  \n",
       "\n",
       "[282 rows x 12 columns]"
      ]
     },
     "execution_count": 93,
     "metadata": {},
     "output_type": "execute_result"
    }
   ],
   "source": [
    "X2_rf_result[X2_rf_result['wrong_pred']==1]"
   ]
  },
  {
   "cell_type": "code",
   "execution_count": null,
   "id": "former-bicycle",
   "metadata": {},
   "outputs": [],
   "source": []
  },
  {
   "cell_type": "markdown",
   "id": "accredited-burst",
   "metadata": {},
   "source": [
    "### sold=1를 sold=0보다 2배 예측 못함\n"
   ]
  },
  {
   "cell_type": "code",
   "execution_count": 95,
   "id": "available-stationery",
   "metadata": {},
   "outputs": [
    {
     "data": {
      "text/plain": [
       "sold\n",
       "0     90\n",
       "1    192\n",
       "Name: BuyItNow, dtype: int64"
      ]
     },
     "execution_count": 95,
     "metadata": {},
     "output_type": "execute_result"
    }
   ],
   "source": [
    "X2_rf_result[X2_rf_result['wrong_pred']==1].groupby('sold')['BuyItNow'].count()"
   ]
  },
  {
   "cell_type": "code",
   "execution_count": 208,
   "id": "whole-adaptation",
   "metadata": {},
   "outputs": [],
   "source": [
    "wrong_pred = (X2_rf_result['wrong_pred']==1)\n",
    "right_pred = (X2_rf_result['wrong_pred']==0)\n",
    "not_sold = (X2_rf_result['sold']==0)\n",
    "sold = (X2_rf_result['sold']==1)\n",
    "not_BIN = (X2_rf_result['BuyItNow']==0)\n",
    "BIN = (X2_rf_result['BuyItNow']==1)\n",
    "\n",
    "X2_rf_result_sold0 = X2_rf_result[not_sold]\n",
    "X2_rf_result_sold1 = X2_rf_result[sold]\n",
    "X2_rf_result_wrong_sold0 = X2_rf_result[wrong_pred&not_sold]\n",
    "X2_rf_result_wrong_sold1 = X2_rf_result[wrong_pred&sold]"
   ]
  },
  {
   "cell_type": "code",
   "execution_count": 101,
   "id": "northern-somalia",
   "metadata": {},
   "outputs": [
    {
     "data": {
      "text/plain": [
       "BuyItNow\n",
       "0    169\n",
       "1     23\n",
       "Name: sold, dtype: int64"
      ]
     },
     "execution_count": 101,
     "metadata": {},
     "output_type": "execute_result"
    }
   ],
   "source": [
    "X2_rf_result_wrong_sold1.groupby('BuyItNow')['sold'].count()"
   ]
  },
  {
   "cell_type": "code",
   "execution_count": 103,
   "id": "searching-breast",
   "metadata": {},
   "outputs": [],
   "source": [
    "X2_rf_result_wrong_sold1_bin0 = X2_rf_result_wrong_sold1[not_BIN]"
   ]
  },
  {
   "cell_type": "code",
   "execution_count": 105,
   "id": "operational-industry",
   "metadata": {},
   "outputs": [
    {
     "data": {
      "text/html": [
       "<div>\n",
       "<style scoped>\n",
       "    .dataframe tbody tr th:only-of-type {\n",
       "        vertical-align: middle;\n",
       "    }\n",
       "\n",
       "    .dataframe tbody tr th {\n",
       "        vertical-align: top;\n",
       "    }\n",
       "\n",
       "    .dataframe thead th {\n",
       "        text-align: right;\n",
       "    }\n",
       "</style>\n",
       "<table border=\"1\" class=\"dataframe\">\n",
       "  <thead>\n",
       "    <tr style=\"text-align: right;\">\n",
       "      <th></th>\n",
       "      <th>BuyItNow</th>\n",
       "      <th>startprice</th>\n",
       "      <th>hasDescription</th>\n",
       "      <th>isNote</th>\n",
       "      <th>modelNumber_2</th>\n",
       "      <th>modelNumber_3</th>\n",
       "      <th>modelNumber_4</th>\n",
       "      <th>sold</th>\n",
       "      <th>sold_pred</th>\n",
       "      <th>sold0_proba</th>\n",
       "      <th>sold1_proba</th>\n",
       "      <th>wrong_pred</th>\n",
       "    </tr>\n",
       "  </thead>\n",
       "  <tbody>\n",
       "    <tr>\n",
       "      <th>0</th>\n",
       "      <td>0</td>\n",
       "      <td>199.99</td>\n",
       "      <td>0</td>\n",
       "      <td>0</td>\n",
       "      <td>0</td>\n",
       "      <td>1</td>\n",
       "      <td>0</td>\n",
       "      <td>1</td>\n",
       "      <td>0</td>\n",
       "      <td>0.566777</td>\n",
       "      <td>0.433223</td>\n",
       "      <td>True</td>\n",
       "    </tr>\n",
       "    <tr>\n",
       "      <th>7</th>\n",
       "      <td>0</td>\n",
       "      <td>199.99</td>\n",
       "      <td>1</td>\n",
       "      <td>0</td>\n",
       "      <td>0</td>\n",
       "      <td>1</td>\n",
       "      <td>0</td>\n",
       "      <td>1</td>\n",
       "      <td>0</td>\n",
       "      <td>0.676896</td>\n",
       "      <td>0.323104</td>\n",
       "      <td>True</td>\n",
       "    </tr>\n",
       "    <tr>\n",
       "      <th>10</th>\n",
       "      <td>0</td>\n",
       "      <td>75.00</td>\n",
       "      <td>0</td>\n",
       "      <td>0</td>\n",
       "      <td>0</td>\n",
       "      <td>0</td>\n",
       "      <td>0</td>\n",
       "      <td>1</td>\n",
       "      <td>0</td>\n",
       "      <td>0.550112</td>\n",
       "      <td>0.449888</td>\n",
       "      <td>True</td>\n",
       "    </tr>\n",
       "    <tr>\n",
       "      <th>11</th>\n",
       "      <td>0</td>\n",
       "      <td>199.99</td>\n",
       "      <td>1</td>\n",
       "      <td>0</td>\n",
       "      <td>0</td>\n",
       "      <td>1</td>\n",
       "      <td>0</td>\n",
       "      <td>1</td>\n",
       "      <td>0</td>\n",
       "      <td>0.676896</td>\n",
       "      <td>0.323104</td>\n",
       "      <td>True</td>\n",
       "    </tr>\n",
       "    <tr>\n",
       "      <th>13</th>\n",
       "      <td>0</td>\n",
       "      <td>184.50</td>\n",
       "      <td>1</td>\n",
       "      <td>1</td>\n",
       "      <td>1</td>\n",
       "      <td>0</td>\n",
       "      <td>0</td>\n",
       "      <td>1</td>\n",
       "      <td>0</td>\n",
       "      <td>0.704286</td>\n",
       "      <td>0.295714</td>\n",
       "      <td>True</td>\n",
       "    </tr>\n",
       "    <tr>\n",
       "      <th>...</th>\n",
       "      <td>...</td>\n",
       "      <td>...</td>\n",
       "      <td>...</td>\n",
       "      <td>...</td>\n",
       "      <td>...</td>\n",
       "      <td>...</td>\n",
       "      <td>...</td>\n",
       "      <td>...</td>\n",
       "      <td>...</td>\n",
       "      <td>...</td>\n",
       "      <td>...</td>\n",
       "      <td>...</td>\n",
       "    </tr>\n",
       "    <tr>\n",
       "      <th>1459</th>\n",
       "      <td>0</td>\n",
       "      <td>85.00</td>\n",
       "      <td>0</td>\n",
       "      <td>0</td>\n",
       "      <td>0</td>\n",
       "      <td>0</td>\n",
       "      <td>0</td>\n",
       "      <td>1</td>\n",
       "      <td>0</td>\n",
       "      <td>0.679138</td>\n",
       "      <td>0.320862</td>\n",
       "      <td>True</td>\n",
       "    </tr>\n",
       "    <tr>\n",
       "      <th>1469</th>\n",
       "      <td>0</td>\n",
       "      <td>249.99</td>\n",
       "      <td>0</td>\n",
       "      <td>1</td>\n",
       "      <td>0</td>\n",
       "      <td>0</td>\n",
       "      <td>1</td>\n",
       "      <td>1</td>\n",
       "      <td>0</td>\n",
       "      <td>0.637298</td>\n",
       "      <td>0.362702</td>\n",
       "      <td>True</td>\n",
       "    </tr>\n",
       "    <tr>\n",
       "      <th>1479</th>\n",
       "      <td>0</td>\n",
       "      <td>424.99</td>\n",
       "      <td>1</td>\n",
       "      <td>1</td>\n",
       "      <td>0</td>\n",
       "      <td>0</td>\n",
       "      <td>1</td>\n",
       "      <td>1</td>\n",
       "      <td>0</td>\n",
       "      <td>0.813536</td>\n",
       "      <td>0.186464</td>\n",
       "      <td>True</td>\n",
       "    </tr>\n",
       "    <tr>\n",
       "      <th>1481</th>\n",
       "      <td>0</td>\n",
       "      <td>239.95</td>\n",
       "      <td>1</td>\n",
       "      <td>0</td>\n",
       "      <td>0</td>\n",
       "      <td>1</td>\n",
       "      <td>0</td>\n",
       "      <td>1</td>\n",
       "      <td>0</td>\n",
       "      <td>0.737616</td>\n",
       "      <td>0.262384</td>\n",
       "      <td>True</td>\n",
       "    </tr>\n",
       "    <tr>\n",
       "      <th>1483</th>\n",
       "      <td>0</td>\n",
       "      <td>89.00</td>\n",
       "      <td>1</td>\n",
       "      <td>0</td>\n",
       "      <td>0</td>\n",
       "      <td>0</td>\n",
       "      <td>0</td>\n",
       "      <td>1</td>\n",
       "      <td>0</td>\n",
       "      <td>0.621513</td>\n",
       "      <td>0.378487</td>\n",
       "      <td>True</td>\n",
       "    </tr>\n",
       "  </tbody>\n",
       "</table>\n",
       "<p>169 rows × 12 columns</p>\n",
       "</div>"
      ],
      "text/plain": [
       "      BuyItNow  startprice  hasDescription  isNote  modelNumber_2  \\\n",
       "0            0      199.99               0       0              0   \n",
       "7            0      199.99               1       0              0   \n",
       "10           0       75.00               0       0              0   \n",
       "11           0      199.99               1       0              0   \n",
       "13           0      184.50               1       1              1   \n",
       "...        ...         ...             ...     ...            ...   \n",
       "1459         0       85.00               0       0              0   \n",
       "1469         0      249.99               0       1              0   \n",
       "1479         0      424.99               1       1              0   \n",
       "1481         0      239.95               1       0              0   \n",
       "1483         0       89.00               1       0              0   \n",
       "\n",
       "      modelNumber_3  modelNumber_4  sold  sold_pred  sold0_proba  sold1_proba  \\\n",
       "0                 1              0     1          0     0.566777     0.433223   \n",
       "7                 1              0     1          0     0.676896     0.323104   \n",
       "10                0              0     1          0     0.550112     0.449888   \n",
       "11                1              0     1          0     0.676896     0.323104   \n",
       "13                0              0     1          0     0.704286     0.295714   \n",
       "...             ...            ...   ...        ...          ...          ...   \n",
       "1459              0              0     1          0     0.679138     0.320862   \n",
       "1469              0              1     1          0     0.637298     0.362702   \n",
       "1479              0              1     1          0     0.813536     0.186464   \n",
       "1481              1              0     1          0     0.737616     0.262384   \n",
       "1483              0              0     1          0     0.621513     0.378487   \n",
       "\n",
       "      wrong_pred  \n",
       "0           True  \n",
       "7           True  \n",
       "10          True  \n",
       "11          True  \n",
       "13          True  \n",
       "...          ...  \n",
       "1459        True  \n",
       "1469        True  \n",
       "1479        True  \n",
       "1481        True  \n",
       "1483        True  \n",
       "\n",
       "[169 rows x 12 columns]"
      ]
     },
     "execution_count": 105,
     "metadata": {},
     "output_type": "execute_result"
    }
   ],
   "source": [
    "X2_rf_result_wrong_sold1_bin0"
   ]
  },
  {
   "cell_type": "code",
   "execution_count": 113,
   "id": "associate-keyboard",
   "metadata": {},
   "outputs": [
    {
     "data": {
      "text/plain": [
       "sold  BuyItNow  isNote  modelNumber_2  modelNumber_3  modelNumber_4\n",
       "0     0         1       0              0              1                468.784540\n",
       "      1         1       0              0              1                416.711071\n",
       "1     0         1       0              0              1                400.213243\n",
       "                0       0              0              1                336.333333\n",
       "                1       0              1              0                325.262000\n",
       "0     0         1       0              1              0                317.981957\n",
       "                0       0              1              0                317.914054\n",
       "                                       0              1                296.917500\n",
       "      1         1       0              1              0                267.911667\n",
       "      0         1       1              0              0                258.026102\n",
       "      1         0       0              1              0                236.517368\n",
       "1     0         0       0              1              0                232.071053\n",
       "0     0         0       1              0              0                229.743960\n",
       "1     0         0       1              0              0                204.264237\n",
       "0     1         1       1              0              0                198.855000\n",
       "1     0         1       1              0              0                198.411765\n",
       "0     1         0       1              0              0                191.691385\n",
       "1     1         1       0              0              1                185.255179\n",
       "                0       0              0              1                160.000000\n",
       "                1       0              1              0                132.853824\n",
       "0     0         0       0              0              0                126.981750\n",
       "      1         0       0              0              0                122.860000\n",
       "1     1         0       0              1              0                 89.381304\n",
       "                1       1              0              0                 88.213333\n",
       "      0         0       0              0              0                 84.726897\n",
       "      1         0       1              0              0                 65.269032\n",
       "                        0              0              0                 39.506146\n",
       "Name: startprice, dtype: float64"
      ]
     },
     "execution_count": 113,
     "metadata": {},
     "output_type": "execute_result"
    }
   ],
   "source": [
    "X2_rf_result.groupby(['sold','BuyItNow','isNote',\n",
    "                                       'modelNumber_2',\n",
    "                                       'modelNumber_3',\n",
    "                                       'modelNumber_4'])['startprice'].mean().\\\n",
    "                                        sort_values(ascending=False)"
   ]
  },
  {
   "cell_type": "markdown",
   "id": "careful-savage",
   "metadata": {},
   "source": [
    "### BuyItNow=0이면서 팔린 모든 갤럭시 vs. BuyItNow=0이면서 팔렸지만 예측 틀린 갤럭시"
   ]
  },
  {
   "cell_type": "code",
   "execution_count": 209,
   "id": "excess-bottle",
   "metadata": {},
   "outputs": [
    {
     "data": {
      "text/plain": [
       "<AxesSubplot:xlabel='startprice', ylabel='Count'>"
      ]
     },
     "execution_count": 209,
     "metadata": {},
     "output_type": "execute_result"
    },
    {
     "data": {
      "image/png": "[encoded data removed]",
      "text/plain": [
       "<Figure size 432x288 with 1 Axes>"
      ]
     },
     "metadata": {
      "needs_background": "light"
     },
     "output_type": "display_data"
    }
   ],
   "source": [
    "sns.histplot(X2_rf_result[sold&not_BIN]['startprice'])\n",
    "sns.histplot(X2_rf_result[wrong_pred&sold&not_BIN]['startprice'], color='red')"
   ]
  },
  {
   "cell_type": "code",
   "execution_count": 219,
   "id": "driving-gothic",
   "metadata": {},
   "outputs": [
    {
     "data": {
      "text/html": [
       "<div>\n",
       "<style scoped>\n",
       "    .dataframe tbody tr th:only-of-type {\n",
       "        vertical-align: middle;\n",
       "    }\n",
       "\n",
       "    .dataframe tbody tr th {\n",
       "        vertical-align: top;\n",
       "    }\n",
       "\n",
       "    .dataframe thead th {\n",
       "        text-align: right;\n",
       "    }\n",
       "</style>\n",
       "<table border=\"1\" class=\"dataframe\">\n",
       "  <thead>\n",
       "    <tr style=\"text-align: right;\">\n",
       "      <th></th>\n",
       "      <th>BuyItNow</th>\n",
       "      <th>startprice</th>\n",
       "      <th>hasDescription</th>\n",
       "      <th>isNote</th>\n",
       "      <th>modelNumber_2</th>\n",
       "      <th>modelNumber_3</th>\n",
       "      <th>modelNumber_4</th>\n",
       "      <th>sold</th>\n",
       "      <th>sold_pred</th>\n",
       "      <th>sold0_proba</th>\n",
       "      <th>sold1_proba</th>\n",
       "      <th>wrong_pred</th>\n",
       "    </tr>\n",
       "  </thead>\n",
       "  <tbody>\n",
       "    <tr>\n",
       "      <th>0</th>\n",
       "      <td>0</td>\n",
       "      <td>199.99</td>\n",
       "      <td>0</td>\n",
       "      <td>0</td>\n",
       "      <td>0</td>\n",
       "      <td>1</td>\n",
       "      <td>0</td>\n",
       "      <td>1</td>\n",
       "      <td>0</td>\n",
       "      <td>0.566777</td>\n",
       "      <td>0.433223</td>\n",
       "      <td>True</td>\n",
       "    </tr>\n",
       "    <tr>\n",
       "      <th>7</th>\n",
       "      <td>0</td>\n",
       "      <td>199.99</td>\n",
       "      <td>1</td>\n",
       "      <td>0</td>\n",
       "      <td>0</td>\n",
       "      <td>1</td>\n",
       "      <td>0</td>\n",
       "      <td>1</td>\n",
       "      <td>0</td>\n",
       "      <td>0.676896</td>\n",
       "      <td>0.323104</td>\n",
       "      <td>True</td>\n",
       "    </tr>\n",
       "    <tr>\n",
       "      <th>10</th>\n",
       "      <td>0</td>\n",
       "      <td>75.00</td>\n",
       "      <td>0</td>\n",
       "      <td>0</td>\n",
       "      <td>0</td>\n",
       "      <td>0</td>\n",
       "      <td>0</td>\n",
       "      <td>1</td>\n",
       "      <td>0</td>\n",
       "      <td>0.550112</td>\n",
       "      <td>0.449888</td>\n",
       "      <td>True</td>\n",
       "    </tr>\n",
       "    <tr>\n",
       "      <th>11</th>\n",
       "      <td>0</td>\n",
       "      <td>199.99</td>\n",
       "      <td>1</td>\n",
       "      <td>0</td>\n",
       "      <td>0</td>\n",
       "      <td>1</td>\n",
       "      <td>0</td>\n",
       "      <td>1</td>\n",
       "      <td>0</td>\n",
       "      <td>0.676896</td>\n",
       "      <td>0.323104</td>\n",
       "      <td>True</td>\n",
       "    </tr>\n",
       "    <tr>\n",
       "      <th>13</th>\n",
       "      <td>0</td>\n",
       "      <td>184.50</td>\n",
       "      <td>1</td>\n",
       "      <td>1</td>\n",
       "      <td>1</td>\n",
       "      <td>0</td>\n",
       "      <td>0</td>\n",
       "      <td>1</td>\n",
       "      <td>0</td>\n",
       "      <td>0.704286</td>\n",
       "      <td>0.295714</td>\n",
       "      <td>True</td>\n",
       "    </tr>\n",
       "    <tr>\n",
       "      <th>...</th>\n",
       "      <td>...</td>\n",
       "      <td>...</td>\n",
       "      <td>...</td>\n",
       "      <td>...</td>\n",
       "      <td>...</td>\n",
       "      <td>...</td>\n",
       "      <td>...</td>\n",
       "      <td>...</td>\n",
       "      <td>...</td>\n",
       "      <td>...</td>\n",
       "      <td>...</td>\n",
       "      <td>...</td>\n",
       "    </tr>\n",
       "    <tr>\n",
       "      <th>1459</th>\n",
       "      <td>0</td>\n",
       "      <td>85.00</td>\n",
       "      <td>0</td>\n",
       "      <td>0</td>\n",
       "      <td>0</td>\n",
       "      <td>0</td>\n",
       "      <td>0</td>\n",
       "      <td>1</td>\n",
       "      <td>0</td>\n",
       "      <td>0.679138</td>\n",
       "      <td>0.320862</td>\n",
       "      <td>True</td>\n",
       "    </tr>\n",
       "    <tr>\n",
       "      <th>1469</th>\n",
       "      <td>0</td>\n",
       "      <td>249.99</td>\n",
       "      <td>0</td>\n",
       "      <td>1</td>\n",
       "      <td>0</td>\n",
       "      <td>0</td>\n",
       "      <td>1</td>\n",
       "      <td>1</td>\n",
       "      <td>0</td>\n",
       "      <td>0.637298</td>\n",
       "      <td>0.362702</td>\n",
       "      <td>True</td>\n",
       "    </tr>\n",
       "    <tr>\n",
       "      <th>1479</th>\n",
       "      <td>0</td>\n",
       "      <td>424.99</td>\n",
       "      <td>1</td>\n",
       "      <td>1</td>\n",
       "      <td>0</td>\n",
       "      <td>0</td>\n",
       "      <td>1</td>\n",
       "      <td>1</td>\n",
       "      <td>0</td>\n",
       "      <td>0.813536</td>\n",
       "      <td>0.186464</td>\n",
       "      <td>True</td>\n",
       "    </tr>\n",
       "    <tr>\n",
       "      <th>1481</th>\n",
       "      <td>0</td>\n",
       "      <td>239.95</td>\n",
       "      <td>1</td>\n",
       "      <td>0</td>\n",
       "      <td>0</td>\n",
       "      <td>1</td>\n",
       "      <td>0</td>\n",
       "      <td>1</td>\n",
       "      <td>0</td>\n",
       "      <td>0.737616</td>\n",
       "      <td>0.262384</td>\n",
       "      <td>True</td>\n",
       "    </tr>\n",
       "    <tr>\n",
       "      <th>1483</th>\n",
       "      <td>0</td>\n",
       "      <td>89.00</td>\n",
       "      <td>1</td>\n",
       "      <td>0</td>\n",
       "      <td>0</td>\n",
       "      <td>0</td>\n",
       "      <td>0</td>\n",
       "      <td>1</td>\n",
       "      <td>0</td>\n",
       "      <td>0.621513</td>\n",
       "      <td>0.378487</td>\n",
       "      <td>True</td>\n",
       "    </tr>\n",
       "  </tbody>\n",
       "</table>\n",
       "<p>169 rows × 12 columns</p>\n",
       "</div>"
      ],
      "text/plain": [
       "      BuyItNow  startprice  hasDescription  isNote  modelNumber_2  \\\n",
       "0            0      199.99               0       0              0   \n",
       "7            0      199.99               1       0              0   \n",
       "10           0       75.00               0       0              0   \n",
       "11           0      199.99               1       0              0   \n",
       "13           0      184.50               1       1              1   \n",
       "...        ...         ...             ...     ...            ...   \n",
       "1459         0       85.00               0       0              0   \n",
       "1469         0      249.99               0       1              0   \n",
       "1479         0      424.99               1       1              0   \n",
       "1481         0      239.95               1       0              0   \n",
       "1483         0       89.00               1       0              0   \n",
       "\n",
       "      modelNumber_3  modelNumber_4  sold  sold_pred  sold0_proba  sold1_proba  \\\n",
       "0                 1              0     1          0     0.566777     0.433223   \n",
       "7                 1              0     1          0     0.676896     0.323104   \n",
       "10                0              0     1          0     0.550112     0.449888   \n",
       "11                1              0     1          0     0.676896     0.323104   \n",
       "13                0              0     1          0     0.704286     0.295714   \n",
       "...             ...            ...   ...        ...          ...          ...   \n",
       "1459              0              0     1          0     0.679138     0.320862   \n",
       "1469              0              1     1          0     0.637298     0.362702   \n",
       "1479              0              1     1          0     0.813536     0.186464   \n",
       "1481              1              0     1          0     0.737616     0.262384   \n",
       "1483              0              0     1          0     0.621513     0.378487   \n",
       "\n",
       "      wrong_pred  \n",
       "0           True  \n",
       "7           True  \n",
       "10          True  \n",
       "11          True  \n",
       "13          True  \n",
       "...          ...  \n",
       "1459        True  \n",
       "1469        True  \n",
       "1479        True  \n",
       "1481        True  \n",
       "1483        True  \n",
       "\n",
       "[169 rows x 12 columns]"
      ]
     },
     "execution_count": 219,
     "metadata": {},
     "output_type": "execute_result"
    }
   ],
   "source": [
    "X2_rf_result[wrong_pred&sold&not_BIN]"
   ]
  },
  {
   "cell_type": "code",
   "execution_count": 220,
   "id": "liberal-hamburg",
   "metadata": {},
   "outputs": [
    {
     "data": {
      "text/plain": [
       "hasDescription\n",
       "0    265.836117\n",
       "1    230.368030\n",
       "Name: startprice, dtype: float64"
      ]
     },
     "execution_count": 220,
     "metadata": {},
     "output_type": "execute_result"
    }
   ],
   "source": [
    "X2_rf_result[wrong_pred&sold&not_BIN].groupby('hasDescription')['startprice'].mean()"
   ]
  },
  {
   "cell_type": "code",
   "execution_count": 218,
   "id": "plastic-habitat",
   "metadata": {},
   "outputs": [
    {
     "data": {
      "text/html": [
       "<div>\n",
       "<style scoped>\n",
       "    .dataframe tbody tr th:only-of-type {\n",
       "        vertical-align: middle;\n",
       "    }\n",
       "\n",
       "    .dataframe tbody tr th {\n",
       "        vertical-align: top;\n",
       "    }\n",
       "\n",
       "    .dataframe thead th {\n",
       "        text-align: right;\n",
       "    }\n",
       "</style>\n",
       "<table border=\"1\" class=\"dataframe\">\n",
       "  <thead>\n",
       "    <tr style=\"text-align: right;\">\n",
       "      <th></th>\n",
       "      <th>BuyItNow</th>\n",
       "      <th>startprice</th>\n",
       "      <th>hasDescription</th>\n",
       "      <th>isNote</th>\n",
       "      <th>modelNumber_2</th>\n",
       "      <th>modelNumber_3</th>\n",
       "      <th>modelNumber_4</th>\n",
       "      <th>sold</th>\n",
       "      <th>sold_pred</th>\n",
       "      <th>sold0_proba</th>\n",
       "      <th>sold1_proba</th>\n",
       "      <th>wrong_pred</th>\n",
       "    </tr>\n",
       "  </thead>\n",
       "  <tbody>\n",
       "    <tr>\n",
       "      <th>1250</th>\n",
       "      <td>0</td>\n",
       "      <td>8.00</td>\n",
       "      <td>1</td>\n",
       "      <td>0</td>\n",
       "      <td>0</td>\n",
       "      <td>1</td>\n",
       "      <td>0</td>\n",
       "      <td>1</td>\n",
       "      <td>1</td>\n",
       "      <td>0.388667</td>\n",
       "      <td>0.611333</td>\n",
       "      <td>False</td>\n",
       "    </tr>\n",
       "    <tr>\n",
       "      <th>1276</th>\n",
       "      <td>0</td>\n",
       "      <td>29.95</td>\n",
       "      <td>1</td>\n",
       "      <td>0</td>\n",
       "      <td>0</td>\n",
       "      <td>0</td>\n",
       "      <td>0</td>\n",
       "      <td>1</td>\n",
       "      <td>1</td>\n",
       "      <td>0.431916</td>\n",
       "      <td>0.568084</td>\n",
       "      <td>False</td>\n",
       "    </tr>\n",
       "    <tr>\n",
       "      <th>1326</th>\n",
       "      <td>0</td>\n",
       "      <td>54.99</td>\n",
       "      <td>1</td>\n",
       "      <td>0</td>\n",
       "      <td>0</td>\n",
       "      <td>0</td>\n",
       "      <td>0</td>\n",
       "      <td>1</td>\n",
       "      <td>1</td>\n",
       "      <td>0.426525</td>\n",
       "      <td>0.573475</td>\n",
       "      <td>False</td>\n",
       "    </tr>\n",
       "    <tr>\n",
       "      <th>1351</th>\n",
       "      <td>0</td>\n",
       "      <td>29.99</td>\n",
       "      <td>1</td>\n",
       "      <td>0</td>\n",
       "      <td>0</td>\n",
       "      <td>0</td>\n",
       "      <td>0</td>\n",
       "      <td>1</td>\n",
       "      <td>1</td>\n",
       "      <td>0.428747</td>\n",
       "      <td>0.571253</td>\n",
       "      <td>False</td>\n",
       "    </tr>\n",
       "    <tr>\n",
       "      <th>1365</th>\n",
       "      <td>0</td>\n",
       "      <td>36.95</td>\n",
       "      <td>1</td>\n",
       "      <td>0</td>\n",
       "      <td>0</td>\n",
       "      <td>0</td>\n",
       "      <td>0</td>\n",
       "      <td>1</td>\n",
       "      <td>1</td>\n",
       "      <td>0.428929</td>\n",
       "      <td>0.571071</td>\n",
       "      <td>False</td>\n",
       "    </tr>\n",
       "    <tr>\n",
       "      <th>1370</th>\n",
       "      <td>0</td>\n",
       "      <td>52.99</td>\n",
       "      <td>1</td>\n",
       "      <td>0</td>\n",
       "      <td>0</td>\n",
       "      <td>0</td>\n",
       "      <td>0</td>\n",
       "      <td>1</td>\n",
       "      <td>1</td>\n",
       "      <td>0.428201</td>\n",
       "      <td>0.571799</td>\n",
       "      <td>False</td>\n",
       "    </tr>\n",
       "    <tr>\n",
       "      <th>1380</th>\n",
       "      <td>0</td>\n",
       "      <td>36.95</td>\n",
       "      <td>1</td>\n",
       "      <td>0</td>\n",
       "      <td>0</td>\n",
       "      <td>0</td>\n",
       "      <td>0</td>\n",
       "      <td>1</td>\n",
       "      <td>1</td>\n",
       "      <td>0.428929</td>\n",
       "      <td>0.571071</td>\n",
       "      <td>False</td>\n",
       "    </tr>\n",
       "    <tr>\n",
       "      <th>1392</th>\n",
       "      <td>0</td>\n",
       "      <td>55.66</td>\n",
       "      <td>1</td>\n",
       "      <td>0</td>\n",
       "      <td>0</td>\n",
       "      <td>0</td>\n",
       "      <td>0</td>\n",
       "      <td>1</td>\n",
       "      <td>1</td>\n",
       "      <td>0.431226</td>\n",
       "      <td>0.568774</td>\n",
       "      <td>False</td>\n",
       "    </tr>\n",
       "    <tr>\n",
       "      <th>1396</th>\n",
       "      <td>0</td>\n",
       "      <td>59.00</td>\n",
       "      <td>1</td>\n",
       "      <td>1</td>\n",
       "      <td>0</td>\n",
       "      <td>0</td>\n",
       "      <td>1</td>\n",
       "      <td>1</td>\n",
       "      <td>1</td>\n",
       "      <td>0.482085</td>\n",
       "      <td>0.517915</td>\n",
       "      <td>False</td>\n",
       "    </tr>\n",
       "    <tr>\n",
       "      <th>1441</th>\n",
       "      <td>0</td>\n",
       "      <td>36.95</td>\n",
       "      <td>1</td>\n",
       "      <td>0</td>\n",
       "      <td>0</td>\n",
       "      <td>0</td>\n",
       "      <td>0</td>\n",
       "      <td>1</td>\n",
       "      <td>1</td>\n",
       "      <td>0.428929</td>\n",
       "      <td>0.571071</td>\n",
       "      <td>False</td>\n",
       "    </tr>\n",
       "  </tbody>\n",
       "</table>\n",
       "</div>"
      ],
      "text/plain": [
       "      BuyItNow  startprice  hasDescription  isNote  modelNumber_2  \\\n",
       "1250         0        8.00               1       0              0   \n",
       "1276         0       29.95               1       0              0   \n",
       "1326         0       54.99               1       0              0   \n",
       "1351         0       29.99               1       0              0   \n",
       "1365         0       36.95               1       0              0   \n",
       "1370         0       52.99               1       0              0   \n",
       "1380         0       36.95               1       0              0   \n",
       "1392         0       55.66               1       0              0   \n",
       "1396         0       59.00               1       1              0   \n",
       "1441         0       36.95               1       0              0   \n",
       "\n",
       "      modelNumber_3  modelNumber_4  sold  sold_pred  sold0_proba  sold1_proba  \\\n",
       "1250              1              0     1          1     0.388667     0.611333   \n",
       "1276              0              0     1          1     0.431916     0.568084   \n",
       "1326              0              0     1          1     0.426525     0.573475   \n",
       "1351              0              0     1          1     0.428747     0.571253   \n",
       "1365              0              0     1          1     0.428929     0.571071   \n",
       "1370              0              0     1          1     0.428201     0.571799   \n",
       "1380              0              0     1          1     0.428929     0.571071   \n",
       "1392              0              0     1          1     0.431226     0.568774   \n",
       "1396              0              1     1          1     0.482085     0.517915   \n",
       "1441              0              0     1          1     0.428929     0.571071   \n",
       "\n",
       "      wrong_pred  \n",
       "1250       False  \n",
       "1276       False  \n",
       "1326       False  \n",
       "1351       False  \n",
       "1365       False  \n",
       "1370       False  \n",
       "1380       False  \n",
       "1392       False  \n",
       "1396       False  \n",
       "1441       False  "
      ]
     },
     "execution_count": 218,
     "metadata": {},
     "output_type": "execute_result"
    }
   ],
   "source": [
    "X2_rf_result[right_pred&sold&not_BIN]"
   ]
  },
  {
   "cell_type": "code",
   "execution_count": null,
   "id": "promotional-virgin",
   "metadata": {},
   "outputs": [],
   "source": []
  },
  {
   "cell_type": "code",
   "execution_count": null,
   "id": "compound-screening",
   "metadata": {},
   "outputs": [],
   "source": []
  },
  {
   "cell_type": "code",
   "execution_count": null,
   "id": "cognitive-second",
   "metadata": {},
   "outputs": [],
   "source": []
  },
  {
   "cell_type": "markdown",
   "id": "concrete-stupid",
   "metadata": {},
   "source": [
    "# Takeaway:\n",
    "- feature가 많으면 많을수록 startprice의 의미가 불명확해진다 (서로 겹침)"
   ]
  },
  {
   "cell_type": "code",
   "execution_count": 107,
   "id": "relative-camping",
   "metadata": {},
   "outputs": [
    {
     "data": {
      "text/plain": [
       "isNote  modelNumber_2  modelNumber_3  modelNumber_4\n",
       "0       0              0              0                101.078571\n",
       "                                      1                336.333333\n",
       "                       1              0                244.519444\n",
       "        1              0              0                204.264237\n",
       "1       0              0              1                409.691389\n",
       "                       1              0                325.262000\n",
       "        1              0              0                198.411765\n",
       "Name: startprice, dtype: float64"
      ]
     },
     "execution_count": 107,
     "metadata": {},
     "output_type": "execute_result"
    }
   ],
   "source": [
    "X2_rf_result_wrong_sold1_bin0.groupby(['isNote',\n",
    "                                       'modelNumber_2',\n",
    "                                       'modelNumber_3',\n",
    "                                       'modelNumber_4'])['startprice'].mean()"
   ]
  },
  {
   "cell_type": "code",
   "execution_count": 111,
   "id": "given-inspiration",
   "metadata": {},
   "outputs": [
    {
     "data": {
      "text/plain": [
       "isNote  modelNumber_2  modelNumber_3  modelNumber_4  hasDescription\n",
       "0       0              0              0              0                 106.355000\n",
       "                                                     1                  90.525714\n",
       "                                      1              0                 379.500000\n",
       "                                                     1                 250.000000\n",
       "                       1              0              0                 249.270000\n",
       "                                                     1                 237.054286\n",
       "        1              0              0              0                 193.135429\n",
       "                                                     1                 220.493750\n",
       "1       0              0              1              0                 415.646667\n",
       "                                                     1                 391.825556\n",
       "                       1              0              0                 343.999091\n",
       "                                                     1                 273.735000\n",
       "        1              0              0              0                 208.330000\n",
       "                                                     1                 196.286429\n",
       "Name: startprice, dtype: float64"
      ]
     },
     "execution_count": 111,
     "metadata": {},
     "output_type": "execute_result"
    }
   ],
   "source": [
    "X2_rf_result_wrong_sold1_bin0.groupby(['isNote',\n",
    "                                       'modelNumber_2',\n",
    "                                       'modelNumber_3',\n",
    "                                       'modelNumber_4',\n",
    "                                      'hasDescription'])['startprice'].mean()"
   ]
  },
  {
   "cell_type": "code",
   "execution_count": 120,
   "id": "raised-respondent",
   "metadata": {},
   "outputs": [
    {
     "data": {
      "text/plain": [
       "sold  BuyItNow  isNote  modelNumber_2  modelNumber_3  modelNumber_4  hasDescription\n",
       "0     0         1       0              0              1              0                 506.064762\n",
       "      1         1       0              0              1              0                 470.747500\n",
       "1     0         1       0              0              1              0                 415.646667\n",
       "0     0         1       0              0              1              1                 412.053768\n",
       "1     0         0       0              0              1              0                 379.500000\n",
       "                1       0              0              1              1                 358.543000\n",
       "                                       1              0              0                 343.999091\n",
       "0     0         0       0              1              0              0                 333.422083\n",
       "                1       0              1              0              0                 322.983333\n",
       "                0       0              1              0              1                 310.470200\n",
       "                1       0              1              0              1                 308.604375\n",
       "                0       0              0              1              1                 303.670000\n",
       "                                                                     0                 294.666667\n",
       "      1         1       0              0              1              1                 281.620000\n",
       "      0         1       1              0              0              0                 275.867500\n",
       "1     0         1       0              1              0              1                 273.735000\n",
       "0     1         1       0              1              0              1                 268.990000\n",
       "                                                                     0                 267.141429\n",
       "      0         1       1              0              0              1                 251.387442\n",
       "1     0         0       0              0              1              1                 250.000000\n",
       "                                       1              0              0                 249.270000\n",
       "0     0         0       1              0              0              0                 247.778293\n",
       "      1         0       0              1              0              1                 237.885000\n",
       "                                                                     0                 234.997778\n",
       "1     1         1       0              0              1              0                 221.894412\n",
       "      0         0       1              0              0              1                 220.493750\n",
       "0     1         1       1              0              0              1                 209.998000\n",
       "1     0         0       0              1              0              1                 208.422500\n",
       "                1       1              0              0              0                 208.330000\n",
       "0     0         0       1              0              0              1                 201.665190\n",
       "      1         0       1              0              0              0                 200.349767\n",
       "1     0         1       1              0              0              1                 196.286429\n",
       "                0       1              0              0              0                 193.135429\n",
       "0     1         1       1              0              0              0                 192.664444\n",
       "                0       1              0              0              1                 174.768182\n",
       "1     1         0       0              0              1              0                 160.000000\n",
       "                1       0              1              0              1                 153.160833\n",
       "0     1         0       0              0              0              0                 147.413333\n",
       "      0         0       0              0              0              0                 131.533810\n",
       "1     1         1       0              0              1              1                 128.630909\n",
       "0     0         0       0              0              0              1                 121.950526\n",
       "1     1         1       0              1              0              0                 121.777273\n",
       "      0         0       0              0              0              0                 106.355000\n",
       "      1         0       0              1              0              0                 103.953333\n",
       "                1       1              0              0              0                  97.872093\n",
       "0     1         0       0              0              0              1                  93.396000\n",
       "1     1         0       1              0              0              0                  71.083846\n",
       "                1       1              0              0              1                  67.447000\n",
       "      0         0       0              0              0              1                  64.540667\n",
       "      1         0       0              1              0              1                  62.058750\n",
       "                        1              0              0              1                  57.001094\n",
       "                        0              0              0              0                  41.077273\n",
       "                                                                     1                  37.398537\n",
       "Name: startprice, dtype: float64"
      ]
     },
     "execution_count": 120,
     "metadata": {},
     "output_type": "execute_result"
    }
   ],
   "source": [
    "X2_rf_result.groupby(['sold','BuyItNow','isNote',\n",
    "                                       'modelNumber_2',\n",
    "                                       'modelNumber_3',\n",
    "                                       'modelNumber_4',\n",
    "                                    'hasDescription'])['startprice'].mean().\\\n",
    "                                        sort_values(ascending=False)"
   ]
  },
  {
   "cell_type": "code",
   "execution_count": null,
   "id": "shaped-machine",
   "metadata": {},
   "outputs": [],
   "source": []
  },
  {
   "cell_type": "markdown",
   "id": "closing-wedding",
   "metadata": {},
   "source": [
    "# Modeling X3"
   ]
  },
  {
   "cell_type": "code",
   "execution_count": null,
   "id": "square-management",
   "metadata": {},
   "outputs": [],
   "source": [
    "X3 = df_cleaned2.drop(['sold', 'hasDescription'], axis=1)\n",
    "y3 = df_cleaned2.sold\n",
    "X3_train, X3_test, y3_train, y3_test = train_test_split(X3, y3, test_size=0.2, random_state=11)"
   ]
  },
  {
   "cell_type": "code",
   "execution_count": 116,
   "id": "australian-hacker",
   "metadata": {},
   "outputs": [
    {
     "data": {
      "text/html": [
       "<div>\n",
       "<style scoped>\n",
       "    .dataframe tbody tr th:only-of-type {\n",
       "        vertical-align: middle;\n",
       "    }\n",
       "\n",
       "    .dataframe tbody tr th {\n",
       "        vertical-align: top;\n",
       "    }\n",
       "\n",
       "    .dataframe thead th {\n",
       "        text-align: right;\n",
       "    }\n",
       "</style>\n",
       "<table border=\"1\" class=\"dataframe\">\n",
       "  <thead>\n",
       "    <tr style=\"text-align: right;\">\n",
       "      <th></th>\n",
       "      <th>BuyItNow</th>\n",
       "      <th>startprice</th>\n",
       "      <th>isNote</th>\n",
       "      <th>modelNumber_2</th>\n",
       "      <th>modelNumber_3</th>\n",
       "      <th>modelNumber_4</th>\n",
       "    </tr>\n",
       "  </thead>\n",
       "  <tbody>\n",
       "    <tr>\n",
       "      <th>0</th>\n",
       "      <td>0</td>\n",
       "      <td>199.99</td>\n",
       "      <td>0</td>\n",
       "      <td>0</td>\n",
       "      <td>1</td>\n",
       "      <td>0</td>\n",
       "    </tr>\n",
       "    <tr>\n",
       "      <th>1</th>\n",
       "      <td>0</td>\n",
       "      <td>235.00</td>\n",
       "      <td>1</td>\n",
       "      <td>0</td>\n",
       "      <td>1</td>\n",
       "      <td>0</td>\n",
       "    </tr>\n",
       "    <tr>\n",
       "      <th>2</th>\n",
       "      <td>0</td>\n",
       "      <td>199.99</td>\n",
       "      <td>0</td>\n",
       "      <td>1</td>\n",
       "      <td>0</td>\n",
       "      <td>0</td>\n",
       "    </tr>\n",
       "    <tr>\n",
       "      <th>3</th>\n",
       "      <td>1</td>\n",
       "      <td>175.00</td>\n",
       "      <td>1</td>\n",
       "      <td>0</td>\n",
       "      <td>1</td>\n",
       "      <td>0</td>\n",
       "    </tr>\n",
       "    <tr>\n",
       "      <th>4</th>\n",
       "      <td>1</td>\n",
       "      <td>100.00</td>\n",
       "      <td>0</td>\n",
       "      <td>1</td>\n",
       "      <td>0</td>\n",
       "      <td>0</td>\n",
       "    </tr>\n",
       "  </tbody>\n",
       "</table>\n",
       "</div>"
      ],
      "text/plain": [
       "   BuyItNow  startprice  isNote  modelNumber_2  modelNumber_3  modelNumber_4\n",
       "0         0      199.99       0              0              1              0\n",
       "1         0      235.00       1              0              1              0\n",
       "2         0      199.99       0              1              0              0\n",
       "3         1      175.00       1              0              1              0\n",
       "4         1      100.00       0              1              0              0"
      ]
     },
     "execution_count": 116,
     "metadata": {},
     "output_type": "execute_result"
    }
   ],
   "source": [
    "X3.head()"
   ]
  },
  {
   "cell_type": "code",
   "execution_count": 115,
   "id": "found-sponsorship",
   "metadata": {},
   "outputs": [
    {
     "data": {
      "text/plain": [
       "(0.7878787878787878, 0.7912457912457912, 0.7845117845117845)"
      ]
     },
     "execution_count": 115,
     "metadata": {},
     "output_type": "execute_result"
    }
   ],
   "source": [
    "test_ensemble(X3_train, y3_train, X3_test, y3_test)"
   ]
  },
  {
   "cell_type": "code",
   "execution_count": 117,
   "id": "changed-customer",
   "metadata": {},
   "outputs": [
    {
     "name": "stdout",
     "output_type": "stream",
     "text": [
      "0.7946127946127947\n"
     ]
    }
   ],
   "source": [
    "X3_rf_grid = test_rf(X3_train, y3_train, X3_test, y3_test, params)"
   ]
  },
  {
   "cell_type": "code",
   "execution_count": 118,
   "id": "involved-charity",
   "metadata": {},
   "outputs": [
    {
     "data": {
      "text/plain": [
       "0.7946127946127947"
      ]
     },
     "execution_count": 118,
     "metadata": {},
     "output_type": "execute_result"
    }
   ],
   "source": [
    "gb_clf = GradientBoostingClassifier(random_state=0)\n",
    "gb_clf.fit(X3_train, y3_train)\n",
    "gb_pred = gb_clf.predict(X3_test)\n",
    "gb_accuracy = accuracy_score(y3_test, gb_pred)\n",
    "gb_accuracy"
   ]
  },
  {
   "cell_type": "code",
   "execution_count": 119,
   "id": "million-coordinate",
   "metadata": {},
   "outputs": [
    {
     "name": "stderr",
     "output_type": "stream",
     "text": [
      "/opt/anaconda3/envs/AI_dev/lib/python3.7/site-packages/xgboost/sklearn.py:888: UserWarning: The use of label encoder in XGBClassifier is deprecated and will be removed in a future release. To remove this warning, do the following: 1) Pass option use_label_encoder=False when constructing XGBClassifier object; and 2) Encode your labels (y) as integers starting with 0, i.e. 0, 1, 2, ..., [num_class - 1].\n",
      "  warnings.warn(label_encoder_deprecation_msg, UserWarning)\n"
     ]
    },
    {
     "name": "stdout",
     "output_type": "stream",
     "text": [
      "[20:08:57] WARNING: /Users/travis/build/dmlc/xgboost/src/learner.cc:1061: Starting in XGBoost 1.3.0, the default evaluation metric used with the objective 'binary:logistic' was changed from 'error' to 'logloss'. Explicitly set eval_metric if you'd like to restore the old behavior.\n"
     ]
    },
    {
     "data": {
      "text/plain": [
       "0.7777777777777778"
      ]
     },
     "execution_count": 119,
     "metadata": {},
     "output_type": "execute_result"
    }
   ],
   "source": [
    "xgb_clf = XGBClassifier()\n",
    "xgb_clf.fit(X3_train, y3_train)\n",
    "xgb_pred = xgb_clf.predict(X3_test)\n",
    "xgb_accuracy = accuracy_score(y3_test, xgb_pred)\n",
    "xgb_accuracy"
   ]
  },
  {
   "cell_type": "code",
   "execution_count": null,
   "id": "personal-translation",
   "metadata": {},
   "outputs": [],
   "source": []
  },
  {
   "cell_type": "code",
   "execution_count": null,
   "id": "subtle-bikini",
   "metadata": {},
   "outputs": [],
   "source": []
  },
  {
   "cell_type": "code",
   "execution_count": null,
   "id": "minute-outside",
   "metadata": {},
   "outputs": [],
   "source": []
  },
  {
   "cell_type": "code",
   "execution_count": null,
   "id": "ceramic-dining",
   "metadata": {},
   "outputs": [],
   "source": []
  },
  {
   "cell_type": "markdown",
   "id": "conservative-astronomy",
   "metadata": {},
   "source": [
    "# Model Selection for Ensemble"
   ]
  },
  {
   "cell_type": "code",
   "execution_count": null,
   "id": "configured-catholic",
   "metadata": {},
   "outputs": [],
   "source": [
    "lr = LogisticRegression(multi_class='multinomial', random_state=1)\n",
    "lr.fit(X2_train, y2_train)"
   ]
  },
  {
   "cell_type": "code",
   "execution_count": null,
   "id": "experienced-intervention",
   "metadata": {},
   "outputs": [],
   "source": []
  },
  {
   "cell_type": "code",
   "execution_count": null,
   "id": "therapeutic-specific",
   "metadata": {},
   "outputs": [],
   "source": []
  },
  {
   "cell_type": "code",
   "execution_count": null,
   "id": "preliminary-weekly",
   "metadata": {},
   "outputs": [],
   "source": []
  },
  {
   "cell_type": "code",
   "execution_count": null,
   "id": "legal-infection",
   "metadata": {},
   "outputs": [],
   "source": []
  },
  {
   "cell_type": "code",
   "execution_count": null,
   "id": "exempt-authority",
   "metadata": {},
   "outputs": [],
   "source": []
  },
  {
   "cell_type": "code",
   "execution_count": null,
   "id": "sought-evanescence",
   "metadata": {},
   "outputs": [],
   "source": []
  },
  {
   "cell_type": "code",
   "execution_count": null,
   "id": "secure-tamil",
   "metadata": {},
   "outputs": [],
   "source": []
  },
  {
   "cell_type": "code",
   "execution_count": null,
   "id": "moved-gnome",
   "metadata": {},
   "outputs": [],
   "source": []
  }
 ],
 "metadata": {
  "kernelspec": {
   "display_name": "Python 3",
   "language": "python",
   "name": "python3"
  },
  "language_info": {
   "codemirror_mode": {
    "name": "ipython",
    "version": 3
   },
   "file_extension": ".py",
   "mimetype": "text/x-python",
   "name": "python",
   "nbconvert_exporter": "python",
   "pygments_lexer": "ipython3",
   "version": "3.7.9"
  }
 },
 "nbformat": 4,
 "nbformat_minor": 5
}

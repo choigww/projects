{
 "cells": [
  {
   "cell_type": "markdown",
   "metadata": {},
   "source": [
    "https://book.naver.com/category/index.nhn?cate_code=100010&list_type=list&tab=recommend\n"
   ]
  },
  {
   "cell_type": "code",
   "execution_count": 1,
   "metadata": {},
   "outputs": [],
   "source": [
    "import pandas as pd\n",
    "import matplotlib.pyplot as plt\n",
    "import numpy as np\n",
    "import time\n",
    "\n",
    "from bs4 import BeautifulSoup\n",
    "from selenium import webdriver\n",
    "\n",
    "import requests\n",
    "import urllib.request\n",
    "import urllib.error\n",
    "import urllib.parse\n",
    "import re\n",
    "import json\n",
    "#import math\n",
    "#import datetime\n",
    "#import os\n",
    "#import sys\n",
    "\n",
    "from selenium.webdriver.common.by import By\n",
    "from selenium.webdriver.support.ui import WebDriverWait\n",
    "from selenium.webdriver.support import expected_conditions as EC"
   ]
  },
  {
   "cell_type": "code",
   "execution_count": 2,
   "metadata": {},
   "outputs": [],
   "source": [
    "def get_naver_blog_text_v4(url):\n",
    "    \n",
    "    def get_compiled_text_from_soup(soup, tag):\n",
    "        contents = []\n",
    "        contentsArea = soup.select(tag)\n",
    "        if contentsArea:\n",
    "            # real url의 div#postViewArea로부터 콘텐츠 텍스트 불러오기\n",
    "            for content in contentsArea:\n",
    "                # html 태그를 제거한 뒤 텍스트만 contents 리스트에 저장\n",
    "                contents = [str(content.get_text()) for content in soup.select(tag)]\n",
    "                \n",
    "        return contents\n",
    "\n",
    "        # 리스트 안의 문자열을 모두 합쳐서 반환하고 함수 종료\n",
    "        # 문자열 없었다면 empty string 반환하고 함수 종료\n",
    "        return ' '.join(contents)\n",
    "    \n",
    "    def create_soup_from_url(url):\n",
    "        get_blog_post_content_code = requests.get(url)\n",
    "        get_blog_post_content_text = get_blog_post_content_code.text\n",
    "        return BeautifulSoup(get_blog_post_content_text, 'lxml')\n",
    "        \n",
    "    real_blog_post_url = ''\n",
    "    contents = []\n",
    "    fake_url = str(url)\n",
    "    \n",
    "    # 주소값 체크 - string으로 바꾼 값이 nan이면 None 반환\n",
    "    if fake_url == 'nan':\n",
    "        print('nan', end=' ')\n",
    "        return None\n",
    "\n",
    "    try:\n",
    "        # fake url로부터 BeautifulSoup 생성\n",
    "        #time.sleep(sleep_time)\n",
    "        get_blog_post_content_soup = create_soup_from_url(fake_url)\n",
    "\n",
    "        # fake url의 mainFrame 속성값으로부터 real url 생성\n",
    "        real_blog_post_url = \"http://blog.naver.com\" + get_blog_post_content_soup.select('#mainFrame')[0].get('src')\n",
    "\n",
    "        # real url로부터 BeautifulSoup 생성            \n",
    "        get_real_blog_post_content_soup = create_soup_from_url(real_blog_post_url)            \n",
    "        contents = get_compiled_text_from_soup(get_real_blog_post_content_soup,\n",
    "                                              'div#postViewArea')\n",
    "\n",
    "        if contents:\n",
    "            print('/', end=' ')\n",
    "            return contents\n",
    "        else:\n",
    "            raise IndexError\n",
    "\n",
    "    except:           \n",
    "        try:\n",
    "            # 만약 위에서 함수가 종료되지 않았다면 hidden tag값을 생성\n",
    "            uid = real_blog_post_url.split('logNo=')[1].split('&amp')[0].split('&redirect')[0]\n",
    "            hidden_tag = 'div#post-view' + uid\n",
    "            contents = get_compiled_text_from_soup(get_real_blog_post_content_soup, hidden_tag)\n",
    "\n",
    "            # 만약 contents 리스트에 뭔가 담겨 있다면\n",
    "            if contents:\n",
    "                # 리스트 안의 문자열을 모두 합쳐서 반환하고 함수 종료\n",
    "                print('/', end=' ')\n",
    "                return contents\n",
    "            else:\n",
    "                raise IndexError\n",
    "\n",
    "        except:\n",
    "            old_post_tag = 'div.rvw_cnt'\n",
    "            old_soup = create_soup_from_url(fake_url)\n",
    "            contents = get_compiled_text_from_soup(old_soup, old_post_tag)\n",
    "\n",
    "            if contents:\n",
    "                print('/', end=' ')\n",
    "                return contents\n",
    "\n",
    "            else:\n",
    "                #print(f'url:{fake_url} / real blog post url:{real_blog_post_url}')\n",
    "                print('*', end=' ')\n",
    "                return None\n"
   ]
  },
  {
   "cell_type": "code",
   "execution_count": null,
   "metadata": {},
   "outputs": [],
   "source": []
  },
  {
   "cell_type": "markdown",
   "metadata": {},
   "source": [
    "### Crawling"
   ]
  },
  {
   "cell_type": "code",
   "execution_count": null,
   "metadata": {},
   "outputs": [],
   "source": []
  },
  {
   "cell_type": "code",
   "execution_count": 92,
   "metadata": {
    "scrolled": false
   },
   "outputs": [
    {
     "name": "stdout",
     "output_type": "stream",
     "text": [
      "current page: 17/collected: 0 0 0/book num 1/book num 2/book num 3/book num 4/book num 5/book num 6/book num 7/book num 8/book num 9/book num 10/book num 11/book num 12/book num 13/book num 14/book num 15/book num 16/book num 17/book num 18/book num 19/book num 20/current page: 18/collected: 1152 1152 1152/book num 1/book num 2/book num 3/book num 4/book num 5/book num 6/book num 7/book num 8/book num 9/book num 10/book num 11/book num 12/fail-4\n",
      "book num 13/book num 14/book num 15/book num 16/book num 17/book num 18/book num 19/book num 20/current page: 19/collected: 2286 2286 2286/book num 1/book num 2/book num 3/book num 4/book num 5/book num 6/book num 7/book num 8/book num 9/book num 10/book num 11/book num 12/book num 13/book num 14/book num 15/book num 16/book num 17/fail-4\n",
      "book num 18/book num 19/book num 20/current page: 20/collected: 3584 3584 3584/book num 1/book num 2/book num 3/book num 4/book num 5/book num 6/book num 7/book num 8/book num 9/book num 10/book num 11/book num 12/book num 13/book num 14/book num 15/book num 16/book num 17/book num 18/book num 19/fail-4\n",
      "book num 20/fail-4\n",
      "current page: 21/collected: 4358 4358 4358/book num 1/book num 2/book num 3/book num 4/book num 5/book num 6/book num 7/book num 8/book num 9/book num 10/book num 11/book num 12/book num 13/book num 14/book num 15/book num 16/book num 17/book num 18/book num 19/book num 20/current page: 22/collected: 5044 5044 5044/book num 1/book num 2/book num 3/book num 4/book num 5/book num 6/book num 7/book num 8/book num 9/book num 10/book num 11/book num 12/book num 13/book num 14/book num 15/book num 16/book num 17/book num 18/book num 19/book num 20/current page: 23/collected: 5739 5739 5739/book num 1/book num 2/book num 3/book num 4/book num 5/book num 6/book num 7/book num 8/book num 9/book num 10/book num 11/book num 12/book num 13/book num 14/book num 15/book num 16/book num 17/book num 18/book num 19/book num 20/current page: 24/collected: 6462 6462 6462/book num 1/book num 2/book num 3/book num 4/book num 5/book num 6/book num 7/book num 8/book num 9/book num 10/book num 11/book num 12/book num 13/book num 14/book num 15/book num 16/book num 17/book num 18/book num 19/book num 20/current page: 25/collected: 7190 7190 7190/book num 1/book num 2/book num 3/book num 4/book num 5/book num 6/book num 7/book num 8/book num 9/book num 10/book num 11/book num 12/book num 13/book num 14/book num 15/book num 16/book num 17/book num 18/book num 19/book num 20/current page: 26/collected: 7717 7717 7717/book num 1/book num 2/book num 3/book num 4/book num 5/book num 6/book num 7/book num 8/book num 9/book num 10/book num 11/book num 12/book num 13/book num 14/book num 15/book num 16/book num 17/book num 18/book num 19/book num 20/fail-0\n",
      "current page: 27/collected: 8169 8169 8169/book num 1/book num 2/book num 3/book num 4/book num 5/book num 6/book num 7/book num 8/book num 9/book num 10/book num 11/book num 12/book num 13/book num 14/book num 15/book num 16/book num 17/book num 18/book num 19/book num 20/current page: 28/collected: 8617 8617 8617/book num 1/book num 2/book num 3/book num 4/book num 5/book num 6/book num 7/book num 8/book num 9/book num 10/book num 11/book num 12/book num 13/book num 14/book num 15/book num 16/book num 17/book num 18/book num 19/book num 20/current page: 29/collected: 9504 9504 9504/book num 1/book num 2/book num 3/book num 4/book num 5/book num 6/book num 7/book num 8/book num 9/book num 10/book num 11/book num 12/book num 13/book num 14/book num 15/book num 16/book num 17/book num 18/book num 19/book num 20/current page: 30/collected: 10076 10076 10076/book num 1/book num 2/book num 3/book num 4/book num 5/book num 6/book num 7/book num 8/book num 9/book num 10/book num 11/book num 12/book num 13/book num 14/book num 15/book num 16/book num 17/book num 18/book num 19/book num 20/current page: 31/collected: 10421 10421 10421/book num 1/book num 2/book num 3/book num 4/book num 5/book num 6/book num 7/book num 8/book num 9/book num 10/book num 11/book num 12/book num 13/book num 14/book num 15/book num 16/book num 17/book num 18/book num 19/book num 20/current page: 32/collected: 10880 10880 10880/book num 1/book num 2/book num 3/book num 4/book num 5/book num 6/book num 7/book num 8/book num 9/book num 10/book num 11/book num 12/book num 13/book num 14/book num 15/book num 16/book num 17/book num 18/book num 19/book num 20/"
     ]
    }
   ],
   "source": [
    "options = webdriver.ChromeOptions()\n",
    "#options.add_argument('headless')\n",
    "options.add_argument('disable-gpu')\n",
    "options.add_argument('lang=ko_KR')\n",
    "driver = webdriver.Chrome(\n",
    "    '/usr/local/bin/chromedriver', options=options)\n",
    "url = 'https://book.naver.com/category/index.nhn?cate_code=100010&tab=recommend&list_type=list&sort_type=salecount&page=1'\n",
    "\n",
    "titles = []\n",
    "reviews = []\n",
    "urls = []\n",
    "intros = []\n",
    "intos = []\n",
    "blog_urls = []\n",
    "\n",
    "try:\n",
    "    for l in range(17, 33):\n",
    "        ### 최상위 페이지\n",
    "        print('current page:', l, end='/')\n",
    "        print('collected:', len(titles), len(urls), len(blog_urls), end='/')\n",
    "        \n",
    "        current_page_url = \"https://book.naver.com/category/index.nhn?cate_code=100010&tab=recommend&list_type=list&sort_type=salecount&page={}\".format(l)\n",
    "        url = current_page_url\n",
    "        driver.get(url)\n",
    "\n",
    "        ### 페이지 상에 존재하는 책 리스트 (페이지당 20개)\n",
    "        for i in range(1,21):\n",
    "            print('book num', i, end='/')\n",
    "                       \n",
    "            ### 책 제목 경로 받아오기\n",
    "            novel_title_xpath = f'//*[@id=\"book_title_{i-1}\"]/a[1]'.format(l-1)\n",
    "            \n",
    "            try:\n",
    "                driver.get(url)\n",
    "                \n",
    "                ### 책 링크 저장 > book_url\n",
    "                book_hyperlink = driver.find_element_by_xpath(novel_title_xpath)\n",
    "                book_url = book_hyperlink.get_attribute('href')\n",
    "                \n",
    "                ### 책 제목 저장 > title\n",
    "                title = book_hyperlink.text\n",
    "                \n",
    "                ### url에 포함된 id 저장 > book_id\n",
    "                book_id = book_url.split('=')[1]\n",
    "                \n",
    "                ### 소설 타이틀 클릭\n",
    "                driver.find_element_by_xpath(novel_title_xpath).click()\n",
    "                time.sleep(1)\n",
    "                \n",
    "                try:\n",
    "                    ### 책 웹페이지 진입\n",
    "                    ### 책 소개 텍스트 저장 > book_intro_text\n",
    "                    book_intro = driver.find_element_by_xpath('//*[@id=\"bookIntroContent\"]/p')\n",
    "                    time.sleep(.5)\n",
    "                    book_intro_text = book_intro.text\n",
    "\n",
    "                    \n",
    "                    ### '책 속으로' 섹션 존재하는지 검색, 있으면 저장 > book_into_text\n",
    "                    book_into_text = ''\n",
    "                    for divnum in range(1, 14):\n",
    "                        form = f'//*[@id=\"content\"]/div[{divnum}]'\n",
    "                        \n",
    "                        try:\n",
    "                            book_into_head = driver.find_element_by_xpath(form+'/h3').text\n",
    "                            if book_into_head in ['책 속으로', '책속으로']:\n",
    "                                book_into_text = driver.find_element_by_xpath(form).text\n",
    "                                break\n",
    "                        except:\n",
    "                            pass\n",
    "                    \n",
    "                    try:\n",
    "                        ### 책 리뷰 페이지 진입\n",
    "                        book_review_p_url = f'https://book.naver.com/bookdb/review.nhn?bid={book_id}'\n",
    "                        driver.get(book_review_p_url)\n",
    "                        time.sleep(.5)\n",
    "\n",
    "                        ### 리뷰 페이지에 리뷰는 1페이지당 10개씩\n",
    "                        element = WebDriverWait(driver, 3).until(\n",
    "                            EC.presence_of_element_located((By.XPATH, '//*[@id=\"content\"]/div/div[1]/span'))\n",
    "                        )\n",
    "                        leng = element.text[1:-2]\n",
    "                        \n",
    "                        ### 리뷰 총 갯수                        \n",
    "                        leng = leng.replace(',', '')\n",
    "                        leng = int(leng)\n",
    "                        book_review_len = leng\n",
    "                        \n",
    "                        ### 최대 리뷰 수집갯수 = 책 1권당 100건\n",
    "                        if book_review_len > 100:\n",
    "                            book_review_len = 100\n",
    "                            \n",
    "                        ### loop 돌아야 할 리뷰 페이지의 갯수\n",
    "                        review_page_length = book_review_len // 10 + 1\n",
    "                            \n",
    "                        try:\n",
    "                            for j in range(1, review_page_length+1):\n",
    "                                \n",
    "                                ### j번째 리뷰 페이지 주소 접근\n",
    "                                book_review_p_url_loop = book_review_p_url + '&page=' + str(j)\n",
    "                                driver.get(book_review_p_url_loop)\n",
    "                                time.sleep(1)\n",
    "                                \n",
    "    \n",
    "                                ### 현재 리뷰 페이지에서 확인해야 할 리뷰 숫자를 체크\n",
    "                                ### 첫번째 리뷰 페이지의 리뷰 갯수\n",
    "                                fpage_review_length = (10 if book_review_len >= 10 else book_review_len)\n",
    "\n",
    "                                ### 마지막 리뷰 페이지의 리뷰 갯수\n",
    "                                lpage_review_length = (0 if book_review_len == fpage_review_length\\\n",
    "                                                       else (book_review_len - (book_review_len//10)*10))\n",
    "                                \n",
    "                                ### 총 리뷰 페이지가 1개라면 fpage_review_length만큼 loop\n",
    "                                ### 현재 리뷰 페이지가 마지막 리뷰 페이지라면 lpage_review_length만큼 loop\n",
    "                                ### 총 리뷰 페이지가 1개도 아니고, 마지막 페이지도 아니면 10만큼 loop\n",
    "                                num_reviews_to_loop = (fpage_review_length if review_page_length == 1\\\n",
    "                                                      else lpage_review_length if j == review_page_length\\\n",
    "                                                      else 10)\n",
    "                                \n",
    "                                for k in range(1, num_reviews_to_loop+1):\n",
    "                                    try:\n",
    "                                        review_title_link_path = f'//*[@id=\"reviewList\"]/li[{k}]/dl/dt/a'\n",
    "                                        \n",
    "                                        try:\n",
    "                                            element = WebDriverWait(driver, 3).until(\n",
    "                                                EC.presence_of_element_located((By.XPATH, review_title_link_path))\n",
    "                                            )\n",
    "                                            ### 블로그 리뷰 url, 타이틀 가져와서 각각 변수 저장\n",
    "                                            blog_review_url = element.get_attribute('href')\n",
    "                                            blog_review_title = element.text\n",
    "                                            time.sleep(.5)\n",
    "                                            \n",
    "                                            titles.append(title) #책 제목 리스트 저장\n",
    "                                            urls.append(book_url) #책 소개 url 리스트 저장\n",
    "                                            intros.append(book_intro_text) # 책 소개 리스트 저장\n",
    "                                            intos.append(book_into_text) # 책 속으로 리스트 저장\n",
    "                                            blog_urls.append(blog_review_url)\n",
    "                                            time.sleep(0.5)\n",
    "\n",
    "                                        except:\n",
    "                                            print('fail-0')\n",
    " \n",
    "                                    except:\n",
    "                                        print('fail-1')\n",
    "                                \n",
    "                        except:\n",
    "                            print('fail-2')\n",
    "                    except:\n",
    "                        print('fail-3')\n",
    "                except:\n",
    "                    print('fail-4')\n",
    "            except:\n",
    "                print('fail-5')\n",
    "except:\n",
    "    print('except1')\n",
    "\n",
    "finally:\n",
    "    driver.close()\n"
   ]
  },
  {
   "cell_type": "code",
   "execution_count": 95,
   "metadata": {},
   "outputs": [
    {
     "data": {
      "text/plain": [
       "(11562, 11562, 11562, 11562, 0, 11562)"
      ]
     },
     "execution_count": 95,
     "metadata": {},
     "output_type": "execute_result"
    }
   ],
   "source": [
    "print(len(titles), len(urls), len(intros), len(intos), len(reviews), len(blog_urls))"
   ]
  },
  {
   "cell_type": "code",
   "execution_count": 111,
   "metadata": {},
   "outputs": [],
   "source": [
    "df_book = pd.DataFrame({\"title\":titles, \"book_url\":urls, \"intro\":intros,\n",
    "                          \"into\":intos, \"blog_url\":blog_urls})"
   ]
  },
  {
   "cell_type": "code",
   "execution_count": 114,
   "metadata": {},
   "outputs": [],
   "source": [
    "df_book.to_csv('./team_csv/book_review_17_32.csv', encoding='utf-8-sig')"
   ]
  },
  {
   "cell_type": "code",
   "execution_count": 12,
   "metadata": {},
   "outputs": [],
   "source": [
    "#df_book = pd.read_csv('./team_csv/book_review_17_32.csv', index_col = 0)"
   ]
  },
  {
   "cell_type": "markdown",
   "metadata": {},
   "source": [
    "# 리뷰 URL > 리뷰 주소로 변환하기"
   ]
  },
  {
   "cell_type": "code",
   "execution_count": 13,
   "metadata": {
    "scrolled": false
   },
   "outputs": [
    {
     "name": "stdout",
     "output_type": "stream",
     "text": [
      "/ / / / / / / / / / / / / / / / / / / / / / / / / / / / / / / / / / / / / / / / * / / * / / / / / / / / / / / / / / / / / / * / / / / / / / / / / / / / / / / / / / / / / / / / / / / / / / / / / / / / / / / / / / / / / / / / / / / / / / / / / / / / / / / / / / / / / / / / / / * / / / / / * / / / / / * / / / / / / / / / / / / / / / / / / / / / nan / / / / / / / / / / / / / / / / / / / / / / / / / / / / / / / / / / / * * / / / / / / / / / / / / / / / / / / / / / / / / / / / * / / / / / / / / / / / / / / / / / / / / / / / / / * / / / / / / * * / / / / / / / / / / / / / / / / / / / / / / / / / / / / / / / / * / / / / / / / / / / * / / / / / / / / / / / / / / / / / / / / / * / / / / * / / * * * * * / / / / / / / / / / / / / / / / / / / / / / / / / / / / / / / / / / / / / / / / / / / / / / / / / / / / / / / / / / / / / / / / / * / / / / / / / / / / / / / / / / / / / / / / / / / / / / / / / / / / / / / / / / / / / / / / / / / / / / / / / / / / / / / / / / / / / / / / / / / / / / / / / / / / / / / / / / / / / / / / / / / / / / / / / / / / / / / / / / / / / / / / / / / / / / / / / / / / / / / / / / / / / * / / / / / / / / / / / / / / / / / / / / / / / / / / / / / / / / / / / / / / / / / / / / / / / / / / / / / / / / / / / / / / / / / / / / / / / / / / / / / / / / / / / / / / / / / / / / / / / / / / / / / / / / / / * / / / / / / / / / / / / / / / / / / / / / / / / / / / / / / / / / / / / / / / / / / / / / / / / / / / / / / / / / / / / / / / / / / / / / / / / / / / / / / / / / / / / / / / / / / / / / / / / / / / / / / / / / / / / / / / / / / / / / / / / / / / / / / / / / / / / / / / / / / / / / / / / / / / / / / / / / / / / / / / / / / / / / / / / / / / / / / / / / * / / / / / / / / / * / / / / / * * / / / / / / * / / / / / / / / / / / / / / / / / / / / / / / / / / / / / / / / / / / / / / / / / / / / / / / / / / / / / / / / / * * / / / / / / / / * * / / / / / / / / / / / * / / / / / / / / / * / / / / / / / / / / / / / / / / / / / / / / / / / / / / / / / / / / / / / / / / / / / / / / / / / / / / / / / / / / / / / / / / / / / / / / / / / / / / / / / / / / / / / / / / / / / / / / / / / / / / / / / / / / / / / / / / / / / / / / / / / / / / / / / / / * / / / * / / / * / / / / * / * / / / / / / / / / / / / / / / / / / / * / / / / / / / / / / / / / / / / * / / / / / / / / / / / / / / / / / / / / / / / / / / / / / / / / / / / / / / / / / / / / / / / / * / / / / / / / / * / / / / / / / / / / / / * * / / / / / / / / / / / / / / / / / / / / / / / / / / / / / / / / / / / / / / / / * / / / / / / / / / / / / / / / / / / / / / / / / / / / / / / / / / / / / / / / / * / / / / / * / / / / / / / / / / / / / * / / / / / / / * * / / / * / / / * / / / / / / * / * / / / / / / / / / / / / / / / / / / / / / / / / / / / / / / / / / / / * / / / / / / / / / / / / / / / / / / / / / / / / / * / / / / / / / / / / / / / / / / / * / / / / * / / / / / / / / / / / / / / / / / * / / / * / / / / / / / * / / / / / / / / / / / / / / / / / / / / / / / / / / / / / / / / / / / / / / / / * / / / / / / / / / / / / / / / / / / / / / / / / / / / / / / / / / / / / / / * / / / / / / / / / / / / / / / / / / / / / / / / / / / / / / / / / / / / / / / / / / / / / / / / / / / / / / / / / / / / / / / / / / / / / / / / / / / / / / / * / / / / / / / / / / / / / / / / / / / / / / / / / / / / / * * / / / / / / * / / / / / / / / / / / / / / / / / / / / / / / / / / / / * / / / / / / / / / / / / / / / / / / / / / / / / / / / / / / / / / / / / / / / / / / / / / / * / * / / / / / / / / / / / / / / / / * / * / / / / * / * / / / / / / / / / / / / / / / / / / / / / / / / / / / / / / / / / / / / / / / / / / / / / / / / / / / / / / / / / / / / / / / / / / * * * / / * / / * / / / / / / / * / / / / / / / / / / / / / / / / / / / / / / / / / / / / / / / / / / / / / / / / / / * / / / / / / / / / / / / / / / / / / / * / / / / / / / / / / / / / / / / / * / / / / / / / / / / / / / / / / / / / / / / / / / / / / / / / / / / / / / / / / / / / / / / / / / / / / / / / / / * / / / / / / / / / / / / / * / / / / / * / / / / / / * / / * / * / / * * / / / / / / / / / / * / / / / / / / / * / / / * / / / / / / / / / / / / / / / / / / / / / / / / / / / / / / / / / / / / / / / / / / / / / / / / / / / / / / / / / / / / / / / / / / / / / / / / / / / / / / / / / / / / / / / / / / / / / / / / / / / / / / / / / / / / / / / / / / / / / / / / / / / / / / / / / / / / / / / / / / / / / / / / / / / / / / / / / / / / / / / / / / / / / / / / / / / / / / / / / / / / / / / / / / / / / / / / / / / / / / / / / / / / / / / / / / / * / / / / / / / / / / / / / / / / / * / / / / / * / / / / / / / / / / / * / / / / / / / / / / / / / / / / / / / / / / / / / / / / / / / / / / / / / / / / / / / / / / / / / / / / * * / / / * * / / / / / / / / / / / / / / / / / / / / / / / / / / / / / / / / / / / / / / / / / / / / / / / / / / / / / / / / / / / / / / / / / / / / / / / * / * / / / / / / / / / / / / / / / / / / / / / / / / / / / / / / / * / / / / / / / / / / / / / / / / / / / / / / / / / / / / / / / / / / / / / / / / / / / / / / * / * / / / / / / / / * / / / / / / * / / / / / / / / / / / / / / / / / / / / / / / / / * * / / / / / / / * / / / / / / / / / / / / / / / / / / / / / / / / / / / / / / / / / / / / / / / / / / / / / / / / / / / / / / / / / / / / / / / / / / / / / * / / / / / / / / / / / / / / / / / / / / / / / / / / / / / / / / / / / / / / / / / / / / / / * / / / / / / / / / / / / / / / / / / / / / / / / * * * / * * * * * * / / / / / / / / / / / / / / / / / / / / / / / / / / / / / / / / / / / / / / / / / / / / / / / / / / / / / / / / / / / / / / / / / / / / / / / / / / / / / / / / / / / / / / / / / / / / / / / / / / / / / / / / / / / / / / / / / / / / / / / / / / / / / / / / / / / / / / / / / / / / / / / / / / / / / / / / / / / / / / / * / / / / / / / / / / / / / / / / / / / / / / / / / / / / / / / / / / / / / / / / / / / / / / / / / / / / / / / * / / / / / / / / / / * / * / / / / / / / / / / / / / / / / / / / / / / / / / / / / / / / / / / / / / / / / / / / / / * / / / / / / / / / / / / / / / / / / / / / / / / / / / / / / / / / / / / / / / / / / / / / / / / / / / / / / / / / / / / / / / / / / / / / / / / / / / / / / / / / / / / / / / / / / * / / / / / / / / / / / / / / / / / / / / / / / / / / / / / / / / / / / / / / / / / / / / / / / / / / / / / / / / / / / / / / / / / / / / / / / / / / / / / / / / / / / * / / / / / / / / / * / / / / * * / / / / / / / / / / / / / * / / / / / / / / / / / * * / / / / / / / / / / / / / / / / / / / / / / / / / / / / / / / / / / / / / / / / / / / / / / / / / / / / / / / / / / / / / / / / / / / / / / / / / / / / / / / / / / / / / / / / / / / / / / / / / / / / / / / / / / / / / / / / / / / / / / / / / / / / / / / / / / / / / / / / / / / / / / / / / / / / / / / / / / / / / / / / / / / / / / / / / / / / / / / * / / / / / / / / / / / / / / / / / / / / / / / / / / / / / / / / / / / / / / / / / / / / / / / / / / / / / / / / / / / / / / / / / / / / / / / / / / / / / / / / / / / / / / / / / / / / / / / / / / / / / / / / / / / / / / / / / / / / / / / / / / / / / / / / / / / / / / / / / / / / / / / / / / / / / / / * / / / / / / / / / / / / / / / / / / / / / / / / / / / / / / / / / / / / / / / / / / / / / / / / / / / / / / / / / / / / / * / / / / / / / / / / / / / / / / / / / / / / / / / / / / / / / / / / / / / / / * / / / * / / / / / * / / / / / / / / / / / / / / / / / / / / / / / / / / / / / / / / / * / / / / / / / / / / / * / / / / / / / / * / / / / / / / / / / * / / / / / / * / / / / / / / / / / / / / / / / / / / * / / / / / / / / / / / / / / / / / / / / / / / / / / * / / / / / / / / / / / / / / * / / / / / / / * / / / / / / / * / / / / / * / * / * / / * / / * / / / / / * * * / * * * / / / / / / / / / / / / * / / / / / / / / / / / / * / / / / / / / / / / / / / / / / / / / / / / / / / / / / / / / / / / / * / / / / / * / / / / / / / / / / / / / / / / / / / / / / / / / / / / / / / / / / / / / / / / / / / / / / / / / / / / / / / / / / / / / / / / / / / / / / / / / * / / / / / / / / / / / / / / / / / / / / / / / / / / / / / / * / / / / / / / / / / / / / / / / / / / / / / / / / / / / / / / / / / / / / / / / / / / / / / / / / / / / / / / / / / / / / / / / / / / / / / / / / / / / / / / / / / / / / / / / / / / / / / / / / / / / / / / / / / / / / / "
     ]
    },
    {
     "name": "stdout",
     "output_type": "stream",
     "text": [
      "/ / / / / / / / / / / / / / / / / / / / / / / / * / / / / / / / / / / / / / / / / / / / * / / / / / * / / / / / / / / / / / / / / / / / / / / / / / / / / / / / / / / / / / / / / / / / / / / / / / / / / / / * / / / / / / / / / / / / * / / / / / / / / / / / / / * / / * / / / * * / / / / * / / / / / / / / / / / / / / / / / / / / / / / / / / / / / / / / / / / / / / / / / / / / / / / / / / / / / / / / / / * / / / / / / * / / / * * * / / / / / / / * / / / * / / / * / * / / * / / / / * / / / / / / / / / / / * / / / / * / / / / / / / / / / / / / / / / / / / / / / / / / / / / / / / / / / / / / / / / / / / / / / / / / / / / / * / / / * / / / / * / / / / / / / / / * / / / / / / * / / / / / / / / / * / / * / / / / / / / / / * / / / / / / / / / / / / / / / / / / / / / / / / / / / / / / / / / / / / / / * / / / / / / / / / * / / / / / / / / / / / * * * * / * / / / / / / / / / / / / / / / / / / / / / / * / / / / / / / / / / / / / / / / / / / / / / / / / / / / / / / / / / / / / / / / / / / / / / / / / / / / / / / / / / / / / / / / / / / / / / / / / / / / / / / / / / / / / / / * / * / / / / / / / / / / / / / / / / / / / / / / / / / / / / / / / / / / / / * / / / / / / / / / / / / * / * / / / / * / / / / / / * / / / / / / / / / / / / / / / / / / / / / / / / / / / / / / / / / / / / / / / / / / / / / / / * / / / / / / / / / / / / / / / / / / / / * * * / * / / / / / / / / / / / / / / / / / / / / / / / / / / / / / / / / / / / / / / / / / / / / / / / / / / / / / / / / / / / / / / / / / / / / / / / / / / / / / / / / / / / / / / / / / / / / / / / / / / / / * / / / / / / / / / / / / / / / / / / / / / / / / / / / / / / / / / / / / / / / / / / / / / / / / / / / / / * / / * / / / / / / / / / / / / / / / / / / / / / / / / / / / * / / / / / / / / / / / / / / / / / / / / / / / / / / / / / / / / / / / / / / * / / / / / / / / / / / / * * / / / / / / / / / / / / / / / / / / / / / / / / * / / / / / / / / / / / / / / / / / / / * / / / * / / / / / / / / / / / / / / / / / / / / / / / / / / / / / / / / / / * / / / / / / / / / / / / / / / / / / / / / * / / / / / * * / * / / / / / / / / / / / / / / / / / / / / / / / / / / / / / / / / / * / / / / / / / / * / / / / / * / / / / / / / / / / / / / / / / / / / / / / / / / / / / / / / / / / / / / / / / / / / / * / / / / / / / / / / / / / / / / / / / / / / / / / / / / / / / / / / / / / / / / / / / / / / / / / / / / / / / / / / / / / / / / / * / / / / / / / / / / / / / / / / / / / / / / / / / / / * / / * * / / / / / * / / / / * / / / * / * / / / / / / / / / / / / / / / / / / / / / / / * / / / / / / / / / / / / / / / / / / / / / / / / / / / / / / / / / / / / / / / / / / / / / / / / / / / / / / / / / / / / / / / / / / / / / / / / / / / / / / / / / * / * / / / / * / / / / / / / / / * / / / / / / / / / / / / / / / / / / / / / / / / / / / / / * / / / / / / / / / / / / / / / / / * / / / / / / / / / / / / / / / / / / / / / / / / / / / / / / / / / / / / / / / / / / / / / / / / / / / / / / / / / / / / * / / / / / / * / / / / / / * / / / / / / / / / / / / / / / / / / / / / / / / / / / / / / / / / / / / / / / / / / / / / / / / / / / / / / / / / / / / / / / / / / / / / / / / / / / / / / / / / / / / / / / / / / / / / / / / / / / / / / / / / / / / / / / / / / / / / / / / / / / / / / / / / / / / / / / / / / / / / / / / / / / / / / / / / / / / / / / / / / / / / / / / / / / / / / / / / / / / / / / / / / / / / / / / / / / / / / / / / / / / / / / / / / / / / / / / nan / / / / / / / / / / / / * / / / / * / / * / / / / / / / / / / / / / / / / / * / / / / / / / / / / / / / / / / * / / / / / / / * / / / / / / / / / / / * / / / / / / / / / / / / / / / / / / / / / / / / / / / / / / / / / / / / / / / / / / / / / / / / / / / / / / / / / / / / / / / / / / / / / / / / / / / / / / / / / / / / / / / / / / / / / / / / / / / / / / / / / / / / / / / / / / / / / / / / / / / / / / / / / / / / / / / / / / / / / / / / / / / / / / / * / / / / / / / / / / / / / / / / / / / / / / / / / / / / / / / / / / / / / / / / / / / / / / / / / / / / / / / / / / / / / / / / / / / / / / / * / / / / / / / * / / / / * / / / / / / * * / / * / / / / / / / * / / / * / / / / / / * / / / / / / / / / / / / / / / / / / / / / / / / / / / / / / / / / / / / / / / / / / / / / * / / / / / / / / / / / / / / / / / / / / / / / / / / / / / / / / / / / / / / / / / / / / / * / / * / / * / / * / / / / / / * / / / / / / / / / / / / / / / / / / / / / / / / / / / / / / / / / / / / / / / / / / / / / * / / * / / / / / / / / * / / / / / / / / / * / / / / / / / / / / / / / / / / * * / / / / * / * * / / / / / * / / / / / / / / / / / / / / / / / / / / / / / * / / / / / * * / / / / / / / / / / / / / / / / * * * / / / / / / / / / / / / / / / / / / / / / / / / / / / / / / / / / / / * * / / / / / / / / / / / / / / / * / / / / / / / / / / / / / / / * / / / / / * / / / / / / / / / / / / / / / / / / / / / / / / / * / / / / * * / / * / / / / / / / / / / / / / / / / / / / / / / / / / / / / / / / / / / / / / / / / / / / / / / / / / / / / / / / / / / / / / / / * / / / / / / / / / / / / / / / / / * / / / / * / / / / / / / / / / / / / / / / / / * / / / / / / / / / / * / / / / / / / / / * / / / / / / / / / / / / / / / / / / / / / / / * / / / * / / / / / / * / / / / / / / / / / / / / / / / / / / / / / / / / / / / / / / / / / / / / / / / / / / / * / / / / / * / / / / / / / * * / / * * / / / / / / / / / / / / / * / / / * / * / / / / / / / / / / / / / / / / * / / / / / / / / / / / / / / / / / / / / / / / / / / / / / / / / / / / / / / / / / / / / / / / / / / / / / / / / / / / / / / / / / / / / / / / / / / / / / / / / / / / / / / / / / / / / / / / / / / / / / * / / / / / * / / / * / / / * / / / / / / / / / / / * / / * / * / / * / / / / / / / / / * / / / / * / / / / / / / * / / / / / / / / / * / / / / * / / / * / / / / / / / / / / / / / * / / / / / / / / / / / / / / / * / / / * * / / / / / / / / / / / * / / / / * * / / / * / * * / / / / / / / / / * / / / / / / / / / / / / / / / / / / / / / / / / / / / / / / / / / / / / / / / / / / / / / / / / / / / / / / / / / / / / / / / / / / / / / / / / / / / / / / / / / * / / / / / / / / / / / / / / / / / / / / / / / / / / / / / / / / / / / / / / / / * / / / / / / / / / / / / / / / / / / / / / / / / / / / / / / / / / / / * / / * / / / / / / / / / / / / / * / / / / / / * / / / / / / / / / / / * / / / / / / / / / / / / * / / * / / / / / / / / / / / * / / / / / / / / / / / / / / / / / / / / / / / / / / / * / * / / / / / / / / / * / / / / / / / / / / / / / / * * / / / * / / / / / / / / / / / / / / / / / / / / / / / / / / / / / / / / / / / / / / / / / / / / / / / / / / / / / / / / / / / / / / / / / / / / / / / / / / / / / / * / / / / * / / / / * / / / / / / / / / / / / / / / / / / * * / / / / / / / * / / * / * * / / / / / / * / / * / / / / * * / / / / / / / / / / / / * / / / / / / / / / / / / / * * * / / * * / * * * / / / / / / / / / / / / / * / * / / / / / / / / / / / / / / / / / / / / / / / / / / / / / / / / / / / / / / / / / / / / / / / / / / / / / / * / / / / / / / * / / / / / / / / * / * / / / / * / / * / / / / / / / / / / / / / / / / / / / / / / / / / / / / / / / / / / / / / / / / / / / / / / / / / / / / / / / / / / / / / / / / / / / / / / / / / / / / / / * / / / / / / / / / / / / / / / / / / / / / / / / / / / / / / / / / / / / / / / / / / / / / / / / / / / / / / / / / / / / / / / / / / / / / / / / / / / / / / / / / / / / / / / / / / / / / / / / / / / / / / / / / / / / / / / / / / / / / / / / / / / / / / / / / / / / / / / / / / / / / / / / / / / / / / / / / / / / / / / / / / / / / / / / / / / / / / / / / / / / / / / / / / / / / / / / / / / / / / / / / / / / / / / / / / / / / / / / / / / / / / / / / / / / / / / * / / / / / / / / / / / / / / / / / / / / / * / / / / / * / / / / / / / / * / / / / / / * / / / * / / / / / / / / / / / / / / / / / / / / / / / / / / / / / / / / / / / / / / / / / / * / / / / / / / / / * / * / / / * / / / / / / / / / / / / / / / / / / * / / / / / / / / / / / / / / / / / / / / / / / / / / / / / / / / / / * / * / / / / * / / / / / / / / / / / / / / / / / / / / * / / / / / / / / / / / / / / / / / / / / / / / / / / / / / / / / / / / / / / / / / / / / / / / / / / * / / / / / / / / * / / / / / / / / / / / / / / / / / / / / / / * * / * / / / / / / / / / / / / * * / * / * * / * / / * / / / "
     ]
    },
    {
     "name": "stdout",
     "output_type": "stream",
     "text": [
      "/ / / / / / / / / / / / / / / / / / / / / / / / / / / / / / / / / / / / / / / / / / / / / / / * / / / / / / / / / / / / / / / * / / / / / / / / / / / / / / * / / / / * / / / / / / / / / / / / / / / / / / / / * / / / / / / / / / / / / / / / / / / / / / / / / / / / / / / / / / / / / / / / / / * / * / / / / / / / * / / / / / / / / / / / * / / / / / / / / / / / / / / / / / / / / / / / / / / / / / / / / / / / / / / / / / / / / / / / / / / / / / / / / / / / / / / / / / / / / / / / / / / / / / / / / / / / / / / / / / / / / / / / / / / / / / / / / / / / / / / / / / / / / / / / / / / / / / / / / / / / / / * / / / / / / / / / / / / / / / / / / / / / / / / / / / * / / * / / / / / / / / / / / / / / / / / / / / / / / / / / / / / / / / / / / / / / / / / / / / / / / / * / / / / / / / / / / / / / / / / / / / / / / / / / / / / / / / / / / / / * / / / / / / / / / / / / / / / / / / / / / / / / / / / / / / / / / / / / / / / / / / / / / / / / / / / / / / / / / / / / / / / / / / / / / / / / / / * / / / / / / / / / / / / / / / / / / / / / / / / / / / / / / / / / / / / / / / / / / / / / / * * / / / * / * / / / / / / / / / / / / / / / * / / / / / / / / / / / / / / / / / / / / / / / / / / * / / / / / / / * / / / / / / / / / / / / * * * * / / / * * * / / / / / / / / / / / / / / / / / / / / / / / / / / / / / / / / / / * / / / / / / / / / * / / / / / / / / / / / / / / / / / / / / / / / / / / / / / / / / / / / / * / / / / * / / * / / / / * / * / / * / / / / / / / / / / / / / / / / / / / / / / / / / / / * / / / / / / / / / / / / / / / / / / / / / / / / / / / / / / / / / / / / / / / / / / / / / / / / / / / / / / / / / / / / / / / / / / / / / / / / / / / / / / / / / * / / / / / / / / / / * * / / / / * / / / / / / / / / / / / / / * / / / / * / / / / / / / / / / / / / / / / / / / / / / / / / / / / / / / / / / / / / / / / / / / / / / / / / / / / / / / / / / / / / / / / / / / / / / / / / / / / / / / * * / / / / / / / / / / / / / / / / / / / / / / / / / / * / / / / * / / / / / / / / / / / / / / / / / / / / / / / / / / / / / / / / * / / / / / / / / / / / / / / / / / / / / / / / * / / / / / / / / / / / / / / / / / / / / / / / / / * / / * / * / / / / / / / / / / / / / * / / / * / / / / / / / / / / / / / / / / / / / / / / / / / / / / / / / / / / / / / / / / / / / * / / / / / * / / / / / / / / * / / / / / / / / / / / / / / / / / / nan / * / * / / / / / / / / / / / / / / / / * / / / / / * / / / / / / * * * / / / / / / / / / / / / / / / / / / / / / / / / / * / / / * / / / * / * / / / * / / / / / / / / / / / / / / / / / / / / / / / / / / / / / / / / / / / / / / / / / / / / / / / / * / * / * / * / / / / / / / / / / / * * / / / / / / / / / / / / / / / / / / / / / / / / / / / / / / / * / / * / / / / / / / / / / / * / / / / / / / / / / / / / / / / / / / / / / / / / / / * / / / / / / / / / / / / / / / / * * / / / / / * / * / / / / / / / / / * / / / / / / / / / / / / / / / / / / / / / / / / / / / / / / * / / / * / / * / / / / * / * / / * / / / / / * / / / / / / / * / / / / * / * / / / * / / / / / / / / / / / / / / / / / / / / / / / / / / / / / / / / / / / / / / / / / / / / / / * / / / / / / / / / / / / / / / / / / / / / / / / / / / / / / / / / / * / / / / / / / / / / / / * / / / / / / / * / / / / / / / / * / / / / / / / / / / / / / / / / / / / / / / / / / / / / / / / / / / / / * / / / / / * / / / / / / / / / / / / * / / / / / / / / / / / / / / / / / / / / / / / / / / / * * / / / * / / / / / / / / / * / / / / / / / / / / / / / / / / / / / / / / / / / / / / / / / / / * * / / * / / / / / / * / / / / / / / / / / / / / / / / / / / / / / / / / / / / / / / / / / / / / / / / / / / * / / / / * * * * / / / / / / / / / / / / / / / / / / / / / / / / / / / / / / / / / / / / / / / / / / / / / / / / / / / / / / / / / / / / / / / / / / / / / * * / / / / / / / / / / / / / / / / * / / / / / / / * / / / / * / / / / / / / / / / / / / / / * / / / / * / / / / / / / / / / * / / / / / / / / / / / / / / / / / * / / / / / / / / / / * * / / / / / / / / / * * / / * / / / / * / / / / / / / / / * * / / / / / / / / / / / / / / / / / / / / / / / / / / / / / / / / * * / / / / / / / / / / / / / / / / / / / / / / / / / / / / / / / / / / / / / / / / / / / / / / / * / / / / / / / / / / / * / / / * / / / * / / / / / / / / / / / / / / / / / / * / / / / / / / / / / * / / / / / / / / / * * / * / * / / / / / / / / / / / / / / / / / * / / * / / / / / / / / / / / * * / / / / / / / / / * / / / / / / / / / / / / / / / / / / / / / / / / / / / / / / / / / / / / / / / / / / / / / / / / / / / / / / / / / / / / / / / / / / / / / / / / / / / / / / / / / * / / / / / / / / / / / / / / * / / * / / / / / / / / / / / / / / / * / / / / / / / / / / / / / / * * / / / / / / / / / / / / / / / / * / / * / / * / / / / / * / / / / / / / / / / / / / / / / / / / / / / / / / / / / / / / / / / / / / / / * / / / / * / / / / / / / / / * / * / / * / / * * / / / / / / / / / / / / * / / * / / / / / / / / / / / / / / / / / / / / / / / / / / / / / / / / / / / / / / / / / / * / * / / / / / / / / / / / / / / / / / / / / / / / / / / / / / / / / / / / / / / / / / / / / / / / / / / / / / / / / / / / / / / / / / / / / / / / / / / * / / / / / / / / / / / / / / / / / / / / / / / / / / / / / / / / / / / / / / / / / / / / / / / / / / / / / / / / / * / / / / / / / / / / / / / * / / * / / / / / / / / / / / / * / / / / / / / / / / / / / / / / / / * / / / / / / / * / / / / / / / / / / / / / / / / / / / / / / / / / / / / / / / / / / / / / / / / / / / / / / / / / / / / / / / / / / / / / / / / / / / / / / / / / / / / / / / / / / / / / / / / / / / / / / / / / / / / / / / / / / / / / / / / / / / / / / / / / / / / / / / / / / * / / / / / / / / / * / / / / / / / / / / / / / / / / / / / / / / / / / / / / / / / / / / / / / / / / / / / / / / / / / / / / / / / / / * / / / / / / / / / / / / / / / / / / / / / * / / / * * / / / / / / / / / / / / / / / / / / / / / / / / / / / / / / / / / / / / / / / / / / / / / / / / / / / / / / / / / / / / / / / / / / / / * / / / / / / / / / / / / / * / / / / / / / / / / / / / * / / / / / / / / / * / * / / / / / / / * / / / / / / / / / / / / / / / / / / / / / * / / / / / / * / / / / / / / / / / / / / / / / / / / / / / / / / / / / / / / / / / / / / / / / / / / / / / / / / / / / / / / / / / / / / / / / * / / * / / / * / / / / / / / / / / / / / / / / / / / / / / / / / / / / / / / / / / / / / / / / / / / / / / / / / / / / / / / / / / / / / / / / / / / / / / / / / / / / / / / / / / / / / * / / / / / / / / / / / / / / * * / / / / / / / / / / / * / / / / / / / / / / / * / / / * / / / / / / / / / / / / / / / / / / / / / / / / / / / / / / / / / / / * / / / / / / * / / / / / / / / / / / / / / / / / / / / / * / / / / / / / / / / / / / / / / / / / / / / / / / * / / / / / / / / / / / / / / / / / / / / / / / / / * / / / / / * * / / / / / / / / / / "
     ]
    }
   ],
   "source": [
    "df_book['review'] = [get_naver_blog_text_v4(url) for url in df_book['blog_url']]"
   ]
  },
  {
   "cell_type": "code",
   "execution_count": null,
   "metadata": {},
   "outputs": [],
   "source": []
  },
  {
   "cell_type": "code",
   "execution_count": 15,
   "metadata": {},
   "outputs": [
    {
     "name": "stdout",
     "output_type": "stream",
     "text": [
      "/ / / / / / / / / / / * / / / * / / / / / / / / * / / / / / / / / / / / / / / / / / / / / / / / / / / / / / / / / / / / / / / / / / / / / / / * * * / / * / / / / / * / / / / / / / / / * / / / / / / / / / / / / / / / / / / / / / / / * / / / / / / * / / * / / / / / / / / / / / / / / / / / / / / / / / / / / / * / / / / / / / / / / / / * / / / / / / * / / / / / / / / / / / / / / / / / / / / / * / / / / / / / / / / * / / * / / / / / / / / / / / / / / / / * / / / / / / / / * * / / / / / / / / / / / / / / / / / / / * * / / / / / / / / / / / / / / / / / / / / / / / / / / / / / / / / / / / / / / / / / * / / / / / / / / / / / / / / / / / / / / / / / / / / / / / / / / / / / / / / / / / / / / / / / / / / / / / / / / / / / / / / / / / / / / / / / / / / / / / / / / / / / / / / * / / / / / / / * / / / / / / / / / / / / / * / * / / / / / / / / / / / / / / / / / / / / / / / / / / / / / / / / / / / / / / / / / / / / * / * / / * / / / / * / * / / / / / * * / / / / / / / / / / / / / / / / * / / / / / / / / / / / / / / / / / / / * / * / / / / / / / / / / / / / / / / * / / / / / / / / / / / * / / / / / / / / / / / / / / / / / / / / / / / / / / / / / / / / / / / / / / / / / / / / / / / / * / / / / / / / / / / / / / / / / / / * * * / / / / / / / / / / / / / / / / / / * / / / / / / / / / / / / / / / / / / / / / / / / / / / / / / / / / / / / / / / / / / * / / / / / / / / * * / / / / / / / / / / * / / / / / / / / / / / / / / / / / / / / / / / / / / / / * / / / / / / / * / / / / / / / / / / / / / / * / / / / / / / / / / / / / * / / / / / / / / / / / * / / / / / / / / / / / * * / / * / * / / / / / / / / / / / / / / / / / / / / / * / / / / / / / / / / / / / / / / / / / / / / / / / / / / / / / / / / / / / / / / / / / / / / / / / * / / / / / / / / / / / / / / / / / / * / / / / / / / / / / / / / / / / / / / / / * / / / / / * / / / / / / / / / / / / / / / / / / / / / / / / / / / / / / / / / / / / / * / / / / / / / * / / / * / / / / / / / / / * / * / / / / / / / / / / / / / / / / / / / / / / / / / / / / / / / / / * / / / / / / / / / / / / / / / / / / / / / / / / / / / / / / / / / / / / / / / / / / / / / / * / / / / / / / / / / / / / / / / / / / / / / / / / / / / / / / / / / / / / / / / / / / / / / * / / / / / / / / / / / / / / / / / / / / / / / / / / / / / / / / / / / / / / * / / / / / / / / / / / / / * / / / / / / / / / / / / / / / / / / / * / / / / * / / / / / / / / / * / / / / / / / / / / / / / / / / / / / / / / / / / / / / / / / / / / / / / / / / / / / / / / / / / / / / / / / / / / / / / / / / / / / / / / / / / / / / / / / / * / / / / / * / / / / / / / / / / / / / / / / / / / / / / / / / / / / / / / / / / / / / * / / / / * / / / / / / / / / / / / / / / / / / / / / / / * / / / / / / * / / / / * / / / / * / / / / * / / / / / / / / / / / / / / / / / / / / / / * / / / / / * / / / / / / / / * / / / / / / / / / / / / / / / / / / / / * * / / / / / / / / / * / / / / / / / / / / / / / / / / / / / * / / / / / / * / / / / / / / / / / / / / / / / / / / / / / / / / / / / / / / / / / / / / / / / / / / / / / / / / / / / / / / / / / / / / / / / / / / / / / / / / / / / / / / / / / / / / / / / / / / / / / / / / / / / / / / / / / / / / / / / / / / / / / / / / / / / / / / / / / / / / / / / / / / / / / * / / / / * / / / * / / / / / / / / / / / / / / / / / / / / / / / / / / / / / / / / / / / / / / / / * / / / * * / / / / * / / / / / / / / / * / / / / / / / / / / / / / / / / / / / / / / / / / / / / / / / / / / / / / / / / / / / / / / / / / / / / / / / / / / / / / / / / / / / / / / / / / / / / / / / / / / / / / / / / / / / / / / / / / * / / / / / / / / / / / / / / / / / / / / / / / / / / / / / / / / / / / / / / / / / / / / / / / / / / / / / / / * / / / / / / / / / / / * / / / / / / / / / / / / / / / / / / / / / / / / / / / / * / / / / / / / / / / / / / / / / * * / / / / / / / / / / / / / / / / * / / / / / / / / / / / / nan * * / / / / / / / / / / / / / / / * / / / / / / / / / / / / / / / / / / / / / / / / / / / / / / / / / / / / / / / / / / / / / / / * / / / / / / / / / / / / / / / / / / / / / / / / / / / / / / / / / / / / / / / / / / / / / / / / / / / / / / / / / / / / / / / / / / / / / / * / / / * / / / * / / / / / * / / / / / / * / / / / / / / / / / / / / / / / / / / / / / / / / / / / / / / / / / / / / / / / / / / / / / / / / / / / / / / / / / / / / / / / / / / / / / * / / / / / / / / / / / / / / / / / / * / / / * / * / / / / / / / / / / / / / / / / / / / / / / / / / / / / / * / / / / / / / / / / / / / / / / / / / / / / / / / / / / / / / / / / / / / / / / / / / / / / / / / / / / / / / / / / / / / / / * / / / / * / / / / / / / / / / / / / / / / / / / / / / / / / / / / / / / / / / / / / / / / / / / / / / / / / / / / / / / / / / / / / / / / / / / / / / / / / / / / / / / / / / / / / / / / / / / / / / / / / / / * * / / / / / / / / / / / / / / / / / / / / / / / / / / / / / / / / * / / / / / / / / / / / / / / / / / / / / / / / / / / / / / / / / / / / / / / / / / / / / / / / / / / / / / / / / / / / / / / / / / / / / / / / / / / / / / / / / / / / / / / / / / / / / / * / / * / / / / / / / / / / / / / / / * / / / / / / / / / / / / / / / / / / / / / / * / / / / / / / / / / / / / / / / / / / / / / / / / * / / / / / / / / / / / / / / / / / / / / / / / / / / / / / / / / / / / / / / / / / / / / / * / * / / / / / / * / / / / / / / / / / / / / / * / / / / / / / / * / / / / / / / / / / / / / / / / / / / * / / / / / / / / / / / / / / / / / / / / / / / / / / / / / / / / / / / / / / / / * / / / * / / * / / / / * / / / * / / / / * / / * / / / / / / / / / * / * / / / / / / / / / / / / / / / / / / / / / / / / / / / * / / / / / / / / / / / / / / * / / / * / / / / / / / / / * / / / / / / / / * / / / / / * / / * / / / / / / / * / / / / / * / / * / / / / / / / / / / / / / / / / / / / / / / / / / / / / / / / / / / / / / / * / * / * / / / * * * / * / / * / / / * * / / / / / / / / / / / * * / / / * * / / / / / / / / / / / / / / / * / / / / / / / / / / / / / / / / / / / / / / / / / / / / / / / / / / / / / * / / / / / / / / / / / / / / / / / / / / / / / / / / / / / / / / / / / / / * / / / / / / / / / / / / * * / / / / * / / / / * / / / / / / / / / / / / / / * / / / / / / / / / / / / / / / / / / / / / / / / / / / / / / / / / / / / / / / / / / / / / / / / / / / / / / / / / / / / / * / / / / / / / / * / / / / * / / / / / / / / / / / / / / / / / / / / / / / / / / / / * / / / / / / / / * / / / / / * / / / / / / / / / / / / / / / / / * / / / * * / / * * * * * / * / / * / / / * / / / * / / / * / / * / * / / / * * / / / / / / / / / / / / / / / / / / / / / / / / / / / / / / / / / * * / / / / / / / / / / / / / / / / / / / / / / / / / / / / / / / / / / / / / / / / * * / / / / / / / * / / / / / / / / / / / / / / / / / / / / / / / / / / / / / / / / / / / / / / / / / / / / / / / / / / / / / / / / / / / / / / / / / / / / / / / / / / / / / / / / / / / / / / / / / / / / / / / / / / / / / / / / / / / / / / / / * / / / / / / / / / / / / / / / / / / / / / / / / / / * / / * / / / * / / / / * / / / / / / / / / / / / / / / / / / / / / / / / / / / / / / / / / / / / / / * / * / / / / / / / / / / / / / / / / / / / / / * / / / * / / / / / * / / / / / / * / / / / / / / / / / / / / / / / / / / / * * / / / / / / / / / / * / / / / / / / / / / / / / / / / / / / / / / / / / / / / / / / / / * / / / / / / / / / / / / / / / / / / * / / / / / / / / / / / / / / / * / / / / / / / / / / / / / / / / / / / / / / / / / / / / / / / / * / / / / / / / / / / / / / / / / / / / * / / / / / / / / / / / / / / / / / / / / / / / / * / / / / / / / / / / / / / / / / / / / / / / / / / / / * / / / / * / / / / / / / / / / / / / / / / / / / / / / / / / / / / / / / / / / / / / / / / / / / / / / / / / / / / / / / / / / / / / / / / / / / / / / / / / / / / / / / / / / / / / / / / / / * / / / / / / / / / * / / / / / / / / / / * / / / / / / / / / / / / / / / / / / / / / / / / / / / / / / / * / / / / * / / / / / / / / / / / / / / / / / / / / / / / / / / / / / / / / / / / / / / / / / / / / / / / / / / / / / / / / / / / / / / / / / / / / / / / / / / / / / / / * / / / / / / / / / / / / / / / / / / / / / / / / / / / / / / / / / / / / / / / / / / / / / / / / / / / / / / / / / / / / / / / / / / / / / / / / / / / / / / / / / / / / / / / / / / / / / / / / / / / / / / / / / / / / / / / / / / / / / "
     ]
    },
    {
     "name": "stdout",
     "output_type": "stream",
     "text": [
      "/ / / / / / / / / "
     ]
    }
   ],
   "source": [
    "review_49 = pd.read_csv('./team_csv/book_review_49.csv', index_col=0)\n",
    "review_49['review'] = [get_naver_blog_text_v4(url) for url in review_49['blog_url']]\n",
    "review_49.to_csv('./team_csv/book_review_33_49.csv', encoding='utf-8-sig')"
   ]
  },
  {
   "cell_type": "code",
   "execution_count": null,
   "metadata": {},
   "outputs": [],
   "source": []
  },
  {
   "cell_type": "markdown",
   "metadata": {},
   "source": [
    "# `get_naver_blog_text()` 테스트\n",
    "* epoch = 1000\n",
    "    * 손실률 계산\n",
    "    * loop time 계산"
   ]
  },
  {
   "cell_type": "code",
   "execution_count": 7,
   "metadata": {},
   "outputs": [],
   "source": [
    "blog_urls = pd.read_csv('./team_csv/book_review_17_32.csv', index_col=0)['blog_url']"
   ]
  },
  {
   "cell_type": "code",
   "execution_count": 7,
   "metadata": {
    "scrolled": false
   },
   "outputs": [
    {
     "name": "stdout",
     "output_type": "stream",
     "text": [
      "40 http://blog.naver.com/yamamodo/150068237339\n",
      "43 http://blog.naver.com/phchung/130067741456\n",
      "62 http://blog.naver.com/joym1224/40088161337\n",
      "138 http://blog.naver.com/wownsk/30067798339\n",
      "144 http://blog.naver.com/jib1208/87331955\n",
      "150 http://blog.naver.com/amamon/60089194532\n",
      "172 nan\n",
      "208 http://blog.naver.com/alistata/140105423351\n",
      "209 http://blog.naver.com/samsoon07/20099105709\n",
      "237 http://blog.naver.com/yhd1653/90065182023\n",
      "263 http://cafe.naver.com/discussbook/879\n",
      "270 http://blog.naver.com/jehee999/30067819640\n",
      "271 http://blog.naver.com/kangwsjjang/20057617891\n",
      "304 http://blog.naver.com/sodamy37/30067792894\n",
      "315 http://blog.naver.com/minl22/40088130759\n",
      "337 http://blog.naver.com/khj19891009/100087078031\n",
      "342 http://blog.naver.com/greta79/10068040522\n",
      "345 http://blog.naver.com/19870525/130067740189\n",
      "346 http://blog.naver.com/puppy143/110067548834\n",
      "347 http://blog.naver.com/krispinaa/150068145228\n",
      "348 http://blog.naver.com/teevyya/10068145327\n",
      "349 http://blog.naver.com/michael0122/30067981537\n",
      "415 http://blog.naver.com/justmymind74/70184824796\n",
      "555 http://cafe.naver.com/readbook/867998\n",
      "662 http://cafe.naver.com/theharang/106\n",
      "840 http://cafe.naver.com/shymjesus/17\n",
      "850 http://cafe.naver.com/decology/779\n",
      "856 http://blog.naver.com/theirusi/150081953239\n",
      "857 http://cafe.naver.com/bookle/70\n",
      "864 http://cafe.naver.com/funreader/5\n",
      "922 http://cafe.naver.com/readbook/671078\n",
      "923 http://blog.naver.com/yeonwoomom/100086974715\n",
      "933 http://cafe.naver.com/readbook/390205\n",
      "945 http://cafe.naver.com/bookishman/157062\n",
      "955 http://blog.naver.com/ahlame/30067968175\n",
      "time elapsed for 999th loop: 1723.7014520168304\n",
      "time elapsed: 9.512901306152344e-05\n"
     ]
    }
   ],
   "source": [
    "start = time.time()\n",
    "\n",
    "rvs_converted = []\n",
    "rvs_converted_fail = []\n",
    "for i, bu in enumerate(blog_urls):\n",
    "    if (i % 999 == 0) and (i > 0):\n",
    "        end = time.time()\n",
    "        print(f'time elapsed for {i}th loop:', end - start)\n",
    "        start = time.time()\n",
    "        break\n",
    "        \n",
    "    try:\n",
    "        converted = get_naver_blog_text_v3(bu)\n",
    "        if not converted: ## return == None\n",
    "            rvs_converted_fail.append(bu)\n",
    "            print(i, bu)\n",
    "            \n",
    "        rvs_converted.append(converted)\n",
    "    \n",
    "    except:\n",
    "        rvs_converted.append(None)\n",
    "        rvs_converted_fail.append(bu)\n",
    "        print(i, bu)\n",
    "        \n",
    "end = time.time()\n",
    "print('time elapsed:', end - start)"
   ]
  },
  {
   "cell_type": "code",
   "execution_count": 8,
   "metadata": {},
   "outputs": [
    {
     "data": {
      "text/plain": [
       "35"
      ]
     },
     "execution_count": 8,
     "metadata": {},
     "output_type": "execute_result"
    }
   ],
   "source": [
    "len(rvs_converted_fail)"
   ]
  },
  {
   "cell_type": "code",
   "execution_count": 9,
   "metadata": {},
   "outputs": [
    {
     "data": {
      "text/plain": [
       "997"
      ]
     },
     "execution_count": 9,
     "metadata": {},
     "output_type": "execute_result"
    }
   ],
   "source": [
    "len(rvs_converted)"
   ]
  },
  {
   "cell_type": "code",
   "execution_count": null,
   "metadata": {},
   "outputs": [],
   "source": []
  }
 ],
 "metadata": {
  "kernelspec": {
   "display_name": "Python 3",
   "language": "python",
   "name": "python3"
  },
  "language_info": {
   "codemirror_mode": {
    "name": "ipython",
    "version": 3
   },
   "file_extension": ".py",
   "mimetype": "text/x-python",
   "name": "python",
   "nbconvert_exporter": "python",
   "pygments_lexer": "ipython3",
   "version": "3.8.5"
  }
 },
 "nbformat": 4,
 "nbformat_minor": 4
}

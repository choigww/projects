{
 "cells": [
  {
   "cell_type": "markdown",
   "metadata": {},
   "source": [
    "**<font color=\"blue\" size=\"6em\">연습 문제</font>** "
   ]
  },
  {
   "cell_type": "code",
   "execution_count": null,
   "metadata": {
    "collapsed": true
   },
   "outputs": [],
   "source": [
    "\n"
   ]
  },
  {
   "cell_type": "markdown",
   "metadata": {},
   "source": [
    "<div class=\"alert alert-block alert-warning\">\n",
    "<font color=\"blue\" size=\"3em\"><b>연습 문제1</b></font><br>\n",
    "zip 컬렉션에서 '실제 예제1: 1000만 이상의 state만 가져오기' 를\n",
    "aggregation 사용하지 않고, 직접 python 으로 구현하기"
   ]
  },
  {
   "cell_type": "code",
   "execution_count": 1,
   "metadata": {},
   "outputs": [],
   "source": [
    "import pandas as pd\n",
    "import numpy as np\n",
    "import pymongo\n",
    "from pprint import pprint"
   ]
  },
  {
   "cell_type": "code",
   "execution_count": 2,
   "metadata": {},
   "outputs": [],
   "source": [
    "username = 'choigww'\n",
    "password = ''\n",
    "connection = pymongo.MongoClient('mongodb://%s:%s@ec2-52-79-60-207.ap-northeast-2.compute.amazonaws.com' % (username, password))\n",
    "db = connection.test_db"
   ]
  },
  {
   "cell_type": "markdown",
   "metadata": {},
   "source": [
    "### mongodb_zip datastructure"
   ]
  },
  {
   "cell_type": "code",
   "execution_count": 27,
   "metadata": {},
   "outputs": [
    {
     "name": "stdout",
     "output_type": "stream",
     "text": [
      "{'_id': '01001',\n",
      " 'city': 'AGAWAM',\n",
      " 'loc': [-72.622739, 42.070206],\n",
      " 'pop': 15338,\n",
      " 'state': 'MA'}\n"
     ]
    }
   ],
   "source": [
    "from pprint import pprint\n",
    "\n",
    "result = db.zip.find(limit=1)\n",
    "for record in result:\n",
    "    pprint(record)"
   ]
  },
  {
   "cell_type": "code",
   "execution_count": 13,
   "metadata": {},
   "outputs": [],
   "source": [
    "mongodb_zip = db.zip.find()\n",
    "\n",
    "# create empty dataframe to store whole records\n",
    "df_zip_records = pd.DataFrame(columns=['_id', 'city', 'loc', 'pop', 'state'])\n",
    "\n",
    "for record in mongodb_zip:\n",
    "    \n",
    "    # create empty dataframe to store each record\n",
    "    df_record = pd.DataFrame(columns=['_id', 'city', 'loc', 'pop', 'state'])\n",
    "    df_record['_id'] = record['_id']\n",
    "    df_record['city'] = record['city']\n",
    "    df_record['loc'] = record['loc']\n",
    "    df_record['pop'] = record['pop']\n",
    "    df_record['state'] = record['state']\n",
    "    \n",
    "    # update df_zip_records\n",
    "    df_zip_records = pd.concat([df_zip_records, df_record], axis=0)"
   ]
  },
  {
   "cell_type": "code",
   "execution_count": 23,
   "metadata": {},
   "outputs": [
    {
     "name": "stdout",
     "output_type": "stream",
     "text": [
      "   state       pop\n",
      "4     CA  59509780\n",
      "9     FL  25373288\n",
      "10    GA  12956432\n",
      "14    IL  22855152\n",
      "15    IN  11088272\n",
      "19    MA  12032850\n",
      "22    MI  18590594\n",
      "24    MO  10221296\n",
      "27    NC  13257274\n",
      "31    NJ  15460376\n",
      "34    NY  35980804\n",
      "35    OH  21693034\n",
      "38    PA  23763286\n",
      "43    TX  33969202\n",
      "45    VA  12362958\n"
     ]
    }
   ],
   "source": [
    "df_zip_groupby_state_popsum = df_zip_records[['state','pop']].\\\n",
    "                                groupby('state').sum().reset_index()\n",
    "\n",
    "print(df_zip_groupby_state_popsum[\\\n",
    "                    df_zip_groupby_state_popsum['pop'] >= 1000*100*100])"
   ]
  },
  {
   "cell_type": "code",
   "execution_count": null,
   "metadata": {},
   "outputs": [],
   "source": []
  },
  {
   "cell_type": "code",
   "execution_count": null,
   "metadata": {
    "collapsed": true
   },
   "outputs": [],
   "source": []
  },
  {
   "cell_type": "markdown",
   "metadata": {},
   "source": [
    "<div class=\"alert alert-block alert-warning\">\n",
    "<font color=\"blue\" size=\"3em\"><b>연습 문제2</b></font><br>\n",
    "import한 restaurant 데이터를 가지고 각 borough 마다 레스토랑이 몇 개있는지를 출력하기"
   ]
  },
  {
   "cell_type": "markdown",
   "metadata": {},
   "source": [
    "### mongodb_restaurant datastructure"
   ]
  },
  {
   "cell_type": "code",
   "execution_count": 26,
   "metadata": {},
   "outputs": [
    {
     "name": "stdout",
     "output_type": "stream",
     "text": [
      "{'_id': ObjectId('5a0c1dcfdbab54966363f5c0'),\n",
      " 'address': {'building': '1007',\n",
      "             'coord': [-73.856077, 40.848447],\n",
      "             'street': 'Morris Park Ave',\n",
      "             'zipcode': '10462'},\n",
      " 'borough': 'Bronx',\n",
      " 'cuisine': 'Bakery',\n",
      " 'grades': [{'date': datetime.datetime(2014, 3, 3, 0, 0),\n",
      "             'grade': 'A',\n",
      "             'score': 2},\n",
      "            {'date': datetime.datetime(2013, 9, 11, 0, 0),\n",
      "             'grade': 'A',\n",
      "             'score': 6},\n",
      "            {'date': datetime.datetime(2013, 1, 24, 0, 0),\n",
      "             'grade': 'A',\n",
      "             'score': 10},\n",
      "            {'date': datetime.datetime(2011, 11, 23, 0, 0),\n",
      "             'grade': 'A',\n",
      "             'score': 9},\n",
      "            {'date': datetime.datetime(2011, 3, 10, 0, 0),\n",
      "             'grade': 'B',\n",
      "             'score': 14}],\n",
      " 'name': 'Morris Park Bake Shop',\n",
      " 'restaurant_id': '30075445'}\n"
     ]
    }
   ],
   "source": [
    "mongod_restaurant = db.restaurant.find(limit=1)\n",
    "for record in mongod_restaurant:\n",
    "    pprint(record)"
   ]
  },
  {
   "cell_type": "code",
   "execution_count": 55,
   "metadata": {},
   "outputs": [
    {
     "name": "stdout",
     "output_type": "stream",
     "text": [
      "{'count_restaurant': 51, 'borough': 'Missing'}\n",
      "{'count_restaurant': 969, 'borough': 'Staten Island'}\n",
      "{'count_restaurant': 6086, 'borough': 'Brooklyn'}\n",
      "{'count_restaurant': 2338, 'borough': 'Bronx'}\n",
      "{'count_restaurant': 5656, 'borough': 'Queens'}\n",
      "{'count_restaurant': 10259, 'borough': 'Manhattan'}\n"
     ]
    }
   ],
   "source": [
    "mongodb_count_res_by_borough = db.restaurant.aggregate([\n",
    "      {'$group' : \n",
    "                   {\n",
    "                    '_id' : '$borough',\n",
    "                   'count_restaurant' : {'$sum' : 1}\n",
    "                   } \n",
    "      },\n",
    "      {'$project':\n",
    "                   {\n",
    "                    '_id' : 0,\n",
    "                    'borough' : '$_id',\n",
    "                    'count_restaurant' : 1\n",
    "                   }\n",
    "          \n",
    "      }\n",
    "])\n",
    "\n",
    "for record in mongodb_count_res_by_borough:\n",
    "    print(record)"
   ]
  },
  {
   "cell_type": "code",
   "execution_count": null,
   "metadata": {},
   "outputs": [],
   "source": []
  },
  {
   "cell_type": "code",
   "execution_count": null,
   "metadata": {
    "collapsed": true
   },
   "outputs": [],
   "source": []
  },
  {
   "cell_type": "markdown",
   "metadata": {},
   "source": [
    "<div class=\"alert alert-block alert-warning\">\n",
    "<font color=\"blue\" size=\"3em\"><b>연습 문제3</b></font><br>\n",
    "address의 zipcode별로 'Brazilian' 레스토랑이 몇개 있는지 계산하기"
   ]
  },
  {
   "cell_type": "code",
   "execution_count": 42,
   "metadata": {},
   "outputs": [
    {
     "name": "stdout",
     "output_type": "stream",
     "text": [
      "{'count_brz_res': 1, 'zipcode': '11238'}\n",
      "{'count_brz_res': 3, 'zipcode': '11106'}\n",
      "{'count_brz_res': 1, 'zipcode': '10002'}\n",
      "{'count_brz_res': 2, 'zipcode': '10014'}\n",
      "{'count_brz_res': 2, 'zipcode': '11101'}\n",
      "{'count_brz_res': 1, 'zipcode': '11377'}\n",
      "{'count_brz_res': 1, 'zipcode': '10034'}\n",
      "{'count_brz_res': 1, 'zipcode': '11368'}\n",
      "{'count_brz_res': 1, 'zipcode': '10009'}\n",
      "{'count_brz_res': 4, 'zipcode': '10036'}\n",
      "{'count_brz_res': 1, 'zipcode': '10128'}\n",
      "{'count_brz_res': 3, 'zipcode': '10019'}\n",
      "{'count_brz_res': 2, 'zipcode': '10065'}\n",
      "{'count_brz_res': 2, 'zipcode': '11211'}\n",
      "{'count_brz_res': 1, 'zipcode': '11103'}\n"
     ]
    }
   ],
   "source": [
    "mongodb_count_brz_res_by_zipcode = db.restaurant.aggregate([\n",
    "      \n",
    "    {'$match' : {'cuisine' : 'Brazilian'}},\n",
    "    {'$group' : \n",
    "                   {\n",
    "                    '_id' : '$address.zipcode',\n",
    "                   'count_brz_res' : {'$sum' : 1}\n",
    "                   }\n",
    "    },\n",
    "    {'$project':\n",
    "        { \n",
    "            '_id' : 0,\n",
    "            'zipcode' : \"$_id\",\n",
    "            'count_brz_res' : 1\n",
    "        }\n",
    "    }\n",
    "])\n",
    "\n",
    "for record in mongodb_count_brz_res_by_zipcode:\n",
    "    print(record)"
   ]
  },
  {
   "cell_type": "code",
   "execution_count": null,
   "metadata": {},
   "outputs": [],
   "source": []
  },
  {
   "cell_type": "code",
   "execution_count": null,
   "metadata": {},
   "outputs": [],
   "source": []
  },
  {
   "cell_type": "markdown",
   "metadata": {},
   "source": [
    "<div class=\"alert alert-block alert-warning\">\n",
    "<font color=\"blue\" size=\"3em\"><b>연습 문제4</b></font><br>\n",
    "평균평점이 가장 높은 레스토랑을 5개 출력하기"
   ]
  },
  {
   "cell_type": "code",
   "execution_count": 65,
   "metadata": {},
   "outputs": [
    {
     "name": "stdout",
     "output_type": "stream",
     "text": [
      "{'avg_scores': 75.0, 'cuisine_': 'Juice, Smoothies, Fruit Salads', 'name': 'Juice It Health Bar'}\n",
      "{'avg_scores': 73.0, 'cuisine_': 'Chinese', 'name': 'Golden Dragon Cuisine'}\n",
      "{'avg_scores': 69.0, 'cuisine_': 'Juice, Smoothies, Fruit Salads', 'name': \"Chelsea'S Juice Factory\"}\n",
      "{'avg_scores': 69.0, 'cuisine_': 'Bakery', 'name': 'Palombo Pastry Shop'}\n",
      "{'avg_scores': 61.0, 'cuisine_': 'Middle Eastern', 'name': 'Koyla'}\n"
     ]
    }
   ],
   "source": [
    "mongodb_top5_scored_restaurant = db.restaurant.aggregate([\n",
    "    \n",
    "    {'$unwind' : '$grades'},\n",
    "    \n",
    "    {'$group' : \n",
    "                   {\n",
    "                    '_id' : '$name',\n",
    "                   'avg_scores' : {'$avg' : '$grades.score'},\n",
    "                   'cuisine_' : {'$addToSet' : '$cuisine'}\n",
    "                   }\n",
    "    },\n",
    "    \n",
    "    {'$unwind' : '$cuisine_'},\n",
    "    \n",
    "    {'$sort' : {'avg_scores' : -1}},\n",
    "    {'$limit' : 5},\n",
    "    {'$project' : {\n",
    "                  '_id' : 0,\n",
    "                  'name' : '$_id',\n",
    "                  'avg_scores' : 1,\n",
    "                  'cuisine_' : 1\n",
    "    }}\n",
    "])\n",
    "\n",
    "for record in mongodb_top5_scored_restaurant:\n",
    "    print(record)"
   ]
  },
  {
   "cell_type": "code",
   "execution_count": null,
   "metadata": {},
   "outputs": [],
   "source": []
  },
  {
   "cell_type": "code",
   "execution_count": null,
   "metadata": {
    "collapsed": true
   },
   "outputs": [],
   "source": []
  },
  {
   "cell_type": "markdown",
   "metadata": {},
   "source": [
    "<div class=\"alert alert-block alert-warning\">\n",
    "<font color=\"blue\" size=\"3em\"><b>연습 문제5</b></font><br>\n",
    "cusine별로 평점이 가장 높은 레스토랑 출력하기"
   ]
  },
  {
   "cell_type": "code",
   "execution_count": 54,
   "metadata": {
    "scrolled": false
   },
   "outputs": [
    {
     "name": "stdout",
     "output_type": "stream",
     "text": [
      "{'best_restaurant': 'Corwn Fried Chicken And Fish', 'max_score': 6.0, 'cuisine': 'Chilean'}\n",
      "{'best_restaurant': 'Fulton Hot Dog King', 'max_score': 11.666666666666666, 'cuisine': 'Hotdogs'}\n",
      "{'best_restaurant': 'Laduree', 'max_score': 12.0, 'cuisine': 'Nuts/Confectionary'}\n",
      "{'best_restaurant': \"Mike'S Coffee Shop\", 'max_score': 12.076923076923077, 'cuisine': 'CafÃ©/Coffee/Tea'}\n",
      "{'best_restaurant': 'Bohemian Beer Garden', 'max_score': 12.166666666666666, 'cuisine': 'Czech'}\n",
      "{'best_restaurant': 'Circle Line Xvii', 'max_score': 13.0, 'cuisine': 'Hotdogs/Pretzels'}\n",
      "{'best_restaurant': 'Salad Pangea', 'max_score': 13.666666666666666, 'cuisine': 'Salads'}\n",
      "{'best_restaurant': 'Bluestone Lane Coffee', 'max_score': 14.2, 'cuisine': 'Australian'}\n",
      "{'best_restaurant': 'Zoe Cafe', 'max_score': 14.5, 'cuisine': 'Egyptian'}\n",
      "{'best_restaurant': 'Bakhter Afghan Halal Kabab', 'max_score': 15.833333333333334, 'cuisine': 'Afghan'}\n",
      "{'best_restaurant': 'Pao', 'max_score': 16.0, 'cuisine': 'Portuguese'}\n",
      "{'best_restaurant': 'The Cardinal', 'max_score': 16.8, 'cuisine': 'Southwestern'}\n",
      "{'best_restaurant': 'Spicebox Crepe', 'max_score': 17.0, 'cuisine': 'Pancakes/Waffles'}\n",
      "{'best_restaurant': 'Makana', 'max_score': 17.428571428571427, 'cuisine': 'Hawaiian'}\n",
      "{'best_restaurant': 'Lalibela Ethiopian Restaurant', 'max_score': 17.5, 'cuisine': 'Ethiopian'}\n",
      "{'best_restaurant': 'Smorgas Chef/ Crepes Du Nord', 'max_score': 11.333333333333334, 'cuisine': 'Scandinavian'}\n",
      "{'best_restaurant': 'New York Burger Co', 'max_score': 18.0, 'cuisine': 'Hamburgers'}\n",
      "{'best_restaurant': 'Ben & Jacks Steakhouse', 'max_score': 18.5, 'cuisine': 'Steak'}\n",
      "{'best_restaurant': 'Cherry Valley Deli', 'max_score': 18.5, 'cuisine': 'Sandwiches'}\n",
      "{'best_restaurant': 'Lol New York', 'max_score': 22.0, 'cuisine': 'Bottled beverages, including water, sodas, juices, etc.'}\n",
      "{'best_restaurant': 'Harlem Bar-B-Q', 'max_score': 22.75, 'cuisine': 'Barbecue'}\n",
      "{'best_restaurant': 'Original Soupman Of Staten Island', 'max_score': 16.5, 'cuisine': 'Soups'}\n",
      "{'best_restaurant': 'Donut Shoppe', 'max_score': 23.166666666666668, 'cuisine': 'Donuts'}\n",
      "{'best_restaurant': 'Umi Nom', 'max_score': 23.2, 'cuisine': 'Filipino'}\n",
      "{'best_restaurant': \"Greenleaf'S Grille\", 'max_score': 23.75, 'cuisine': 'Sandwiches/Salads/Mixed Buffet'}\n",
      "{'best_restaurant': 'Bagels R Us', 'max_score': 24.0, 'cuisine': 'Bagels/Pretzels'}\n",
      "{'best_restaurant': 'Aladdin Hookah Lounge & Bar Inc', 'max_score': 38.0, 'cuisine': 'Indian'}\n",
      "{'best_restaurant': 'Selena Rosa Mexicana', 'max_score': 35.0, 'cuisine': 'Tex-Mex'}\n",
      "{'best_restaurant': 'Haat Bazaar', 'max_score': 40.0, 'cuisine': 'Bangladeshi'}\n",
      "{'best_restaurant': 'Il Pomodoro Pizza', 'max_score': 40.0, 'cuisine': 'Pizza/Italian'}\n",
      "{'best_restaurant': 'Tumdri', 'max_score': 40.0, 'cuisine': 'Thai'}\n",
      "{'best_restaurant': 'Flora Sweet House', 'max_score': 42.0, 'cuisine': 'Ice Cream, Gelato, Yogurt, Ices'}\n",
      "{'best_restaurant': 'Paprika', 'max_score': 37.0, 'cuisine': 'Italian'}\n",
      "{'best_restaurant': 'Evr', 'max_score': 24.0, 'cuisine': 'Tapas'}\n",
      "{'best_restaurant': 'Aoyama Sushi', 'max_score': 43.0, 'cuisine': 'Chinese/Japanese'}\n",
      "{'best_restaurant': 'Creole 516 ', 'max_score': 43.0, 'cuisine': 'Caribbean'}\n",
      "{'best_restaurant': 'Espace', 'max_score': 56.0, 'cuisine': 'American'}\n",
      "{'best_restaurant': 'Antojitos Retaurant', 'max_score': 43.0, 'cuisine': 'Spanish'}\n",
      "{'best_restaurant': 'Gaelic Park', 'max_score': 28.0, 'cuisine': 'Irish'}\n",
      "{'best_restaurant': 'Spa Castle Premier', 'max_score': 41.0, 'cuisine': 'Korean'}\n",
      "{'best_restaurant': \"Luzzo'S La Mtp\", 'max_score': 47.0, 'cuisine': 'Pizza'}\n",
      "{'best_restaurant': 'Pho Thanh Hoai 1', 'max_score': 41.0, 'cuisine': 'Vietnamese/Cambodian/Malaysia'}\n",
      "{'best_restaurant': 'Cocoa Grinder', 'max_score': 33.0, 'cuisine': 'Turkish'}\n",
      "{'best_restaurant': 'Camaradas El Barrio', 'max_score': 14.6, 'cuisine': 'Polynesian'}\n",
      "{'best_restaurant': 'Golden Dragon Cuisine', 'max_score': 73.0, 'cuisine': 'Chinese'}\n",
      "{'best_restaurant': 'K & D Internet Inc', 'max_score': 61.0, 'cuisine': 'Café/Coffee/Tea'}\n",
      "{'best_restaurant': 'Leon De Oro Rest.', 'max_score': 24.333333333333332, 'cuisine': 'Chinese/Cuban'}\n",
      "{'best_restaurant': 'Juice It Health Bar', 'max_score': 75.0, 'cuisine': 'Juice, Smoothies, Fruit Salads'}\n",
      "{'best_restaurant': 'Ivory D O S  Inc', 'max_score': 60.0, 'cuisine': 'Other'}\n",
      "{'best_restaurant': 'Koyla', 'max_score': 61.0, 'cuisine': 'Middle Eastern'}\n",
      "{'best_restaurant': \"Ellary'S Greens\", 'max_score': 12.0, 'cuisine': 'Californian'}\n",
      "{'best_restaurant': 'J J Sport Restaurant', 'max_score': 48.0, 'cuisine': 'Latin (Cuban, Dominican, Puerto Rican, South & Central American)'}\n",
      "{'best_restaurant': 'Central', 'max_score': 22.5, 'cuisine': 'Greek'}\n",
      "{'best_restaurant': 'Kikka At Whole Foods Chelsea', 'max_score': 56.0, 'cuisine': 'Japanese'}\n",
      "{'best_restaurant': 'Cheri', 'max_score': 46.0, 'cuisine': 'French'}\n",
      "{'best_restaurant': 'Toro Iron Works Kitchen', 'max_score': 47.0, 'cuisine': 'Mexican'}\n",
      "{'best_restaurant': 'Trakia Restaurant', 'max_score': 28.5, 'cuisine': 'Eastern European'}\n",
      "{'best_restaurant': 'St George Tower', 'max_score': 37.0, 'cuisine': 'Asian'}\n",
      "{'best_restaurant': \"Max'S Deli & Coffee Shop\", 'max_score': 35.0, 'cuisine': 'Delicatessen'}\n",
      "{'best_restaurant': 'Texas De Brazil Churrascaria', 'max_score': 34.0, 'cuisine': 'Brazilian'}\n",
      "{'best_restaurant': 'The Original Jerusalem Ii Cafe', 'max_score': 34.0, 'cuisine': 'Jewish/Kosher'}\n",
      "{'best_restaurant': 'Palombo Pastry Shop', 'max_score': 69.0, 'cuisine': 'Bakery'}\n",
      "{'best_restaurant': 'Club Nova', 'max_score': 34.0, 'cuisine': 'Seafood'}\n",
      "{'best_restaurant': 'Casa Lounge', 'max_score': 23.5, 'cuisine': 'Moroccan'}\n",
      "{'best_restaurant': 'Zen Palate', 'max_score': 32.5, 'cuisine': 'Vegetarian'}\n",
      "{'best_restaurant': 'Whitehall', 'max_score': 22.8, 'cuisine': 'English'}\n",
      "{'best_restaurant': 'East Broadway Cafe', 'max_score': 26.0, 'cuisine': 'Soul Food'}\n",
      "{'best_restaurant': 'Five Town Cafe', 'max_score': 27.0, 'cuisine': 'Armenian'}\n",
      "{'best_restaurant': 'Dziupla', 'max_score': 25.0, 'cuisine': 'Polish'}\n",
      "{'best_restaurant': 'Dylan Hotel', 'max_score': 33.0, 'cuisine': 'Continental'}\n",
      "{'best_restaurant': 'Curry Kabab', 'max_score': 33.0, 'cuisine': 'Pakistani'}\n",
      "{'best_restaurant': 'Popeyes', 'max_score': 7.766666666666667, 'cuisine': 'Creole/Cajun'}\n",
      "{'best_restaurant': \"Julia'S Beer And Wine Bar Llc\", 'max_score': 15.0, 'cuisine': 'Not Listed/Not Applicable'}\n",
      "{'best_restaurant': 'Tandir Rokhat', 'max_score': 32.0, 'cuisine': 'Russian'}\n",
      "{'best_restaurant': 'Tropical Smoochies', 'max_score': 10.5, 'cuisine': 'Fruits/Vegetables'}\n",
      "{'best_restaurant': 'Java Restaurant', 'max_score': 15.0, 'cuisine': 'Indonesian'}\n",
      "{'best_restaurant': 'Chez Nous Restaurant & Fritaille', 'max_score': 31.0, 'cuisine': 'Creole'}\n",
      "{'best_restaurant': 'G & L Cajun Grill', 'max_score': 13.25, 'cuisine': 'Cajun'}\n",
      "{'best_restaurant': 'Buka', 'max_score': 30.4, 'cuisine': 'African'}\n",
      "{'best_restaurant': 'Brooklyn Buschenschank', 'max_score': 28.25, 'cuisine': 'German'}\n",
      "{'best_restaurant': 'Dolphins Diner', 'max_score': 28.0, 'cuisine': 'Mediterranean'}\n",
      "{'best_restaurant': 'Ravagh Persian Grill', 'max_score': 16.22222222222222, 'cuisine': 'Iranian'}\n",
      "{'best_restaurant': 'Stop + Go Chicken', 'max_score': 26.0, 'cuisine': 'Chicken'}\n",
      "{'best_restaurant': 'Subsconcious', 'max_score': 21.6, 'cuisine': 'Soups & Sandwiches'}\n",
      "{'best_restaurant': 'Urubamba', 'max_score': 26.0, 'cuisine': 'Peruvian'}\n"
     ]
    }
   ],
   "source": [
    "mongodb_top5_scored_restaurant_by_cuisine = db.restaurant.aggregate([\n",
    "      \n",
    "    {'$unwind' : '$grades'},\n",
    "    \n",
    "    {'$group' : \n",
    "                   {\n",
    "                    '_id' : {'name' : '$name'},\n",
    "                    'avg_score' : {'$avg' : '$grades.score'},\n",
    "                    'cuisine_' : {'$addToSet' : '$cuisine'},\n",
    "                    'name_' : {'$addToSet' : '$name'}\n",
    "                   }\n",
    "    \n",
    "    },\n",
    "    \n",
    "    {'$unwind' : '$cuisine_'}, {'$unwind' : '$name_'},\n",
    "    \n",
    "    {'$sort' : {'avg_score' : -1}},\n",
    "    \n",
    "    {'$group' : \n",
    "                   {\n",
    "                    '_id' : '$cuisine_',\n",
    "                    'best_restaurant' : {'$first' : '$name_'},\n",
    "                    'max_score' : {'$first' : '$avg_score'}\n",
    "                   }\n",
    "    },\n",
    "    {'$project' : {\n",
    "                  '_id' : 0,\n",
    "                  'cuisine' : '$_id',\n",
    "                  'best_restaurant' : 1,\n",
    "                  'max_score' : 1\n",
    "    }}\n",
    "])\n",
    "\n",
    "for record in mongodb_top5_scored_restaurant_by_cuisine:\n",
    "    print(record)"
   ]
  },
  {
   "cell_type": "code",
   "execution_count": null,
   "metadata": {},
   "outputs": [],
   "source": []
  },
  {
   "cell_type": "code",
   "execution_count": null,
   "metadata": {
    "collapsed": true
   },
   "outputs": [],
   "source": []
  }
 ],
 "metadata": {
  "kernelspec": {
   "display_name": "Python 3",
   "language": "python",
   "name": "python3"
  },
  "language_info": {
   "codemirror_mode": {
    "name": "ipython",
    "version": 3
   },
   "file_extension": ".py",
   "mimetype": "text/x-python",
   "name": "python",
   "nbconvert_exporter": "python",
   "pygments_lexer": "ipython3",
   "version": "3.6.2"
  }
 },
 "nbformat": 4,
 "nbformat_minor": 2
}

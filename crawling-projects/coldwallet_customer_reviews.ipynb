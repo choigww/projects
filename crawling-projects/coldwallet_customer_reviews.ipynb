{
 "cells": [
  {
   "cell_type": "markdown",
   "metadata": {},
   "source": [
    "# Crawling Customer Review (Cold Wallet)\n",
    "\n"
   ]
  },
  {
   "cell_type": "code",
   "execution_count": 1,
   "metadata": {},
   "outputs": [],
   "source": [
    "from selenium import webdriver\n",
    "from selenium.webdriver.common.by import By\n",
    "from selenium.webdriver.support.ui import WebDriverWait\n",
    "from selenium.webdriver.support import expected_conditions as EC\n",
    "from selenium.common.exceptions import TimeoutException\n",
    "from selenium.webdriver.common.action_chains import ActionChains\n",
    "\n",
    "import re\n",
    "import requests\n",
    "from bs4 import BeautifulSoup\n",
    "\n",
    "import pandas as pd"
   ]
  },
  {
   "cell_type": "code",
   "execution_count": 2,
   "metadata": {},
   "outputs": [],
   "source": [
    "chromedriver = '/Users/choigww/local/Cellar/chromedriver/chromedriver'\n",
    "phantomdriver = '/Users/choigww/local/Cellar/phantomjs-2.1.1-macosx/bin/phantomjs'"
   ]
  },
  {
   "cell_type": "markdown",
   "metadata": {},
   "source": [
    "### Page links to get review text\n",
    "\n",
    "* Requirements\n",
    "  * Track the datetime for each review\n",
    "  * Track the number of people who found the review helpful"
   ]
  },
  {
   "cell_type": "code",
   "execution_count": 4,
   "metadata": {},
   "outputs": [],
   "source": [
    "ledger_nano_5star_1p = 'https://www.amazon.com/Ledger-Nano-Cryptocurrency-Hardware-Wallet/product-reviews/B01J66NF46/ref=cm_cr_arp_d_paging_btm_1?ie=UTF8&filterByStar=five_star&reviewerType=all_reviews&pageNumber=1#reviews-filter-bar'\n",
    "trezor_5star_1p = 'https://www.amazon.com/Trezor-bitcoin-wallet-Black/product-reviews/B00R6MKDDE/ref=cm_cr_othr_d_paging_btm_1?ie=UTF8&filterByStar=five_star&reviewerType=all_reviews&pageNumber=1#reviews-filter-bar'\n",
    "keepkey_5star_1p = 'https://www.amazon.com/KeepKey-Simple-Cryptocurrency-Hardware-Wallet/product-reviews/B0143M2A5S/ref=cm_cr_arp_d_paging_btm_1?ie=UTF8&filterByStar=five_star&reviewerType=all_reviews&pageNumber=1#reviews-filter-bar'\n",
    "\n",
    "ledger_nano_1star_1p = 'https://www.amazon.com/Ledger-Nano-Cryptocurrency-Hardware-Wallet/product-reviews/B01J66NF46/ref=cm_cr_arp_d_paging_btm_1?ie=UTF8&filterByStar=one_star&reviewerType=all_reviews&pageNumber=1#reviews-filter-bar'\n",
    "trezor_1star_1p = 'https://www.amazon.com/Trezor-bitcoin-wallet-Black/product-reviews/B00R6MKDDE/ref=cm_cr_othr_d_paging_btm_1?ie=UTF8&filterByStar=one_star&reviewerType=all_reviews&pageNumber=1#reviews-filter-bar'\n",
    "keepkey_1star_1p = 'https://www.amazon.com/KeepKey-Simple-Cryptocurrency-Hardware-Wallet/product-reviews/B0143M2A5S/ref=cm_cr_arp_d_paging_btm_1?ie=UTF8&filterByStar=one_star&reviewerType=all_reviews&pageNumber=1#reviews-filter-bar'\n"
   ]
  },
  {
   "cell_type": "code",
   "execution_count": null,
   "metadata": {},
   "outputs": [],
   "source": []
  },
  {
   "cell_type": "markdown",
   "metadata": {},
   "source": [
    "### Crawler Test for one page"
   ]
  },
  {
   "cell_type": "code",
   "execution_count": 105,
   "metadata": {},
   "outputs": [],
   "source": [
    "res = requests.get(ledger_nano_5star_1p)\n",
    "soup = BeautifulSoup(res.content, 'html.parser')\n",
    "\n",
    "review_date = soup.select('span.a-size-base.a-color-secondary.review-date')\n",
    "review_text= soup.select('div.a-row.a-spacing-medium.review-data > span')"
   ]
  },
  {
   "cell_type": "code",
   "execution_count": 106,
   "metadata": {},
   "outputs": [
    {
     "ename": "IndexError",
     "evalue": "list index out of range",
     "output_type": "error",
     "traceback": [
      "\u001b[0;31m---------------------------------------------------------------------------\u001b[0m",
      "\u001b[0;31mIndexError\u001b[0m                                Traceback (most recent call last)",
      "\u001b[0;32m<ipython-input-106-8e03dac17199>\u001b[0m in \u001b[0;36m<module>\u001b[0;34m()\u001b[0m\n\u001b[1;32m      5\u001b[0m \u001b[0;32mfor\u001b[0m \u001b[0mi\u001b[0m \u001b[0;32min\u001b[0m \u001b[0mrange\u001b[0m\u001b[0;34m(\u001b[0m\u001b[0;36m10\u001b[0m\u001b[0;34m)\u001b[0m\u001b[0;34m:\u001b[0m\u001b[0;34m\u001b[0m\u001b[0m\n\u001b[1;32m      6\u001b[0m \u001b[0;34m\u001b[0m\u001b[0m\n\u001b[0;32m----> 7\u001b[0;31m     \u001b[0mreview_text_li\u001b[0m\u001b[0;34m.\u001b[0m\u001b[0mappend\u001b[0m\u001b[0;34m(\u001b[0m\u001b[0mreview_text\u001b[0m\u001b[0;34m[\u001b[0m\u001b[0mi\u001b[0m\u001b[0;34m]\u001b[0m\u001b[0;34m.\u001b[0m\u001b[0mtext\u001b[0m\u001b[0;34m)\u001b[0m\u001b[0;34m\u001b[0m\u001b[0m\n\u001b[0m\u001b[1;32m      8\u001b[0m \u001b[0;34m\u001b[0m\u001b[0m\n\u001b[1;32m      9\u001b[0m     \u001b[0;31m# review_date에는 top positive / top critical review 날짜가 포함되어 있으므로\u001b[0m\u001b[0;34m\u001b[0m\u001b[0;34m\u001b[0m\u001b[0m\n",
      "\u001b[0;31mIndexError\u001b[0m: list index out of range"
     ]
    }
   ],
   "source": [
    "review_text_li = []\n",
    "review_date_li = []\n",
    "\n",
    "# 1 페이지 당 리뷰는 10개씩 고정\n",
    "for i in range(10):\n",
    "    \n",
    "    review_text_li.append(review_text[i].text)\n",
    "    \n",
    "    # review_date에는 top positive / top critical review 날짜가 포함되어 있으므로\n",
    "    # 매 페이지마다 앞 2개는 슬라이싱해서 버린다\n",
    "    review_date_li.append(review_date[i+2].text)\n",
    "    \n",
    "    "
   ]
  },
  {
   "cell_type": "code",
   "execution_count": 77,
   "metadata": {
    "scrolled": true
   },
   "outputs": [
    {
     "name": "stdout",
     "output_type": "stream",
     "text": [
      "10\n"
     ]
    },
    {
     "data": {
      "text/plain": [
       "'Works as described and I also double checked to make sure this device was not tampered with by opening it up and checking to see if the MCU chip contained \"042K6\" according to ledger\\'s website. Check out the high-res photos of the PCB board. So the setup process was pretty straight forward but takes a while. The chrome app works perfectly and shows all the wallets that are pre installed and the firmware came updated. I also installed a few other wallets as well and it works great. I feel a lot safer now keeping my coins in a hardware wallet rather than some exchange or wallet on my laptop.Google this below because amazon does not allow external linksHow to verify the security integrity of my Nano S'"
      ]
     },
     "execution_count": 77,
     "metadata": {},
     "output_type": "execute_result"
    }
   ],
   "source": [
    "print(len(review_text_li))\n",
    "review_text_li[0]"
   ]
  },
  {
   "cell_type": "code",
   "execution_count": null,
   "metadata": {},
   "outputs": [],
   "source": []
  },
  {
   "cell_type": "markdown",
   "metadata": {},
   "source": [
    "### Test : second page"
   ]
  },
  {
   "cell_type": "code",
   "execution_count": null,
   "metadata": {},
   "outputs": [],
   "source": []
  },
  {
   "cell_type": "code",
   "execution_count": 71,
   "metadata": {},
   "outputs": [],
   "source": [
    "res = requests.get('https://www.amazon.com/Ledger-Nano-Cryptocurrency-Hardware-Wallet/product-reviews/B01J66NF46/ref=cm_cr_arp_d_paging_btm_2?ie=UTF8&filterByStar=five_star&reviewerType=all_reviews&pageNumber=2#reviews-filter-bar')\n",
    "soup = BeautifulSoup(res.content, 'html.parser')\n",
    "\n",
    "review_date = soup.select('span.a-size-base.a-color-secondary.review-date')\n",
    "review_text= soup.select('div.a-row.a-spacing-medium.review-data > span')\n",
    "\n",
    "review_date2 = soup.select('span.a-size-base.a-color-secondary.review-date')\n",
    "review_text2 = soup.select('div.a-row.a-spacing-medium.review-data > span')"
   ]
  },
  {
   "cell_type": "code",
   "execution_count": null,
   "metadata": {},
   "outputs": [],
   "source": []
  },
  {
   "cell_type": "markdown",
   "metadata": {},
   "source": [
    "### Get all 5-starred reviews"
   ]
  },
  {
   "cell_type": "code",
   "execution_count": null,
   "metadata": {},
   "outputs": [],
   "source": []
  },
  {
   "cell_type": "code",
   "execution_count": null,
   "metadata": {},
   "outputs": [],
   "source": [
    "ledger_nano_5star_1p = 'https://www.amazon.com/Ledger-Nano-Cryptocurrency-Hardware-Wallet/product-reviews/B01J66NF46/ref=cm_cr_arp_d_paging_btm_1?ie=UTF8&filterByStar=five_star&reviewerType=all_reviews&pageNumber=1#reviews-filter-bar'\n",
    "trezor_5star_1p = 'https://www.amazon.com/Trezor-bitcoin-wallet-Black/product-reviews/B00R6MKDDE/ref=cm_cr_othr_d_paging_btm_1?ie=UTF8&filterByStar=five_star&reviewerType=all_reviews&pageNumber=1#reviews-filter-bar'\n",
    "keepkey_5star_1p = 'https://www.amazon.com/KeepKey-Simple-Cryptocurrency-Hardware-Wallet/product-reviews/B0143M2A5S/ref=cm_cr_arp_d_paging_btm_1?ie=UTF8&filterByStar=five_star&reviewerType=all_reviews&pageNumber=1#reviews-filter-bar'\n",
    "\n",
    "ledger_nano_1star_1p = 'https://www.amazon.com/Ledger-Nano-Cryptocurrency-Hardware-Wallet/product-reviews/B01J66NF46/ref=cm_cr_arp_d_paging_btm_1?ie=UTF8&filterByStar=one_star&reviewerType=all_reviews&pageNumber=1#reviews-filter-bar'\n",
    "trezor_1star_1p = 'https://www.amazon.com/Trezor-bitcoin-wallet-Black/product-reviews/B00R6MKDDE/ref=cm_cr_othr_d_paging_btm_1?ie=UTF8&filterByStar=one_star&reviewerType=all_reviews&pageNumber=1#reviews-filter-bar'\n",
    "keepkey_1star_1p = 'https://www.amazon.com/KeepKey-Simple-Cryptocurrency-Hardware-Wallet/product-reviews/B0143M2A5S/ref=cm_cr_arp_d_paging_btm_1?ie=UTF8&filterByStar=one_star&reviewerType=all_reviews&pageNumber=1#reviews-filter-bar'\n"
   ]
  },
  {
   "cell_type": "code",
   "execution_count": null,
   "metadata": {},
   "outputs": [],
   "source": []
  },
  {
   "cell_type": "code",
   "execution_count": 100,
   "metadata": {},
   "outputs": [],
   "source": [
    "def get_5star_reviews(start_page_link):\n",
    "    \n",
    "    rep_word1 = 'paging_btm_'\n",
    "    rep_word2 = 'pageNumber='\n",
    "    current_page_num = 1\n",
    "    \n",
    "    page_link = start_page_link\n",
    "    print('current_page:', page_link)\n",
    "    \n",
    "    review_date_li, review_text_li = [], []\n",
    "    \n",
    "    while True:\n",
    "            \n",
    "        print('into while loop')\n",
    "        res = requests.get(page_link)\n",
    "        soup = BeautifulSoup(res.content, 'html.parser')\n",
    "\n",
    "        review_date = soup.select('span.a-size-base.a-color-secondary.review-date')\n",
    "        review_text = soup.select('div.a-row.a-spacing-medium.review-data > span')\n",
    "        \n",
    "        if not len(review_date):\n",
    "            print('break loop')\n",
    "            print(review_date)\n",
    "            stop_button = False\n",
    "            break\n",
    "            \n",
    "        for i in range(10):\n",
    "            print(review_text[i], review_date[i+2])\n",
    "            review_text_li.append(review_text[i].text)\n",
    "            review_date_li.append(review_date[i+2].text)\n",
    "        \n",
    "        page_link = page_link.replace(rep_word1+str(current_page_num),\n",
    "                                     rep_word1+str(current_page_num + 1))\n",
    "        \n",
    "        print(page_link)\n",
    "        \n",
    "        page_link = page_link.replace(rep_word2+str(current_page_num),\n",
    "                                     rep_word2+str(current_page_num + 1))\n",
    "        \n",
    "        print(page_link)\n",
    "        \n",
    "        current_page_num += 1\n",
    "    \n",
    "    \n",
    "    return review_date_li, review_text_li"
   ]
  },
  {
   "cell_type": "code",
   "execution_count": null,
   "metadata": {},
   "outputs": [],
   "source": []
  },
  {
   "cell_type": "code",
   "execution_count": 101,
   "metadata": {
    "scrolled": true
   },
   "outputs": [
    {
     "name": "stdout",
     "output_type": "stream",
     "text": [
      "current_page: https://www.amazon.com/Ledger-Nano-Cryptocurrency-Hardware-Wallet/product-reviews/B01J66NF46/ref=cm_cr_arp_d_paging_btm_1?ie=UTF8&filterByStar=five_star&reviewerType=all_reviews&pageNumber=1#reviews-filter-bar\n",
      "into while loop\n",
      "break loop\n",
      "[]\n"
     ]
    },
    {
     "data": {
      "text/plain": [
       "([], [])"
      ]
     },
     "execution_count": 101,
     "metadata": {},
     "output_type": "execute_result"
    }
   ],
   "source": [
    "get_5star_reviews(ledger_nano_5star_1p)"
   ]
  },
  {
   "cell_type": "code",
   "execution_count": null,
   "metadata": {},
   "outputs": [],
   "source": []
  },
  {
   "cell_type": "code",
   "execution_count": null,
   "metadata": {},
   "outputs": [],
   "source": []
  },
  {
   "cell_type": "code",
   "execution_count": null,
   "metadata": {},
   "outputs": [],
   "source": []
  },
  {
   "cell_type": "code",
   "execution_count": 47,
   "metadata": {},
   "outputs": [],
   "source": [
    "test_url = 'https://www.amazon.com/Ledger-Nano-Cryptocurrency-Hardware-Wallet/product-reviews/B01J66NF46/ref=cm_cr_arp_d_paging_btm_2?ie=UTF8&filterByStar=five_star&reviewerType=all_reviews&pageNumber=2#reviews-filter-bar'\n",
    "\n",
    "res = requests.get(test_url)\n",
    "soup = BeautifulSoup(res.content, 'html.parser')\n",
    "\n",
    "review_date = soup.select('span.a-size-base.a-color-secondary.review-date')\n",
    "review_text = soup.select('div.a-row.a-spacing-medium.review-data > span')"
   ]
  },
  {
   "cell_type": "code",
   "execution_count": 48,
   "metadata": {},
   "outputs": [
    {
     "data": {
      "text/plain": [
       "[<span class=\"a-size-base a-color-secondary review-date\">on December 14, 2017</span>,\n",
       " <span class=\"a-size-base a-color-secondary review-date\">on January 5, 2018</span>,\n",
       " <span class=\"a-size-base a-color-secondary review-date\" data-hook=\"review-date\">on February 27, 2018</span>,\n",
       " <span class=\"a-size-base a-color-secondary review-date\" data-hook=\"review-date\">on December 17, 2017</span>,\n",
       " <span class=\"a-size-base a-color-secondary review-date\" data-hook=\"review-date\">on February 9, 2018</span>,\n",
       " <span class=\"a-size-base a-color-secondary review-date\" data-hook=\"review-date\">on April 23, 2018</span>,\n",
       " <span class=\"a-size-base a-color-secondary review-date\" data-hook=\"review-date\">on December 31, 2017</span>,\n",
       " <span class=\"a-size-base a-color-secondary review-date\" data-hook=\"review-date\">on January 2, 2018</span>,\n",
       " <span class=\"a-size-base a-color-secondary review-date\" data-hook=\"review-date\">on January 7, 2018</span>,\n",
       " <span class=\"a-size-base a-color-secondary review-date\" data-hook=\"review-date\">on December 17, 2017</span>,\n",
       " <span class=\"a-size-base a-color-secondary review-date\" data-hook=\"review-date\">on December 17, 2017</span>,\n",
       " <span class=\"a-size-base a-color-secondary review-date\" data-hook=\"review-date\">on February 28, 2018</span>]"
      ]
     },
     "execution_count": 48,
     "metadata": {},
     "output_type": "execute_result"
    }
   ],
   "source": [
    "review_date"
   ]
  },
  {
   "cell_type": "code",
   "execution_count": null,
   "metadata": {},
   "outputs": [],
   "source": []
  },
  {
   "cell_type": "code",
   "execution_count": null,
   "metadata": {},
   "outputs": [],
   "source": []
  },
  {
   "cell_type": "code",
   "execution_count": null,
   "metadata": {},
   "outputs": [],
   "source": []
  },
  {
   "cell_type": "code",
   "execution_count": null,
   "metadata": {},
   "outputs": [],
   "source": []
  },
  {
   "cell_type": "code",
   "execution_count": 35,
   "metadata": {},
   "outputs": [
    {
     "data": {
      "text/plain": [
       "[]"
      ]
     },
     "execution_count": 35,
     "metadata": {},
     "output_type": "execute_result"
    }
   ],
   "source": [
    "res = requests.get('https://www.amazon.com/Ledger-Nano-Cryptocurrency-Hardware-Wallet/product-reviews/B01J66NF46/ref=cm_cr_arp_d_paging_btm_1?ie=UTF8&filterByStar=five_star&reviewerType=all_reviews&pageNumber=1#reviews-filter-bar')\n",
    "soup = BeautifulSoup(res.content, 'html.parser')\n",
    "\n",
    "soup.select('div.a-row.a-spacing-medium.review-data > span')"
   ]
  },
  {
   "cell_type": "code",
   "execution_count": 37,
   "metadata": {},
   "outputs": [
    {
     "data": {
      "text/plain": [
       "[<span class=\"a-size-base review-text\" data-hook=\"review-body\">Works as described and I also double checked to make sure this device was not tampered with by opening it up and checking to see if the MCU chip contained \"042K6\" according to ledger's website. Check out the high-res photos of the PCB board. So the setup process was pretty straight forward but takes a while. The chrome app works perfectly and shows all the wallets that are pre installed and the firmware came updated. I also installed a few other wallets as well and it works great. I feel a lot safer now keeping my coins in a hardware wallet rather than some exchange or wallet on my laptop.<br/><br/>Google this below because amazon does not allow external links<br/>How to verify the security integrity of my Nano S</span>,\n",
       " <span class=\"a-size-base review-text\" data-hook=\"review-body\">This is a really nice crypto wallet that is very easy to use. The ledger team are constantly supporting new currencies and there are a lot of good resources for crypto beginners on this wallet. There is a limit to the variety of currencies you can have on the wallet though. I believe it’s 3. So this may not be for you if you are planning on storing a wide variety of coins/tokens.<br><br/>For those of you who don’t know how it works.<br/><br/>It stores your private keys on the device. You will receive a sequence of words when you set it up for the first time(write these down and store them somewhere safe) and you will set up a pin. To access the device you use the pin by physically inputting into the ledger. If you lose the ledger or forget your pin code you use the sequence of words that you were given when you set the device up. You can recover your wallet on the same ledger or a new ledger using those words.</br></span>,\n",
       " <span class=\"a-size-base review-text\" data-hook=\"review-body\">I kept my coins on an exchange for too long all to avoid the user hostile software wallet marketplace that was/continues to be borderline user hostile in it's UI/UX<br>The best and top rated software wallets on a good day are nearly guaranteed to be high learning curve cumbersome annoyances.<br/><br/>If I didn't find Ledger and their hardware wallets I'd probably still be a future coinbase victim as no exchange can be trusted.<br/><br/>Best in class developers are what keeps these (Ledger Wallets) ahead of the competition in my opinion.  Ledger is constantly patching and updating the software to accommodate the wildly chaotic crypto world adding newer and more coins and keeping up with all the recent hard forks and chain splits.<br/><br/>There are some fine products in this tier but I believe Ledger's developers set them apart.</br></span>,\n",
       " <span class=\"a-size-base review-text\" data-hook=\"review-body\">mine had smudges also, didn't look like finger smudges. i have worked for major hardware OEMs in the past and nothing inside the (purposefully unsealed) package look like marks from un-gloved handling. what looks like smudges appear to be artifacts of the manufacturing process (they appear where the logo is etched into the sleeve)<br><br/>cannot stress this enough: the design of the device precludes physical tampering. if the wallet is tampered with then it won't work because the hashes won't match.<br/><br/>arrives on time, functions perfectly, validates as secure with ledgerwallet, installs the crypto wallets i want, hardware keys validate and function...can't ask for more.<br/><br/>if you are worried about receiving something in an unsealed package with smudges on it then please do yourself the favor of some basic research.</br></span>,\n",
       " <span class=\"a-size-base review-text\" data-hook=\"review-body\">Excellent product and amazing customer service. I have full confidence and faith in this product and company. My lanyard came a little bit frayed so I contacted support. Within one hour the CEO shipped out a replacement from France for free. Try beating that. I am so impressed with the reduction of complexity the end user experiences I've written a blog post about it on my website. Use google since Amazon reviews won't allow me to include links. Fail for Amazon, A for Ledger.</span>,\n",
       " <span class=\"a-size-base review-text\" data-hook=\"review-body\">A great offline wallet solution.  I previously had a case hardware wallet, and while the design was a cool idea, I ended up breaking it within a week.  It was my fault, I kept it in my back pocket and it just took me sitting back and snapping the screen.  After that I was unable to use the device after I already put a ton of bitcoin on there.  I still have yet to get those funds back after paying $75 and waiting 3 weeks.<br><br>It comes wrapped in a nice box with index cards, one being an instruction, and another with 24 blank spaces for you to write down your private key.  The device itself is completely restorable and replacable as long as you maintain this, and the best part is the company never has your private keys.  plug the USB into your computer and the device will turn on.  In order to add or remove apps and update firmware you have to download the google chrome extension for the ledger manager and the extensions for whichever wallets you want to use whether it be bitcoin or ethereum, dogecoin, etc.<br/><br/>The software is very easy to use and you have the ability to install new apps as they become available.  Also installed with it is FidoU2f which will allow you to use the device as a multifactor key.  Super easy multifactor solution.  I set mine on my Google account and it signs me in seamlessly after I enter my password and have the device plugged in.<br/><br/>My only complaints about this device is that it needs to be plugged into your computer to work and it requires you to have google chrome and install their extensions.  It would be nice if it worked without having to plug it in since there are some places I don't have access to a computer.  They do have one called \"nano ledger blue\" that supposedly works with smartphones but the price is quite a bit higher.  Other than that this device is portable and works great!<br/>Pros - portable, discrete, easy to restore<br/><br/>Cons - requires a computer and google chrome to run</br></br></span>,\n",
       " <span class=\"a-size-base review-text\" data-hook=\"review-body\">I like my Nano. The set up experience was cool and interacting with the device is easy enough. You really just need to unlock it and activate the desired app before finishing on the pc, anyway. It's VERY well made and the fit and finish is perfection. The manager app lets you easily install apps on the Nano from a list. I was a bit disappointed at how atomic all the chrome wallets are, meaning they're all installed individually and they are not all exactly the same. Close, but inconsistencies. I really wish there were a portal where you could choose the wallet to work with ... or that they would at least add launch links from the manager that would open the individual apps. I love having my cryptos off the exchanges and this suite is a pleasant and secure solution that gives me peace of mind. A buddy bought one right after me.</span>,\n",
       " <span class=\"a-size-base review-text\" data-hook=\"review-body\">First, I am fairly new to cryptocurrency, but one of the first things I learned right away was how to safely store one's coins. With hacking being so prevalent these days, it's essential to understand what options one has available to them. I am still learning how to use this device, but what I can say thus far is that it's not the easiest to learn to use, but with patience and lots of research, it seems to be a really good product. One of the things I ran into was the numbers of people complaining about some of these on here having been tampered with, yet I didn't have that issue with this seller. In fact, if you were to go to the LedgerWallet website, this seller is listed as a supplier for the US.<br><br>As such, I received the device sealed in plastic and opened it to find it in pristine condition without any signs of wear or prior use. There is a way to verify whether the device is legit or not on LedgerWallet's website, but since LedgerWallet had linked this seller on their site, I trust they're reputable. The one thing I find to be frustrating about this device is how hard it is to get clear and concise directions on how to use or troubleshoot it. Most products come with instructions, yet this device did not. Still, for what is paid for it and what it has to offer in way of protection, it's a no brainer. I'll continue to play with it some more and get a good feel for the apps used within it before transferring over my cryptocurrencies.<br/><br/>Another thing I'll mention because it took me a LOOOOONG time to figure out is that when you're running an app and have a wallet open, the ledger wallet will not allow you to open an additional wallet while running a different one. It seems you can have but one wallet open at a time. I kept trying to open bitcoin and also ethereum and neither would work. I was beginning to think the device was faulty, but I eventually figured out that I had the ripple wallet opened in the background. Once i closed it, bitcoin opened without issues. After that, I was able to get Ethereum to work as well, but neither would while the ripple app was open. Hopefully that info will save some out there some time, as I looked everywhere trying to figure out what I was doing wrong and couldn't get a straight answer.<br/><br/>Lastly, and this is a little frustrating as well, there seems to only be room on it for about 4 apps, so if you hold coins in multiple supported apps, just keep in mind that you won't be able to have all of them on the one device. You can still use all the different apps, but my understanding is you'd have to delete some and load others on, and then delete those and re-add the others later to move back and forth. I don't know if doing so would cause you to lose your coins or not, as I know some people have more than one of these devices. I'm not there yet, but I might order another one later if I start diversifying my crypto coins. For now, 4 apps is plenty for me. Hope this review proves helpful to some of you, who like me, are fairly new to all of this.</br></br></span>,\n",
       " <span class=\"a-size-base review-text\" data-hook=\"review-body\">I didn't know much about crypto currency in the beginning but I was sure of one thing - I was not going to use a software wallet or let an online brokerage hold my tokens!<br><br/>The Ledger Nano S is a great little device that is quick and simple to use. After getting it configured for the first time (which is very simple), I installed the Google Chrome apps from Ledger that run from the Chrome browser and interface to the Nano S. The apps reliably connect to my Nano S and display the relevant information like the address where I can receive coins or how many I have and in some cases the current dollar value.<br/><br/>I HAVE NOT tried this from my phone using their Android app but I have read mixed reviews on that, but you'll need to look somewhere else for guidance there.<br/><br/>I like having my crypto on a hardware device and knowing they can't be stolen. Even if your laptop is compromised with malware it still cannot steal your tokens with your Nano S connected because you need to physically push the buttons on it to make a transfer happen. Although you pay a small transfer fee in most cases, the second I buy any crypto currency at a brokerage I immediately transfer it to my Ledger.<br/><br/>And if your Nano S get lost, stolen, destroyed or eaten by a T-Rex that's okay - just buy another one and use the option to re-create your old one using the 24 magic keywords you initially wrote down and put in a safe place and BINGO - your fortune has been recovered!</br></span>,\n",
       " <span class=\"a-size-base review-text\" data-hook=\"review-body\">Not sure what I was buying but all turned out well despite my ignorance as a newbie to Cryptocurrency.  Mark at Amazon support was a big help to get me over the learning curve.  The Ledger Nano S works beautifully and can't be happier.  I was able to download support software for both LTC Lite coin and XRP Ripple crypto coins and have my XRP coins from Bitstamp safely stored on my new Ledger Nano S.  Will download my Litecoin as soon as transferred to my Coinbase exchange.</span>]"
      ]
     },
     "execution_count": 37,
     "metadata": {},
     "output_type": "execute_result"
    }
   ],
   "source": [
    "res = requests.get('https://www.amazon.com/Ledger-Nano-Cryptocurrency-Hardware-Wallet/product-reviews/B01J66NF46/ref=cm_cr_arp_d_paging_btm_1?ie=UTF8&filterByStar=five_star&reviewerType=all_reviews&pageNumber=1#reviews-filter-bar')\n",
    "soup = BeautifulSoup(res.content, 'html.parser')\n",
    "\n",
    "soup.select('div.a-row.a-spacing-medium.review-data > span')\n"
   ]
  },
  {
   "cell_type": "code",
   "execution_count": null,
   "metadata": {},
   "outputs": [],
   "source": []
  },
  {
   "cell_type": "code",
   "execution_count": null,
   "metadata": {},
   "outputs": [],
   "source": []
  },
  {
   "cell_type": "markdown",
   "metadata": {},
   "source": [
    "### Get all 1-starred reviews"
   ]
  },
  {
   "cell_type": "code",
   "execution_count": null,
   "metadata": {},
   "outputs": [],
   "source": []
  },
  {
   "cell_type": "code",
   "execution_count": null,
   "metadata": {},
   "outputs": [],
   "source": []
  },
  {
   "cell_type": "code",
   "execution_count": null,
   "metadata": {},
   "outputs": [],
   "source": []
  },
  {
   "cell_type": "code",
   "execution_count": null,
   "metadata": {},
   "outputs": [],
   "source": []
  },
  {
   "cell_type": "code",
   "execution_count": null,
   "metadata": {},
   "outputs": [],
   "source": []
  }
 ],
 "metadata": {
  "kernelspec": {
   "display_name": "Python 3",
   "language": "python",
   "name": "python3"
  },
  "language_info": {
   "codemirror_mode": {
    "name": "ipython",
    "version": 3
   },
   "file_extension": ".py",
   "mimetype": "text/x-python",
   "name": "python",
   "nbconvert_exporter": "python",
   "pygments_lexer": "ipython3",
   "version": "3.6.2"
  }
 },
 "nbformat": 4,
 "nbformat_minor": 2
}

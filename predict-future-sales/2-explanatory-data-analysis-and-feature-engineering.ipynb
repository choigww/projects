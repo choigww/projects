{
 "cells": [
  {
   "cell_type": "markdown",
   "metadata": {},
   "source": [
    "# Predict Future Sales\n",
    "from [kaggle competition](https://www.kaggle.com/c/competitive-data-science-predict-future-sales/)"
   ]
  },
  {
   "cell_type": "markdown",
   "metadata": {},
   "source": [
    "## 2. EDA and Feature Engineering\n"
   ]
  },
  {
   "cell_type": "markdown",
   "metadata": {},
   "source": [
    "## 2-1. Data optimization"
   ]
  },
  {
   "cell_type": "code",
   "execution_count": 1,
   "metadata": {},
   "outputs": [],
   "source": [
    "import pandas as pd\n",
    "from matplotlib import pyplot as plt\n",
    "\n",
    "train = pd.read_csv('data/sales_train_opt_ver1.csv')"
   ]
  },
  {
   "cell_type": "code",
   "execution_count": 2,
   "metadata": {
    "scrolled": false
   },
   "outputs": [
    {
     "name": "stdout",
     "output_type": "stream",
     "text": [
      "<class 'pandas.core.frame.DataFrame'>\n",
      "RangeIndex: 1609124 entries, 0 to 1609123\n",
      "Data columns (total 16 columns):\n",
      "shop_id                          1609124 non-null int64\n",
      "item_id                          1609124 non-null int64\n",
      "date_block_num                   1609124 non-null int64\n",
      "item_cnt_month                   1609124 non-null float64\n",
      "item_price_month                 1609124 non-null float64\n",
      "date_month                       1609124 non-null int64\n",
      "date_year                        1609124 non-null int64\n",
      "item_cateogory_id                1609124 non-null int64\n",
      "shop_loc                         1609124 non-null object\n",
      "shop_loc_dist                    1574025 non-null object\n",
      "shop_loc_pop_2010                1574025 non-null float64\n",
      "shop_loc_pop_2017                1574025 non-null float64\n",
      "shop_loc_pop_rank_2017           1574025 non-null float64\n",
      "shop_loc_pop_change_2010_2017    1574025 non-null float64\n",
      "item_first_category              1609124 non-null object\n",
      "item_second_category             1603928 non-null object\n",
      "dtypes: float64(6), int64(6), object(4)\n",
      "memory usage: 544.0 MB\n"
     ]
    }
   ],
   "source": [
    "# optimize dataset\n",
    "train.info(memory_usage='deep')"
   ]
  },
  {
   "cell_type": "code",
   "execution_count": null,
   "metadata": {},
   "outputs": [],
   "source": []
  },
  {
   "cell_type": "markdown",
   "metadata": {},
   "source": [
    "### Optimization Scheme\n",
    "\n",
    "\n",
    "Columns to drop\n",
    "* We are to predict the sales in `Nov. 2015` - we are supposed to use data only available at the point before `Oct. 2015`\n",
    "  * `shop_loc_pop_2017`, `shop_loc_pop_rank_2017`, `shop_loc_pop_change_2010_2017`\n",
    "* `item_category_id` represents categorized information including `item_second_category` already\n",
    "  * `item_second_category`\n",
    "\n",
    "Columns to optimize numerical size : only columns that need be applied by some arithmetic\n",
    "  * optimize as `float` type : `item_price_month`, `shop_loc_pop_2010`\n",
    "  * convert to `integer` and optimize : `item_cnt_month`, `date_block_num`, `date_month`, `date_year`\n",
    "  \n",
    "Columns to convert to `category` type\n",
    "* Convert the columns below if `len(len_of_unique_values) < .5 * total_length_of_rows`\n",
    "* `_id`, `_category`, `shop_loc`, `shop_loc_dist`"
   ]
  },
  {
   "cell_type": "code",
   "execution_count": 3,
   "metadata": {},
   "outputs": [
    {
     "data": {
      "text/html": [
       "<div>\n",
       "<style scoped>\n",
       "    .dataframe tbody tr th:only-of-type {\n",
       "        vertical-align: middle;\n",
       "    }\n",
       "\n",
       "    .dataframe tbody tr th {\n",
       "        vertical-align: top;\n",
       "    }\n",
       "\n",
       "    .dataframe thead th {\n",
       "        text-align: right;\n",
       "    }\n",
       "</style>\n",
       "<table border=\"1\" class=\"dataframe\">\n",
       "  <thead>\n",
       "    <tr style=\"text-align: right;\">\n",
       "      <th></th>\n",
       "      <th>shop_id</th>\n",
       "      <th>item_id</th>\n",
       "      <th>date_block_num</th>\n",
       "      <th>item_cnt_month</th>\n",
       "      <th>item_price_month</th>\n",
       "      <th>date_month</th>\n",
       "      <th>date_year</th>\n",
       "      <th>item_cateogory_id</th>\n",
       "      <th>shop_loc</th>\n",
       "      <th>shop_loc_dist</th>\n",
       "      <th>shop_loc_pop_2010</th>\n",
       "      <th>shop_loc_pop_2017</th>\n",
       "      <th>shop_loc_pop_rank_2017</th>\n",
       "      <th>shop_loc_pop_change_2010_2017</th>\n",
       "      <th>item_first_category</th>\n",
       "      <th>item_second_category</th>\n",
       "    </tr>\n",
       "  </thead>\n",
       "  <tbody>\n",
       "    <tr>\n",
       "      <th>0</th>\n",
       "      <td>0</td>\n",
       "      <td>30</td>\n",
       "      <td>1</td>\n",
       "      <td>31.0</td>\n",
       "      <td>265.0</td>\n",
       "      <td>2</td>\n",
       "      <td>2013</td>\n",
       "      <td>40</td>\n",
       "      <td>yakutsk</td>\n",
       "      <td>Far East</td>\n",
       "      <td>269601.0</td>\n",
       "      <td>307911.0</td>\n",
       "      <td>64.0</td>\n",
       "      <td>14.2</td>\n",
       "      <td>cinema</td>\n",
       "      <td>dvd</td>\n",
       "    </tr>\n",
       "    <tr>\n",
       "      <th>1</th>\n",
       "      <td>0</td>\n",
       "      <td>31</td>\n",
       "      <td>1</td>\n",
       "      <td>11.0</td>\n",
       "      <td>434.0</td>\n",
       "      <td>2</td>\n",
       "      <td>2013</td>\n",
       "      <td>37</td>\n",
       "      <td>yakutsk</td>\n",
       "      <td>Far East</td>\n",
       "      <td>269601.0</td>\n",
       "      <td>307911.0</td>\n",
       "      <td>64.0</td>\n",
       "      <td>14.2</td>\n",
       "      <td>cinema</td>\n",
       "      <td>blu-ray</td>\n",
       "    </tr>\n",
       "    <tr>\n",
       "      <th>2</th>\n",
       "      <td>0</td>\n",
       "      <td>32</td>\n",
       "      <td>0</td>\n",
       "      <td>6.0</td>\n",
       "      <td>221.0</td>\n",
       "      <td>1</td>\n",
       "      <td>2013</td>\n",
       "      <td>40</td>\n",
       "      <td>yakutsk</td>\n",
       "      <td>Far East</td>\n",
       "      <td>269601.0</td>\n",
       "      <td>307911.0</td>\n",
       "      <td>64.0</td>\n",
       "      <td>14.2</td>\n",
       "      <td>cinema</td>\n",
       "      <td>dvd</td>\n",
       "    </tr>\n",
       "    <tr>\n",
       "      <th>3</th>\n",
       "      <td>0</td>\n",
       "      <td>32</td>\n",
       "      <td>1</td>\n",
       "      <td>10.0</td>\n",
       "      <td>221.0</td>\n",
       "      <td>2</td>\n",
       "      <td>2013</td>\n",
       "      <td>40</td>\n",
       "      <td>yakutsk</td>\n",
       "      <td>Far East</td>\n",
       "      <td>269601.0</td>\n",
       "      <td>307911.0</td>\n",
       "      <td>64.0</td>\n",
       "      <td>14.2</td>\n",
       "      <td>cinema</td>\n",
       "      <td>dvd</td>\n",
       "    </tr>\n",
       "    <tr>\n",
       "      <th>4</th>\n",
       "      <td>0</td>\n",
       "      <td>33</td>\n",
       "      <td>0</td>\n",
       "      <td>3.0</td>\n",
       "      <td>347.0</td>\n",
       "      <td>1</td>\n",
       "      <td>2013</td>\n",
       "      <td>37</td>\n",
       "      <td>yakutsk</td>\n",
       "      <td>Far East</td>\n",
       "      <td>269601.0</td>\n",
       "      <td>307911.0</td>\n",
       "      <td>64.0</td>\n",
       "      <td>14.2</td>\n",
       "      <td>cinema</td>\n",
       "      <td>blu-ray</td>\n",
       "    </tr>\n",
       "  </tbody>\n",
       "</table>\n",
       "</div>"
      ],
      "text/plain": [
       "   shop_id  item_id  date_block_num  item_cnt_month  item_price_month  \\\n",
       "0        0       30               1            31.0             265.0   \n",
       "1        0       31               1            11.0             434.0   \n",
       "2        0       32               0             6.0             221.0   \n",
       "3        0       32               1            10.0             221.0   \n",
       "4        0       33               0             3.0             347.0   \n",
       "\n",
       "   date_month  date_year  item_cateogory_id shop_loc shop_loc_dist  \\\n",
       "0           2       2013                 40  yakutsk      Far East   \n",
       "1           2       2013                 37  yakutsk      Far East   \n",
       "2           1       2013                 40  yakutsk      Far East   \n",
       "3           2       2013                 40  yakutsk      Far East   \n",
       "4           1       2013                 37  yakutsk      Far East   \n",
       "\n",
       "   shop_loc_pop_2010  shop_loc_pop_2017  shop_loc_pop_rank_2017  \\\n",
       "0           269601.0           307911.0                    64.0   \n",
       "1           269601.0           307911.0                    64.0   \n",
       "2           269601.0           307911.0                    64.0   \n",
       "3           269601.0           307911.0                    64.0   \n",
       "4           269601.0           307911.0                    64.0   \n",
       "\n",
       "   shop_loc_pop_change_2010_2017 item_first_category item_second_category  \n",
       "0                           14.2              cinema                  dvd  \n",
       "1                           14.2              cinema              blu-ray  \n",
       "2                           14.2              cinema                  dvd  \n",
       "3                           14.2              cinema                  dvd  \n",
       "4                           14.2              cinema              blu-ray  "
      ]
     },
     "execution_count": 3,
     "metadata": {},
     "output_type": "execute_result"
    }
   ],
   "source": [
    "train.head()"
   ]
  },
  {
   "cell_type": "code",
   "execution_count": 4,
   "metadata": {},
   "outputs": [
    {
     "name": "stdout",
     "output_type": "stream",
     "text": [
      "['shop_id', 'item_id', 'date_block_num', 'item_cnt_month', 'item_price_month', 'date_month', 'date_year', 'item_category_id', 'shop_loc', 'shop_loc_dist', 'shop_loc_pop_2010', 'shop_loc_pop_2017', 'shop_loc_pop_rank_2017', 'shop_loc_pop_change_2010_2017', 'item_first_category', 'item_second_category']\n"
     ]
    }
   ],
   "source": [
    "# correct spell; `item_cateogory_id` -> `item_category_id`\n",
    "original_colnames = train.columns.tolist()\n",
    "modified_colnames = original_colnames[:]\n",
    "modified_colnames[modified_colnames.index('item_cateogory_id')] = 'item_category_id'\n",
    "org_mod_colnames_mapped = dict(zip(original_colnames, modified_colnames))\n",
    "train = train.rename(columns=org_mod_colnames_mapped)\n",
    "\n",
    "print(train.columns.tolist())"
   ]
  },
  {
   "cell_type": "code",
   "execution_count": 5,
   "metadata": {},
   "outputs": [],
   "source": [
    "cols_to_drop = ['shop_loc_pop_2017', 'shop_loc_pop_rank_2017', 'shop_loc_pop_change_2010_2017', 'item_second_category']\n",
    "train = train.drop(cols_to_drop, axis=1)"
   ]
  },
  {
   "cell_type": "code",
   "execution_count": 6,
   "metadata": {},
   "outputs": [],
   "source": [
    "cols_to_cat = ['shop_id', 'item_id', 'item_category_id',\n",
    "              'shop_loc', 'shop_loc_dist', 'item_first_category']\n",
    "\n",
    "for cc in cols_to_cat:\n",
    "    if len(train[cc].unique()) < .5 * len(train):\n",
    "        train[cc] = train[cc].astype('category')"
   ]
  },
  {
   "cell_type": "code",
   "execution_count": 7,
   "metadata": {},
   "outputs": [],
   "source": [
    "cols_to_optfloat = ['item_price_month', 'shop_loc_pop_2010']\n",
    "for fc in cols_to_optfloat:    \n",
    "    train[fc] = pd.to_numeric(train[fc], downcast='float')"
   ]
  },
  {
   "cell_type": "code",
   "execution_count": 8,
   "metadata": {},
   "outputs": [],
   "source": [
    "cols_to_optint = ['date_block_num', 'date_month', 'date_year', 'item_cnt_month']\n",
    "\n",
    "for ic in cols_to_optint:\n",
    "    train[ic] = pd.to_numeric(train[ic].astype('int'),\n",
    "                                        downcast='integer')"
   ]
  },
  {
   "cell_type": "code",
   "execution_count": null,
   "metadata": {},
   "outputs": [],
   "source": []
  },
  {
   "cell_type": "code",
   "execution_count": 9,
   "metadata": {},
   "outputs": [
    {
     "name": "stdout",
     "output_type": "stream",
     "text": [
      "<class 'pandas.core.frame.DataFrame'>\n",
      "RangeIndex: 1609124 entries, 0 to 1609123\n",
      "Data columns (total 12 columns):\n",
      "shop_id                1609124 non-null category\n",
      "item_id                1609124 non-null category\n",
      "date_block_num         1609124 non-null int8\n",
      "item_cnt_month         1609124 non-null int16\n",
      "item_price_month       1609124 non-null float32\n",
      "date_month             1609124 non-null int8\n",
      "date_year              1609124 non-null int16\n",
      "item_category_id       1609124 non-null category\n",
      "shop_loc               1609124 non-null category\n",
      "shop_loc_dist          1574025 non-null category\n",
      "shop_loc_pop_2010      1574025 non-null float32\n",
      "item_first_category    1609124 non-null category\n",
      "dtypes: category(6), float32(2), int16(2), int8(2)\n",
      "memory usage: 33.0 MB\n"
     ]
    }
   ],
   "source": [
    "# optimization finished: \n",
    "# FROM 544MB TO 33MB\n",
    "train.info(memory_usage='deep')"
   ]
  },
  {
   "cell_type": "markdown",
   "metadata": {},
   "source": [
    "### `null` values exist in column `shop_loc_dist` and `shop_loc_pop_2010`\n",
    "* where `shop_loc` is `online` or `export`\n",
    "  * we will treat the null values before modeling process."
   ]
  },
  {
   "cell_type": "code",
   "execution_count": 10,
   "metadata": {},
   "outputs": [],
   "source": [
    "# additionally create 'season' column for some products having seasonality.\n",
    "\n",
    "month_season_mapped = {\n",
    "    1:'winter', 2:'winter',\n",
    "    3:'spring', 4:'spring', 5:'spring',\n",
    "    6:'summer', 7:'summer', 8:'summer', \n",
    "    9:'autumn', 10:'autumn', 11:'autumn',\n",
    "    12:'winter'\n",
    "}\n",
    "\n",
    "train['date_season'] = train['date_month'].map(month_season_mapped)"
   ]
  },
  {
   "cell_type": "code",
   "execution_count": 11,
   "metadata": {},
   "outputs": [],
   "source": [
    "# to visualize the actual income, \n",
    "train['revenue_month'] = train['item_price_month'] * train['item_cnt_month']"
   ]
  },
  {
   "cell_type": "code",
   "execution_count": 12,
   "metadata": {
    "scrolled": true
   },
   "outputs": [
    {
     "data": {
      "text/html": [
       "<div>\n",
       "<style scoped>\n",
       "    .dataframe tbody tr th:only-of-type {\n",
       "        vertical-align: middle;\n",
       "    }\n",
       "\n",
       "    .dataframe tbody tr th {\n",
       "        vertical-align: top;\n",
       "    }\n",
       "\n",
       "    .dataframe thead th {\n",
       "        text-align: right;\n",
       "    }\n",
       "</style>\n",
       "<table border=\"1\" class=\"dataframe\">\n",
       "  <thead>\n",
       "    <tr style=\"text-align: right;\">\n",
       "      <th></th>\n",
       "      <th>shop_id</th>\n",
       "      <th>item_id</th>\n",
       "      <th>date_block_num</th>\n",
       "      <th>item_cnt_month</th>\n",
       "      <th>item_price_month</th>\n",
       "      <th>date_month</th>\n",
       "      <th>date_year</th>\n",
       "      <th>item_category_id</th>\n",
       "      <th>shop_loc</th>\n",
       "      <th>shop_loc_dist</th>\n",
       "      <th>shop_loc_pop_2010</th>\n",
       "      <th>item_first_category</th>\n",
       "      <th>date_season</th>\n",
       "      <th>revenue_month</th>\n",
       "    </tr>\n",
       "  </thead>\n",
       "  <tbody>\n",
       "    <tr>\n",
       "      <th>0</th>\n",
       "      <td>0</td>\n",
       "      <td>30</td>\n",
       "      <td>1</td>\n",
       "      <td>31</td>\n",
       "      <td>265.0</td>\n",
       "      <td>2</td>\n",
       "      <td>2013</td>\n",
       "      <td>40</td>\n",
       "      <td>yakutsk</td>\n",
       "      <td>Far East</td>\n",
       "      <td>269601.0</td>\n",
       "      <td>cinema</td>\n",
       "      <td>winter</td>\n",
       "      <td>8215.0</td>\n",
       "    </tr>\n",
       "    <tr>\n",
       "      <th>1</th>\n",
       "      <td>0</td>\n",
       "      <td>31</td>\n",
       "      <td>1</td>\n",
       "      <td>11</td>\n",
       "      <td>434.0</td>\n",
       "      <td>2</td>\n",
       "      <td>2013</td>\n",
       "      <td>37</td>\n",
       "      <td>yakutsk</td>\n",
       "      <td>Far East</td>\n",
       "      <td>269601.0</td>\n",
       "      <td>cinema</td>\n",
       "      <td>winter</td>\n",
       "      <td>4774.0</td>\n",
       "    </tr>\n",
       "    <tr>\n",
       "      <th>2</th>\n",
       "      <td>0</td>\n",
       "      <td>32</td>\n",
       "      <td>0</td>\n",
       "      <td>6</td>\n",
       "      <td>221.0</td>\n",
       "      <td>1</td>\n",
       "      <td>2013</td>\n",
       "      <td>40</td>\n",
       "      <td>yakutsk</td>\n",
       "      <td>Far East</td>\n",
       "      <td>269601.0</td>\n",
       "      <td>cinema</td>\n",
       "      <td>winter</td>\n",
       "      <td>1326.0</td>\n",
       "    </tr>\n",
       "    <tr>\n",
       "      <th>3</th>\n",
       "      <td>0</td>\n",
       "      <td>32</td>\n",
       "      <td>1</td>\n",
       "      <td>10</td>\n",
       "      <td>221.0</td>\n",
       "      <td>2</td>\n",
       "      <td>2013</td>\n",
       "      <td>40</td>\n",
       "      <td>yakutsk</td>\n",
       "      <td>Far East</td>\n",
       "      <td>269601.0</td>\n",
       "      <td>cinema</td>\n",
       "      <td>winter</td>\n",
       "      <td>2210.0</td>\n",
       "    </tr>\n",
       "    <tr>\n",
       "      <th>4</th>\n",
       "      <td>0</td>\n",
       "      <td>33</td>\n",
       "      <td>0</td>\n",
       "      <td>3</td>\n",
       "      <td>347.0</td>\n",
       "      <td>1</td>\n",
       "      <td>2013</td>\n",
       "      <td>37</td>\n",
       "      <td>yakutsk</td>\n",
       "      <td>Far East</td>\n",
       "      <td>269601.0</td>\n",
       "      <td>cinema</td>\n",
       "      <td>winter</td>\n",
       "      <td>1041.0</td>\n",
       "    </tr>\n",
       "  </tbody>\n",
       "</table>\n",
       "</div>"
      ],
      "text/plain": [
       "  shop_id item_id  date_block_num  item_cnt_month  item_price_month  \\\n",
       "0       0      30               1              31             265.0   \n",
       "1       0      31               1              11             434.0   \n",
       "2       0      32               0               6             221.0   \n",
       "3       0      32               1              10             221.0   \n",
       "4       0      33               0               3             347.0   \n",
       "\n",
       "   date_month  date_year item_category_id shop_loc shop_loc_dist  \\\n",
       "0           2       2013               40  yakutsk      Far East   \n",
       "1           2       2013               37  yakutsk      Far East   \n",
       "2           1       2013               40  yakutsk      Far East   \n",
       "3           2       2013               40  yakutsk      Far East   \n",
       "4           1       2013               37  yakutsk      Far East   \n",
       "\n",
       "   shop_loc_pop_2010 item_first_category date_season  revenue_month  \n",
       "0           269601.0              cinema      winter         8215.0  \n",
       "1           269601.0              cinema      winter         4774.0  \n",
       "2           269601.0              cinema      winter         1326.0  \n",
       "3           269601.0              cinema      winter         2210.0  \n",
       "4           269601.0              cinema      winter         1041.0  "
      ]
     },
     "execution_count": 12,
     "metadata": {},
     "output_type": "execute_result"
    }
   ],
   "source": [
    "train.head()"
   ]
  },
  {
   "cell_type": "code",
   "execution_count": null,
   "metadata": {},
   "outputs": [],
   "source": []
  },
  {
   "cell_type": "markdown",
   "metadata": {},
   "source": [
    "## Total revenue by year\n",
    "note : not fully represent the whole year's revenue data.\n",
    "* `2013.01-2013.12`\n",
    "* `2014.01-2014.12`\n",
    "* `2015.01-2015.10`\n",
    "\n",
    "### Significant amount of revenues might have been occurring in last two month (`Nov` and `Dec`) ."
   ]
  },
  {
   "cell_type": "code",
   "execution_count": 106,
   "metadata": {},
   "outputs": [
    {
     "data": {
      "image/png": "[encoded data removed]",
      "text/plain": [
       "<matplotlib.figure.Figure at 0x112be74e0>"
      ]
     },
     "metadata": {},
     "output_type": "display_data"
    }
   ],
   "source": [
    "plt.figure(figsize=(15,4))\n",
    "plt.plot([2013,2014,2015], [train[train['date_year']==year]['revenue_month'].sum() for year in [2013, 2014, 2015]])\n",
    "plt.show()"
   ]
  },
  {
   "cell_type": "code",
   "execution_count": null,
   "metadata": {},
   "outputs": [],
   "source": []
  },
  {
   "cell_type": "markdown",
   "metadata": {},
   "source": [
    "## Total revenue by `date_block_num`\n",
    "* `0` at x axis = `Jan 2013`\n",
    "* `33` at x axis = `Oct 2015`"
   ]
  },
  {
   "cell_type": "code",
   "execution_count": 104,
   "metadata": {},
   "outputs": [
    {
     "data": {
      "image/png": "[encoded data removed]",
      "text/plain": [
       "<matplotlib.figure.Figure at 0x1111884e0>"
      ]
     },
     "metadata": {},
     "output_type": "display_data"
    }
   ],
   "source": [
    "plt.figure(figsize=(15, 4))\n",
    "plt.plot(sorted(train['date_block_num'].unique()), train.groupby('date_block_num')['revenue_month'].sum())\n",
    "plt.show()"
   ]
  },
  {
   "cell_type": "code",
   "execution_count": null,
   "metadata": {},
   "outputs": [],
   "source": []
  },
  {
   "cell_type": "markdown",
   "metadata": {},
   "source": [
    "## Total revenue by `date_month`"
   ]
  },
  {
   "cell_type": "code",
   "execution_count": 108,
   "metadata": {},
   "outputs": [
    {
     "data": {
      "image/png": "[encoded data removed]",
      "text/plain": [
       "<matplotlib.figure.Figure at 0x1111901d0>"
      ]
     },
     "metadata": {},
     "output_type": "display_data"
    }
   ],
   "source": [
    "rev_2013_by_month = train[train['date_year']==2013].groupby('date_month')['revenue_month'].sum()\n",
    "rev_2014_by_month = train[train['date_year']==2014].groupby('date_month')['revenue_month'].sum()\n",
    "rev_2015_by_month = train[train['date_year']==2015].groupby('date_month')['revenue_month'].sum()\n",
    "\n",
    "plt.figure(figsize=(15,4))\n",
    "plt.plot(range(1,13), rev_2013_by_month, label='2013')\n",
    "plt.plot(range(1,13), rev_2014_by_month, label='2014')\n",
    "plt.plot(range(1,11), rev_2015_by_month, label='2015')\n",
    "plt.legend()\n",
    "plt.show()"
   ]
  },
  {
   "cell_type": "code",
   "execution_count": null,
   "metadata": {},
   "outputs": [],
   "source": []
  },
  {
   "cell_type": "markdown",
   "metadata": {},
   "source": [
    "## If comparing total revenue from only `Jan` to `Oct` for year `2013`, `2014` and `2015`"
   ]
  },
  {
   "cell_type": "code",
   "execution_count": 55,
   "metadata": {},
   "outputs": [
    {
     "data": {
      "image/png": "[encoded data removed]",
      "text/plain": [
       "<matplotlib.figure.Figure at 0x11d6023c8>"
      ]
     },
     "metadata": {},
     "output_type": "display_data"
    }
   ],
   "source": [
    "plt.bar([2013,2014,2015], height=[sum(rev_2013_by_month[:10]), sum(rev_2014_by_month[:10]), sum(rev_2015_by_month)])\n",
    "plt.title('Total Revenue from Jan. to Oct.\\n(2013-2015)')\n",
    "plt.show()"
   ]
  },
  {
   "cell_type": "code",
   "execution_count": null,
   "metadata": {},
   "outputs": [],
   "source": []
  },
  {
   "cell_type": "markdown",
   "metadata": {},
   "source": [
    "## What happend in Russia of `2015`?\n",
    "\n",
    "* In `2015`, the total revenue before `Nov` - winter season - decreased relatively.\n",
    "* From the national economy indices, we can guess the decrease in revenue due to the economical depression.\n",
    "\n",
    "SOURCE : https://www.focus-economics.com/countries/russia\n",
    "\n",
    "![russia-economy-indices](data/russia-economy.png)\n"
   ]
  },
  {
   "cell_type": "code",
   "execution_count": null,
   "metadata": {},
   "outputs": [],
   "source": []
  },
  {
   "cell_type": "markdown",
   "metadata": {},
   "source": [
    "## Visualize `Revenue in Jan-Oct` with economic index"
   ]
  },
  {
   "cell_type": "code",
   "execution_count": 112,
   "metadata": {
    "scrolled": true
   },
   "outputs": [
    {
     "data": {
      "image/png": "[encoded data removed]",
      "text/plain": [
       "<matplotlib.figure.Figure at 0x112a08c50>"
      ]
     },
     "metadata": {},
     "output_type": "display_data"
    }
   ],
   "source": [
    "import numpy\n",
    "def two_scales(ax1, time, data1, data2, c1, c2):\n",
    "    ax2 = ax1.twinx()\n",
    "\n",
    "    ax1.bar(time, height=data1, color=c1)\n",
    "    ax2.plot(time, data2, color=c2)\n",
    "    \n",
    "    return ax1, ax2\n",
    "\n",
    "# Create axes\n",
    "fig, ax = plt.subplots()\n",
    "fig.set_figwidth(15)\n",
    "fig.set_figheight(4)\n",
    "ax1, ax2 = two_scales(ax, [2013, 2014, 2015], \n",
    "                      [sum(rev_2013_by_month[:10]), sum(rev_2014_by_month[:10]), sum(rev_2015_by_month)],\n",
    "                      [15553, 14374, 9503], 'c', 'r')\n",
    "ax1.set_xlabel('Year')\n",
    "ax1.set_ylabel('revenue')\n",
    "ax2.set_ylabel('GDP(usd)')\n",
    "\n",
    "plt.show()"
   ]
  },
  {
   "cell_type": "code",
   "execution_count": null,
   "metadata": {},
   "outputs": [],
   "source": []
  },
  {
   "cell_type": "code",
   "execution_count": 14,
   "metadata": {},
   "outputs": [],
   "source": [
    "# economic index list (in order)\n",
    "# economic indices tend to be correlated highly.\n",
    "# we will choose the best feature out of the economic indices.\n",
    "\n",
    "# gdp_per_capita_usd\n",
    "# economic_growth_perc\n",
    "# consumption_perc\n",
    "# retail_sales_perc\n",
    "# unemployment_rate\n",
    "# inflation_rate_cpi_perc\n",
    "# inflation_rate_ppi_perc\n",
    "\n",
    "years = [2013, 2014, 2015]\n",
    "gdp_per_capita_usd = [15553, 14374, 9503]\n",
    "economic_growth_perc = [1.3, 0.7, -2.8]\n",
    "consumption_perc = [4.4, 2.0, -9.8]\n",
    "retail_sales_perc = [3.9, 2.7, -9.8]\n",
    "unemployment_rate = [5.5, 5.2, 5.6]\n",
    "inflation_rate_cpi_perc = [6.8, 7.8, 15.5]\n",
    "inflation_rate_ppi_perc = [3.7, 5.9, 10.7]\n",
    "\n",
    "eco_indices_names = ['gdp_per_capita_usd', 'economic_growth_perc',\n",
    "                    'consumption_growth_perc', 'retail_sales_perc',\n",
    "                    'unemployment_rate', 'inflation_rate_cpi_perc',\n",
    "                    'inflation_rate_ppi_perc']\n",
    "eco_indices_values = [\n",
    "    [15553, 14374, 9503],\n",
    "    [1.3, 0.7, -2.8],\n",
    "    [4.4, 2.0, -9.8],\n",
    "    [3.9, 2.7, -9.8],\n",
    "    [5.5, 5.2, 5.6],\n",
    "    [6.8, 7.8, 15.5],\n",
    "    [3.7, 5.9, 10.7]\n",
    "]\n",
    "\n",
    "\n",
    "for i, indexname in enumerate(eco_indices_names):\n",
    "    \n",
    "    train[indexname] = train['date_year'].map(dict(zip(years,\n",
    "                                                      eco_indices_values[i])))\n",
    "\n"
   ]
  },
  {
   "cell_type": "code",
   "execution_count": 15,
   "metadata": {},
   "outputs": [
    {
     "data": {
      "text/html": [
       "<div>\n",
       "<style scoped>\n",
       "    .dataframe tbody tr th:only-of-type {\n",
       "        vertical-align: middle;\n",
       "    }\n",
       "\n",
       "    .dataframe tbody tr th {\n",
       "        vertical-align: top;\n",
       "    }\n",
       "\n",
       "    .dataframe thead th {\n",
       "        text-align: right;\n",
       "    }\n",
       "</style>\n",
       "<table border=\"1\" class=\"dataframe\">\n",
       "  <thead>\n",
       "    <tr style=\"text-align: right;\">\n",
       "      <th></th>\n",
       "      <th>shop_id</th>\n",
       "      <th>item_id</th>\n",
       "      <th>date_block_num</th>\n",
       "      <th>item_cnt_month</th>\n",
       "      <th>item_price_month</th>\n",
       "      <th>date_month</th>\n",
       "      <th>date_year</th>\n",
       "      <th>item_category_id</th>\n",
       "      <th>shop_loc</th>\n",
       "      <th>shop_loc_dist</th>\n",
       "      <th>...</th>\n",
       "      <th>item_first_category</th>\n",
       "      <th>date_season</th>\n",
       "      <th>revenue_month</th>\n",
       "      <th>gdp_per_capita_usd</th>\n",
       "      <th>economic_growth_perc</th>\n",
       "      <th>consumption_growth_perc</th>\n",
       "      <th>retail_sales_perc</th>\n",
       "      <th>unemployment_rate</th>\n",
       "      <th>inflation_rate_cpi_perc</th>\n",
       "      <th>inflation_rate_ppi_perc</th>\n",
       "    </tr>\n",
       "  </thead>\n",
       "  <tbody>\n",
       "    <tr>\n",
       "      <th>0</th>\n",
       "      <td>0</td>\n",
       "      <td>30</td>\n",
       "      <td>1</td>\n",
       "      <td>31</td>\n",
       "      <td>265.0</td>\n",
       "      <td>2</td>\n",
       "      <td>2013</td>\n",
       "      <td>40</td>\n",
       "      <td>yakutsk</td>\n",
       "      <td>Far East</td>\n",
       "      <td>...</td>\n",
       "      <td>cinema</td>\n",
       "      <td>winter</td>\n",
       "      <td>8215.0</td>\n",
       "      <td>15553</td>\n",
       "      <td>1.3</td>\n",
       "      <td>4.4</td>\n",
       "      <td>3.9</td>\n",
       "      <td>5.5</td>\n",
       "      <td>6.8</td>\n",
       "      <td>3.7</td>\n",
       "    </tr>\n",
       "    <tr>\n",
       "      <th>1</th>\n",
       "      <td>0</td>\n",
       "      <td>31</td>\n",
       "      <td>1</td>\n",
       "      <td>11</td>\n",
       "      <td>434.0</td>\n",
       "      <td>2</td>\n",
       "      <td>2013</td>\n",
       "      <td>37</td>\n",
       "      <td>yakutsk</td>\n",
       "      <td>Far East</td>\n",
       "      <td>...</td>\n",
       "      <td>cinema</td>\n",
       "      <td>winter</td>\n",
       "      <td>4774.0</td>\n",
       "      <td>15553</td>\n",
       "      <td>1.3</td>\n",
       "      <td>4.4</td>\n",
       "      <td>3.9</td>\n",
       "      <td>5.5</td>\n",
       "      <td>6.8</td>\n",
       "      <td>3.7</td>\n",
       "    </tr>\n",
       "    <tr>\n",
       "      <th>2</th>\n",
       "      <td>0</td>\n",
       "      <td>32</td>\n",
       "      <td>0</td>\n",
       "      <td>6</td>\n",
       "      <td>221.0</td>\n",
       "      <td>1</td>\n",
       "      <td>2013</td>\n",
       "      <td>40</td>\n",
       "      <td>yakutsk</td>\n",
       "      <td>Far East</td>\n",
       "      <td>...</td>\n",
       "      <td>cinema</td>\n",
       "      <td>winter</td>\n",
       "      <td>1326.0</td>\n",
       "      <td>15553</td>\n",
       "      <td>1.3</td>\n",
       "      <td>4.4</td>\n",
       "      <td>3.9</td>\n",
       "      <td>5.5</td>\n",
       "      <td>6.8</td>\n",
       "      <td>3.7</td>\n",
       "    </tr>\n",
       "    <tr>\n",
       "      <th>3</th>\n",
       "      <td>0</td>\n",
       "      <td>32</td>\n",
       "      <td>1</td>\n",
       "      <td>10</td>\n",
       "      <td>221.0</td>\n",
       "      <td>2</td>\n",
       "      <td>2013</td>\n",
       "      <td>40</td>\n",
       "      <td>yakutsk</td>\n",
       "      <td>Far East</td>\n",
       "      <td>...</td>\n",
       "      <td>cinema</td>\n",
       "      <td>winter</td>\n",
       "      <td>2210.0</td>\n",
       "      <td>15553</td>\n",
       "      <td>1.3</td>\n",
       "      <td>4.4</td>\n",
       "      <td>3.9</td>\n",
       "      <td>5.5</td>\n",
       "      <td>6.8</td>\n",
       "      <td>3.7</td>\n",
       "    </tr>\n",
       "    <tr>\n",
       "      <th>4</th>\n",
       "      <td>0</td>\n",
       "      <td>33</td>\n",
       "      <td>0</td>\n",
       "      <td>3</td>\n",
       "      <td>347.0</td>\n",
       "      <td>1</td>\n",
       "      <td>2013</td>\n",
       "      <td>37</td>\n",
       "      <td>yakutsk</td>\n",
       "      <td>Far East</td>\n",
       "      <td>...</td>\n",
       "      <td>cinema</td>\n",
       "      <td>winter</td>\n",
       "      <td>1041.0</td>\n",
       "      <td>15553</td>\n",
       "      <td>1.3</td>\n",
       "      <td>4.4</td>\n",
       "      <td>3.9</td>\n",
       "      <td>5.5</td>\n",
       "      <td>6.8</td>\n",
       "      <td>3.7</td>\n",
       "    </tr>\n",
       "  </tbody>\n",
       "</table>\n",
       "<p>5 rows × 21 columns</p>\n",
       "</div>"
      ],
      "text/plain": [
       "  shop_id item_id  date_block_num  item_cnt_month  item_price_month  \\\n",
       "0       0      30               1              31             265.0   \n",
       "1       0      31               1              11             434.0   \n",
       "2       0      32               0               6             221.0   \n",
       "3       0      32               1              10             221.0   \n",
       "4       0      33               0               3             347.0   \n",
       "\n",
       "   date_month  date_year item_category_id shop_loc shop_loc_dist  \\\n",
       "0           2       2013               40  yakutsk      Far East   \n",
       "1           2       2013               37  yakutsk      Far East   \n",
       "2           1       2013               40  yakutsk      Far East   \n",
       "3           2       2013               40  yakutsk      Far East   \n",
       "4           1       2013               37  yakutsk      Far East   \n",
       "\n",
       "            ...             item_first_category date_season revenue_month  \\\n",
       "0           ...                          cinema      winter        8215.0   \n",
       "1           ...                          cinema      winter        4774.0   \n",
       "2           ...                          cinema      winter        1326.0   \n",
       "3           ...                          cinema      winter        2210.0   \n",
       "4           ...                          cinema      winter        1041.0   \n",
       "\n",
       "   gdp_per_capita_usd  economic_growth_perc  consumption_growth_perc  \\\n",
       "0               15553                   1.3                      4.4   \n",
       "1               15553                   1.3                      4.4   \n",
       "2               15553                   1.3                      4.4   \n",
       "3               15553                   1.3                      4.4   \n",
       "4               15553                   1.3                      4.4   \n",
       "\n",
       "   retail_sales_perc  unemployment_rate  inflation_rate_cpi_perc  \\\n",
       "0                3.9                5.5                      6.8   \n",
       "1                3.9                5.5                      6.8   \n",
       "2                3.9                5.5                      6.8   \n",
       "3                3.9                5.5                      6.8   \n",
       "4                3.9                5.5                      6.8   \n",
       "\n",
       "   inflation_rate_ppi_perc  \n",
       "0                      3.7  \n",
       "1                      3.7  \n",
       "2                      3.7  \n",
       "3                      3.7  \n",
       "4                      3.7  \n",
       "\n",
       "[5 rows x 21 columns]"
      ]
     },
     "execution_count": 15,
     "metadata": {},
     "output_type": "execute_result"
    }
   ],
   "source": [
    "train.head()"
   ]
  },
  {
   "cell_type": "code",
   "execution_count": null,
   "metadata": {},
   "outputs": [],
   "source": []
  },
  {
   "cell_type": "markdown",
   "metadata": {},
   "source": [
    "## Top 10 areas with total `revenue`"
   ]
  },
  {
   "cell_type": "code",
   "execution_count": 144,
   "metadata": {},
   "outputs": [],
   "source": [
    "def draw_sorted_barplot_with_groupby(groupby_col, agg_col, aggfunc, idx=(None,None), figsize=None):\n",
    "\n",
    "    df_grouped = train.groupby([groupby_col])[agg_col].apply(aggfunc).reset_index()\n",
    "    agg_sorted = df_grouped[agg_col].sort_values(ascending=False).tolist()\n",
    "\n",
    "    mapping = {ag: i for i, ag in enumerate(agg_sorted)}\n",
    "    key = df_grouped[agg_col].map(mapping)\n",
    "    df_grouped = df_grouped.iloc[key.argsort()]\n",
    "    \n",
    "    if idx[0] or idx[1]:\n",
    "        df_grouped = df_grouped.iloc[idx[0]:idx[1]]\n",
    "    \n",
    "    df_grouped.plot(kind='bar', x=groupby_col, y=agg_col, figsize=figsize)\n",
    "    plt.show()"
   ]
  },
  {
   "cell_type": "code",
   "execution_count": 145,
   "metadata": {},
   "outputs": [
    {
     "data": {
      "image/png": "[encoded data removed]",
      "text/plain": [
       "<matplotlib.figure.Figure at 0x112a32be0>"
      ]
     },
     "metadata": {},
     "output_type": "display_data"
    }
   ],
   "source": [
    "draw_sorted_barplot_with_groupby('shop_loc', 'revenue_month', \n",
    "                                 sum, idx=(None,10), figsize=(15,4))"
   ]
  },
  {
   "cell_type": "code",
   "execution_count": null,
   "metadata": {},
   "outputs": [],
   "source": []
  },
  {
   "cell_type": "markdown",
   "metadata": {},
   "source": [
    "## Number of unique `shop_id`s by `shop_loc`"
   ]
  },
  {
   "cell_type": "code",
   "execution_count": 146,
   "metadata": {},
   "outputs": [
    {
     "data": {
      "image/png": "[encoded data removed]",
      "text/plain": [
       "<matplotlib.figure.Figure at 0x112ad9438>"
      ]
     },
     "metadata": {},
     "output_type": "display_data"
    }
   ],
   "source": [
    "draw_sorted_barplot_with_groupby('shop_loc', 'shop_id', \n",
    "                                 lambda x: len(x.unique()), idx=(None,None), figsize=(15,4))"
   ]
  },
  {
   "cell_type": "code",
   "execution_count": null,
   "metadata": {},
   "outputs": [],
   "source": []
  },
  {
   "cell_type": "markdown",
   "metadata": {},
   "source": [
    "## Top 10 areas with total `revenue` per shop"
   ]
  },
  {
   "cell_type": "code",
   "execution_count": 147,
   "metadata": {},
   "outputs": [
    {
     "data": {
      "image/png": "[encoded data removed]",
      "text/plain": [
       "<matplotlib.figure.Figure at 0x1129100b8>"
      ]
     },
     "metadata": {},
     "output_type": "display_data"
    }
   ],
   "source": [
    "draw_sorted_barplot_with_groupby('shop_loc', 'revenue_month', \n",
    "                                 lambda x: x.mean(), idx=(None,10), figsize=(15,4))"
   ]
  },
  {
   "cell_type": "code",
   "execution_count": null,
   "metadata": {},
   "outputs": [],
   "source": []
  },
  {
   "cell_type": "markdown",
   "metadata": {},
   "source": [
    "### Top 10 areas with total `revenue` per shop \n",
    "### If excluding `export` and `online`"
   ]
  },
  {
   "cell_type": "code",
   "execution_count": 148,
   "metadata": {},
   "outputs": [
    {
     "data": {
      "image/png": "[encoded data removed]",
      "text/plain": [
       "<matplotlib.figure.Figure at 0x1129105f8>"
      ]
     },
     "metadata": {},
     "output_type": "display_data"
    }
   ],
   "source": [
    "draw_sorted_barplot_with_groupby('shop_loc', 'revenue_month', \n",
    "                                 lambda x: x.mean(), idx=(2,12), figsize=(15,4))"
   ]
  },
  {
   "cell_type": "code",
   "execution_count": null,
   "metadata": {},
   "outputs": [],
   "source": []
  },
  {
   "cell_type": "markdown",
   "metadata": {},
   "source": [
    "## Top 10 shops in terms of `revenue`"
   ]
  },
  {
   "cell_type": "code",
   "execution_count": 17,
   "metadata": {
    "scrolled": false
   },
   "outputs": [
    {
     "data": {
      "text/plain": [
       "shop_id\n",
       "31    235595600.0\n",
       "25    216867424.0\n",
       "28    159948672.0\n",
       "42    152203136.0\n",
       "54    142133440.0\n",
       "27    140757120.0\n",
       "12    116575208.0\n",
       "57    113132040.0\n",
       "6      98277800.0\n",
       "18     83525976.0\n",
       "Name: revenue_month, dtype: float32"
      ]
     },
     "execution_count": 17,
     "metadata": {},
     "output_type": "execute_result"
    }
   ],
   "source": [
    "total_revenue_by_store = train.groupby('shop_id')['revenue_month'].sum().sort_values(ascending=False)\n",
    "plt.figure(figsize=(15, 5))\n",
    "total_revenue_by_store[:10]"
   ]
  },
  {
   "cell_type": "code",
   "execution_count": 162,
   "metadata": {},
   "outputs": [
    {
     "data": {
      "text/plain": [
       "['moscow',\n",
       " 'moscow',\n",
       " 'moscow',\n",
       " 'saint petersburg',\n",
       " 'khimki',\n",
       " 'moscow',\n",
       " 'online',\n",
       " 'yakutsk',\n",
       " 'voronezh',\n",
       " 'krasnoyarsk']"
      ]
     },
     "execution_count": 162,
     "metadata": {},
     "output_type": "execute_result"
    }
   ],
   "source": [
    "top10shop_locs = [train[train['shop_id'] == topshop_id]['shop_loc'].unique()[0] for topshop_id in total_revenue_by_store[:10].index]\n",
    "top10shop_locs"
   ]
  },
  {
   "cell_type": "code",
   "execution_count": 171,
   "metadata": {},
   "outputs": [
    {
     "data": {
      "image/png": "[encoded data removed]",
      "text/plain": [
       "<matplotlib.figure.Figure at 0x13a809208>"
      ]
     },
     "metadata": {},
     "output_type": "display_data"
    }
   ],
   "source": [
    "plt.figure(figsize=(15,5))\n",
    "plt.bar(top10shop_locs, height=total_revenue_by_store[:10])\n",
    "plt.show()"
   ]
  },
  {
   "cell_type": "code",
   "execution_count": null,
   "metadata": {},
   "outputs": [],
   "source": []
  },
  {
   "cell_type": "markdown",
   "metadata": {},
   "source": [
    "## What category has been sold in terms of `revenue`?"
   ]
  },
  {
   "cell_type": "code",
   "execution_count": 35,
   "metadata": {},
   "outputs": [
    {
     "data": {
      "image/png": "[encoded data removed]",
      "text/plain": [
       "<matplotlib.figure.Figure at 0x10e28c438>"
      ]
     },
     "metadata": {},
     "output_type": "display_data"
    }
   ],
   "source": [
    "total_revenue_by_loc = train.groupby('item_first_category')['revenue_month'].sum().sort_values(ascending=False)\n",
    "plt.figure(figsize=(15,5))\n",
    "\n",
    "plt.bar(total_revenue_by_loc.reset_index()['item_first_category'][:10], \n",
    "        height=total_revenue_by_loc.reset_index()['revenue_month'][:10])\n",
    "plt.show()"
   ]
  },
  {
   "cell_type": "code",
   "execution_count": null,
   "metadata": {},
   "outputs": [],
   "source": []
  },
  {
   "cell_type": "markdown",
   "metadata": {},
   "source": [
    "## What category has been sold in terms of `amount being sold`?"
   ]
  },
  {
   "cell_type": "code",
   "execution_count": 138,
   "metadata": {},
   "outputs": [
    {
     "data": {
      "image/png": "[encoded data removed]",
      "text/plain": [
       "<matplotlib.figure.Figure at 0x13d5007b8>"
      ]
     },
     "metadata": {},
     "output_type": "display_data"
    }
   ],
   "source": [
    "total_revenue_by_loc = train.groupby('item_first_category')['item_cnt_month'].sum().sort_values(ascending=False)\n",
    "plt.figure(figsize=(15,5))\n",
    "\n",
    "plt.bar(total_revenue_by_loc.reset_index()['item_first_category'][:10], \n",
    "        height=total_revenue_by_loc.reset_index()['item_cnt_month'][:10])\n",
    "plt.show()"
   ]
  },
  {
   "cell_type": "code",
   "execution_count": null,
   "metadata": {},
   "outputs": [],
   "source": []
  },
  {
   "cell_type": "markdown",
   "metadata": {},
   "source": [
    "## If we categorize top sales shops by their major products?"
   ]
  },
  {
   "cell_type": "code",
   "execution_count": 55,
   "metadata": {},
   "outputs": [
    {
     "data": {
      "text/plain": [
       "{0: ['games', 'game consoles', 'cinema'],\n",
       " 1: ['games', 'game consoles', 'cinema'],\n",
       " 2: ['games', 'game consoles', 'pc games'],\n",
       " 3: ['games', 'game consoles', 'pc games'],\n",
       " 4: ['games', 'pc games', 'game consoles'],\n",
       " 5: ['games', 'game consoles', 'pc games'],\n",
       " 6: ['games', 'pc games', 'game consoles'],\n",
       " 7: ['games', 'game consoles', 'pc games'],\n",
       " 8: ['games', 'pc games', 'cinema'],\n",
       " 9: ['gifts', 'games', 'pc games'],\n",
       " 10: ['games', 'pc games', 'game consoles'],\n",
       " 11: ['games', 'game consoles', 'pc games'],\n",
       " 12: ['games', 'game consoles', 'pc games'],\n",
       " 13: ['cinema', 'games', 'music'],\n",
       " 14: ['games', 'pc games', 'game consoles'],\n",
       " 15: ['games', 'pc games', 'game consoles'],\n",
       " 16: ['games', 'game consoles', 'pc games'],\n",
       " 17: ['games', 'game consoles', 'cinema'],\n",
       " 18: ['games', 'game consoles', 'pc games'],\n",
       " 19: ['games', 'pc games', 'game consoles'],\n",
       " 20: ['gifts', 'books', 'elements of a food'],\n",
       " 21: ['games', 'game consoles', 'cinema'],\n",
       " 22: ['games', 'programs', 'pc games'],\n",
       " 23: ['pc games', 'games', 'programs'],\n",
       " 24: ['games', 'programs', 'pc games'],\n",
       " 25: ['games', 'gifts', 'cinema'],\n",
       " 26: ['games', 'pc games', 'game consoles'],\n",
       " 27: ['games', 'game consoles', 'pc games'],\n",
       " 28: ['games', 'cinema', 'game consoles'],\n",
       " 29: ['games', 'game consoles', 'pc games'],\n",
       " 30: ['games', 'pc games', 'game consoles'],\n",
       " 31: ['games', 'cinema', 'pc games'],\n",
       " 32: ['games', 'pc games', 'cinema'],\n",
       " 33: ['games', 'game consoles', 'gifts'],\n",
       " 34: ['games', 'game consoles', 'pc games'],\n",
       " 35: ['games', 'game consoles', 'pc games'],\n",
       " 36: ['games', 'gifts', 'game consoles'],\n",
       " 37: ['games', 'pc games', 'game consoles'],\n",
       " 38: ['games', 'game consoles', 'pc games'],\n",
       " 39: ['games', 'game consoles', 'pc games'],\n",
       " 40: ['gifts', 'games', 'pc games'],\n",
       " 41: ['games', 'pc games', 'game consoles'],\n",
       " 42: ['games', 'game consoles', 'pc games'],\n",
       " 43: ['games', 'game consoles', 'pc games'],\n",
       " 44: ['games', 'pc games', 'cinema'],\n",
       " 45: ['games', 'pc games', 'game consoles'],\n",
       " 46: ['games', 'pc games', 'game consoles'],\n",
       " 47: ['games', 'game consoles', 'pc games'],\n",
       " 48: ['games', 'game consoles', 'gifts'],\n",
       " 49: ['games', 'game consoles', 'gifts'],\n",
       " 50: ['games', 'game consoles', 'pc games'],\n",
       " 51: ['games', 'game consoles', 'cinema'],\n",
       " 52: ['games', 'game consoles', 'pc games'],\n",
       " 53: ['games', 'game consoles', 'pc games'],\n",
       " 54: ['games', 'cinema', 'gifts'],\n",
       " 55: ['pc games', 'programs', 'tickets (digital)'],\n",
       " 56: ['games', 'game consoles', 'cinema'],\n",
       " 57: ['games', 'game consoles', 'cinema'],\n",
       " 58: ['games', 'game consoles', 'cinema'],\n",
       " 59: ['games', 'game consoles', 'pc games']}"
      ]
     },
     "execution_count": 55,
     "metadata": {},
     "output_type": "execute_result"
    }
   ],
   "source": [
    "shop_item_category_sales = train.groupby(['shop_id', 'item_first_category'])['revenue_month'].sum()\n",
    "major_categories = []\n",
    "\n",
    "for shopid in range(60):\n",
    "    top3_items = shop_item_category_sales[shopid].sort_values(ascending=False).index.tolist()[:3]\n",
    "    major_categories.append(top3_items)\n",
    "    \n",
    "# top3 item categories by their sales for each store (id)\n",
    "dict(zip(range(60), major_categories))"
   ]
  },
  {
   "cell_type": "code",
   "execution_count": null,
   "metadata": {},
   "outputs": [],
   "source": []
  },
  {
   "cell_type": "markdown",
   "metadata": {},
   "source": [
    "## Short-term trends over certain categories?\n",
    "\n",
    "* Definition of `being trend`\n",
    "  * ~~"
   ]
  },
  {
   "cell_type": "code",
   "execution_count": null,
   "metadata": {},
   "outputs": [],
   "source": []
  },
  {
   "cell_type": "code",
   "execution_count": null,
   "metadata": {},
   "outputs": [],
   "source": []
  },
  {
   "cell_type": "code",
   "execution_count": null,
   "metadata": {},
   "outputs": [],
   "source": []
  },
  {
   "cell_type": "code",
   "execution_count": null,
   "metadata": {},
   "outputs": [],
   "source": []
  },
  {
   "cell_type": "code",
   "execution_count": null,
   "metadata": {},
   "outputs": [],
   "source": []
  },
  {
   "cell_type": "markdown",
   "metadata": {},
   "source": [
    "## Case for item_id `6675` --- relationship among `revenue` & `price` & `num of sold`\n",
    "* To visualize the inter-relationship, normalize each column and plot."
   ]
  },
  {
   "cell_type": "code",
   "execution_count": 260,
   "metadata": {
    "scrolled": true
   },
   "outputs": [
    {
     "data": {
      "image/png": "[encoded data removed]",
      "text/plain": [
       "<matplotlib.figure.Figure at 0x14b80c470>"
      ]
     },
     "metadata": {},
     "output_type": "display_data"
    }
   ],
   "source": [
    "# by month (cumulative)\n",
    "item_6675_mean_price_by_month = train[train['item_id'] == 6675][['item_price', 'date_block_num']].groupby('date_block_num')['item_price'].mean()\n",
    "item_6675_total_num_sold_by_month = train[train['item_id'] == 6675][['item_cnt_day', 'date_block_num']].groupby('date_block_num')['item_cnt_day'].sum()\n",
    "item_6675_total_rev_by_month = train[train['item_id'] == 6675][['revenue', 'date_block_num']].groupby('date_block_num')['revenue'].sum()\n",
    "\n",
    "date_block_num_unique = item_6675_mean_price_by_month.index\n",
    "\n",
    "def norm(series):\n",
    "    return (series - series.mean())/series.std()\n",
    "\n",
    "plt.plot(date_block_num_unique, norm(item_6675_mean_price_by_month), label='monthly price')\n",
    "plt.plot(date_block_num_unique, norm(item_6675_total_num_sold_by_month), label='monthly sold')\n",
    "plt.plot(date_block_num_unique, norm(item_6675_total_rev_by_month), label='monthly revenue')\n",
    "plt.legend()\n",
    "plt.show()"
   ]
  },
  {
   "cell_type": "code",
   "execution_count": 189,
   "metadata": {},
   "outputs": [
    {
     "data": {
      "text/plain": [
       "428.70833333333331"
      ]
     },
     "execution_count": 189,
     "metadata": {},
     "output_type": "execute_result"
    }
   ],
   "source": [
    "item_6675_total_num_sold_by_month.mean()"
   ]
  },
  {
   "cell_type": "code",
   "execution_count": 261,
   "metadata": {
    "collapsed": true
   },
   "outputs": [
    {
     "data": {
      "text/plain": [
       "date_block_num\n",
       "10    1764\n",
       "11    2002\n",
       "12     283\n",
       "13    1359\n",
       "14     654\n",
       "15     370\n",
       "16     341\n",
       "17     396\n",
       "18     392\n",
       "19     589\n",
       "20     399\n",
       "21     306\n",
       "22     275\n",
       "23     169\n",
       "24     234\n",
       "25     160\n",
       "26     148\n",
       "27      65\n",
       "28     124\n",
       "29     154\n",
       "30      22\n",
       "31      14\n",
       "32       2\n",
       "33       2\n",
       "Name: item_cnt_day, dtype: int64"
      ]
     },
     "execution_count": 261,
     "metadata": {},
     "output_type": "execute_result"
    }
   ],
   "source": [
    "item_6675_total_num_sold_by_month"
   ]
  },
  {
   "cell_type": "code",
   "execution_count": null,
   "metadata": {},
   "outputs": [],
   "source": []
  },
  {
   "cell_type": "markdown",
   "metadata": {},
   "source": [
    "## Insights in the case of `item_id = 6675`\n",
    "\n",
    "* Interestingly, we can find a strong relationship between `monthly revenue` and `monthly number of sold`\n",
    "* In contrast, there seems relateively low relationship between `monthly revenue` and `monthly price`\n",
    "\n",
    "### We can consider an additional factor for each product - **`Price Elasticity of Demand`**\n",
    "* For products with high price elasticity of demand:\n",
    "  * The changes in price affect the demand\n",
    "* For products with low price elasticity of demand\n",
    "  * The changes in price don't affect the demand\n",
    "  \n",
    "### One more step - we can categorize the type of each product in terms of `Price Elasticity of Demand` \n",
    "* Essential goods --- low price elasticity of demand\n",
    "* Luxury --- high price elasticity of demand\n",
    "* We can \n"
   ]
  },
  {
   "cell_type": "code",
   "execution_count": 161,
   "metadata": {},
   "outputs": [
    {
     "name": "stdout",
     "output_type": "stream",
     "text": [
      "['cinema', 'music', 'games', 'pc games', 'programs', 'books', 'gifts', 'accessories', 'game consoles', 'payment cards', 'clean media (piece)', 'clean carriers (spire)', 'office', 'pc', 'elements of a food', 'delivery of goods', 'movies', 'tickets (digital)', 'android games', 'mac games', 'official']\n"
     ]
    }
   ],
   "source": [
    "print(train['item_first_categry'].unique().tolist())"
   ]
  },
  {
   "cell_type": "code",
   "execution_count": null,
   "metadata": {},
   "outputs": [],
   "source": []
  },
  {
   "cell_type": "markdown",
   "metadata": {},
   "source": [
    "![](https://wikimedia.org/api/rest_v1/media/math/render/svg/3dc579ea00e87263d839bac3f1cdeb37937f70a4)"
   ]
  },
  {
   "cell_type": "code",
   "execution_count": 184,
   "metadata": {},
   "outputs": [
    {
     "data": {
      "text/html": [
       "<div>\n",
       "<style scoped>\n",
       "    .dataframe tbody tr th:only-of-type {\n",
       "        vertical-align: middle;\n",
       "    }\n",
       "\n",
       "    .dataframe tbody tr th {\n",
       "        vertical-align: top;\n",
       "    }\n",
       "\n",
       "    .dataframe thead th {\n",
       "        text-align: right;\n",
       "    }\n",
       "</style>\n",
       "<table border=\"1\" class=\"dataframe\">\n",
       "  <thead>\n",
       "    <tr style=\"text-align: right;\">\n",
       "      <th></th>\n",
       "      <th>date</th>\n",
       "      <th>date_block_num</th>\n",
       "      <th>shop_id</th>\n",
       "      <th>item_id</th>\n",
       "      <th>item_price</th>\n",
       "      <th>item_cnt_day</th>\n",
       "      <th>item_category_id</th>\n",
       "      <th>shop_loc</th>\n",
       "      <th>shop_loc_dist</th>\n",
       "      <th>shop_loc_pop_2010</th>\n",
       "      <th>shop_loc_pop_2017</th>\n",
       "      <th>shop_loc_pop_rank_2017</th>\n",
       "      <th>shop_loc_pop_change_2010_2017</th>\n",
       "      <th>item_first_categry</th>\n",
       "      <th>item_second_categry</th>\n",
       "      <th>date_month</th>\n",
       "      <th>date_year</th>\n",
       "      <th>revenue</th>\n",
       "      <th>date_yearmonth</th>\n",
       "      <th>date_season</th>\n",
       "    </tr>\n",
       "  </thead>\n",
       "  <tbody>\n",
       "    <tr>\n",
       "      <th>0</th>\n",
       "      <td>2013-02-01</td>\n",
       "      <td>0</td>\n",
       "      <td>59</td>\n",
       "      <td>22154</td>\n",
       "      <td>999.000000</td>\n",
       "      <td>1</td>\n",
       "      <td>37</td>\n",
       "      <td>yaroslavl</td>\n",
       "      <td>Central</td>\n",
       "      <td>591486.0</td>\n",
       "      <td>608079.0</td>\n",
       "      <td>25.0</td>\n",
       "      <td>2.8</td>\n",
       "      <td>cinema</td>\n",
       "      <td>blu-ray</td>\n",
       "      <td>2</td>\n",
       "      <td>2013</td>\n",
       "      <td>999.000000</td>\n",
       "      <td>201302</td>\n",
       "      <td>winter</td>\n",
       "    </tr>\n",
       "    <tr>\n",
       "      <th>1</th>\n",
       "      <td>2013-03-01</td>\n",
       "      <td>0</td>\n",
       "      <td>25</td>\n",
       "      <td>2552</td>\n",
       "      <td>899.000000</td>\n",
       "      <td>1</td>\n",
       "      <td>58</td>\n",
       "      <td>moscow</td>\n",
       "      <td>Central</td>\n",
       "      <td>11503501.0</td>\n",
       "      <td>12228685.0</td>\n",
       "      <td>1.0</td>\n",
       "      <td>6.3</td>\n",
       "      <td>music</td>\n",
       "      <td>vinyl</td>\n",
       "      <td>3</td>\n",
       "      <td>2013</td>\n",
       "      <td>899.000000</td>\n",
       "      <td>201303</td>\n",
       "      <td>spring</td>\n",
       "    </tr>\n",
       "    <tr>\n",
       "      <th>2</th>\n",
       "      <td>2013-05-01</td>\n",
       "      <td>0</td>\n",
       "      <td>25</td>\n",
       "      <td>2552</td>\n",
       "      <td>899.000000</td>\n",
       "      <td>-1</td>\n",
       "      <td>58</td>\n",
       "      <td>moscow</td>\n",
       "      <td>Central</td>\n",
       "      <td>11503501.0</td>\n",
       "      <td>12228685.0</td>\n",
       "      <td>1.0</td>\n",
       "      <td>6.3</td>\n",
       "      <td>music</td>\n",
       "      <td>vinyl</td>\n",
       "      <td>5</td>\n",
       "      <td>2013</td>\n",
       "      <td>-899.000000</td>\n",
       "      <td>201305</td>\n",
       "      <td>spring</td>\n",
       "    </tr>\n",
       "    <tr>\n",
       "      <th>3</th>\n",
       "      <td>2013-06-01</td>\n",
       "      <td>0</td>\n",
       "      <td>25</td>\n",
       "      <td>2554</td>\n",
       "      <td>1709.050049</td>\n",
       "      <td>1</td>\n",
       "      <td>58</td>\n",
       "      <td>moscow</td>\n",
       "      <td>Central</td>\n",
       "      <td>11503501.0</td>\n",
       "      <td>12228685.0</td>\n",
       "      <td>1.0</td>\n",
       "      <td>6.3</td>\n",
       "      <td>music</td>\n",
       "      <td>vinyl</td>\n",
       "      <td>6</td>\n",
       "      <td>2013</td>\n",
       "      <td>1709.050049</td>\n",
       "      <td>201306</td>\n",
       "      <td>summer</td>\n",
       "    </tr>\n",
       "    <tr>\n",
       "      <th>4</th>\n",
       "      <td>2013-01-15</td>\n",
       "      <td>0</td>\n",
       "      <td>25</td>\n",
       "      <td>2555</td>\n",
       "      <td>1099.000000</td>\n",
       "      <td>1</td>\n",
       "      <td>56</td>\n",
       "      <td>moscow</td>\n",
       "      <td>Central</td>\n",
       "      <td>11503501.0</td>\n",
       "      <td>12228685.0</td>\n",
       "      <td>1.0</td>\n",
       "      <td>6.3</td>\n",
       "      <td>music</td>\n",
       "      <td>cd of branded production</td>\n",
       "      <td>1</td>\n",
       "      <td>2013</td>\n",
       "      <td>1099.000000</td>\n",
       "      <td>201301</td>\n",
       "      <td>winter</td>\n",
       "    </tr>\n",
       "  </tbody>\n",
       "</table>\n",
       "</div>"
      ],
      "text/plain": [
       "        date  date_block_num  shop_id  item_id   item_price  item_cnt_day  \\\n",
       "0 2013-02-01               0       59    22154   999.000000             1   \n",
       "1 2013-03-01               0       25     2552   899.000000             1   \n",
       "2 2013-05-01               0       25     2552   899.000000            -1   \n",
       "3 2013-06-01               0       25     2554  1709.050049             1   \n",
       "4 2013-01-15               0       25     2555  1099.000000             1   \n",
       "\n",
       "   item_category_id   shop_loc shop_loc_dist  shop_loc_pop_2010  \\\n",
       "0                37  yaroslavl       Central           591486.0   \n",
       "1                58     moscow       Central         11503501.0   \n",
       "2                58     moscow       Central         11503501.0   \n",
       "3                58     moscow       Central         11503501.0   \n",
       "4                56     moscow       Central         11503501.0   \n",
       "\n",
       "   shop_loc_pop_2017  shop_loc_pop_rank_2017  shop_loc_pop_change_2010_2017  \\\n",
       "0           608079.0                    25.0                            2.8   \n",
       "1         12228685.0                     1.0                            6.3   \n",
       "2         12228685.0                     1.0                            6.3   \n",
       "3         12228685.0                     1.0                            6.3   \n",
       "4         12228685.0                     1.0                            6.3   \n",
       "\n",
       "  item_first_categry       item_second_categry  date_month  date_year  \\\n",
       "0             cinema                   blu-ray           2       2013   \n",
       "1              music                     vinyl           3       2013   \n",
       "2              music                     vinyl           5       2013   \n",
       "3              music                     vinyl           6       2013   \n",
       "4              music  cd of branded production           1       2013   \n",
       "\n",
       "       revenue  date_yearmonth date_season  \n",
       "0   999.000000          201302      winter  \n",
       "1   899.000000          201303      spring  \n",
       "2  -899.000000          201305      spring  \n",
       "3  1709.050049          201306      summer  \n",
       "4  1099.000000          201301      winter  "
      ]
     },
     "execution_count": 184,
     "metadata": {},
     "output_type": "execute_result"
    }
   ],
   "source": [
    "train.head()"
   ]
  },
  {
   "cell_type": "code",
   "execution_count": null,
   "metadata": {},
   "outputs": [],
   "source": []
  },
  {
   "cell_type": "markdown",
   "metadata": {},
   "source": [
    "## Considering factor `'Seasonality'`\n",
    "\n",
    "* Some products have seasonal sales patterns - the others got sold in a limited period.\n",
    "* We can determine which product is seasonal or not\n",
    "  * And create a column to represent the information."
   ]
  },
  {
   "cell_type": "code",
   "execution_count": 262,
   "metadata": {},
   "outputs": [
    {
     "data": {
      "image/png": "[encoded data removed]",
      "text/plain": [
       "<matplotlib.figure.Figure at 0x1273249e8>"
      ]
     },
     "metadata": {},
     "output_type": "display_data"
    }
   ],
   "source": [
    "# by month (absolute)\n",
    "item_6675_mean_price_by_month = train[train['item_id'] == 6675][['item_price', 'date_month']].groupby('date_month')['item_price'].mean()\n",
    "item_6675_total_num_sold_by_month = train[train['item_id'] == 6675][['item_cnt_day', 'date_month']].groupby('date_month')['item_cnt_day'].sum()\n",
    "item_6675_total_rev_by_month = train[train['item_id'] == 6675][['revenue', 'date_month']].groupby('date_month')['revenue'].sum()\n",
    "\n",
    "date_block_num_unique = item_6675_mean_price_by_month.index\n",
    "\n",
    "def norm(series):\n",
    "    return (series - series.mean())/series.std()\n",
    "\n",
    "plt.plot(date_block_num_unique, norm(item_6675_mean_price_by_month), label='monthly price')\n",
    "plt.plot(date_block_num_unique, norm(item_6675_total_num_sold_by_month), label='monthly sold')\n",
    "plt.plot(date_block_num_unique, norm(item_6675_total_rev_by_month), label='monthly revenue')\n",
    "plt.legend()\n",
    "plt.show()"
   ]
  },
  {
   "cell_type": "code",
   "execution_count": null,
   "metadata": {},
   "outputs": [],
   "source": []
  },
  {
   "cell_type": "markdown",
   "metadata": {},
   "source": [
    "**However, the concept `'Seasonality'` could be more or less a narrow concept.**\n",
    "\n",
    "## We can calculate `hot sales month index` \n",
    "\n",
    "grouping data by `date_block_num`, not by `date_month` - in this way, values of `hot sales month` column can represent information including seasonality as well.\n",
    "\n",
    "* `more than twice` of the mean number of sold --- `month on trend`\n",
    "* `less than half` of the mean number of sold --- `month out of trend`\n",
    "  "
   ]
  },
  {
   "cell_type": "code",
   "execution_count": null,
   "metadata": {},
   "outputs": [],
   "source": []
  },
  {
   "cell_type": "code",
   "execution_count": null,
   "metadata": {},
   "outputs": [],
   "source": []
  },
  {
   "cell_type": "code",
   "execution_count": null,
   "metadata": {},
   "outputs": [],
   "source": []
  },
  {
   "cell_type": "code",
   "execution_count": null,
   "metadata": {},
   "outputs": [],
   "source": []
  },
  {
   "cell_type": "code",
   "execution_count": 140,
   "metadata": {},
   "outputs": [
    {
     "data": {
      "text/plain": [
       "date_block_num\n",
       "15    4490.0\n",
       "18    4490.0\n",
       "19    4490.0\n",
       "20    4490.0\n",
       "21    4490.0\n",
       "Name: item_price, dtype: float32"
      ]
     },
     "execution_count": 140,
     "metadata": {},
     "output_type": "execute_result"
    }
   ],
   "source": [
    "train[train['item_id'] == 1][['item_price', 'date_block_num']].groupby('date_block_num')['item_price'].mean()"
   ]
  },
  {
   "cell_type": "code",
   "execution_count": null,
   "metadata": {},
   "outputs": [],
   "source": []
  },
  {
   "cell_type": "code",
   "execution_count": null,
   "metadata": {},
   "outputs": [],
   "source": []
  },
  {
   "cell_type": "code",
   "execution_count": 117,
   "metadata": {},
   "outputs": [
    {
     "data": {
      "text/plain": [
       "date_yearmonth\n",
       "201301     53970.000000\n",
       "201306     18990.000000\n",
       "201311    383790.000000\n",
       "201312    321870.000000\n",
       "201401     22990.000000\n",
       "201402    113940.000000\n",
       "201403    373830.003906\n",
       "201404    257890.000000\n",
       "201405    142940.000000\n",
       "201406    193920.000000\n",
       "201407    110352.000000\n",
       "201408    129136.000000\n",
       "201409    113345.000000\n",
       "201410    249972.000000\n",
       "201411     82960.000000\n",
       "201412     24990.000000\n",
       "201501     23491.000000\n",
       "201502     24990.000000\n",
       "201503     26490.000000\n",
       "201504     23491.000000\n",
       "201505     26990.000000\n",
       "201509     24990.000000\n",
       "201512     24591.000000\n",
       "Name: revenue, dtype: float64"
      ]
     },
     "execution_count": 117,
     "metadata": {},
     "output_type": "execute_result"
    }
   ],
   "source": [
    "train[(train['shop_id'] == 5) & (train['item_id'] == 6675)].groupby('date_yearmonth')['revenue'].sum()"
   ]
  },
  {
   "cell_type": "code",
   "execution_count": null,
   "metadata": {},
   "outputs": [],
   "source": []
  },
  {
   "cell_type": "code",
   "execution_count": null,
   "metadata": {},
   "outputs": [],
   "source": []
  },
  {
   "cell_type": "code",
   "execution_count": null,
   "metadata": {},
   "outputs": [],
   "source": []
  },
  {
   "cell_type": "code",
   "execution_count": 95,
   "metadata": {},
   "outputs": [
    {
     "data": {
      "text/plain": [
       "item_id\n",
       "6675     2.193915e+08\n",
       "3732     4.361798e+07\n",
       "13443    3.433125e+07\n",
       "3734     3.106516e+07\n",
       "3733     2.229886e+07\n",
       "16787    2.190784e+07\n",
       "3731     1.998348e+07\n",
       "13405    1.812548e+07\n",
       "17717    1.720083e+07\n",
       "5823     1.715185e+07\n",
       "Name: revenue, dtype: float64"
      ]
     },
     "execution_count": 95,
     "metadata": {},
     "output_type": "execute_result"
    }
   ],
   "source": [
    "train.groupby('item_id')['revenue'].sum().sort_values(ascending=False)[:10]"
   ]
  },
  {
   "cell_type": "code",
   "execution_count": null,
   "metadata": {},
   "outputs": [],
   "source": [
    "train['shop_id'].unique()"
   ]
  },
  {
   "cell_type": "code",
   "execution_count": null,
   "metadata": {},
   "outputs": [],
   "source": []
  },
  {
   "cell_type": "code",
   "execution_count": null,
   "metadata": {},
   "outputs": [],
   "source": []
  },
  {
   "cell_type": "code",
   "execution_count": null,
   "metadata": {},
   "outputs": [],
   "source": []
  },
  {
   "cell_type": "code",
   "execution_count": null,
   "metadata": {},
   "outputs": [],
   "source": []
  },
  {
   "cell_type": "code",
   "execution_count": null,
   "metadata": {},
   "outputs": [],
   "source": []
  },
  {
   "cell_type": "markdown",
   "metadata": {},
   "source": [
    "## Distribution of item prices\n",
    "* "
   ]
  },
  {
   "cell_type": "code",
   "execution_count": 32,
   "metadata": {},
   "outputs": [],
   "source": [
    "from matplotlib import pyplot as plt"
   ]
  },
  {
   "cell_type": "code",
   "execution_count": 61,
   "metadata": {},
   "outputs": [
    {
     "data": {
      "image/png": "[encoded data removed]",
      "text/plain": [
       "<matplotlib.figure.Figure at 0x12f6ba7f0>"
      ]
     },
     "metadata": {},
     "output_type": "display_data"
    }
   ],
   "source": [
    "plt.boxplot(train['item_price'])\n",
    "plt.show()"
   ]
  },
  {
   "cell_type": "code",
   "execution_count": 50,
   "metadata": {
    "scrolled": true
   },
   "outputs": [
    {
     "name": "stdout",
     "output_type": "stream",
     "text": [
      "2269732\n",
      "666117\n"
     ]
    },
    {
     "data": {
      "text/plain": [
       "count    2.935849e+06\n",
       "mean     8.908532e+02\n",
       "std      1.729800e+03\n",
       "min     -1.000000e+00\n",
       "25%      2.490000e+02\n",
       "50%      3.990000e+02\n",
       "75%      9.990000e+02\n",
       "max      3.079800e+05\n",
       "Name: item_price, dtype: float64"
      ]
     },
     "execution_count": 50,
     "metadata": {},
     "output_type": "execute_result"
    }
   ],
   "source": [
    "print(len(train[train['item_price']<1000]))\n",
    "print(len(train[train['item_price']>=1000]))\n",
    "train['item_price'].describe()"
   ]
  },
  {
   "cell_type": "code",
   "execution_count": 82,
   "metadata": {},
   "outputs": [
    {
     "data": {
      "text/plain": [
       "pandas.core.series.Series"
      ]
     },
     "execution_count": 82,
     "metadata": {},
     "output_type": "execute_result"
    }
   ],
   "source": [
    "train['item_price'].value_counts()"
   ]
  },
  {
   "cell_type": "code",
   "execution_count": null,
   "metadata": {},
   "outputs": [],
   "source": []
  },
  {
   "cell_type": "markdown",
   "metadata": {},
   "source": [
    "## Item price in over 75% of total sales record -> Less than `1000`\n",
    "* Create column `item_price_range` to categorize the item prices by range for visualization and further modeling"
   ]
  },
  {
   "cell_type": "code",
   "execution_count": 60,
   "metadata": {},
   "outputs": [
    {
     "data": {
      "image/png": "[encoded data removed]",
      "text/plain": [
       "<matplotlib.figure.Figure at 0x12f6d5128>"
      ]
     },
     "metadata": {},
     "output_type": "display_data"
    }
   ],
   "source": [
    "plt.hist(train[train['item_price'] < 1000]['item_price'].value_counts())\n",
    "plt.show()"
   ]
  },
  {
   "cell_type": "code",
   "execution_count": 56,
   "metadata": {},
   "outputs": [
    {
     "data": {
      "image/png": "[encoded data removed]",
      "text/plain": [
       "<matplotlib.figure.Figure at 0x12f6899e8>"
      ]
     },
     "metadata": {},
     "output_type": "display_data"
    }
   ],
   "source": [
    "plt.boxplot(train[train['item_price'] < 1000]['item_price'].value_counts())\n",
    "plt.show()"
   ]
  },
  {
   "cell_type": "code",
   "execution_count": 55,
   "metadata": {
    "collapsed": true
   },
   "outputs": [
    {
     "data": {
      "text/plain": [
       "299.000000    291352\n",
       "399.000000    242603\n",
       "149.000000    218432\n",
       "199.000000    184044\n",
       "349.000000    101461\n",
       "599.000000     95673\n",
       "999.000000     82784\n",
       "799.000000     77882\n",
       "249.000000     77685\n",
       "699.000000     76493\n",
       "499.000000     73078\n",
       "899.000000     57156\n",
       "99.000000      48955\n",
       "449.000000     43205\n",
       "549.000000     39080\n",
       "5.000000       29702\n",
       "169.000000     20848\n",
       "749.000000     17351\n",
       "229.000000     14209\n",
       "649.000000     12460\n",
       "849.000000     12102\n",
       "98.000000      11141\n",
       "349.500000      9353\n",
       "419.000000      8697\n",
       "299.500000      7958\n",
       "58.000000       7876\n",
       "599.500000      7779\n",
       "28.000000       7725\n",
       "949.000000      7540\n",
       "198.000000      5701\n",
       "               ...  \n",
       "174.184998         1\n",
       "170.050003         1\n",
       "172.466660         1\n",
       "170.440002         1\n",
       "170.679993         1\n",
       "170.824997         1\n",
       "171.071426         1\n",
       "171.250000         1\n",
       "171.289993         1\n",
       "171.661804         1\n",
       "171.666672         1\n",
       "171.669998         1\n",
       "172.025314         1\n",
       "172.220001         1\n",
       "172.333328         1\n",
       "172.494995         1\n",
       "174.169998         1\n",
       "172.500000         1\n",
       "172.699997         1\n",
       "173.009995         1\n",
       "173.199997         1\n",
       "173.285004         1\n",
       "173.289993         1\n",
       "173.333328         1\n",
       "173.520004         1\n",
       "173.970001         1\n",
       "174.100006         1\n",
       "174.110001         1\n",
       "174.139999         1\n",
       "122.330002         1\n",
       "Name: item_price, Length: 11143, dtype: int64"
      ]
     },
     "execution_count": 55,
     "metadata": {},
     "output_type": "execute_result"
    }
   ],
   "source": [
    "train[train['item_price'] < 1000]['item_price'].value_counts()"
   ]
  },
  {
   "cell_type": "code",
   "execution_count": null,
   "metadata": {},
   "outputs": [],
   "source": []
  },
  {
   "cell_type": "code",
   "execution_count": null,
   "metadata": {},
   "outputs": [],
   "source": [
    "train['item_price_range1']"
   ]
  },
  {
   "cell_type": "code",
   "execution_count": null,
   "metadata": {},
   "outputs": [],
   "source": []
  },
  {
   "cell_type": "code",
   "execution_count": null,
   "metadata": {},
   "outputs": [],
   "source": []
  },
  {
   "cell_type": "code",
   "execution_count": null,
   "metadata": {},
   "outputs": [],
   "source": []
  },
  {
   "cell_type": "code",
   "execution_count": null,
   "metadata": {},
   "outputs": [],
   "source": []
  },
  {
   "cell_type": "code",
   "execution_count": null,
   "metadata": {},
   "outputs": [],
   "source": []
  },
  {
   "cell_type": "markdown",
   "metadata": {},
   "source": [
    "## Total sales by location (`shop_loc`) in the entire period"
   ]
  },
  {
   "cell_type": "code",
   "execution_count": 30,
   "metadata": {},
   "outputs": [
    {
     "name": "stdout",
     "output_type": "stream",
     "text": [
      "['yaroslavl', 'moscow', 'kursk', 'krasnoyarsk', 'volzhsky', 'voronezh', 'krasnodar', 'balashikha', 'yakutsk', 'kolomna', 'kaluga', 'zhukovsky', 'kazan', 'online', 'ufa', 'nizhny novgorod', 'chekhov', 'khimki', 'surgut', 'tyumen', 'saint petersburg', 'rostov-on-don', 'omsk', 'samara', 'novosibirsk', 'sergiyev posad', 'vologda', 'export', 'tomsk', 'mytishchi']\n"
     ]
    }
   ],
   "source": [
    "# total list of unique values in 'shop_loc' column\n",
    "\n",
    "print(train['shop_loc'].unique().tolist())"
   ]
  },
  {
   "cell_type": "code",
   "execution_count": null,
   "metadata": {},
   "outputs": [],
   "source": [
    "train.groupby('shop_loc')['']"
   ]
  },
  {
   "cell_type": "code",
   "execution_count": null,
   "metadata": {},
   "outputs": [],
   "source": []
  },
  {
   "cell_type": "code",
   "execution_count": null,
   "metadata": {},
   "outputs": [],
   "source": []
  },
  {
   "cell_type": "code",
   "execution_count": null,
   "metadata": {},
   "outputs": [],
   "source": []
  },
  {
   "cell_type": "code",
   "execution_count": null,
   "metadata": {},
   "outputs": [],
   "source": []
  },
  {
   "cell_type": "code",
   "execution_count": null,
   "metadata": {},
   "outputs": [],
   "source": []
  },
  {
   "cell_type": "code",
   "execution_count": null,
   "metadata": {},
   "outputs": [],
   "source": []
  },
  {
   "cell_type": "code",
   "execution_count": null,
   "metadata": {},
   "outputs": [],
   "source": []
  },
  {
   "cell_type": "code",
   "execution_count": null,
   "metadata": {},
   "outputs": [],
   "source": []
  },
  {
   "cell_type": "code",
   "execution_count": null,
   "metadata": {},
   "outputs": [],
   "source": []
  },
  {
   "cell_type": "code",
   "execution_count": null,
   "metadata": {},
   "outputs": [],
   "source": []
  }
 ],
 "metadata": {
  "kernelspec": {
   "display_name": "Python 3",
   "language": "python",
   "name": "python3"
  },
  "language_info": {
   "codemirror_mode": {
    "name": "ipython",
    "version": 3
   },
   "file_extension": ".py",
   "mimetype": "text/x-python",
   "name": "python",
   "nbconvert_exporter": "python",
   "pygments_lexer": "ipython3",
   "version": "3.6.2"
  }
 },
 "nbformat": 4,
 "nbformat_minor": 2
}

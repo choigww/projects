{
 "cells": [
  {
   "cell_type": "markdown",
   "metadata": {},
   "source": [
    "# Predict Future Sales\n",
    "from [kaggle competition](https://www.kaggle.com/c/competitive-data-science-predict-future-sales/)"
   ]
  },
  {
   "cell_type": "markdown",
   "metadata": {},
   "source": [
    "## 1. Data Optimization and Preprocessing"
   ]
  },
  {
   "cell_type": "code",
   "execution_count": null,
   "metadata": {},
   "outputs": [],
   "source": []
  },
  {
   "cell_type": "markdown",
   "metadata": {},
   "source": [
    "You are provided with daily historical sales data. The task is to forecast the total amount of products sold in every shop for the test set. Note that the list of shops and products slightly changes every month. Creating a robust model that can handle such situations is part of the challenge.\n",
    "\n",
    "### File Description\n",
    "* sales_train.csv - the training set. Daily historical data from January 2013 to October 2015.\n",
    "* sales_test.csv - the test set. You need to forecast the sales for these shops and products for November 2015.\n",
    "* sample_submission.csv - a sample submission file in the correct format.\n",
    "* items.csv - supplemental information about the items/products.\n",
    "* item_categories.csv  - supplemental information about the items categories.\n",
    "* shops.csv- supplemental information about the shops.\n",
    "\n",
    "\n",
    "### Data Fields\n",
    "* ID - an Id that represents a (Shop, Item) tuple within the test set\n",
    "* shop_id - unique identifier of a shop\n",
    "* item_id - unique identifier of a product\n",
    "* item_category_id - unique identifier of item category\n",
    "* item_cnt_day - number of products sold. You are predicting a monthly amount of this measure\n",
    "* item_price - current price of an item\n",
    "* date - date in format dd/mm/yyyy\n",
    "* date_block_num - a consecutive month number, used for convenience. January 2013 is 0, February 2013 is 1,..., October 2015 is 33\n",
    "* item_name - name of item\n",
    "* shop_name - name of shop\n",
    "* item_category_name - name of item category"
   ]
  },
  {
   "cell_type": "code",
   "execution_count": 46,
   "metadata": {},
   "outputs": [],
   "source": [
    "import pandas as pd\n",
    "import numpy as np"
   ]
  },
  {
   "cell_type": "code",
   "execution_count": 47,
   "metadata": {
    "scrolled": true
   },
   "outputs": [
    {
     "data": {
      "text/html": [
       "<div>\n",
       "<style scoped>\n",
       "    .dataframe tbody tr th:only-of-type {\n",
       "        vertical-align: middle;\n",
       "    }\n",
       "\n",
       "    .dataframe tbody tr th {\n",
       "        vertical-align: top;\n",
       "    }\n",
       "\n",
       "    .dataframe thead th {\n",
       "        text-align: right;\n",
       "    }\n",
       "</style>\n",
       "<table border=\"1\" class=\"dataframe\">\n",
       "  <thead>\n",
       "    <tr style=\"text-align: right;\">\n",
       "      <th></th>\n",
       "      <th>date</th>\n",
       "      <th>date_block_num</th>\n",
       "      <th>shop_id</th>\n",
       "      <th>item_id</th>\n",
       "      <th>item_price</th>\n",
       "      <th>item_cnt_day</th>\n",
       "    </tr>\n",
       "  </thead>\n",
       "  <tbody>\n",
       "    <tr>\n",
       "      <th>0</th>\n",
       "      <td>02.01.2013</td>\n",
       "      <td>0</td>\n",
       "      <td>59</td>\n",
       "      <td>22154</td>\n",
       "      <td>999.00</td>\n",
       "      <td>1.0</td>\n",
       "    </tr>\n",
       "    <tr>\n",
       "      <th>1</th>\n",
       "      <td>03.01.2013</td>\n",
       "      <td>0</td>\n",
       "      <td>25</td>\n",
       "      <td>2552</td>\n",
       "      <td>899.00</td>\n",
       "      <td>1.0</td>\n",
       "    </tr>\n",
       "    <tr>\n",
       "      <th>2</th>\n",
       "      <td>05.01.2013</td>\n",
       "      <td>0</td>\n",
       "      <td>25</td>\n",
       "      <td>2552</td>\n",
       "      <td>899.00</td>\n",
       "      <td>-1.0</td>\n",
       "    </tr>\n",
       "    <tr>\n",
       "      <th>3</th>\n",
       "      <td>06.01.2013</td>\n",
       "      <td>0</td>\n",
       "      <td>25</td>\n",
       "      <td>2554</td>\n",
       "      <td>1709.05</td>\n",
       "      <td>1.0</td>\n",
       "    </tr>\n",
       "    <tr>\n",
       "      <th>4</th>\n",
       "      <td>15.01.2013</td>\n",
       "      <td>0</td>\n",
       "      <td>25</td>\n",
       "      <td>2555</td>\n",
       "      <td>1099.00</td>\n",
       "      <td>1.0</td>\n",
       "    </tr>\n",
       "  </tbody>\n",
       "</table>\n",
       "</div>"
      ],
      "text/plain": [
       "         date  date_block_num  shop_id  item_id  item_price  item_cnt_day\n",
       "0  02.01.2013               0       59    22154      999.00           1.0\n",
       "1  03.01.2013               0       25     2552      899.00           1.0\n",
       "2  05.01.2013               0       25     2552      899.00          -1.0\n",
       "3  06.01.2013               0       25     2554     1709.05           1.0\n",
       "4  15.01.2013               0       25     2555     1099.00           1.0"
      ]
     },
     "execution_count": 47,
     "metadata": {},
     "output_type": "execute_result"
    }
   ],
   "source": [
    "train = pd.read_csv('data/sales_train.csv')\n",
    "test = pd.read_csv('data/sales_test.csv')\n",
    "train.head()"
   ]
  },
  {
   "cell_type": "code",
   "execution_count": 48,
   "metadata": {},
   "outputs": [
    {
     "data": {
      "text/html": [
       "<div>\n",
       "<style scoped>\n",
       "    .dataframe tbody tr th:only-of-type {\n",
       "        vertical-align: middle;\n",
       "    }\n",
       "\n",
       "    .dataframe tbody tr th {\n",
       "        vertical-align: top;\n",
       "    }\n",
       "\n",
       "    .dataframe thead th {\n",
       "        text-align: right;\n",
       "    }\n",
       "</style>\n",
       "<table border=\"1\" class=\"dataframe\">\n",
       "  <thead>\n",
       "    <tr style=\"text-align: right;\">\n",
       "      <th></th>\n",
       "      <th>item_name</th>\n",
       "      <th>item_id</th>\n",
       "      <th>item_category_id</th>\n",
       "    </tr>\n",
       "  </thead>\n",
       "  <tbody>\n",
       "    <tr>\n",
       "      <th>0</th>\n",
       "      <td>! ВО ВЛАСТИ НАВАЖДЕНИЯ (ПЛАСТ.)         D</td>\n",
       "      <td>0</td>\n",
       "      <td>40</td>\n",
       "    </tr>\n",
       "    <tr>\n",
       "      <th>1</th>\n",
       "      <td>!ABBYY FineReader 12 Professional Edition Full...</td>\n",
       "      <td>1</td>\n",
       "      <td>76</td>\n",
       "    </tr>\n",
       "    <tr>\n",
       "      <th>2</th>\n",
       "      <td>***В ЛУЧАХ СЛАВЫ   (UNV)                    D</td>\n",
       "      <td>2</td>\n",
       "      <td>40</td>\n",
       "    </tr>\n",
       "    <tr>\n",
       "      <th>3</th>\n",
       "      <td>***ГОЛУБАЯ ВОЛНА  (Univ)                      D</td>\n",
       "      <td>3</td>\n",
       "      <td>40</td>\n",
       "    </tr>\n",
       "    <tr>\n",
       "      <th>4</th>\n",
       "      <td>***КОРОБКА (СТЕКЛО)                       D</td>\n",
       "      <td>4</td>\n",
       "      <td>40</td>\n",
       "    </tr>\n",
       "  </tbody>\n",
       "</table>\n",
       "</div>"
      ],
      "text/plain": [
       "                                           item_name  item_id  \\\n",
       "0          ! ВО ВЛАСТИ НАВАЖДЕНИЯ (ПЛАСТ.)         D        0   \n",
       "1  !ABBYY FineReader 12 Professional Edition Full...        1   \n",
       "2      ***В ЛУЧАХ СЛАВЫ   (UNV)                    D        2   \n",
       "3    ***ГОЛУБАЯ ВОЛНА  (Univ)                      D        3   \n",
       "4        ***КОРОБКА (СТЕКЛО)                       D        4   \n",
       "\n",
       "   item_category_id  \n",
       "0                40  \n",
       "1                76  \n",
       "2                40  \n",
       "3                40  \n",
       "4                40  "
      ]
     },
     "execution_count": 48,
     "metadata": {},
     "output_type": "execute_result"
    }
   ],
   "source": [
    "items = pd.read_csv('data/items.csv')\n",
    "items.head()"
   ]
  },
  {
   "cell_type": "code",
   "execution_count": 49,
   "metadata": {},
   "outputs": [
    {
     "data": {
      "text/html": [
       "<div>\n",
       "<style scoped>\n",
       "    .dataframe tbody tr th:only-of-type {\n",
       "        vertical-align: middle;\n",
       "    }\n",
       "\n",
       "    .dataframe tbody tr th {\n",
       "        vertical-align: top;\n",
       "    }\n",
       "\n",
       "    .dataframe thead th {\n",
       "        text-align: right;\n",
       "    }\n",
       "</style>\n",
       "<table border=\"1\" class=\"dataframe\">\n",
       "  <thead>\n",
       "    <tr style=\"text-align: right;\">\n",
       "      <th></th>\n",
       "      <th>item_category_name</th>\n",
       "      <th>item_category_id</th>\n",
       "    </tr>\n",
       "  </thead>\n",
       "  <tbody>\n",
       "    <tr>\n",
       "      <th>0</th>\n",
       "      <td>PC - Гарнитуры/Наушники</td>\n",
       "      <td>0</td>\n",
       "    </tr>\n",
       "    <tr>\n",
       "      <th>1</th>\n",
       "      <td>Аксессуары - PS2</td>\n",
       "      <td>1</td>\n",
       "    </tr>\n",
       "    <tr>\n",
       "      <th>2</th>\n",
       "      <td>Аксессуары - PS3</td>\n",
       "      <td>2</td>\n",
       "    </tr>\n",
       "    <tr>\n",
       "      <th>3</th>\n",
       "      <td>Аксессуары - PS4</td>\n",
       "      <td>3</td>\n",
       "    </tr>\n",
       "    <tr>\n",
       "      <th>4</th>\n",
       "      <td>Аксессуары - PSP</td>\n",
       "      <td>4</td>\n",
       "    </tr>\n",
       "  </tbody>\n",
       "</table>\n",
       "</div>"
      ],
      "text/plain": [
       "        item_category_name  item_category_id\n",
       "0  PC - Гарнитуры/Наушники                 0\n",
       "1         Аксессуары - PS2                 1\n",
       "2         Аксессуары - PS3                 2\n",
       "3         Аксессуары - PS4                 3\n",
       "4         Аксессуары - PSP                 4"
      ]
     },
     "execution_count": 49,
     "metadata": {},
     "output_type": "execute_result"
    }
   ],
   "source": [
    "item_categories = pd.read_csv('data/item_categories.csv')\n",
    "item_categories.head()"
   ]
  },
  {
   "cell_type": "code",
   "execution_count": 50,
   "metadata": {},
   "outputs": [
    {
     "data": {
      "text/html": [
       "<div>\n",
       "<style scoped>\n",
       "    .dataframe tbody tr th:only-of-type {\n",
       "        vertical-align: middle;\n",
       "    }\n",
       "\n",
       "    .dataframe tbody tr th {\n",
       "        vertical-align: top;\n",
       "    }\n",
       "\n",
       "    .dataframe thead th {\n",
       "        text-align: right;\n",
       "    }\n",
       "</style>\n",
       "<table border=\"1\" class=\"dataframe\">\n",
       "  <thead>\n",
       "    <tr style=\"text-align: right;\">\n",
       "      <th></th>\n",
       "      <th>shop_name</th>\n",
       "      <th>shop_id</th>\n",
       "    </tr>\n",
       "  </thead>\n",
       "  <tbody>\n",
       "    <tr>\n",
       "      <th>0</th>\n",
       "      <td>!Якутск Орджоникидзе, 56 фран</td>\n",
       "      <td>0</td>\n",
       "    </tr>\n",
       "    <tr>\n",
       "      <th>1</th>\n",
       "      <td>!Якутск ТЦ \"Центральный\" фран</td>\n",
       "      <td>1</td>\n",
       "    </tr>\n",
       "    <tr>\n",
       "      <th>2</th>\n",
       "      <td>Адыгея ТЦ \"Мега\"</td>\n",
       "      <td>2</td>\n",
       "    </tr>\n",
       "    <tr>\n",
       "      <th>3</th>\n",
       "      <td>Балашиха ТРК \"Октябрь-Киномир\"</td>\n",
       "      <td>3</td>\n",
       "    </tr>\n",
       "    <tr>\n",
       "      <th>4</th>\n",
       "      <td>Волжский ТЦ \"Волга Молл\"</td>\n",
       "      <td>4</td>\n",
       "    </tr>\n",
       "  </tbody>\n",
       "</table>\n",
       "</div>"
      ],
      "text/plain": [
       "                        shop_name  shop_id\n",
       "0   !Якутск Орджоникидзе, 56 фран        0\n",
       "1   !Якутск ТЦ \"Центральный\" фран        1\n",
       "2                Адыгея ТЦ \"Мега\"        2\n",
       "3  Балашиха ТРК \"Октябрь-Киномир\"        3\n",
       "4        Волжский ТЦ \"Волга Молл\"        4"
      ]
     },
     "execution_count": 50,
     "metadata": {},
     "output_type": "execute_result"
    }
   ],
   "source": [
    "shops = pd.read_csv('data/shops.csv')\n",
    "shops.head()"
   ]
  },
  {
   "cell_type": "code",
   "execution_count": null,
   "metadata": {},
   "outputs": [],
   "source": []
  },
  {
   "cell_type": "markdown",
   "metadata": {},
   "source": [
    "## Data Optimization for `sales_train.csv`"
   ]
  },
  {
   "cell_type": "code",
   "execution_count": 51,
   "metadata": {
    "scrolled": false
   },
   "outputs": [
    {
     "name": "stdout",
     "output_type": "stream",
     "text": [
      "<class 'pandas.core.frame.DataFrame'>\n",
      "RangeIndex: 2935849 entries, 0 to 2935848\n",
      "Data columns (total 6 columns):\n",
      "date              object\n",
      "date_block_num    int64\n",
      "shop_id           int64\n",
      "item_id           int64\n",
      "item_price        float64\n",
      "item_cnt_day      float64\n",
      "dtypes: float64(2), int64(3), object(1)\n",
      "memory usage: 299.6 MB\n"
     ]
    }
   ],
   "source": [
    "# real memory usage dataframe 'train'  - 299.6MB\n",
    "train.info(memory_usage='deep')"
   ]
  },
  {
   "cell_type": "code",
   "execution_count": 52,
   "metadata": {},
   "outputs": [
    {
     "data": {
      "text/plain": [
       "date              0\n",
       "date_block_num    0\n",
       "shop_id           0\n",
       "item_id           0\n",
       "item_price        0\n",
       "item_cnt_day      0\n",
       "dtype: int64"
      ]
     },
     "execution_count": 52,
     "metadata": {},
     "output_type": "execute_result"
    }
   ],
   "source": [
    "# check the number of null values in each column\n",
    "train.isnull().sum()"
   ]
  },
  {
   "cell_type": "markdown",
   "metadata": {},
   "source": [
    "### Optimize numeric columns"
   ]
  },
  {
   "cell_type": "code",
   "execution_count": 53,
   "metadata": {},
   "outputs": [
    {
     "data": {
      "text/plain": [
       "Index(['item_price', 'item_cnt_day'], dtype='object')"
      ]
     },
     "execution_count": 53,
     "metadata": {},
     "output_type": "execute_result"
    }
   ],
   "source": [
    "# optimize float columns to fit the data size in actual values\n",
    "\n",
    "float_cols = train.select_dtypes(include=['float'])\n",
    "float_cols.columns"
   ]
  },
  {
   "cell_type": "code",
   "execution_count": 54,
   "metadata": {},
   "outputs": [],
   "source": [
    "for fc in float_cols.columns:\n",
    "    train[fc] = pd.to_numeric(train[fc], downcast='float')"
   ]
  },
  {
   "cell_type": "code",
   "execution_count": 55,
   "metadata": {},
   "outputs": [
    {
     "data": {
      "text/plain": [
       "Index(['date_block_num', 'shop_id', 'item_id'], dtype='object')"
      ]
     },
     "execution_count": 55,
     "metadata": {},
     "output_type": "execute_result"
    }
   ],
   "source": [
    "int_cols = train.select_dtypes(include=['int'])\n",
    "int_cols.columns"
   ]
  },
  {
   "cell_type": "code",
   "execution_count": 56,
   "metadata": {},
   "outputs": [],
   "source": [
    "for ic in int_cols.columns:\n",
    "    train[ic] = pd.to_numeric(train[ic], downcast='integer')"
   ]
  },
  {
   "cell_type": "code",
   "execution_count": null,
   "metadata": {},
   "outputs": [],
   "source": []
  },
  {
   "cell_type": "markdown",
   "metadata": {},
   "source": [
    "### Convert `id` columns to `category` type column\n",
    "* Condition : `(number of unique `id` values / total number of data rows) < .5`"
   ]
  },
  {
   "cell_type": "code",
   "execution_count": 57,
   "metadata": {},
   "outputs": [
    {
     "name": "stdout",
     "output_type": "stream",
     "text": [
      "True\n",
      "True\n"
     ]
    }
   ],
   "source": [
    "print(len(train['shop_id'].unique()) / len(train) < .5)\n",
    "print(len(train['item_id'].unique()) / len(train) < .5)"
   ]
  },
  {
   "cell_type": "code",
   "execution_count": 58,
   "metadata": {},
   "outputs": [],
   "source": [
    "train['shop_id'] = train['shop_id'].astype('category')"
   ]
  },
  {
   "cell_type": "code",
   "execution_count": 59,
   "metadata": {},
   "outputs": [],
   "source": [
    "train['item_id'] = train['item_id'].astype('category')"
   ]
  },
  {
   "cell_type": "code",
   "execution_count": null,
   "metadata": {},
   "outputs": [],
   "source": []
  },
  {
   "cell_type": "markdown",
   "metadata": {},
   "source": [
    "### `Float` type to `Int` type & optimize column size"
   ]
  },
  {
   "cell_type": "code",
   "execution_count": 60,
   "metadata": {},
   "outputs": [
    {
     "data": {
      "text/plain": [
       "198"
      ]
     },
     "execution_count": 60,
     "metadata": {},
     "output_type": "execute_result"
    }
   ],
   "source": [
    "len(train['item_cnt_day'].unique())"
   ]
  },
  {
   "cell_type": "code",
   "execution_count": 61,
   "metadata": {
    "scrolled": true
   },
   "outputs": [
    {
     "name": "stdout",
     "output_type": "stream",
     "text": [
      "converting from float to int available\n"
     ]
    }
   ],
   "source": [
    "# converting available?\n",
    "for unq in train['item_cnt_day'].unique():\n",
    "    if unq % 1 != 0:\n",
    "        print('not available')\n",
    "        break\n",
    "else:\n",
    "    print('converting from float to int available')"
   ]
  },
  {
   "cell_type": "code",
   "execution_count": 62,
   "metadata": {},
   "outputs": [],
   "source": [
    "train['item_cnt_day'] = pd.to_numeric(train['item_cnt_day'].astype('int'),\n",
    "                                      downcast='integer')"
   ]
  },
  {
   "cell_type": "code",
   "execution_count": null,
   "metadata": {},
   "outputs": [],
   "source": []
  },
  {
   "cell_type": "markdown",
   "metadata": {},
   "source": [
    "### `date` column to `date.datetime` datatype"
   ]
  },
  {
   "cell_type": "code",
   "execution_count": 63,
   "metadata": {},
   "outputs": [],
   "source": [
    "train['date'] = pd.to_datetime(train['date'])"
   ]
  },
  {
   "cell_type": "code",
   "execution_count": null,
   "metadata": {},
   "outputs": [],
   "source": []
  },
  {
   "cell_type": "markdown",
   "metadata": {},
   "source": [
    "### How much optimized?"
   ]
  },
  {
   "cell_type": "code",
   "execution_count": 64,
   "metadata": {
    "scrolled": true
   },
   "outputs": [
    {
     "name": "stdout",
     "output_type": "stream",
     "text": [
      "<class 'pandas.core.frame.DataFrame'>\n",
      "RangeIndex: 2935849 entries, 0 to 2935848\n",
      "Data columns (total 6 columns):\n",
      "date              object\n",
      "date_block_num    int64\n",
      "shop_id           int64\n",
      "item_id           int64\n",
      "item_price        float64\n",
      "item_cnt_day      float64\n",
      "dtypes: float64(2), int64(3), object(1)\n",
      "memory usage: 299.6 MB\n"
     ]
    }
   ],
   "source": [
    "# original\n",
    "pd.read_csv('data/sales_train.csv').info(memory_usage='deep')"
   ]
  },
  {
   "cell_type": "code",
   "execution_count": 65,
   "metadata": {},
   "outputs": [
    {
     "name": "stdout",
     "output_type": "stream",
     "text": [
      "<class 'pandas.core.frame.DataFrame'>\n",
      "RangeIndex: 2935849 entries, 0 to 2935848\n",
      "Data columns (total 6 columns):\n",
      "date              datetime64[ns]\n",
      "date_block_num    int8\n",
      "shop_id           category\n",
      "item_id           category\n",
      "item_price        float32\n",
      "item_cnt_day      int16\n",
      "dtypes: category(2), datetime64[ns](1), float32(1), int16(1), int8(1)\n",
      "memory usage: 51.2 MB\n"
     ]
    }
   ],
   "source": [
    "# optimized\n",
    "train.info(memory_usage='deep')"
   ]
  },
  {
   "cell_type": "code",
   "execution_count": null,
   "metadata": {},
   "outputs": [],
   "source": []
  },
  {
   "cell_type": "markdown",
   "metadata": {},
   "source": [
    "## Concatenate & combine data\n"
   ]
  },
  {
   "cell_type": "code",
   "execution_count": 66,
   "metadata": {},
   "outputs": [],
   "source": [
    "# map the 'item_category_id' column values from 'item' dataframe\n",
    "# and change the type as category\n",
    "\n",
    "item_item_cat_id_mapped = dict(zip(items['item_id'].tolist(), items['item_category_id'].tolist()))\n",
    "train['item_category_id'] = train['item_id'].map(item_item_cat_id_mapped)"
   ]
  },
  {
   "cell_type": "code",
   "execution_count": 67,
   "metadata": {},
   "outputs": [],
   "source": [
    "train['item_category_id'] = train['item_category_id'].astype('category')  "
   ]
  },
  {
   "cell_type": "code",
   "execution_count": 68,
   "metadata": {},
   "outputs": [],
   "source": [
    "# map the 'item_category_name' column values from 'item_category_name'\n",
    "# we do not change 'item_category_name' in train dataframe at now\n",
    "\n",
    "item_cat_id_item_name_mapped = dict(zip(item_categories['item_category_id'].tolist(),\n",
    "                                       item_categories['item_category_name'].tolist()))\n",
    "train['item_category_name'] = train['item_category_id'].map(item_cat_id_item_name_mapped)"
   ]
  },
  {
   "cell_type": "code",
   "execution_count": 69,
   "metadata": {
    "scrolled": false
   },
   "outputs": [
    {
     "data": {
      "text/html": [
       "<div>\n",
       "<style scoped>\n",
       "    .dataframe tbody tr th:only-of-type {\n",
       "        vertical-align: middle;\n",
       "    }\n",
       "\n",
       "    .dataframe tbody tr th {\n",
       "        vertical-align: top;\n",
       "    }\n",
       "\n",
       "    .dataframe thead th {\n",
       "        text-align: right;\n",
       "    }\n",
       "</style>\n",
       "<table border=\"1\" class=\"dataframe\">\n",
       "  <thead>\n",
       "    <tr style=\"text-align: right;\">\n",
       "      <th></th>\n",
       "      <th>date</th>\n",
       "      <th>date_block_num</th>\n",
       "      <th>shop_id</th>\n",
       "      <th>item_id</th>\n",
       "      <th>item_price</th>\n",
       "      <th>item_cnt_day</th>\n",
       "      <th>item_category_id</th>\n",
       "      <th>item_category_name</th>\n",
       "    </tr>\n",
       "  </thead>\n",
       "  <tbody>\n",
       "    <tr>\n",
       "      <th>0</th>\n",
       "      <td>2013-02-01</td>\n",
       "      <td>0</td>\n",
       "      <td>59</td>\n",
       "      <td>22154</td>\n",
       "      <td>999.000000</td>\n",
       "      <td>1</td>\n",
       "      <td>37</td>\n",
       "      <td>Кино - Blu-Ray</td>\n",
       "    </tr>\n",
       "    <tr>\n",
       "      <th>1</th>\n",
       "      <td>2013-03-01</td>\n",
       "      <td>0</td>\n",
       "      <td>25</td>\n",
       "      <td>2552</td>\n",
       "      <td>899.000000</td>\n",
       "      <td>1</td>\n",
       "      <td>58</td>\n",
       "      <td>Музыка - Винил</td>\n",
       "    </tr>\n",
       "    <tr>\n",
       "      <th>2</th>\n",
       "      <td>2013-05-01</td>\n",
       "      <td>0</td>\n",
       "      <td>25</td>\n",
       "      <td>2552</td>\n",
       "      <td>899.000000</td>\n",
       "      <td>-1</td>\n",
       "      <td>58</td>\n",
       "      <td>Музыка - Винил</td>\n",
       "    </tr>\n",
       "    <tr>\n",
       "      <th>3</th>\n",
       "      <td>2013-06-01</td>\n",
       "      <td>0</td>\n",
       "      <td>25</td>\n",
       "      <td>2554</td>\n",
       "      <td>1709.050049</td>\n",
       "      <td>1</td>\n",
       "      <td>58</td>\n",
       "      <td>Музыка - Винил</td>\n",
       "    </tr>\n",
       "    <tr>\n",
       "      <th>4</th>\n",
       "      <td>2013-01-15</td>\n",
       "      <td>0</td>\n",
       "      <td>25</td>\n",
       "      <td>2555</td>\n",
       "      <td>1099.000000</td>\n",
       "      <td>1</td>\n",
       "      <td>56</td>\n",
       "      <td>Музыка - CD фирменного производства</td>\n",
       "    </tr>\n",
       "  </tbody>\n",
       "</table>\n",
       "</div>"
      ],
      "text/plain": [
       "        date  date_block_num shop_id item_id   item_price  item_cnt_day  \\\n",
       "0 2013-02-01               0      59   22154   999.000000             1   \n",
       "1 2013-03-01               0      25    2552   899.000000             1   \n",
       "2 2013-05-01               0      25    2552   899.000000            -1   \n",
       "3 2013-06-01               0      25    2554  1709.050049             1   \n",
       "4 2013-01-15               0      25    2555  1099.000000             1   \n",
       "\n",
       "  item_category_id                   item_category_name  \n",
       "0               37                       Кино - Blu-Ray  \n",
       "1               58                       Музыка - Винил  \n",
       "2               58                       Музыка - Винил  \n",
       "3               58                       Музыка - Винил  \n",
       "4               56  Музыка - CD фирменного производства  "
      ]
     },
     "execution_count": 69,
     "metadata": {},
     "output_type": "execute_result"
    }
   ],
   "source": [
    "train.head()"
   ]
  },
  {
   "cell_type": "code",
   "execution_count": 70,
   "metadata": {
    "scrolled": false
   },
   "outputs": [
    {
     "name": "stdout",
     "output_type": "stream",
     "text": [
      "<class 'pandas.core.frame.DataFrame'>\n",
      "RangeIndex: 2935849 entries, 0 to 2935848\n",
      "Data columns (total 8 columns):\n",
      "date                  datetime64[ns]\n",
      "date_block_num        int8\n",
      "shop_id               category\n",
      "item_id               category\n",
      "item_price            float32\n",
      "item_cnt_day          int16\n",
      "item_category_id      category\n",
      "item_category_name    object\n",
      "dtypes: category(3), datetime64[ns](1), float32(1), int16(1), int8(1), object(1)\n",
      "memory usage: 398.6 MB\n"
     ]
    }
   ],
   "source": [
    "train.info(memory_usage='deep')"
   ]
  },
  {
   "cell_type": "code",
   "execution_count": null,
   "metadata": {},
   "outputs": [],
   "source": []
  },
  {
   "cell_type": "markdown",
   "metadata": {},
   "source": [
    "## Get additional data using `Google API`\n",
    "* **Translate Russian text in `item_category_name` into English text using Google Translator**\n",
    "* **Get the full address of the store by searching the `shop_name` via Google Searching**"
   ]
  },
  {
   "cell_type": "code",
   "execution_count": 71,
   "metadata": {},
   "outputs": [
    {
     "data": {
      "text/plain": [
       "84"
      ]
     },
     "execution_count": 71,
     "metadata": {},
     "output_type": "execute_result"
    }
   ],
   "source": [
    "# Get translated item_category_name as English\n",
    "\n",
    "item_category_names = train['item_category_name'].unique()\n",
    "len(item_category_names)"
   ]
  },
  {
   "cell_type": "code",
   "execution_count": 72,
   "metadata": {},
   "outputs": [],
   "source": [
    "from google.oauth2 import service_account\n",
    "credentials = service_account.Credentials.from_service_account_file(\n",
    "    '')"
   ]
  },
  {
   "cell_type": "code",
   "execution_count": 73,
   "metadata": {},
   "outputs": [],
   "source": [
    "# Imports the Google Cloud client library\n",
    "from google.cloud import translate\n",
    "\n",
    "translate_client = translate.Client(credentials=credentials)"
   ]
  },
  {
   "cell_type": "code",
   "execution_count": 74,
   "metadata": {},
   "outputs": [],
   "source": [
    "translated_item_category_names = []\n",
    "\n",
    "for unique_cat_name in item_category_names:\n",
    "    # The text to translate\n",
    "    text = unique_cat_name\n",
    "\n",
    "    # The target language\n",
    "    target = 'en'\n",
    "\n",
    "    # Translates some text into Russian\n",
    "    translation = translate_client.translate(\n",
    "        text,\n",
    "        target_language=target)\n",
    "\n",
    "    #print(u'Text: {}'.format(text))\n",
    "    #print(u'Translation: {}'.format(translation['translatedText']))\n",
    "    translated_item_category_names.append(translation['translatedText'])"
   ]
  },
  {
   "cell_type": "code",
   "execution_count": 75,
   "metadata": {},
   "outputs": [
    {
     "name": "stdout",
     "output_type": "stream",
     "text": [
      "['Cinema - Blu-Ray', 'Music - Vinyl', 'Music - CD of branded production', 'Music - Musical video', 'Music - CD of local production', 'Games - XBOX 360', 'Games - PS3', 'PC Games - Additional Edition', 'PC Games - Standard Edition', 'Games - PSP', 'Cinema - DVD', 'Programs - Home and Office', 'Books - Methodical materials 1С', 'PC Games - Collector&#39;s Edition', 'Games - PSVita', 'Gifts - Development', 'Programs - 1C: Enterprise 8', 'Programs - Teaching', 'Music - MP3', 'Music - Gift edition', 'Accessories - PSP', 'Gifts - Gadgets, robots, sports', 'Books - Audiobooks', 'Game Consoles - XBOX 360', 'Accessories - PS3', 'Accessories - PS4', 'Accessories - PSVita', 'Gifts - Certificates, services', 'Payment cards - PSN', 'Payment cards - Live!', 'Accessories - XBOX 360', 'Cinema - Blu-Ray 3D', 'Games - Accessories for games', 'Game Consoles - PSVita', 'Books - Audiobooks 1C', 'Cinema - Collector&#39;s', 'Gifts - Postcards, stickers', 'Game Consoles - PS3', 'Gifts - Souvenirs', 'Gifts - Board games (compact)', 'Clean media (piece)', 'Clean carriers (spire)', 'Gifts - Board Games', 'Office', 'Gifts - Soft toys', 'PC - Headsets / Headphones', 'Gifts - Souvenirs (per sample)', 'Game Consoles - PSP', 'Elements of a food', 'Gifts - Figures', 'Gifts - Attributes', 'Gifts - Bags, Albums, Mouse pads', 'Games - PS2', 'Delivery of goods', 'Books - Business Literature', 'Accessories - PS2', 'Books - Computer Literature', 'Game Consoles - PS2', 'PC Games - Digit', 'Programs - Home and Office (Figure)', 'Programs - Teaching (Numbers)', 'Books - Number', 'Books - Audiobooks (Numbers)', 'Книги - Путеводители', 'Payment cards (Movies, Music, Games)', 'Movies - Blu-Ray 4K', 'Books - Fiction', 'Game Consoles - PS4', 'Games - PS4', 'Game Consoles - Other', 'Tickets (figure)', 'Game Consoles - XBOX ONE', 'Books - Cognitive Literature', 'Payment cards - Live! (Numeral)', 'Games - XBOX ONE', 'Accessories - XBOX ONE', 'Programs - MAC (Number)', 'Android games - Digit', 'MAC Games - Digit', 'Books - Comics, manga', 'Books - Postcards', 'Books - Artbook, encyclopedia', 'Official - Tickets', 'Payment Cards - Windows (Digital)']\n"
     ]
    }
   ],
   "source": [
    "# Check; all texts translated successfully?\n",
    "print(translated_item_category_names)"
   ]
  },
  {
   "cell_type": "code",
   "execution_count": null,
   "metadata": {},
   "outputs": [],
   "source": []
  },
  {
   "cell_type": "markdown",
   "metadata": {},
   "source": [
    "## Text column preprocessing\n",
    "\n",
    "* Validate the translation done successfully\n",
    "  * If not, execute translation again\n",
    "* transform as lowercase\n",
    "* Remove unnecessary characters\n",
    "* and?"
   ]
  },
  {
   "cell_type": "code",
   "execution_count": 76,
   "metadata": {},
   "outputs": [
    {
     "data": {
      "text/plain": [
       "63"
      ]
     },
     "execution_count": 76,
     "metadata": {},
     "output_type": "execute_result"
    }
   ],
   "source": [
    "translated_item_category_names.index('Книги - Путеводители')"
   ]
  },
  {
   "cell_type": "code",
   "execution_count": 77,
   "metadata": {},
   "outputs": [
    {
     "data": {
      "text/plain": [
       "'Книги - Путеводители'"
      ]
     },
     "execution_count": 77,
     "metadata": {},
     "output_type": "execute_result"
    }
   ],
   "source": [
    "translation = translate_client.translate(\n",
    "    translated_item_category_names[63],\n",
    "    target_language=target)\n",
    "\n",
    "translation['translatedText']"
   ]
  },
  {
   "cell_type": "code",
   "execution_count": 78,
   "metadata": {},
   "outputs": [],
   "source": [
    "# google translate api does not work for this case\n",
    "# manullay find the translated word in English\n",
    "\n",
    "translated_item_category_names[63] = 'Books - Travel Guides'"
   ]
  },
  {
   "cell_type": "code",
   "execution_count": 79,
   "metadata": {},
   "outputs": [
    {
     "name": "stdout",
     "output_type": "stream",
     "text": [
      "['Cinema - Blu-Ray', 'Music - Vinyl', 'Music - CD of branded production', 'Music - Musical video', 'Music - CD of local production', 'Games - XBOX 360', 'Games - PS3', 'PC Games - Additional Edition', 'PC Games - Standard Edition', 'Games - PSP', 'Cinema - DVD', 'Programs - Home and Office', 'Books - Methodical materials 1С', 'PC Games - Collector&#39;s Edition', 'Games - PSVita', 'Gifts - Development', 'Programs - 1C: Enterprise 8', 'Programs - Teaching', 'Music - MP3', 'Music - Gift edition', 'Accessories - PSP', 'Gifts - Gadgets, robots, sports', 'Books - Audiobooks', 'Game Consoles - XBOX 360', 'Accessories - PS3', 'Accessories - PS4', 'Accessories - PSVita', 'Gifts - Certificates, services', 'Payment cards - PSN', 'Payment cards - Live!', 'Accessories - XBOX 360', 'Cinema - Blu-Ray 3D', 'Games - Accessories for games', 'Game Consoles - PSVita', 'Books - Audiobooks 1C', 'Cinema - Collector&#39;s', 'Gifts - Postcards, stickers', 'Game Consoles - PS3', 'Gifts - Souvenirs', 'Gifts - Board games (compact)', 'Clean media (piece)', 'Clean carriers (spire)', 'Gifts - Board Games', 'Office', 'Gifts - Soft toys', 'PC - Headsets / Headphones', 'Gifts - Souvenirs (per sample)', 'Game Consoles - PSP', 'Elements of a food', 'Gifts - Figures', 'Gifts - Attributes', 'Gifts - Bags, Albums, Mouse pads', 'Games - PS2', 'Delivery of goods', 'Books - Business Literature', 'Accessories - PS2', 'Books - Computer Literature', 'Game Consoles - PS2', 'PC Games - Digit', 'Programs - Home and Office (Figure)', 'Programs - Teaching (Numbers)', 'Books - Number', 'Books - Audiobooks (Numbers)', 'Books - Travel Guides', 'Payment cards (Movies, Music, Games)', 'Movies - Blu-Ray 4K', 'Books - Fiction', 'Game Consoles - PS4', 'Games - PS4', 'Game Consoles - Other', 'Tickets (figure)', 'Game Consoles - XBOX ONE', 'Books - Cognitive Literature', 'Payment cards - Live! (Numeral)', 'Games - XBOX ONE', 'Accessories - XBOX ONE', 'Programs - MAC (Number)', 'Android games - Digit', 'MAC Games - Digit', 'Books - Comics, manga', 'Books - Postcards', 'Books - Artbook, encyclopedia', 'Official - Tickets', 'Payment Cards - Windows (Digital)']\n"
     ]
    }
   ],
   "source": [
    "print(translated_item_category_names)"
   ]
  },
  {
   "cell_type": "markdown",
   "metadata": {},
   "source": [
    "#### We can split each category name by ` - `, however;\n",
    "* Many word seem to have been translated as `number`, `figure`, `numeral`, etc ...\n",
    "  * we doubt whether the translation is correct or not.\n",
    "  * **We consider them as `digital` type purchase and keep them in data.**\n",
    "* There are some inevident categorization\n",
    "  * For the first categry name, `'payment cards'` and `'payment cards ((movies, music, games))'` exist seperately\n",
    "  * `official - tickets` and `tickets (figure)` as the first category names exist seperately as well\n",
    "    * **For `payment cards`, we can combine them. For the `tickets` thing, we just leave them as divided.**\n"
   ]
  },
  {
   "cell_type": "code",
   "execution_count": 80,
   "metadata": {},
   "outputs": [],
   "source": [
    "import re"
   ]
  },
  {
   "cell_type": "code",
   "execution_count": 81,
   "metadata": {},
   "outputs": [
    {
     "data": {
      "text/plain": [
       "{'accessories': ['psp', 'ps3', 'ps4', 'psvita', 'xbox 360', 'ps2', 'xbox one'],\n",
       " 'android games': ['digit'],\n",
       " 'books': ['methodical materials 1с',\n",
       "  'audiobooks',\n",
       "  'audiobooks 1c',\n",
       "  'business literature',\n",
       "  'computer literature',\n",
       "  'number',\n",
       "  'audiobooks (numbers)',\n",
       "  'travel guides',\n",
       "  'fiction',\n",
       "  'cognitive literature',\n",
       "  'comics, manga',\n",
       "  'postcards',\n",
       "  'artbook, encyclopedia'],\n",
       " 'cinema': ['blu-ray', 'dvd', 'blu-ray 3d', 'collector&#39;s'],\n",
       " 'clean carriers (spire)': [''],\n",
       " 'clean media (piece)': [''],\n",
       " 'delivery of goods': [''],\n",
       " 'elements of a food': [''],\n",
       " 'game consoles': ['xbox 360',\n",
       "  'psvita',\n",
       "  'ps3',\n",
       "  'psp',\n",
       "  'ps2',\n",
       "  'ps4',\n",
       "  'other',\n",
       "  'xbox one'],\n",
       " 'games': ['xbox 360',\n",
       "  'ps3',\n",
       "  'psp',\n",
       "  'psvita',\n",
       "  'accessories for games',\n",
       "  'ps2',\n",
       "  'ps4',\n",
       "  'xbox one'],\n",
       " 'gifts': ['development',\n",
       "  'gadgets, robots, sports',\n",
       "  'certificates, services',\n",
       "  'postcards, stickers',\n",
       "  'souvenirs',\n",
       "  'board games (compact)',\n",
       "  'board games',\n",
       "  'soft toys',\n",
       "  'souvenirs (per sample)',\n",
       "  'figures',\n",
       "  'attributes',\n",
       "  'bags, albums, mouse pads'],\n",
       " 'mac games': ['digit'],\n",
       " 'movies': ['blu-ray 4k'],\n",
       " 'music': ['vinyl',\n",
       "  'cd of branded production',\n",
       "  'musical video',\n",
       "  'cd of local production',\n",
       "  'mp3',\n",
       "  'gift edition'],\n",
       " 'office': [''],\n",
       " 'official': ['tickets'],\n",
       " 'payment cards': ['psn', 'live!', 'live! (numeral)', 'windows (digital)'],\n",
       " 'payment cards (movies, music, games)': [''],\n",
       " 'pc': ['headsets / headphones'],\n",
       " 'pc games': ['additional edition',\n",
       "  'standard edition',\n",
       "  'collector&#39;s edition',\n",
       "  'digit'],\n",
       " 'programs': ['home and office',\n",
       "  '1c: enterprise 8',\n",
       "  'teaching',\n",
       "  'home and office (figure)',\n",
       "  'teaching (numbers)',\n",
       "  'mac (number)'],\n",
       " 'tickets (figure)': ['']}"
      ]
     },
     "execution_count": 81,
     "metadata": {},
     "output_type": "execute_result"
    }
   ],
   "source": [
    "translated_item_category_names_dict = {}\n",
    "\n",
    "for i, word in enumerate(translated_item_category_names):\n",
    "    \n",
    "    word = word.lower()\n",
    "    split = word.split(' - ')\n",
    "    \n",
    "    first_cat = split[0]\n",
    "    \n",
    "    try:\n",
    "        second_cat = split[1]\n",
    "    except:\n",
    "        second_cat = ''\n",
    "        \n",
    "    if first_cat not in translated_item_category_names_dict:\n",
    "        translated_item_category_names_dict[first_cat] = []\n",
    "        \n",
    "    translated_item_category_names_dict[first_cat].append(second_cat)\n",
    "    \n",
    "translated_item_category_names_dict"
   ]
  },
  {
   "cell_type": "code",
   "execution_count": 82,
   "metadata": {},
   "outputs": [
    {
     "name": "stdout",
     "output_type": "stream",
     "text": [
      "cinema - blu-ray\n",
      "music - vinyl\n",
      "music - cd of branded production\n",
      "music - musical video\n",
      "music - cd of local production\n",
      "games - xbox 360\n",
      "games - ps3\n",
      "pc games - additional edition\n",
      "pc games - standard edition\n",
      "games - psp\n",
      "cinema - dvd\n",
      "programs - home and office\n",
      "books - methodical materials 1с\n",
      "pc games - collector&#39;s edition\n",
      "games - psvita\n",
      "gifts - development\n",
      "programs - 1c: enterprise 8\n",
      "programs - teaching\n",
      "music - mp3\n",
      "music - gift edition\n",
      "accessories - psp\n",
      "gifts - gadgets, robots, sports\n",
      "books - audiobooks\n",
      "game consoles - xbox 360\n",
      "accessories - ps3\n",
      "accessories - ps4\n",
      "accessories - psvita\n",
      "gifts - certificates, services\n",
      "payment cards - psn\n",
      "payment cards - live!\n",
      "accessories - xbox 360\n",
      "cinema - blu-ray 3d\n",
      "games - accessories for games\n",
      "game consoles - psvita\n",
      "books - audiobooks 1c\n",
      "cinema - collector&#39;s\n",
      "gifts - postcards, stickers\n",
      "game consoles - ps3\n",
      "gifts - souvenirs\n",
      "gifts - board games (compact)\n",
      "clean media (piece)\n",
      "clean carriers (spire)\n",
      "gifts - board games\n",
      "office\n",
      "gifts - soft toys\n",
      "pc - headsets / headphones\n",
      "gifts - souvenirs (per sample)\n",
      "game consoles - psp\n",
      "elements of a food\n",
      "gifts - digitals\n",
      "gifts - attributes\n",
      "gifts - bags, albums, mouse pads\n",
      "games - ps2\n",
      "delivery of goods\n",
      "books - business literature\n",
      "accessories - ps2\n",
      "books - computer literature\n",
      "game consoles - ps2\n",
      "pc games - digital\n",
      "programs - home and office (digital)\n",
      "programs - teaching (digital)\n",
      "books - digital\n",
      "books - audiobooks (digital)\n",
      "books - travel guides\n",
      "payment cards - movies, music, games\n",
      "movies - blu-ray 4k\n",
      "books - fiction\n",
      "game consoles - ps4\n",
      "games - ps4\n",
      "game consoles - other\n",
      "tickets (digital)\n",
      "game consoles - xbox one\n",
      "books - cognitive literature\n",
      "payment cards - live! (digital)\n",
      "games - xbox one\n",
      "accessories - xbox one\n",
      "programs - mac (digital)\n",
      "android games - digital\n",
      "mac games - digital\n",
      "books - comics, manga\n",
      "books - postcards\n",
      "books - artbook, encyclopedia\n",
      "official - tickets\n",
      "payment cards - windows (digital)\n"
     ]
    }
   ],
   "source": [
    "# reflect the above\n",
    "\n",
    "for i, word in enumerate(translated_item_category_names):\n",
    "    \n",
    "    word_ = re.sub(r'figure|numbers|number|numeral|digital|digit', 'digital', word.lower())\n",
    "    translated_item_category_names[i] = word_\n",
    "    \n",
    "    if word_ == 'payment cards (movies, music, games)':\n",
    "        translated_item_category_names[i] = 'payment cards - movies, music, games'\n",
    "    \n",
    "    print(translated_item_category_names[i])"
   ]
  },
  {
   "cell_type": "code",
   "execution_count": 83,
   "metadata": {},
   "outputs": [],
   "source": [
    "translated_catname_mapped = dict(zip(item_category_names,\n",
    "                                    translated_item_category_names))\n",
    "\n",
    "train['item_category_name_eng'] = train['item_category_name'].map(translated_catname_mapped)\n",
    "train = train.drop(['item_category_name'], axis=1)"
   ]
  },
  {
   "cell_type": "code",
   "execution_count": 84,
   "metadata": {},
   "outputs": [
    {
     "data": {
      "text/html": [
       "<div>\n",
       "<style scoped>\n",
       "    .dataframe tbody tr th:only-of-type {\n",
       "        vertical-align: middle;\n",
       "    }\n",
       "\n",
       "    .dataframe tbody tr th {\n",
       "        vertical-align: top;\n",
       "    }\n",
       "\n",
       "    .dataframe thead th {\n",
       "        text-align: right;\n",
       "    }\n",
       "</style>\n",
       "<table border=\"1\" class=\"dataframe\">\n",
       "  <thead>\n",
       "    <tr style=\"text-align: right;\">\n",
       "      <th></th>\n",
       "      <th>date</th>\n",
       "      <th>date_block_num</th>\n",
       "      <th>shop_id</th>\n",
       "      <th>item_id</th>\n",
       "      <th>item_price</th>\n",
       "      <th>item_cnt_day</th>\n",
       "      <th>item_category_id</th>\n",
       "      <th>item_category_name_eng</th>\n",
       "    </tr>\n",
       "  </thead>\n",
       "  <tbody>\n",
       "    <tr>\n",
       "      <th>0</th>\n",
       "      <td>2013-02-01</td>\n",
       "      <td>0</td>\n",
       "      <td>59</td>\n",
       "      <td>22154</td>\n",
       "      <td>999.000000</td>\n",
       "      <td>1</td>\n",
       "      <td>37</td>\n",
       "      <td>cinema - blu-ray</td>\n",
       "    </tr>\n",
       "    <tr>\n",
       "      <th>1</th>\n",
       "      <td>2013-03-01</td>\n",
       "      <td>0</td>\n",
       "      <td>25</td>\n",
       "      <td>2552</td>\n",
       "      <td>899.000000</td>\n",
       "      <td>1</td>\n",
       "      <td>58</td>\n",
       "      <td>music - vinyl</td>\n",
       "    </tr>\n",
       "    <tr>\n",
       "      <th>2</th>\n",
       "      <td>2013-05-01</td>\n",
       "      <td>0</td>\n",
       "      <td>25</td>\n",
       "      <td>2552</td>\n",
       "      <td>899.000000</td>\n",
       "      <td>-1</td>\n",
       "      <td>58</td>\n",
       "      <td>music - vinyl</td>\n",
       "    </tr>\n",
       "    <tr>\n",
       "      <th>3</th>\n",
       "      <td>2013-06-01</td>\n",
       "      <td>0</td>\n",
       "      <td>25</td>\n",
       "      <td>2554</td>\n",
       "      <td>1709.050049</td>\n",
       "      <td>1</td>\n",
       "      <td>58</td>\n",
       "      <td>music - vinyl</td>\n",
       "    </tr>\n",
       "    <tr>\n",
       "      <th>4</th>\n",
       "      <td>2013-01-15</td>\n",
       "      <td>0</td>\n",
       "      <td>25</td>\n",
       "      <td>2555</td>\n",
       "      <td>1099.000000</td>\n",
       "      <td>1</td>\n",
       "      <td>56</td>\n",
       "      <td>music - cd of branded production</td>\n",
       "    </tr>\n",
       "  </tbody>\n",
       "</table>\n",
       "</div>"
      ],
      "text/plain": [
       "        date  date_block_num shop_id item_id   item_price  item_cnt_day  \\\n",
       "0 2013-02-01               0      59   22154   999.000000             1   \n",
       "1 2013-03-01               0      25    2552   899.000000             1   \n",
       "2 2013-05-01               0      25    2552   899.000000            -1   \n",
       "3 2013-06-01               0      25    2554  1709.050049             1   \n",
       "4 2013-01-15               0      25    2555  1099.000000             1   \n",
       "\n",
       "  item_category_id            item_category_name_eng  \n",
       "0               37                  cinema - blu-ray  \n",
       "1               58                     music - vinyl  \n",
       "2               58                     music - vinyl  \n",
       "3               58                     music - vinyl  \n",
       "4               56  music - cd of branded production  "
      ]
     },
     "execution_count": 84,
     "metadata": {},
     "output_type": "execute_result"
    }
   ],
   "source": [
    "train.head()"
   ]
  },
  {
   "cell_type": "code",
   "execution_count": null,
   "metadata": {},
   "outputs": [],
   "source": []
  },
  {
   "cell_type": "code",
   "execution_count": 85,
   "metadata": {},
   "outputs": [],
   "source": [
    "# Get translated shop_name as English\n",
    "# Since we did not execute `id-name` mapping regarding shop, \n",
    "\n",
    "shop_id_item_name_mapped = dict(zip(shops['shop_id'].tolist(),\n",
    "                                       shops['shop_name'].tolist()))\n",
    "train['shop_name'] = train['shop_id'].map(shop_id_item_name_mapped)"
   ]
  },
  {
   "cell_type": "code",
   "execution_count": 86,
   "metadata": {},
   "outputs": [
    {
     "data": {
      "text/plain": [
       "60"
      ]
     },
     "execution_count": 86,
     "metadata": {},
     "output_type": "execute_result"
    }
   ],
   "source": [
    "shop_names = train['shop_name'].unique()\n",
    "len(shop_names)"
   ]
  },
  {
   "cell_type": "markdown",
   "metadata": {},
   "source": [
    "### As above, we gather translations, validate and reflect to the `shop_name` data."
   ]
  },
  {
   "cell_type": "code",
   "execution_count": 87,
   "metadata": {},
   "outputs": [],
   "source": [
    "shop_loc_names = train['shop_name'].apply(lambda x: x.split(' ')[0])\n",
    "train['shop_loc_name'] = shop_loc_names"
   ]
  },
  {
   "cell_type": "code",
   "execution_count": 88,
   "metadata": {},
   "outputs": [
    {
     "data": {
      "text/html": [
       "<div>\n",
       "<style scoped>\n",
       "    .dataframe tbody tr th:only-of-type {\n",
       "        vertical-align: middle;\n",
       "    }\n",
       "\n",
       "    .dataframe tbody tr th {\n",
       "        vertical-align: top;\n",
       "    }\n",
       "\n",
       "    .dataframe thead th {\n",
       "        text-align: right;\n",
       "    }\n",
       "</style>\n",
       "<table border=\"1\" class=\"dataframe\">\n",
       "  <thead>\n",
       "    <tr style=\"text-align: right;\">\n",
       "      <th></th>\n",
       "      <th>date</th>\n",
       "      <th>date_block_num</th>\n",
       "      <th>shop_id</th>\n",
       "      <th>item_id</th>\n",
       "      <th>item_price</th>\n",
       "      <th>item_cnt_day</th>\n",
       "      <th>item_category_id</th>\n",
       "      <th>item_category_name_eng</th>\n",
       "      <th>shop_name</th>\n",
       "      <th>shop_loc_name</th>\n",
       "    </tr>\n",
       "  </thead>\n",
       "  <tbody>\n",
       "    <tr>\n",
       "      <th>0</th>\n",
       "      <td>2013-02-01</td>\n",
       "      <td>0</td>\n",
       "      <td>59</td>\n",
       "      <td>22154</td>\n",
       "      <td>999.000000</td>\n",
       "      <td>1</td>\n",
       "      <td>37</td>\n",
       "      <td>cinema - blu-ray</td>\n",
       "      <td>Ярославль ТЦ \"Альтаир\"</td>\n",
       "      <td>Ярославль</td>\n",
       "    </tr>\n",
       "    <tr>\n",
       "      <th>1</th>\n",
       "      <td>2013-03-01</td>\n",
       "      <td>0</td>\n",
       "      <td>25</td>\n",
       "      <td>2552</td>\n",
       "      <td>899.000000</td>\n",
       "      <td>1</td>\n",
       "      <td>58</td>\n",
       "      <td>music - vinyl</td>\n",
       "      <td>Москва ТРК \"Атриум\"</td>\n",
       "      <td>Москва</td>\n",
       "    </tr>\n",
       "    <tr>\n",
       "      <th>2</th>\n",
       "      <td>2013-05-01</td>\n",
       "      <td>0</td>\n",
       "      <td>25</td>\n",
       "      <td>2552</td>\n",
       "      <td>899.000000</td>\n",
       "      <td>-1</td>\n",
       "      <td>58</td>\n",
       "      <td>music - vinyl</td>\n",
       "      <td>Москва ТРК \"Атриум\"</td>\n",
       "      <td>Москва</td>\n",
       "    </tr>\n",
       "    <tr>\n",
       "      <th>3</th>\n",
       "      <td>2013-06-01</td>\n",
       "      <td>0</td>\n",
       "      <td>25</td>\n",
       "      <td>2554</td>\n",
       "      <td>1709.050049</td>\n",
       "      <td>1</td>\n",
       "      <td>58</td>\n",
       "      <td>music - vinyl</td>\n",
       "      <td>Москва ТРК \"Атриум\"</td>\n",
       "      <td>Москва</td>\n",
       "    </tr>\n",
       "    <tr>\n",
       "      <th>4</th>\n",
       "      <td>2013-01-15</td>\n",
       "      <td>0</td>\n",
       "      <td>25</td>\n",
       "      <td>2555</td>\n",
       "      <td>1099.000000</td>\n",
       "      <td>1</td>\n",
       "      <td>56</td>\n",
       "      <td>music - cd of branded production</td>\n",
       "      <td>Москва ТРК \"Атриум\"</td>\n",
       "      <td>Москва</td>\n",
       "    </tr>\n",
       "  </tbody>\n",
       "</table>\n",
       "</div>"
      ],
      "text/plain": [
       "        date  date_block_num shop_id item_id   item_price  item_cnt_day  \\\n",
       "0 2013-02-01               0      59   22154   999.000000             1   \n",
       "1 2013-03-01               0      25    2552   899.000000             1   \n",
       "2 2013-05-01               0      25    2552   899.000000            -1   \n",
       "3 2013-06-01               0      25    2554  1709.050049             1   \n",
       "4 2013-01-15               0      25    2555  1099.000000             1   \n",
       "\n",
       "  item_category_id            item_category_name_eng               shop_name  \\\n",
       "0               37                  cinema - blu-ray  Ярославль ТЦ \"Альтаир\"   \n",
       "1               58                     music - vinyl     Москва ТРК \"Атриум\"   \n",
       "2               58                     music - vinyl     Москва ТРК \"Атриум\"   \n",
       "3               58                     music - vinyl     Москва ТРК \"Атриум\"   \n",
       "4               56  music - cd of branded production     Москва ТРК \"Атриум\"   \n",
       "\n",
       "  shop_loc_name  \n",
       "0     Ярославль  \n",
       "1        Москва  \n",
       "2        Москва  \n",
       "3        Москва  \n",
       "4        Москва  "
      ]
     },
     "execution_count": 88,
     "metadata": {},
     "output_type": "execute_result"
    }
   ],
   "source": [
    "train.head()"
   ]
  },
  {
   "cell_type": "code",
   "execution_count": null,
   "metadata": {},
   "outputs": [],
   "source": []
  },
  {
   "cell_type": "code",
   "execution_count": 89,
   "metadata": {},
   "outputs": [],
   "source": [
    "shop_loc_names_uniques = train['shop_loc_name'].unique().tolist()\n",
    "shop_loc_names_translated = []\n",
    "\n",
    "for unique_shop_loc_name in shop_loc_names_uniques:\n",
    "    text = unique_shop_loc_name\n",
    "    target = 'en'\n",
    "    translation = translate_client.translate(\n",
    "        text,\n",
    "        target_language=target)\n",
    "\n",
    "    shop_loc_names_translated.append(translation['translatedText'].lower())"
   ]
  },
  {
   "cell_type": "code",
   "execution_count": 90,
   "metadata": {},
   "outputs": [
    {
     "name": "stdout",
     "output_type": "stream",
     "text": [
      "['Ярославль', 'Москва', 'Курск', 'Красноярск', 'Волжский', 'Воронеж', 'Адыгея', 'Балашиха', '!Якутск', 'Коломна', 'Калуга', 'Жуковский', 'Казань', 'Интернет-магазин', 'Уфа', 'Н.Новгород', 'Чехов', 'Химки', 'Сургут', 'Тюмень', 'СПб', 'РостовНаДону', 'Омск', 'Самара', 'Новосибирск', 'Сергиев', 'Вологда', 'Якутск', 'Цифровой', 'Выездная', 'Томск', 'Мытищи']\n"
     ]
    }
   ],
   "source": [
    "print(shop_loc_names_uniques)"
   ]
  },
  {
   "cell_type": "code",
   "execution_count": 91,
   "metadata": {},
   "outputs": [
    {
     "name": "stdout",
     "output_type": "stream",
     "text": [
      "['yaroslavl', 'moscow', 'kursk', 'krasnoyarsk', 'volzhsky', 'voronezh', 'adygea', 'balashiha', 'yakutsk', 'kolomna', 'kaluga', 'zhukovsky', 'kazan', 'online store', 'ufa', 'n.novgorod', 'chekhov', 'khimki', 'surgut', 'tyumen', 'st. petersburg', 'rostovnadonu', 'omsk', 'samara', 'novosibirsk', 'sergiev', 'vologda', 'yakutsk', 'digital', 'traveling', 'tomsk', 'mytischi']\n"
     ]
    }
   ],
   "source": [
    "print(shop_loc_names_translated)"
   ]
  },
  {
   "cell_type": "code",
   "execution_count": 92,
   "metadata": {},
   "outputs": [],
   "source": [
    "shoploc_traveling_idx = shop_loc_names_translated.index('traveling')  # convert to 'export'\n",
    "shoploc_onlinestore_idx = shop_loc_names_translated.index('online store')  # convert to 'online'\n",
    "shoploc_digital_idx = shop_loc_names_translated.index('digital')  # convert to 'online'\n",
    "\n",
    "shop_loc_names_translated[shoploc_traveling_idx] = 'export'\n",
    "shop_loc_names_translated[shoploc_onlinestore_idx] = 'online'\n",
    "shop_loc_names_translated[shoploc_digital_idx] = 'online'"
   ]
  },
  {
   "cell_type": "code",
   "execution_count": 93,
   "metadata": {},
   "outputs": [
    {
     "data": {
      "text/html": [
       "<div>\n",
       "<style scoped>\n",
       "    .dataframe tbody tr th:only-of-type {\n",
       "        vertical-align: middle;\n",
       "    }\n",
       "\n",
       "    .dataframe tbody tr th {\n",
       "        vertical-align: top;\n",
       "    }\n",
       "\n",
       "    .dataframe thead th {\n",
       "        text-align: right;\n",
       "    }\n",
       "</style>\n",
       "<table border=\"1\" class=\"dataframe\">\n",
       "  <thead>\n",
       "    <tr style=\"text-align: right;\">\n",
       "      <th></th>\n",
       "      <th>date</th>\n",
       "      <th>date_block_num</th>\n",
       "      <th>shop_id</th>\n",
       "      <th>item_id</th>\n",
       "      <th>item_price</th>\n",
       "      <th>item_cnt_day</th>\n",
       "      <th>item_category_id</th>\n",
       "      <th>item_category_name_eng</th>\n",
       "      <th>shop_name</th>\n",
       "      <th>shop_loc_name</th>\n",
       "      <th>shop_loc_name_eng</th>\n",
       "    </tr>\n",
       "  </thead>\n",
       "  <tbody>\n",
       "    <tr>\n",
       "      <th>0</th>\n",
       "      <td>2013-02-01</td>\n",
       "      <td>0</td>\n",
       "      <td>59</td>\n",
       "      <td>22154</td>\n",
       "      <td>999.000000</td>\n",
       "      <td>1</td>\n",
       "      <td>37</td>\n",
       "      <td>cinema - blu-ray</td>\n",
       "      <td>Ярославль ТЦ \"Альтаир\"</td>\n",
       "      <td>Ярославль</td>\n",
       "      <td>yaroslavl</td>\n",
       "    </tr>\n",
       "    <tr>\n",
       "      <th>1</th>\n",
       "      <td>2013-03-01</td>\n",
       "      <td>0</td>\n",
       "      <td>25</td>\n",
       "      <td>2552</td>\n",
       "      <td>899.000000</td>\n",
       "      <td>1</td>\n",
       "      <td>58</td>\n",
       "      <td>music - vinyl</td>\n",
       "      <td>Москва ТРК \"Атриум\"</td>\n",
       "      <td>Москва</td>\n",
       "      <td>moscow</td>\n",
       "    </tr>\n",
       "    <tr>\n",
       "      <th>2</th>\n",
       "      <td>2013-05-01</td>\n",
       "      <td>0</td>\n",
       "      <td>25</td>\n",
       "      <td>2552</td>\n",
       "      <td>899.000000</td>\n",
       "      <td>-1</td>\n",
       "      <td>58</td>\n",
       "      <td>music - vinyl</td>\n",
       "      <td>Москва ТРК \"Атриум\"</td>\n",
       "      <td>Москва</td>\n",
       "      <td>moscow</td>\n",
       "    </tr>\n",
       "    <tr>\n",
       "      <th>3</th>\n",
       "      <td>2013-06-01</td>\n",
       "      <td>0</td>\n",
       "      <td>25</td>\n",
       "      <td>2554</td>\n",
       "      <td>1709.050049</td>\n",
       "      <td>1</td>\n",
       "      <td>58</td>\n",
       "      <td>music - vinyl</td>\n",
       "      <td>Москва ТРК \"Атриум\"</td>\n",
       "      <td>Москва</td>\n",
       "      <td>moscow</td>\n",
       "    </tr>\n",
       "    <tr>\n",
       "      <th>4</th>\n",
       "      <td>2013-01-15</td>\n",
       "      <td>0</td>\n",
       "      <td>25</td>\n",
       "      <td>2555</td>\n",
       "      <td>1099.000000</td>\n",
       "      <td>1</td>\n",
       "      <td>56</td>\n",
       "      <td>music - cd of branded production</td>\n",
       "      <td>Москва ТРК \"Атриум\"</td>\n",
       "      <td>Москва</td>\n",
       "      <td>moscow</td>\n",
       "    </tr>\n",
       "  </tbody>\n",
       "</table>\n",
       "</div>"
      ],
      "text/plain": [
       "        date  date_block_num shop_id item_id   item_price  item_cnt_day  \\\n",
       "0 2013-02-01               0      59   22154   999.000000             1   \n",
       "1 2013-03-01               0      25    2552   899.000000             1   \n",
       "2 2013-05-01               0      25    2552   899.000000            -1   \n",
       "3 2013-06-01               0      25    2554  1709.050049             1   \n",
       "4 2013-01-15               0      25    2555  1099.000000             1   \n",
       "\n",
       "  item_category_id            item_category_name_eng               shop_name  \\\n",
       "0               37                  cinema - blu-ray  Ярославль ТЦ \"Альтаир\"   \n",
       "1               58                     music - vinyl     Москва ТРК \"Атриум\"   \n",
       "2               58                     music - vinyl     Москва ТРК \"Атриум\"   \n",
       "3               58                     music - vinyl     Москва ТРК \"Атриум\"   \n",
       "4               56  music - cd of branded production     Москва ТРК \"Атриум\"   \n",
       "\n",
       "  shop_loc_name shop_loc_name_eng  \n",
       "0     Ярославль         yaroslavl  \n",
       "1        Москва            moscow  \n",
       "2        Москва            moscow  \n",
       "3        Москва            moscow  \n",
       "4        Москва            moscow  "
      ]
     },
     "execution_count": 93,
     "metadata": {},
     "output_type": "execute_result"
    }
   ],
   "source": [
    "shop_name_loc_mapped = dict(zip(shop_loc_names_uniques,\n",
    "                               shop_loc_names_translated))\n",
    "train['shop_loc_name_eng'] = train['shop_loc_name'].map(shop_name_loc_mapped)\n",
    "train.head()"
   ]
  },
  {
   "cell_type": "code",
   "execution_count": null,
   "metadata": {},
   "outputs": [],
   "source": []
  },
  {
   "cell_type": "markdown",
   "metadata": {},
   "source": [
    "### Get additional information from the name of the city (location) using `web scraping`\n",
    "SOURCE TO CRAWL : https://en.wikipedia.org/wiki/List_of_cities_and_towns_in_Russia_by_population\n",
    "\n",
    "* HTML PATTERN\n",
    "```html\n",
    "<tr>\n",
    "<th align=\"center\">1</th>\n",
    "<td><i><b><a href=\"/wiki/Moscow\" title=\"Moscow\">Moscow</a></b></i></td>\n",
    "<td><span lang=\"ru\" xml:lang=\"ru\">Москва</span></td>\n",
    "<td><span class=\"flagicon\"><img alt=\"\" src=\"//upload.wikimedia.org/wikipedia/commons/thumb/6/6d/Flag_of_Moscow.svg/23px-Flag_of_Moscow.svg.png\" width=\"23\" height=\"15\" class=\"thumbborder\" srcset=\"//upload.wikimedia.org/wikipedia/commons/thumb/6/6d/Flag_of_Moscow.svg/35px-Flag_of_Moscow.svg.png 1.5x, //upload.wikimedia.org/wikipedia/commons/thumb/6/6d/Flag_of_Moscow.svg/45px-Flag_of_Moscow.svg.png 2x\" data-file-width=\"1200\" data-file-height=\"800\" />&#160;</span><a href=\"/wiki/Moscow\" title=\"Moscow\">Moscow (federal city)</a><sup id=\"cite_ref-3\" class=\"reference\"><a href=\"#cite_note-3\">[3]</a></sup></td>\n",
    "<td><a href=\"/wiki/Central_Federal_District\" title=\"Central Federal District\">Central</a></td>\n",
    "<td align=\"right\" rowspan=\"1\" style=\"background-color:#F9F9F9;\">12,228,685</td>\n",
    "<td align=\"right\" rowspan=\"1\" style=\"background-color:#F9F9F9;\">11,503,501</td>\n",
    "<td align=\"right\" rowspan=\"1\" style=\"background-color:#F9F9F9;\"><span style=\"display:none\" class=\"sortkey\">7000630402866049210♠</span><span style=\"color:green\">+6.30%</span></td>\n",
    "</tr>\n",
    "<tr>\n",
    "<th align=\"center\">2</th>\n",
    "<td><i><b><a href=\"/wiki/Saint_Petersburg\" title=\"Saint Petersburg\">Saint Petersburg</a></b></i></td>\n",
    "<td><span lang=\"ru\" xml:lang=\"ru\">Санкт-Петербург</span></td>\n",
    "<td><span class=\"flagicon\"><img alt=\"\" src=\"//upload.wikimedia.org/wikipedia/commons/thumb/f/f4/Flag_of_Saint_Petersburg_Russia.svg/23px-Flag_of_Saint_Petersburg_Russia.svg.png\" width=\"23\" height=\"15\" class=\"thumbborder\" srcset=\"//upload.wikimedia.org/wikipedia/commons/thumb/f/f4/Flag_of_Saint_Petersburg_Russia.svg/35px-Flag_of_Saint_Petersburg_Russia.svg.png 1.5x, //upload.wikimedia.org/wikipedia/commons/thumb/f/f4/Flag_of_Saint_Petersburg_Russia.svg/45px-Flag_of_Saint_Petersburg_Russia.svg.png 2x\" data-file-width=\"1200\" data-file-height=\"800\" />&#160;</span><a href=\"/wiki/Saint_Petersburg\" title=\"Saint Petersburg\">Saint Petersburg (federal city)</a><sup id=\"cite_ref-4\" class=\"reference\"><a href=\"#cite_note-4\">[4]</a></sup></td>\n",
    "<td><a href=\"/wiki/Northwestern_Federal_District\" title=\"Northwestern Federal District\">Northwest</a></td>\n",
    "<td align=\"right\" rowspan=\"1\" style=\"background-color:#F9F9F9;\">5,281,579</td>\n",
    "<td align=\"right\" rowspan=\"1\" style=\"background-color:#F9F9F9;\">4,879,566</td>\n",
    "<td align=\"right\" rowspan=\"1\" style=\"background-color:#F9F9F9;\"><span style=\"display:none\" class=\"sortkey\">7000823870401588990♠</span><span style=\"color:green\">+8.24%</span></td>\n",
    "</tr>\n",
    "```\n",
    "\n",
    "### What to crawl for each city\n",
    "\n",
    "* `shop_loc_population`\n",
    "* `shop_loc_latitude`\n",
    "* `shop_loc_longitude`"
   ]
  },
  {
   "cell_type": "code",
   "execution_count": 183,
   "metadata": {},
   "outputs": [],
   "source": [
    "# get the information above for each city except for 'online' and 'export' values."
   ]
  },
  {
   "cell_type": "code",
   "execution_count": 94,
   "metadata": {},
   "outputs": [],
   "source": [
    "import requests\n",
    "from bs4 import BeautifulSoup"
   ]
  },
  {
   "cell_type": "code",
   "execution_count": 95,
   "metadata": {},
   "outputs": [
    {
     "name": "stdout",
     "output_type": "stream",
     "text": [
      "['Ярославль', 'Москва', 'Курск', 'Красноярск', 'Волжский', 'Воронеж', 'Адыгея', 'Балашиха', '!Якутск', 'Коломна', 'Калуга', 'Жуковский', 'Казань', 'Интернет-магазин', 'Уфа', 'Н.Новгород', 'Чехов', 'Химки', 'Сургут', 'Тюмень', 'СПб', 'РостовНаДону', 'Омск', 'Самара', 'Новосибирск', 'Сергиев', 'Вологда', 'Якутск', 'Цифровой', 'Выездная', 'Томск', 'Мытищи']\n"
     ]
    }
   ],
   "source": [
    "print(shop_loc_names_uniques)"
   ]
  },
  {
   "cell_type": "code",
   "execution_count": 96,
   "metadata": {},
   "outputs": [
    {
     "name": "stdout",
     "output_type": "stream",
     "text": [
      "{'Ярославль': 'yaroslavl', 'Москва': 'moscow', 'Курск': 'kursk', 'Красноярск': 'krasnoyarsk', 'Волжский': 'volzhsky', 'Воронеж': 'voronezh', 'Адыгея': 'adygea', 'Балашиха': 'balashiha', '!Якутск': 'yakutsk', 'Коломна': 'kolomna', 'Калуга': 'kaluga', 'Жуковский': 'zhukovsky', 'Казань': 'kazan', 'Интернет-магазин': 'online', 'Уфа': 'ufa', 'Н.Новгород': 'n.novgorod', 'Чехов': 'chekhov', 'Химки': 'khimki', 'Сургут': 'surgut', 'Тюмень': 'tyumen', 'СПб': 'st. petersburg', 'РостовНаДону': 'rostovnadonu', 'Омск': 'omsk', 'Самара': 'samara', 'Новосибирск': 'novosibirsk', 'Сергиев': 'sergiev', 'Вологда': 'vologda', 'Якутск': 'yakutsk', 'Цифровой': 'online', 'Выездная': 'export', 'Томск': 'tomsk', 'Мытищи': 'mytischi'}\n"
     ]
    }
   ],
   "source": [
    "print(shop_name_loc_mapped)"
   ]
  },
  {
   "cell_type": "code",
   "execution_count": null,
   "metadata": {},
   "outputs": [],
   "source": []
  },
  {
   "cell_type": "markdown",
   "metadata": {},
   "source": [
    "First five rows of wikipedia table we're scraping\n",
    "![wiki-table](data/wiki-table.png)"
   ]
  },
  {
   "cell_type": "code",
   "execution_count": 97,
   "metadata": {},
   "outputs": [],
   "source": [
    "url = 'https://en.wikipedia.org/wiki/List_of_cities_and_towns_in_Russia_by_population'\n",
    "res = requests.get(url)\n",
    "soup = BeautifulSoup(res.content, 'lxml')\n",
    "table_classes ={\"class\": [\"sortable\", \"plainrowheaders\"]}\n",
    "wikitable = soup.findAll(\"table\", table_classes)[0]\n",
    "\n",
    "#print(wikitables)"
   ]
  },
  {
   "cell_type": "code",
   "execution_count": 98,
   "metadata": {
    "scrolled": true
   },
   "outputs": [
    {
     "data": {
      "text/plain": [
       "['Rank (2017)',\n",
       " 'City/town',\n",
       " 'Russian',\n",
       " 'Federal Subject',\n",
       " 'Federal District',\n",
       " 'Population',\n",
       " '(2017 estimate)[1]',\n",
       " 'Population',\n",
       " '(2010 Census)[2]',\n",
       " 'Change']"
      ]
     },
     "execution_count": 98,
     "metadata": {},
     "output_type": "execute_result"
    }
   ],
   "source": [
    "# column names of wiki table\n",
    "\n",
    "wikitable.findAll(\"tr\")[0].text.split('\\n')[1:-1]"
   ]
  },
  {
   "cell_type": "code",
   "execution_count": 99,
   "metadata": {},
   "outputs": [
    {
     "data": {
      "text/plain": [
       "['1',\n",
       " 'Moscow',\n",
       " 'Москва',\n",
       " '\\xa0Moscow (federal city)[3]',\n",
       " 'Central',\n",
       " '12,228,685',\n",
       " '11,503,501',\n",
       " '7000630402866049210♠+6.30%']"
      ]
     },
     "execution_count": 99,
     "metadata": {},
     "output_type": "execute_result"
    }
   ],
   "source": [
    "# values in the first row of wiki table\n",
    "wikitable.findAll(\"tr\")[1].text.split('\\n')[1:-1]"
   ]
  },
  {
   "cell_type": "code",
   "execution_count": 100,
   "metadata": {},
   "outputs": [],
   "source": [
    "wikitable_cols = [\n",
    "    [],[],[],[],[],[],[],[]\n",
    "]\n",
    "\n",
    "for i, row in enumerate(wikitable.findAll(\"tr\")):\n",
    "    if i != 0:\n",
    "        row_values = row.text.split('\\n')[1:-1]\n",
    "        #print(row_values)\n",
    "\n",
    "        for j, val in enumerate(row_values):\n",
    "            wikitable_cols[j].append(str(val))"
   ]
  },
  {
   "cell_type": "code",
   "execution_count": 101,
   "metadata": {},
   "outputs": [
    {
     "data": {
      "text/html": [
       "<div>\n",
       "<style scoped>\n",
       "    .dataframe tbody tr th:only-of-type {\n",
       "        vertical-align: middle;\n",
       "    }\n",
       "\n",
       "    .dataframe tbody tr th {\n",
       "        vertical-align: top;\n",
       "    }\n",
       "\n",
       "    .dataframe thead th {\n",
       "        text-align: right;\n",
       "    }\n",
       "</style>\n",
       "<table border=\"1\" class=\"dataframe\">\n",
       "  <thead>\n",
       "    <tr style=\"text-align: right;\">\n",
       "      <th></th>\n",
       "      <th>change_perc</th>\n",
       "      <th>fed_dist</th>\n",
       "      <th>fed_sub</th>\n",
       "      <th>name_en</th>\n",
       "      <th>name_ru</th>\n",
       "      <th>pop_2010_cen</th>\n",
       "      <th>pop_2017_est</th>\n",
       "      <th>rank_2017</th>\n",
       "    </tr>\n",
       "  </thead>\n",
       "  <tbody>\n",
       "    <tr>\n",
       "      <th>0</th>\n",
       "      <td>7000630402866049210♠+6.30%</td>\n",
       "      <td>Central</td>\n",
       "      <td>Moscow (federal city)[3]</td>\n",
       "      <td>Moscow</td>\n",
       "      <td>Москва</td>\n",
       "      <td>11,503,501</td>\n",
       "      <td>12,228,685</td>\n",
       "      <td>1</td>\n",
       "    </tr>\n",
       "    <tr>\n",
       "      <th>1</th>\n",
       "      <td>7000823870401588990♠+8.24%</td>\n",
       "      <td>Northwest</td>\n",
       "      <td>Saint Petersburg (federal city)[4]</td>\n",
       "      <td>Saint Petersburg</td>\n",
       "      <td>Санкт-Петербург</td>\n",
       "      <td>4,879,566</td>\n",
       "      <td>5,281,579</td>\n",
       "      <td>2</td>\n",
       "    </tr>\n",
       "    <tr>\n",
       "      <th>2</th>\n",
       "      <td>7000876408138671720♠+8.76%</td>\n",
       "      <td>Siberia</td>\n",
       "      <td>Novosibirsk Oblast</td>\n",
       "      <td>Novosibirsk</td>\n",
       "      <td>Новосибирск</td>\n",
       "      <td>1,473,754</td>\n",
       "      <td>1,602,915</td>\n",
       "      <td>3</td>\n",
       "    </tr>\n",
       "    <tr>\n",
       "      <th>3</th>\n",
       "      <td>7000783406382707600♠+7.83%</td>\n",
       "      <td>Ural</td>\n",
       "      <td>Sverdlovsk Oblast</td>\n",
       "      <td>Yekaterinburg</td>\n",
       "      <td>Екатеринбург</td>\n",
       "      <td>1,349,772</td>\n",
       "      <td>1,455,514</td>\n",
       "      <td>4</td>\n",
       "    </tr>\n",
       "    <tr>\n",
       "      <th>4</th>\n",
       "      <td>6999883322578659040♠+0.88%</td>\n",
       "      <td>Volga</td>\n",
       "      <td>Nizhny Novgorod Oblast</td>\n",
       "      <td>Nizhny Novgorod</td>\n",
       "      <td>Нижний Новгород</td>\n",
       "      <td>1,250,619</td>\n",
       "      <td>1,261,666</td>\n",
       "      <td>5</td>\n",
       "    </tr>\n",
       "  </tbody>\n",
       "</table>\n",
       "</div>"
      ],
      "text/plain": [
       "                  change_perc   fed_dist                              fed_sub  \\\n",
       "0  7000630402866049210♠+6.30%    Central             Moscow (federal city)[3]   \n",
       "1  7000823870401588990♠+8.24%  Northwest   Saint Petersburg (federal city)[4]   \n",
       "2  7000876408138671720♠+8.76%    Siberia                   Novosibirsk Oblast   \n",
       "3  7000783406382707600♠+7.83%       Ural                    Sverdlovsk Oblast   \n",
       "4  6999883322578659040♠+0.88%      Volga               Nizhny Novgorod Oblast   \n",
       "\n",
       "            name_en          name_ru pop_2010_cen pop_2017_est rank_2017  \n",
       "0            Moscow           Москва   11,503,501   12,228,685         1  \n",
       "1  Saint Petersburg  Санкт-Петербург    4,879,566    5,281,579         2  \n",
       "2       Novosibirsk      Новосибирск    1,473,754    1,602,915         3  \n",
       "3     Yekaterinburg     Екатеринбург    1,349,772    1,455,514         4  \n",
       "4   Nizhny Novgorod  Нижний Новгород    1,250,619    1,261,666         5  "
      ]
     },
     "execution_count": 101,
     "metadata": {},
     "output_type": "execute_result"
    }
   ],
   "source": [
    "wiki_ru_table = pd.DataFrame({'rank_2017' : wikitable_cols[0],\n",
    "                             'name_en' : wikitable_cols[1],\n",
    "                             'name_ru' : wikitable_cols[2],\n",
    "                             'fed_sub' : wikitable_cols[3],\n",
    "                             'fed_dist' : wikitable_cols[4],\n",
    "                             'pop_2017_est' : wikitable_cols[5],\n",
    "                             'pop_2010_cen' : wikitable_cols[6],\n",
    "                             'change_perc' : wikitable_cols[7]})\n",
    "\n",
    "wiki_ru_table.head()"
   ]
  },
  {
   "cell_type": "code",
   "execution_count": 103,
   "metadata": {
    "scrolled": true
   },
   "outputs": [
    {
     "data": {
      "text/html": [
       "<div>\n",
       "<style scoped>\n",
       "    .dataframe tbody tr th:only-of-type {\n",
       "        vertical-align: middle;\n",
       "    }\n",
       "\n",
       "    .dataframe tbody tr th {\n",
       "        vertical-align: top;\n",
       "    }\n",
       "\n",
       "    .dataframe thead th {\n",
       "        text-align: right;\n",
       "    }\n",
       "</style>\n",
       "<table border=\"1\" class=\"dataframe\">\n",
       "  <thead>\n",
       "    <tr style=\"text-align: right;\">\n",
       "      <th></th>\n",
       "      <th>date</th>\n",
       "      <th>date_block_num</th>\n",
       "      <th>shop_id</th>\n",
       "      <th>item_id</th>\n",
       "      <th>item_price</th>\n",
       "      <th>item_cnt_day</th>\n",
       "      <th>item_category_id</th>\n",
       "      <th>item_category_name_eng</th>\n",
       "      <th>shop_name</th>\n",
       "      <th>shop_loc_name</th>\n",
       "      <th>shop_loc_name_eng</th>\n",
       "    </tr>\n",
       "  </thead>\n",
       "  <tbody>\n",
       "    <tr>\n",
       "      <th>0</th>\n",
       "      <td>2013-02-01</td>\n",
       "      <td>0</td>\n",
       "      <td>59</td>\n",
       "      <td>22154</td>\n",
       "      <td>999.000000</td>\n",
       "      <td>1</td>\n",
       "      <td>37</td>\n",
       "      <td>cinema - blu-ray</td>\n",
       "      <td>Ярославль ТЦ \"Альтаир\"</td>\n",
       "      <td>Ярославль</td>\n",
       "      <td>yaroslavl</td>\n",
       "    </tr>\n",
       "    <tr>\n",
       "      <th>1</th>\n",
       "      <td>2013-03-01</td>\n",
       "      <td>0</td>\n",
       "      <td>25</td>\n",
       "      <td>2552</td>\n",
       "      <td>899.000000</td>\n",
       "      <td>1</td>\n",
       "      <td>58</td>\n",
       "      <td>music - vinyl</td>\n",
       "      <td>Москва ТРК \"Атриум\"</td>\n",
       "      <td>Москва</td>\n",
       "      <td>moscow</td>\n",
       "    </tr>\n",
       "    <tr>\n",
       "      <th>2</th>\n",
       "      <td>2013-05-01</td>\n",
       "      <td>0</td>\n",
       "      <td>25</td>\n",
       "      <td>2552</td>\n",
       "      <td>899.000000</td>\n",
       "      <td>-1</td>\n",
       "      <td>58</td>\n",
       "      <td>music - vinyl</td>\n",
       "      <td>Москва ТРК \"Атриум\"</td>\n",
       "      <td>Москва</td>\n",
       "      <td>moscow</td>\n",
       "    </tr>\n",
       "    <tr>\n",
       "      <th>3</th>\n",
       "      <td>2013-06-01</td>\n",
       "      <td>0</td>\n",
       "      <td>25</td>\n",
       "      <td>2554</td>\n",
       "      <td>1709.050049</td>\n",
       "      <td>1</td>\n",
       "      <td>58</td>\n",
       "      <td>music - vinyl</td>\n",
       "      <td>Москва ТРК \"Атриум\"</td>\n",
       "      <td>Москва</td>\n",
       "      <td>moscow</td>\n",
       "    </tr>\n",
       "    <tr>\n",
       "      <th>4</th>\n",
       "      <td>2013-01-15</td>\n",
       "      <td>0</td>\n",
       "      <td>25</td>\n",
       "      <td>2555</td>\n",
       "      <td>1099.000000</td>\n",
       "      <td>1</td>\n",
       "      <td>56</td>\n",
       "      <td>music - cd of branded production</td>\n",
       "      <td>Москва ТРК \"Атриум\"</td>\n",
       "      <td>Москва</td>\n",
       "      <td>moscow</td>\n",
       "    </tr>\n",
       "  </tbody>\n",
       "</table>\n",
       "</div>"
      ],
      "text/plain": [
       "        date  date_block_num shop_id item_id   item_price  item_cnt_day  \\\n",
       "0 2013-02-01               0      59   22154   999.000000             1   \n",
       "1 2013-03-01               0      25    2552   899.000000             1   \n",
       "2 2013-05-01               0      25    2552   899.000000            -1   \n",
       "3 2013-06-01               0      25    2554  1709.050049             1   \n",
       "4 2013-01-15               0      25    2555  1099.000000             1   \n",
       "\n",
       "  item_category_id            item_category_name_eng               shop_name  \\\n",
       "0               37                  cinema - blu-ray  Ярославль ТЦ \"Альтаир\"   \n",
       "1               58                     music - vinyl     Москва ТРК \"Атриум\"   \n",
       "2               58                     music - vinyl     Москва ТРК \"Атриум\"   \n",
       "3               58                     music - vinyl     Москва ТРК \"Атриум\"   \n",
       "4               56  music - cd of branded production     Москва ТРК \"Атриум\"   \n",
       "\n",
       "  shop_loc_name shop_loc_name_eng  \n",
       "0     Ярославль         yaroslavl  \n",
       "1        Москва            moscow  \n",
       "2        Москва            moscow  \n",
       "3        Москва            moscow  \n",
       "4        Москва            moscow  "
      ]
     },
     "execution_count": 103,
     "metadata": {},
     "output_type": "execute_result"
    }
   ],
   "source": [
    "train.head()"
   ]
  },
  {
   "cell_type": "code",
   "execution_count": null,
   "metadata": {},
   "outputs": [],
   "source": []
  },
  {
   "cell_type": "code",
   "execution_count": 185,
   "metadata": {},
   "outputs": [],
   "source": [
    "wiki_ru_table['name_en_lowered'] = wiki_ru_table['name_en'].apply(lambda x: x.lower())"
   ]
  },
  {
   "cell_type": "code",
   "execution_count": 174,
   "metadata": {},
   "outputs": [],
   "source": [
    "joined_wiki_cityname_uniques = ' '.join(wiki_ru_table_reloaded.name_en_lowered.unique())\n",
    "train_wiki_cityname_mapped = {}\n",
    "\n",
    "for train_cityname in train.shop_loc_name_eng.unique():\n",
    "    \n",
    "    find_all_in_wiki = re.findall(train_cityname, joined_wiki_cityname_uniques)\n",
    "    \n",
    "    if (train_cityname in ['online', 'export']) or find_all_in_wiki:\n",
    "        train_wiki_cityname_mapped[train_cityname] = train_cityname\n",
    "        \n",
    "    else:\n",
    "        train_wiki_cityname_mapped[train_cityname] = 'NOT FOUND'\n",
    "        "
   ]
  },
  {
   "cell_type": "code",
   "execution_count": 175,
   "metadata": {},
   "outputs": [
    {
     "data": {
      "text/plain": [
       "{'adygea': 'NOT FOUND',\n",
       " 'balashiha': 'NOT FOUND',\n",
       " 'chekhov': 'chekhov',\n",
       " 'export': 'export',\n",
       " 'kaluga': 'kaluga',\n",
       " 'kazan': 'kazan',\n",
       " 'khimki': 'khimki',\n",
       " 'kolomna': 'kolomna',\n",
       " 'krasnoyarsk': 'krasnoyarsk',\n",
       " 'kursk': 'kursk',\n",
       " 'moscow': 'moscow',\n",
       " 'mytischi': 'NOT FOUND',\n",
       " 'n.novgorod': 'NOT FOUND',\n",
       " 'novosibirsk': 'novosibirsk',\n",
       " 'omsk': 'omsk',\n",
       " 'online': 'online',\n",
       " 'rostovnadonu': 'NOT FOUND',\n",
       " 'samara': 'samara',\n",
       " 'sergiev': 'NOT FOUND',\n",
       " 'st. petersburg': 'NOT FOUND',\n",
       " 'surgut': 'surgut',\n",
       " 'tomsk': 'tomsk',\n",
       " 'tyumen': 'tyumen',\n",
       " 'ufa': 'ufa',\n",
       " 'vologda': 'vologda',\n",
       " 'volzhsky': 'volzhsky',\n",
       " 'voronezh': 'voronezh',\n",
       " 'yakutsk': 'yakutsk',\n",
       " 'yaroslavl': 'yaroslavl',\n",
       " 'zhukovsky': 'zhukovsky'}"
      ]
     },
     "execution_count": 175,
     "metadata": {},
     "output_type": "execute_result"
    }
   ],
   "source": [
    "train_wiki_cityname_mapped"
   ]
  },
  {
   "cell_type": "code",
   "execution_count": 181,
   "metadata": {},
   "outputs": [
    {
     "name": "stdout",
     "output_type": "stream",
     "text": [
      "Адыгея ТЦ \"Мега\"\n"
     ]
    }
   ],
   "source": [
    "# manually find the city names not matched except for 'adgyea' - just a subtle difference in text\n",
    "\n",
    "# 'adygea' is the name of federal subject in Russia - not a name of city\n",
    "# Full name in Russian for 'adygea' translated loc name = 'Адыгея ТЦ \"Мега\"'\n",
    "print([shopname for shopname in train.shop_name.unique() if shopname.startswith('Адыгея')][0])\n",
    "\n",
    "# google the full name directly and get the city name - 'urgenevskoye Shosse, 27, Novaya Adygeya, Krasnodar Krai'\n",
    "# >>> 'krasnodar' found in wikitable.\n",
    "\n",
    "# finish the dictionary for mapping.\n",
    "train_wiki_cityname_mapped = {'adygea': 'krasnodar',\n",
    "                             'balashiha': 'balashikha',\n",
    "                             'chekhov': 'chekhov',\n",
    "                             'export': 'export',\n",
    "                             'kaluga': 'kaluga',\n",
    "                             'kazan': 'kazan',\n",
    "                             'khimki': 'khimki',\n",
    "                             'kolomna': 'kolomna',\n",
    "                             'krasnoyarsk': 'krasnoyarsk',\n",
    "                             'kursk': 'kursk',\n",
    "                             'moscow': 'moscow',\n",
    "                             'mytischi': 'mytishchi',\n",
    "                             'n.novgorod': 'nizhny novgorod',\n",
    "                             'novosibirsk': 'novosibirsk',\n",
    "                             'omsk': 'omsk',\n",
    "                             'online': 'online',\n",
    "                             'rostovnadonu': 'rostov-on-don',\n",
    "                             'samara': 'samara',\n",
    "                             'sergiev': 'sergiyev posad',\n",
    "                             'st. petersburg': 'saint petersburg',\n",
    "                             'surgut': 'surgut',\n",
    "                             'tomsk': 'tomsk',\n",
    "                             'tyumen': 'tyumen',\n",
    "                             'ufa': 'ufa',\n",
    "                             'vologda': 'vologda',\n",
    "                             'volzhsky': 'volzhsky',\n",
    "                             'voronezh': 'voronezh',\n",
    "                             'yakutsk': 'yakutsk',\n",
    "                             'yaroslavl': 'yaroslavl',\n",
    "                             'zhukovsky': 'zhukovsky'\n",
    "}"
   ]
  },
  {
   "cell_type": "code",
   "execution_count": null,
   "metadata": {},
   "outputs": [],
   "source": []
  },
  {
   "cell_type": "code",
   "execution_count": 187,
   "metadata": {},
   "outputs": [],
   "source": [
    "# Using the dictionary above, we created a modified version of city(location) name column.\n",
    "train['shop_loc_name_eng_corrected'] = train['shop_loc_name_eng'].map(train_wiki_cityname_mapped)"
   ]
  },
  {
   "cell_type": "code",
   "execution_count": 212,
   "metadata": {},
   "outputs": [],
   "source": [
    "# write a function to additional info from wiki table by city\n",
    "\n",
    "def grab_city_info(cityname):\n",
    "    \n",
    "    if cityname in ['online', 'export']:\n",
    "        return None, None, None, None, None\n",
    "    \n",
    "    city_data = wiki_ru_table[wiki_ru_table['name_en_lowered'] == cityname]\n",
    "    \n",
    "    city_fed_dist = city_data['fed_dist'].values[0]\n",
    "    city_pop_2010 = city_data['pop_2010_cen'].values[0]\n",
    "    city_pop_2017_est = city_data['pop_2017_est'].values[0]\n",
    "    city_pop_rank_2017 = city_data['rank_2017'].values[0]\n",
    "    city_pop_change_2010_2017 = city_data['change_perc'].values[0]\n",
    "    \n",
    "    return city_fed_dist, city_pop_2010, city_pop_2017_est, city_pop_rank_2017, city_pop_change_2010_2017"
   ]
  },
  {
   "cell_type": "code",
   "execution_count": 198,
   "metadata": {},
   "outputs": [
    {
     "data": {
      "text/html": [
       "<div>\n",
       "<style scoped>\n",
       "    .dataframe tbody tr th:only-of-type {\n",
       "        vertical-align: middle;\n",
       "    }\n",
       "\n",
       "    .dataframe tbody tr th {\n",
       "        vertical-align: top;\n",
       "    }\n",
       "\n",
       "    .dataframe thead th {\n",
       "        text-align: right;\n",
       "    }\n",
       "</style>\n",
       "<table border=\"1\" class=\"dataframe\">\n",
       "  <thead>\n",
       "    <tr style=\"text-align: right;\">\n",
       "      <th></th>\n",
       "      <th>change_perc</th>\n",
       "      <th>fed_dist</th>\n",
       "      <th>fed_sub</th>\n",
       "      <th>name_en</th>\n",
       "      <th>name_ru</th>\n",
       "      <th>pop_2010_cen</th>\n",
       "      <th>pop_2017_est</th>\n",
       "      <th>rank_2017</th>\n",
       "      <th>name_en_lowered</th>\n",
       "    </tr>\n",
       "  </thead>\n",
       "  <tbody>\n",
       "    <tr>\n",
       "      <th>0</th>\n",
       "      <td>+6.30</td>\n",
       "      <td>Central</td>\n",
       "      <td>Moscow (federal city)[3]</td>\n",
       "      <td>Moscow</td>\n",
       "      <td>Москва</td>\n",
       "      <td>11,503,501</td>\n",
       "      <td>12,228,685</td>\n",
       "      <td>1</td>\n",
       "      <td>moscow</td>\n",
       "    </tr>\n",
       "    <tr>\n",
       "      <th>1</th>\n",
       "      <td>+8.24</td>\n",
       "      <td>Northwest</td>\n",
       "      <td>Saint Petersburg (federal city)[4]</td>\n",
       "      <td>Saint Petersburg</td>\n",
       "      <td>Санкт-Петербург</td>\n",
       "      <td>4,879,566</td>\n",
       "      <td>5,281,579</td>\n",
       "      <td>2</td>\n",
       "      <td>saint petersburg</td>\n",
       "    </tr>\n",
       "    <tr>\n",
       "      <th>2</th>\n",
       "      <td>+8.76</td>\n",
       "      <td>Siberia</td>\n",
       "      <td>Novosibirsk Oblast</td>\n",
       "      <td>Novosibirsk</td>\n",
       "      <td>Новосибирск</td>\n",
       "      <td>1,473,754</td>\n",
       "      <td>1,602,915</td>\n",
       "      <td>3</td>\n",
       "      <td>novosibirsk</td>\n",
       "    </tr>\n",
       "    <tr>\n",
       "      <th>3</th>\n",
       "      <td>+7.83</td>\n",
       "      <td>Ural</td>\n",
       "      <td>Sverdlovsk Oblast</td>\n",
       "      <td>Yekaterinburg</td>\n",
       "      <td>Екатеринбург</td>\n",
       "      <td>1,349,772</td>\n",
       "      <td>1,455,514</td>\n",
       "      <td>4</td>\n",
       "      <td>yekaterinburg</td>\n",
       "    </tr>\n",
       "    <tr>\n",
       "      <th>4</th>\n",
       "      <td>+0.88</td>\n",
       "      <td>Volga</td>\n",
       "      <td>Nizhny Novgorod Oblast</td>\n",
       "      <td>Nizhny Novgorod</td>\n",
       "      <td>Нижний Новгород</td>\n",
       "      <td>1,250,619</td>\n",
       "      <td>1,261,666</td>\n",
       "      <td>5</td>\n",
       "      <td>nizhny novgorod</td>\n",
       "    </tr>\n",
       "  </tbody>\n",
       "</table>\n",
       "</div>"
      ],
      "text/plain": [
       "  change_perc   fed_dist                              fed_sub  \\\n",
       "0       +6.30    Central             Moscow (federal city)[3]   \n",
       "1       +8.24  Northwest   Saint Petersburg (federal city)[4]   \n",
       "2       +8.76    Siberia                   Novosibirsk Oblast   \n",
       "3       +7.83       Ural                    Sverdlovsk Oblast   \n",
       "4       +0.88      Volga               Nizhny Novgorod Oblast   \n",
       "\n",
       "            name_en          name_ru pop_2010_cen pop_2017_est rank_2017  \\\n",
       "0            Moscow           Москва   11,503,501   12,228,685         1   \n",
       "1  Saint Petersburg  Санкт-Петербург    4,879,566    5,281,579         2   \n",
       "2       Novosibirsk      Новосибирск    1,473,754    1,602,915         3   \n",
       "3     Yekaterinburg     Екатеринбург    1,349,772    1,455,514         4   \n",
       "4   Nizhny Novgorod  Нижний Новгород    1,250,619    1,261,666         5   \n",
       "\n",
       "    name_en_lowered  \n",
       "0            moscow  \n",
       "1  saint petersburg  \n",
       "2       novosibirsk  \n",
       "3     yekaterinburg  \n",
       "4   nizhny novgorod  "
      ]
     },
     "execution_count": 198,
     "metadata": {},
     "output_type": "execute_result"
    }
   ],
   "source": [
    "# clean data before executing 'grab_city_info()' function\n",
    "wiki_ru_table.head()"
   ]
  },
  {
   "cell_type": "code",
   "execution_count": 194,
   "metadata": {},
   "outputs": [],
   "source": [
    "wiki_ru_table['change_perc'] = wiki_ru_table['change_perc'].apply(lambda x: x.split('♠')[1].split('%')[0])"
   ]
  },
  {
   "cell_type": "code",
   "execution_count": 205,
   "metadata": {},
   "outputs": [
    {
     "name": "stdout",
     "output_type": "stream",
     "text": [
      "('Central', '11,503,501', '12,228,685', '1', '+6.30')\n",
      "('Central', '415,159', '449,063', '42', '+8.17')\n"
     ]
    }
   ],
   "source": [
    "# function test\n",
    "print(grab_city_info('moscow'))\n",
    "print(grab_city_info('kursk'))"
   ]
  },
  {
   "cell_type": "code",
   "execution_count": 214,
   "metadata": {},
   "outputs": [
    {
     "data": {
      "text/plain": [
       "{'balashikha': ('Central', '215,494', '450,771', '41', '+109.18'),\n",
       " 'chekhov': ('Central', '60,720', '70,548', '226', '+16.19'),\n",
       " 'export': (None, None, None, None, None),\n",
       " 'kaluga': ('Central', '324,698', '341,892', '56', '+5.30'),\n",
       " 'kazan': ('Volga', '1,143,535', '1,231,878', '6', '+7.73'),\n",
       " 'khimki': ('Central', '207,425', '244,668', '78', '+17.95'),\n",
       " 'kolomna': ('Central', '144,589', '144,125', '121', '−0.32'),\n",
       " 'krasnodar': ('South', '744,995', '881,476', '16', '+18.32'),\n",
       " 'krasnoyarsk': ('Siberia', '973,826', '1,082,933', '12', '+11.20'),\n",
       " 'kursk': ('Central', '415,159', '449,063', '42', '+8.17'),\n",
       " 'moscow': ('Central', '11,503,501', '12,228,685', '1', '+6.30'),\n",
       " 'mytishchi': ('Central', '173,160', '205,397', '93', '+18.62'),\n",
       " 'nizhny novgorod': ('Volga', '1,250,619', '1,261,666', '5', '+0.88'),\n",
       " 'novosibirsk': ('Siberia', '1,473,754', '1,602,915', '3', '+8.76'),\n",
       " 'omsk': ('Siberia', '1,154,116', '1,178,391', '8', '+2.10'),\n",
       " 'online': (None, None, None, None, None),\n",
       " 'rostov-on-don': ('South[5]', '1,089,261', '1,125,299', '10', '+3.31'),\n",
       " 'saint petersburg': ('Northwest', '4,879,566', '5,281,579', '2', '+8.24'),\n",
       " 'samara': ('Volga', '1,164,685', '1,169,719', '9', '+0.43'),\n",
       " 'sergiyev posad': ('Central', '111,179', '104,579', '159', '−5.94'),\n",
       " 'surgut': ('Ural', '306,675', '360,590', '51', '+17.58'),\n",
       " 'tomsk': ('Siberia', '524,669', '572,740', '28', '+9.16'),\n",
       " 'tyumen': ('Ural', '581,907', '744,554', '18', '+27.95'),\n",
       " 'ufa': ('Volga', '1,062,319', '1,115,560', '11', '+5.01'),\n",
       " 'vologda': ('Northwest', '301,755', '313,012', '63', '+3.73'),\n",
       " 'volzhsky': ('South', '314,255', '326,055', '58', '+3.75'),\n",
       " 'voronezh': ('Central', '889,680', '1,039,801', '14', '+16.87'),\n",
       " 'yakutsk': ('Far East', '269,601', '307,911', '64', '+14.21'),\n",
       " 'yaroslavl': ('Central', '591,486', '608,079', '25', '+2.81'),\n",
       " 'zhukovsky': ('Central', '104,736', '108,980', '150', '+4.05')}"
      ]
     },
     "execution_count": 214,
     "metadata": {},
     "output_type": "execute_result"
    }
   ],
   "source": [
    "# create a dictionary to extract the city info\n",
    "\n",
    "train_city_name_unique = train['shop_loc_name_eng_corrected'].unique().tolist()\n",
    "grabbed_city_info = [grab_city_info(city) for city in train_city_name_unique]\n",
    "\n",
    "grabbed_city_info_dict = {k:v for (k,v) in zip(train_city_name_unique,\n",
    "                                              grabbed_city_info)}\n",
    "\n",
    "grabbed_city_info_dict"
   ]
  },
  {
   "cell_type": "code",
   "execution_count": 216,
   "metadata": {},
   "outputs": [],
   "source": [
    "train['shop_loc_fed'] = train['shop_loc_name_eng_corrected'].apply(lambda x: grabbed_city_info_dict[x][0])\n",
    "train['shop_loc_pop_2010'] = train['shop_loc_name_eng_corrected'].apply(lambda x: grabbed_city_info_dict[x][1])\n",
    "train['shop_loc_pop_2017'] = train['shop_loc_name_eng_corrected'].apply(lambda x: grabbed_city_info_dict[x][2])\n",
    "train['shop_loc_pop_rank_2017'] = train['shop_loc_name_eng_corrected'].apply(lambda x: grabbed_city_info_dict[x][3])\n",
    "train['shop_loc_pop_change_2010_2017'] = train['shop_loc_name_eng_corrected'].apply(lambda x: grabbed_city_info_dict[x][4])"
   ]
  },
  {
   "cell_type": "code",
   "execution_count": null,
   "metadata": {},
   "outputs": [],
   "source": []
  },
  {
   "cell_type": "markdown",
   "metadata": {},
   "source": [
    "### Back to `category_name` - \n",
    "### Split the category name into two levels"
   ]
  },
  {
   "cell_type": "code",
   "execution_count": 227,
   "metadata": {},
   "outputs": [],
   "source": [
    "item_category_name_eng_uniques = pd.Series(train['item_category_name_eng'].unique().tolist())\n",
    "item_category_split_names = [tup for tup in item_category_name_eng_uniques.apply(lambda x: tuple(x.split(' - ')))]"
   ]
  },
  {
   "cell_type": "code",
   "execution_count": 229,
   "metadata": {},
   "outputs": [],
   "source": [
    "item_category_split_mapped = {k:v for (k,v) in zip(item_category_name_eng_uniques,\n",
    "                                                  item_category_split_names)}"
   ]
  },
  {
   "cell_type": "code",
   "execution_count": 234,
   "metadata": {},
   "outputs": [],
   "source": [
    "train['item_category_name_eng_1'] = train['item_category_name_eng'].apply(lambda x: item_category_split_mapped[x][0])\n",
    "train['item_category_name_eng_2'] = train['item_category_name_eng'].apply(lambda x: item_category_split_mapped[x][1]\\\n",
    "                                                                         if len(item_category_split_mapped[x]) == 2\\\n",
    "                                                                          else None)"
   ]
  },
  {
   "cell_type": "code",
   "execution_count": null,
   "metadata": {},
   "outputs": [],
   "source": []
  },
  {
   "cell_type": "markdown",
   "metadata": {},
   "source": [
    "### Drop unnecessary columns\n",
    "* `item_category_name_eng`\n",
    "* `shop_name`\n",
    "* `shop_loc_name`\n",
    "* `shop_loc_name_eng`"
   ]
  },
  {
   "cell_type": "code",
   "execution_count": 239,
   "metadata": {},
   "outputs": [
    {
     "data": {
      "text/html": [
       "<div>\n",
       "<style scoped>\n",
       "    .dataframe tbody tr th:only-of-type {\n",
       "        vertical-align: middle;\n",
       "    }\n",
       "\n",
       "    .dataframe tbody tr th {\n",
       "        vertical-align: top;\n",
       "    }\n",
       "\n",
       "    .dataframe thead th {\n",
       "        text-align: right;\n",
       "    }\n",
       "</style>\n",
       "<table border=\"1\" class=\"dataframe\">\n",
       "  <thead>\n",
       "    <tr style=\"text-align: right;\">\n",
       "      <th></th>\n",
       "      <th>date</th>\n",
       "      <th>date_block_num</th>\n",
       "      <th>shop_id</th>\n",
       "      <th>item_id</th>\n",
       "      <th>item_price</th>\n",
       "      <th>item_cnt_day</th>\n",
       "      <th>item_category_id</th>\n",
       "      <th>shop_loc_name_eng_corrected</th>\n",
       "      <th>shop_loc_fed</th>\n",
       "      <th>shop_loc_pop_2010</th>\n",
       "      <th>shop_loc_pop_2017</th>\n",
       "      <th>shop_loc_pop_rank_2017</th>\n",
       "      <th>shop_loc_pop_change_2010_2017</th>\n",
       "      <th>item_category_name_eng_1</th>\n",
       "      <th>item_category_name_eng_2</th>\n",
       "    </tr>\n",
       "  </thead>\n",
       "  <tbody>\n",
       "    <tr>\n",
       "      <th>0</th>\n",
       "      <td>2013-02-01</td>\n",
       "      <td>0</td>\n",
       "      <td>59</td>\n",
       "      <td>22154</td>\n",
       "      <td>999.000000</td>\n",
       "      <td>1</td>\n",
       "      <td>37</td>\n",
       "      <td>yaroslavl</td>\n",
       "      <td>Central</td>\n",
       "      <td>591,486</td>\n",
       "      <td>608,079</td>\n",
       "      <td>25</td>\n",
       "      <td>+2.81</td>\n",
       "      <td>cinema</td>\n",
       "      <td>blu-ray</td>\n",
       "    </tr>\n",
       "    <tr>\n",
       "      <th>1</th>\n",
       "      <td>2013-03-01</td>\n",
       "      <td>0</td>\n",
       "      <td>25</td>\n",
       "      <td>2552</td>\n",
       "      <td>899.000000</td>\n",
       "      <td>1</td>\n",
       "      <td>58</td>\n",
       "      <td>moscow</td>\n",
       "      <td>Central</td>\n",
       "      <td>11,503,501</td>\n",
       "      <td>12,228,685</td>\n",
       "      <td>1</td>\n",
       "      <td>+6.30</td>\n",
       "      <td>music</td>\n",
       "      <td>vinyl</td>\n",
       "    </tr>\n",
       "    <tr>\n",
       "      <th>2</th>\n",
       "      <td>2013-05-01</td>\n",
       "      <td>0</td>\n",
       "      <td>25</td>\n",
       "      <td>2552</td>\n",
       "      <td>899.000000</td>\n",
       "      <td>-1</td>\n",
       "      <td>58</td>\n",
       "      <td>moscow</td>\n",
       "      <td>Central</td>\n",
       "      <td>11,503,501</td>\n",
       "      <td>12,228,685</td>\n",
       "      <td>1</td>\n",
       "      <td>+6.30</td>\n",
       "      <td>music</td>\n",
       "      <td>vinyl</td>\n",
       "    </tr>\n",
       "    <tr>\n",
       "      <th>3</th>\n",
       "      <td>2013-06-01</td>\n",
       "      <td>0</td>\n",
       "      <td>25</td>\n",
       "      <td>2554</td>\n",
       "      <td>1709.050049</td>\n",
       "      <td>1</td>\n",
       "      <td>58</td>\n",
       "      <td>moscow</td>\n",
       "      <td>Central</td>\n",
       "      <td>11,503,501</td>\n",
       "      <td>12,228,685</td>\n",
       "      <td>1</td>\n",
       "      <td>+6.30</td>\n",
       "      <td>music</td>\n",
       "      <td>vinyl</td>\n",
       "    </tr>\n",
       "    <tr>\n",
       "      <th>4</th>\n",
       "      <td>2013-01-15</td>\n",
       "      <td>0</td>\n",
       "      <td>25</td>\n",
       "      <td>2555</td>\n",
       "      <td>1099.000000</td>\n",
       "      <td>1</td>\n",
       "      <td>56</td>\n",
       "      <td>moscow</td>\n",
       "      <td>Central</td>\n",
       "      <td>11,503,501</td>\n",
       "      <td>12,228,685</td>\n",
       "      <td>1</td>\n",
       "      <td>+6.30</td>\n",
       "      <td>music</td>\n",
       "      <td>cd of branded production</td>\n",
       "    </tr>\n",
       "  </tbody>\n",
       "</table>\n",
       "</div>"
      ],
      "text/plain": [
       "        date  date_block_num shop_id item_id   item_price  item_cnt_day  \\\n",
       "0 2013-02-01               0      59   22154   999.000000             1   \n",
       "1 2013-03-01               0      25    2552   899.000000             1   \n",
       "2 2013-05-01               0      25    2552   899.000000            -1   \n",
       "3 2013-06-01               0      25    2554  1709.050049             1   \n",
       "4 2013-01-15               0      25    2555  1099.000000             1   \n",
       "\n",
       "  item_category_id shop_loc_name_eng_corrected shop_loc_fed shop_loc_pop_2010  \\\n",
       "0               37                   yaroslavl      Central           591,486   \n",
       "1               58                      moscow      Central        11,503,501   \n",
       "2               58                      moscow      Central        11,503,501   \n",
       "3               58                      moscow      Central        11,503,501   \n",
       "4               56                      moscow      Central        11,503,501   \n",
       "\n",
       "  shop_loc_pop_2017 shop_loc_pop_rank_2017 shop_loc_pop_change_2010_2017  \\\n",
       "0           608,079                     25                         +2.81   \n",
       "1        12,228,685                      1                         +6.30   \n",
       "2        12,228,685                      1                         +6.30   \n",
       "3        12,228,685                      1                         +6.30   \n",
       "4        12,228,685                      1                         +6.30   \n",
       "\n",
       "  item_category_name_eng_1  item_category_name_eng_2  \n",
       "0                   cinema                   blu-ray  \n",
       "1                    music                     vinyl  \n",
       "2                    music                     vinyl  \n",
       "3                    music                     vinyl  \n",
       "4                    music  cd of branded production  "
      ]
     },
     "execution_count": 239,
     "metadata": {},
     "output_type": "execute_result"
    }
   ],
   "source": [
    "train = train.drop(['item_category_name_eng',\n",
    "                   'shop_name',\n",
    "                   'shop_loc_name',\n",
    "                   'shop_loc_name_eng'], axis = 1)\n",
    "\n",
    "train.head()"
   ]
  },
  {
   "cell_type": "code",
   "execution_count": 241,
   "metadata": {},
   "outputs": [],
   "source": [
    "# rename olumns\n",
    "to_clean_columns = {\n",
    "    'date':'date',\n",
    "    'date_block_num':'date_block_num',\n",
    "    'item_id':'item_id',\n",
    "    'shop_id':'shop_id',\n",
    "    'item_price':'item_price',\n",
    "    'item_cnt_day':'item_cnt_day',\n",
    "    'item_category_name_eng_1':'item_first_categry',\n",
    "    'item_category_name_eng_2':'item_second_categry',\n",
    "    'shop_loc_name_eng_corrected':'shop_loc',\n",
    "    'shop_loc_fed':'shop_loc_dist',\n",
    "    'shop_loc_pop_2010':'shop_loc_pop_2010',\n",
    "    'shop_loc_pop_2017':'shop_loc_pop_2017',\n",
    "    'shop_loc_pop_rank_2017':'shop_loc_pop_rank_2017',\n",
    "    'shop_loc_pop_change_2010_2017':'shop_loc_pop_change_2010_2017'\n",
    "}\n",
    "\n",
    "\n",
    "train = train.rename(columns=to_clean_columns)"
   ]
  },
  {
   "cell_type": "code",
   "execution_count": null,
   "metadata": {},
   "outputs": [],
   "source": []
  },
  {
   "cell_type": "markdown",
   "metadata": {},
   "source": [
    "## Optimize memory usage and export as `csv`\n",
    "### to proceed EDA & Feature Engineering further in another notebook!\n",
    "\n",
    "New columns to be optimized\n",
    "* `shop_loc`                         \n",
    "  * object ---> category\n",
    "* `shop_loc_dist` \n",
    "  * object ---> category\n",
    "* `shop_loc_pop_2010`                \n",
    "  * object ---> float (None values exist)\n",
    "* `shop_loc_pop_2017`                \n",
    "  * object ---> float (None values exist)\n",
    "* `shop_loc_pop_rank_2017`           \n",
    "  * object ---> float (None values exist)\n",
    "* `shop_loc_pop_change_2010_2017`   \n",
    "  * object ---> float (None values exist)\n",
    "* `item_first_categry`               \n",
    "  * object ---> category\n",
    "* `item_second_categry` \n",
    "  * object ---> category"
   ]
  },
  {
   "cell_type": "code",
   "execution_count": 246,
   "metadata": {
    "scrolled": true
   },
   "outputs": [
    {
     "name": "stdout",
     "output_type": "stream",
     "text": [
      "<class 'pandas.core.frame.DataFrame'>\n",
      "RangeIndex: 2935849 entries, 0 to 2935848\n",
      "Data columns (total 15 columns):\n",
      "date                             datetime64[ns]\n",
      "date_block_num                   int8\n",
      "shop_id                          category\n",
      "item_id                          category\n",
      "item_price                       float32\n",
      "item_cnt_day                     int16\n",
      "item_category_id                 category\n",
      "shop_loc                         object\n",
      "shop_loc_dist                    object\n",
      "shop_loc_pop_2010                object\n",
      "shop_loc_pop_2017                object\n",
      "shop_loc_pop_rank_2017           object\n",
      "shop_loc_pop_change_2010_2017    object\n",
      "item_first_categry               object\n",
      "item_second_categry              object\n",
      "dtypes: category(3), datetime64[ns](1), float32(1), int16(1), int8(1), object(8)\n",
      "memory usage: 1.5 GB\n"
     ]
    }
   ],
   "source": [
    "# before memory optimization - 1.5GB\n",
    "train.info(memory_usage='deep')"
   ]
  },
  {
   "cell_type": "code",
   "execution_count": 255,
   "metadata": {},
   "outputs": [],
   "source": [
    "train['shop_loc_pop_2010'] = train['shop_loc_pop_2010'].apply(lambda x: re.sub(r',', '', x) if x is not None else None)\n",
    "train['shop_loc_pop_2017'] = train['shop_loc_pop_2017'].apply(lambda x: re.sub(r',', '', x) if x is not None else None)"
   ]
  },
  {
   "cell_type": "code",
   "execution_count": 284,
   "metadata": {},
   "outputs": [],
   "source": [
    "train['shop_loc_pop_change_2010_2017'] =\\\n",
    "            100 * (train['shop_loc_pop_2017'].astype('float') /\\\n",
    "                                                train['shop_loc_pop_2010'].astype('float') - 1).apply(lambda x:\\\n",
    "                                                                                                     round(x, 3))"
   ]
  },
  {
   "cell_type": "code",
   "execution_count": 285,
   "metadata": {},
   "outputs": [],
   "source": [
    "for col_to_float in ['shop_loc_pop_2010', 'shop_loc_pop_2017', \n",
    "                     'shop_loc_pop_rank_2017', 'shop_loc_pop_change_2010_2017']:\n",
    "    \n",
    "    train[col_to_float] = pd.to_numeric(train[col_to_float].astype('float'),\n",
    "                                      downcast='float')\n"
   ]
  },
  {
   "cell_type": "code",
   "execution_count": 286,
   "metadata": {},
   "outputs": [],
   "source": [
    "for col_to_cat in ['shop_loc', 'shop_loc_dist', 'item_first_categry', 'item_second_categry']:\n",
    "    \n",
    "    train[col_to_cat] = train[col_to_cat].astype('category')"
   ]
  },
  {
   "cell_type": "code",
   "execution_count": 287,
   "metadata": {},
   "outputs": [
    {
     "name": "stdout",
     "output_type": "stream",
     "text": [
      "<class 'pandas.core.frame.DataFrame'>\n",
      "RangeIndex: 2935849 entries, 0 to 2935848\n",
      "Data columns (total 15 columns):\n",
      "date                             datetime64[ns]\n",
      "date_block_num                   int8\n",
      "shop_id                          category\n",
      "item_id                          category\n",
      "item_price                       float32\n",
      "item_cnt_day                     int16\n",
      "item_category_id                 category\n",
      "shop_loc                         category\n",
      "shop_loc_dist                    category\n",
      "shop_loc_pop_2010                float32\n",
      "shop_loc_pop_2017                float32\n",
      "shop_loc_pop_rank_2017           float32\n",
      "shop_loc_pop_change_2010_2017    float32\n",
      "item_first_categry               category\n",
      "item_second_categry              category\n",
      "dtypes: category(7), datetime64[ns](1), float32(5), int16(1), int8(1)\n",
      "memory usage: 110.0 MB\n"
     ]
    }
   ],
   "source": [
    "# after memory optimization - 110MB\n",
    "train.info(memory_usage='deep')"
   ]
  },
  {
   "cell_type": "code",
   "execution_count": 290,
   "metadata": {},
   "outputs": [],
   "source": [
    "# export in the local data folder\n",
    "# filesize - about 320MB (original sales_train.csv - about 95MB)\n",
    "train.to_csv('data/sales_train_opt_ver1.csv', index=False)"
   ]
  },
  {
   "cell_type": "code",
   "execution_count": 291,
   "metadata": {},
   "outputs": [],
   "source": [
    "train_reloaded = pd.read_csv('data/sales_train_opt_ver1.csv')"
   ]
  },
  {
   "cell_type": "code",
   "execution_count": 293,
   "metadata": {},
   "outputs": [
    {
     "data": {
      "text/html": [
       "<div>\n",
       "<style scoped>\n",
       "    .dataframe tbody tr th:only-of-type {\n",
       "        vertical-align: middle;\n",
       "    }\n",
       "\n",
       "    .dataframe tbody tr th {\n",
       "        vertical-align: top;\n",
       "    }\n",
       "\n",
       "    .dataframe thead th {\n",
       "        text-align: right;\n",
       "    }\n",
       "</style>\n",
       "<table border=\"1\" class=\"dataframe\">\n",
       "  <thead>\n",
       "    <tr style=\"text-align: right;\">\n",
       "      <th></th>\n",
       "      <th>date</th>\n",
       "      <th>date_block_num</th>\n",
       "      <th>shop_id</th>\n",
       "      <th>item_id</th>\n",
       "      <th>item_price</th>\n",
       "      <th>item_cnt_day</th>\n",
       "      <th>item_category_id</th>\n",
       "      <th>shop_loc</th>\n",
       "      <th>shop_loc_dist</th>\n",
       "      <th>shop_loc_pop_2010</th>\n",
       "      <th>shop_loc_pop_2017</th>\n",
       "      <th>shop_loc_pop_rank_2017</th>\n",
       "      <th>shop_loc_pop_change_2010_2017</th>\n",
       "      <th>item_first_categry</th>\n",
       "      <th>item_second_categry</th>\n",
       "    </tr>\n",
       "  </thead>\n",
       "  <tbody>\n",
       "    <tr>\n",
       "      <th>0</th>\n",
       "      <td>2013-02-01</td>\n",
       "      <td>0</td>\n",
       "      <td>59</td>\n",
       "      <td>22154</td>\n",
       "      <td>999.000000</td>\n",
       "      <td>1</td>\n",
       "      <td>37</td>\n",
       "      <td>yaroslavl</td>\n",
       "      <td>Central</td>\n",
       "      <td>591486.0</td>\n",
       "      <td>608079.0</td>\n",
       "      <td>25.0</td>\n",
       "      <td>2.8</td>\n",
       "      <td>cinema</td>\n",
       "      <td>blu-ray</td>\n",
       "    </tr>\n",
       "    <tr>\n",
       "      <th>1</th>\n",
       "      <td>2013-03-01</td>\n",
       "      <td>0</td>\n",
       "      <td>25</td>\n",
       "      <td>2552</td>\n",
       "      <td>899.000000</td>\n",
       "      <td>1</td>\n",
       "      <td>58</td>\n",
       "      <td>moscow</td>\n",
       "      <td>Central</td>\n",
       "      <td>11503501.0</td>\n",
       "      <td>12228685.0</td>\n",
       "      <td>1.0</td>\n",
       "      <td>6.3</td>\n",
       "      <td>music</td>\n",
       "      <td>vinyl</td>\n",
       "    </tr>\n",
       "    <tr>\n",
       "      <th>2</th>\n",
       "      <td>2013-05-01</td>\n",
       "      <td>0</td>\n",
       "      <td>25</td>\n",
       "      <td>2552</td>\n",
       "      <td>899.000000</td>\n",
       "      <td>-1</td>\n",
       "      <td>58</td>\n",
       "      <td>moscow</td>\n",
       "      <td>Central</td>\n",
       "      <td>11503501.0</td>\n",
       "      <td>12228685.0</td>\n",
       "      <td>1.0</td>\n",
       "      <td>6.3</td>\n",
       "      <td>music</td>\n",
       "      <td>vinyl</td>\n",
       "    </tr>\n",
       "    <tr>\n",
       "      <th>3</th>\n",
       "      <td>2013-06-01</td>\n",
       "      <td>0</td>\n",
       "      <td>25</td>\n",
       "      <td>2554</td>\n",
       "      <td>1709.050049</td>\n",
       "      <td>1</td>\n",
       "      <td>58</td>\n",
       "      <td>moscow</td>\n",
       "      <td>Central</td>\n",
       "      <td>11503501.0</td>\n",
       "      <td>12228685.0</td>\n",
       "      <td>1.0</td>\n",
       "      <td>6.3</td>\n",
       "      <td>music</td>\n",
       "      <td>vinyl</td>\n",
       "    </tr>\n",
       "    <tr>\n",
       "      <th>4</th>\n",
       "      <td>2013-01-15</td>\n",
       "      <td>0</td>\n",
       "      <td>25</td>\n",
       "      <td>2555</td>\n",
       "      <td>1099.000000</td>\n",
       "      <td>1</td>\n",
       "      <td>56</td>\n",
       "      <td>moscow</td>\n",
       "      <td>Central</td>\n",
       "      <td>11503501.0</td>\n",
       "      <td>12228685.0</td>\n",
       "      <td>1.0</td>\n",
       "      <td>6.3</td>\n",
       "      <td>music</td>\n",
       "      <td>cd of branded production</td>\n",
       "    </tr>\n",
       "  </tbody>\n",
       "</table>\n",
       "</div>"
      ],
      "text/plain": [
       "         date  date_block_num  shop_id  item_id   item_price  item_cnt_day  \\\n",
       "0  2013-02-01               0       59    22154   999.000000             1   \n",
       "1  2013-03-01               0       25     2552   899.000000             1   \n",
       "2  2013-05-01               0       25     2552   899.000000            -1   \n",
       "3  2013-06-01               0       25     2554  1709.050049             1   \n",
       "4  2013-01-15               0       25     2555  1099.000000             1   \n",
       "\n",
       "   item_category_id   shop_loc shop_loc_dist  shop_loc_pop_2010  \\\n",
       "0                37  yaroslavl       Central           591486.0   \n",
       "1                58     moscow       Central         11503501.0   \n",
       "2                58     moscow       Central         11503501.0   \n",
       "3                58     moscow       Central         11503501.0   \n",
       "4                56     moscow       Central         11503501.0   \n",
       "\n",
       "   shop_loc_pop_2017  shop_loc_pop_rank_2017  shop_loc_pop_change_2010_2017  \\\n",
       "0           608079.0                    25.0                            2.8   \n",
       "1         12228685.0                     1.0                            6.3   \n",
       "2         12228685.0                     1.0                            6.3   \n",
       "3         12228685.0                     1.0                            6.3   \n",
       "4         12228685.0                     1.0                            6.3   \n",
       "\n",
       "  item_first_categry       item_second_categry  \n",
       "0             cinema                   blu-ray  \n",
       "1              music                     vinyl  \n",
       "2              music                     vinyl  \n",
       "3              music                     vinyl  \n",
       "4              music  cd of branded production  "
      ]
     },
     "execution_count": 293,
     "metadata": {},
     "output_type": "execute_result"
    }
   ],
   "source": [
    "train_reloaded.head()"
   ]
  },
  {
   "cell_type": "code",
   "execution_count": 292,
   "metadata": {},
   "outputs": [
    {
     "name": "stdout",
     "output_type": "stream",
     "text": [
      "<class 'pandas.core.frame.DataFrame'>\n",
      "RangeIndex: 2935849 entries, 0 to 2935848\n",
      "Data columns (total 15 columns):\n",
      "date                             object\n",
      "date_block_num                   int64\n",
      "shop_id                          int64\n",
      "item_id                          int64\n",
      "item_price                       float64\n",
      "item_cnt_day                     int64\n",
      "item_category_id                 int64\n",
      "shop_loc                         object\n",
      "shop_loc_dist                    object\n",
      "shop_loc_pop_2010                float64\n",
      "shop_loc_pop_2017                float64\n",
      "shop_loc_pop_rank_2017           float64\n",
      "shop_loc_pop_change_2010_2017    float64\n",
      "item_first_categry               object\n",
      "item_second_categry              object\n",
      "dtypes: float64(5), int64(5), object(5)\n",
      "memory usage: 1.1 GB\n"
     ]
    }
   ],
   "source": [
    "train_reloaded.info(memory_usage='deep')"
   ]
  },
  {
   "cell_type": "markdown",
   "metadata": {},
   "source": [
    "### When exporting as `csv`, data types are reset to the default types\n",
    "* At the next notebook, we need to optimize the exported dataset as the above!"
   ]
  },
  {
   "cell_type": "code",
   "execution_count": null,
   "metadata": {},
   "outputs": [],
   "source": []
  },
  {
   "cell_type": "code",
   "execution_count": null,
   "metadata": {},
   "outputs": [],
   "source": []
  },
  {
   "cell_type": "code",
   "execution_count": null,
   "metadata": {},
   "outputs": [],
   "source": []
  },
  {
   "cell_type": "markdown",
   "metadata": {},
   "source": [
    "# BELOW ~ open another notebook to proceed"
   ]
  },
  {
   "cell_type": "code",
   "execution_count": null,
   "metadata": {},
   "outputs": [],
   "source": []
  },
  {
   "cell_type": "markdown",
   "metadata": {},
   "source": [
    "## Explanatory Data Exploration (EDA)\n",
    "* ~~~\n",
    "* ~~~\n"
   ]
  },
  {
   "cell_type": "code",
   "execution_count": null,
   "metadata": {},
   "outputs": [],
   "source": []
  },
  {
   "cell_type": "markdown",
   "metadata": {},
   "source": [
    "# Feature Engineering in Depth\n",
    "\n",
    "* From the visualizations / insights from EDA, create columns like:\n",
    "  * `season`, `lifecycle_for_item`, `item_in_trend_or_not`, ....\n",
    " \n",
    "### We will finish data optimization at the point feature engineering completed."
   ]
  },
  {
   "cell_type": "code",
   "execution_count": null,
   "metadata": {},
   "outputs": [],
   "source": []
  },
  {
   "cell_type": "code",
   "execution_count": null,
   "metadata": {},
   "outputs": [],
   "source": []
  },
  {
   "cell_type": "code",
   "execution_count": 180,
   "metadata": {
    "scrolled": true
   },
   "outputs": [
    {
     "data": {
      "text/html": [
       "<div>\n",
       "<style scoped>\n",
       "    .dataframe tbody tr th:only-of-type {\n",
       "        vertical-align: middle;\n",
       "    }\n",
       "\n",
       "    .dataframe tbody tr th {\n",
       "        vertical-align: top;\n",
       "    }\n",
       "\n",
       "    .dataframe thead th {\n",
       "        text-align: right;\n",
       "    }\n",
       "</style>\n",
       "<table border=\"1\" class=\"dataframe\">\n",
       "  <thead>\n",
       "    <tr style=\"text-align: right;\">\n",
       "      <th></th>\n",
       "      <th>ID</th>\n",
       "      <th>shop_id</th>\n",
       "      <th>item_id</th>\n",
       "    </tr>\n",
       "  </thead>\n",
       "  <tbody>\n",
       "    <tr>\n",
       "      <th>0</th>\n",
       "      <td>0</td>\n",
       "      <td>5</td>\n",
       "      <td>5037</td>\n",
       "    </tr>\n",
       "    <tr>\n",
       "      <th>1</th>\n",
       "      <td>1</td>\n",
       "      <td>5</td>\n",
       "      <td>5320</td>\n",
       "    </tr>\n",
       "    <tr>\n",
       "      <th>2</th>\n",
       "      <td>2</td>\n",
       "      <td>5</td>\n",
       "      <td>5233</td>\n",
       "    </tr>\n",
       "    <tr>\n",
       "      <th>3</th>\n",
       "      <td>3</td>\n",
       "      <td>5</td>\n",
       "      <td>5232</td>\n",
       "    </tr>\n",
       "    <tr>\n",
       "      <th>4</th>\n",
       "      <td>4</td>\n",
       "      <td>5</td>\n",
       "      <td>5268</td>\n",
       "    </tr>\n",
       "  </tbody>\n",
       "</table>\n",
       "</div>"
      ],
      "text/plain": [
       "   ID  shop_id  item_id\n",
       "0   0        5     5037\n",
       "1   1        5     5320\n",
       "2   2        5     5233\n",
       "3   3        5     5232\n",
       "4   4        5     5268"
      ]
     },
     "execution_count": 180,
     "metadata": {},
     "output_type": "execute_result"
    }
   ],
   "source": [
    "# never forget to set the identical touch on the `test` data set!\n",
    "test.head()"
   ]
  },
  {
   "cell_type": "code",
   "execution_count": null,
   "metadata": {},
   "outputs": [],
   "source": []
  },
  {
   "cell_type": "code",
   "execution_count": null,
   "metadata": {},
   "outputs": [],
   "source": []
  }
 ],
 "metadata": {
  "kernelspec": {
   "display_name": "Python 3",
   "language": "python",
   "name": "python3"
  },
  "language_info": {
   "codemirror_mode": {
    "name": "ipython",
    "version": 3
   },
   "file_extension": ".py",
   "mimetype": "text/x-python",
   "name": "python",
   "nbconvert_exporter": "python",
   "pygments_lexer": "ipython3",
   "version": "3.6.2"
  }
 },
 "nbformat": 4,
 "nbformat_minor": 2
}

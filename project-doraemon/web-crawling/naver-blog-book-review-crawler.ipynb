{
 "cells": [
  {
   "cell_type": "code",
   "execution_count": 1,
   "id": "senior-childhood",
   "metadata": {},
   "outputs": [],
   "source": [
    "from bs4 import BeautifulSoup\n",
    "import requests"
   ]
  },
  {
   "cell_type": "code",
   "execution_count": 2,
   "id": "seven-arabic",
   "metadata": {},
   "outputs": [],
   "source": [
    "def get_naver_blog_text_v4(url):\n",
    "    \n",
    "    def get_compiled_text_from_soup(soup, tag):\n",
    "        contents = []\n",
    "        contentsArea = soup.select(tag)\n",
    "        if contentsArea:\n",
    "            # real url의 div#postViewArea로부터 콘텐츠 텍스트 불러오기\n",
    "            for content in contentsArea:\n",
    "                # html 태그를 제거한 뒤 텍스트만 contents 리스트에 저장\n",
    "                contents = [str(content.get_text()) for content in soup.select(tag)]\n",
    "                \n",
    "        return contents\n",
    "\n",
    "        # 리스트 안의 문자열을 모두 합쳐서 반환하고 함수 종료\n",
    "        # 문자열 없었다면 empty string 반환하고 함수 종료\n",
    "        return ' '.join(contents)\n",
    "    \n",
    "    def create_soup_from_url(url):\n",
    "        get_blog_post_content_code = requests.get(url)\n",
    "        get_blog_post_content_text = get_blog_post_content_code.text\n",
    "        return BeautifulSoup(get_blog_post_content_text, 'lxml')\n",
    "        \n",
    "    real_blog_post_url = ''\n",
    "    contents = []\n",
    "    fake_url = str(url)\n",
    "    \n",
    "    # 주소값 체크 - string으로 바꾼 값이 nan이면 None 반환\n",
    "    if fake_url == 'nan':\n",
    "        print('nan', end=' ')\n",
    "        return None\n",
    "\n",
    "    try:\n",
    "        # fake url로부터 BeautifulSoup 생성\n",
    "        #time.sleep(sleep_time)\n",
    "        get_blog_post_content_soup = create_soup_from_url(fake_url)\n",
    "\n",
    "        # fake url의 mainFrame 속성값으로부터 real url 생성\n",
    "        real_blog_post_url = \"http://blog.naver.com\" + get_blog_post_content_soup.select('#mainFrame')[0].get('src')\n",
    "\n",
    "        # real url로부터 BeautifulSoup 생성            \n",
    "        get_real_blog_post_content_soup = create_soup_from_url(real_blog_post_url)            \n",
    "        contents = get_compiled_text_from_soup(get_real_blog_post_content_soup,\n",
    "                                              'div#postViewArea')\n",
    "\n",
    "        if contents:\n",
    "            print('/', end=' ')\n",
    "            return contents\n",
    "        else:\n",
    "            raise IndexError\n",
    "\n",
    "    except:           \n",
    "        try:\n",
    "            # 만약 위에서 함수가 종료되지 않았다면 hidden tag값을 생성\n",
    "            uid = real_blog_post_url.split('logNo=')[1].split('&amp')[0].split('&redirect')[0]\n",
    "            hidden_tag = 'div#post-view' + uid\n",
    "            contents = get_compiled_text_from_soup(get_real_blog_post_content_soup, hidden_tag)\n",
    "\n",
    "            # 만약 contents 리스트에 뭔가 담겨 있다면\n",
    "            if contents:\n",
    "                # 리스트 안의 문자열을 모두 합쳐서 반환하고 함수 종료\n",
    "                print('/', end=' ')\n",
    "                return contents\n",
    "            else:\n",
    "                raise IndexError\n",
    "\n",
    "        except:\n",
    "            old_post_tag = 'div.rvw_cnt'\n",
    "            old_soup = create_soup_from_url(fake_url)\n",
    "            contents = get_compiled_text_from_soup(old_soup, old_post_tag)\n",
    "\n",
    "            if contents:\n",
    "                print('/', end=' ')\n",
    "                return contents\n",
    "\n",
    "            else:\n",
    "                #print(f'url:{fake_url} / real blog post url:{real_blog_post_url}')\n",
    "                print('*', end=' ')\n",
    "                return None"
   ]
  },
  {
   "cell_type": "code",
   "execution_count": 3,
   "id": "enabling-introduction",
   "metadata": {},
   "outputs": [
    {
     "name": "stdout",
     "output_type": "stream",
     "text": [
      "/ "
     ]
    },
    {
     "data": {
      "text/plain": [
       "['\\n\\n\\n\\n\\n\\n\\n\\n\\n\\n\\n책이야기\\n\\n\\n\\n\\n연금술사 _ Alchemist \\n\\n\\n\\n\\n\\n레몬향기\\n\\n ・ \\n2021. 3. 15. 22:41\\n\\n\\nURL 복사\\n 이웃추가\\n\\n본문 기타 기능\\n\\n번역보기\\n\\n\\n\\n\\n\\n\\n\\n\\n\\n\\n\\n\\n\\n\\n\\n\\n\\n\\n\\n\\n안녕하세요^^ 레몬향기 입니다.꿈에 대해서 이야기 할때 어김없이 등장하는 책이 있습니다. 바로 \\'연금술사\\' 인데요...\\u200b오래전부터 읽어보라고 지인들로 부터 추천을 받았으나 미루고 있다가 이제야 읽게 되었습니다.\\u200b산티아고가 자아의 꿈을 찾아 떠나는 여행으로 여러분을 초대합니다~^^\\n\\n\\n\\n \\n\\n\\n\\n\\n\\n\\n\\n\\n연금술사 \\n\\n저자\\n파울로 코엘료\\n출판\\n문학동네\\n발매\\n2001.12.01.\\n\\n\\n\\n\\n\\n\\n \\n\\n\\n\\n\\n\\n\\n\\n \\n\\n\\n\\np.47 \"만물의 정기는 사람들의 행복을 먹고 자라지. 때로는 불행과 부러움과 질투를 통해서 자라기도 하고. 어쨌든 자아의 신화를 이루어내는 것이야말로 이 세상 모든 사람들에게 부과된 유일한 의무지. 세상 만물은 모두 한가지라네. 자네가 무언가 간절히 원할 때 온 우주는 자네의 소망이 실현되도록 도와준다네.\"\\u200bp.55  \\'난 보물과 양들 사이에 끼어 이러지도 저러지도 못하게 된 셈이군.\\' 산티아고는 이미 익숙해져 있는 것과 가지고 싶은 것 중 하나를 선택해야 했다. 물론 양털 가게 딸도 있었지만, 그녀는 아직 그의 사람이 아니어서 양들만큼 중요하진 않았다. 이틀 후 그가 그녀 앞에 나타나지 않아도 그녀는 그 사실을 알아채지도 못할 것이다. 그녀에겐 모든 날들이 다 똑같을 것이고, 그건 다른 사람들도 마찬가지였다. 자신의 삷에서 일어나는 좋은 일들을 깨닫지 못하는 사람들에게는 하루하루가 매일 해가 뜨고 지는 것처럼 똑같을 수밖에 없으니 말이다.\\u200bp.56 이 바람에는 미지의 것들과 황금과 모험, 그리고 피라미드를 찾아 떠났던 사람들의 꿈과 땀냄새가 배어 있었다. 산티아고는 어디로든 갈 수 있는 바람의 자유가 부러웠다. 그러다 문득 깨달았다. 자신 역시 그렇게 할 수 있으리라는 사실을. 떠나지 못하게 그를 막을 것은 아무것도 없었다. 그 자신 말고는.\\u200b늘 나를 가로막는 것은 나 자신 입니다.내 안에 한계를 만들고 두려움을 만들어 전진을 방해하는 내 안에 또 다른 나!\\u200bp.92 \"진열대를 만들었으면 하는 진짜 이유가 뭔가?\"상점 주인이 물었다.\"제 양들을 더 빨리 되찾기 위해서 입니다. 기회가 가까이 오면 우리는 그걸 이용해야 합니다. 기회가 우리를 도우려 할 때 우리도 기회를 도와 할 수 있는 모든 일을 해야 합니다. 그것을 은혜의 섭리라고 하기도 하고 \\'초심자의 행운\\' 이라고도 합니다.\"\\u200bp.94 \"그런데 아저씨는 왜 지금이라도 메카에 가지 않는 거죠?\"산티아고가 물었다.\"왜냐하면 내 삶을 유지시켜주는 것이 바로 메카이기 대문이지. 이 모든 똑같은 나날들, 진열대 위에 덩그러니 얹혀 있는 저 크리스털 그릇들, 그리고 초라한 식당에서 먹는 점심과 저녁을 견딜 수 있는 힘이 바로 메카에서 나온다네. 난 내꿈을 실현하고나면 살아갈 이유가 없어질까 두려워. 자네는 양이나 피라미드에 대한 꿈을 가지고 있고 그걸 실현하길 원하지. 그런 점에서 자넨 나와 달라. 나는 오직 메카만을 꿈으로 간직하고 싶어.\" 모든 사람이 같은 방식으로 꿈을 보는 것은 아니었다.\\u200bp.134 \"지구에 있는 모든 것은 끊임없이 변화하고 있지. 이 지구는 살아 있는 존재니까. 정기를 가진 땅덩어리란 얘기야. 우리는 그 정기의 일부분이고 아주 가끔은 우리도 그 정기가 우리에게 작용하고 있음을 느끼곤 하지. 그런데 정말 중요한 것은, 자네가 그 크리스털 가게에서 일하는 동안 크리스털 그릇들 역시 자네의 성공을 위해 애를 썼을 거라는 거야.\"\\u200bp.134 - 5 \"난 대상 행렬이 사막을 건너는 것을 쭉 지켜봤어요. 대상 행렬과 사막은 같은 언어로 이야기해요. 바로 그렇기 때문에 사막은 행렬이 자신을 건너갈 수 있도록 허락하는 것이겠지요. 사막은 대상 행렬이 자신과 완벽한 조화를 이루는지 확인하기 위해 지나는 곳마다 끊임없이 시험을 해요. 만일 완벽한 조화를 이룬다면 대상 행렬은 오아시스가 있는 곳까지 가게 되겠지요. 우리들 중 누군가가 아주 대단한 용기를 가지고 있다 해도 이러한 사막의 언어를 이해하지 못한다면 여행은 시시각각 엄청난 고난의 연속일 거에요.\"\\u200bp.144 \"난 음식을 먹는 동안엔 먹는 일 말고는 아무것도 하지 않소. 걸아야 할 땐 걷는 것, 그게 다지. 만일 내가 싸워야 하는 날이 온다면, 그게 언제가 됐든 남들처럼 싸우다 미련 없이 죽을 거요. 난 지금 과거를 사는 것도 미래를 사는 것도 아니니까. 내겐 오직 현재만이 있고, 현재만이 내 유일한 관심거리요. 만약 당신이 영원히 현재에 머무를 수만 있다면 당신은 진정 행복한 사람일게요. 그럼 당신은 사막에도 생명이 존재하며 하늘에는 무수한 별들이 있다는 사실을, 전사들이 전투를 벌이는 것은 그 전투 속에서 바로 인간의 생명과 연관된 그 무엇이 있기 때문이라는 사실을 깨닫게 될 거요. 생명은 성대한 잔치며 크나큰 축제요. 생명은 우리가 살고 있는 오직 이 순간에만 영원하기 때문이오.\"\\u200b낙타몰이꾼이 산티아고에게 들려주는 본인의 철학이야기... \\'Carpe Diem, 현재를 살다\\' 가 연상되는 장면 입니다. 하루를 살면서 불필요한 걱정과 고민으로 시간과 에너지를 낭비할 때가 많이 있죠... 그러면서 현재의 일에도 집중하지 못하고... 낙타몰이꾼의 말이 마음 깊이 들어옵니다.\\u200b\\n\\n\\n\\n \\n\\n\\n\\n\\n\\n\\n\\n \\n\\n\\n\\n 이 이야기의 주인공인 양치기 청년 산티아고의 여행을 따라가는 일은 무척이나 특별하고 소중한 경험이었다. 산티아고가 보물을 찾아가는 여정에서 겪는 여러가지 사건들, 그리고 집시여인, 늙은 왕, 연금술사 등 그가 만나는 사람들이 들려주는 이야기들은 어디선가 들어본 듯 친숙하면서도 읽으면 읽을수록 그 의미를 곱씹어보게  만든다. 그것들은 삷의 어느 갈피에서 나도 한 번은 겪은 듯한, 아니면 앞으로 꼭 한 번은 겪을 듯한 일들에 대한 아름다운 은유를 담고 있는 것이다.\\np.277 옮긴이의 말\\n\\n\\n\\n\\n\\n\\n\\n\\n나의 꿈에 대해 생각한게 과연 언제 였던가?내게 꿈이 있었던 것 같긴 한데 무엇이었는지 아련합니다... 매일 매일 생업에 바삐 살다 보니 오늘만 보였고, 꿈은 까맣게 잊은지 오래입니다. 낙타몰이꾼의 말처럼 현실을 살며, 산티아고처럼 자아의 꿈을 향해 나아가는 삷!꿈을 꾸는 인생.꿈에 대해 다시 눈을 감고 생각해봅니다.\\u200b얇아서 금방 읽을거라 생각했었는데, 페이지마다 영감을 주고, 생각하게 만드는 구절들이 많아 한참이 걸린 것 같습니다. 도ㅣ새기고 싶은 구절들이 셀 수없이 많습니다.\\u200b또 하나의 인생의 책을 만났습니다.\\u200b\\n\\n\\n\\n \\n\\n']"
      ]
     },
     "execution_count": 3,
     "metadata": {},
     "output_type": "execute_result"
    }
   ],
   "source": [
    "sample_url1 = 'https://blog.naver.com/m16may/222276662252' #blog review\n",
    "get_naver_blog_text_v4(sample_url1)"
   ]
  },
  {
   "cell_type": "code",
   "execution_count": 8,
   "id": "induced-custom",
   "metadata": {},
   "outputs": [
    {
     "name": "stdout",
     "output_type": "stream",
     "text": [
      "/ "
     ]
    },
    {
     "data": {
      "text/plain": [
       "['\\n\\n\\n\\n\\n\\n\\n\\n소설/시/영문학\\n\\n\\n\\n\\n[연금술사] 반전의 묘미가 있는 파울로 코엘료 장편소설 \\n\\n\\n\\n\\n\\n까칠한워킹맘늘꼼지락\\n\\n ・ \\n2021. 3. 15. 7:45\\n\\n\\nURL 복사\\n 이웃추가\\n\\n본문 기타 기능\\n\\n번역보기\\n\\n\\n\\n\\n\\n\\n\\n\\n\\n\\n\\n\\n\\n\\n\\n\\n\\n\\n\\n\\n책을 읽고 책에 대한 리뷰보다 나의 삶을 돌아보는 이야기를 쓰는 #까칠한톡\\n\\n\\n\\n \\n\\n\\n\\n\\n\\n\\n\\n연금술사 - 파울로 코엘료\\n\\n\\n\\n\\n\\n\\n\\n파울로 코엘료의 소설 <연금술사>를 다시 읽었습니다. 블로그를 쓰기 전에 읽었던 책인데, 이렇게 다시 읽을 기회가 올 줄 몰랐네요.<베로니카 죽기로 결심하다>를 너무 재미있게 읽어서 같은 작가의 책을 쭉 도전했던 기억이 나는데, <연금술사>는 그럭저럭 읽을만했지만 <알레프>가 너무 난해해서 그 이후로 같은 작가의 책은 더 이상 손에 잡지 않았습니다.\\u200b이번에 다시 읽은 <연금술사>는 정말 새로운 느낌이었어요. 독서 기록을 안 하던 시절에 읽은 책이라 기억에 전혀 남아있지 않기 때문이기도 했지만, 소설인데 이렇게 자기계발 요소가 많이 담겨있다는 게 놀랍더라고요.\\u200b\"자네가 무언가를 간절히 원할 때 온 우주는 자네의 소망이 실현되도록 도와준다네\"(p48)\\u200b헐...시크릿, 그릿 등에서 말하는 끌어당김 법칙이잖아요. \\u200b약간 뜨악한 느낌으로 우연이 필연으로 그리고 결국 통쾌한 반전으로 이어지는 소설의 전개를 보며 자기계발 법칙은 소설에나 있을법한 일인가?라는 생각을 지울 수 없었습니다. 오래전에 읽었을 때에도 이게 소설이니까 원하면 이뤄진다는 닭살스러운 문장들이 이상하다고 생각하지 않고 지나간 게 아닐까 싶어요.\\n\\n\\n\\n \\n\\n\\n\\n\\n\\n\\n\\n \\n\\n\\n\\n직장 생활을 시작한 초기부터 재산이 아니라 재주를 키우는 자기 계발서 읽기를 거듭했습니다. 여전히 저는 그냥 원하기만 하는 건 안된다고 생각합니다. 그러나 원하는 것이 이뤄지도록 충분히, 넘치게 노력하면 그땐 반드시 이뤄진다고 믿어요. 속도도 느리고, 크기도 작지만 그래도 제 삶이 사회생활을 시작했던 그때보다 성장한 것이 바로 그 증거입니다. 다행히 일부의 목표는 초과 달성되기도 했습니다. \\u200b요즘 읽고 있는 자기 계발서는 책 전문가=핑크팬더 이재범님으로부터 큐레이팅을 받고 있습니다. 재산과 재주를 모두 키우는 걸 돕는 책을 추천해주는 독서모임입니다. 추천받은 책의 수준대로 차근차근 읽다 보니 그간 제가 너무 작은 꿈을 가지고 살았던 것 같아요. 그래서 꿈이 너무 빨리 이뤄져버렸고, 그래서 좀 멍한 상태로 지내는 시간이 길어지고 있는 게 아닐까라는 생각이 들었습니다. \\u200b<연금술사>까지 읽고 나니 더 큰 꿈, 목표를 세워야겠다는 생각이 드네요. 꿈, 목표를 세우는 방법. 내 삶을 기획하는 방법에 대한 고민이 필요했다는 걸 돌아돌아 깨달은 느낌을 준 책이었어요. 어떤 목표를 세워야 할지, 좀 더 구체적으로 생각하는 시간을 가져야겠습니다.\\n\\n\\n\\n \\n\\n\\n\\n질문하기\\n\\n\\n\\n\\n\\n\\n\\n\\n1. 내 꿈과 세상의 결이 맞아떨어지는 그런 것이란 대체 뭘까?2. 다양한 모험과 경험이 있어야만 더 큰 꿈이 이뤄지는 걸까?\\n\\n\\n\\n \\n\\n\\n\\n아이패드 8세대 + 굿 노트 앱으로 작성한 독서 노트\\n\\n\\n\\n\\n\\n\\n\\n\\n\\n\\n\\n\\n\\n\\n\\n\\n\\n\\n\\n\\n\\n \\n\\n\\n\\n#책 #리뷰#book #review#52주독서 #26주차\\u200b#연금술사#파울로코엘료\\n\\n\\n\\n \\n\\n\\n\\n\\n\\n\\n\\n\\n연금술사 \\n\\n저자\\n파울로 코엘료\\n출판\\n문학동네\\n발매\\n2001.12.01.\\n\\n\\n\\n\\n\\n\\n \\n\\n\\n\\n\\n\\n\\n\\n \\n\\n\\n\\n블로그에 쓰는 글은 인플루언서를 통해 더 잘 검색하실 수 있습니다.저의 글이 유용하셨다면 인플루언서 페이지에서 팬 추가 부탁드려요!\\n\\n\\n\\n \\n\\n\\n\\n\\n\\n\\n\\n\\n\\n \\n\\n\\n\\n▼ #인플루언서 #팬추가 #꾹 ▼\\n\\n\\n\\n \\n\\n\\n\\n\\n\\n\\n\\n\\n[네이버 인플루언서 검색] 이나연\\n쌍둥이 남매와 함께 느리게 성장하는 까칠한 워킹맘의 일상을 기록하는 블로그\\nin.naver.com\\n\\n\\n\\n\\n\\n\\n \\n\\n\\n\\n#일상의취향 #기록하는사람 #늘꼼지락#70점워킹맘 #까칠한워킹맘 #이나연#쌍둥이워킹맘 #쌍둥이육아 #워킹맘육아\\n\\n\\n\\n \\n\\n']"
      ]
     },
     "execution_count": 8,
     "metadata": {},
     "output_type": "execute_result"
    }
   ],
   "source": [
    "sample_url2 = 'https://blog.naver.com/nyyii/222275724384'\n",
    "get_naver_blog_text_v4(sample_url2)"
   ]
  },
  {
   "cell_type": "code",
   "execution_count": null,
   "id": "verbal-definition",
   "metadata": {},
   "outputs": [],
   "source": []
  },
  {
   "cell_type": "code",
   "execution_count": null,
   "id": "collected-zambia",
   "metadata": {},
   "outputs": [],
   "source": []
  }
 ],
 "metadata": {
  "kernelspec": {
   "display_name": "Python 3",
   "language": "python",
   "name": "python3"
  },
  "language_info": {
   "codemirror_mode": {
    "name": "ipython",
    "version": 3
   },
   "file_extension": ".py",
   "mimetype": "text/x-python",
   "name": "python",
   "nbconvert_exporter": "python",
   "pygments_lexer": "ipython3",
   "version": "3.7.9"
  }
 },
 "nbformat": 4,
 "nbformat_minor": 5
}

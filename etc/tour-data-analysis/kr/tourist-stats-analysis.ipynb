{
 "cells": [
  {
   "cell_type": "code",
   "execution_count": 1,
   "metadata": {},
   "outputs": [],
   "source": [
    "import pandas as pd\n",
    "import numpy as np"
   ]
  },
  {
   "cell_type": "code",
   "execution_count": 4,
   "metadata": {},
   "outputs": [
    {
     "data": {
      "text/html": [
       "<div>\n",
       "<style scoped>\n",
       "    .dataframe tbody tr th:only-of-type {\n",
       "        vertical-align: middle;\n",
       "    }\n",
       "\n",
       "    .dataframe tbody tr th {\n",
       "        vertical-align: top;\n",
       "    }\n",
       "\n",
       "    .dataframe thead th {\n",
       "        text-align: right;\n",
       "    }\n",
       "</style>\n",
       "<table border=\"1\" class=\"dataframe\">\n",
       "  <thead>\n",
       "    <tr style=\"text-align: right;\">\n",
       "      <th></th>\n",
       "      <th>2018년 04월 외래객 입국-성별/국적별</th>\n",
       "      <th>Unnamed: 1</th>\n",
       "      <th>Unnamed: 2</th>\n",
       "      <th>Unnamed: 3</th>\n",
       "      <th>Unnamed: 4</th>\n",
       "      <th>Unnamed: 5</th>\n",
       "      <th>Unnamed: 6</th>\n",
       "      <th>Unnamed: 7</th>\n",
       "    </tr>\n",
       "  </thead>\n",
       "  <tbody>\n",
       "    <tr>\n",
       "      <th>0</th>\n",
       "      <td>국적</td>\n",
       "      <td>남성</td>\n",
       "      <td>여성</td>\n",
       "      <td>승무원</td>\n",
       "      <td>계</td>\n",
       "      <td>전년동기</td>\n",
       "      <td>성장률(%)</td>\n",
       "      <td>구성비(%)</td>\n",
       "    </tr>\n",
       "    <tr>\n",
       "      <th>1</th>\n",
       "      <td>아시아주</td>\n",
       "      <td>406,053</td>\n",
       "      <td>605,196</td>\n",
       "      <td>59,964</td>\n",
       "      <td>1,071,213</td>\n",
       "      <td>824,290</td>\n",
       "      <td>30</td>\n",
       "      <td>80.4</td>\n",
       "    </tr>\n",
       "    <tr>\n",
       "      <th>2</th>\n",
       "      <td>일본</td>\n",
       "      <td>86,290</td>\n",
       "      <td>125,201</td>\n",
       "      <td>2,362</td>\n",
       "      <td>213,853</td>\n",
       "      <td>165,748</td>\n",
       "      <td>29</td>\n",
       "      <td>16.1</td>\n",
       "    </tr>\n",
       "    <tr>\n",
       "      <th>3</th>\n",
       "      <td>대만</td>\n",
       "      <td>32,111</td>\n",
       "      <td>72,219</td>\n",
       "      <td>847</td>\n",
       "      <td>105,177</td>\n",
       "      <td>79,203</td>\n",
       "      <td>32.8</td>\n",
       "      <td>7.9</td>\n",
       "    </tr>\n",
       "    <tr>\n",
       "      <th>4</th>\n",
       "      <td>홍콩</td>\n",
       "      <td>21,156</td>\n",
       "      <td>44,600</td>\n",
       "      <td>777</td>\n",
       "      <td>66,533</td>\n",
       "      <td>79,067</td>\n",
       "      <td>-15.9</td>\n",
       "      <td>5</td>\n",
       "    </tr>\n",
       "  </tbody>\n",
       "</table>\n",
       "</div>"
      ],
      "text/plain": [
       "  2018년 04월 외래객 입국-성별/국적별 Unnamed: 1 Unnamed: 2 Unnamed: 3 Unnamed: 4  \\\n",
       "0                      국적         남성         여성        승무원          계   \n",
       "1                    아시아주    406,053    605,196     59,964  1,071,213   \n",
       "2                      일본     86,290    125,201      2,362    213,853   \n",
       "3                      대만     32,111     72,219        847    105,177   \n",
       "4                      홍콩     21,156     44,600        777     66,533   \n",
       "\n",
       "  Unnamed: 5 Unnamed: 6 Unnamed: 7  \n",
       "0       전년동기     성장률(%)     구성비(%)  \n",
       "1    824,290         30       80.4  \n",
       "2    165,748         29       16.1  \n",
       "3     79,203       32.8        7.9  \n",
       "4     79,067      -15.9          5  "
      ]
     },
     "execution_count": 4,
     "metadata": {},
     "output_type": "execute_result"
    }
   ],
   "source": [
    "# Test using 2018-04 foreign tourists statistics\n",
    "\n",
    "sample_df = pd.read_csv('data/test.csv')\n",
    "sample_df.head()"
   ]
  },
  {
   "cell_type": "code",
   "execution_count": 15,
   "metadata": {},
   "outputs": [
    {
     "data": {
      "text/plain": [
       "Index(['2018년 04월 외래객 입국-성별/국적별', 'Unnamed: 1', 'Unnamed: 2', 'Unnamed: 3',\n",
       "       'Unnamed: 4', 'Unnamed: 5', 'Unnamed: 6', 'Unnamed: 7'],\n",
       "      dtype='object')"
      ]
     },
     "execution_count": 15,
     "metadata": {},
     "output_type": "execute_result"
    }
   ],
   "source": [
    "sample = pd.read_csv('data/test.csv')\n",
    "sample.columns\n"
   ]
  },
  {
   "cell_type": "code",
   "execution_count": 17,
   "metadata": {},
   "outputs": [
    {
     "data": {
      "text/html": [
       "<div>\n",
       "<style scoped>\n",
       "    .dataframe tbody tr th:only-of-type {\n",
       "        vertical-align: middle;\n",
       "    }\n",
       "\n",
       "    .dataframe tbody tr th {\n",
       "        vertical-align: top;\n",
       "    }\n",
       "\n",
       "    .dataframe thead th {\n",
       "        text-align: right;\n",
       "    }\n",
       "</style>\n",
       "<table border=\"1\" class=\"dataframe\">\n",
       "  <thead>\n",
       "    <tr style=\"text-align: right;\">\n",
       "      <th></th>\n",
       "      <th>2018년 04월 외래객 입국-성별/국적별</th>\n",
       "      <th>Unnamed: 1</th>\n",
       "      <th>Unnamed: 2</th>\n",
       "      <th>Unnamed: 3</th>\n",
       "      <th>Unnamed: 4</th>\n",
       "      <th>Unnamed: 5</th>\n",
       "      <th>Unnamed: 6</th>\n",
       "      <th>Unnamed: 7</th>\n",
       "    </tr>\n",
       "  </thead>\n",
       "  <tbody>\n",
       "    <tr>\n",
       "      <th>0</th>\n",
       "      <td>국적</td>\n",
       "      <td>남성</td>\n",
       "      <td>여성</td>\n",
       "      <td>승무원</td>\n",
       "      <td>계</td>\n",
       "      <td>전년동기</td>\n",
       "      <td>성장률(%)</td>\n",
       "      <td>구성비(%)</td>\n",
       "    </tr>\n",
       "    <tr>\n",
       "      <th>1</th>\n",
       "      <td>아시아주</td>\n",
       "      <td>406,053</td>\n",
       "      <td>605,196</td>\n",
       "      <td>59,964</td>\n",
       "      <td>1,071,213</td>\n",
       "      <td>824,290</td>\n",
       "      <td>30</td>\n",
       "      <td>80.4</td>\n",
       "    </tr>\n",
       "    <tr>\n",
       "      <th>2</th>\n",
       "      <td>일본</td>\n",
       "      <td>86,290</td>\n",
       "      <td>125,201</td>\n",
       "      <td>2,362</td>\n",
       "      <td>213,853</td>\n",
       "      <td>165,748</td>\n",
       "      <td>29</td>\n",
       "      <td>16.1</td>\n",
       "    </tr>\n",
       "    <tr>\n",
       "      <th>3</th>\n",
       "      <td>대만</td>\n",
       "      <td>32,111</td>\n",
       "      <td>72,219</td>\n",
       "      <td>847</td>\n",
       "      <td>105,177</td>\n",
       "      <td>79,203</td>\n",
       "      <td>32.8</td>\n",
       "      <td>7.9</td>\n",
       "    </tr>\n",
       "    <tr>\n",
       "      <th>4</th>\n",
       "      <td>홍콩</td>\n",
       "      <td>21,156</td>\n",
       "      <td>44,600</td>\n",
       "      <td>777</td>\n",
       "      <td>66,533</td>\n",
       "      <td>79,067</td>\n",
       "      <td>-15.9</td>\n",
       "      <td>5</td>\n",
       "    </tr>\n",
       "  </tbody>\n",
       "</table>\n",
       "</div>"
      ],
      "text/plain": [
       "  2018년 04월 외래객 입국-성별/국적별 Unnamed: 1 Unnamed: 2 Unnamed: 3 Unnamed: 4  \\\n",
       "0                      국적         남성         여성        승무원          계   \n",
       "1                    아시아주    406,053    605,196     59,964  1,071,213   \n",
       "2                      일본     86,290    125,201      2,362    213,853   \n",
       "3                      대만     32,111     72,219        847    105,177   \n",
       "4                      홍콩     21,156     44,600        777     66,533   \n",
       "\n",
       "  Unnamed: 5 Unnamed: 6 Unnamed: 7  \n",
       "0       전년동기     성장률(%)     구성비(%)  \n",
       "1    824,290         30       80.4  \n",
       "2    165,748         29       16.1  \n",
       "3     79,203       32.8        7.9  \n",
       "4     79,067      -15.9          5  "
      ]
     },
     "execution_count": 17,
     "metadata": {},
     "output_type": "execute_result"
    }
   ],
   "source": [
    "sample.head()"
   ]
  },
  {
   "cell_type": "code",
   "execution_count": null,
   "metadata": {},
   "outputs": [],
   "source": []
  },
  {
   "cell_type": "code",
   "execution_count": null,
   "metadata": {},
   "outputs": [],
   "source": []
  },
  {
   "cell_type": "code",
   "execution_count": null,
   "metadata": {},
   "outputs": [],
   "source": []
  },
  {
   "cell_type": "markdown",
   "metadata": {},
   "source": [
    "### Test function to format data"
   ]
  },
  {
   "cell_type": "code",
   "execution_count": null,
   "metadata": {},
   "outputs": [],
   "source": [
    "def format_df(dataframe):\n",
    "    '''function detail\n",
    "    input - csv dataframe from the url below:\n",
    "        https://kto.visitkorea.or.kr/kor/notice/data/statis/profit/notice/inout/popup.kto#excel\n",
    "    output - formatted dataframe for handling/merging/processing \n",
    "    '''\n",
    "    \n",
    "    \n",
    "    \n",
    "    \n",
    "    \n",
    "\n"
   ]
  },
  {
   "cell_type": "code",
   "execution_count": null,
   "metadata": {},
   "outputs": [],
   "source": []
  },
  {
   "cell_type": "code",
   "execution_count": null,
   "metadata": {},
   "outputs": [],
   "source": []
  },
  {
   "cell_type": "code",
   "execution_count": null,
   "metadata": {},
   "outputs": [],
   "source": []
  },
  {
   "cell_type": "code",
   "execution_count": null,
   "metadata": {},
   "outputs": [],
   "source": []
  },
  {
   "cell_type": "code",
   "execution_count": null,
   "metadata": {},
   "outputs": [],
   "source": []
  }
 ],
 "metadata": {
  "kernelspec": {
   "display_name": "Python 3",
   "language": "python",
   "name": "python3"
  },
  "language_info": {
   "codemirror_mode": {
    "name": "ipython",
    "version": 3
   },
   "file_extension": ".py",
   "mimetype": "text/x-python",
   "name": "python",
   "nbconvert_exporter": "python",
   "pygments_lexer": "ipython3",
   "version": "3.6.2"
  }
 },
 "nbformat": 4,
 "nbformat_minor": 2
}

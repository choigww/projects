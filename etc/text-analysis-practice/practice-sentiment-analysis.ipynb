{
 "cells": [
  {
   "cell_type": "markdown",
   "metadata": {},
   "source": [
    "# Practice_Sentiment Analysis\n",
    "\n",
    "비문법/비정형성이 높게 나타나는 커뮤니티 텍스트 감성분석 연습 프로젝트\n",
    "\n",
    "* 대상 : 에픽세븐 갤러리\n",
    "* 방법 : 웹크롤링을 통한 기간 지정 텍스트 수집 후 기계학습을 통한 감성어 분석으로 게시글/일자 단위 긍정/부정성 측정\n",
    "\n",
    "\n",
    "### Roadmap\n",
    "* LD(Levenshtein Distance) 알고리즘의 작성\n",
    "   * 두 단어를 동일하게 만들기 위해 수정/연산이 몇 번 필요한지를 계산하여 단위 텍스트 간 유사도 측정\n",
    "\n",
    "```\n",
    "LD(a, len_a, b, len_b):\n",
    "    ### 위 알고리즘에서 len_w는 문자열 w의 길이를\n",
    "    ### 의미하며 w_i의 형태는 문자열 w의 i번째 문자\n",
    "    ### 를 의미한다. 위의 알고리즘은 문자열 a를 문자\n",
    "    ### 열 b와 같도록 하는 거리를 계산하는 알고리즘\n",
    "    ### 을 의미한다.\n",
    "    \n",
    "    if len_a = 0 then return len_b\n",
    "    if len_b = 0 then return len_a\n",
    "    \n",
    "    if a_(len_a - 1) = b_(len_b - 1) then cost = 0\n",
    "    else cost = 1\n",
    "    \n",
    "    return min(LD(a, len_a - 1, b, len_b) + 1,\n",
    "               LD(a, len_a, b, len_b - 1) + 1,\n",
    "               LD(a, len_a - 1, b, len_b - 1) + cost)\n",
    "    \n",
    "raw algorithm 출처\n",
    "*** http://citeseerx.ist.psu.edu/viewdoc/download?doi=10.1.1.832.2808&rep=rep1&type=pdf\n",
    "```\n",
    "\n",
    "* 학습용 텍스트 데이터셋 수집 (긍정/부정성이 강하게 나타나는 문자열 위주 에픽세븐 갤러리 게시글 1천 개)\n",
    "  * 라이브 커뮤니티 특성상 게시글이 수 초 단위로 생성되므로, 갤러리 1p - 20p (페이지당 게시글 50건)까지를 한번에 저장 후 분석.\n",
    "* "
   ]
  },
  {
   "cell_type": "code",
   "execution_count": 1,
   "metadata": {},
   "outputs": [],
   "source": [
    "from selenium import webdriver\n",
    "from selenium.webdriver.common.by import By\n",
    "from selenium.webdriver.support.ui import WebDriverWait\n",
    "from selenium.webdriver.support import expected_conditions as EC\n",
    "from selenium.common.exceptions import TimeoutException\n",
    "from selenium.webdriver.common.action_chains import ActionChains\n",
    "\n",
    "import re\n",
    "import requests\n",
    "from bs4 import BeautifulSoup\n",
    "\n",
    "import pandas as pd"
   ]
  },
  {
   "cell_type": "code",
   "execution_count": 2,
   "metadata": {},
   "outputs": [],
   "source": [
    "chromedriver = '/Users/choigww/local/Cellar/chromedriver/chromedriver'\n",
    "phantomdriver = '/Users/choigww/local/Cellar/phantomjs-2.1.1-macosx/bin/phantomjs'"
   ]
  },
  {
   "cell_type": "code",
   "execution_count": null,
   "metadata": {},
   "outputs": [],
   "source": []
  },
  {
   "cell_type": "code",
   "execution_count": 3,
   "metadata": {},
   "outputs": [],
   "source": [
    "# 에픽세븐 갤러리 랜딩페이지 (first page)\n",
    "\n",
    "epic7_gal_default = 'http://gall.dcinside.com/mgallery/board/lists?id=epicseven'\n",
    "epic7_gal_pageview = 'http://gall.dcinside.com/mgallery/board/lists/?id=epicseven&page='"
   ]
  },
  {
   "cell_type": "code",
   "execution_count": 4,
   "metadata": {},
   "outputs": [],
   "source": [
    "res = requests.get(epic7_gal_default)\n",
    "soup = BeautifulSoup(res.content, 'html.parser')\n",
    "\n",
    "#review_date = soup.select('span.a-size-base.a-color-secondary.review-date')\n",
    "#review_text= soup.select('div.a-row.a-spacing-medium.review-data > span')"
   ]
  },
  {
   "cell_type": "code",
   "execution_count": 8,
   "metadata": {},
   "outputs": [],
   "source": [
    "# 1p - 20p까지의 에픽세븐 갤러리 게시글 1000개 저장\n",
    "epic7_gal_1000_posts = []\n",
    "for i in range(20): epic7_gal_1000_posts.append(BeautifulSoup(requests.get(epic7_gal_pageview+str(i+1)).content,\n",
    "                                               'html.parser'))"
   ]
  },
  {
   "cell_type": "code",
   "execution_count": 33,
   "metadata": {
    "collapsed": true
   },
   "outputs": [
    {
     "data": {
      "text/plain": [
       "'\\n\\n\\n\\n\\n\\n\\n\\n\\n\\n\\n\\n\\n\\n\\n\\n\\n\\n\\nEPIC 7 갤러리\\n\\n\\n\\n\\n\\n\\n\\n\\n\\n\\n\\n\\n\\n\\n\\n\\n\\n\\n\\n\\n\\n\\n\\n\\n\\n\\n\\n\\n\\r\\n\\t\\tdocument.domain = \"dcinside.com\";\\r\\n\\t\\tvar k_cnt = 0;\\r\\n\\t\\tvar _GALLERY_TYPE_ = \"M\";\\r\\n\\t\\n\\n\\n\\n\\n\\n\\n\\n\\n\\r\\n      window._taboola = window._taboola || [];\\r\\n      _taboola.push({category:\\'auto\\'});\\r\\n      !function (e, f, u, i) {\\r\\n        if (!document.getElementById(i)){\\r\\n          e.async = 1;\\r\\n          e.src = u;\\r\\n          e.id = i;\\r\\n          f.parentNode.insertBefore(e, f);\\r\\n        }\\r\\n      }(document.createElement(\\'script\\'),\\r\\n      document.getElementsByTagName(\\'script\\')[0],\\r\\n      \\'//cdn.taboola.com/libtrc/dcinside/loader.js\\',\\r\\n      \\'tb_loader_script\\');\\r\\n      if(window.performance && typeof window.performance.mark == \\'function\\')\\r\\n      {window.performance.mark(\\'tbl_ic\\');}\\r\\n\\t\\n\\n\\n\\n\\n\\n\\n통합검색 바로가기\\n본문영역 바로가기\\n상단 메뉴 바로가기\\n\\n\\n\\n\\n\\n\\n\\n\\n\\n\\n\\n\\n\\n\\n\\n\\n\\n갤러리 검색\\n\\n\\n\\n통합검색\\n\\n\\n\\n\\n검색\\n\\n\\n\\n\\n\\n\\n\\n\\n\\n\\n\\n갤러리\\n갤로그\\n뉴스\\n만두몰\\n이벤트\\n로그인\\n\\n\\n\\n\\n\\n\\n\\nGNB\\n\\n\\n갤러리\\n\\n\\n\\n\\n\\n게임\\n연예/방송\\n스포츠\\n교육/학술\\n여행/음식/생물\\n취미/생활\\n\\n\\n\\n\\nm.갤러리\\n갤로그\\n뉴스\\n이벤트\\n만두몰\\n디시위키\\n\\n\\n\\n어제  게시글 등록\\n어제  댓글 등록\\n\\n\\n\\n\\n\\n\\n\\n\\n\\n\\n\\n\\n\\nEPIC 7 마이너 갤러리\\n\\n\\nNEW연관 갤러리(1/2) 연관 갤러리 열기\\n갤주소 복사\\n차단설정\\n갤러리 이용안내\\n\\n\\n\\n\\n마이너 갤러리 이슈박스, 최근방문 갤러리\\n\\n\\n\\n\\n\\n연관 갤러리\\n\\n\\n\\nEPIC 7 갤러리   타 갤러리(0)\\n이 갤러리가 연관 갤러리로 추가한 갤러리\\n\\n\\n\\n이전\\n\\n0/0\\n\\n다음\\n\\n\\n\\n\\n\\n타 갤러리  EPIC 7 갤러리(0)\\n이 갤러리를 연관 갤러리로 추가한 갤러리\\n\\n\\n\\n이전\\n\\n0/0\\n\\n다음\\n\\n\\n\\n\\n연관 갤러리 레이어 닫기\\n\\n\\r\\n\\t  <li>\\r\\n\\t\\t<a class=\"{{if typeof(is_new) != \\'undefined\\' && is_new == \\'A_NEW\\'}}newtxt{{/if}}\" href=\"/board/lists?id=${name}\">\\r\\n\\t\\t  ${ko_name} {{if gallery_type == \\'M\\'}}m.갤러리{{/if}}\\r\\n\\t\\t</a>\\r\\n\\t  </li>\\r\\n\\t  \\n\\n\\n\\n\\n\\n마이너 갤러리 소개\\n\\n\\n \\n\\n\\r\\n\\t\\t\\t모바일게임 에픽세븐에 관심을 가지는사람들을 위한곳 \\t\\t  \\n\\n\\n\\n\\n매니저\\n\\n솔무향(eltldyd6974)\\n\\n\\n\\n부매니저\\n\\n루인트(ahntony2810)\\nGER(maragmkk)\\nNakam(dcnakamseven)\\nlleageo(lleageo)\\n황녀님프로시종(keedong331)\\n\\n\\n\\n개설일\\n2016-12-26\\n\\n\\n\\n\\n\\n\\n\\n흥한갤\\n\\n\\n3\\n위\\n\\n\\n\\n\\n\\n정전갤\\n\\n\\n순위권 밖\\n\\n\\n\\n\\n\\n\\n신규갤\\n\\n\\n순위권 밖\\n\\n\\n\\n\\n흥한갤이란\\n\\n\\n\\n\\n\\n전체 마이너 갤러리 순위에서 100위 내에 해당될 경우 흥한갤이 됩니다.\\n흥한갤은 순위 갱신 시 변동될 수 있습니다.\\n흥한갤이 반드시 승격의 기준이 되는 건 아닙니다.\\n\\n닫기\\n\\n\\n\\n흥한갤 전체 순위\\n\\n\\n\\n\\n흥한갤 전체 순위\\n(전체 마이너 갤러리 순위에서 100위 내에 해당될 경우 흥한갤이 됩니다.)\\n\\n\\n\\r\\n\\t\\t\\t  {{each rows}}\\r\\n\\t\\t\\t\\t{{if rank % 20 == 1}}<ol class=\"pop_hotmgall_listbox\">{{/if}}\\r\\n\\t\\t\\t\\t<li><a href=\"/mgallery/board/lists?id=${id}\" onmouseover=\"show_hot_img(\\'${gate_img}\\');\" onmouseout=\"hide_hot_img();\" onmousemove=\"move_hot_img();\"><em class=\"num {{if rank < 11}}font_red{{/if}}\">${rank}.</em>${ko_name}</a></li>\\r\\n\\t\\t\\t\\t{{if rank % 20 == 0}}</ol>{{/if}}\\r\\n\\t\\t\\t  {{/each}}\\r\\n\\t\\t\\t  \\n\\n\\n갤러리 전체보기 레이어 닫기\\n\\n\\n\\n\\n\\n\\n\\n\\n\\n\\n\\n차단설정\\n\\n차단설정을 통해 게시물을 걸러서 볼 수 있습니다.\\n\\n\\n전체설정\\n갤러리별 설정\\n\\n\\n\\n\\n\\n\\n[전체 갤러리]\\n차단 기능을 사용합니다. 차단 등록은 20자 이내, 최대 10개까지 가능합니다.\\n\\non\\n\\n\\n\\n\\n차단 단어\\n\\n등록\\n\\n\\n\\n차단 ID\\n\\n등록\\n\\n\\n\\n차단 닉네임\\n\\n등록\\n\\n\\n\\n차단 IP\\n\\n등록\\n\\n\\n\\n\\n\\n\\n\\n\\n설정된 갤러리\\n\\n\\r\\n\\t\\t\\t\\t<li>\\r\\n\\t\\t\\t\\t  <span class=\"ub_block-${id}\" style=\"cursor:pointer;\" onclick=\"ub_apply_conf($(\\'#user_block .part_setting\\'), \\'${conf}\\', \\'${id}\\')\">${name}</span>\\r\\n\\t\\t\\t\\t  <button type=\"button\" class=\"\" onclick=\"ub_del_gall(\\'${id}\\')\"><span class=\"blind\">차단설정 단어 삭제</span><em class=\"sp_img icon_bword_del\"></em></button>\\r\\n\\t\\t\\t\\t</li>\\r\\n\\t\\t\\t\\t\\n\\n\\n갤러리 선택\\n\\n\\n\\n\\n갤러리\\n\\n\\n\\n\\n마이너 갤러리\\n\\n\\n\\n\\n검색\\n\\n\\n\\r\\n\\t\\t\\t\\t<li><a href=\"javascript:;\" onclick=\"ub_sel_gallery(\\'${name}\\', \\'${ko_name}\\')\">${ko_name}</a></li>\\r\\n\\t\\t\\t\\t\\n설정할 갤러리를 선택하세요.\\n\\n\\n[갤러리]\\n차단 기능을 사용합니다. 전체 설정과는 별개 적용됩니다.\\n\\noff\\n\\n\\n\\n\\n차단 단어\\n\\n등록\\n\\n\\n\\n차단 ID\\n\\n등록\\n\\n\\n\\n차단 닉네임\\n\\n등록\\n\\n\\n\\n차단 IP\\n\\n등록\\n\\n\\n\\n\\n\\n\\n\\n\\n닫기\\n저장\\n\\n\\nc차단설정 레이어 닫기\\n\\n\\n\\r\\n<li>\\r\\n\\t<span class=\"block_word\">${word}</span>\\r\\n\\t<button type=\"button\" class=\"\" onclick=\"ub_remove_text(this)\"><span class=\"blind\">차단설정 단어 삭제</span><em class=\"sp_img icon_bword_del\"></em></button>\\r\\n</li>\\r\\n\\n\\n \\n\\n\\n최근 방문 갤러리\\n\\n이전\\n최근 방문 갤러리가 없습니다.\\n\\n\\r\\n\\t<li><a href=\"//${link}\" class=\"logClass\" depth1=\"topframe\" depth2=\"gall_lately\" depth3=\"${id}\">${name}</a><button type=\"button\" class=\"btn_visit_del\" data-id=\"${id}\"><span class=\"blind\">삭제</span><em class=\"icon_visit_del\"></em></button></li>\\r\\n\\t\\n최근 방문 갤러리가 없습니다.\\n다음\\n\\n\\n\\r\\nlately_gall_init(\\'epicseven\\', \\'EPIC 7\\', \\'\\');\\r\\n\\n\\n\\n\\n\\n\\n\\n\\n\\n\\n\\n\\n\\n\\n\\n\\n\\n\\n\\n\\n\\n\\n갤러리 리스트 영역\\n\\n\\n전체글\\n개념글\\n공지\\n\\n\\n\\n\\n\\n30개\\n50개\\n100개\\n\\n50개페이지당 게시물 노출 옵션\\n\\n30개\\n50개\\n100개\\n\\n\\n\\n\\n게시판형 리스트\\n\\n\\n\\n앨범형 리스트\\n\\n\\n\\n글쓰기\\n\\n\\n\\n\\n\\n \\n\\n\\n갤러리 리스트\\n\\n\\n\\n\\n\\n\\n\\n\\n\\n\\n번호\\n제목\\n글쓴이\\n날짜\\n조회\\n추천\\n\\n\\n\\n\\n\\n설문\\n과잉대응 스태프 때문에 팬심 떨어지는 스타는?\\n운영자\\n18/10/22\\n-\\n-\\n\\n\\n\\n329779\\n\\n데스티나에서 아카테스로 갈아탔다\\n[1] \\n\\nㅇㅇ(175.223) \\n10/25\\n78\\n0\\n\\n\\n329777\\n\\n이거사나?\\n[4] \\n\\n큰부리새자리 \\n10/25\\n65\\n0\\n\\n\\n329776\\n\\n미니스톱에서 사왔다 쿠폰주나 시험해본다\\n\\n\\nㅇㅇ \\n10/25\\n65\\n0\\n\\n\\n329773\\n\\n[핫산]움찔거리는 알렉사\\n[20] \\n\\n사공이 \\n10/25\\n480\\n14\\n\\n\\n329772\\n\\n데티는 지금 상태가 딱 맞지 않냐\\n[5] \\n\\nㅇㅇ(222.103) \\n10/25\\n73\\n0\\n\\n\\n329770\\n\\n멸화의검 원래 잘 붙음?\\n[5] \\n\\nㅇㅇ(183.109) \\n10/25\\n92\\n0\\n\\n\\n329769\\n\\n우웅...형아....나....쉬...\\n[9] \\n\\nㅇㅇ(76.184) \\n10/25\\n445\\n21\\n\\n\\n329768\\n\\n씹그오가 머임?\\n\\n\\nㅇㅇ(223.38) \\n10/25\\n20\\n1\\n\\n\\n329767\\n\\n클린디씨 쓰자\\n\\n\\nㅇㅇ(1.176) \\n10/25\\n37\\n0\\n\\n\\n329766\\n\\n도리스 아티뭐끼냐\\n[6] \\n\\nㅇㅇ(110.70) \\n10/25\\n52\\n0\\n\\n\\n329765\\n\\n아라만티 셋 뭐로갔냐\\n\\n\\n잉구스 \\n10/25\\n8\\n0\\n\\n\\n329764\\n\\n뉴비로 죽거나, 살아남아 흑우가 되는 것 뿐이다\\n\\n\\nㅇㅇ(210.205) \\n10/25\\n34\\n0\\n\\n\\n329762\\n\\n리빙포인트)차단 단어설정 알려줄께\\n[7] \\n\\n육공주니오르 \\n10/25\\n96\\n4\\n\\n\\n329761\\n\\n이제 데티 탬 빼서 다른애 줘야하나\\n[2] \\n\\nㅇㅇ \\n10/25\\n35\\n0\\n\\n\\n329758\\n\\n사진 중 하나를 고르시오.\\n[13] \\n\\nㅇㅇ(122.30) \\n10/25\\n123\\n4\\n\\n\\n329755\\n\\n제라토 깨는데 특별히 도움되는 녀석 따로 있음?\\n[1] \\n\\n갈증과정복자 \\n10/25\\n23\\n0\\n\\n\\n329753\\n\\n힐러들 피통 1만 맞춰주고십다\\n[1] \\n\\nゆとり~☆ \\n10/25\\n30\\n0\\n\\n\\n329747\\n\\n너네 통피 다 차단함?\\n[6] \\n\\nㅇㅇ(124.194) \\n10/25\\n101\\n0\\n\\n\\n329745\\n\\n골렘 10 오토 후기\\n[3] \\n\\nㅇㅇ(115.11) \\n10/25\\n107\\n0\\n\\n\\n329742\\n\\n좆티가 구린건맞고  샬롯이 좋은것도 맞다\\n[1] \\n\\nㅇㅇ(58.224) \\n10/25\\n40\\n0\\n\\n\\n329739\\n\\n데티 아카 질문점\\n[5] \\n\\nㅇㅇ(175.223) \\n10/25\\n53\\n0\\n\\n\\n329735\\n\\n세번째6성 추천좀\\n\\n\\nㅇㅇ(175.200) \\n10/25\\n24\\n0\\n\\n\\n329734\\n\\n샬롯이 좋긴한데 애매해서\\n[4] \\n\\nㅇㅇ(110.70) \\n10/25\\n82\\n0\\n\\n\\n329732\\n\\n아직도 데티가 좋은거라 착각하는새끼가있나\\n[4] \\n\\nㅇㅇ \\n10/25\\n95\\n0\\n\\n\\n329730\\n\\n도리스가 그리 좋음???\\n[8] \\n\\nㅇㅇ(121.140) \\n10/25\\n87\\n0\\n\\n\\n329727\\n\\n어케졌노 시발련아\\n[7] \\n\\n늒네쟝(211.36) \\n10/25\\n159\\n0\\n\\n\\n329724\\n\\n루트비히 버프하면 쓸거같냐??\\n[11] \\n\\nㅇㅇ(117.111) \\n10/25\\n37\\n0\\n\\n\\n329723\\n\\n야 던만추 이거 성인게임임??\\n[3] \\n\\nㅇㅇ(175.201) \\n10/25\\n166\\n0\\n\\n\\n329721\\n\\n이거 왼쪽에 쫄아있는거 루엘임?\\n\\n\\nㅇㅇ(223.33) \\n10/25\\n55\\n0\\n\\n\\n329719\\n\\n끌. 로. 에. 존. 나 .쌔\\n\\n\\nㅇㅇ \\n10/25\\n61\\n0\\n\\n\\n329714\\n\\n집빌 상향은 어때보이냐\\n[3] \\n\\n루트비히팬티 \\n10/25\\n61\\n0\\n\\n\\n329713\\n\\n군대간 친구 배포캐 얻어주느라 어제 씹그오해봤는데 씨발1\\n[3] \\n\\n천덕영 \\n10/25\\n75\\n2\\n\\n\\n329712\\n\\n데스티나 버프 : 속도업 vs 3스쿨감소\\n[4] \\n\\nㅇㅇ(119.204) \\n10/25\\n59\\n0\\n\\n\\n329708\\n\\n박제 해본다 ㅋㅋ\\n[8] \\n\\nㅇㅇ(61.102) \\n10/25\\n171\\n0\\n\\n\\n329699\\n\\n던전밸런스 어이없는 것 중 하나\\n[4] \\n\\nㅇㅇ(210.205) \\n10/25\\n109\\n0\\n\\n\\n329698\\n\\n꿀때1지 걔 주작충 아님?\\n[2] \\n\\n우사기 \\n10/25\\n71\\n1\\n\\n\\n329692\\n\\n걍 코드걸어 씨발\\n\\n\\n썩은고름 \\n10/25\\n63\\n0\\n\\n\\n329685\\n\\n내 생명칼 옵션 죽인다\\n[2] \\n\\nㅁㅁ(150.249) \\n10/25\\n96\\n0\\n\\n\\n329684\\n\\n씨발 좆같네 그럼 후반가면 데스티나가좋냐?\\n[5] \\n\\nㅇㅇ \\n10/25\\n98\\n0\\n\\n\\n329683\\n\\n아니 코드 거는걸로 ㅈㄹ하는 새끼들ㅈ까고\\n\\n\\n벡터Kriss \\n10/25\\n57\\n0\\n\\n\\n329679\\n\\n제라토 일반 드랍율 상향했나\\n\\n\\nㅇㅇ(110.70) \\n10/25\\n17\\n0\\n\\n\\n329675\\n\\n차단 단어 설정이 ㅆㅅㅌㅊ인듯\\n[1] \\n\\nJudas \\n10/25\\n104\\n0\\n\\n\\n329674\\n\\n나도 아카 데스로 싸우고싶으니\\n[4] \\n\\n정령의왕데스티나 \\n10/25\\n69\\n0\\n\\n\\n329672\\n\\n씹슨 갈았다\\n[3] \\n\\n돌핀(58.122) \\n10/25\\n56\\n0\\n\\n\\n329670\\n\\n완장아 빨리 코드걸어라\\n\\n\\n폭풍최 \\n10/25\\n19\\n0\\n\\n\\n329667\\n\\n저 도배충새끼는 뭐길래 오늘 아침부터 저러냐\\n[2] \\n\\n썩은고름 \\n10/25\\n61\\n0\\n\\n\\n329664\\n\\n클로에 좋아 진거 맞음?\\n[6] \\n\\nPast(223.62) \\n10/25\\n74\\n0\\n\\n\\n329662\\n\\n와 에픽세븐 뽑기확률은 ㄹㅇ 혜자였음\\n[5] \\n\\nㅇㅇ(182.213) \\n10/25\\n147\\n1\\n\\n\\n329661\\n\\n얘 유피네 엄마면 좋겠어\\n[2] \\n\\n생쥐 \\n10/25\\n79\\n0\\n\\n\\n329659\\n\\n키리스 키운놈이 적폐다\\n\\n\\nㅇㅇ \\n10/25\\n23\\n1\\n\\n\\n\\n\\n\\n\\n\\n\\n\\n\\n\\n\\n\\n  var googletag = googletag || {};\\n  googletag.cmd = googletag.cmd || [];\\n\\n\\n  googletag.cmd.push(function() {\\n    googletag.defineSlot(\\'/76378310/list_left_120600\\', [120, 600], \\'div-gpt-ad-1524708812089-0\\').addService(googletag.pubads());\\n    googletag.pubads().enableSingleRequest();\\n    googletag.enableServices();\\n  });\\n\\n\\n\\n\\ngoogletag.cmd.push(function() { googletag.display(\\'div-gpt-ad-1524708812089-0\\'); });\\n\\n \\n\\r\\n\\t\\t  window._taboola = window._taboola || [];\\r\\n\\t\\t  _taboola.push({\\r\\n\\t\\t    mode: \\'thumbnails-lr_abp-mode\\',\\r\\n\\t\\t    container: \\'taboola-left-rail-article-thumbnails\\',\\r\\n\\t\\t    placement: \\'Left Rail Article Thumbnails\\',\\r\\n\\t\\t    target_type: \\'mix\\'\\r\\n\\t\\t  });\\r\\n\\t\\t\\n\\r\\n\\t    var stickyTop = $(\\'.stickyunit\\').offset().top;       // get initial position of the element\\r\\n\\t    //console.log(\\'stickyTop:\\'+stickyTop);\\r\\n\\t    $(window).scroll(function() {                  // assign scroll event listener\\r\\n\\t\\t    var currentScroll = $(window).scrollTop();\\r\\n\\t\\t    var gall_top_recom_height = $(\"#gall_top_recom\").height(); //상단 개념박스 높이.\\r\\n\\t\\t   \\tif (typeof gall_top_recom_height == \\'undefined\\') gall_top_recom_height = 0;\\r\\n\\t\\t   \\tif(gall_top_recom_height > 0) {\\r\\n\\t\\t\\t   \\tcurrentScroll = currentScroll - 100;\\r\\n\\t\\t\\t   \\tstickyTop = 360;\\r\\n\\t\\t   \\t}\\r\\n\\t\\t   \\t//console.log(\\'currentScroll:\\'+currentScroll);\\r\\n\\t\\t   \\t//console.log(\\'stickyunit:\\'+stickyTop);\\r\\n\\t\\t    if(currentScroll <= stickyTop){\\r\\n\\t\\t        $(\\'.stickyunit\\').css({                      // if you scroll above it\\r\\n\\t\\t            position: \\'absolute\\',\\r\\n\\t\\t            top: \\'0\\',\\r\\n\\t\\t            left: \\'-136px\\',\\r\\n\\t\\t            padding: \"20px 0px 0px 0px\"\\r\\n\\t\\t        });\\r\\n\\t\\t    }else{\\r\\n\\t\\t        $(\\'.stickyunit\\').css({                      // scroll to that element or below it\\r\\n\\t\\t            position: \"absolute\",\\r\\n\\t\\t            top: currentScroll-stickyTop,\\r\\n\\t\\t            padding: \"20px 0px 0px 0px\"\\r\\n\\t\\t        });\\r\\n\\t\\t    }\\r\\n\\t    });\\r\\n\\t\\n\\n\\n\\n\\n\\n\\n전체글\\n개념글\\n\\n\\n글쓰기\\n\\n\\n\\n\\n12345678910다음끝 \\n\\n\\n\\n\\n갤러리 내부 검색\\n\\n\\n\\n전체\\n제목\\n내용\\n글쓴이\\n제목+내용\\n\\n\\n전체게시물 정렬 옵션\\n\\n\\n\\n전체\\n제목\\n내용\\n글쓴이\\n제목+내용\\n\\n\\n\\n\\n\\n\\n검색\\n\\n\\n\\n\\n\\n\\n\\r\\n  if(typeof(chk_user_block) == \\'function\\') {\\r\\n\\t  chk_user_block(\\'epicseven\\');\\r\\n  }\\r\\n  \\n\\n\\n\\n오른쪽 컨텐츠 영역\\n\\n\\n\\n\\n\\n\\n로그인을 해 주시기 바랍니다.\\n\\n\\n갤로그\\n즐겨찾기리스트 보기\\n알림\\n\\n\\n\\n\\n갤러리 즐겨찾기\\n\\n\\n즐겨찾는 갤러리 리스트입니다.\\n갤러리명 클릭 시 해당 갤러리로 이동합니다.\\n\\n추가한 갤러리가 없습니다.\\n\\n\\r\\n\\t\\t  <li>\\r\\n\\t\\t\\t<button type=\"button\" class=\"btn_sfavorite\" onclick=\"myFavoriteToggle(this);\" data-id=\"${code_id}\"><span class=\"blind\">추가</span><em class=\"sp_img icon_sfavorite\"></em></button>\\r\\n\\t\\t\\t<a href=\"/board/lists?id=${code_id}\">${name}</a>\\r\\n\\t\\t  </li>\\r\\n\\t\\t  \\n\\n\\n취소\\n저장\\n\\n\\n즐겨찾기 레이어 닫기\\n\\n\\n\\n\\n\\n알림설정\\n\\n\\n\\n한줄알림알림 팝업을 ON/OFF 합니다.\\r\\n\\t\\t\\t\\n\\non\\n\\n\\n\\n\\n댓글알림내 글에 댓글이 달린 경우 알려줍니다.\\r\\n\\t\\t\\t\\n\\non\\n\\n\\n\\n\\n답글알림내 댓글에 답글이 달린 경우 알려줍니다.\\r\\n\\t\\t\\t\\n\\non\\n\\n\\n\\n\\n힛갤알림힛갤이 등록된 경우 알려줍니다.\\r\\n\\t\\t\\t\\n\\non\\n\\n\\n\\n\\n닫기\\n저장\\n\\n\\n알림 설정 레이어 닫기\\n\\n\\n\\n\\n\\n\\n알림\\n\\n전체삭제\\n설정\\n\\n\\n\\n\\r\\n\\t\\t{{if type == \\'manager\\'}}\\r\\n\\t\\t<li class=\"notice_mng\">\\r\\n\\t\\t  <a {{if link}}href=\"${link}\"{{/if}} class=\"notice_txt\"><span>${prefix} ${content}</span>\\r\\n\\t\\t\\t<span class=\"inner\">\\r\\n\\t\\t\\t{{if time >= alarm_new_max}}<span class=\"new\"><em class=\"blind\">NEW</em><em class=\"sp_img icon_new\"></em></span>{{/if}}\\r\\n\\t\\t\\t<button type=\"button\" class=\"\" onclick=\"remove_alarm($(this).closest(\\'li\\'))\"><span class=\"blind\">알림삭제</span><em class=\"sp_img icon_bword_del\"></em></button>\\r\\n\\t\\t\\t</span>\\r\\n\\t\\t  </a>\\r\\n\\t\\t</li>\\r\\n\\t\\t{{else}}\\r\\n\\t\\t<li>\\r\\n\\t\\t  <a href=\"${link}\" class=\"notice_txt\">${prefix} ${content}</a>{{if time >= alarm_new_max}}<span class=\"new\"><em class=\"blind\">NEW</em><em class=\"sp_img icon_new\"></em></span>{{/if}}\\r\\n\\t\\t  <button type=\"button\" class=\"\" onclick=\"remove_alarm($(this).closest(\\'li\\'))\"><span class=\"blind\">알림삭제</span><em class=\"sp_img icon_bword_del\"></em></button>\\r\\n\\t\\t</li>\\r\\n\\t\\t{{/if}}\\r\\n\\t\\t\\n새로운 알림이 없습니다.\\n\\n알림 리스트 레이어 닫기\\n\\n\\n\\n\\n\\n\\n\\n\\n\\n개념글 []\\n\\n\\n/\\n\\n이전\\n다음\\n\\n\\n\\n\\r\\n\\t\\t<li><a href=\"${url}\" class=\"logClass\" depth1=\"rightframe\" depth2=\"recommend\">${title}</a></li>\\r\\n\\t\\t\\n\\n\\n\\n\\n\\n\\n  var googletag = googletag || {};\\n  googletag.cmd = googletag.cmd || [];\\n\\n\\n  googletag.cmd.push(function() {\\n    googletag.defineSlot(\\'/76378310/list_right_300600\\', [300, 600], \\'div-gpt-ad-1538097649334-0\\').addService(googletag.pubads());\\n    googletag.pubads().enableSingleRequest();\\n    googletag.enableServices();\\n  });\\n\\n\\n\\n\\ngoogletag.cmd.push(function() { googletag.display(\\'div-gpt-ad-1538097649334-0\\'); });\\n\\n \\n\\n\\n\\n\\n실시간 검색어 \\n\\n\\n\\n종합\\n시사\\n연예\\n스포츠\\n\\n\\n\\n\\n\\n\\r\\n\\t\\t\\t<li>\\r\\n\\t\\t\\t  <a href=\"${linkurl}\" target=\"_blank\">\\r\\n\\t\\t\\t\\t<span class=\"rank_num\"><em>${rank}</em></span>\\r\\n\\t\\t\\t\\t<span class=\"rank_txt\">${keyword}</span>\\r\\n\\t\\t\\t  </a>\\r\\n\\t\\t\\t</li>\\r\\n\\t\\t\\t\\n\\n\\n\\n12.20 14:27\\n\\n제공 Daum 검색다음검색이란\\n\\n\\n\\r\\n\\t\\t\\t\\t검색어를 누르면, Daum 검색결과로 이동합니다.\\r\\n\\t\\t\\t\\t닫기\\n\\n\\n\\n\\n\\n\\n\\n\\n\\n\\n\\n뉴스NEW\\n\\n\\n1/3\\n\\n이전\\n다음\\n\\n\\n\\n\\r\\n\\t\\t  <a class=\"inner logClass\" href=\"${url}\" depth1=\"rightframe\" depth2=\"dcnewsj\">\\r\\n\\t\\t\\t<span class=\"img_box\">\\r\\n\\t\\t\\t  <img src=\"${thumb}\" alt=\"\" >\\r\\n\\t\\t\\t</span>\\r\\n\\t\\t\\t<div class=\"txt_box\">\\r\\n\\t\\t\\t  <strong>${title}</strong>\\r\\n\\t\\t\\t  ${description}\\r\\n\\t\\t\\t</div>\\r\\n\\t\\t  </a>\\r\\n\\t\\t\\n\\n\\n\\n\\n\\n\\n 디시위키\\n심심할 땐 랜덤\\n\\n\\n\\r\\n\\t\\t\\t<a href=\"${link}\" class=\"logClass\" depth1=\"rightframe\" depth2=\"dcwiki\">\\r\\n\\t\\t\\t  <strong class=\"wiki_tit\">#${title}</strong>\\r\\n\\t\\t\\t  <p class=\"wiki_txt\">${memo}</p>\\r\\n\\t\\t\\t</a>\\r\\n\\t\\t  \\n\\n\\n\\n\\n\\n\\n힛(HIT)NEW\\n그때 그 힛\\n\\n\\n1/3\\n\\n이전\\n다음\\n\\n\\n\\n1/4\\n\\n이전\\n다음\\n\\n\\n\\n\\n\\n\\r\\n\\t\\t  <a class=\"inner logClass\" href=\"${link}\" depth1=\"rightframe\" depth2=\"${code}\">\\r\\n\\t\\t\\t<span class=\"img_box\">\\r\\n\\t\\t\\t  <img src=\"${original_link}\" alt=\"${title}\">\\r\\n\\t\\t\\t  <span class=\"sp_years icon_years7\" style=\"display:none\"><span class=\"blind\">7년전</span></span>\\r\\n\\t\\t\\t  <span class=\"sp_years icon_years10\" style=\"display:none\"><span class=\"blind\">10년전</span></span>\\r\\n\\t\\t\\t</span>\\r\\n\\t\\t\\t<div class=\"txt_box\">\\r\\n\\t\\t\\t  <strong>${title}</strong>\\r\\n\\t\\t\\t   <p class=\"hit_day\">작성일 ${reg_date}</p>\\r\\n\\t\\t\\t</div>\\r\\n\\t\\t  </a>\\r\\n\\t\\t\\n\\n\\n\\n\\n\\n\\n초개념\\n\\n초개념 더보기\\n\\n\\n\\n\\n\\r\\n\\t\\t\\t<div class=\"secimg_box\">\\r\\n\\t\\t\\t  <a class=\"inner logClass\" href=\"${url}\" depth1=\"rightframe\" depth2=\"toprecommend\">\\r\\n\\t\\t\\t\\t<span class=\"img_box\">\\r\\n\\t\\t\\t\\t  <img src=\"${thumb}\" alt=\"\">\\r\\n\\t\\t\\t\\t</span>\\r\\n\\t\\t\\t\\t<div class=\"txt_box\">\\r\\n\\t\\t\\t\\t  <strong>${title}</strong>\\r\\n\\t\\t\\t\\t</div>\\r\\n\\t\\t\\t  </a>\\r\\n\\t\\t\\t</div>\\r\\n\\t\\t\\t\\n\\n\\n\\r\\n\\t\\t  <li><a href=\"${url}\" class=\"logClass\" depth1=\"rightframe\" depth2=\"toprecommend\">${title}</a></li>\\r\\n\\t\\t  \\n\\n\\n\\n\\n\\n\\n이슈줌NEW\\n\\n\\n1/6\\n\\n이전\\n다음\\n\\n\\n\\n\\r\\n\\t\\t  <a class=\"inner logClass\"  href=\"${link}\" depth1=\"rightframe\" depth2=\"issuezoom\">\\r\\n\\t\\t\\t<span class=\"img_box\">\\r\\n\\t\\t\\t  <img src=\"${original_link}\" alt=\"\" width=\"272\">\\r\\n\\t\\t\\t</span>\\r\\n\\t\\t\\t<div class=\"txt_box\">\\r\\n\\t\\t\\t  <strong>${title}</strong>\\r\\n\\t\\t\\t  ${memo}\\r\\n\\t\\t\\t</div>\\r\\n\\t\\t\\t<span class=\"issue_inner\"></span>\\r\\n\\t\\t  </a>\\r\\n\\t\\t\\n\\n\\n\\n\\r\\ngr_recomAjax();\\r\\ngr_newsAjax();\\r\\ngr_wiki();\\r\\ngr_hit();\\r\\ngr_oldhit();\\r\\ngr_toprecomAjax();\\r\\ngr_issueKeyword();gr_issueZoom();  \\n\\n\\n  window._taboola = window._taboola || [];\\n  _taboola.push({\\n    mode: \\'thumbnails-a-stream\\',\\n    container: \\'taboola-below-article-thumbnails-2nd-stream\\',\\n    placement: \\'Below Article Thumbnails-2nd-stream\\',\\n    target_type: \\'mix\\'\\n  });\\n\\n\\n\\n\\n\\r\\n$(\\'footer.dcfoot\\').addClass(\\'type1\\');\\r\\n\\n\\n\\n\\n\\n게임\\n리그 오브 레전드\\n그랑블루 판타지\\n배틀그라운드\\n검은사막\\n던전앤파이터\\n\\n\\n연예/방송\\n블랙핑크\\n러블리즈\\n강다니엘\\n방탄소년단\\nTWICE\\n\\n\\n스포츠\\n국내야구\\n한화 이글스\\nKIA 타이거즈\\n롯데 자이언츠\\n해외축구\\n\\n\\n교육/학술\\n주식\\n비트코인\\n안철수\\n바둑\\n역학\\n\\n\\n여행/음식/생물\\n멍멍이\\n야옹이\\n물고기\\n\\n기타음식\\n\\n\\n취미/생활\\n인터넷방송\\n연극, 뮤지컬 갤러리\\n판타지\\n카툰-연재\\n카툰-단편\\n\\n\\n\\n\\n맨위로\\n\\n\\n\\n\\n\\n회사소개\\n인재채용\\n제휴안내\\n광고안내\\n이용약관\\n개인정보처리방침\\n청소년보호정책\\n마이너 갤러리 운영원칙\\n\\nCopyright ⓒ 1999 - 2018 dcinside. All rights reserved\\n\\n\\n\\n\\n\\r\\n\\t<div class=\"alarmPopup pop_wrap type1 fixed\" style=\"right:30px;bottom:30px;display:none\">\\r\\n\\t  <div class=\"pop_content one_noticewrap\">\\r\\n\\t\\t<a href=\"${link}\" class=\"one_notice_txt\">\\r\\n\\t\\t  <span class=\"new\"><em class=\"blind\">NEW</em><em class=\"sp_img icon_new\"></em></span>${prefix} ${content}\\r\\n\\t\\t</a>\\r\\n\\t\\t<button type=\"button\" class=\"poply_close\" onclick=\"$(\\'.alarmPopup\\').remove()\"><span class=\"blind\">알림 레이어 닫기</span><em class=\"sp_img icon_blueclose\"></em></button>\\r\\n\\t  </div>\\r\\n\\t</div>\\r\\n  \\n\\n\\n\\r\\n  window._taboola = window._taboola || [];\\r\\n  _taboola.push({flush: true});\\r\\n  \\n\\n\\n\\n\\n\\n\\r\\n\\r\\n\\t  var _gaq = _gaq || [];\\r\\n\\t  _gaq.push([\\'_setAccount\\', \\'UA-5149721-11\\']);\\r\\n\\t  _gaq.push([\\'_setDomainName\\', \\'dcinside.com\\']);\\r\\n\\t  _gaq.push([\\'_setAllowLinker\\', true]);\\r\\n\\t  _gaq.push([\\'_trackPageview\\']);\\r\\n\\r\\n\\t  (function() {\\r\\n\\t\\tvar ga = document.createElement(\\'script\\'); ga.type = \\'text/javascript\\'; ga.async = true;\\r\\n\\t\\tga.src = (\\'https:\\' == document.location.protocol ? \\'https://ssl\\' : \\'http://www\\') + \\'.google-analytics.com/ga.js\\';\\r\\n\\t\\tvar s = document.getElementsByTagName(\\'script\\')[0]; s.parentNode.insertBefore(ga, s);\\r\\n\\t  })();\\r\\n\\r\\n\\t\\n\\n\\n\\r\\n\\r\\n\\t  var _gaq = _gaq || [];\\r\\n\\t  _gaq.push([\\'_setAccount\\', \\'UA-5149721-39\\']);\\r\\n\\t  _gaq.push([\\'_setDomainName\\', \\'dcinside.com\\']);\\r\\n\\t  _gaq.push([\\'_setAllowLinker\\', true]);\\r\\n\\t  _gaq.push([\\'_trackPageview\\']);\\r\\n\\r\\n\\t  (function() {\\r\\n\\t\\tvar ga = document.createElement(\\'script\\'); ga.type = \\'text/javascript\\'; ga.async = true;\\r\\n\\t\\tga.src = (\\'https:\\' == document.location.protocol ? \\'https://ssl\\' : \\'http://www\\') + \\'.google-analytics.com/ga.js\\';\\r\\n\\t\\tvar s = document.getElementsByTagName(\\'script\\')[0]; s.parentNode.insertBefore(ga, s);\\r\\n\\t  })();\\r\\n\\r\\n\\t\\n\\n\\n\\r\\n(function(i,s,o,g,r,a,m){i[\\'GoogleAnalyticsObject\\']=r;i[r]=i[r]||function(){\\r\\n  (i[r].q=i[r].q||[]).push(arguments)},i[r].l=1*new Date();a=s.createElement(o),\\r\\n  m=s.getElementsByTagName(o)[0];a.async=1;a.src=g;m.parentNode.insertBefore(a,m)\\r\\n  })(window,document,\\'script\\',\\'//www.google-analytics.com/analytics.js\\',\\'ga\\');\\r\\n\\r\\n  //마이너 갤러리 전체\\r\\n  ga(\\'create\\', \\'UA-10723182-7\\', \\'auto\\', {\\'name\\': \\'mgall_all\\',\\'sampleRate\\': 10});\\r\\n  ga(\\'mgall_all.require\\', \\'displayfeatures\\');\\r\\n  ga(\\'mgall_all.send\\', \\'pageview\\');\\r\\n\\r\\n  //마이너 갤러리 웹\\r\\n  ga(\\'create\\', \\'UA-10723182-8\\', \\'auto\\', {\\'name\\': \\'mgall_web\\'});\\r\\n  ga(\\'mgall_web.require\\', \\'displayfeatures\\');\\r\\n  ga(\\'mgall_web.send\\', \\'pageview\\');\\r\\n\\r\\n    //마이너 갤러리 전체 + 승격갤\\r\\n  ga(\\'create\\', \\'UA-10723182-10\\', \\'auto\\', {\\'name\\': \\'mgall_raise\\',\\'sampleRate\\': 5});\\r\\n  ga(\\'mgall_raise.require\\', \\'displayfeatures\\');\\r\\n  ga(\\'mgall_raise.send\\', \\'pageview\\');\\r\\n\\r\\n\\n\\n\\r\\nif(!wcs_add) var wcs_add = {};\\r\\nwcs_add[\"wa\"] = \"f92eaecbc22aac\";\\r\\ntry { wcs_do();} catch(err) {}\\r\\n\\n'"
      ]
     },
     "execution_count": 33,
     "metadata": {},
     "output_type": "execute_result"
    }
   ],
   "source": [
    "epic7_gal_1000_posts[1].text"
   ]
  },
  {
   "cell_type": "code",
   "execution_count": null,
   "metadata": {},
   "outputs": [],
   "source": []
  },
  {
   "cell_type": "markdown",
   "metadata": {},
   "source": [
    "### HTML structure analysis\n",
    "\n",
    "BeautifulSoup -> String 자료형 변환 후 기본 구조 (텍스트 타이틀 리스트)\n",
    "\n",
    "* Start indicator\n",
    "```\n",
    "epic 7 갤러리 공지사항\\n\\n\\n솔무향 \n",
    "```\n",
    "\n",
    "* end indicator\n",
    "```\n",
    "\\n\\n\\n\\n\\n\\n\\n\\n\\n\\n\\n\\n\\n\\n  var googletag = googletag\n",
    "```"
   ]
  },
  {
   "cell_type": "code",
   "execution_count": 16,
   "metadata": {},
   "outputs": [],
   "source": [
    "start_indicator = 'epic 7 갤러리 공지사항\\n\\n\\n솔무향 '\n",
    "end_indicator = '\\n\\n\\n\\n\\n\\n\\n\\n\\n\\n\\n\\n\\n\\n  var googletag = googletag'"
   ]
  },
  {
   "cell_type": "code",
   "execution_count": 14,
   "metadata": {
    "collapsed": true
   },
   "outputs": [
    {
     "data": {
      "text/plain": [
       "'\\n\\n\\n\\n\\n\\n\\n\\n\\n\\n\\n\\n\\n\\n\\n\\n\\n\\n\\nEPIC 7 갤러리\\n\\n\\n\\n\\n\\n\\n\\n\\n\\n\\n\\n\\n\\n\\n\\n\\n\\n\\n\\n\\n\\n\\n\\n\\n\\n\\n\\n\\n\\r\\n\\t\\tdocument.domain = \"dcinside.com\";\\r\\n\\t\\tvar k_cnt = 0;\\r\\n\\t\\tvar _GALLERY_TYPE_ = \"M\";\\r\\n\\t\\n\\n\\n\\n\\n\\n\\n\\n\\n\\r\\n      window._taboola = window._taboola || [];\\r\\n      _taboola.push({category:\\'auto\\'});\\r\\n      !function (e, f, u, i) {\\r\\n        if (!document.getElementById(i)){\\r\\n          e.async = 1;\\r\\n          e.src = u;\\r\\n          e.id = i;\\r\\n          f.parentNode.insertBefore(e, f);\\r\\n        }\\r\\n      }(document.createElement(\\'script\\'),\\r\\n      document.getElementsByTagName(\\'script\\')[0],\\r\\n      \\'//cdn.taboola.com/libtrc/dcinside/loader.js\\',\\r\\n      \\'tb_loader_script\\');\\r\\n      if(window.performance && typeof window.performance.mark == \\'function\\')\\r\\n      {window.performance.mark(\\'tbl_ic\\');}\\r\\n\\t\\n\\n\\n\\n\\n\\n\\n통합검색 바로가기\\n본문영역 바로가기\\n상단 메뉴 바로가기\\n\\n\\n\\n\\n\\n\\n\\n\\n\\n\\n\\n\\n\\n\\n\\n\\n\\n갤러리 검색\\n\\n\\n\\n통합검색\\n\\n\\n\\n\\n검색\\n\\n\\n\\n\\n\\n\\n\\n\\n\\n\\n\\n갤러리\\n갤로그\\n뉴스\\n만두몰\\n이벤트\\n로그인\\n\\n\\n\\n\\n\\n\\n\\nGNB\\n\\n\\n갤러리\\n\\n\\n\\n\\n\\n게임\\n연예/방송\\n스포츠\\n교육/학술\\n여행/음식/생물\\n취미/생활\\n\\n\\n\\n\\nm.갤러리\\n갤로그\\n뉴스\\n이벤트\\n만두몰\\n디시위키\\n\\n\\n\\n어제  게시글 등록\\n어제  댓글 등록\\n\\n\\n\\n\\n\\n\\n\\n\\n\\n\\n\\n\\n\\nEPIC 7 마이너 갤러리\\n\\n\\nNEW연관 갤러리(1/2) 연관 갤러리 열기\\n갤주소 복사\\n차단설정\\n갤러리 이용안내\\n\\n\\n\\n\\n마이너 갤러리 이슈박스, 최근방문 갤러리\\n\\n\\n\\n\\n\\n연관 갤러리\\n\\n\\n\\nEPIC 7 갤러리   타 갤러리(0)\\n이 갤러리가 연관 갤러리로 추가한 갤러리\\n\\n\\n\\n이전\\n\\n0/0\\n\\n다음\\n\\n\\n\\n\\n\\n타 갤러리  EPIC 7 갤러리(0)\\n이 갤러리를 연관 갤러리로 추가한 갤러리\\n\\n\\n\\n이전\\n\\n0/0\\n\\n다음\\n\\n\\n\\n\\n연관 갤러리 레이어 닫기\\n\\n\\r\\n\\t  <li>\\r\\n\\t\\t<a class=\"{{if typeof(is_new) != \\'undefined\\' && is_new == \\'A_NEW\\'}}newtxt{{/if}}\" href=\"/board/lists?id=${name}\">\\r\\n\\t\\t  ${ko_name} {{if gallery_type == \\'M\\'}}m.갤러리{{/if}}\\r\\n\\t\\t</a>\\r\\n\\t  </li>\\r\\n\\t  \\n\\n\\n\\n\\n\\n마이너 갤러리 소개\\n\\n\\n \\n\\n\\r\\n\\t\\t\\t모바일게임 에픽세븐에 관심을 가지는사람들을 위한곳 \\t\\t  \\n\\n\\n\\n\\n매니저\\n\\n솔무향(eltldyd6974)\\n\\n\\n\\n부매니저\\n\\n루인트(ahntony2810)\\nGER(maragmkk)\\nNakam(dcnakamseven)\\nlleageo(lleageo)\\n황녀님프로시종(keedong331)\\n\\n\\n\\n개설일\\n2016-12-26\\n\\n\\n\\n\\n\\n\\n\\n흥한갤\\n\\n\\n3\\n위\\n\\n\\n\\n\\n\\n정전갤\\n\\n\\n순위권 밖\\n\\n\\n\\n\\n\\n\\n신규갤\\n\\n\\n순위권 밖\\n\\n\\n\\n\\n흥한갤이란\\n\\n\\n\\n\\n\\n전체 마이너 갤러리 순위에서 100위 내에 해당될 경우 흥한갤이 됩니다.\\n흥한갤은 순위 갱신 시 변동될 수 있습니다.\\n흥한갤이 반드시 승격의 기준이 되는 건 아닙니다.\\n\\n닫기\\n\\n\\n\\n흥한갤 전체 순위\\n\\n\\n\\n\\n흥한갤 전체 순위\\n(전체 마이너 갤러리 순위에서 100위 내에 해당될 경우 흥한갤이 됩니다.)\\n\\n\\n\\r\\n\\t\\t\\t  {{each rows}}\\r\\n\\t\\t\\t\\t{{if rank % 20 == 1}}<ol class=\"pop_hotmgall_listbox\">{{/if}}\\r\\n\\t\\t\\t\\t<li><a href=\"/mgallery/board/lists?id=${id}\" onmouseover=\"show_hot_img(\\'${gate_img}\\');\" onmouseout=\"hide_hot_img();\" onmousemove=\"move_hot_img();\"><em class=\"num {{if rank < 11}}font_red{{/if}}\">${rank}.</em>${ko_name}</a></li>\\r\\n\\t\\t\\t\\t{{if rank % 20 == 0}}</ol>{{/if}}\\r\\n\\t\\t\\t  {{/each}}\\r\\n\\t\\t\\t  \\n\\n\\n갤러리 전체보기 레이어 닫기\\n\\n\\n\\n\\n\\n\\n\\n\\n\\n\\n\\n차단설정\\n\\n차단설정을 통해 게시물을 걸러서 볼 수 있습니다.\\n\\n\\n전체설정\\n갤러리별 설정\\n\\n\\n\\n\\n\\n\\n[전체 갤러리]\\n차단 기능을 사용합니다. 차단 등록은 20자 이내, 최대 10개까지 가능합니다.\\n\\non\\n\\n\\n\\n\\n차단 단어\\n\\n등록\\n\\n\\n\\n차단 ID\\n\\n등록\\n\\n\\n\\n차단 닉네임\\n\\n등록\\n\\n\\n\\n차단 IP\\n\\n등록\\n\\n\\n\\n\\n\\n\\n\\n\\n설정된 갤러리\\n\\n\\r\\n\\t\\t\\t\\t<li>\\r\\n\\t\\t\\t\\t  <span class=\"ub_block-${id}\" style=\"cursor:pointer;\" onclick=\"ub_apply_conf($(\\'#user_block .part_setting\\'), \\'${conf}\\', \\'${id}\\')\">${name}</span>\\r\\n\\t\\t\\t\\t  <button type=\"button\" class=\"\" onclick=\"ub_del_gall(\\'${id}\\')\"><span class=\"blind\">차단설정 단어 삭제</span><em class=\"sp_img icon_bword_del\"></em></button>\\r\\n\\t\\t\\t\\t</li>\\r\\n\\t\\t\\t\\t\\n\\n\\n갤러리 선택\\n\\n\\n\\n\\n갤러리\\n\\n\\n\\n\\n마이너 갤러리\\n\\n\\n\\n\\n검색\\n\\n\\n\\r\\n\\t\\t\\t\\t<li><a href=\"javascript:;\" onclick=\"ub_sel_gallery(\\'${name}\\', \\'${ko_name}\\')\">${ko_name}</a></li>\\r\\n\\t\\t\\t\\t\\n설정할 갤러리를 선택하세요.\\n\\n\\n[갤러리]\\n차단 기능을 사용합니다. 전체 설정과는 별개 적용됩니다.\\n\\noff\\n\\n\\n\\n\\n차단 단어\\n\\n등록\\n\\n\\n\\n차단 ID\\n\\n등록\\n\\n\\n\\n차단 닉네임\\n\\n등록\\n\\n\\n\\n차단 IP\\n\\n등록\\n\\n\\n\\n\\n\\n\\n\\n\\n닫기\\n저장\\n\\n\\nc차단설정 레이어 닫기\\n\\n\\n\\r\\n<li>\\r\\n\\t<span class=\"block_word\">${word}</span>\\r\\n\\t<button type=\"button\" class=\"\" onclick=\"ub_remove_text(this)\"><span class=\"blind\">차단설정 단어 삭제</span><em class=\"sp_img icon_bword_del\"></em></button>\\r\\n</li>\\r\\n\\n\\n \\n\\n\\n최근 방문 갤러리\\n\\n이전\\n최근 방문 갤러리가 없습니다.\\n\\n\\r\\n\\t<li><a href=\"//${link}\" class=\"logClass\" depth1=\"topframe\" depth2=\"gall_lately\" depth3=\"${id}\">${name}</a><button type=\"button\" class=\"btn_visit_del\" data-id=\"${id}\"><span class=\"blind\">삭제</span><em class=\"icon_visit_del\"></em></button></li>\\r\\n\\t\\n최근 방문 갤러리가 없습니다.\\n다음\\n\\n\\n\\r\\nlately_gall_init(\\'epicseven\\', \\'EPIC 7\\', \\'\\');\\r\\n\\n\\n\\n\\n\\n\\n\\n\\n\\n\\n\\n\\n\\n\\n\\n\\n\\n\\n\\n\\n\\n\\n갤러리 리스트 영역\\n\\n\\n전체글\\n개념글\\n공지\\n\\n\\n\\n\\n\\n30개\\n50개\\n100개\\n\\n50개페이지당 게시물 노출 옵션\\n\\n30개\\n50개\\n100개\\n\\n\\n\\n\\n게시판형 리스트\\n\\n\\n\\n앨범형 리스트\\n\\n\\n\\n글쓰기\\n\\n\\n\\n\\n\\n \\n\\n\\n갤러리 리스트\\n\\n\\n\\n\\n\\n\\n\\n\\n\\n\\n번호\\n제목\\n글쓴이\\n날짜\\n조회\\n추천\\n\\n\\n\\n\\n\\n설문\\n과잉대응 스태프 때문에 팬심 떨어지는 스타는?\\n운영자\\n18/10/22\\n-\\n-\\n\\n\\n\\n공지\\n\\n『갤 기사단 목록』\\n[5] \\n\\n솔무향 \\n09/22\\n10054\\n7\\n\\n\\n공지\\n\\n『업데이트 및 이벤트』\\n[14] \\n\\n솔무향 \\n09/18\\n12920\\n15\\n\\n\\n공지\\n\\n『에픽세븐 각종 정보 및 공략』\\n[46] \\n\\n솔무향 \\n09/13\\n62716\\n18\\n\\n\\n공지\\n\\nepic 7 마이너 갤러리는 정식 갤러리로의 승격을 거부합니다.\\n[13] \\n\\n솔무향 \\n10/16\\n2352\\n0\\n\\n\\n공지\\n\\nepic 7 갤러리 공지사항\\n\\n\\n솔무향 \\n09/13\\n4663\\n7\\n\\n\\n329856\\n\\n도도미 목소리가 아줌마 목소리는 아닌 듯\\n\\n\\nㅇㅇ(223.33) \\n10/25\\n1\\n0\\n\\n\\n329855\\n\\n보물섬.jpg\\n\\n\\n라스 \\n10/25\\n12\\n0\\n\\n\\n329854\\n\\n근데 바라는게 뭐냐ㅋㅋㅋㅋㅋ\\n[1] \\n\\nㅇㅇ(175.223) \\n10/25\\n20\\n0\\n\\n\\n329853\\n\\n클린갤질 하고싶다\\n\\n\\nㅇㅇ(124.194) \\n10/25\\n7\\n0\\n\\n\\n329852\\n\\n픽시브 주소 여기.\\n[1] \\n\\n사공이 \\n10/25\\n33\\n0\\n\\n\\n329850\\n\\n이거 왜이러냐 ;;;\\n[1] \\n\\n개대지 \\n10/25\\n12\\n0\\n\\n\\n329849\\n\\n도리스쨩이 꿀캐인 이유\\n[1] \\n\\nYawgmoth \\n10/25\\n20\\n0\\n\\n\\n329848\\n\\n데티 아카 둘다 써본결과\\n\\n\\n육공주니오르 \\n10/25\\n10\\n0\\n\\n\\n329846\\n\\n이정도면 씹 멍청이 인정하냐?\\n\\n\\nㅇㅇ(219.249) \\n10/25\\n16\\n0\\n\\n\\n329844\\n\\n600하늘석 박은거 보답받앗다\\n[5] \\n\\nㅇㅇ(115.11) \\n10/25\\n51\\n0\\n\\n\\n329843\\n\\n지금 도배하는새끼 왜저러는지 알려줌\\n[4] \\n\\n갸. \\n10/25\\n54\\n2\\n\\n\\n329842\\n\\n62층 진짜 애미가 없네.\\n\\n\\nㅇㅇ(211.176) \\n10/25\\n2\\n0\\n\\n\\n329841\\n\\n방금 덱조합 문의햇던애인데\\n[4] \\n\\nㅇㅇ(121.140) \\n10/25\\n18\\n0\\n\\n\\n329840\\n\\n솔무향 완장 내리고 꿀♤때♧지 갤주해라\\n\\n\\n샬롯(223.38) \\n10/25\\n8\\n0\\n\\n\\n329838\\n\\n실크 화살 고쳤다매ㅋㅋㅋㅋ \\n[2] \\n\\nㅇㅇ(116.124) \\n10/25\\n59\\n1\\n\\n\\n329837\\n\\n그래도 데티쟝 스작해조서 자힐 잘함\\n[4] \\n\\n크아오아왕 \\n10/25\\n25\\n0\\n\\n\\n329833\\n\\n완장들 안심심하겠네\\n\\n\\nㅇㅇ \\n10/25\\n32\\n0\\n\\n\\n329832\\n\\n힐러는 이정도면 충분하겠지\\n[2] \\n\\n별모양 \\n10/25\\n33\\n0\\n\\n\\n329831\\n\\n데스티나장점은\\n[1] \\n\\ndd(114.201) \\n10/25\\n24\\n0\\n\\n\\n329829\\n\\n특알람회로 어디가 잘나옴??\\n[2] \\n\\n소도둑찍찍 \\n10/25\\n30\\n0\\n\\n\\n329825\\n\\n패치 내일임?\\n\\n\\nㅇㅇ(121.168) \\n10/25\\n10\\n0\\n\\n\\n329821\\n\\n제발 기도해줘..\\n[1] \\n\\nㅇㅇ(115.11) \\n10/25\\n42\\n0\\n\\n\\n329820\\n\\n6티 영웅 치확목 강화간다\\n[6] \\n\\nㅇㅇ \\n10/25\\n87\\n0\\n\\n\\n329818\\n\\n님들 큰일남\\n\\n\\nㅇㅇ(124.216) \\n10/25\\n36\\n0\\n\\n\\n329816\\n\\n솔직히 리코리스 너프해야됨\\n[4] \\n\\nㅇㅇ(110.70) \\n10/25\\n57\\n0\\n\\n\\n329815\\n\\n루트비히는 뭔데 2번 상향해주냐? 개발자가 키우는캐릭임?\\n[4] \\n\\nㅇㅇ(182.228) \\n10/25\\n55\\n0\\n\\n\\n329814\\n\\n타오바오에서 1.9만에 사기로 함\\n[19] \\n\\nㅇㅇ(1.251) \\n10/25\\n102\\n0\\n\\n\\n329813\\n\\n늒네 갤길구한다\\n\\n\\nㅇㅇ(221.158) \\n10/25\\n5\\n0\\n\\n\\n329812\\n\\n데티관련 내 생각\\n\\n\\n귀여운코기 \\n10/25\\n6\\n0\\n\\n\\n329811\\n\\n제가 파딱이 된다면\\n\\n\\nclear \\n10/25\\n17\\n0\\n\\n\\n329810\\n\\n념글 댓글에 꿀꿀X지 뭐냐\\n\\n\\n힝힝(211.36) \\n10/25\\n29\\n0\\n\\n\\n329806\\n\\n학교수영복은 역시 최고야.\\n[1] \\n\\n사공이 \\n10/25\\n96\\n2\\n\\n\\n329802\\n\\n10단계라고 대수가 아니란걸 깨달은게\\n\\n\\nLuneclad \\n10/25\\n24\\n0\\n\\n\\n329801\\n\\n미연동샀는데 영정먹은케이스같은건없지?\\n[7] \\n\\nㅇㅇ(121.141) \\n10/25\\n92\\n0\\n\\n\\n329800\\n\\n저거사실 고닉본인이 아닐까??\\n[8] \\n\\nclear \\n10/25\\n109\\n4\\n\\n\\n329798\\n\\n이 칼에 미래있냐\\n[4] \\n\\nㅇㅇ(165.132) \\n10/25\\n118\\n0\\n\\n\\n329797\\n\\n데티 버프를 왜함ㅋㅋ\\n\\n\\nclear \\n10/25\\n22\\n0\\n\\n\\n329795\\n\\n아카테스씨벌년아\\n\\n\\n정상은아님 \\n10/25\\n21\\n0\\n\\n\\n329793\\n\\n씨발 겜알못새끼한테 쳐맞으니까 너무 화난다\\n[2] \\n\\nㅇㅇ \\n10/25\\n95\\n0\\n\\n\\n329791\\n\\n멸화투구 공치속붙음\\n\\n\\nㅇㅇ(183.109) \\n10/25\\n32\\n0\\n\\n\\n329790\\n\\n꿀때ㅈㅣ 쎆씨한 여대생이라도 됨?\\n[2] \\n\\nㅇㅇ(223.62) \\n10/25\\n70\\n1\\n\\n\\n329789\\n\\n이거알았냐\\n\\n\\nㄱㄴ(112.185) \\n10/25\\n19\\n0\\n\\n\\n329786\\n\\n심연템 생명력 존나 잘붙음\\n[2] \\n\\n톳트 \\n10/25\\n58\\n0\\n\\n\\n329785\\n\\n던만추겜 출시햇다\\n[7] \\n\\nㅇㅅ(1.211) \\n10/25\\n150\\n0\\n\\n\\n329780\\n\\n야 말하자말자 분탕단어 바뀜\\n[1] \\n\\nㅇㅇ \\n10/25\\n49\\n0\\n\\n\\n\\n\\n\\n\\n\\n\\n\\n\\n\\n\\n\\n  var googletag = googletag || {};\\n  googletag.cmd = googletag.cmd || [];\\n\\n\\n  googletag.cmd.push(function() {\\n    googletag.defineSlot(\\'/76378310/list_left_120600\\', [120, 600], \\'div-gpt-ad-1524708812089-0\\').addService(googletag.pubads());\\n    googletag.pubads().enableSingleRequest();\\n    googletag.enableServices();\\n  });\\n\\n\\n\\n\\ngoogletag.cmd.push(function() { googletag.display(\\'div-gpt-ad-1524708812089-0\\'); });\\n\\n \\n\\r\\n\\t\\t  window._taboola = window._taboola || [];\\r\\n\\t\\t  _taboola.push({\\r\\n\\t\\t    mode: \\'thumbnails-lr_abp-mode\\',\\r\\n\\t\\t    container: \\'taboola-left-rail-article-thumbnails\\',\\r\\n\\t\\t    placement: \\'Left Rail Article Thumbnails\\',\\r\\n\\t\\t    target_type: \\'mix\\'\\r\\n\\t\\t  });\\r\\n\\t\\t\\n\\r\\n\\t    var stickyTop = $(\\'.stickyunit\\').offset().top;       // get initial position of the element\\r\\n\\t    //console.log(\\'stickyTop:\\'+stickyTop);\\r\\n\\t    $(window).scroll(function() {                  // assign scroll event listener\\r\\n\\t\\t    var currentScroll = $(window).scrollTop();\\r\\n\\t\\t    var gall_top_recom_height = $(\"#gall_top_recom\").height(); //상단 개념박스 높이.\\r\\n\\t\\t   \\tif (typeof gall_top_recom_height == \\'undefined\\') gall_top_recom_height = 0;\\r\\n\\t\\t   \\tif(gall_top_recom_height > 0) {\\r\\n\\t\\t\\t   \\tcurrentScroll = currentScroll - 100;\\r\\n\\t\\t\\t   \\tstickyTop = 360;\\r\\n\\t\\t   \\t}\\r\\n\\t\\t   \\t//console.log(\\'currentScroll:\\'+currentScroll);\\r\\n\\t\\t   \\t//console.log(\\'stickyunit:\\'+stickyTop);\\r\\n\\t\\t    if(currentScroll <= stickyTop){\\r\\n\\t\\t        $(\\'.stickyunit\\').css({                      // if you scroll above it\\r\\n\\t\\t            position: \\'absolute\\',\\r\\n\\t\\t            top: \\'0\\',\\r\\n\\t\\t            left: \\'-136px\\',\\r\\n\\t\\t            padding: \"20px 0px 0px 0px\"\\r\\n\\t\\t        });\\r\\n\\t\\t    }else{\\r\\n\\t\\t        $(\\'.stickyunit\\').css({                      // scroll to that element or below it\\r\\n\\t\\t            position: \"absolute\",\\r\\n\\t\\t            top: currentScroll-stickyTop,\\r\\n\\t\\t            padding: \"20px 0px 0px 0px\"\\r\\n\\t\\t        });\\r\\n\\t\\t    }\\r\\n\\t    });\\r\\n\\t\\n\\n\\n\\n\\n\\n\\n전체글\\n개념글\\n\\n\\n글쓰기\\n\\n\\n\\n\\n12345678910다음끝 \\n\\n\\n\\n\\n갤러리 내부 검색\\n\\n\\n\\n전체\\n제목\\n내용\\n글쓴이\\n제목+내용\\n\\n\\n전체게시물 정렬 옵션\\n\\n\\n\\n전체\\n제목\\n내용\\n글쓴이\\n제목+내용\\n\\n\\n\\n\\n\\n\\n검색\\n\\n\\n\\n\\n\\n\\n\\r\\n  if(typeof(chk_user_block) == \\'function\\') {\\r\\n\\t  chk_user_block(\\'epicseven\\');\\r\\n  }\\r\\n  \\n\\n\\n\\n오른쪽 컨텐츠 영역\\n\\n\\n\\n\\n\\n\\n로그인을 해 주시기 바랍니다.\\n\\n\\n갤로그\\n즐겨찾기리스트 보기\\n알림\\n\\n\\n\\n\\n갤러리 즐겨찾기\\n\\n\\n즐겨찾는 갤러리 리스트입니다.\\n갤러리명 클릭 시 해당 갤러리로 이동합니다.\\n\\n추가한 갤러리가 없습니다.\\n\\n\\r\\n\\t\\t  <li>\\r\\n\\t\\t\\t<button type=\"button\" class=\"btn_sfavorite\" onclick=\"myFavoriteToggle(this);\" data-id=\"${code_id}\"><span class=\"blind\">추가</span><em class=\"sp_img icon_sfavorite\"></em></button>\\r\\n\\t\\t\\t<a href=\"/board/lists?id=${code_id}\">${name}</a>\\r\\n\\t\\t  </li>\\r\\n\\t\\t  \\n\\n\\n취소\\n저장\\n\\n\\n즐겨찾기 레이어 닫기\\n\\n\\n\\n\\n\\n알림설정\\n\\n\\n\\n한줄알림알림 팝업을 ON/OFF 합니다.\\r\\n\\t\\t\\t\\n\\non\\n\\n\\n\\n\\n댓글알림내 글에 댓글이 달린 경우 알려줍니다.\\r\\n\\t\\t\\t\\n\\non\\n\\n\\n\\n\\n답글알림내 댓글에 답글이 달린 경우 알려줍니다.\\r\\n\\t\\t\\t\\n\\non\\n\\n\\n\\n\\n힛갤알림힛갤이 등록된 경우 알려줍니다.\\r\\n\\t\\t\\t\\n\\non\\n\\n\\n\\n\\n닫기\\n저장\\n\\n\\n알림 설정 레이어 닫기\\n\\n\\n\\n\\n\\n\\n알림\\n\\n전체삭제\\n설정\\n\\n\\n\\n\\r\\n\\t\\t{{if type == \\'manager\\'}}\\r\\n\\t\\t<li class=\"notice_mng\">\\r\\n\\t\\t  <a {{if link}}href=\"${link}\"{{/if}} class=\"notice_txt\"><span>${prefix} ${content}</span>\\r\\n\\t\\t\\t<span class=\"inner\">\\r\\n\\t\\t\\t{{if time >= alarm_new_max}}<span class=\"new\"><em class=\"blind\">NEW</em><em class=\"sp_img icon_new\"></em></span>{{/if}}\\r\\n\\t\\t\\t<button type=\"button\" class=\"\" onclick=\"remove_alarm($(this).closest(\\'li\\'))\"><span class=\"blind\">알림삭제</span><em class=\"sp_img icon_bword_del\"></em></button>\\r\\n\\t\\t\\t</span>\\r\\n\\t\\t  </a>\\r\\n\\t\\t</li>\\r\\n\\t\\t{{else}}\\r\\n\\t\\t<li>\\r\\n\\t\\t  <a href=\"${link}\" class=\"notice_txt\">${prefix} ${content}</a>{{if time >= alarm_new_max}}<span class=\"new\"><em class=\"blind\">NEW</em><em class=\"sp_img icon_new\"></em></span>{{/if}}\\r\\n\\t\\t  <button type=\"button\" class=\"\" onclick=\"remove_alarm($(this).closest(\\'li\\'))\"><span class=\"blind\">알림삭제</span><em class=\"sp_img icon_bword_del\"></em></button>\\r\\n\\t\\t</li>\\r\\n\\t\\t{{/if}}\\r\\n\\t\\t\\n새로운 알림이 없습니다.\\n\\n알림 리스트 레이어 닫기\\n\\n\\n\\n\\n\\n\\n\\n\\n\\n개념글 []\\n\\n\\n/\\n\\n이전\\n다음\\n\\n\\n\\n\\r\\n\\t\\t<li><a href=\"${url}\" class=\"logClass\" depth1=\"rightframe\" depth2=\"recommend\">${title}</a></li>\\r\\n\\t\\t\\n\\n\\n\\n\\n\\n\\n  var googletag = googletag || {};\\n  googletag.cmd = googletag.cmd || [];\\n\\n\\n  googletag.cmd.push(function() {\\n    googletag.defineSlot(\\'/76378310/list_right_300600\\', [300, 600], \\'div-gpt-ad-1538097649334-0\\').addService(googletag.pubads());\\n    googletag.pubads().enableSingleRequest();\\n    googletag.enableServices();\\n  });\\n\\n\\n\\n\\ngoogletag.cmd.push(function() { googletag.display(\\'div-gpt-ad-1538097649334-0\\'); });\\n\\n \\n\\n\\n\\n\\n실시간 검색어 \\n\\n\\n\\n종합\\n시사\\n연예\\n스포츠\\n\\n\\n\\n\\n\\n\\r\\n\\t\\t\\t<li>\\r\\n\\t\\t\\t  <a href=\"${linkurl}\" target=\"_blank\">\\r\\n\\t\\t\\t\\t<span class=\"rank_num\"><em>${rank}</em></span>\\r\\n\\t\\t\\t\\t<span class=\"rank_txt\">${keyword}</span>\\r\\n\\t\\t\\t  </a>\\r\\n\\t\\t\\t</li>\\r\\n\\t\\t\\t\\n\\n\\n\\n12.20 14:27\\n\\n제공 Daum 검색다음검색이란\\n\\n\\n\\r\\n\\t\\t\\t\\t검색어를 누르면, Daum 검색결과로 이동합니다.\\r\\n\\t\\t\\t\\t닫기\\n\\n\\n\\n\\n\\n\\n\\n\\n\\n\\n\\n뉴스NEW\\n\\n\\n1/3\\n\\n이전\\n다음\\n\\n\\n\\n\\r\\n\\t\\t  <a class=\"inner logClass\" href=\"${url}\" depth1=\"rightframe\" depth2=\"dcnewsj\">\\r\\n\\t\\t\\t<span class=\"img_box\">\\r\\n\\t\\t\\t  <img src=\"${thumb}\" alt=\"\" >\\r\\n\\t\\t\\t</span>\\r\\n\\t\\t\\t<div class=\"txt_box\">\\r\\n\\t\\t\\t  <strong>${title}</strong>\\r\\n\\t\\t\\t  ${description}\\r\\n\\t\\t\\t</div>\\r\\n\\t\\t  </a>\\r\\n\\t\\t\\n\\n\\n\\n\\n\\n\\n 디시위키\\n심심할 땐 랜덤\\n\\n\\n\\r\\n\\t\\t\\t<a href=\"${link}\" class=\"logClass\" depth1=\"rightframe\" depth2=\"dcwiki\">\\r\\n\\t\\t\\t  <strong class=\"wiki_tit\">#${title}</strong>\\r\\n\\t\\t\\t  <p class=\"wiki_txt\">${memo}</p>\\r\\n\\t\\t\\t</a>\\r\\n\\t\\t  \\n\\n\\n\\n\\n\\n\\n힛(HIT)NEW\\n그때 그 힛\\n\\n\\n1/3\\n\\n이전\\n다음\\n\\n\\n\\n1/4\\n\\n이전\\n다음\\n\\n\\n\\n\\n\\n\\r\\n\\t\\t  <a class=\"inner logClass\" href=\"${link}\" depth1=\"rightframe\" depth2=\"${code}\">\\r\\n\\t\\t\\t<span class=\"img_box\">\\r\\n\\t\\t\\t  <img src=\"${original_link}\" alt=\"${title}\">\\r\\n\\t\\t\\t  <span class=\"sp_years icon_years7\" style=\"display:none\"><span class=\"blind\">7년전</span></span>\\r\\n\\t\\t\\t  <span class=\"sp_years icon_years10\" style=\"display:none\"><span class=\"blind\">10년전</span></span>\\r\\n\\t\\t\\t</span>\\r\\n\\t\\t\\t<div class=\"txt_box\">\\r\\n\\t\\t\\t  <strong>${title}</strong>\\r\\n\\t\\t\\t   <p class=\"hit_day\">작성일 ${reg_date}</p>\\r\\n\\t\\t\\t</div>\\r\\n\\t\\t  </a>\\r\\n\\t\\t\\n\\n\\n\\n\\n\\n\\n초개념\\n\\n초개념 더보기\\n\\n\\n\\n\\n\\r\\n\\t\\t\\t<div class=\"secimg_box\">\\r\\n\\t\\t\\t  <a class=\"inner logClass\" href=\"${url}\" depth1=\"rightframe\" depth2=\"toprecommend\">\\r\\n\\t\\t\\t\\t<span class=\"img_box\">\\r\\n\\t\\t\\t\\t  <img src=\"${thumb}\" alt=\"\">\\r\\n\\t\\t\\t\\t</span>\\r\\n\\t\\t\\t\\t<div class=\"txt_box\">\\r\\n\\t\\t\\t\\t  <strong>${title}</strong>\\r\\n\\t\\t\\t\\t</div>\\r\\n\\t\\t\\t  </a>\\r\\n\\t\\t\\t</div>\\r\\n\\t\\t\\t\\n\\n\\n\\r\\n\\t\\t  <li><a href=\"${url}\" class=\"logClass\" depth1=\"rightframe\" depth2=\"toprecommend\">${title}</a></li>\\r\\n\\t\\t  \\n\\n\\n\\n\\n\\n\\n이슈줌NEW\\n\\n\\n1/6\\n\\n이전\\n다음\\n\\n\\n\\n\\r\\n\\t\\t  <a class=\"inner logClass\"  href=\"${link}\" depth1=\"rightframe\" depth2=\"issuezoom\">\\r\\n\\t\\t\\t<span class=\"img_box\">\\r\\n\\t\\t\\t  <img src=\"${original_link}\" alt=\"\" width=\"272\">\\r\\n\\t\\t\\t</span>\\r\\n\\t\\t\\t<div class=\"txt_box\">\\r\\n\\t\\t\\t  <strong>${title}</strong>\\r\\n\\t\\t\\t  ${memo}\\r\\n\\t\\t\\t</div>\\r\\n\\t\\t\\t<span class=\"issue_inner\"></span>\\r\\n\\t\\t  </a>\\r\\n\\t\\t\\n\\n\\n\\n\\r\\ngr_recomAjax();\\r\\ngr_newsAjax();\\r\\ngr_wiki();\\r\\ngr_hit();\\r\\ngr_oldhit();\\r\\ngr_toprecomAjax();\\r\\ngr_issueKeyword();gr_issueZoom();  \\n\\n\\n  window._taboola = window._taboola || [];\\n  _taboola.push({\\n    mode: \\'thumbnails-a-stream\\',\\n    container: \\'taboola-below-article-thumbnails-2nd-stream\\',\\n    placement: \\'Below Article Thumbnails-2nd-stream\\',\\n    target_type: \\'mix\\'\\n  });\\n\\n\\n\\n\\n\\r\\n$(\\'footer.dcfoot\\').addClass(\\'type1\\');\\r\\n\\n\\n\\n\\n\\n게임\\n리그 오브 레전드\\n그랑블루 판타지\\n배틀그라운드\\n검은사막\\n던전앤파이터\\n\\n\\n연예/방송\\n블랙핑크\\n러블리즈\\n강다니엘\\n방탄소년단\\nTWICE\\n\\n\\n스포츠\\n국내야구\\n한화 이글스\\nKIA 타이거즈\\n롯데 자이언츠\\n해외축구\\n\\n\\n교육/학술\\n주식\\n비트코인\\n안철수\\n바둑\\n역학\\n\\n\\n여행/음식/생물\\n멍멍이\\n야옹이\\n물고기\\n\\n기타음식\\n\\n\\n취미/생활\\n인터넷방송\\n연극, 뮤지컬 갤러리\\n판타지\\n카툰-연재\\n카툰-단편\\n\\n\\n\\n\\n맨위로\\n\\n\\n\\n\\n\\n회사소개\\n인재채용\\n제휴안내\\n광고안내\\n이용약관\\n개인정보처리방침\\n청소년보호정책\\n마이너 갤러리 운영원칙\\n\\nCopyright ⓒ 1999 - 2018 dcinside. All rights reserved\\n\\n\\n\\n\\n\\r\\n\\t<div class=\"alarmPopup pop_wrap type1 fixed\" style=\"right:30px;bottom:30px;display:none\">\\r\\n\\t  <div class=\"pop_content one_noticewrap\">\\r\\n\\t\\t<a href=\"${link}\" class=\"one_notice_txt\">\\r\\n\\t\\t  <span class=\"new\"><em class=\"blind\">NEW</em><em class=\"sp_img icon_new\"></em></span>${prefix} ${content}\\r\\n\\t\\t</a>\\r\\n\\t\\t<button type=\"button\" class=\"poply_close\" onclick=\"$(\\'.alarmPopup\\').remove()\"><span class=\"blind\">알림 레이어 닫기</span><em class=\"sp_img icon_blueclose\"></em></button>\\r\\n\\t  </div>\\r\\n\\t</div>\\r\\n  \\n\\n\\n\\r\\n  window._taboola = window._taboola || [];\\r\\n  _taboola.push({flush: true});\\r\\n  \\n\\n\\n\\n\\n\\n\\r\\n\\r\\n\\t  var _gaq = _gaq || [];\\r\\n\\t  _gaq.push([\\'_setAccount\\', \\'UA-5149721-11\\']);\\r\\n\\t  _gaq.push([\\'_setDomainName\\', \\'dcinside.com\\']);\\r\\n\\t  _gaq.push([\\'_setAllowLinker\\', true]);\\r\\n\\t  _gaq.push([\\'_trackPageview\\']);\\r\\n\\r\\n\\t  (function() {\\r\\n\\t\\tvar ga = document.createElement(\\'script\\'); ga.type = \\'text/javascript\\'; ga.async = true;\\r\\n\\t\\tga.src = (\\'https:\\' == document.location.protocol ? \\'https://ssl\\' : \\'http://www\\') + \\'.google-analytics.com/ga.js\\';\\r\\n\\t\\tvar s = document.getElementsByTagName(\\'script\\')[0]; s.parentNode.insertBefore(ga, s);\\r\\n\\t  })();\\r\\n\\r\\n\\t\\n\\n\\n\\r\\n\\r\\n\\t  var _gaq = _gaq || [];\\r\\n\\t  _gaq.push([\\'_setAccount\\', \\'UA-5149721-39\\']);\\r\\n\\t  _gaq.push([\\'_setDomainName\\', \\'dcinside.com\\']);\\r\\n\\t  _gaq.push([\\'_setAllowLinker\\', true]);\\r\\n\\t  _gaq.push([\\'_trackPageview\\']);\\r\\n\\r\\n\\t  (function() {\\r\\n\\t\\tvar ga = document.createElement(\\'script\\'); ga.type = \\'text/javascript\\'; ga.async = true;\\r\\n\\t\\tga.src = (\\'https:\\' == document.location.protocol ? \\'https://ssl\\' : \\'http://www\\') + \\'.google-analytics.com/ga.js\\';\\r\\n\\t\\tvar s = document.getElementsByTagName(\\'script\\')[0]; s.parentNode.insertBefore(ga, s);\\r\\n\\t  })();\\r\\n\\r\\n\\t\\n\\n\\n\\r\\n(function(i,s,o,g,r,a,m){i[\\'GoogleAnalyticsObject\\']=r;i[r]=i[r]||function(){\\r\\n  (i[r].q=i[r].q||[]).push(arguments)},i[r].l=1*new Date();a=s.createElement(o),\\r\\n  m=s.getElementsByTagName(o)[0];a.async=1;a.src=g;m.parentNode.insertBefore(a,m)\\r\\n  })(window,document,\\'script\\',\\'//www.google-analytics.com/analytics.js\\',\\'ga\\');\\r\\n\\r\\n  //마이너 갤러리 전체\\r\\n  ga(\\'create\\', \\'UA-10723182-7\\', \\'auto\\', {\\'name\\': \\'mgall_all\\',\\'sampleRate\\': 10});\\r\\n  ga(\\'mgall_all.require\\', \\'displayfeatures\\');\\r\\n  ga(\\'mgall_all.send\\', \\'pageview\\');\\r\\n\\r\\n  //마이너 갤러리 웹\\r\\n  ga(\\'create\\', \\'UA-10723182-8\\', \\'auto\\', {\\'name\\': \\'mgall_web\\'});\\r\\n  ga(\\'mgall_web.require\\', \\'displayfeatures\\');\\r\\n  ga(\\'mgall_web.send\\', \\'pageview\\');\\r\\n\\r\\n    //마이너 갤러리 전체 + 승격갤\\r\\n  ga(\\'create\\', \\'UA-10723182-10\\', \\'auto\\', {\\'name\\': \\'mgall_raise\\',\\'sampleRate\\': 5});\\r\\n  ga(\\'mgall_raise.require\\', \\'displayfeatures\\');\\r\\n  ga(\\'mgall_raise.send\\', \\'pageview\\');\\r\\n\\r\\n\\n\\n\\r\\nif(!wcs_add) var wcs_add = {};\\r\\nwcs_add[\"wa\"] = \"f92eaecbc22aac\";\\r\\ntry { wcs_do();} catch(err) {}\\r\\n\\n'"
      ]
     },
     "execution_count": 14,
     "metadata": {},
     "output_type": "execute_result"
    }
   ],
   "source": [
    "epic7_gal_1000_posts[0].text"
   ]
  },
  {
   "cell_type": "code",
   "execution_count": 21,
   "metadata": {
    "collapsed": true
   },
   "outputs": [
    {
     "data": {
      "text/plain": [
       "'\\n329856\\n\\n도도미 목소리가 아줌마 목소리는 아닌 듯\\n\\n\\nㅇㅇ(223.33) \\n10/25\\n1\\n0\\n\\n\\n329855\\n\\n보물섬.jpg\\n\\n\\n라스 \\n10/25\\n12\\n0\\n\\n\\n329854\\n\\n근데 바라는게 뭐냐ㅋㅋㅋㅋㅋ\\n[1] \\n\\nㅇㅇ(175.223) \\n10/25\\n20\\n0\\n\\n\\n329853\\n\\n클린갤질 하고싶다\\n\\n\\nㅇㅇ(124.194) \\n10/25\\n7\\n0\\n\\n\\n329852\\n\\n픽시브 주소 여기.\\n[1] \\n\\n사공이 \\n10/25\\n33\\n0\\n\\n\\n329850\\n\\n이거 왜이러냐 ;;;\\n[1] \\n\\n개대지 \\n10/25\\n12\\n0\\n\\n\\n329849\\n\\n도리스쨩이 꿀캐인 이유\\n[1] \\n\\nYawgmoth \\n10/25\\n20\\n0\\n\\n\\n329848\\n\\n데티 아카 둘다 써본결과\\n\\n\\n육공주니오르 \\n10/25\\n10\\n0\\n\\n\\n329846\\n\\n이정도면 씹 멍청이 인정하냐?\\n\\n\\nㅇㅇ(219.249) \\n10/25\\n16\\n0\\n\\n\\n329844\\n\\n600하늘석 박은거 보답받앗다\\n[5] \\n\\nㅇㅇ(115.11) \\n10/25\\n51\\n0\\n\\n\\n329843\\n\\n지금 도배하는새끼 왜저러는지 알려줌\\n[4] \\n\\n갸. \\n10/25\\n54\\n2\\n\\n\\n329842\\n\\n62층 진짜 애미가 없네.\\n\\n\\nㅇㅇ(211.176) \\n10/25\\n2\\n0\\n\\n\\n329841\\n\\n방금 덱조합 문의햇던애인데\\n[4] \\n\\nㅇㅇ(121.140) \\n10/25\\n18\\n0\\n\\n\\n329840\\n\\n솔무향 완장 내리고 꿀♤때♧지 갤주해라\\n\\n\\n샬롯(223.38) \\n10/25\\n8\\n0\\n\\n\\n329838\\n\\n실크 화살 고쳤다매ㅋㅋㅋㅋ \\n[2] \\n\\nㅇㅇ(116.124) \\n10/25\\n59\\n1\\n\\n\\n329837\\n\\n그래도 데티쟝 스작해조서 자힐 잘함\\n[4] \\n\\n크아오아왕 \\n10/25\\n25\\n0\\n\\n\\n329833\\n\\n완장들 안심심하겠네\\n\\n\\nㅇㅇ \\n10/25\\n32\\n0\\n\\n\\n329832\\n\\n힐러는 이정도면 충분하겠지\\n[2] \\n\\n별모양 \\n10/25\\n33\\n0\\n\\n\\n329831\\n\\n데스티나장점은\\n[1] \\n\\ndd(114.201) \\n10/25\\n24\\n0\\n\\n\\n329829\\n\\n특알람회로 어디가 잘나옴??\\n[2] \\n\\n소도둑찍찍 \\n10/25\\n30\\n0\\n\\n\\n329825\\n\\n패치 내일임?\\n\\n\\nㅇㅇ(121.168) \\n10/25\\n10\\n0\\n\\n\\n329821\\n\\n제발 기도해줘..\\n[1] \\n\\nㅇㅇ(115.11) \\n10/25\\n42\\n0\\n\\n\\n329820\\n\\n6티 영웅 치확목 강화간다\\n[6] \\n\\nㅇㅇ \\n10/25\\n87\\n0\\n\\n\\n329818\\n\\n님들 큰일남\\n\\n\\nㅇㅇ(124.216) \\n10/25\\n36\\n0\\n\\n\\n329816\\n\\n솔직히 리코리스 너프해야됨\\n[4] \\n\\nㅇㅇ(110.70) \\n10/25\\n57\\n0\\n\\n\\n329815\\n\\n루트비히는 뭔데 2번 상향해주냐? 개발자가 키우는캐릭임?\\n[4] \\n\\nㅇㅇ(182.228) \\n10/25\\n55\\n0\\n\\n\\n329814\\n\\n타오바오에서 1.9만에 사기로 함\\n[19] \\n\\nㅇㅇ(1.251) \\n10/25\\n102\\n0\\n\\n\\n329813\\n\\n늒네 갤길구한다\\n\\n\\nㅇㅇ(221.158) \\n10/25\\n5\\n0\\n\\n\\n329812\\n\\n데티관련 내 생각\\n\\n\\n귀여운코기 \\n10/25\\n6\\n0\\n\\n\\n329811\\n\\n제가 파딱이 된다면\\n\\n\\nclear \\n10/25\\n17\\n0\\n\\n\\n329810\\n\\n념글 댓글에 꿀꿀X지 뭐냐\\n\\n\\n힝힝(211.36) \\n10/25\\n29\\n0\\n\\n\\n329806\\n\\n학교수영복은 역시 최고야.\\n[1] \\n\\n사공이 \\n10/25\\n96\\n2\\n\\n\\n329802\\n\\n10단계라고 대수가 아니란걸 깨달은게\\n\\n\\nLuneclad \\n10/25\\n24\\n0\\n\\n\\n329801\\n\\n미연동샀는데 영정먹은케이스같은건없지?\\n[7] \\n\\nㅇㅇ(121.141) \\n10/25\\n92\\n0\\n\\n\\n329800\\n\\n저거사실 고닉본인이 아닐까??\\n[8] \\n\\nclear \\n10/25\\n109\\n4\\n\\n\\n329798\\n\\n이 칼에 미래있냐\\n[4] \\n\\nㅇㅇ(165.132) \\n10/25\\n118\\n0\\n\\n\\n329797\\n\\n데티 버프를 왜함ㅋㅋ\\n\\n\\nclear \\n10/25\\n22\\n0\\n\\n\\n329795\\n\\n아카테스씨벌년아\\n\\n\\n정상은아님 \\n10/25\\n21\\n0\\n\\n\\n329793\\n\\n씨발 겜알못새끼한테 쳐맞으니까 너무 화난다\\n[2] \\n\\nㅇㅇ \\n10/25\\n95\\n0\\n\\n\\n329791\\n\\n멸화투구 공치속붙음\\n\\n\\nㅇㅇ(183.109) \\n10/25\\n32\\n0\\n\\n\\n329790\\n\\n꿀때ㅈㅣ 쎆씨한 여대생이라도 됨?\\n[2] \\n\\nㅇㅇ(223.62) \\n10/25\\n70\\n1\\n\\n\\n329789\\n\\n이거알았냐\\n\\n\\nㄱㄴ(112.185) \\n10/25\\n19\\n0\\n\\n\\n329786\\n\\n심연템 생명력 존나 잘붙음\\n[2] \\n\\n톳트 \\n10/25\\n58\\n0\\n\\n\\n329785\\n\\n던만추겜 출시햇다\\n[7] \\n\\nㅇㅅ(1.211) \\n10/25\\n150\\n0\\n\\n\\n329780\\n\\n야 말하자말자 분탕단어 바뀜\\n[1] \\n\\nㅇㅇ \\n10/25\\n49\\n0'"
      ]
     },
     "execution_count": 21,
     "metadata": {},
     "output_type": "execute_result"
    }
   ],
   "source": [
    "# 1페이지 게시글 50개의 포스팅 제목 1차 필터링\n",
    "\n",
    "test = (epic7_gal_1000_posts[0].text).split(start_indicator)[1].split(end_indicator)[0]\n",
    "test = test[15:]\n",
    "test"
   ]
  },
  {
   "cell_type": "code",
   "execution_count": 32,
   "metadata": {
    "scrolled": false
   },
   "outputs": [
    {
     "ename": "IndexError",
     "evalue": "list index out of range",
     "output_type": "error",
     "traceback": [
      "\u001b[0;31m---------------------------------------------------------------------------\u001b[0m",
      "\u001b[0;31mIndexError\u001b[0m                                Traceback (most recent call last)",
      "\u001b[0;32m<ipython-input-32-598357192cb1>\u001b[0m in \u001b[0;36m<module>\u001b[0;34m()\u001b[0m\n\u001b[0;32m----> 1\u001b[0;31m \u001b[0;34m(\u001b[0m\u001b[0mepic7_gal_1000_posts\u001b[0m\u001b[0;34m[\u001b[0m\u001b[0;36m1\u001b[0m\u001b[0;34m]\u001b[0m\u001b[0;34m.\u001b[0m\u001b[0mtext\u001b[0m\u001b[0;34m)\u001b[0m\u001b[0;34m.\u001b[0m\u001b[0msplit\u001b[0m\u001b[0;34m(\u001b[0m\u001b[0mstart_indicator\u001b[0m\u001b[0;34m)\u001b[0m\u001b[0;34m[\u001b[0m\u001b[0;36m1\u001b[0m\u001b[0;34m]\u001b[0m\u001b[0;34m.\u001b[0m\u001b[0msplit\u001b[0m\u001b[0;34m(\u001b[0m\u001b[0mend_indicator\u001b[0m\u001b[0;34m)\u001b[0m\u001b[0;34m[\u001b[0m\u001b[0;36m0\u001b[0m\u001b[0;34m]\u001b[0m\u001b[0;34m\u001b[0m\u001b[0m\n\u001b[0m",
      "\u001b[0;31mIndexError\u001b[0m: list index out of range"
     ]
    }
   ],
   "source": [
    "(epic7_gal_1000_posts[1].text).split(start_indicator)[1].split(end_indicator)[0]"
   ]
  },
  {
   "cell_type": "code",
   "execution_count": null,
   "metadata": {},
   "outputs": [],
   "source": []
  },
  {
   "cell_type": "code",
   "execution_count": null,
   "metadata": {},
   "outputs": [],
   "source": []
  },
  {
   "cell_type": "markdown",
   "metadata": {},
   "source": [
    "### 게시글 기본정보\n",
    "`'\\n\\n'` 문자열 통해 게시글당 3개 단위로 기본정보 출력.\n",
    "* 1번째 요소 : 게시글 번호 (유니크 id)\n",
    "  * ex. `\\n259601`\n",
    "* 2번째 요소 : 게시글 제목 \n",
    "  * ex. `'알바야 너무 티나게 여론몰이하는거 아니냐'`\n",
    "* 3번째 요소 : 작성자, (ip), 작성월, 작성일, 조회수, 추천수\n",
    "  * ex. `'\\nㅇㅇ(211.253) \\n10/16\\n2\\n0'`\n",
    "\n",
    "  \n",
    "#### 게시글 메타데이터 수집 포맷\n",
    "* 딕셔너리 - {`게시글 번호` : `제목`, `조회수`, `추천수`, `작성월일`}\n",
    "\n",
    "#### 메타데이터 활용\n",
    "* 제목으로부터 기본적인 감성 점수 (-1 ~ +1) 계산\n",
    "* 조회수 및 추천수를 가중치로 부여"
   ]
  },
  {
   "cell_type": "code",
   "execution_count": 22,
   "metadata": {
    "scrolled": true
   },
   "outputs": [
    {
     "data": {
      "text/plain": [
       "['\\n329856', '도도미 목소리가 아줌마 목소리는 아닌 듯', '\\nㅇㅇ(223.33) \\n10/25\\n1\\n0']"
      ]
     },
     "execution_count": 22,
     "metadata": {},
     "output_type": "execute_result"
    }
   ],
   "source": [
    "test.split('\\n\\n')[:3]"
   ]
  },
  {
   "cell_type": "code",
   "execution_count": 25,
   "metadata": {},
   "outputs": [
    {
     "data": {
      "text/plain": [
       "['ㅇㅇ(223.33) ', '10/25', '1', '0']"
      ]
     },
     "execution_count": 25,
     "metadata": {},
     "output_type": "execute_result"
    }
   ],
   "source": [
    "test.split('\\n\\n')[2].split('\\n')[1:]"
   ]
  },
  {
   "cell_type": "code",
   "execution_count": 29,
   "metadata": {},
   "outputs": [
    {
     "data": {
      "text/plain": [
       "True"
      ]
     },
     "execution_count": 29,
     "metadata": {},
     "output_type": "execute_result"
    }
   ],
   "source": [
    "test.split('\\n\\n')[2].split('\\n')[0] == ''"
   ]
  },
  {
   "cell_type": "code",
   "execution_count": null,
   "metadata": {},
   "outputs": [],
   "source": []
  },
  {
   "cell_type": "code",
   "execution_count": null,
   "metadata": {},
   "outputs": [],
   "source": []
  },
  {
   "cell_type": "code",
   "execution_count": 36,
   "metadata": {},
   "outputs": [
    {
     "name": "stdout",
     "output_type": "stream",
     "text": [
      "\n",
      "329856\n",
      "[]\n"
     ]
    },
    {
     "ename": "IndexError",
     "evalue": "list index out of range",
     "output_type": "error",
     "traceback": [
      "\u001b[0;31m---------------------------------------------------------------------------\u001b[0m",
      "\u001b[0;31mIndexError\u001b[0m                                Traceback (most recent call last)",
      "\u001b[0;32m<ipython-input-36-d46ebe87b66e>\u001b[0m in \u001b[0;36m<module>\u001b[0;34m()\u001b[0m\n\u001b[1;32m     36\u001b[0m             \u001b[0mtemp_id\u001b[0m\u001b[0;34m.\u001b[0m\u001b[0mappend\u001b[0m\u001b[0;34m(\u001b[0m\u001b[0mint\u001b[0m\u001b[0;34m(\u001b[0m\u001b[0msp\u001b[0m\u001b[0;34m[\u001b[0m\u001b[0;36m2\u001b[0m\u001b[0;34m:\u001b[0m\u001b[0;34m]\u001b[0m\u001b[0;34m)\u001b[0m\u001b[0;34m)\u001b[0m\u001b[0;34m\u001b[0m\u001b[0m\n\u001b[0;32m---> 37\u001b[0;31m             \u001b[0mmeta_dict\u001b[0m\u001b[0;34m[\u001b[0m\u001b[0msp\u001b[0m\u001b[0;34m[\u001b[0m\u001b[0;36m1\u001b[0m\u001b[0;34m:\u001b[0m\u001b[0;34m]\u001b[0m\u001b[0;34m]\u001b[0m \u001b[0;34m=\u001b[0m \u001b[0;34m[\u001b[0m\u001b[0mtemp_title\u001b[0m\u001b[0;34m[\u001b[0m\u001b[0mi\u001b[0m\u001b[0;34m//\u001b[0m\u001b[0;36m3\u001b[0m\u001b[0;34m]\u001b[0m\u001b[0;34m,\u001b[0m \u001b[0mtemp_nums\u001b[0m\u001b[0;34m[\u001b[0m\u001b[0mi\u001b[0m\u001b[0;34m//\u001b[0m\u001b[0;36m3\u001b[0m\u001b[0;34m]\u001b[0m\u001b[0;34m]\u001b[0m\u001b[0;34m\u001b[0m\u001b[0m\n\u001b[0m\u001b[1;32m     38\u001b[0m \u001b[0;34m\u001b[0m\u001b[0m\n",
      "\u001b[0;31mIndexError\u001b[0m: list index out of range",
      "\nDuring handling of the above exception, another exception occurred:\n",
      "\u001b[0;31mIndexError\u001b[0m                                Traceback (most recent call last)",
      "\u001b[0;32m<ipython-input-36-d46ebe87b66e>\u001b[0m in \u001b[0;36m<module>\u001b[0;34m()\u001b[0m\n\u001b[1;32m     38\u001b[0m \u001b[0;34m\u001b[0m\u001b[0m\n\u001b[1;32m     39\u001b[0m         \u001b[0;32mexcept\u001b[0m\u001b[0;34m:\u001b[0m\u001b[0;34m\u001b[0m\u001b[0m\n\u001b[0;32m---> 40\u001b[0;31m             \u001b[0mmeta_dict\u001b[0m\u001b[0;34m[\u001b[0m\u001b[0mtemp_id\u001b[0m\u001b[0;34m[\u001b[0m\u001b[0;34m-\u001b[0m\u001b[0;36m1\u001b[0m\u001b[0;34m]\u001b[0m \u001b[0;34m-\u001b[0m \u001b[0;36m1\u001b[0m\u001b[0;34m]\u001b[0m \u001b[0;34m=\u001b[0m \u001b[0;34m[\u001b[0m\u001b[0mtemp_title\u001b[0m\u001b[0;34m[\u001b[0m\u001b[0mi\u001b[0m\u001b[0;34m//\u001b[0m\u001b[0;36m3\u001b[0m\u001b[0;34m]\u001b[0m\u001b[0;34m,\u001b[0m \u001b[0mtemp_nums\u001b[0m\u001b[0;34m[\u001b[0m\u001b[0mi\u001b[0m\u001b[0;34m//\u001b[0m\u001b[0;36m3\u001b[0m\u001b[0;34m]\u001b[0m\u001b[0;34m]\u001b[0m\u001b[0;34m\u001b[0m\u001b[0m\n\u001b[0m\u001b[1;32m     41\u001b[0m \u001b[0;34m\u001b[0m\u001b[0m\n",
      "\u001b[0;31mIndexError\u001b[0m: list index out of range"
     ]
    }
   ],
   "source": [
    "meta_dict = {}\n",
    "temp_title, temp_nums, temp_id = [], [], []\n",
    "\n",
    "for i, sp in enumerate(test.split('\\n\\n')):\n",
    "    \n",
    "    print(sp)\n",
    "    \n",
    "    if i%3==1:\n",
    "        if sp.endswith(' '):\n",
    "            temp_title.append(sp[:-6])\n",
    "        else:\n",
    "            temp_title.append(sp)\n",
    "    \n",
    "    elif i%3==2:\n",
    "        #print(sp)\n",
    "        \n",
    "        if sp[0] == '':\n",
    "            nums = sp.split('\\n')[1:]\n",
    "        \n",
    "        else:\n",
    "            nums = sp.split('\\n')\n",
    "        \n",
    "        try:\n",
    "            if len(nums)==5:\n",
    "                temp_nums.append((nums[3], nums[4], nums[2]))\n",
    "            else:\n",
    "                temp_nums.append((nums[2], nums[3], nums[1]))\n",
    "\n",
    "        except:\n",
    "            break\n",
    "                \n",
    "    elif i%3==0:\n",
    "        \n",
    "        try:\n",
    "            print(temp_id)\n",
    "            temp_id.append(int(sp[2:]))\n",
    "            meta_dict[sp[1:]] = [temp_title[i//3], temp_nums[i//3]]\n",
    "        \n",
    "        except:\n",
    "            meta_dict[temp_id[-1] - 1] = [temp_title[i//3], temp_nums[i//3]]\n",
    "        "
   ]
  },
  {
   "cell_type": "code",
   "execution_count": 38,
   "metadata": {},
   "outputs": [
    {
     "data": {
      "text/plain": [
       "{'282428': ['골렘 9단 오토 팁', ('14', '0', '10/18')],\n",
       " '282429': ['그래요 내가 마지막 스몰꼬추 루트비히입니', ('31', '0', '10/18')],\n",
       " '282430': ['심연 라비도 십거품이', ('41', '0', '10/18')],\n",
       " '282431': ['아침부터 지금까지 상급에서 세릴라 안나오는', ('38', '0', '10/18')],\n",
       " '282432': ['오구오구 루트비히 우리강아지! 할미가 꼬추좀보자', ('23', '0', '10/18')],\n",
       " '282433': ['마야 목소리 깬다;', ('54', '0', '10/18')],\n",
       " '282434': ['메갈년들 남캐 존나게 빨잖아', ('25', '0', '10/18')],\n",
       " '282435': ['헤이스트 딱 3일안에 재평가 당', ('59', '0', '10/18')],\n",
       " '282436': ['캐릭갈아서 인삼 80퍼라도 뽑을수있으면좋겠다', ('20', '0', '10/18')],\n",
       " '282437': ['사실상 도적 3대장이 에픽세븐 3대장이', ('53', '0', '10/18')],\n",
       " '282438': ['라비 왜하향당한거냐고 하는사람들 라비 하향전에써봄', ('75', '0', '10/18')],\n",
       " '282439': ['환불받았다 갈갈꼬접함ㅂ', ('73', '5', '10/18')],\n",
       " '282440': ['헤이스트 왜이렇게 거품심하냐 데세라가 넘사벽이면', ('44', '0', '10/18')],\n",
       " '282441': ['카마인이 골렘 10단 도는데 라비는 왜', ('21', '0', '10/18')],\n",
       " '282442': ['도적 좆망겜', ('4', '0', '10/18')],\n",
       " '282443': ['물속 풀속 불속.tx', ('74', '0', '10/18')],\n",
       " '282444': [\"메갈겜이라 남캐가 사기인건 '당연'하\", ('31', '0', '10/18')],\n",
       " '282445': ['난 왜이렇게 픽뚫이 잘되지', ('19', '0', '10/18')],\n",
       " '282446': ['결국 데세라는 세즈맘들의 방패막이였습니다', ('15', '0', '10/18')],\n",
       " '282447': ['라비는 그냥 남들보다 일주일 골렘 먼저 잡았다', ('50', '0', '10/18')],\n",
       " '282448': ['게임이 힘들다는 애들 특', ('18', '0', '10/18')],\n",
       " '282449': ['하급룬 수급방법 찾았다', ('41', '0', '10/18')],\n",
       " '282450': ['오늘 오후 6시 8분 30초에 뽑기 돌렸다', ('63', '0', '10/18')],\n",
       " '282451': ['유피네 산 니들이 호구지', ('25', '0', '10/18')],\n",
       " '282452': ['오픈첫날에 찻집에서 라비 3스때매 ㅎㅌㅊ라고할', ('29', '0', '10/18')],\n",
       " '282453': ['라비 너프할땐 진짜루 몹이 전열 패는줄 알았음', ('39', '0', '10/18')],\n",
       " '282454': ['이 게임 쇼타는 루트비히 빼고 ㅇㅈ못', ('42', '0', '10/18')],\n",
       " '282455': ['유피네땜에 접는다', ('29', '1', '10/18')],\n",
       " '282456': ['와! 세즈! 헤이스트!', ('14', '0', '10/18')],\n",
       " '282457': ['라비 너프는 핵심을 건드린게 아니라 의미없', ('46', '0', '10/18')],\n",
       " '282458': ['너 이렇게 가벼운 여자였어', ('52', '1', '10/18')],\n",
       " '282459': ['우포5만쓰는것도 힘들다;;', ('4', '0', '10/18')],\n",
       " '282460': ['헤이스트 공치 vs 흡치 추천받음', ('6', '0', '10/18')],\n",
       " '282461': ['신캐는 헤이스트인데 세즈가 까이는 이유', ('17', '0', '10/18')],\n",
       " '282462': ['라비 롤백하면 안된다고 생각하고 있었는데', ('30', '0', '10/18')],\n",
       " '282463': ['든든하', ('20', '0', '10/18')],\n",
       " '282464': ['11만 패키지 220책갈피간다 헤이스트떴냐? ㅋㅋㅋㅋㅋ', ('24', '0', '10/18')],\n",
       " '282465': ['카린 시더 다 같은 4성인데 왜 이리 차이나냐', ('5', '0', '10/18')],\n",
       " '282466': ['랏츠가 아라민타 술먹이고 따먹던데', ('5', '0', '10/18')],\n",
       " '282467': ['고추는 씹사기캐로 만드는게 맞지', ('4', '0', '10/18')],\n",
       " '282468': ['잘 참아왔다가 다야 3000개 꼴아박았네', ('9', '0', '10/18')],\n",
       " '282469': ['역시 게임이 재미가있으니까 사람들 다시 오네', ('3', '0', '10/18')],\n",
       " '282470': ['암살자가 쎈건 한국겜이라 그럼', ('1', '0', '10/18')]}"
      ]
     },
     "execution_count": 38,
     "metadata": {},
     "output_type": "execute_result"
    }
   ],
   "source": [
    "meta_dict"
   ]
  },
  {
   "cell_type": "code",
   "execution_count": null,
   "metadata": {},
   "outputs": [],
   "source": []
  },
  {
   "cell_type": "markdown",
   "metadata": {},
   "source": [
    "### 함수로 저장하여 복수의 페이지에 있는 게시글 메타정보 크롤링"
   ]
  },
  {
   "cell_type": "code",
   "execution_count": null,
   "metadata": {},
   "outputs": [],
   "source": []
  },
  {
   "cell_type": "code",
   "execution_count": 51,
   "metadata": {
    "collapsed": true
   },
   "outputs": [
    {
     "data": {
      "text/plain": [
       "'\\n\\n\\n\\n\\n\\n\\n\\n\\n\\n\\n\\n\\n\\n\\n\\n\\n\\n\\nEPIC 7 갤러리\\n\\n\\n\\n\\n\\n\\n\\n\\n\\n\\n\\n\\n\\n\\n\\n\\n\\n\\n\\n\\n\\n\\n\\n\\n\\n\\n\\r\\n\\t\\tdocument.domain = \"dcinside.com\";\\r\\n\\t\\tvar k_cnt = 0;\\r\\n\\t\\tvar _GALLERY_TYPE_ = \"M\";\\r\\n\\t\\n\\n\\n\\n\\n\\n\\n\\n\\n\\r\\n      window._taboola = window._taboola || [];\\r\\n      _taboola.push({category:\\'auto\\'});\\r\\n      !function (e, f, u, i) {\\r\\n        if (!document.getElementById(i)){\\r\\n          e.async = 1;\\r\\n          e.src = u;\\r\\n          e.id = i;\\r\\n          f.parentNode.insertBefore(e, f);\\r\\n        }\\r\\n      }(document.createElement(\\'script\\'),\\r\\n      document.getElementsByTagName(\\'script\\')[0],\\r\\n      \\'//cdn.taboola.com/libtrc/dcinside/loader.js\\',\\r\\n      \\'tb_loader_script\\');\\r\\n      if(window.performance && typeof window.performance.mark == \\'function\\')\\r\\n      {window.performance.mark(\\'tbl_ic\\');}\\r\\n\\t\\n\\n\\n\\n\\n\\n\\n통합검색 바로가기\\n본문영역 바로가기\\n상단 메뉴 바로가기\\n\\n\\n\\n\\n\\n\\n\\n\\n\\n\\n\\n\\n\\n\\n\\n\\n\\n갤러리 검색\\n\\n\\n\\n통합검색\\n\\n\\n\\n\\n검색\\n\\n\\n\\n\\n\\n\\n\\n\\n\\n\\n\\n갤러리\\n갤로그\\n뉴스\\n만두몰\\n이벤트\\n로그인\\n\\n\\n\\n\\n\\n\\n\\nGNB\\n\\n\\n갤러리\\n\\n\\n\\n\\n\\n게임\\n연예/방송\\n스포츠\\n교육/학술\\n여행/음식/생물\\n취미/생활\\n\\n\\n\\n\\nm.갤러리\\n갤로그\\n뉴스\\n이벤트\\n만두몰\\n디시위키\\n\\n\\n\\n어제  게시글 등록\\n어제  댓글 등록\\n\\n\\n\\n\\n\\n\\n\\n\\n\\n\\n\\n\\n\\nEPIC 7 마이너 갤러리\\n\\n\\nNEW연관 갤러리(1/2) 연관 갤러리 열기\\n갤주소 복사\\n차단설정\\n갤러리 이용안내\\n\\n\\n\\n\\n마이너 갤러리 이슈박스, 최근방문 갤러리\\n\\n\\n\\n\\n\\n연관 갤러리\\n\\n\\n\\nEPIC 7 갤러리   타 갤러리(0)\\n이 갤러리가 연관 갤러리로 추가한 갤러리\\n\\n\\n\\n이전\\n\\n0/0\\n\\n다음\\n\\n\\n\\n\\n\\n타 갤러리  EPIC 7 갤러리(0)\\n이 갤러리를 연관 갤러리로 추가한 갤러리\\n\\n\\n\\n이전\\n\\n0/0\\n\\n다음\\n\\n\\n\\n\\n연관 갤러리 레이어 닫기\\n\\n\\r\\n\\t  <li>\\r\\n\\t\\t<a class=\"{{if typeof(is_new) != \\'undefined\\' && is_new == \\'A_NEW\\'}}newtxt{{/if}}\" href=\"/board/lists?id=${name}\">\\r\\n\\t\\t  ${ko_name} {{if gallery_type == \\'M\\'}}m.갤러리{{/if}}\\r\\n\\t\\t</a>\\r\\n\\t  </li>\\r\\n\\t  \\n\\n\\n\\n\\n\\n마이너 갤러리 소개\\n\\n\\n \\n\\n\\r\\n\\t\\t\\t모바일게임 에픽세븐에 관심을 가지는사람들을 위한곳 \\t\\t  \\n\\n\\n\\n\\n매니저\\n\\n솔무향(eltldyd6974)\\n\\n\\n\\n부매니저\\n\\n루인트(ahntony2810)\\nGER(maragmkk)\\nNakam(dcnakamseven)\\nlleageo(lleageo)\\n\\n\\n\\n개설일\\n2016-12-26\\n\\n\\n\\n\\n\\n\\n\\n흥한갤\\n\\n\\n2\\n위\\n\\n\\n\\n\\n\\n정전갤\\n\\n\\n순위권 밖\\n\\n\\n\\n\\n\\n\\n신규갤\\n\\n\\n순위권 밖\\n\\n\\n\\n\\n흥한갤이란\\n\\n\\n\\n\\n\\n전체 마이너 갤러리 순위에서 100위 내에 해당될 경우 흥한갤이 됩니다.\\n흥한갤은 순위 갱신 시 변동될 수 있습니다.\\n흥한갤이 반드시 승격의 기준이 되는 건 아닙니다.\\n\\n닫기\\n\\n\\n\\n흥한갤 전체 순위\\n\\n\\n\\n\\n흥한갤 전체 순위\\n(전체 마이너 갤러리 순위에서 100위 내에 해당될 경우 흥한갤이 됩니다.)\\n\\n\\n\\r\\n\\t\\t\\t  {{each rows}}\\r\\n\\t\\t\\t\\t{{if rank % 20 == 1}}<ol class=\"pop_hotmgall_listbox\">{{/if}}\\r\\n\\t\\t\\t\\t<li><a href=\"/mgallery/board/lists?id=${id}\" onmouseover=\"show_hot_img(\\'${gate_img}\\');\" onmouseout=\"hide_hot_img();\" onmousemove=\"move_hot_img();\"><em class=\"num {{if rank < 11}}font_red{{/if}}\">${rank}.</em>${ko_name}</a></li>\\r\\n\\t\\t\\t\\t{{if rank % 20 == 0}}</ol>{{/if}}\\r\\n\\t\\t\\t  {{/each}}\\r\\n\\t\\t\\t  \\n\\n\\n갤러리 전체보기 레이어 닫기\\n\\n\\n\\n\\n\\n\\n\\n\\n\\n\\n\\n차단설정\\n\\n차단설정을 통해 게시물을 걸러서 볼 수 있습니다.\\n\\n\\n전체설정\\n갤러리별 설정\\n\\n\\n\\n\\n\\n\\n[전체 갤러리]\\n차단 기능을 사용합니다. 차단 등록은 20자 이내, 최대 10개까지 가능합니다.\\n\\non\\n\\n\\n\\n\\n차단 단어\\n\\n등록\\n\\n\\n\\n차단 ID\\n\\n등록\\n\\n\\n\\n차단 닉네임\\n\\n등록\\n\\n\\n\\n차단 IP\\n\\n등록\\n\\n\\n\\n\\n\\n\\n\\n\\n설정된 갤러리\\n\\n\\r\\n\\t\\t\\t\\t<li>\\r\\n\\t\\t\\t\\t  <span class=\"ub_block-${id}\" style=\"cursor:pointer;\" onclick=\"ub_apply_conf($(\\'#user_block .part_setting\\'), \\'${conf}\\', \\'${id}\\')\">${name}</span>\\r\\n\\t\\t\\t\\t  <button type=\"button\" class=\"\" onclick=\"ub_del_gall(\\'${id}\\')\"><span class=\"blind\">차단설정 단어 삭제</span><em class=\"sp_img icon_bword_del\"></em></button>\\r\\n\\t\\t\\t\\t</li>\\r\\n\\t\\t\\t\\t\\n\\n\\n갤러리 선택\\n\\n\\n\\n\\n갤러리\\n\\n\\n\\n\\n마이너 갤러리\\n\\n\\n\\n\\n검색\\n\\n\\n\\r\\n\\t\\t\\t\\t<li><a href=\"javascript:;\" onclick=\"ub_sel_gallery(\\'${name}\\', \\'${ko_name}\\')\">${ko_name}</a></li>\\r\\n\\t\\t\\t\\t\\n설정할 갤러리를 선택하세요.\\n\\n\\n[갤러리]\\n차단 기능을 사용합니다. 전체 설정과는 별개 적용됩니다.\\n\\noff\\n\\n\\n\\n\\n차단 단어\\n\\n등록\\n\\n\\n\\n차단 ID\\n\\n등록\\n\\n\\n\\n차단 닉네임\\n\\n등록\\n\\n\\n\\n차단 IP\\n\\n등록\\n\\n\\n\\n\\n\\n\\n\\n\\n닫기\\n저장\\n\\n\\nc차단설정 레이어 닫기\\n\\n\\n\\r\\n<li>\\r\\n\\t<span class=\"block_word\">${word}</span>\\r\\n\\t<button type=\"button\" class=\"\" onclick=\"ub_remove_text(this)\"><span class=\"blind\">차단설정 단어 삭제</span><em class=\"sp_img icon_bword_del\"></em></button>\\r\\n</li>\\r\\n\\n\\n \\n\\n\\n최근 방문 갤러리\\n\\n이전\\n최근 방문 갤러리가 없습니다.\\n\\n\\r\\n\\t<li><a href=\"//${link}\" class=\"logClass\" depth1=\"topframe\" depth2=\"gall_lately\" depth3=\"${id}\">${name}</a><button type=\"button\" class=\"btn_visit_del\" data-id=\"${id}\"><span class=\"blind\">삭제</span><em class=\"icon_visit_del\"></em></button></li>\\r\\n\\t\\n최근 방문 갤러리가 없습니다.\\n다음\\n\\n\\n\\r\\nlately_gall_init(\\'epicseven\\', \\'EPIC 7\\', \\'\\');\\r\\n\\n\\n\\n\\n\\n\\n\\n\\n\\n\\n\\n\\n\\n\\n\\n\\n\\n\\n\\n\\n\\n\\n갤러리 리스트 영역\\n\\n\\n전체글\\n개념글\\n공지\\n\\n\\n\\n\\n\\n30개\\n50개\\n100개\\n\\n50개페이지당 게시물 노출 옵션\\n\\n30개\\n50개\\n100개\\n\\n\\n\\n\\n게시판형 리스트\\n\\n\\n\\n앨범형 리스트\\n\\n\\n\\n글쓰기\\n\\n\\n\\n\\n\\n \\n\\n\\n갤러리 리스트\\n\\n\\n\\n\\n\\n\\n\\n\\n\\n\\n번호\\n제목\\n글쓴이\\n날짜\\n조회\\n추천\\n\\n\\n\\n\\n\\n\\n282427\\n\\n이벤 맵 9지좀 돌아야 겠네\\n\\n\\nㅇㅇ \\n10/18\\n15\\n0\\n\\n\\n282426\\n\\n운영진 생각없어서 겜 출시하자마자 5성 너프하자너\\n\\n\\nㅇㅇ(39.7) \\n10/18\\n24\\n0\\n\\n\\n282425\\n\\n도미 목소리 멋지고 대사도 멋지네\\n\\n\\n헤이스트(210.90) \\n10/18\\n12\\n0\\n\\n\\n282424\\n\\n디에리아 스강 뭐해주냐?\\n[2] \\n\\nㅇㅇ(110.70) \\n10/18\\n22\\n0\\n\\n\\n282423\\n\\n좆도사 팟 항상 고민중임\\n[1] \\n\\n애플게이트 \\n10/18\\n34\\n0\\n\\n\\n282422\\n\\n더이상 원하는 5성은 없고\\n[1] \\n\\n이메님 \\n10/18\\n45\\n0\\n\\n\\n282421\\n\\n라비는 대체 왜 당한거냐\\n[4] \\n\\nㅇㅇ(112.156) \\n10/18\\n77\\n0\\n\\n\\n282420\\n\\n20만원 박았는데 헤이스트 못 먹어서 존나 꼽다\\n\\n\\nㅁㄴㅇㅁㄴ(121.169) \\n10/18\\n22\\n0\\n\\n\\n282419\\n\\n우포로 먹은 5랩쫄 먹이기 아깝지 않냐\\n[1] \\n\\nㅇㅇ(121.183) \\n10/18\\n19\\n0\\n\\n\\n282418\\n\\n6티어 빼는데 5만골 드는 거 보고 식겁했다\\n\\n\\nEmbrio \\n10/18\\n32\\n0\\n\\n\\n282417\\n\\n심연 와이번 밀고 싶은데 누굴 바꿀까여.jpg\\n[2] \\n\\n늅늅(121.178) \\n10/18\\n36\\n0\\n\\n\\n282416\\n\\n씨발 이텋게 마도사 버려지는거냐\\n[1] \\n\\nㅇㅇ \\n10/18\\n28\\n0\\n\\n\\n282415\\n\\n윾끠비 사용법은 인게임에 가이드가 있다\\n[7] \\n\\nㅇㅇ(223.62) \\n10/18\\n100\\n2\\n\\n\\n282414\\n\\n우룡인들 겜재밌게 했네ㅋㅋ\\n[1] \\n\\n흑잔쟝다이슷키 \\n10/18\\n38\\n0\\n\\n\\n282413\\n\\n바알도 얼른 무슨 뱀파이어급으로 상향점\\n[1] \\n\\n고추장독대 \\n10/18\\n14\\n0\\n\\n\\n282412\\n\\n헤이스트 버그 안내\\n\\n\\nㅇㅇ(39.7) \\n10/18\\n53\\n0\\n\\n\\n282411\\n\\n지금 에픽세븐 테이스트 사가랑 비슷하지않냐\\n\\n\\nkwonhh0705(110.70) \\n10/18\\n22\\n0\\n\\n\\n282410\\n\\n헤이스트 신캐가 사기인건 당연한거아닌가? 다른겜도 다 신캐는 사기임\\n[2] \\n\\nㅇㅇ(221.142) \\n10/18\\n47\\n0\\n\\n\\n282409\\n\\n밸런스 개발진이 생각잇으면 라비 롤백시킬텐데\\n[2] \\n\\nㅇㅇ(1.226) \\n10/18\\n39\\n0\\n\\n\\n282408\\n\\n안되겟다 루트비히야 미용실가자\\n[1] \\n\\n꿀때지 \\n10/18\\n39\\n0\\n\\n\\n282407\\n\\n누구 타오르는 분노 먹지?\\n[2] \\n\\n테네브리아님 \\n10/18\\n28\\n0\\n\\n\\n282406\\n\\n메인딜러로 카린 vs 헤이스트\\n[5] \\n\\n\\ufff0프니프니 \\n10/18\\n55\\n0\\n\\n\\n282405\\n\\n헤이스트 써보니까 찰지네 ㄹㅇ\\n\\n\\nㅇㅇ(175.215) \\n10/18\\n26\\n0\\n\\n\\n282404\\n\\n50층버섯 씨발새끼들 왜턴사기치냐\\n\\n\\nㅇㅇ(211.246) \\n10/18\\n7\\n0\\n\\n\\n282403\\n\\n데1차도 시발ㅋㅋ 목속성 존나 꾸진 캐만 가득했었는데\\n[1] \\n\\n양이질 \\n10/18\\n78\\n0\\n\\n\\n282402\\n\\n바알 진짜 상향 필\\n[1] \\n\\nㅇㅇ(175.223) \\n10/18\\n14\\n0\\n\\n\\n282401\\n\\n방셋에 체력11퍼 반지 사냐???\\n\\n\\nㅇㅇ(39.7) \\n10/18\\n18\\n0\\n\\n\\n282400\\n\\n구데기 5성들이나 상향되면 좋겠다...\\n\\n\\nㅇㅇ(14.46) \\n10/18\\n5\\n0\\n\\n\\n282399\\n\\n의자왕새끼 성능이랑 컷씬이랑 엄청 괴리감 큰거같음\\n[1] \\n\\nㅇㅇ(58.239) \\n10/18\\n21\\n0\\n\\n\\n282398\\n\\n5시간했는데 우포 만오천밖에 못씀ㅋㅋ\\n\\n\\nㅇㅇ(211.114) \\n10/18\\n21\\n0\\n\\n\\n282397\\n\\n얘는 노강인데 왜케많이먹음?\\n[4] \\n\\nㅇㅇ(175.223) \\n10/18\\n68\\n0\\n\\n\\n282396\\n\\n지금 라비 롤백하면 생태계 파괴냐?\\n[3] \\n\\nㅇㅇ(39.7) \\n10/18\\n47\\n0\\n\\n\\n282395\\n\\n어짜피 지옥 돌지도 못함\\n[1] \\n\\n(スクリム) \\n10/18\\n39\\n0\\n\\n\\n282394\\n\\n유피네 남캐로 바꾸고 성능업시키면 할거냐?\\n[1] \\n\\nㅇㅇ \\n10/18\\n22\\n0\\n\\n\\n282393\\n\\n 하와와여고생쟝 기사단원 모집하는거시에오\\n\\n\\ndd(223.39) \\n10/18\\n17\\n0\\n\\n\\n282392\\n\\n세즈=헤이>>시더>카린>>>>>킹트레드\\n[3] \\n\\nㅇㅇ(223.38) \\n10/18\\n45\\n0\\n\\n\\n282391\\n\\n헤이스트 이렇게 상향해야함\\n[1] \\n\\nㅇㅇ(112.156) \\n10/18\\n42\\n2\\n\\n\\n282390\\n\\n유피네 근황\\n[5] \\n\\n수잉이 \\n10/18\\n105\\n0\\n\\n\\n282389\\n\\n갤길 ‘딧시’ 2명 구함\\n\\n\\nㅇㅇ(211.244) \\n10/18\\n10\\n0\\n\\n\\n282388\\n\\n상점에서 책갈피 안나오냐\\n\\n\\n우상숭배자 \\n10/18\\n15\\n0\\n\\n\\n282387\\n\\n하여간에 줄 세우는건 씨게 좋아함 새끼들\\n[5] \\n\\n애플게이트 \\n10/18\\n63\\n0\\n\\n\\n282386\\n\\n지옥 세릴라 안젤이 담당일진 급이네 ㅋㅋㅋ\\n[1] \\n\\nㅇㅇ(182.218) \\n10/18\\n57\\n0\\n\\n\\n282385\\n\\n세릴라 지옥 깻다. 월광뽑 간드아!\\n[7] \\n\\n콩진이 \\n10/18\\n84\\n0\\n\\n\\n282384\\n\\n유피네는 희생되고 잊혀짐\\n\\n\\nㅇㅇ(119.204) \\n10/18\\n30\\n0\\n\\n\\n282383\\n\\n팩트 라비 롤백해도 덱에 들어갈 자리 없다\\n[3] \\n\\nㅇㅇ(121.131) \\n10/18\\n38\\n0\\n\\n\\n282382\\n\\n일단 급한대로 상향 필요한3선발 이거맞지?\\n\\n\\n흑잔쟝다이슷키 \\n10/18\\n16\\n0\\n\\n\\n282381\\n\\n념글 헤이스트 보자마자 마도사 키운 새끼들만 불쌍하네\\n\\n\\nㅇㅇ(182.230) \\n10/18\\n39\\n0\\n\\n\\n282380\\n\\n떴냐?\\n\\n\\nㅇㅇ(110.70) \\n10/18\\n26\\n0\\n\\n\\n282379\\n\\n세릴라 기쓰고 먹을 필요는 없냐\\n[5] \\n\\n(スクリム) \\n10/18\\n87\\n0\\n\\n\\n282378\\n\\nㅋㅋㅋ 생각해보니 ㅈ사기캐 세즈 헤이스트 다 5성인데\\n\\n\\nㅇㅇ(175.119) \\n10/18\\n39\\n0\\n\\n\\n\\n\\n\\n\\n \\n \\n\\n\\n\\n\\n\\n\\n  var googletag = googletag || {};\\n  googletag.cmd = googletag.cmd || [];\\n\\n\\n  googletag.cmd.push(function() {\\n    googletag.defineSlot(\\'/76378310/list_left_120600\\', [120, 600], \\'div-gpt-ad-1524708812089-0\\').addService(googletag.pubads());\\n    googletag.pubads().enableSingleRequest();\\n    googletag.enableServices();\\n  });\\n\\n\\n\\n\\ngoogletag.cmd.push(function() { googletag.display(\\'div-gpt-ad-1524708812089-0\\'); });\\n\\n \\n\\r\\n\\t\\t  window._taboola = window._taboola || [];\\r\\n\\t\\t  _taboola.push({\\r\\n\\t\\t    mode: \\'thumbnails-lr_abp-mode\\',\\r\\n\\t\\t    container: \\'taboola-left-rail-article-thumbnails\\',\\r\\n\\t\\t    placement: \\'Left Rail Article Thumbnails\\',\\r\\n\\t\\t    target_type: \\'mix\\'\\r\\n\\t\\t  });\\r\\n\\t\\t\\n\\r\\n\\t    var stickyTop = $(\\'.stickyunit\\').offset().top;       // get initial position of the element\\r\\n\\t    //console.log(\\'stickyTop:\\'+stickyTop);\\r\\n\\t    $(window).scroll(function() {                  // assign scroll event listener\\r\\n\\t\\t    var currentScroll = $(window).scrollTop();\\r\\n\\t\\t    var gall_top_recom_height = $(\"#gall_top_recom\").height(); //상단 개념박스 높이.\\r\\n\\t\\t   \\tif (typeof gall_top_recom_height == \\'undefined\\') gall_top_recom_height = 0;\\r\\n\\t\\t   \\tif(gall_top_recom_height > 0) {\\r\\n\\t\\t\\t   \\tcurrentScroll = currentScroll - 100;\\r\\n\\t\\t\\t   \\tstickyTop = 360;\\r\\n\\t\\t   \\t}\\r\\n\\t\\t   \\t//console.log(\\'currentScroll:\\'+currentScroll);\\r\\n\\t\\t   \\t//console.log(\\'stickyunit:\\'+stickyTop);\\r\\n\\t\\t    if(currentScroll <= stickyTop){\\r\\n\\t\\t        $(\\'.stickyunit\\').css({                      // if you scroll above it\\r\\n\\t\\t            position: \\'absolute\\',\\r\\n\\t\\t            top: \\'0\\',\\r\\n\\t\\t            left: \\'-136px\\',\\r\\n\\t\\t            padding: \"20px 0px 0px 0px\"\\r\\n\\t\\t        });\\r\\n\\t\\t    }else{\\r\\n\\t\\t        $(\\'.stickyunit\\').css({                      // scroll to that element or below it\\r\\n\\t\\t            position: \"absolute\",\\r\\n\\t\\t            top: currentScroll-stickyTop,\\r\\n\\t\\t            padding: \"20px 0px 0px 0px\"\\r\\n\\t\\t        });\\r\\n\\t\\t    }\\r\\n\\t    });\\r\\n\\t\\n\\n\\n\\n\\n\\n\\n전체글\\n개념글\\n\\n\\n글쓰기\\n\\n\\n\\n\\n12345678910다음끝 \\n\\n\\n\\n\\n갤러리 내부 검색\\n\\n\\n\\n전체\\n제목\\n내용\\n글쓴이\\n제목+내용\\n\\n\\n전체게시물 정렬 옵션\\n\\n\\n\\n전체\\n제목\\n내용\\n글쓴이\\n제목+내용\\n\\n\\n\\n\\n\\n\\n검색\\n\\n\\n\\n\\n\\n\\n\\r\\n  if(typeof(chk_user_block) == \\'function\\') {\\r\\n\\t  chk_user_block(\\'epicseven\\');\\r\\n  }\\r\\n  \\n\\n\\n\\n오른쪽 컨텐츠 영역\\n\\n\\n\\n\\n\\n\\n로그인을 해 주시기 바랍니다.\\n\\n\\n갤로그\\n즐겨찾기리스트 보기\\n알림\\n\\n\\n\\n\\n갤러리 즐겨찾기\\n\\n\\n즐겨찾는 갤러리 리스트입니다.\\n갤러리명 클릭 시 해당 갤러리로 이동합니다.\\n\\n추가한 갤러리가 없습니다.\\n\\n\\r\\n\\t\\t  <li>\\r\\n\\t\\t\\t<button type=\"button\" class=\"btn_sfavorite\" onclick=\"myFavoriteToggle(this);\" data-id=\"${code_id}\"><span class=\"blind\">추가</span><em class=\"sp_img icon_sfavorite\"></em></button>\\r\\n\\t\\t\\t<a href=\"/board/lists?id=${code_id}\">${name}</a>\\r\\n\\t\\t  </li>\\r\\n\\t\\t  \\n\\n\\n취소\\n저장\\n\\n\\n즐겨찾기 레이어 닫기\\n\\n\\n\\n\\n\\n알림설정\\n\\n\\n\\n한줄알림알림 팝업을 ON/OFF 합니다.\\r\\n\\t\\t\\t\\n\\non\\n\\n\\n\\n\\n댓글알림내 글에 댓글이 달린 경우 알려줍니다.\\r\\n\\t\\t\\t\\n\\non\\n\\n\\n\\n\\n답글알림내 댓글에 답글이 달린 경우 알려줍니다.\\r\\n\\t\\t\\t\\n\\non\\n\\n\\n\\n\\n힛갤알림힛갤이 등록된 경우 알려줍니다.\\r\\n\\t\\t\\t\\n\\non\\n\\n\\n\\n\\n닫기\\n저장\\n\\n\\n알림 설정 레이어 닫기\\n\\n\\n\\n\\n\\n\\n알림\\n\\n전체삭제\\n설정\\n\\n\\n\\n\\r\\n\\t\\t{{if type == \\'manager\\'}}\\r\\n\\t\\t<li class=\"notice_mng\">\\r\\n\\t\\t  <a {{if link}}href=\"${link}\"{{/if}} class=\"notice_txt\"><span>${prefix} ${content}</span>\\r\\n\\t\\t\\t<span class=\"inner\">\\r\\n\\t\\t\\t{{if time >= alarm_new_max}}<span class=\"new\"><em class=\"blind\">NEW</em><em class=\"sp_img icon_new\"></em></span>{{/if}}\\r\\n\\t\\t\\t<button type=\"button\" class=\"\" onclick=\"remove_alarm($(this).closest(\\'li\\'))\"><span class=\"blind\">알림삭제</span><em class=\"sp_img icon_bword_del\"></em></button>\\r\\n\\t\\t\\t</span>\\r\\n\\t\\t  </a>\\r\\n\\t\\t</li>\\r\\n\\t\\t{{else}}\\r\\n\\t\\t<li>\\r\\n\\t\\t  <a href=\"${link}\" class=\"notice_txt\">${prefix} ${content}</a>{{if time >= alarm_new_max}}<span class=\"new\"><em class=\"blind\">NEW</em><em class=\"sp_img icon_new\"></em></span>{{/if}}\\r\\n\\t\\t  <button type=\"button\" class=\"\" onclick=\"remove_alarm($(this).closest(\\'li\\'))\"><span class=\"blind\">알림삭제</span><em class=\"sp_img icon_bword_del\"></em></button>\\r\\n\\t\\t</li>\\r\\n\\t\\t{{/if}}\\r\\n\\t\\t\\n새로운 알림이 없습니다.\\n\\n알림 리스트 레이어 닫기\\n\\n\\n\\n\\n\\n\\n\\n\\n\\n개념글 []\\n\\n\\n/\\n\\n이전\\n다음\\n\\n\\n\\n\\r\\n\\t\\t<li><a href=\"${url}\" class=\"logClass\" depth1=\"rightframe\" depth2=\"recommend\">${title}</a></li>\\r\\n\\t\\t\\n\\n\\n\\n\\n\\n\\n  var googletag = googletag || {};\\n  googletag.cmd = googletag.cmd || [];\\n\\n\\n  googletag.cmd.push(function() {\\n    googletag.defineSlot(\\'/76378310/list_right_300600\\', [300, 600], \\'div-gpt-ad-1538097649334-0\\').addService(googletag.pubads());\\n    googletag.pubads().enableSingleRequest();\\n    googletag.enableServices();\\n  });\\n\\n\\n\\n\\ngoogletag.cmd.push(function() { googletag.display(\\'div-gpt-ad-1538097649334-0\\'); });\\n\\n \\n\\n\\n\\n\\n실시간 검색어 \\n\\n\\n\\n종합\\n시사\\n연예\\n스포츠\\n\\n\\n\\n\\n\\n\\r\\n\\t\\t\\t<li>\\r\\n\\t\\t\\t  <a href=\"${linkurl}\" target=\"_blank\">\\r\\n\\t\\t\\t\\t<span class=\"rank_num\"><em>${rank}</em></span>\\r\\n\\t\\t\\t\\t<span class=\"rank_txt\">${keyword}</span>\\r\\n\\t\\t\\t  </a>\\r\\n\\t\\t\\t</li>\\r\\n\\t\\t\\t\\n\\n\\n\\n12.20 14:27\\n\\n제공 Daum 검색다음검색이란\\n\\n\\n\\r\\n\\t\\t\\t\\t검색어를 누르면, Daum 검색결과로 이동합니다.\\r\\n\\t\\t\\t\\t닫기\\n\\n\\n\\n\\n\\n\\n\\n\\n\\n\\n\\n뉴스NEW\\n\\n\\n1/3\\n\\n이전\\n다음\\n\\n\\n\\n\\r\\n\\t\\t  <a class=\"inner logClass\" href=\"${url}\" depth1=\"rightframe\" depth2=\"dcnewsj\">\\r\\n\\t\\t\\t<span class=\"img_box\">\\r\\n\\t\\t\\t  <img src=\"${thumb}\" alt=\"\" >\\r\\n\\t\\t\\t</span>\\r\\n\\t\\t\\t<div class=\"txt_box\">\\r\\n\\t\\t\\t  <strong>${title}</strong>\\r\\n\\t\\t\\t  ${description}\\r\\n\\t\\t\\t</div>\\r\\n\\t\\t  </a>\\r\\n\\t\\t\\n\\n\\n\\n\\n\\n\\n 디시위키\\n심심할 땐 랜덤\\n\\n\\n\\r\\n\\t\\t\\t<a href=\"${link}\" class=\"logClass\" depth1=\"rightframe\" depth2=\"dcwiki\">\\r\\n\\t\\t\\t  <strong class=\"wiki_tit\">#${title}</strong>\\r\\n\\t\\t\\t  <p class=\"wiki_txt\">${memo}</p>\\r\\n\\t\\t\\t</a>\\r\\n\\t\\t  \\n\\n\\n\\n\\n\\n\\n힛(HIT)NEW\\n그때 그 힛\\n\\n\\n1/3\\n\\n이전\\n다음\\n\\n\\n\\n1/4\\n\\n이전\\n다음\\n\\n\\n\\n\\n\\n\\r\\n\\t\\t  <a class=\"inner logClass\" href=\"${link}\" depth1=\"rightframe\" depth2=\"${code}\">\\r\\n\\t\\t\\t<span class=\"img_box\">\\r\\n\\t\\t\\t  <img src=\"${original_link}\" alt=\"${title}\">\\r\\n\\t\\t\\t  <span class=\"sp_years icon_years7\" style=\"display:none\"><span class=\"blind\">7년전</span></span>\\r\\n\\t\\t\\t  <span class=\"sp_years icon_years10\" style=\"display:none\"><span class=\"blind\">10년전</span></span>\\r\\n\\t\\t\\t</span>\\r\\n\\t\\t\\t<div class=\"txt_box\">\\r\\n\\t\\t\\t  <strong>${title}</strong>\\r\\n\\t\\t\\t   <p class=\"hit_day\">작성일 ${reg_date}</p>\\r\\n\\t\\t\\t</div>\\r\\n\\t\\t  </a>\\r\\n\\t\\t\\n\\n\\n\\n\\n\\n\\n초개념\\n\\n초개념 더보기\\n\\n\\n\\n\\n\\r\\n\\t\\t\\t<div class=\"secimg_box\">\\r\\n\\t\\t\\t  <a class=\"inner logClass\" href=\"${url}\" depth1=\"rightframe\" depth2=\"toprecommend\">\\r\\n\\t\\t\\t\\t<span class=\"img_box\">\\r\\n\\t\\t\\t\\t  <img src=\"${thumb}\" alt=\"\">\\r\\n\\t\\t\\t\\t</span>\\r\\n\\t\\t\\t\\t<div class=\"txt_box\">\\r\\n\\t\\t\\t\\t  <strong>${title}</strong>\\r\\n\\t\\t\\t\\t</div>\\r\\n\\t\\t\\t  </a>\\r\\n\\t\\t\\t</div>\\r\\n\\t\\t\\t\\n\\n\\n\\r\\n\\t\\t  <li><a href=\"${url}\" class=\"logClass\" depth1=\"rightframe\" depth2=\"toprecommend\">${title}</a></li>\\r\\n\\t\\t  \\n\\n\\n\\n\\n\\n\\n이슈줌NEW\\n\\n\\n1/6\\n\\n이전\\n다음\\n\\n\\n\\n\\r\\n\\t\\t  <a class=\"inner logClass\"  href=\"${link}\" depth1=\"rightframe\" depth2=\"issuezoom\">\\r\\n\\t\\t\\t<span class=\"img_box\">\\r\\n\\t\\t\\t  <img src=\"${original_link}\" alt=\"\" width=\"272\">\\r\\n\\t\\t\\t</span>\\r\\n\\t\\t\\t<div class=\"txt_box\">\\r\\n\\t\\t\\t  <strong>${title}</strong>\\r\\n\\t\\t\\t  ${memo}\\r\\n\\t\\t\\t</div>\\r\\n\\t\\t\\t<span class=\"issue_inner\"></span>\\r\\n\\t\\t  </a>\\r\\n\\t\\t\\n\\n\\n\\n\\r\\ngr_recomAjax();\\r\\ngr_newsAjax();\\r\\ngr_wiki();\\r\\ngr_hit();\\r\\ngr_oldhit();\\r\\ngr_toprecomAjax();\\r\\ngr_issueKeyword();gr_issueZoom();  \\n\\n\\n  window._taboola = window._taboola || [];\\n  _taboola.push({\\n    mode: \\'thumbnails-a-stream\\',\\n    container: \\'taboola-below-article-thumbnails-2nd-stream\\',\\n    placement: \\'Below Article Thumbnails-2nd-stream\\',\\n    target_type: \\'mix\\'\\n  });\\n\\n\\n\\n\\n\\r\\n$(\\'footer.dcfoot\\').addClass(\\'type1\\');\\r\\n\\n\\n\\n\\n\\n게임\\n리그 오브 레전드\\n그랑블루 판타지\\n배틀그라운드\\n검은사막\\n던전앤파이터\\n\\n\\n연예/방송\\n블랙핑크\\n러블리즈\\n강다니엘\\n방탄소년단\\nTWICE\\n\\n\\n스포츠\\n국내야구\\n한화 이글스\\nKIA 타이거즈\\n롯데 자이언츠\\n해외축구\\n\\n\\n교육/학술\\n주식\\n비트코인\\n안철수\\n바둑\\n역학\\n\\n\\n여행/음식/생물\\n멍멍이\\n야옹이\\n물고기\\n\\n기타음식\\n\\n\\n취미/생활\\n인터넷방송\\n연극, 뮤지컬 갤러리\\n판타지\\n카툰-연재\\n카툰-단편\\n\\n\\n\\n\\n맨위로\\n\\n\\n\\n\\n\\n회사소개\\n인재채용\\n제휴안내\\n광고안내\\n이용약관\\n개인정보처리방침\\n청소년보호정책\\n마이너 갤러리 운영원칙\\n\\nCopyright ⓒ 1999 - 2018 dcinside. All rights reserved\\n\\n\\n\\n\\n\\r\\n\\t<div class=\"alarmPopup pop_wrap type1 fixed\" style=\"right:30px;bottom:30px;display:none\">\\r\\n\\t  <div class=\"pop_content one_noticewrap\">\\r\\n\\t\\t<a href=\"${link}\" class=\"one_notice_txt\">\\r\\n\\t\\t  <span class=\"new\"><em class=\"blind\">NEW</em><em class=\"sp_img icon_new\"></em></span>${prefix} ${content}\\r\\n\\t\\t</a>\\r\\n\\t\\t<button type=\"button\" class=\"poply_close\" onclick=\"$(\\'.alarmPopup\\').remove()\"><span class=\"blind\">알림 레이어 닫기</span><em class=\"sp_img icon_blueclose\"></em></button>\\r\\n\\t  </div>\\r\\n\\t</div>\\r\\n  \\n\\n\\n\\r\\n  window._taboola = window._taboola || [];\\r\\n  _taboola.push({flush: true});\\r\\n  \\n\\n\\n\\n\\n\\n\\r\\n\\r\\n\\t  var _gaq = _gaq || [];\\r\\n\\t  _gaq.push([\\'_setAccount\\', \\'UA-5149721-11\\']);\\r\\n\\t  _gaq.push([\\'_setDomainName\\', \\'dcinside.com\\']);\\r\\n\\t  _gaq.push([\\'_setAllowLinker\\', true]);\\r\\n\\t  _gaq.push([\\'_trackPageview\\']);\\r\\n\\r\\n\\t  (function() {\\r\\n\\t\\tvar ga = document.createElement(\\'script\\'); ga.type = \\'text/javascript\\'; ga.async = true;\\r\\n\\t\\tga.src = (\\'https:\\' == document.location.protocol ? \\'https://ssl\\' : \\'http://www\\') + \\'.google-analytics.com/ga.js\\';\\r\\n\\t\\tvar s = document.getElementsByTagName(\\'script\\')[0]; s.parentNode.insertBefore(ga, s);\\r\\n\\t  })();\\r\\n\\r\\n\\t\\n\\n\\n\\r\\n\\r\\n\\t  var _gaq = _gaq || [];\\r\\n\\t  _gaq.push([\\'_setAccount\\', \\'UA-5149721-39\\']);\\r\\n\\t  _gaq.push([\\'_setDomainName\\', \\'dcinside.com\\']);\\r\\n\\t  _gaq.push([\\'_setAllowLinker\\', true]);\\r\\n\\t  _gaq.push([\\'_trackPageview\\']);\\r\\n\\r\\n\\t  (function() {\\r\\n\\t\\tvar ga = document.createElement(\\'script\\'); ga.type = \\'text/javascript\\'; ga.async = true;\\r\\n\\t\\tga.src = (\\'https:\\' == document.location.protocol ? \\'https://ssl\\' : \\'http://www\\') + \\'.google-analytics.com/ga.js\\';\\r\\n\\t\\tvar s = document.getElementsByTagName(\\'script\\')[0]; s.parentNode.insertBefore(ga, s);\\r\\n\\t  })();\\r\\n\\r\\n\\t\\n\\n\\n\\r\\n(function(i,s,o,g,r,a,m){i[\\'GoogleAnalyticsObject\\']=r;i[r]=i[r]||function(){\\r\\n  (i[r].q=i[r].q||[]).push(arguments)},i[r].l=1*new Date();a=s.createElement(o),\\r\\n  m=s.getElementsByTagName(o)[0];a.async=1;a.src=g;m.parentNode.insertBefore(a,m)\\r\\n  })(window,document,\\'script\\',\\'//www.google-analytics.com/analytics.js\\',\\'ga\\');\\r\\n\\r\\n  //마이너 갤러리 전체\\r\\n  ga(\\'create\\', \\'UA-10723182-7\\', \\'auto\\', {\\'name\\': \\'mgall_all\\',\\'sampleRate\\': 10});\\r\\n  ga(\\'mgall_all.require\\', \\'displayfeatures\\');\\r\\n  ga(\\'mgall_all.send\\', \\'pageview\\');\\r\\n\\r\\n  //마이너 갤러리 웹\\r\\n  ga(\\'create\\', \\'UA-10723182-8\\', \\'auto\\', {\\'name\\': \\'mgall_web\\'});\\r\\n  ga(\\'mgall_web.require\\', \\'displayfeatures\\');\\r\\n  ga(\\'mgall_web.send\\', \\'pageview\\');\\r\\n\\r\\n    //마이너 갤러리 전체 + 승격갤\\r\\n  ga(\\'create\\', \\'UA-10723182-10\\', \\'auto\\', {\\'name\\': \\'mgall_raise\\',\\'sampleRate\\': 5});\\r\\n  ga(\\'mgall_raise.require\\', \\'displayfeatures\\');\\r\\n  ga(\\'mgall_raise.send\\', \\'pageview\\');\\r\\n\\r\\n\\n\\n\\r\\nif(!wcs_add) var wcs_add = {};\\r\\nwcs_add[\"wa\"] = \"f92eaecbc22aac\";\\r\\ntry { wcs_do();} catch(err) {}\\r\\n\\n'"
      ]
     },
     "execution_count": 51,
     "metadata": {},
     "output_type": "execute_result"
    }
   ],
   "source": [
    "epic7_gal_1000_posts[1].text"
   ]
  },
  {
   "cell_type": "code",
   "execution_count": null,
   "metadata": {},
   "outputs": [],
   "source": []
  },
  {
   "cell_type": "code",
   "execution_count": null,
   "metadata": {},
   "outputs": [],
   "source": [
    "start_indicator = '\\n09/26\\n1934\\n3\\n\\n\\n282471\\n\\n'\n",
    "end_indicator = '\\n\\n\\n\\n\\n\\n\\n \\n \\n\\n\\n\\n\\n\\n\\n  var googletag = googletag'"
   ]
  },
  {
   "cell_type": "code",
   "execution_count": null,
   "metadata": {},
   "outputs": [],
   "source": []
  },
  {
   "cell_type": "code",
   "execution_count": 6,
   "metadata": {},
   "outputs": [],
   "source": [
    "def get_epic_gal_meta_infos(url_format, start_idc, end_idc, max_pnum):\n",
    "    \n",
    "    # landing_url : 랜딩페이지 url\n",
    "    # start_idc_land : 게시글 메타정보가 시작되는 문자열 (랜딩페이지)\n",
    "    # end_idc_land : 게시글 메타정보가 끝나는 문자열 (랜딩페이지)\n",
    "    # start_idc, end_idc : 게시글 메타정보 시작/종료 문자열 (2페이지부터)\n",
    "    # max_pnum : 1페이지부터 크롤링하고자 하는 페이지 수\n",
    "    \n",
    "    epic7_gal_posts = []\n",
    "    \n",
    "    for i in range(max_pnum): \n",
    "        epic7_gal_posts.append(BeautifulSoup(requests.get(url_format+str(i+1)).content,\\\n",
    "                                             'html.parser'))\n",
    "    \n",
    "    meta_dict = {}\n",
    "    temp_title, temp_metas = [], []\n",
    "    temp_num_comments, current_post_num = 0, 0\n",
    "    \n",
    "    for p in range(max_pnum):\n",
    "        \n",
    "        # 첫번째 페이지 제외.\n",
    "        if p == 0:\n",
    "            continue\n",
    "        \n",
    "        else:\n",
    "            test__ = (epic7_gal_posts[p].text).split(start_idc)[1].split(end_idc)[0]\n",
    "            test = (epic7_gal_posts[p].text).split(start_idc)[1].split(end_idc)[0]\n",
    "        \n",
    "        print(repr(test__))\n",
    "        print('')\n",
    "        \n",
    "        for i, sp in enumerate(test.split('\\n\\n')):\n",
    "            \n",
    "            # post title\n",
    "            if i%3==1:\n",
    "                \n",
    "                is_commented = re.findall(r'\\n\\[[0-9]+\\]', sp)\n",
    "                \n",
    "                if is_commented:\n",
    "                    #print(sp)\n",
    "                    temp_title = sp[:-len(is_commented[0])].strip(' ').strip('\\n')\n",
    "                    \n",
    "                    #print(is_commented[0].strip(' ').strip('\\n'))\n",
    "                    \n",
    "                    #temp_num_comments = int(sp[-len(re.findall(r'\\n\\[[0-9]+\\]', sp)[0]):].strip('[').strip(']'))\n",
    "                    temp_num_comments = int(is_commented[0].strip(' ').strip('\\n')[1:-1])\n",
    "                    #print(temp_num_comments)\n",
    "                    \n",
    "                else:\n",
    "                    temp_title = sp.strip(' ').strip('\\n')\n",
    "                    \n",
    "                meta_dict[current_post_num].append(temp_title)\n",
    "            \n",
    "            # post meta data (writer name, date, views, recommendations)\n",
    "            # format example: '\\n283186', '다음 6성 헤이스트 ㄱ?\\n[7] ', '떠그 \\n10/18\\n141\\n0'\n",
    "            elif i%3==2:\n",
    "                \n",
    "                metas = sp.split('\\n')\n",
    "                temp_metas = [metas[2].strip(' '), \n",
    "                              metas[3].strip(' '), \n",
    "                              metas[1].strip(' ')]\n",
    "                \n",
    "                temp_metas.append(temp_num_comments)\n",
    "                meta_dict[current_post_num].append(temp_metas)\n",
    "            \n",
    "            # post number + adding meta data\n",
    "            elif i%3==0:\n",
    "                #temp_id.append(sp.strip('\\n'))\n",
    "                \n",
    "                current_post_num = int(sp.strip('\\n'))\n",
    "                \n",
    "                if temp_num_comments:\n",
    "                    temp_metas.extend([temp_num_comments])\n",
    "                    meta_dict[current_post_num] = []\n",
    "                \n",
    "                else:\n",
    "                    meta_dict[current_post_num] = []\n",
    "                    \n",
    "                \n",
    "\n",
    "        #print(meta_dict)\n",
    "        \n",
    "        # 임시 정보저장용 변수 초기화 / 증가\n",
    "        temp_title, temp_metas, temp_num_comments = [], [], 0\n",
    "        current_post_num += 1\n",
    "                \n",
    "    return meta_dict"
   ]
  },
  {
   "cell_type": "code",
   "execution_count": null,
   "metadata": {},
   "outputs": [],
   "source": []
  },
  {
   "cell_type": "code",
   "execution_count": 7,
   "metadata": {},
   "outputs": [
    {
     "ename": "KeyboardInterrupt",
     "evalue": "",
     "output_type": "error",
     "traceback": [
      "\u001b[0;31m---------------------------------------------------------------------------\u001b[0m",
      "\u001b[0;31mTypeError\u001b[0m                                 Traceback (most recent call last)",
      "\u001b[0;32m/usr/local/lib/python3.6/site-packages/urllib3/connectionpool.py\u001b[0m in \u001b[0;36m_make_request\u001b[0;34m(self, conn, method, url, timeout, chunked, **httplib_request_kw)\u001b[0m\n\u001b[1;32m    379\u001b[0m             \u001b[0;32mtry\u001b[0m\u001b[0;34m:\u001b[0m  \u001b[0;31m# Python 2.7, use buffering of HTTP responses\u001b[0m\u001b[0;34m\u001b[0m\u001b[0m\n\u001b[0;32m--> 380\u001b[0;31m                 \u001b[0mhttplib_response\u001b[0m \u001b[0;34m=\u001b[0m \u001b[0mconn\u001b[0m\u001b[0;34m.\u001b[0m\u001b[0mgetresponse\u001b[0m\u001b[0;34m(\u001b[0m\u001b[0mbuffering\u001b[0m\u001b[0;34m=\u001b[0m\u001b[0;32mTrue\u001b[0m\u001b[0;34m)\u001b[0m\u001b[0;34m\u001b[0m\u001b[0m\n\u001b[0m\u001b[1;32m    381\u001b[0m             \u001b[0;32mexcept\u001b[0m \u001b[0mTypeError\u001b[0m\u001b[0;34m:\u001b[0m  \u001b[0;31m# Python 2.6 and older, Python 3\u001b[0m\u001b[0;34m\u001b[0m\u001b[0m\n",
      "\u001b[0;31mTypeError\u001b[0m: getresponse() got an unexpected keyword argument 'buffering'",
      "\nDuring handling of the above exception, another exception occurred:\n",
      "\u001b[0;31mKeyboardInterrupt\u001b[0m                         Traceback (most recent call last)",
      "\u001b[0;32m<ipython-input-7-85703e010225>\u001b[0m in \u001b[0;36m<module>\u001b[0;34m()\u001b[0m\n\u001b[1;32m      1\u001b[0m get_epic_gal_meta_infos('http://gall.dcinside.com/mgallery/board/lists/?id=epicseven&page=',\n\u001b[0;32m----> 2\u001b[0;31m                         '추천\\n\\n\\n\\n\\n\\n', '\\n\\n\\n\\n\\n\\n\\n', 3)\n\u001b[0m",
      "\u001b[0;32m<ipython-input-6-051c507a844a>\u001b[0m in \u001b[0;36mget_epic_gal_meta_infos\u001b[0;34m(url_format, start_idc, end_idc, max_pnum)\u001b[0m\n\u001b[1;32m     10\u001b[0m \u001b[0;34m\u001b[0m\u001b[0m\n\u001b[1;32m     11\u001b[0m     \u001b[0;32mfor\u001b[0m \u001b[0mi\u001b[0m \u001b[0;32min\u001b[0m \u001b[0mrange\u001b[0m\u001b[0;34m(\u001b[0m\u001b[0mmax_pnum\u001b[0m\u001b[0;34m)\u001b[0m\u001b[0;34m:\u001b[0m\u001b[0;34m\u001b[0m\u001b[0m\n\u001b[0;32m---> 12\u001b[0;31m         \u001b[0mepic7_gal_posts\u001b[0m\u001b[0;34m.\u001b[0m\u001b[0mappend\u001b[0m\u001b[0;34m(\u001b[0m\u001b[0mBeautifulSoup\u001b[0m\u001b[0;34m(\u001b[0m\u001b[0mrequests\u001b[0m\u001b[0;34m.\u001b[0m\u001b[0mget\u001b[0m\u001b[0;34m(\u001b[0m\u001b[0murl_format\u001b[0m\u001b[0;34m+\u001b[0m\u001b[0mstr\u001b[0m\u001b[0;34m(\u001b[0m\u001b[0mi\u001b[0m\u001b[0;34m+\u001b[0m\u001b[0;36m1\u001b[0m\u001b[0;34m)\u001b[0m\u001b[0;34m)\u001b[0m\u001b[0;34m.\u001b[0m\u001b[0mcontent\u001b[0m\u001b[0;34m,\u001b[0m                                             \u001b[0;34m'html.parser'\u001b[0m\u001b[0;34m)\u001b[0m\u001b[0;34m)\u001b[0m\u001b[0;34m\u001b[0m\u001b[0m\n\u001b[0m\u001b[1;32m     13\u001b[0m \u001b[0;34m\u001b[0m\u001b[0m\n\u001b[1;32m     14\u001b[0m     \u001b[0mmeta_dict\u001b[0m \u001b[0;34m=\u001b[0m \u001b[0;34m{\u001b[0m\u001b[0;34m}\u001b[0m\u001b[0;34m\u001b[0m\u001b[0m\n",
      "\u001b[0;32m/usr/local/lib/python3.6/site-packages/requests/api.py\u001b[0m in \u001b[0;36mget\u001b[0;34m(url, params, **kwargs)\u001b[0m\n\u001b[1;32m     70\u001b[0m \u001b[0;34m\u001b[0m\u001b[0m\n\u001b[1;32m     71\u001b[0m     \u001b[0mkwargs\u001b[0m\u001b[0;34m.\u001b[0m\u001b[0msetdefault\u001b[0m\u001b[0;34m(\u001b[0m\u001b[0;34m'allow_redirects'\u001b[0m\u001b[0;34m,\u001b[0m \u001b[0;32mTrue\u001b[0m\u001b[0;34m)\u001b[0m\u001b[0;34m\u001b[0m\u001b[0m\n\u001b[0;32m---> 72\u001b[0;31m     \u001b[0;32mreturn\u001b[0m \u001b[0mrequest\u001b[0m\u001b[0;34m(\u001b[0m\u001b[0;34m'get'\u001b[0m\u001b[0;34m,\u001b[0m \u001b[0murl\u001b[0m\u001b[0;34m,\u001b[0m \u001b[0mparams\u001b[0m\u001b[0;34m=\u001b[0m\u001b[0mparams\u001b[0m\u001b[0;34m,\u001b[0m \u001b[0;34m**\u001b[0m\u001b[0mkwargs\u001b[0m\u001b[0;34m)\u001b[0m\u001b[0;34m\u001b[0m\u001b[0m\n\u001b[0m\u001b[1;32m     73\u001b[0m \u001b[0;34m\u001b[0m\u001b[0m\n\u001b[1;32m     74\u001b[0m \u001b[0;34m\u001b[0m\u001b[0m\n",
      "\u001b[0;32m/usr/local/lib/python3.6/site-packages/requests/api.py\u001b[0m in \u001b[0;36mrequest\u001b[0;34m(method, url, **kwargs)\u001b[0m\n\u001b[1;32m     56\u001b[0m     \u001b[0;31m# cases, and look like a memory leak in others.\u001b[0m\u001b[0;34m\u001b[0m\u001b[0;34m\u001b[0m\u001b[0m\n\u001b[1;32m     57\u001b[0m     \u001b[0;32mwith\u001b[0m \u001b[0msessions\u001b[0m\u001b[0;34m.\u001b[0m\u001b[0mSession\u001b[0m\u001b[0;34m(\u001b[0m\u001b[0;34m)\u001b[0m \u001b[0;32mas\u001b[0m \u001b[0msession\u001b[0m\u001b[0;34m:\u001b[0m\u001b[0;34m\u001b[0m\u001b[0m\n\u001b[0;32m---> 58\u001b[0;31m         \u001b[0;32mreturn\u001b[0m \u001b[0msession\u001b[0m\u001b[0;34m.\u001b[0m\u001b[0mrequest\u001b[0m\u001b[0;34m(\u001b[0m\u001b[0mmethod\u001b[0m\u001b[0;34m=\u001b[0m\u001b[0mmethod\u001b[0m\u001b[0;34m,\u001b[0m \u001b[0murl\u001b[0m\u001b[0;34m=\u001b[0m\u001b[0murl\u001b[0m\u001b[0;34m,\u001b[0m \u001b[0;34m**\u001b[0m\u001b[0mkwargs\u001b[0m\u001b[0;34m)\u001b[0m\u001b[0;34m\u001b[0m\u001b[0m\n\u001b[0m\u001b[1;32m     59\u001b[0m \u001b[0;34m\u001b[0m\u001b[0m\n\u001b[1;32m     60\u001b[0m \u001b[0;34m\u001b[0m\u001b[0m\n",
      "\u001b[0;32m/usr/local/lib/python3.6/site-packages/requests/sessions.py\u001b[0m in \u001b[0;36mrequest\u001b[0;34m(self, method, url, params, data, headers, cookies, files, auth, timeout, allow_redirects, proxies, hooks, stream, verify, cert, json)\u001b[0m\n\u001b[1;32m    506\u001b[0m         }\n\u001b[1;32m    507\u001b[0m         \u001b[0msend_kwargs\u001b[0m\u001b[0;34m.\u001b[0m\u001b[0mupdate\u001b[0m\u001b[0;34m(\u001b[0m\u001b[0msettings\u001b[0m\u001b[0;34m)\u001b[0m\u001b[0;34m\u001b[0m\u001b[0m\n\u001b[0;32m--> 508\u001b[0;31m         \u001b[0mresp\u001b[0m \u001b[0;34m=\u001b[0m \u001b[0mself\u001b[0m\u001b[0;34m.\u001b[0m\u001b[0msend\u001b[0m\u001b[0;34m(\u001b[0m\u001b[0mprep\u001b[0m\u001b[0;34m,\u001b[0m \u001b[0;34m**\u001b[0m\u001b[0msend_kwargs\u001b[0m\u001b[0;34m)\u001b[0m\u001b[0;34m\u001b[0m\u001b[0m\n\u001b[0m\u001b[1;32m    509\u001b[0m \u001b[0;34m\u001b[0m\u001b[0m\n\u001b[1;32m    510\u001b[0m         \u001b[0;32mreturn\u001b[0m \u001b[0mresp\u001b[0m\u001b[0;34m\u001b[0m\u001b[0m\n",
      "\u001b[0;32m/usr/local/lib/python3.6/site-packages/requests/sessions.py\u001b[0m in \u001b[0;36msend\u001b[0;34m(self, request, **kwargs)\u001b[0m\n\u001b[1;32m    616\u001b[0m \u001b[0;34m\u001b[0m\u001b[0m\n\u001b[1;32m    617\u001b[0m         \u001b[0;31m# Send the request\u001b[0m\u001b[0;34m\u001b[0m\u001b[0;34m\u001b[0m\u001b[0m\n\u001b[0;32m--> 618\u001b[0;31m         \u001b[0mr\u001b[0m \u001b[0;34m=\u001b[0m \u001b[0madapter\u001b[0m\u001b[0;34m.\u001b[0m\u001b[0msend\u001b[0m\u001b[0;34m(\u001b[0m\u001b[0mrequest\u001b[0m\u001b[0;34m,\u001b[0m \u001b[0;34m**\u001b[0m\u001b[0mkwargs\u001b[0m\u001b[0;34m)\u001b[0m\u001b[0;34m\u001b[0m\u001b[0m\n\u001b[0m\u001b[1;32m    619\u001b[0m \u001b[0;34m\u001b[0m\u001b[0m\n\u001b[1;32m    620\u001b[0m         \u001b[0;31m# Total elapsed time of the request (approximately)\u001b[0m\u001b[0;34m\u001b[0m\u001b[0;34m\u001b[0m\u001b[0m\n",
      "\u001b[0;32m/usr/local/lib/python3.6/site-packages/requests/adapters.py\u001b[0m in \u001b[0;36msend\u001b[0;34m(self, request, stream, timeout, verify, cert, proxies)\u001b[0m\n\u001b[1;32m    438\u001b[0m                     \u001b[0mdecode_content\u001b[0m\u001b[0;34m=\u001b[0m\u001b[0;32mFalse\u001b[0m\u001b[0;34m,\u001b[0m\u001b[0;34m\u001b[0m\u001b[0m\n\u001b[1;32m    439\u001b[0m                     \u001b[0mretries\u001b[0m\u001b[0;34m=\u001b[0m\u001b[0mself\u001b[0m\u001b[0;34m.\u001b[0m\u001b[0mmax_retries\u001b[0m\u001b[0;34m,\u001b[0m\u001b[0;34m\u001b[0m\u001b[0m\n\u001b[0;32m--> 440\u001b[0;31m                     \u001b[0mtimeout\u001b[0m\u001b[0;34m=\u001b[0m\u001b[0mtimeout\u001b[0m\u001b[0;34m\u001b[0m\u001b[0m\n\u001b[0m\u001b[1;32m    441\u001b[0m                 )\n\u001b[1;32m    442\u001b[0m \u001b[0;34m\u001b[0m\u001b[0m\n",
      "\u001b[0;32m/usr/local/lib/python3.6/site-packages/urllib3/connectionpool.py\u001b[0m in \u001b[0;36murlopen\u001b[0;34m(self, method, url, body, headers, retries, redirect, assert_same_host, timeout, pool_timeout, release_conn, chunked, body_pos, **response_kw)\u001b[0m\n\u001b[1;32m    599\u001b[0m                                                   \u001b[0mtimeout\u001b[0m\u001b[0;34m=\u001b[0m\u001b[0mtimeout_obj\u001b[0m\u001b[0;34m,\u001b[0m\u001b[0;34m\u001b[0m\u001b[0m\n\u001b[1;32m    600\u001b[0m                                                   \u001b[0mbody\u001b[0m\u001b[0;34m=\u001b[0m\u001b[0mbody\u001b[0m\u001b[0;34m,\u001b[0m \u001b[0mheaders\u001b[0m\u001b[0;34m=\u001b[0m\u001b[0mheaders\u001b[0m\u001b[0;34m,\u001b[0m\u001b[0;34m\u001b[0m\u001b[0m\n\u001b[0;32m--> 601\u001b[0;31m                                                   chunked=chunked)\n\u001b[0m\u001b[1;32m    602\u001b[0m \u001b[0;34m\u001b[0m\u001b[0m\n\u001b[1;32m    603\u001b[0m             \u001b[0;31m# If we're going to release the connection in ``finally:``, then\u001b[0m\u001b[0;34m\u001b[0m\u001b[0;34m\u001b[0m\u001b[0m\n",
      "\u001b[0;32m/usr/local/lib/python3.6/site-packages/urllib3/connectionpool.py\u001b[0m in \u001b[0;36m_make_request\u001b[0;34m(self, conn, method, url, timeout, chunked, **httplib_request_kw)\u001b[0m\n\u001b[1;32m    381\u001b[0m             \u001b[0;32mexcept\u001b[0m \u001b[0mTypeError\u001b[0m\u001b[0;34m:\u001b[0m  \u001b[0;31m# Python 2.6 and older, Python 3\u001b[0m\u001b[0;34m\u001b[0m\u001b[0m\n\u001b[1;32m    382\u001b[0m                 \u001b[0;32mtry\u001b[0m\u001b[0;34m:\u001b[0m\u001b[0;34m\u001b[0m\u001b[0m\n\u001b[0;32m--> 383\u001b[0;31m                     \u001b[0mhttplib_response\u001b[0m \u001b[0;34m=\u001b[0m \u001b[0mconn\u001b[0m\u001b[0;34m.\u001b[0m\u001b[0mgetresponse\u001b[0m\u001b[0;34m(\u001b[0m\u001b[0;34m)\u001b[0m\u001b[0;34m\u001b[0m\u001b[0m\n\u001b[0m\u001b[1;32m    384\u001b[0m                 \u001b[0;32mexcept\u001b[0m \u001b[0mException\u001b[0m \u001b[0;32mas\u001b[0m \u001b[0me\u001b[0m\u001b[0;34m:\u001b[0m\u001b[0;34m\u001b[0m\u001b[0m\n\u001b[1;32m    385\u001b[0m                     \u001b[0;31m# Remove the TypeError from the exception chain in Python 3;\u001b[0m\u001b[0;34m\u001b[0m\u001b[0;34m\u001b[0m\u001b[0m\n",
      "\u001b[0;32m/usr/local/Cellar/python3/3.6.2/Frameworks/Python.framework/Versions/3.6/lib/python3.6/http/client.py\u001b[0m in \u001b[0;36mgetresponse\u001b[0;34m(self)\u001b[0m\n\u001b[1;32m   1329\u001b[0m         \u001b[0;32mtry\u001b[0m\u001b[0;34m:\u001b[0m\u001b[0;34m\u001b[0m\u001b[0m\n\u001b[1;32m   1330\u001b[0m             \u001b[0;32mtry\u001b[0m\u001b[0;34m:\u001b[0m\u001b[0;34m\u001b[0m\u001b[0m\n\u001b[0;32m-> 1331\u001b[0;31m                 \u001b[0mresponse\u001b[0m\u001b[0;34m.\u001b[0m\u001b[0mbegin\u001b[0m\u001b[0;34m(\u001b[0m\u001b[0;34m)\u001b[0m\u001b[0;34m\u001b[0m\u001b[0m\n\u001b[0m\u001b[1;32m   1332\u001b[0m             \u001b[0;32mexcept\u001b[0m \u001b[0mConnectionError\u001b[0m\u001b[0;34m:\u001b[0m\u001b[0;34m\u001b[0m\u001b[0m\n\u001b[1;32m   1333\u001b[0m                 \u001b[0mself\u001b[0m\u001b[0;34m.\u001b[0m\u001b[0mclose\u001b[0m\u001b[0;34m(\u001b[0m\u001b[0;34m)\u001b[0m\u001b[0;34m\u001b[0m\u001b[0m\n",
      "\u001b[0;32m/usr/local/Cellar/python3/3.6.2/Frameworks/Python.framework/Versions/3.6/lib/python3.6/http/client.py\u001b[0m in \u001b[0;36mbegin\u001b[0;34m(self)\u001b[0m\n\u001b[1;32m    295\u001b[0m         \u001b[0;31m# read until we get a non-100 response\u001b[0m\u001b[0;34m\u001b[0m\u001b[0;34m\u001b[0m\u001b[0m\n\u001b[1;32m    296\u001b[0m         \u001b[0;32mwhile\u001b[0m \u001b[0;32mTrue\u001b[0m\u001b[0;34m:\u001b[0m\u001b[0;34m\u001b[0m\u001b[0m\n\u001b[0;32m--> 297\u001b[0;31m             \u001b[0mversion\u001b[0m\u001b[0;34m,\u001b[0m \u001b[0mstatus\u001b[0m\u001b[0;34m,\u001b[0m \u001b[0mreason\u001b[0m \u001b[0;34m=\u001b[0m \u001b[0mself\u001b[0m\u001b[0;34m.\u001b[0m\u001b[0m_read_status\u001b[0m\u001b[0;34m(\u001b[0m\u001b[0;34m)\u001b[0m\u001b[0;34m\u001b[0m\u001b[0m\n\u001b[0m\u001b[1;32m    298\u001b[0m             \u001b[0;32mif\u001b[0m \u001b[0mstatus\u001b[0m \u001b[0;34m!=\u001b[0m \u001b[0mCONTINUE\u001b[0m\u001b[0;34m:\u001b[0m\u001b[0;34m\u001b[0m\u001b[0m\n\u001b[1;32m    299\u001b[0m                 \u001b[0;32mbreak\u001b[0m\u001b[0;34m\u001b[0m\u001b[0m\n",
      "\u001b[0;32m/usr/local/Cellar/python3/3.6.2/Frameworks/Python.framework/Versions/3.6/lib/python3.6/http/client.py\u001b[0m in \u001b[0;36m_read_status\u001b[0;34m(self)\u001b[0m\n\u001b[1;32m    256\u001b[0m \u001b[0;34m\u001b[0m\u001b[0m\n\u001b[1;32m    257\u001b[0m     \u001b[0;32mdef\u001b[0m \u001b[0m_read_status\u001b[0m\u001b[0;34m(\u001b[0m\u001b[0mself\u001b[0m\u001b[0;34m)\u001b[0m\u001b[0;34m:\u001b[0m\u001b[0;34m\u001b[0m\u001b[0m\n\u001b[0;32m--> 258\u001b[0;31m         \u001b[0mline\u001b[0m \u001b[0;34m=\u001b[0m \u001b[0mstr\u001b[0m\u001b[0;34m(\u001b[0m\u001b[0mself\u001b[0m\u001b[0;34m.\u001b[0m\u001b[0mfp\u001b[0m\u001b[0;34m.\u001b[0m\u001b[0mreadline\u001b[0m\u001b[0;34m(\u001b[0m\u001b[0m_MAXLINE\u001b[0m \u001b[0;34m+\u001b[0m \u001b[0;36m1\u001b[0m\u001b[0;34m)\u001b[0m\u001b[0;34m,\u001b[0m \u001b[0;34m\"iso-8859-1\"\u001b[0m\u001b[0;34m)\u001b[0m\u001b[0;34m\u001b[0m\u001b[0m\n\u001b[0m\u001b[1;32m    259\u001b[0m         \u001b[0;32mif\u001b[0m \u001b[0mlen\u001b[0m\u001b[0;34m(\u001b[0m\u001b[0mline\u001b[0m\u001b[0;34m)\u001b[0m \u001b[0;34m>\u001b[0m \u001b[0m_MAXLINE\u001b[0m\u001b[0;34m:\u001b[0m\u001b[0;34m\u001b[0m\u001b[0m\n\u001b[1;32m    260\u001b[0m             \u001b[0;32mraise\u001b[0m \u001b[0mLineTooLong\u001b[0m\u001b[0;34m(\u001b[0m\u001b[0;34m\"status line\"\u001b[0m\u001b[0;34m)\u001b[0m\u001b[0;34m\u001b[0m\u001b[0m\n",
      "\u001b[0;32m/usr/local/Cellar/python3/3.6.2/Frameworks/Python.framework/Versions/3.6/lib/python3.6/socket.py\u001b[0m in \u001b[0;36mreadinto\u001b[0;34m(self, b)\u001b[0m\n\u001b[1;32m    584\u001b[0m         \u001b[0;32mwhile\u001b[0m \u001b[0;32mTrue\u001b[0m\u001b[0;34m:\u001b[0m\u001b[0;34m\u001b[0m\u001b[0m\n\u001b[1;32m    585\u001b[0m             \u001b[0;32mtry\u001b[0m\u001b[0;34m:\u001b[0m\u001b[0;34m\u001b[0m\u001b[0m\n\u001b[0;32m--> 586\u001b[0;31m                 \u001b[0;32mreturn\u001b[0m \u001b[0mself\u001b[0m\u001b[0;34m.\u001b[0m\u001b[0m_sock\u001b[0m\u001b[0;34m.\u001b[0m\u001b[0mrecv_into\u001b[0m\u001b[0;34m(\u001b[0m\u001b[0mb\u001b[0m\u001b[0;34m)\u001b[0m\u001b[0;34m\u001b[0m\u001b[0m\n\u001b[0m\u001b[1;32m    587\u001b[0m             \u001b[0;32mexcept\u001b[0m \u001b[0mtimeout\u001b[0m\u001b[0;34m:\u001b[0m\u001b[0;34m\u001b[0m\u001b[0m\n\u001b[1;32m    588\u001b[0m                 \u001b[0mself\u001b[0m\u001b[0;34m.\u001b[0m\u001b[0m_timeout_occurred\u001b[0m \u001b[0;34m=\u001b[0m \u001b[0;32mTrue\u001b[0m\u001b[0;34m\u001b[0m\u001b[0m\n",
      "\u001b[0;31mKeyboardInterrupt\u001b[0m: "
     ]
    }
   ],
   "source": [
    "get_epic_gal_meta_infos('http://gall.dcinside.com/mgallery/board/lists/?id=epicseven&page=',\n",
    "                        'start', '\\n\\n\\n\\n\\n\\n\\n', 3)"
   ]
  },
  {
   "cell_type": "code",
   "execution_count": null,
   "metadata": {},
   "outputs": [],
   "source": []
  },
  {
   "cell_type": "code",
   "execution_count": null,
   "metadata": {},
   "outputs": [],
   "source": []
  },
  {
   "cell_type": "code",
   "execution_count": null,
   "metadata": {},
   "outputs": [],
   "source": [
    "'#container > section.left_content > article:nth-child(3) > div.gall_listwrap.list > table > tbody > tr:nth-child(3) > td.gall_tit.ub-word > a:nth-child(1)'"
   ]
  },
  {
   "cell_type": "code",
   "execution_count": null,
   "metadata": {},
   "outputs": [],
   "source": []
  },
  {
   "cell_type": "code",
   "execution_count": null,
   "metadata": {},
   "outputs": [],
   "source": []
  },
  {
   "cell_type": "code",
   "execution_count": null,
   "metadata": {},
   "outputs": [],
   "source": []
  },
  {
   "cell_type": "code",
   "execution_count": null,
   "metadata": {},
   "outputs": [],
   "source": []
  },
  {
   "cell_type": "code",
   "execution_count": null,
   "metadata": {},
   "outputs": [],
   "source": []
  },
  {
   "cell_type": "code",
   "execution_count": null,
   "metadata": {},
   "outputs": [],
   "source": []
  },
  {
   "cell_type": "code",
   "execution_count": null,
   "metadata": {},
   "outputs": [],
   "source": []
  }
 ],
 "metadata": {
  "kernelspec": {
   "display_name": "Python 3",
   "language": "python",
   "name": "python3"
  },
  "language_info": {
   "codemirror_mode": {
    "name": "ipython",
    "version": 3
   },
   "file_extension": ".py",
   "mimetype": "text/x-python",
   "name": "python",
   "nbconvert_exporter": "python",
   "pygments_lexer": "ipython3",
   "version": "3.6.2"
  }
 },
 "nbformat": 4,
 "nbformat_minor": 2
}

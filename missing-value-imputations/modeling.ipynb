{
 "cells": [
  {
   "cell_type": "code",
   "execution_count": 72,
   "id": "composed-absolute",
   "metadata": {},
   "outputs": [
    {
     "name": "stderr",
     "output_type": "stream",
     "text": [
      "/opt/anaconda3/envs/AI_dev/lib/python3.7/site-packages/sklearn/utils/deprecation.py:144: FutureWarning: The sklearn.neighbors.base module is  deprecated in version 0.22 and will be removed in version 0.24. The corresponding classes / functions should instead be imported from sklearn.neighbors. Anything that cannot be imported from sklearn.neighbors is now part of the private API.\n",
      "  warnings.warn(message, FutureWarning)\n"
     ]
    }
   ],
   "source": [
    "import pandas as pd\n",
    "import numpy as np\n",
    "import matplotlib.pyplot as plt\n",
    "import seaborn as sns\n",
    "\n",
    "from sklearn.linear_model import LogisticRegression\n",
    "from sklearn.naive_bayes import GaussianNB\n",
    "from sklearn.ensemble import RandomForestClassifier, VotingClassifier\n",
    "from sklearn.ensemble import GradientBoostingClassifier\n",
    "from xgboost import XGBClassifier\n",
    "\n",
    "from sklearn.model_selection import train_test_split, GridSearchCV\n",
    "\n",
    "from sklearn.metrics import accuracy_score, precision_score, recall_score, confusion_matrix, f1_score\n",
    "\n",
    "from missingpy import MissForest"
   ]
  },
  {
   "cell_type": "code",
   "execution_count": 50,
   "id": "naughty-allergy",
   "metadata": {},
   "outputs": [],
   "source": [
    "df = pd.read_csv('./data/galaxy.csv')\n",
    "df_cleaned = pd.read_csv('./data/galaxy-cleaned.csv', index_col=0)\n",
    "df_cleaned_scaled = pd.read_csv('./data/galaxy-cleaned-scaled.csv', index_col=0)"
   ]
  },
  {
   "cell_type": "markdown",
   "id": "civil-coordination",
   "metadata": {},
   "source": [
    "# 만족스럽지 못한 성능!\n",
    "- 각 model에 대한 '싯가' 관련 feature engineering을 추가하면 어떨까?\n",
    "    - 각 model에 대한 싯가 분포를 구하고, startprice 관측값이 해당 분포에서 확률이 어떻게 되는지 알 수 있을까?"
   ]
  },
  {
   "cell_type": "code",
   "execution_count": 90,
   "id": "equivalent-vegetable",
   "metadata": {},
   "outputs": [
    {
     "data": {
      "text/html": [
       "<div>\n",
       "<style scoped>\n",
       "    .dataframe tbody tr th:only-of-type {\n",
       "        vertical-align: middle;\n",
       "    }\n",
       "\n",
       "    .dataframe tbody tr th {\n",
       "        vertical-align: top;\n",
       "    }\n",
       "\n",
       "    .dataframe thead th {\n",
       "        text-align: right;\n",
       "    }\n",
       "</style>\n",
       "<table border=\"1\" class=\"dataframe\">\n",
       "  <thead>\n",
       "    <tr style=\"text-align: right;\">\n",
       "      <th></th>\n",
       "      <th>BuyItNow</th>\n",
       "      <th>startprice</th>\n",
       "      <th>carrier</th>\n",
       "      <th>color</th>\n",
       "      <th>productline</th>\n",
       "      <th>noDescription</th>\n",
       "      <th>charCountDescription</th>\n",
       "      <th>upperCaseDescription</th>\n",
       "      <th>sold</th>\n",
       "    </tr>\n",
       "  </thead>\n",
       "  <tbody>\n",
       "    <tr>\n",
       "      <th>0</th>\n",
       "      <td>0</td>\n",
       "      <td>199.99</td>\n",
       "      <td>None</td>\n",
       "      <td>White</td>\n",
       "      <td>Galaxy_S9</td>\n",
       "      <td>contains description</td>\n",
       "      <td>0</td>\n",
       "      <td>0</td>\n",
       "      <td>1</td>\n",
       "    </tr>\n",
       "    <tr>\n",
       "      <th>1</th>\n",
       "      <td>0</td>\n",
       "      <td>235.00</td>\n",
       "      <td>None</td>\n",
       "      <td>NaN</td>\n",
       "      <td>Galaxy_Note9</td>\n",
       "      <td>contains description</td>\n",
       "      <td>0</td>\n",
       "      <td>0</td>\n",
       "      <td>0</td>\n",
       "    </tr>\n",
       "    <tr>\n",
       "      <th>2</th>\n",
       "      <td>0</td>\n",
       "      <td>199.99</td>\n",
       "      <td>NaN</td>\n",
       "      <td>NaN</td>\n",
       "      <td>Unknown</td>\n",
       "      <td>no description</td>\n",
       "      <td>100</td>\n",
       "      <td>2</td>\n",
       "      <td>0</td>\n",
       "    </tr>\n",
       "    <tr>\n",
       "      <th>3</th>\n",
       "      <td>1</td>\n",
       "      <td>175.00</td>\n",
       "      <td>AT&amp;T</td>\n",
       "      <td>Space Gray</td>\n",
       "      <td>Galaxy_Note9</td>\n",
       "      <td>contains description</td>\n",
       "      <td>0</td>\n",
       "      <td>0</td>\n",
       "      <td>1</td>\n",
       "    </tr>\n",
       "    <tr>\n",
       "      <th>4</th>\n",
       "      <td>1</td>\n",
       "      <td>100.00</td>\n",
       "      <td>None</td>\n",
       "      <td>Space Gray</td>\n",
       "      <td>Galaxy_S8</td>\n",
       "      <td>contains description</td>\n",
       "      <td>0</td>\n",
       "      <td>0</td>\n",
       "      <td>1</td>\n",
       "    </tr>\n",
       "  </tbody>\n",
       "</table>\n",
       "</div>"
      ],
      "text/plain": [
       "   BuyItNow  startprice carrier       color   productline  \\\n",
       "0         0      199.99    None       White     Galaxy_S9   \n",
       "1         0      235.00    None         NaN  Galaxy_Note9   \n",
       "2         0      199.99     NaN         NaN       Unknown   \n",
       "3         1      175.00    AT&T  Space Gray  Galaxy_Note9   \n",
       "4         1      100.00    None  Space Gray     Galaxy_S8   \n",
       "\n",
       "          noDescription  charCountDescription  upperCaseDescription  sold  \n",
       "0  contains description                     0                     0     1  \n",
       "1  contains description                     0                     0     0  \n",
       "2        no description                   100                     2     0  \n",
       "3  contains description                     0                     0     1  \n",
       "4  contains description                     0                     0     1  "
      ]
     },
     "execution_count": 90,
     "metadata": {},
     "output_type": "execute_result"
    }
   ],
   "source": [
    "df.head()"
   ]
  },
  {
   "cell_type": "code",
   "execution_count": 91,
   "id": "statutory-lexington",
   "metadata": {},
   "outputs": [
    {
     "data": {
      "text/plain": [
       "0.760119940029985"
      ]
     },
     "execution_count": 91,
     "metadata": {},
     "output_type": "execute_result"
    }
   ],
   "source": [
    "df[df['BuyItNow']==1].sold.mean()"
   ]
  },
  {
   "cell_type": "code",
   "execution_count": 92,
   "id": "valid-farming",
   "metadata": {},
   "outputs": [
    {
     "data": {
      "text/plain": [
       "0.21882640586797067"
      ]
     },
     "execution_count": 92,
     "metadata": {},
     "output_type": "execute_result"
    }
   ],
   "source": [
    "df[df['BuyItNow']==0].sold.mean()"
   ]
  },
  {
   "cell_type": "code",
   "execution_count": 95,
   "id": "indian-italy",
   "metadata": {},
   "outputs": [
    {
     "data": {
      "text/plain": [
       "productline\n",
       "Galaxy_Note10    366.931311\n",
       "Galaxy_S10       294.583750\n",
       "Galaxy_Note9     254.561402\n",
       "Galaxy_S9        231.268101\n",
       "Galaxy_Note8     176.065033\n",
       "Unknown          171.994265\n",
       "Galaxy_S8        165.883321\n",
       "Galaxy_S7         84.190000\n",
       "Name: startprice, dtype: float64"
      ]
     },
     "execution_count": 95,
     "metadata": {},
     "output_type": "execute_result"
    }
   ],
   "source": [
    "df.groupby('productline')['startprice'].mean().sort_values(ascending=False)"
   ]
  },
  {
   "cell_type": "code",
   "execution_count": 96,
   "id": "velvet-treasure",
   "metadata": {},
   "outputs": [
    {
     "data": {
      "text/plain": [
       "productline\n",
       "Galaxy_S7        0.550661\n",
       "Galaxy_Note8     0.522876\n",
       "Galaxy_S10       0.500000\n",
       "Galaxy_S8        0.476534\n",
       "Galaxy_Note9     0.457944\n",
       "Galaxy_Note10    0.424501\n",
       "Galaxy_S9        0.411392\n",
       "Unknown          0.401961\n",
       "Name: sold, dtype: float64"
      ]
     },
     "execution_count": 96,
     "metadata": {},
     "output_type": "execute_result"
    }
   ],
   "source": [
    "df.groupby('productline')['sold'].mean().sort_values(ascending=False)"
   ]
  },
  {
   "cell_type": "code",
   "execution_count": null,
   "id": "martial-tutorial",
   "metadata": {},
   "outputs": [],
   "source": []
  },
  {
   "cell_type": "code",
   "execution_count": null,
   "id": "advisory-raise",
   "metadata": {},
   "outputs": [],
   "source": []
  },
  {
   "cell_type": "code",
   "execution_count": null,
   "id": "approximate-somerset",
   "metadata": {},
   "outputs": [],
   "source": []
  },
  {
   "cell_type": "code",
   "execution_count": null,
   "id": "bottom-bobby",
   "metadata": {},
   "outputs": [],
   "source": []
  },
  {
   "cell_type": "code",
   "execution_count": 68,
   "id": "dedicated-squad",
   "metadata": {},
   "outputs": [],
   "source": [
    "X = df_cleaned.drop('sold', axis=1)\n",
    "y = df_cleaned['sold']"
   ]
  },
  {
   "cell_type": "code",
   "execution_count": 69,
   "id": "mature-cattle",
   "metadata": {},
   "outputs": [],
   "source": [
    "X0 = df.drop('sold', axis=1)\n",
    "y0 = df['sold']"
   ]
  },
  {
   "cell_type": "code",
   "execution_count": 70,
   "id": "strange-heath",
   "metadata": {},
   "outputs": [],
   "source": [
    "X_train, X_test, y_train, y_test = train_test_split(X, y, test_size=0.2, random_state=11)\n",
    "X0_train, X0_test, y0_train, y0_test = train_test_split(X0, y0, test_size=0.2, random_state=11)\n",
    "#X2_train, X2_test, y2_train, y2_test = train_test_split(X2, y2, test_size=0.2, random_state=11)"
   ]
  },
  {
   "cell_type": "code",
   "execution_count": null,
   "id": "center-integer",
   "metadata": {},
   "outputs": [],
   "source": []
  },
  {
   "cell_type": "markdown",
   "id": "consistent-point",
   "metadata": {},
   "source": [
    "# modeling"
   ]
  },
  {
   "cell_type": "code",
   "execution_count": 18,
   "id": "fantastic-smith",
   "metadata": {},
   "outputs": [
    {
     "name": "stderr",
     "output_type": "stream",
     "text": [
      "/opt/anaconda3/envs/AI_dev/lib/python3.7/site-packages/sklearn/linear_model/_logistic.py:940: ConvergenceWarning: lbfgs failed to converge (status=1):\n",
      "STOP: TOTAL NO. of ITERATIONS REACHED LIMIT.\n",
      "\n",
      "Increase the number of iterations (max_iter) or scale the data as shown in:\n",
      "    https://scikit-learn.org/stable/modules/preprocessing.html\n",
      "Please also refer to the documentation for alternative solver options:\n",
      "    https://scikit-learn.org/stable/modules/linear_model.html#logistic-regression\n",
      "  extra_warning_msg=_LOGISTIC_SOLVER_CONVERGENCE_MSG)\n",
      "/opt/anaconda3/envs/AI_dev/lib/python3.7/site-packages/sklearn/linear_model/_logistic.py:940: ConvergenceWarning: lbfgs failed to converge (status=1):\n",
      "STOP: TOTAL NO. of ITERATIONS REACHED LIMIT.\n",
      "\n",
      "Increase the number of iterations (max_iter) or scale the data as shown in:\n",
      "    https://scikit-learn.org/stable/modules/preprocessing.html\n",
      "Please also refer to the documentation for alternative solver options:\n",
      "    https://scikit-learn.org/stable/modules/linear_model.html#logistic-regression\n",
      "  extra_warning_msg=_LOGISTIC_SOLVER_CONVERGENCE_MSG)\n"
     ]
    },
    {
     "name": "stdout",
     "output_type": "stream",
     "text": [
      "(297, 6)\n"
     ]
    },
    {
     "name": "stderr",
     "output_type": "stream",
     "text": [
      "/opt/anaconda3/envs/AI_dev/lib/python3.7/site-packages/sklearn/linear_model/_logistic.py:940: ConvergenceWarning: lbfgs failed to converge (status=1):\n",
      "STOP: TOTAL NO. of ITERATIONS REACHED LIMIT.\n",
      "\n",
      "Increase the number of iterations (max_iter) or scale the data as shown in:\n",
      "    https://scikit-learn.org/stable/modules/preprocessing.html\n",
      "Please also refer to the documentation for alternative solver options:\n",
      "    https://scikit-learn.org/stable/modules/linear_model.html#logistic-regression\n",
      "  extra_warning_msg=_LOGISTIC_SOLVER_CONVERGENCE_MSG)\n"
     ]
    }
   ],
   "source": [
    "clf1 = LogisticRegression(multi_class='multinomial', random_state=1)\n",
    "clf2 = RandomForestClassifier(n_estimators=50, random_state=1)\n",
    "clf3 = GaussianNB()\n",
    "# X = np.array([[-1, -1], [-2, -1], [-3, -2], [1, 1], [2, 1], [3, 2]])\n",
    "# y = np.array([1, 1, 1, 2, 2, 2])\n",
    "\n",
    "eclf1 = VotingClassifier(estimators=[\n",
    "         ('lr', clf1), ('rf', clf2), ('gnb', clf3)],\n",
    "                         voting='hard')\n",
    "eclf1 = eclf1.fit(X_train, y_train)\n",
    "eclf1_pred = eclf1.predict(X_test)\n",
    "\n",
    "np.array_equal(eclf1.named_estimators_.lr.predict(X_test),\n",
    "                eclf1.named_estimators_['lr'].predict(X_test))\n",
    "\n",
    "eclf2 = VotingClassifier(estimators=[\n",
    "         ('lr', clf1), ('rf', clf2), ('gnb', clf3)],\n",
    "         voting='soft')\n",
    "eclf2 = eclf2.fit(X_train, y_train)\n",
    "eclf2_pred = eclf2.predict(X_test)\n",
    "\n",
    "\n",
    "eclf3 = VotingClassifier(estimators=[\n",
    "        ('lr', clf1), ('rf', clf2), ('gnb', clf3)],\n",
    "        voting='soft', weights=[2,1,1],\n",
    "        flatten_transform=True)\n",
    "eclf3 = eclf3.fit(X_train, y_train)\n",
    "eclf3_pred = eclf3.predict(X_test)\n",
    "print(eclf3.transform(X_test).shape)"
   ]
  },
  {
   "cell_type": "code",
   "execution_count": 19,
   "id": "boolean-stupid",
   "metadata": {},
   "outputs": [
    {
     "data": {
      "text/plain": [
       "(0.7811447811447811, 0.7845117845117845, 0.7744107744107744)"
      ]
     },
     "execution_count": 19,
     "metadata": {},
     "output_type": "execute_result"
    }
   ],
   "source": [
    "accuracy_score(y_test, eclf1_pred), accuracy_score(y_test, eclf2_pred), accuracy_score(y_test, eclf3_pred)"
   ]
  },
  {
   "cell_type": "code",
   "execution_count": null,
   "id": "efficient-folder",
   "metadata": {},
   "outputs": [],
   "source": []
  },
  {
   "cell_type": "code",
   "execution_count": 88,
   "id": "violent-safety",
   "metadata": {},
   "outputs": [
    {
     "name": "stderr",
     "output_type": "stream",
     "text": [
      "/opt/anaconda3/envs/AI_dev/lib/python3.7/site-packages/sklearn/linear_model/_logistic.py:940: ConvergenceWarning: lbfgs failed to converge (status=1):\n",
      "STOP: TOTAL NO. of ITERATIONS REACHED LIMIT.\n",
      "\n",
      "Increase the number of iterations (max_iter) or scale the data as shown in:\n",
      "    https://scikit-learn.org/stable/modules/preprocessing.html\n",
      "Please also refer to the documentation for alternative solver options:\n",
      "    https://scikit-learn.org/stable/modules/linear_model.html#logistic-regression\n",
      "  extra_warning_msg=_LOGISTIC_SOLVER_CONVERGENCE_MSG)\n",
      "/opt/anaconda3/envs/AI_dev/lib/python3.7/site-packages/sklearn/linear_model/_logistic.py:940: ConvergenceWarning: lbfgs failed to converge (status=1):\n",
      "STOP: TOTAL NO. of ITERATIONS REACHED LIMIT.\n",
      "\n",
      "Increase the number of iterations (max_iter) or scale the data as shown in:\n",
      "    https://scikit-learn.org/stable/modules/preprocessing.html\n",
      "Please also refer to the documentation for alternative solver options:\n",
      "    https://scikit-learn.org/stable/modules/linear_model.html#logistic-regression\n",
      "  extra_warning_msg=_LOGISTIC_SOLVER_CONVERGENCE_MSG)\n"
     ]
    },
    {
     "name": "stdout",
     "output_type": "stream",
     "text": [
      "(297, 6)\n"
     ]
    },
    {
     "name": "stderr",
     "output_type": "stream",
     "text": [
      "/opt/anaconda3/envs/AI_dev/lib/python3.7/site-packages/sklearn/linear_model/_logistic.py:940: ConvergenceWarning: lbfgs failed to converge (status=1):\n",
      "STOP: TOTAL NO. of ITERATIONS REACHED LIMIT.\n",
      "\n",
      "Increase the number of iterations (max_iter) or scale the data as shown in:\n",
      "    https://scikit-learn.org/stable/modules/preprocessing.html\n",
      "Please also refer to the documentation for alternative solver options:\n",
      "    https://scikit-learn.org/stable/modules/linear_model.html#logistic-regression\n",
      "  extra_warning_msg=_LOGISTIC_SOLVER_CONVERGENCE_MSG)\n"
     ]
    }
   ],
   "source": [
    "clf1 = LogisticRegression(multi_class='multinomial', random_state=1)\n",
    "clf2 = RandomForestClassifier(n_estimators=50, random_state=1)\n",
    "clf3 = GaussianNB()\n",
    "# X = np.array([[-1, -1], [-2, -1], [-3, -2], [1, 1], [2, 1], [3, 2]])\n",
    "# y = np.array([1, 1, 1, 2, 2, 2])\n",
    "\n",
    "eclf1 = VotingClassifier(estimators=[\n",
    "         ('lr', clf1), ('rf', clf2), ('gnb', clf3)],\n",
    "                         voting='hard')\n",
    "eclf1 = eclf1.fit(X2_train, y2_train)\n",
    "eclf1_pred = eclf1.predict(X2_test)\n",
    "\n",
    "np.array_equal(eclf1.named_estimators_.lr.predict(X2_test),\n",
    "                eclf1.named_estimators_['lr'].predict(X2_test))\n",
    "\n",
    "eclf2 = VotingClassifier(estimators=[\n",
    "         ('lr', clf1), ('rf', clf2), ('gnb', clf3)],\n",
    "         voting='soft')\n",
    "eclf2 = eclf2.fit(X2_train, y2_train)\n",
    "eclf2_pred = eclf2.predict(X2_test)\n",
    "\n",
    "\n",
    "eclf3 = VotingClassifier(estimators=[\n",
    "        ('lr', clf1), ('rf', clf2), ('gnb', clf3)],\n",
    "        voting='soft', weights=[2,1,1],\n",
    "        flatten_transform=True)\n",
    "eclf3 = eclf3.fit(X2_train, y2_train)\n",
    "eclf3_pred = eclf3.predict(X2_test)\n",
    "print(eclf3.transform(X2_test).shape)"
   ]
  },
  {
   "cell_type": "code",
   "execution_count": 89,
   "id": "voluntary-external",
   "metadata": {},
   "outputs": [
    {
     "data": {
      "text/plain": [
       "(0.7946127946127947, 0.7811447811447811, 0.797979797979798)"
      ]
     },
     "execution_count": 89,
     "metadata": {},
     "output_type": "execute_result"
    }
   ],
   "source": [
    "accuracy_score(y_test, eclf1_pred), accuracy_score(y_test, eclf2_pred), accuracy_score(y_test, eclf3_pred)"
   ]
  },
  {
   "cell_type": "code",
   "execution_count": null,
   "id": "first-technique",
   "metadata": {},
   "outputs": [],
   "source": []
  },
  {
   "cell_type": "code",
   "execution_count": null,
   "id": "loved-porcelain",
   "metadata": {},
   "outputs": [],
   "source": []
  },
  {
   "cell_type": "code",
   "execution_count": 20,
   "id": "arabic-engine",
   "metadata": {},
   "outputs": [
    {
     "data": {
      "text/plain": [
       "GridSearchCV(cv=2, error_score=nan,\n",
       "             estimator=RandomForestClassifier(bootstrap=True, ccp_alpha=0.0,\n",
       "                                              class_weight=None,\n",
       "                                              criterion='gini', max_depth=None,\n",
       "                                              max_features='auto',\n",
       "                                              max_leaf_nodes=None,\n",
       "                                              max_samples=None,\n",
       "                                              min_impurity_decrease=0.0,\n",
       "                                              min_impurity_split=None,\n",
       "                                              min_samples_leaf=1,\n",
       "                                              min_samples_split=2,\n",
       "                                              min_weight_fraction_leaf=0.0,\n",
       "                                              n_estimators=100, n_jobs=-1,\n",
       "                                              oob_score=False, random_state=0,\n",
       "                                              verbose=0, warm_start=False),\n",
       "             iid='deprecated', n_jobs=-1,\n",
       "             param_grid={'criterion': ['gini', 'entropy'],\n",
       "                         'max_depth': [6, 8, 10, 12],\n",
       "                         'min_samples_leaf': [8, 12, 18],\n",
       "                         'min_samples_split': [8, 16, 20],\n",
       "                         'n_estimators': [50, 100, 150]},\n",
       "             pre_dispatch='2*n_jobs', refit=True, return_train_score=False,\n",
       "             scoring=None, verbose=0)"
      ]
     },
     "execution_count": 20,
     "metadata": {},
     "output_type": "execute_result"
    }
   ],
   "source": [
    "params = {\n",
    "    'n_estimators':[50, 100, 150],\n",
    "    'criterion':['gini', 'entropy'],\n",
    "    'max_depth':[6, 8, 10, 12],\n",
    "    'min_samples_leaf':[8, 12, 18],\n",
    "    'min_samples_split':[8, 16, 20]\n",
    "}\n",
    "\n",
    "rf_clf = RandomForestClassifier(random_state=0, n_jobs=-1)\n",
    "grid_cv = GridSearchCV(rf_clf, param_grid=params, cv=2, n_jobs=-1)\n",
    "grid_cv.fit(X_train, y_train)"
   ]
  },
  {
   "cell_type": "code",
   "execution_count": 21,
   "id": "sudden-joyce",
   "metadata": {},
   "outputs": [
    {
     "data": {
      "text/plain": [
       "0.7912457912457912"
      ]
     },
     "execution_count": 21,
     "metadata": {},
     "output_type": "execute_result"
    }
   ],
   "source": [
    "pred = grid_cv.best_estimator_.predict(X_test)\n",
    "accuracy = accuracy_score(y_test, pred)\n",
    "accuracy"
   ]
  },
  {
   "cell_type": "code",
   "execution_count": 22,
   "id": "freelance-kitchen",
   "metadata": {},
   "outputs": [
    {
     "data": {
      "image/png": "[encoded data removed]",
      "text/plain": [
       "<Figure size 576x432 with 1 Axes>"
      ]
     },
     "metadata": {
      "needs_background": "light"
     },
     "output_type": "display_data"
    }
   ],
   "source": [
    "ftr_importances_values = grid_cv.best_estimator_.feature_importances_\n",
    "ftr_importances_values = pd.Series(ftr_importances_values, index=X_train.columns)\n",
    "\n",
    "ftr_top20 = ftr_importances_values.sort_values(ascending=False)[:20]\n",
    "plt.figure(figsize=(8,6))\n",
    "plt.title('feature importance top 20')\n",
    "sns.barplot(x=ftr_top20, y=ftr_top20.index)\n",
    "plt.show()"
   ]
  },
  {
   "cell_type": "code",
   "execution_count": null,
   "id": "boring-favorite",
   "metadata": {},
   "outputs": [],
   "source": []
  },
  {
   "cell_type": "code",
   "execution_count": 23,
   "id": "portable-billion",
   "metadata": {},
   "outputs": [
    {
     "data": {
      "text/plain": [
       "0.8013468013468014"
      ]
     },
     "execution_count": 23,
     "metadata": {},
     "output_type": "execute_result"
    }
   ],
   "source": [
    "gb_clf = GradientBoostingClassifier(random_state=0)\n",
    "gb_clf.fit(X_train, y_train)\n",
    "gb_pred = gb_clf.predict(X_test)\n",
    "gb_accuracy = accuracy_score(y_test, gb_pred)\n",
    "gb_accuracy"
   ]
  },
  {
   "cell_type": "code",
   "execution_count": null,
   "id": "chinese-composer",
   "metadata": {},
   "outputs": [],
   "source": []
  },
  {
   "cell_type": "code",
   "execution_count": null,
   "id": "expired-uruguay",
   "metadata": {},
   "outputs": [],
   "source": []
  },
  {
   "cell_type": "code",
   "execution_count": 44,
   "id": "decent-chosen",
   "metadata": {},
   "outputs": [
    {
     "name": "stdout",
     "output_type": "stream",
     "text": [
      "[16:21:34] WARNING: /Users/travis/build/dmlc/xgboost/src/learner.cc:1061: Starting in XGBoost 1.3.0, the default evaluation metric used with the objective 'binary:logistic' was changed from 'error' to 'logloss'. Explicitly set eval_metric if you'd like to restore the old behavior.\n"
     ]
    },
    {
     "name": "stderr",
     "output_type": "stream",
     "text": [
      "/opt/anaconda3/envs/AI_dev/lib/python3.7/site-packages/xgboost/sklearn.py:888: UserWarning: The use of label encoder in XGBClassifier is deprecated and will be removed in a future release. To remove this warning, do the following: 1) Pass option use_label_encoder=False when constructing XGBClassifier object; and 2) Encode your labels (y) as integers starting with 0, i.e. 0, 1, 2, ..., [num_class - 1].\n",
      "  warnings.warn(label_encoder_deprecation_msg, UserWarning)\n"
     ]
    },
    {
     "data": {
      "text/plain": [
       "0.7744107744107744"
      ]
     },
     "execution_count": 44,
     "metadata": {},
     "output_type": "execute_result"
    }
   ],
   "source": [
    "xgb_clf = XGBClassifier()\n",
    "xgb_clf.fit(X_train, y_train)\n",
    "xgb_pred = xgb_clf.predict(X_test)\n",
    "xgb_accuracy = accuracy_score(y_test, xgb_pred)\n",
    "xgb_accuracy"
   ]
  },
  {
   "cell_type": "code",
   "execution_count": null,
   "id": "empirical-nickname",
   "metadata": {},
   "outputs": [],
   "source": []
  },
  {
   "cell_type": "code",
   "execution_count": null,
   "id": "boxed-collect",
   "metadata": {},
   "outputs": [],
   "source": []
  },
  {
   "cell_type": "markdown",
   "id": "hybrid-booking",
   "metadata": {},
   "source": [
    "# MissForest"
   ]
  },
  {
   "cell_type": "code",
   "execution_count": 71,
   "id": "coastal-bunch",
   "metadata": {},
   "outputs": [],
   "source": [
    "y2 = y0.copy()\n",
    "X2 = df.loc[:, :\"upperCaseDescription\"]\n",
    "#X = X.drop(['carrier', 'color'], axis=1) - 드롭하지 않음\n",
    "X2 = pd.concat([X2, pd.get_dummies(X2['productline'], prefix='productline')], axis=1)\n",
    "X2 = X2.drop('productline', axis=1)\n",
    "X2['noDescription'] = X2['noDescription'].apply(lambda x: 1 if x == 'contains description' else 0)\n",
    "\n",
    "X2_with_label = pd.concat([X2, y2], axis=1)\n",
    "\n",
    "X2_with_label['BuyItNow'] = X2_with_label['BuyItNow'].astype('category')\n",
    "X2_with_label['sold'] = X2_with_label['sold'].astype('category')\n",
    "X2_with_label['carrier'] = X2_with_label['carrier'].map({'None':str(0),\n",
    "                             'AT&T':str(1),\n",
    "                             'Verizon':str(2),\n",
    "                             'Sprint/T-Mobile':str(3)})\n",
    "X2_with_label['color'] = X2_with_label['color'].map({'White':str(0),\n",
    "                             'Midnight Black':str(1),\n",
    "                             'Space Gray':str(2),\n",
    "                             'Gold':str(3),\n",
    "                             'Black':str(4),\n",
    "                            'Aura Black':str(5),\n",
    "                            'Prism Black':str(6)\n",
    "                            })\n",
    "\n",
    "X2_with_label['carrier'] = X2_with_label['carrier'].astype('category')\n",
    "X2_with_label['color'] = X2_with_label['color'].astype('category')"
   ]
  },
  {
   "cell_type": "code",
   "execution_count": 73,
   "id": "accomplished-spectrum",
   "metadata": {},
   "outputs": [
    {
     "name": "stdout",
     "output_type": "stream",
     "text": [
      "Iteration: 0\n",
      "Iteration: 1\n",
      "Iteration: 2\n",
      "Iteration: 3\n",
      "Iteration: 4\n"
     ]
    },
    {
     "data": {
      "text/plain": [
       "array([[0.00000000e+00, 1.99990000e+02, 0.00000000e+00, 0.00000000e+00,\n",
       "        1.00000000e+00],\n",
       "       [0.00000000e+00, 2.35000000e+02, 0.00000000e+00, 8.65333333e-01,\n",
       "        0.00000000e+00],\n",
       "       [0.00000000e+00, 1.99990000e+02, 1.30000000e-01, 1.51647475e+00,\n",
       "        0.00000000e+00],\n",
       "       ...,\n",
       "       [0.00000000e+00, 3.29990000e+02, 0.00000000e+00, 2.00000000e+00,\n",
       "        0.00000000e+00],\n",
       "       [0.00000000e+00, 8.90000000e+01, 0.00000000e+00, 1.00000000e+00,\n",
       "        1.00000000e+00],\n",
       "       [0.00000000e+00, 1.19990000e+02, 1.00000000e+00, 1.00000000e+00,\n",
       "        0.00000000e+00]])"
      ]
     },
     "execution_count": 73,
     "metadata": {},
     "output_type": "execute_result"
    }
   ],
   "source": [
    "imp = MissForest(max_iter=5)\n",
    "X_ = X2_with_label[['BuyItNow', 'startprice', 'carrier', 'color', 'sold']]\n",
    "X_ = imp.fit_transform(X_)\n",
    "X_"
   ]
  },
  {
   "cell_type": "code",
   "execution_count": 75,
   "id": "finished-treasure",
   "metadata": {},
   "outputs": [
    {
     "name": "stdout",
     "output_type": "stream",
     "text": [
      "Iteration: 0\n",
      "Iteration: 1\n",
      "Iteration: 2\n",
      "Iteration: 3\n"
     ]
    },
    {
     "data": {
      "text/plain": [
       "array([[  0.  , 199.99,   0.  , ...,   1.  ,   0.  ,   1.  ],\n",
       "       [  0.  , 235.  ,   0.  , ...,   0.  ,   0.  ,   0.  ],\n",
       "       [  0.  , 199.99,   0.63, ...,   0.  ,   1.  ,   0.  ],\n",
       "       ...,\n",
       "       [  0.  , 329.99,   0.  , ...,   0.  ,   0.  ,   0.  ],\n",
       "       [  0.  ,  89.  ,   0.  , ...,   0.  ,   0.  ,   1.  ],\n",
       "       [  0.  , 119.99,   1.  , ...,   0.  ,   0.  ,   0.  ]])"
      ]
     },
     "execution_count": 75,
     "metadata": {},
     "output_type": "execute_result"
    }
   ],
   "source": [
    "imp2 = MissForest(max_iter=5)\n",
    "X2_ = X2_with_label\n",
    "X2_ = imp.fit_transform(X2_)\n",
    "X2_"
   ]
  },
  {
   "cell_type": "code",
   "execution_count": null,
   "id": "particular-applicant",
   "metadata": {},
   "outputs": [],
   "source": []
  },
  {
   "cell_type": "code",
   "execution_count": 76,
   "id": "significant-harrison",
   "metadata": {},
   "outputs": [],
   "source": [
    "mf_X = pd.DataFrame(X_, columns=['BuyItNow', 'startprice', 'carrier', 'color', 'sold'])\n",
    "\n",
    "X2_with_label['carrier'] = mf_X['carrier'].apply(lambda x: round(x))\n",
    "X2_with_label['color'] = mf_X['color'].apply(lambda x: round(x))\n",
    "\n",
    "X2_with_label = pd.concat([X2_with_label,\n",
    "                           pd.get_dummies(X2_with_label['carrier'],\n",
    "                                         prefix='carrier')], axis=1)\n",
    "\n",
    "X2_with_label = pd.concat([X2_with_label,\n",
    "                           pd.get_dummies(X2_with_label['color'],\n",
    "                                         prefix='color')], axis=1)\n",
    "\n",
    "X2_with_label = X2_with_label.drop(['carrier', 'color'], axis=1)"
   ]
  },
  {
   "cell_type": "code",
   "execution_count": 78,
   "id": "former-kingston",
   "metadata": {},
   "outputs": [],
   "source": [
    "y2 = X2_with_label['sold']\n",
    "X2 = X2_with_label.drop('sold', axis=1)"
   ]
  },
  {
   "cell_type": "code",
   "execution_count": 79,
   "id": "forced-triple",
   "metadata": {},
   "outputs": [],
   "source": [
    "X2_train, X2_test, y2_train, y2_test = train_test_split(X2, y2, test_size=0.2, random_state=11)"
   ]
  },
  {
   "cell_type": "code",
   "execution_count": null,
   "id": "helpful-mother",
   "metadata": {},
   "outputs": [],
   "source": []
  },
  {
   "cell_type": "markdown",
   "id": "passive-seventh",
   "metadata": {},
   "source": [
    "# modeling with mf dataset"
   ]
  },
  {
   "cell_type": "code",
   "execution_count": 80,
   "id": "accepted-theology",
   "metadata": {},
   "outputs": [
    {
     "data": {
      "text/plain": [
       "GridSearchCV(cv=2, error_score=nan,\n",
       "             estimator=RandomForestClassifier(bootstrap=True, ccp_alpha=0.0,\n",
       "                                              class_weight=None,\n",
       "                                              criterion='gini', max_depth=None,\n",
       "                                              max_features='auto',\n",
       "                                              max_leaf_nodes=None,\n",
       "                                              max_samples=None,\n",
       "                                              min_impurity_decrease=0.0,\n",
       "                                              min_impurity_split=None,\n",
       "                                              min_samples_leaf=1,\n",
       "                                              min_samples_split=2,\n",
       "                                              min_weight_fraction_leaf=0.0,\n",
       "                                              n_estimators=100, n_jobs=-1,\n",
       "                                              oob_score=False, random_state=0,\n",
       "                                              verbose=0, warm_start=False),\n",
       "             iid='deprecated', n_jobs=-1,\n",
       "             param_grid={'criterion': ['gini', 'entropy'],\n",
       "                         'max_depth': [6, 8, 10, 12],\n",
       "                         'min_samples_leaf': [8, 12, 18],\n",
       "                         'min_samples_split': [8, 16, 20],\n",
       "                         'n_estimators': [50, 100, 150]},\n",
       "             pre_dispatch='2*n_jobs', refit=True, return_train_score=False,\n",
       "             scoring=None, verbose=0)"
      ]
     },
     "execution_count": 80,
     "metadata": {},
     "output_type": "execute_result"
    }
   ],
   "source": [
    "from sklearn.model_selection import GridSearchCV\n",
    "\n",
    "params = {\n",
    "    'n_estimators':[50, 100, 150],\n",
    "    'criterion':['gini', 'entropy'],\n",
    "    'max_depth':[6, 8, 10, 12],\n",
    "    'min_samples_leaf':[8, 12, 18],\n",
    "    'min_samples_split':[8, 16, 20]\n",
    "}\n",
    "\n",
    "rf_clf = RandomForestClassifier(random_state=0, n_jobs=-1)\n",
    "grid_cv = GridSearchCV(rf_clf, param_grid=params, cv=2, n_jobs=-1)\n",
    "grid_cv.fit(X2_train, y2_train)"
   ]
  },
  {
   "cell_type": "code",
   "execution_count": 81,
   "id": "professional-science",
   "metadata": {},
   "outputs": [
    {
     "data": {
      "text/plain": [
       "0.7744107744107744"
      ]
     },
     "execution_count": 81,
     "metadata": {},
     "output_type": "execute_result"
    }
   ],
   "source": [
    "pred = grid_cv.best_estimator_.predict(X2_test)\n",
    "accuracy = accuracy_score(y2_test, pred)\n",
    "accuracy"
   ]
  },
  {
   "cell_type": "code",
   "execution_count": null,
   "id": "extra-nicaragua",
   "metadata": {},
   "outputs": [],
   "source": []
  },
  {
   "cell_type": "code",
   "execution_count": 83,
   "id": "presidential-procurement",
   "metadata": {},
   "outputs": [
    {
     "data": {
      "text/plain": [
       "0.8013468013468014"
      ]
     },
     "execution_count": 83,
     "metadata": {},
     "output_type": "execute_result"
    }
   ],
   "source": [
    "gb_clf = GradientBoostingClassifier(random_state=0)\n",
    "gb_clf.fit(X2_train, y2_train)\n",
    "gb_pred = gb_clf.predict(X2_test)\n",
    "gb_accuracy = accuracy_score(y2_test, gb_pred)\n",
    "gb_accuracy"
   ]
  },
  {
   "cell_type": "code",
   "execution_count": null,
   "id": "wired-termination",
   "metadata": {},
   "outputs": [],
   "source": []
  },
  {
   "cell_type": "code",
   "execution_count": null,
   "id": "amazing-transsexual",
   "metadata": {},
   "outputs": [],
   "source": []
  },
  {
   "cell_type": "markdown",
   "id": "eight-database",
   "metadata": {},
   "source": [
    "# Error Analysis"
   ]
  },
  {
   "cell_type": "code",
   "execution_count": null,
   "id": "legitimate-viewer",
   "metadata": {},
   "outputs": [],
   "source": []
  },
  {
   "cell_type": "code",
   "execution_count": null,
   "id": "accredited-hayes",
   "metadata": {},
   "outputs": [],
   "source": []
  },
  {
   "cell_type": "code",
   "execution_count": null,
   "id": "terminal-finance",
   "metadata": {},
   "outputs": [],
   "source": []
  },
  {
   "cell_type": "code",
   "execution_count": null,
   "id": "smooth-addiction",
   "metadata": {},
   "outputs": [],
   "source": []
  },
  {
   "cell_type": "code",
   "execution_count": null,
   "id": "imperial-binary",
   "metadata": {},
   "outputs": [],
   "source": []
  }
 ],
 "metadata": {
  "kernelspec": {
   "display_name": "Python 3",
   "language": "python",
   "name": "python3"
  },
  "language_info": {
   "codemirror_mode": {
    "name": "ipython",
    "version": 3
   },
   "file_extension": ".py",
   "mimetype": "text/x-python",
   "name": "python",
   "nbconvert_exporter": "python",
   "pygments_lexer": "ipython3",
   "version": "3.7.9"
  }
 },
 "nbformat": 4,
 "nbformat_minor": 5
}

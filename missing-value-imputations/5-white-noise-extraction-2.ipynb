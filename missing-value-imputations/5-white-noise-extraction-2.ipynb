{
 "cells": [
  {
   "cell_type": "code",
   "execution_count": 1,
   "id": "durable-avatar",
   "metadata": {},
   "outputs": [],
   "source": [
    "import pandas as pd\n",
    "import numpy as np\n",
    "import matplotlib.pyplot as plt\n",
    "import seaborn as sns"
   ]
  },
  {
   "cell_type": "code",
   "execution_count": 2,
   "id": "binding-hospital",
   "metadata": {},
   "outputs": [
    {
     "data": {
      "text/html": [
       "<div>\n",
       "<style scoped>\n",
       "    .dataframe tbody tr th:only-of-type {\n",
       "        vertical-align: middle;\n",
       "    }\n",
       "\n",
       "    .dataframe tbody tr th {\n",
       "        vertical-align: top;\n",
       "    }\n",
       "\n",
       "    .dataframe thead th {\n",
       "        text-align: right;\n",
       "    }\n",
       "</style>\n",
       "<table border=\"1\" class=\"dataframe\">\n",
       "  <thead>\n",
       "    <tr style=\"text-align: right;\">\n",
       "      <th></th>\n",
       "      <th>BuyItNow</th>\n",
       "      <th>startprice</th>\n",
       "      <th>carrier</th>\n",
       "      <th>color</th>\n",
       "      <th>productline</th>\n",
       "      <th>noDescription</th>\n",
       "      <th>charCountDescription</th>\n",
       "      <th>upperCaseDescription</th>\n",
       "      <th>sold</th>\n",
       "      <th>index</th>\n",
       "      <th>...</th>\n",
       "      <th>color_sentiment</th>\n",
       "      <th>color_sentiment2</th>\n",
       "      <th>carrier_NaN</th>\n",
       "      <th>carrier_none</th>\n",
       "      <th>productline_imputed</th>\n",
       "      <th>productline_imputed2</th>\n",
       "      <th>productSeries_imputed</th>\n",
       "      <th>product_isNote_imputed</th>\n",
       "      <th>productSeries_imputed2</th>\n",
       "      <th>product_isNote_imputed2</th>\n",
       "    </tr>\n",
       "  </thead>\n",
       "  <tbody>\n",
       "    <tr>\n",
       "      <th>0</th>\n",
       "      <td>0</td>\n",
       "      <td>199.99</td>\n",
       "      <td>None</td>\n",
       "      <td>White</td>\n",
       "      <td>Galaxy_S9</td>\n",
       "      <td>contains description</td>\n",
       "      <td>0</td>\n",
       "      <td>0</td>\n",
       "      <td>1</td>\n",
       "      <td>0</td>\n",
       "      <td>...</td>\n",
       "      <td>0</td>\n",
       "      <td>0</td>\n",
       "      <td>0</td>\n",
       "      <td>1</td>\n",
       "      <td>Galaxy_S9</td>\n",
       "      <td>Galaxy_S9</td>\n",
       "      <td>2</td>\n",
       "      <td>0</td>\n",
       "      <td>2</td>\n",
       "      <td>0</td>\n",
       "    </tr>\n",
       "    <tr>\n",
       "      <th>1</th>\n",
       "      <td>0</td>\n",
       "      <td>235.00</td>\n",
       "      <td>None</td>\n",
       "      <td>NaN</td>\n",
       "      <td>Galaxy_Note9</td>\n",
       "      <td>contains description</td>\n",
       "      <td>0</td>\n",
       "      <td>0</td>\n",
       "      <td>0</td>\n",
       "      <td>1</td>\n",
       "      <td>...</td>\n",
       "      <td>0</td>\n",
       "      <td>-1</td>\n",
       "      <td>0</td>\n",
       "      <td>1</td>\n",
       "      <td>Galaxy_Note9</td>\n",
       "      <td>Galaxy_Note9</td>\n",
       "      <td>2</td>\n",
       "      <td>1</td>\n",
       "      <td>2</td>\n",
       "      <td>1</td>\n",
       "    </tr>\n",
       "    <tr>\n",
       "      <th>2</th>\n",
       "      <td>0</td>\n",
       "      <td>199.99</td>\n",
       "      <td>NaN</td>\n",
       "      <td>NaN</td>\n",
       "      <td>Unknown</td>\n",
       "      <td>no description</td>\n",
       "      <td>100</td>\n",
       "      <td>2</td>\n",
       "      <td>0</td>\n",
       "      <td>2</td>\n",
       "      <td>...</td>\n",
       "      <td>0</td>\n",
       "      <td>-1</td>\n",
       "      <td>1</td>\n",
       "      <td>-1</td>\n",
       "      <td>Galaxy_S8</td>\n",
       "      <td>Galaxy_S10</td>\n",
       "      <td>1</td>\n",
       "      <td>0</td>\n",
       "      <td>3</td>\n",
       "      <td>0</td>\n",
       "    </tr>\n",
       "    <tr>\n",
       "      <th>3</th>\n",
       "      <td>1</td>\n",
       "      <td>175.00</td>\n",
       "      <td>AT&amp;T</td>\n",
       "      <td>Space Gray</td>\n",
       "      <td>Galaxy_Note9</td>\n",
       "      <td>contains description</td>\n",
       "      <td>0</td>\n",
       "      <td>0</td>\n",
       "      <td>1</td>\n",
       "      <td>3</td>\n",
       "      <td>...</td>\n",
       "      <td>1</td>\n",
       "      <td>1</td>\n",
       "      <td>0</td>\n",
       "      <td>0</td>\n",
       "      <td>Galaxy_Note9</td>\n",
       "      <td>Galaxy_Note9</td>\n",
       "      <td>2</td>\n",
       "      <td>1</td>\n",
       "      <td>2</td>\n",
       "      <td>1</td>\n",
       "    </tr>\n",
       "    <tr>\n",
       "      <th>4</th>\n",
       "      <td>1</td>\n",
       "      <td>100.00</td>\n",
       "      <td>None</td>\n",
       "      <td>Space Gray</td>\n",
       "      <td>Galaxy_S8</td>\n",
       "      <td>contains description</td>\n",
       "      <td>0</td>\n",
       "      <td>0</td>\n",
       "      <td>1</td>\n",
       "      <td>4</td>\n",
       "      <td>...</td>\n",
       "      <td>1</td>\n",
       "      <td>1</td>\n",
       "      <td>0</td>\n",
       "      <td>1</td>\n",
       "      <td>Galaxy_S8</td>\n",
       "      <td>Galaxy_S8</td>\n",
       "      <td>1</td>\n",
       "      <td>0</td>\n",
       "      <td>1</td>\n",
       "      <td>0</td>\n",
       "    </tr>\n",
       "  </tbody>\n",
       "</table>\n",
       "<p>5 rows × 21 columns</p>\n",
       "</div>"
      ],
      "text/plain": [
       "   BuyItNow  startprice carrier       color   productline  \\\n",
       "0         0      199.99    None       White     Galaxy_S9   \n",
       "1         0      235.00    None         NaN  Galaxy_Note9   \n",
       "2         0      199.99     NaN         NaN       Unknown   \n",
       "3         1      175.00    AT&T  Space Gray  Galaxy_Note9   \n",
       "4         1      100.00    None  Space Gray     Galaxy_S8   \n",
       "\n",
       "          noDescription  charCountDescription  upperCaseDescription  sold  \\\n",
       "0  contains description                     0                     0     1   \n",
       "1  contains description                     0                     0     0   \n",
       "2        no description                   100                     2     0   \n",
       "3  contains description                     0                     0     1   \n",
       "4  contains description                     0                     0     1   \n",
       "\n",
       "   index  ...  color_sentiment  color_sentiment2  carrier_NaN  carrier_none  \\\n",
       "0      0  ...                0                 0            0             1   \n",
       "1      1  ...                0                -1            0             1   \n",
       "2      2  ...                0                -1            1            -1   \n",
       "3      3  ...                1                 1            0             0   \n",
       "4      4  ...                1                 1            0             1   \n",
       "\n",
       "   productline_imputed productline_imputed2 productSeries_imputed  \\\n",
       "0            Galaxy_S9            Galaxy_S9                     2   \n",
       "1         Galaxy_Note9         Galaxy_Note9                     2   \n",
       "2            Galaxy_S8           Galaxy_S10                     1   \n",
       "3         Galaxy_Note9         Galaxy_Note9                     2   \n",
       "4            Galaxy_S8            Galaxy_S8                     1   \n",
       "\n",
       "   product_isNote_imputed  productSeries_imputed2  product_isNote_imputed2  \n",
       "0                       0                       2                        0  \n",
       "1                       1                       2                        1  \n",
       "2                       0                       3                        0  \n",
       "3                       1                       2                        1  \n",
       "4                       0                       1                        0  \n",
       "\n",
       "[5 rows x 21 columns]"
      ]
     },
     "execution_count": 2,
     "metadata": {},
     "output_type": "execute_result"
    }
   ],
   "source": [
    "df = pd.read_csv('./data/galaxy_noise.csv', index_col=0)\n",
    "df.head()"
   ]
  },
  {
   "cell_type": "code",
   "execution_count": null,
   "id": "satellite-danger",
   "metadata": {},
   "outputs": [],
   "source": []
  },
  {
   "cell_type": "code",
   "execution_count": null,
   "id": "martial-survey",
   "metadata": {},
   "outputs": [],
   "source": []
  },
  {
   "cell_type": "markdown",
   "id": "alpine-pregnancy",
   "metadata": {},
   "source": [
    "# df.noDescription\n",
    "# df.charCountDescription\n",
    "# df.upperCaseDescription"
   ]
  },
  {
   "cell_type": "code",
   "execution_count": null,
   "id": "another-sound",
   "metadata": {},
   "outputs": [],
   "source": [
    "df[['noDescription', 'charCountDescription', 'upperCaseDescription']]"
   ]
  },
  {
   "cell_type": "code",
   "execution_count": null,
   "id": "isolated-nelson",
   "metadata": {},
   "outputs": [],
   "source": [
    "df['noDescription'].unique()"
   ]
  },
  {
   "cell_type": "code",
   "execution_count": null,
   "id": "located-express",
   "metadata": {},
   "outputs": [],
   "source": [
    "df['hasDescription'] = df['noDescription'].apply(lambda x: 1 if x=='contains description' else 0)"
   ]
  },
  {
   "cell_type": "code",
   "execution_count": null,
   "id": "hispanic-aircraft",
   "metadata": {},
   "outputs": [],
   "source": []
  },
  {
   "cell_type": "code",
   "execution_count": null,
   "id": "approved-wound",
   "metadata": {},
   "outputs": [],
   "source": [
    "df.groupby('hasDescription')['sold'].mean()"
   ]
  },
  {
   "cell_type": "code",
   "execution_count": null,
   "id": "suitable-spouse",
   "metadata": {},
   "outputs": [],
   "source": [
    "df.groupby('hasDescription')['BuyItNow'].mean()"
   ]
  },
  {
   "cell_type": "code",
   "execution_count": null,
   "id": "cathedral-queen",
   "metadata": {},
   "outputs": [],
   "source": [
    "df.groupby('hasDescription')['startprice'].mean()"
   ]
  },
  {
   "cell_type": "code",
   "execution_count": null,
   "id": "aggressive-prize",
   "metadata": {},
   "outputs": [],
   "source": []
  },
  {
   "cell_type": "code",
   "execution_count": null,
   "id": "operating-luxembourg",
   "metadata": {},
   "outputs": [],
   "source": [
    "df[['charCountDescription', 'upperCaseDescription']]"
   ]
  },
  {
   "cell_type": "code",
   "execution_count": null,
   "id": "sufficient-tiffany",
   "metadata": {},
   "outputs": [],
   "source": [
    "sns.histplot(df['charCountDescription'], bins=10)"
   ]
  },
  {
   "cell_type": "code",
   "execution_count": null,
   "id": "passing-flexibility",
   "metadata": {},
   "outputs": [],
   "source": [
    "df['charCountDescriptionBins'] = df['charCountDescription'].apply(lambda x: 0 if x==0\n",
    "                                                                    else 1 if (x<90)\n",
    "                                                                    else 2)"
   ]
  },
  {
   "cell_type": "code",
   "execution_count": null,
   "id": "private-monte",
   "metadata": {},
   "outputs": [],
   "source": [
    "df.groupby('charCountDescriptionBins')['sold'].mean()"
   ]
  },
  {
   "cell_type": "code",
   "execution_count": null,
   "id": "meaning-seven",
   "metadata": {},
   "outputs": [],
   "source": [
    "df.groupby('charCountDescriptionBins')['BuyItNow'].mean()"
   ]
  },
  {
   "cell_type": "code",
   "execution_count": null,
   "id": "cross-wellington",
   "metadata": {},
   "outputs": [],
   "source": [
    "sns.histplot(x='startprice', data=df, hue='charCountDescriptionBins')"
   ]
  },
  {
   "cell_type": "code",
   "execution_count": null,
   "id": "threatened-joining",
   "metadata": {},
   "outputs": [],
   "source": [
    "df.groupby('charCountDescriptionBins')['productline'].value_counts()"
   ]
  },
  {
   "cell_type": "code",
   "execution_count": null,
   "id": "extended-proof",
   "metadata": {},
   "outputs": [],
   "source": []
  },
  {
   "cell_type": "code",
   "execution_count": null,
   "id": "insured-microphone",
   "metadata": {},
   "outputs": [],
   "source": []
  },
  {
   "cell_type": "markdown",
   "id": "unauthorized-buyer",
   "metadata": {},
   "source": [
    "# startprice\n",
    "- BuyItNow 여부, 모델 라인, 판매 여부에 따른 **싯가**의 표본확률분포 생성\n",
    "    - 싯가의 표본확률분포는 정규분포를 형성한다고 가정?\n",
    "    - 정규분포는 **매우 저렴한 상품의 낙찰율을 낮게 계산**하므로 다른 분포 필요\n",
    "- BuyItNow/모델/판매여부에 따른 특정한 **싯가** 확률분포로부터 startprice가 확률변수로 발생할 확률을 계산\n",
    "    \n",
    "> 해당 확률이 threshold(ex. 0.5) 미만이면 NOT SOLD, threshold 이상이면 SOLD로 예측하여 accuracy를 측정해 본다.\n",
    "\n",
    "> 유의미한 결과가 도출될 경우, startprice 컬럼을 대체하여 사용한다.\n",
    "\n",
    "### CAUTION:\n",
    "- 싯가 확률분포 확률값을 사용할 경우, train셋으로부터 구한 확률분포 정보를 기반으로 test 셋을 처리해 주어야 한다.\n",
    "- train + test 합쳐진 상태에서 확률분포를 구할 시, 이미 정답을 알고 있는 상태에서 예측하는 것이 됨."
   ]
  },
  {
   "cell_type": "markdown",
   "id": "baking-group",
   "metadata": {},
   "source": [
    "# chi2, F분포\n",
    "# 다변수정규분포 (!)"
   ]
  },
  {
   "cell_type": "code",
   "execution_count": 3,
   "id": "turkish-steal",
   "metadata": {},
   "outputs": [
    {
     "data": {
      "text/plain": [
       "Index(['BuyItNow', 'startprice', 'carrier', 'color', 'productline',\n",
       "       'noDescription', 'charCountDescription', 'upperCaseDescription', 'sold',\n",
       "       'index', 'color_NaN', 'color_sentiment', 'color_sentiment2',\n",
       "       'carrier_NaN', 'carrier_none', 'productline_imputed',\n",
       "       'productline_imputed2', 'productSeries_imputed',\n",
       "       'product_isNote_imputed', 'productSeries_imputed2',\n",
       "       'product_isNote_imputed2'],\n",
       "      dtype='object')"
      ]
     },
     "execution_count": 3,
     "metadata": {},
     "output_type": "execute_result"
    }
   ],
   "source": [
    "df.columns"
   ]
  },
  {
   "cell_type": "code",
   "execution_count": 4,
   "id": "transparent-tobacco",
   "metadata": {},
   "outputs": [
    {
     "data": {
      "text/html": [
       "<div>\n",
       "<style scoped>\n",
       "    .dataframe tbody tr th:only-of-type {\n",
       "        vertical-align: middle;\n",
       "    }\n",
       "\n",
       "    .dataframe tbody tr th {\n",
       "        vertical-align: top;\n",
       "    }\n",
       "\n",
       "    .dataframe thead th {\n",
       "        text-align: right;\n",
       "    }\n",
       "</style>\n",
       "<table border=\"1\" class=\"dataframe\">\n",
       "  <thead>\n",
       "    <tr style=\"text-align: right;\">\n",
       "      <th></th>\n",
       "      <th></th>\n",
       "      <th></th>\n",
       "      <th>startprice</th>\n",
       "      <th>startprice</th>\n",
       "    </tr>\n",
       "    <tr>\n",
       "      <th>BuyItNow</th>\n",
       "      <th>productline_imputed</th>\n",
       "      <th>sold</th>\n",
       "      <th></th>\n",
       "      <th></th>\n",
       "    </tr>\n",
       "  </thead>\n",
       "  <tbody>\n",
       "    <tr>\n",
       "      <th rowspan=\"14\" valign=\"top\">0</th>\n",
       "      <th rowspan=\"2\" valign=\"top\">Galaxy_Note10</th>\n",
       "      <th>0</th>\n",
       "      <td>468.784540</td>\n",
       "      <td>151.063692</td>\n",
       "    </tr>\n",
       "    <tr>\n",
       "      <th>1</th>\n",
       "      <td>400.213243</td>\n",
       "      <td>126.137797</td>\n",
       "    </tr>\n",
       "    <tr>\n",
       "      <th rowspan=\"2\" valign=\"top\">Galaxy_Note8</th>\n",
       "      <th>0</th>\n",
       "      <td>258.026102</td>\n",
       "      <td>115.545331</td>\n",
       "    </tr>\n",
       "    <tr>\n",
       "      <th>1</th>\n",
       "      <td>198.411765</td>\n",
       "      <td>57.352077</td>\n",
       "    </tr>\n",
       "    <tr>\n",
       "      <th rowspan=\"2\" valign=\"top\">Galaxy_Note9</th>\n",
       "      <th>0</th>\n",
       "      <td>317.981957</td>\n",
       "      <td>90.610241</td>\n",
       "    </tr>\n",
       "    <tr>\n",
       "      <th>1</th>\n",
       "      <td>325.262000</td>\n",
       "      <td>101.825963</td>\n",
       "    </tr>\n",
       "    <tr>\n",
       "      <th rowspan=\"2\" valign=\"top\">Galaxy_S10</th>\n",
       "      <th>0</th>\n",
       "      <td>296.917500</td>\n",
       "      <td>47.263311</td>\n",
       "    </tr>\n",
       "    <tr>\n",
       "      <th>1</th>\n",
       "      <td>336.333333</td>\n",
       "      <td>85.031367</td>\n",
       "    </tr>\n",
       "    <tr>\n",
       "      <th rowspan=\"2\" valign=\"top\">Galaxy_S7</th>\n",
       "      <th>0</th>\n",
       "      <td>126.981750</td>\n",
       "      <td>55.854296</td>\n",
       "    </tr>\n",
       "    <tr>\n",
       "      <th>1</th>\n",
       "      <td>84.726897</td>\n",
       "      <td>43.005072</td>\n",
       "    </tr>\n",
       "    <tr>\n",
       "      <th rowspan=\"2\" valign=\"top\">Galaxy_S8</th>\n",
       "      <th>0</th>\n",
       "      <td>229.743960</td>\n",
       "      <td>139.351843</td>\n",
       "    </tr>\n",
       "    <tr>\n",
       "      <th>1</th>\n",
       "      <td>182.019697</td>\n",
       "      <td>67.573664</td>\n",
       "    </tr>\n",
       "    <tr>\n",
       "      <th rowspan=\"2\" valign=\"top\">Galaxy_S9</th>\n",
       "      <th>0</th>\n",
       "      <td>317.914054</td>\n",
       "      <td>106.673186</td>\n",
       "    </tr>\n",
       "    <tr>\n",
       "      <th>1</th>\n",
       "      <td>232.317556</td>\n",
       "      <td>134.988841</td>\n",
       "    </tr>\n",
       "    <tr>\n",
       "      <th rowspan=\"13\" valign=\"top\">1</th>\n",
       "      <th rowspan=\"2\" valign=\"top\">Galaxy_Note10</th>\n",
       "      <th>0</th>\n",
       "      <td>416.711071</td>\n",
       "      <td>157.272237</td>\n",
       "    </tr>\n",
       "    <tr>\n",
       "      <th>1</th>\n",
       "      <td>185.255179</td>\n",
       "      <td>163.210379</td>\n",
       "    </tr>\n",
       "    <tr>\n",
       "      <th rowspan=\"2\" valign=\"top\">Galaxy_Note8</th>\n",
       "      <th>0</th>\n",
       "      <td>198.855000</td>\n",
       "      <td>96.602136</td>\n",
       "    </tr>\n",
       "    <tr>\n",
       "      <th>1</th>\n",
       "      <td>88.213333</td>\n",
       "      <td>82.267983</td>\n",
       "    </tr>\n",
       "    <tr>\n",
       "      <th rowspan=\"2\" valign=\"top\">Galaxy_Note9</th>\n",
       "      <th>0</th>\n",
       "      <td>267.911667</td>\n",
       "      <td>96.447946</td>\n",
       "    </tr>\n",
       "    <tr>\n",
       "      <th>1</th>\n",
       "      <td>132.853824</td>\n",
       "      <td>96.252107</td>\n",
       "    </tr>\n",
       "    <tr>\n",
       "      <th>Galaxy_S10</th>\n",
       "      <th>1</th>\n",
       "      <td>160.000000</td>\n",
       "      <td>NaN</td>\n",
       "    </tr>\n",
       "    <tr>\n",
       "      <th rowspan=\"2\" valign=\"top\">Galaxy_S7</th>\n",
       "      <th>0</th>\n",
       "      <td>122.860000</td>\n",
       "      <td>97.206543</td>\n",
       "    </tr>\n",
       "    <tr>\n",
       "      <th>1</th>\n",
       "      <td>39.506146</td>\n",
       "      <td>37.346137</td>\n",
       "    </tr>\n",
       "    <tr>\n",
       "      <th rowspan=\"2\" valign=\"top\">Galaxy_S8</th>\n",
       "      <th>0</th>\n",
       "      <td>191.691385</td>\n",
       "      <td>134.742764</td>\n",
       "    </tr>\n",
       "    <tr>\n",
       "      <th>1</th>\n",
       "      <td>65.269032</td>\n",
       "      <td>68.352347</td>\n",
       "    </tr>\n",
       "    <tr>\n",
       "      <th rowspan=\"2\" valign=\"top\">Galaxy_S9</th>\n",
       "      <th>0</th>\n",
       "      <td>236.517368</td>\n",
       "      <td>104.836709</td>\n",
       "    </tr>\n",
       "    <tr>\n",
       "      <th>1</th>\n",
       "      <td>89.381304</td>\n",
       "      <td>80.056522</td>\n",
       "    </tr>\n",
       "  </tbody>\n",
       "</table>\n",
       "</div>"
      ],
      "text/plain": [
       "                                   startprice  startprice\n",
       "BuyItNow productline_imputed sold                        \n",
       "0        Galaxy_Note10       0     468.784540  151.063692\n",
       "                             1     400.213243  126.137797\n",
       "         Galaxy_Note8        0     258.026102  115.545331\n",
       "                             1     198.411765   57.352077\n",
       "         Galaxy_Note9        0     317.981957   90.610241\n",
       "                             1     325.262000  101.825963\n",
       "         Galaxy_S10          0     296.917500   47.263311\n",
       "                             1     336.333333   85.031367\n",
       "         Galaxy_S7           0     126.981750   55.854296\n",
       "                             1      84.726897   43.005072\n",
       "         Galaxy_S8           0     229.743960  139.351843\n",
       "                             1     182.019697   67.573664\n",
       "         Galaxy_S9           0     317.914054  106.673186\n",
       "                             1     232.317556  134.988841\n",
       "1        Galaxy_Note10       0     416.711071  157.272237\n",
       "                             1     185.255179  163.210379\n",
       "         Galaxy_Note8        0     198.855000   96.602136\n",
       "                             1      88.213333   82.267983\n",
       "         Galaxy_Note9        0     267.911667   96.447946\n",
       "                             1     132.853824   96.252107\n",
       "         Galaxy_S10          1     160.000000         NaN\n",
       "         Galaxy_S7           0     122.860000   97.206543\n",
       "                             1      39.506146   37.346137\n",
       "         Galaxy_S8           0     191.691385  134.742764\n",
       "                             1      65.269032   68.352347\n",
       "         Galaxy_S9           0     236.517368  104.836709\n",
       "                             1      89.381304   80.056522"
      ]
     },
     "execution_count": 4,
     "metadata": {},
     "output_type": "execute_result"
    }
   ],
   "source": [
    "# imputed version 1\n",
    "# (ksd, wd, cd - 통계적 거리 기반, S8/S9로 productline 결측치 대체)\n",
    "pd.concat([df.groupby(['BuyItNow', 'productline_imputed', 'sold'])['startprice'].mean(),\n",
    "           df.groupby(['BuyItNow', 'productline_imputed', 'sold'])['startprice'].std()],\n",
    "           axis=1)"
   ]
  },
  {
   "cell_type": "code",
   "execution_count": 5,
   "id": "guilty-consultation",
   "metadata": {
    "collapsed": true
   },
   "outputs": [
    {
     "data": {
      "text/html": [
       "<div>\n",
       "<style scoped>\n",
       "    .dataframe tbody tr th:only-of-type {\n",
       "        vertical-align: middle;\n",
       "    }\n",
       "\n",
       "    .dataframe tbody tr th {\n",
       "        vertical-align: top;\n",
       "    }\n",
       "\n",
       "    .dataframe thead th {\n",
       "        text-align: right;\n",
       "    }\n",
       "</style>\n",
       "<table border=\"1\" class=\"dataframe\">\n",
       "  <thead>\n",
       "    <tr style=\"text-align: right;\">\n",
       "      <th></th>\n",
       "      <th></th>\n",
       "      <th></th>\n",
       "      <th>startprice</th>\n",
       "      <th>startprice</th>\n",
       "    </tr>\n",
       "    <tr>\n",
       "      <th>BuyItNow</th>\n",
       "      <th>productline_imputed2</th>\n",
       "      <th>sold</th>\n",
       "      <th></th>\n",
       "      <th></th>\n",
       "    </tr>\n",
       "  </thead>\n",
       "  <tbody>\n",
       "    <tr>\n",
       "      <th rowspan=\"14\" valign=\"top\">0</th>\n",
       "      <th rowspan=\"2\" valign=\"top\">Galaxy_Note10</th>\n",
       "      <th>0</th>\n",
       "      <td>468.784540</td>\n",
       "      <td>151.063692</td>\n",
       "    </tr>\n",
       "    <tr>\n",
       "      <th>1</th>\n",
       "      <td>400.213243</td>\n",
       "      <td>126.137797</td>\n",
       "    </tr>\n",
       "    <tr>\n",
       "      <th rowspan=\"2\" valign=\"top\">Galaxy_Note8</th>\n",
       "      <th>0</th>\n",
       "      <td>258.026102</td>\n",
       "      <td>115.545331</td>\n",
       "    </tr>\n",
       "    <tr>\n",
       "      <th>1</th>\n",
       "      <td>198.411765</td>\n",
       "      <td>57.352077</td>\n",
       "    </tr>\n",
       "    <tr>\n",
       "      <th rowspan=\"2\" valign=\"top\">Galaxy_Note9</th>\n",
       "      <th>0</th>\n",
       "      <td>317.981957</td>\n",
       "      <td>90.610241</td>\n",
       "    </tr>\n",
       "    <tr>\n",
       "      <th>1</th>\n",
       "      <td>325.262000</td>\n",
       "      <td>101.825963</td>\n",
       "    </tr>\n",
       "    <tr>\n",
       "      <th rowspan=\"2\" valign=\"top\">Galaxy_S10</th>\n",
       "      <th>0</th>\n",
       "      <td>211.758776</td>\n",
       "      <td>148.990959</td>\n",
       "    </tr>\n",
       "    <tr>\n",
       "      <th>1</th>\n",
       "      <td>243.239310</td>\n",
       "      <td>161.738456</td>\n",
       "    </tr>\n",
       "    <tr>\n",
       "      <th rowspan=\"2\" valign=\"top\">Galaxy_S7</th>\n",
       "      <th>0</th>\n",
       "      <td>126.981750</td>\n",
       "      <td>55.854296</td>\n",
       "    </tr>\n",
       "    <tr>\n",
       "      <th>1</th>\n",
       "      <td>84.726897</td>\n",
       "      <td>43.005072</td>\n",
       "    </tr>\n",
       "    <tr>\n",
       "      <th rowspan=\"2\" valign=\"top\">Galaxy_S8</th>\n",
       "      <th>0</th>\n",
       "      <td>248.551759</td>\n",
       "      <td>126.225511</td>\n",
       "    </tr>\n",
       "    <tr>\n",
       "      <th>1</th>\n",
       "      <td>182.019697</td>\n",
       "      <td>67.573664</td>\n",
       "    </tr>\n",
       "    <tr>\n",
       "      <th rowspan=\"2\" valign=\"top\">Galaxy_S9</th>\n",
       "      <th>0</th>\n",
       "      <td>317.914054</td>\n",
       "      <td>106.673186</td>\n",
       "    </tr>\n",
       "    <tr>\n",
       "      <th>1</th>\n",
       "      <td>232.071053</td>\n",
       "      <td>79.149773</td>\n",
       "    </tr>\n",
       "    <tr>\n",
       "      <th rowspan=\"13\" valign=\"top\">1</th>\n",
       "      <th rowspan=\"2\" valign=\"top\">Galaxy_Note10</th>\n",
       "      <th>0</th>\n",
       "      <td>416.711071</td>\n",
       "      <td>157.272237</td>\n",
       "    </tr>\n",
       "    <tr>\n",
       "      <th>1</th>\n",
       "      <td>185.255179</td>\n",
       "      <td>163.210379</td>\n",
       "    </tr>\n",
       "    <tr>\n",
       "      <th rowspan=\"2\" valign=\"top\">Galaxy_Note8</th>\n",
       "      <th>0</th>\n",
       "      <td>198.855000</td>\n",
       "      <td>96.602136</td>\n",
       "    </tr>\n",
       "    <tr>\n",
       "      <th>1</th>\n",
       "      <td>88.213333</td>\n",
       "      <td>82.267983</td>\n",
       "    </tr>\n",
       "    <tr>\n",
       "      <th rowspan=\"2\" valign=\"top\">Galaxy_Note9</th>\n",
       "      <th>0</th>\n",
       "      <td>267.911667</td>\n",
       "      <td>96.447946</td>\n",
       "    </tr>\n",
       "    <tr>\n",
       "      <th>1</th>\n",
       "      <td>132.853824</td>\n",
       "      <td>96.252107</td>\n",
       "    </tr>\n",
       "    <tr>\n",
       "      <th>Galaxy_S10</th>\n",
       "      <th>1</th>\n",
       "      <td>62.843509</td>\n",
       "      <td>78.804124</td>\n",
       "    </tr>\n",
       "    <tr>\n",
       "      <th rowspan=\"2\" valign=\"top\">Galaxy_S7</th>\n",
       "      <th>0</th>\n",
       "      <td>122.860000</td>\n",
       "      <td>97.206543</td>\n",
       "    </tr>\n",
       "    <tr>\n",
       "      <th>1</th>\n",
       "      <td>39.506146</td>\n",
       "      <td>37.346137</td>\n",
       "    </tr>\n",
       "    <tr>\n",
       "      <th rowspan=\"2\" valign=\"top\">Galaxy_S8</th>\n",
       "      <th>0</th>\n",
       "      <td>191.691385</td>\n",
       "      <td>134.742764</td>\n",
       "    </tr>\n",
       "    <tr>\n",
       "      <th>1</th>\n",
       "      <td>67.622424</td>\n",
       "      <td>62.255231</td>\n",
       "    </tr>\n",
       "    <tr>\n",
       "      <th rowspan=\"2\" valign=\"top\">Galaxy_S9</th>\n",
       "      <th>0</th>\n",
       "      <td>236.517368</td>\n",
       "      <td>104.836709</td>\n",
       "    </tr>\n",
       "    <tr>\n",
       "      <th>1</th>\n",
       "      <td>89.381304</td>\n",
       "      <td>80.056522</td>\n",
       "    </tr>\n",
       "  </tbody>\n",
       "</table>\n",
       "</div>"
      ],
      "text/plain": [
       "                                    startprice  startprice\n",
       "BuyItNow productline_imputed2 sold                        \n",
       "0        Galaxy_Note10        0     468.784540  151.063692\n",
       "                              1     400.213243  126.137797\n",
       "         Galaxy_Note8         0     258.026102  115.545331\n",
       "                              1     198.411765   57.352077\n",
       "         Galaxy_Note9         0     317.981957   90.610241\n",
       "                              1     325.262000  101.825963\n",
       "         Galaxy_S10           0     211.758776  148.990959\n",
       "                              1     243.239310  161.738456\n",
       "         Galaxy_S7            0     126.981750   55.854296\n",
       "                              1      84.726897   43.005072\n",
       "         Galaxy_S8            0     248.551759  126.225511\n",
       "                              1     182.019697   67.573664\n",
       "         Galaxy_S9            0     317.914054  106.673186\n",
       "                              1     232.071053   79.149773\n",
       "1        Galaxy_Note10        0     416.711071  157.272237\n",
       "                              1     185.255179  163.210379\n",
       "         Galaxy_Note8         0     198.855000   96.602136\n",
       "                              1      88.213333   82.267983\n",
       "         Galaxy_Note9         0     267.911667   96.447946\n",
       "                              1     132.853824   96.252107\n",
       "         Galaxy_S10           1      62.843509   78.804124\n",
       "         Galaxy_S7            0     122.860000   97.206543\n",
       "                              1      39.506146   37.346137\n",
       "         Galaxy_S8            0     191.691385  134.742764\n",
       "                              1      67.622424   62.255231\n",
       "         Galaxy_S9            0     236.517368  104.836709\n",
       "                              1      89.381304   80.056522"
      ]
     },
     "execution_count": 5,
     "metadata": {},
     "output_type": "execute_result"
    }
   ],
   "source": [
    "# imputed version 2 \n",
    "# (ksd p-value 유의확률 기반, S10/S8로 productline 결측치 대체)\n",
    "pd.concat([df.groupby(['BuyItNow', 'productline_imputed2', 'sold'])['startprice'].mean(),\n",
    "           df.groupby(['BuyItNow', 'productline_imputed2', 'sold'])['startprice'].std()],\n",
    "           axis=1)"
   ]
  },
  {
   "cell_type": "code",
   "execution_count": null,
   "id": "aerial-jason",
   "metadata": {},
   "outputs": [],
   "source": []
  },
  {
   "cell_type": "code",
   "execution_count": null,
   "id": "cognitive-glucose",
   "metadata": {},
   "outputs": [],
   "source": []
  },
  {
   "cell_type": "markdown",
   "id": "destroyed-lodging",
   "metadata": {},
   "source": [
    "# outliers in startprice\n",
    "- 싯가 분포에서 멀리 떨어져 있는 상품들\n",
    "    - 급매? startprice가 매우 낮은 매물이 존재한다.\n",
    "    - startprice가 매우 낮은 매물은 **매우 높은 확률로** 낙찰."
   ]
  },
  {
   "cell_type": "code",
   "execution_count": 9,
   "id": "random-roulette",
   "metadata": {},
   "outputs": [
    {
     "data": {
      "text/plain": [
       "(159, 0.949685534591195)"
      ]
     },
     "execution_count": 9,
     "metadata": {},
     "output_type": "execute_result"
    }
   ],
   "source": [
    "len(df[df['startprice']<10]), df[df['startprice']<10]['sold'].mean()"
   ]
  },
  {
   "cell_type": "code",
   "execution_count": 8,
   "id": "available-maintenance",
   "metadata": {},
   "outputs": [
    {
     "data": {
      "text/plain": [
       "(207, 0.9033816425120773)"
      ]
     },
     "execution_count": 8,
     "metadata": {},
     "output_type": "execute_result"
    }
   ],
   "source": [
    "len(df[df['startprice']<30]), df[df['startprice']<30]['sold'].mean()"
   ]
  },
  {
   "cell_type": "code",
   "execution_count": 10,
   "id": "cardiovascular-senior",
   "metadata": {},
   "outputs": [
    {
     "data": {
      "text/plain": [
       "(252, 0.9033816425120773)"
      ]
     },
     "execution_count": 10,
     "metadata": {},
     "output_type": "execute_result"
    }
   ],
   "source": [
    "len(df[df['startprice']<50]), df[df['startprice']<30]['sold'].mean()"
   ]
  },
  {
   "cell_type": "code",
   "execution_count": 11,
   "id": "inappropriate-demonstration",
   "metadata": {},
   "outputs": [
    {
     "data": {
      "text/plain": [
       "(381, 0.8320209973753281)"
      ]
     },
     "execution_count": 11,
     "metadata": {},
     "output_type": "execute_result"
    }
   ],
   "source": [
    "len(df[df['startprice']<85]), df[df['startprice']<85]['sold'].mean()"
   ]
  },
  {
   "cell_type": "code",
   "execution_count": null,
   "id": "minus-cooperation",
   "metadata": {},
   "outputs": [],
   "source": []
  },
  {
   "cell_type": "markdown",
   "id": "palestinian-bargain",
   "metadata": {},
   "source": [
    "#### 어디까지가 '후려친 가격'인가?"
   ]
  },
  {
   "cell_type": "code",
   "execution_count": 16,
   "id": "psychological-edinburgh",
   "metadata": {},
   "outputs": [
    {
     "data": {
      "text/plain": [
       "[<matplotlib.lines.Line2D at 0x103c16310>]"
      ]
     },
     "execution_count": 16,
     "metadata": {},
     "output_type": "execute_result"
    },
    {
     "data": {
      "image/png": "[encoded data removed]",
      "text/plain": [
       "<Figure size 432x288 with 1 Axes>"
      ]
     },
     "metadata": {
      "needs_background": "light"
     },
     "output_type": "display_data"
    }
   ],
   "source": [
    "plt.plot([df[df['startprice']<i]['sold'].mean() for i in range(1, 1001)])"
   ]
  },
  {
   "cell_type": "code",
   "execution_count": null,
   "id": "laughing-contents",
   "metadata": {},
   "outputs": [],
   "source": []
  },
  {
   "cell_type": "code",
   "execution_count": null,
   "id": "cross-asian",
   "metadata": {},
   "outputs": [],
   "source": []
  },
  {
   "cell_type": "code",
   "execution_count": null,
   "id": "sublime-flesh",
   "metadata": {},
   "outputs": [],
   "source": []
  },
  {
   "cell_type": "markdown",
   "id": "sitting-chocolate",
   "metadata": {},
   "source": [
    "# MissForest ?!\n",
    "- 원본 df에서 label encoding만 해주고\n",
    "- NaN 포함된 feature(color-NaN, carrier-NaN, productline-Unknown)\n",
    "    - 그대로 살려놓은 상태에서 통째로 넣고 돌리기"
   ]
  },
  {
   "cell_type": "code",
   "execution_count": null,
   "id": "preliminary-latin",
   "metadata": {},
   "outputs": [],
   "source": [
    "from missingpy import MissForest"
   ]
  },
  {
   "cell_type": "code",
   "execution_count": null,
   "id": "premier-pottery",
   "metadata": {},
   "outputs": [],
   "source": []
  },
  {
   "cell_type": "code",
   "execution_count": null,
   "id": "proud-exemption",
   "metadata": {},
   "outputs": [],
   "source": []
  },
  {
   "cell_type": "code",
   "execution_count": null,
   "id": "horizontal-scoop",
   "metadata": {},
   "outputs": [],
   "source": []
  },
  {
   "cell_type": "code",
   "execution_count": null,
   "id": "featured-revelation",
   "metadata": {},
   "outputs": [],
   "source": []
  }
 ],
 "metadata": {
  "kernelspec": {
   "display_name": "Python 3",
   "language": "python",
   "name": "python3"
  },
  "language_info": {
   "codemirror_mode": {
    "name": "ipython",
    "version": 3
   },
   "file_extension": ".py",
   "mimetype": "text/x-python",
   "name": "python",
   "nbconvert_exporter": "python",
   "pygments_lexer": "ipython3",
   "version": "3.7.9"
  }
 },
 "nbformat": 4,
 "nbformat_minor": 5
}
